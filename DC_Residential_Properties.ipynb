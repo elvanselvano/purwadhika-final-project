{
  "nbformat": 4,
  "nbformat_minor": 0,
  "metadata": {
    "colab": {
      "name": "DC Residential Properties.ipynb",
      "provenance": [],
      "collapsed_sections": []
    },
    "kernelspec": {
      "name": "python3",
      "display_name": "Python 3"
    },
    "language_info": {
      "name": "python"
    }
  },
  "cells": [
    {
      "cell_type": "code",
      "metadata": {
        "id": "55rdhQuuObYS"
      },
      "source": [
        "import pandas as pd\n",
        "import numpy as np\n",
        "import matplotlib.pyplot as plt\n",
        "import seaborn as sns\n",
        "from sklearn.model_selection import train_test_split, GridSearchCV, RandomizedSearchCV, cross_val_score\n",
        "from sklearn.preprocessing import StandardScaler, OneHotEncoder, MinMaxScaler, RobustScaler, OrdinalEncoder\n",
        "from sklearn.compose import ColumnTransformer, make_column_transformer\n",
        "from sklearn.pipeline import make_pipeline\n",
        "from sklearn.metrics import silhouette_score, mean_squared_error, r2_score\n",
        "from sklearn.cluster import KMeans, DBSCAN\n",
        "from sklearn.feature_selection import SelectPercentile, SelectKBest\n",
        "from sklearn.linear_model import LinearRegression, Ridge, Lasso, LogisticRegression\n",
        "from sklearn.tree import DecisionTreeRegressor\n",
        "from sklearn.svm import SVR\n",
        "from sklearn.ensemble import RandomForestRegressor"
      ],
      "execution_count": 1,
      "outputs": []
    },
    {
      "cell_type": "code",
      "metadata": {
        "colab": {
          "base_uri": "https://localhost:8080/"
        },
        "id": "s5MkvDdEOkr5",
        "outputId": "4e5bf585-53d7-45bf-d422-59d5ee0c28c4"
      },
      "source": [
        "from google.colab import drive\n",
        "drive.mount('/content/drive')"
      ],
      "execution_count": 3,
      "outputs": [
        {
          "output_type": "stream",
          "text": [
            "Mounted at /content/drive\n"
          ],
          "name": "stdout"
        }
      ]
    },
    {
      "cell_type": "code",
      "metadata": {
        "colab": {
          "base_uri": "https://localhost:8080/"
        },
        "id": "kqIdcp9kXnyu",
        "outputId": "b09d09c1-5679-4bde-c92a-ee0b0159dd21"
      },
      "source": [
        "df = pd.read_csv('/content/drive/MyDrive/Purwadhika - Final Project/DC_Properties.csv', index_col=0)"
      ],
      "execution_count": 4,
      "outputs": [
        {
          "output_type": "stream",
          "text": [
            "/usr/local/lib/python3.7/dist-packages/IPython/core/interactiveshell.py:2718: DtypeWarning: Columns (18,19,20,21,22,23,24,33,34,35,37,43,45) have mixed types.Specify dtype option on import or set low_memory=False.\n",
            "  interactivity=interactivity, compiler=compiler, result=result)\n"
          ],
          "name": "stderr"
        }
      ]
    },
    {
      "cell_type": "markdown",
      "metadata": {
        "id": "9USTFrSFYjfx"
      },
      "source": [
        "# Data Understanding"
      ]
    },
    {
      "cell_type": "code",
      "metadata": {
        "colab": {
          "base_uri": "https://localhost:8080/",
          "height": 394
        },
        "id": "OHsUTq0tYHG5",
        "outputId": "db0831e2-0900-4b68-e884-1490c2fcbcbd"
      },
      "source": [
        "df.head()"
      ],
      "execution_count": 5,
      "outputs": [
        {
          "output_type": "execute_result",
          "data": {
            "text/html": [
              "<div>\n",
              "<style scoped>\n",
              "    .dataframe tbody tr th:only-of-type {\n",
              "        vertical-align: middle;\n",
              "    }\n",
              "\n",
              "    .dataframe tbody tr th {\n",
              "        vertical-align: top;\n",
              "    }\n",
              "\n",
              "    .dataframe thead th {\n",
              "        text-align: right;\n",
              "    }\n",
              "</style>\n",
              "<table border=\"1\" class=\"dataframe\">\n",
              "  <thead>\n",
              "    <tr style=\"text-align: right;\">\n",
              "      <th></th>\n",
              "      <th>BATHRM</th>\n",
              "      <th>HF_BATHRM</th>\n",
              "      <th>HEAT</th>\n",
              "      <th>AC</th>\n",
              "      <th>NUM_UNITS</th>\n",
              "      <th>ROOMS</th>\n",
              "      <th>BEDRM</th>\n",
              "      <th>AYB</th>\n",
              "      <th>YR_RMDL</th>\n",
              "      <th>EYB</th>\n",
              "      <th>STORIES</th>\n",
              "      <th>SALEDATE</th>\n",
              "      <th>PRICE</th>\n",
              "      <th>QUALIFIED</th>\n",
              "      <th>SALE_NUM</th>\n",
              "      <th>GBA</th>\n",
              "      <th>BLDG_NUM</th>\n",
              "      <th>STYLE</th>\n",
              "      <th>STRUCT</th>\n",
              "      <th>GRADE</th>\n",
              "      <th>CNDTN</th>\n",
              "      <th>EXTWALL</th>\n",
              "      <th>ROOF</th>\n",
              "      <th>INTWALL</th>\n",
              "      <th>KITCHENS</th>\n",
              "      <th>FIREPLACES</th>\n",
              "      <th>USECODE</th>\n",
              "      <th>LANDAREA</th>\n",
              "      <th>GIS_LAST_MOD_DTTM</th>\n",
              "      <th>SOURCE</th>\n",
              "      <th>CMPLX_NUM</th>\n",
              "      <th>LIVING_GBA</th>\n",
              "      <th>FULLADDRESS</th>\n",
              "      <th>CITY</th>\n",
              "      <th>STATE</th>\n",
              "      <th>ZIPCODE</th>\n",
              "      <th>NATIONALGRID</th>\n",
              "      <th>LATITUDE</th>\n",
              "      <th>LONGITUDE</th>\n",
              "      <th>ASSESSMENT_NBHD</th>\n",
              "      <th>ASSESSMENT_SUBNBHD</th>\n",
              "      <th>CENSUS_TRACT</th>\n",
              "      <th>CENSUS_BLOCK</th>\n",
              "      <th>WARD</th>\n",
              "      <th>SQUARE</th>\n",
              "      <th>X</th>\n",
              "      <th>Y</th>\n",
              "      <th>QUADRANT</th>\n",
              "    </tr>\n",
              "  </thead>\n",
              "  <tbody>\n",
              "    <tr>\n",
              "      <th>0</th>\n",
              "      <td>4</td>\n",
              "      <td>0</td>\n",
              "      <td>Warm Cool</td>\n",
              "      <td>Y</td>\n",
              "      <td>2.0</td>\n",
              "      <td>8</td>\n",
              "      <td>4</td>\n",
              "      <td>1910.0</td>\n",
              "      <td>1988.0</td>\n",
              "      <td>1972</td>\n",
              "      <td>3.0</td>\n",
              "      <td>2003-11-25 00:00:00</td>\n",
              "      <td>1095000.0</td>\n",
              "      <td>Q</td>\n",
              "      <td>1</td>\n",
              "      <td>2522.0</td>\n",
              "      <td>1</td>\n",
              "      <td>3 Story</td>\n",
              "      <td>Row Inside</td>\n",
              "      <td>Very Good</td>\n",
              "      <td>Good</td>\n",
              "      <td>Common Brick</td>\n",
              "      <td>Metal- Sms</td>\n",
              "      <td>Hardwood</td>\n",
              "      <td>2.0</td>\n",
              "      <td>5</td>\n",
              "      <td>24</td>\n",
              "      <td>1680</td>\n",
              "      <td>2018-07-22 18:01:43</td>\n",
              "      <td>Residential</td>\n",
              "      <td>NaN</td>\n",
              "      <td>NaN</td>\n",
              "      <td>1748 SWANN STREET NW</td>\n",
              "      <td>WASHINGTON</td>\n",
              "      <td>DC</td>\n",
              "      <td>20009.0</td>\n",
              "      <td>18S UJ 23061 09289</td>\n",
              "      <td>38.914680</td>\n",
              "      <td>-77.040832</td>\n",
              "      <td>Old City 2</td>\n",
              "      <td>040 D Old City 2</td>\n",
              "      <td>4201.0</td>\n",
              "      <td>004201 2006</td>\n",
              "      <td>Ward 2</td>\n",
              "      <td>152</td>\n",
              "      <td>-77.040429</td>\n",
              "      <td>38.914881</td>\n",
              "      <td>NW</td>\n",
              "    </tr>\n",
              "    <tr>\n",
              "      <th>1</th>\n",
              "      <td>3</td>\n",
              "      <td>1</td>\n",
              "      <td>Warm Cool</td>\n",
              "      <td>Y</td>\n",
              "      <td>2.0</td>\n",
              "      <td>11</td>\n",
              "      <td>5</td>\n",
              "      <td>1898.0</td>\n",
              "      <td>2007.0</td>\n",
              "      <td>1972</td>\n",
              "      <td>3.0</td>\n",
              "      <td>2000-08-17 00:00:00</td>\n",
              "      <td>NaN</td>\n",
              "      <td>U</td>\n",
              "      <td>1</td>\n",
              "      <td>2567.0</td>\n",
              "      <td>1</td>\n",
              "      <td>3 Story</td>\n",
              "      <td>Row Inside</td>\n",
              "      <td>Very Good</td>\n",
              "      <td>Good</td>\n",
              "      <td>Common Brick</td>\n",
              "      <td>Built Up</td>\n",
              "      <td>Hardwood</td>\n",
              "      <td>2.0</td>\n",
              "      <td>4</td>\n",
              "      <td>24</td>\n",
              "      <td>1680</td>\n",
              "      <td>2018-07-22 18:01:43</td>\n",
              "      <td>Residential</td>\n",
              "      <td>NaN</td>\n",
              "      <td>NaN</td>\n",
              "      <td>1746 SWANN STREET NW</td>\n",
              "      <td>WASHINGTON</td>\n",
              "      <td>DC</td>\n",
              "      <td>20009.0</td>\n",
              "      <td>18S UJ 23067 09289</td>\n",
              "      <td>38.914683</td>\n",
              "      <td>-77.040764</td>\n",
              "      <td>Old City 2</td>\n",
              "      <td>040 D Old City 2</td>\n",
              "      <td>4201.0</td>\n",
              "      <td>004201 2006</td>\n",
              "      <td>Ward 2</td>\n",
              "      <td>152</td>\n",
              "      <td>-77.040429</td>\n",
              "      <td>38.914881</td>\n",
              "      <td>NW</td>\n",
              "    </tr>\n",
              "    <tr>\n",
              "      <th>2</th>\n",
              "      <td>3</td>\n",
              "      <td>1</td>\n",
              "      <td>Hot Water Rad</td>\n",
              "      <td>Y</td>\n",
              "      <td>2.0</td>\n",
              "      <td>9</td>\n",
              "      <td>5</td>\n",
              "      <td>1910.0</td>\n",
              "      <td>2009.0</td>\n",
              "      <td>1984</td>\n",
              "      <td>3.0</td>\n",
              "      <td>2016-06-21 00:00:00</td>\n",
              "      <td>2100000.0</td>\n",
              "      <td>Q</td>\n",
              "      <td>3</td>\n",
              "      <td>2522.0</td>\n",
              "      <td>1</td>\n",
              "      <td>3 Story</td>\n",
              "      <td>Row Inside</td>\n",
              "      <td>Very Good</td>\n",
              "      <td>Very Good</td>\n",
              "      <td>Common Brick</td>\n",
              "      <td>Built Up</td>\n",
              "      <td>Hardwood</td>\n",
              "      <td>2.0</td>\n",
              "      <td>4</td>\n",
              "      <td>24</td>\n",
              "      <td>1680</td>\n",
              "      <td>2018-07-22 18:01:43</td>\n",
              "      <td>Residential</td>\n",
              "      <td>NaN</td>\n",
              "      <td>NaN</td>\n",
              "      <td>1744 SWANN STREET NW</td>\n",
              "      <td>WASHINGTON</td>\n",
              "      <td>DC</td>\n",
              "      <td>20009.0</td>\n",
              "      <td>18S UJ 23074 09289</td>\n",
              "      <td>38.914684</td>\n",
              "      <td>-77.040678</td>\n",
              "      <td>Old City 2</td>\n",
              "      <td>040 D Old City 2</td>\n",
              "      <td>4201.0</td>\n",
              "      <td>004201 2006</td>\n",
              "      <td>Ward 2</td>\n",
              "      <td>152</td>\n",
              "      <td>-77.040429</td>\n",
              "      <td>38.914881</td>\n",
              "      <td>NW</td>\n",
              "    </tr>\n",
              "    <tr>\n",
              "      <th>3</th>\n",
              "      <td>3</td>\n",
              "      <td>1</td>\n",
              "      <td>Hot Water Rad</td>\n",
              "      <td>Y</td>\n",
              "      <td>2.0</td>\n",
              "      <td>8</td>\n",
              "      <td>5</td>\n",
              "      <td>1900.0</td>\n",
              "      <td>2003.0</td>\n",
              "      <td>1984</td>\n",
              "      <td>3.0</td>\n",
              "      <td>2006-07-12 00:00:00</td>\n",
              "      <td>1602000.0</td>\n",
              "      <td>Q</td>\n",
              "      <td>1</td>\n",
              "      <td>2484.0</td>\n",
              "      <td>1</td>\n",
              "      <td>3 Story</td>\n",
              "      <td>Row Inside</td>\n",
              "      <td>Very Good</td>\n",
              "      <td>Good</td>\n",
              "      <td>Common Brick</td>\n",
              "      <td>Built Up</td>\n",
              "      <td>Hardwood</td>\n",
              "      <td>2.0</td>\n",
              "      <td>3</td>\n",
              "      <td>24</td>\n",
              "      <td>1680</td>\n",
              "      <td>2018-07-22 18:01:43</td>\n",
              "      <td>Residential</td>\n",
              "      <td>NaN</td>\n",
              "      <td>NaN</td>\n",
              "      <td>1742 SWANN STREET NW</td>\n",
              "      <td>WASHINGTON</td>\n",
              "      <td>DC</td>\n",
              "      <td>20009.0</td>\n",
              "      <td>18S UJ 23078 09288</td>\n",
              "      <td>38.914683</td>\n",
              "      <td>-77.040629</td>\n",
              "      <td>Old City 2</td>\n",
              "      <td>040 D Old City 2</td>\n",
              "      <td>4201.0</td>\n",
              "      <td>004201 2006</td>\n",
              "      <td>Ward 2</td>\n",
              "      <td>152</td>\n",
              "      <td>-77.040429</td>\n",
              "      <td>38.914881</td>\n",
              "      <td>NW</td>\n",
              "    </tr>\n",
              "    <tr>\n",
              "      <th>4</th>\n",
              "      <td>2</td>\n",
              "      <td>1</td>\n",
              "      <td>Warm Cool</td>\n",
              "      <td>Y</td>\n",
              "      <td>1.0</td>\n",
              "      <td>11</td>\n",
              "      <td>3</td>\n",
              "      <td>1913.0</td>\n",
              "      <td>2012.0</td>\n",
              "      <td>1985</td>\n",
              "      <td>3.0</td>\n",
              "      <td>NaN</td>\n",
              "      <td>NaN</td>\n",
              "      <td>U</td>\n",
              "      <td>1</td>\n",
              "      <td>5255.0</td>\n",
              "      <td>1</td>\n",
              "      <td>3 Story</td>\n",
              "      <td>Semi-Detached</td>\n",
              "      <td>Very Good</td>\n",
              "      <td>Good</td>\n",
              "      <td>Common Brick</td>\n",
              "      <td>Neopren</td>\n",
              "      <td>Hardwood</td>\n",
              "      <td>1.0</td>\n",
              "      <td>0</td>\n",
              "      <td>13</td>\n",
              "      <td>2032</td>\n",
              "      <td>2018-07-22 18:01:43</td>\n",
              "      <td>Residential</td>\n",
              "      <td>NaN</td>\n",
              "      <td>NaN</td>\n",
              "      <td>1804 NEW HAMPSHIRE AVENUE NW</td>\n",
              "      <td>WASHINGTON</td>\n",
              "      <td>DC</td>\n",
              "      <td>20009.0</td>\n",
              "      <td>18S UJ 23188 09253</td>\n",
              "      <td>38.914383</td>\n",
              "      <td>-77.039361</td>\n",
              "      <td>Old City 2</td>\n",
              "      <td>040 D Old City 2</td>\n",
              "      <td>4201.0</td>\n",
              "      <td>004201 2006</td>\n",
              "      <td>Ward 2</td>\n",
              "      <td>152</td>\n",
              "      <td>-77.040429</td>\n",
              "      <td>38.914881</td>\n",
              "      <td>NW</td>\n",
              "    </tr>\n",
              "  </tbody>\n",
              "</table>\n",
              "</div>"
            ],
            "text/plain": [
              "   BATHRM  HF_BATHRM           HEAT AC  ...  SQUARE          X          Y  QUADRANT\n",
              "0       4          0      Warm Cool  Y  ...     152 -77.040429  38.914881        NW\n",
              "1       3          1      Warm Cool  Y  ...     152 -77.040429  38.914881        NW\n",
              "2       3          1  Hot Water Rad  Y  ...     152 -77.040429  38.914881        NW\n",
              "3       3          1  Hot Water Rad  Y  ...     152 -77.040429  38.914881        NW\n",
              "4       2          1      Warm Cool  Y  ...     152 -77.040429  38.914881        NW\n",
              "\n",
              "[5 rows x 48 columns]"
            ]
          },
          "metadata": {
            "tags": []
          },
          "execution_count": 5
        }
      ]
    },
    {
      "cell_type": "code",
      "metadata": {
        "colab": {
          "base_uri": "https://localhost:8080/"
        },
        "id": "DlEBg7-rYUqZ",
        "outputId": "fae855ea-88e0-4bae-a6b6-ae55ab8b042a"
      },
      "source": [
        "df.shape"
      ],
      "execution_count": 7,
      "outputs": [
        {
          "output_type": "execute_result",
          "data": {
            "text/plain": [
              "(158957, 48)"
            ]
          },
          "metadata": {
            "tags": []
          },
          "execution_count": 7
        }
      ]
    },
    {
      "cell_type": "code",
      "metadata": {
        "colab": {
          "base_uri": "https://localhost:8080/"
        },
        "id": "WU7S3xg7ZVtz",
        "outputId": "26955665-d40c-4b6c-d34c-b70f428e03a9"
      },
      "source": [
        "df.info()"
      ],
      "execution_count": 10,
      "outputs": [
        {
          "output_type": "stream",
          "text": [
            "<class 'pandas.core.frame.DataFrame'>\n",
            "Int64Index: 158957 entries, 0 to 158956\n",
            "Data columns (total 48 columns):\n",
            " #   Column              Non-Null Count   Dtype  \n",
            "---  ------              --------------   -----  \n",
            " 0   BATHRM              158957 non-null  int64  \n",
            " 1   HF_BATHRM           158957 non-null  int64  \n",
            " 2   HEAT                158957 non-null  object \n",
            " 3   AC                  158957 non-null  object \n",
            " 4   NUM_UNITS           106696 non-null  float64\n",
            " 5   ROOMS               158957 non-null  int64  \n",
            " 6   BEDRM               158957 non-null  int64  \n",
            " 7   AYB                 158686 non-null  float64\n",
            " 8   YR_RMDL             80928 non-null   float64\n",
            " 9   EYB                 158957 non-null  int64  \n",
            " 10  STORIES             106652 non-null  float64\n",
            " 11  SALEDATE            132187 non-null  object \n",
            " 12  PRICE               98216 non-null   float64\n",
            " 13  QUALIFIED           158957 non-null  object \n",
            " 14  SALE_NUM            158957 non-null  int64  \n",
            " 15  GBA                 106696 non-null  float64\n",
            " 16  BLDG_NUM            158957 non-null  int64  \n",
            " 17  STYLE               106696 non-null  object \n",
            " 18  STRUCT              106696 non-null  object \n",
            " 19  GRADE               106696 non-null  object \n",
            " 20  CNDTN               106696 non-null  object \n",
            " 21  EXTWALL             106696 non-null  object \n",
            " 22  ROOF                106696 non-null  object \n",
            " 23  INTWALL             106696 non-null  object \n",
            " 24  KITCHENS            106695 non-null  float64\n",
            " 25  FIREPLACES          158957 non-null  int64  \n",
            " 26  USECODE             158957 non-null  int64  \n",
            " 27  LANDAREA            158957 non-null  int64  \n",
            " 28  GIS_LAST_MOD_DTTM   158957 non-null  object \n",
            " 29  SOURCE              158957 non-null  object \n",
            " 30  CMPLX_NUM           52261 non-null   float64\n",
            " 31  LIVING_GBA          52261 non-null   float64\n",
            " 32  FULLADDRESS         106040 non-null  object \n",
            " 33  CITY                106051 non-null  object \n",
            " 34  STATE               106051 non-null  object \n",
            " 35  ZIPCODE             158956 non-null  float64\n",
            " 36  NATIONALGRID        106051 non-null  object \n",
            " 37  LATITUDE            158956 non-null  float64\n",
            " 38  LONGITUDE           158956 non-null  float64\n",
            " 39  ASSESSMENT_NBHD     158956 non-null  object \n",
            " 40  ASSESSMENT_SUBNBHD  126406 non-null  object \n",
            " 41  CENSUS_TRACT        158956 non-null  float64\n",
            " 42  CENSUS_BLOCK        106051 non-null  object \n",
            " 43  WARD                158956 non-null  object \n",
            " 44  SQUARE              158957 non-null  object \n",
            " 45  X                   158720 non-null  float64\n",
            " 46  Y                   158720 non-null  float64\n",
            " 47  QUADRANT            158720 non-null  object \n",
            "dtypes: float64(15), int64(10), object(23)\n",
            "memory usage: 59.4+ MB\n"
          ],
          "name": "stdout"
        }
      ]
    },
    {
      "cell_type": "markdown",
      "metadata": {
        "id": "J51L-5ryqKNM"
      },
      "source": [
        "Feature Description"
      ]
    },
    {
      "cell_type": "code",
      "metadata": {
        "id": "WgtKeyK0nXrn"
      },
      "source": [
        "desc = pd.read_excel('/content/drive/MyDrive/Purwadhika - Final Project/Data Description.xlsx')"
      ],
      "execution_count": 117,
      "outputs": []
    },
    {
      "cell_type": "code",
      "metadata": {
        "colab": {
          "base_uri": "https://localhost:8080/",
          "height": 1000
        },
        "id": "fSxSzyi_p9xi",
        "outputId": "f4fa0c2e-dab8-45ec-a586-53483ccc0c61"
      },
      "source": [
        "desc"
      ],
      "execution_count": 118,
      "outputs": [
        {
          "output_type": "execute_result",
          "data": {
            "text/html": [
              "<div>\n",
              "<style scoped>\n",
              "    .dataframe tbody tr th:only-of-type {\n",
              "        vertical-align: middle;\n",
              "    }\n",
              "\n",
              "    .dataframe tbody tr th {\n",
              "        vertical-align: top;\n",
              "    }\n",
              "\n",
              "    .dataframe thead th {\n",
              "        text-align: right;\n",
              "    }\n",
              "</style>\n",
              "<table border=\"1\" class=\"dataframe\">\n",
              "  <thead>\n",
              "    <tr style=\"text-align: right;\">\n",
              "      <th></th>\n",
              "      <th>Feature</th>\n",
              "      <th>Data Type</th>\n",
              "      <th>Description</th>\n",
              "    </tr>\n",
              "  </thead>\n",
              "  <tbody>\n",
              "    <tr>\n",
              "      <th>0</th>\n",
              "      <td>BATHRM</td>\n",
              "      <td>int64</td>\n",
              "      <td>Number of bathroom</td>\n",
              "    </tr>\n",
              "    <tr>\n",
              "      <th>1</th>\n",
              "      <td>HF_BATHRM</td>\n",
              "      <td>int64</td>\n",
              "      <td>Number of half bathroom (no bathtub or shower)</td>\n",
              "    </tr>\n",
              "    <tr>\n",
              "      <th>2</th>\n",
              "      <td>HEAT</td>\n",
              "      <td>object</td>\n",
              "      <td>Heating type</td>\n",
              "    </tr>\n",
              "    <tr>\n",
              "      <th>3</th>\n",
              "      <td>AC</td>\n",
              "      <td>object</td>\n",
              "      <td>Has AC? (Y/N)</td>\n",
              "    </tr>\n",
              "    <tr>\n",
              "      <th>4</th>\n",
              "      <td>NUM_UNITS</td>\n",
              "      <td>float64</td>\n",
              "      <td>Number of units</td>\n",
              "    </tr>\n",
              "    <tr>\n",
              "      <th>5</th>\n",
              "      <td>ROOMS</td>\n",
              "      <td>int64</td>\n",
              "      <td>Number of rooms</td>\n",
              "    </tr>\n",
              "    <tr>\n",
              "      <th>6</th>\n",
              "      <td>BEDRM</td>\n",
              "      <td>int64</td>\n",
              "      <td>Number of bedroom</td>\n",
              "    </tr>\n",
              "    <tr>\n",
              "      <th>7</th>\n",
              "      <td>AYB</td>\n",
              "      <td>float64</td>\n",
              "      <td>The earliest time the main portion of the buil...</td>\n",
              "    </tr>\n",
              "    <tr>\n",
              "      <th>8</th>\n",
              "      <td>YR_RMDL</td>\n",
              "      <td>float64</td>\n",
              "      <td>The year structure was remodeled</td>\n",
              "    </tr>\n",
              "    <tr>\n",
              "      <th>9</th>\n",
              "      <td>EYB</td>\n",
              "      <td>int64</td>\n",
              "      <td>The year an improvement was built more recent ...</td>\n",
              "    </tr>\n",
              "    <tr>\n",
              "      <th>10</th>\n",
              "      <td>STORIES</td>\n",
              "      <td>float64</td>\n",
              "      <td>Number of stories in primary dwelling</td>\n",
              "    </tr>\n",
              "    <tr>\n",
              "      <th>11</th>\n",
              "      <td>SALEDATE</td>\n",
              "      <td>object</td>\n",
              "      <td>Date of most recent sale</td>\n",
              "    </tr>\n",
              "    <tr>\n",
              "      <th>12</th>\n",
              "      <td>PRICE</td>\n",
              "      <td>float64</td>\n",
              "      <td>Price of most recent sale</td>\n",
              "    </tr>\n",
              "    <tr>\n",
              "      <th>13</th>\n",
              "      <td>QUALIFIED</td>\n",
              "      <td>object</td>\n",
              "      <td>Internally-used indicator to reflect if a sale...</td>\n",
              "    </tr>\n",
              "    <tr>\n",
              "      <th>14</th>\n",
              "      <td>SALE_NUM</td>\n",
              "      <td>int64</td>\n",
              "      <td>Number of time it's been sold since May 2014</td>\n",
              "    </tr>\n",
              "    <tr>\n",
              "      <th>15</th>\n",
              "      <td>GBA</td>\n",
              "      <td>float64</td>\n",
              "      <td>Gross building area in square feet</td>\n",
              "    </tr>\n",
              "    <tr>\n",
              "      <th>16</th>\n",
              "      <td>BLDG_NUM</td>\n",
              "      <td>int64</td>\n",
              "      <td>Building number on the property</td>\n",
              "    </tr>\n",
              "    <tr>\n",
              "      <th>17</th>\n",
              "      <td>STYLE</td>\n",
              "      <td>object</td>\n",
              "      <td>Type of story</td>\n",
              "    </tr>\n",
              "    <tr>\n",
              "      <th>18</th>\n",
              "      <td>STRUCT</td>\n",
              "      <td>object</td>\n",
              "      <td>Building structure</td>\n",
              "    </tr>\n",
              "    <tr>\n",
              "      <th>19</th>\n",
              "      <td>GRADE</td>\n",
              "      <td>object</td>\n",
              "      <td>Grade</td>\n",
              "    </tr>\n",
              "    <tr>\n",
              "      <th>20</th>\n",
              "      <td>CNDTN</td>\n",
              "      <td>object</td>\n",
              "      <td>Condition</td>\n",
              "    </tr>\n",
              "    <tr>\n",
              "      <th>21</th>\n",
              "      <td>EXTWALL</td>\n",
              "      <td>object</td>\n",
              "      <td>Exterior wall</td>\n",
              "    </tr>\n",
              "    <tr>\n",
              "      <th>22</th>\n",
              "      <td>ROOF</td>\n",
              "      <td>object</td>\n",
              "      <td>Roof type</td>\n",
              "    </tr>\n",
              "    <tr>\n",
              "      <th>23</th>\n",
              "      <td>INTWALL</td>\n",
              "      <td>object</td>\n",
              "      <td>Interior wall</td>\n",
              "    </tr>\n",
              "    <tr>\n",
              "      <th>24</th>\n",
              "      <td>KITCHENS</td>\n",
              "      <td>float64</td>\n",
              "      <td>Number of kitchens</td>\n",
              "    </tr>\n",
              "    <tr>\n",
              "      <th>25</th>\n",
              "      <td>FIREPLACES</td>\n",
              "      <td>int64</td>\n",
              "      <td>Number of fireplaces</td>\n",
              "    </tr>\n",
              "    <tr>\n",
              "      <th>26</th>\n",
              "      <td>USECODE</td>\n",
              "      <td>int64</td>\n",
              "      <td>Property use code type</td>\n",
              "    </tr>\n",
              "    <tr>\n",
              "      <th>27</th>\n",
              "      <td>LANDAREA</td>\n",
              "      <td>int64</td>\n",
              "      <td>Land area of property in square feet</td>\n",
              "    </tr>\n",
              "    <tr>\n",
              "      <th>28</th>\n",
              "      <td>GIS_LAST_MOD_DTTM</td>\n",
              "      <td>object</td>\n",
              "      <td>Last modified data</td>\n",
              "    </tr>\n",
              "    <tr>\n",
              "      <th>29</th>\n",
              "      <td>SOURCE</td>\n",
              "      <td>object</td>\n",
              "      <td>Raw data source</td>\n",
              "    </tr>\n",
              "    <tr>\n",
              "      <th>30</th>\n",
              "      <td>CMPLX_NUM</td>\n",
              "      <td>float64</td>\n",
              "      <td>Complex number</td>\n",
              "    </tr>\n",
              "    <tr>\n",
              "      <th>31</th>\n",
              "      <td>LIVING_GBA</td>\n",
              "      <td>float64</td>\n",
              "      <td>Gross building area in square feet</td>\n",
              "    </tr>\n",
              "    <tr>\n",
              "      <th>32</th>\n",
              "      <td>FULLADDRESS</td>\n",
              "      <td>object</td>\n",
              "      <td>Full street address</td>\n",
              "    </tr>\n",
              "    <tr>\n",
              "      <th>33</th>\n",
              "      <td>CITY</td>\n",
              "      <td>object</td>\n",
              "      <td>City</td>\n",
              "    </tr>\n",
              "    <tr>\n",
              "      <th>34</th>\n",
              "      <td>STATE</td>\n",
              "      <td>object</td>\n",
              "      <td>State</td>\n",
              "    </tr>\n",
              "    <tr>\n",
              "      <th>35</th>\n",
              "      <td>ZIPCODE</td>\n",
              "      <td>float64</td>\n",
              "      <td>Zipcode</td>\n",
              "    </tr>\n",
              "    <tr>\n",
              "      <th>36</th>\n",
              "      <td>NATIONALGRID</td>\n",
              "      <td>object</td>\n",
              "      <td>Address location national grid coordinate spat...</td>\n",
              "    </tr>\n",
              "    <tr>\n",
              "      <th>37</th>\n",
              "      <td>LATITUDE</td>\n",
              "      <td>float64</td>\n",
              "      <td>Latitude</td>\n",
              "    </tr>\n",
              "    <tr>\n",
              "      <th>38</th>\n",
              "      <td>LONGITUDE</td>\n",
              "      <td>float64</td>\n",
              "      <td>Longitude</td>\n",
              "    </tr>\n",
              "    <tr>\n",
              "      <th>39</th>\n",
              "      <td>ASSESSMENT_NBHD</td>\n",
              "      <td>object</td>\n",
              "      <td>Neighborhood ID</td>\n",
              "    </tr>\n",
              "    <tr>\n",
              "      <th>40</th>\n",
              "      <td>ASSESSMENT_SUBNBHD</td>\n",
              "      <td>object</td>\n",
              "      <td>Subneighborhood ID</td>\n",
              "    </tr>\n",
              "    <tr>\n",
              "      <th>41</th>\n",
              "      <td>CENSUS_TRACT</td>\n",
              "      <td>float64</td>\n",
              "      <td>Census tract</td>\n",
              "    </tr>\n",
              "    <tr>\n",
              "      <th>42</th>\n",
              "      <td>CENSUS_BLOCK</td>\n",
              "      <td>object</td>\n",
              "      <td>Census block</td>\n",
              "    </tr>\n",
              "    <tr>\n",
              "      <th>43</th>\n",
              "      <td>WARD</td>\n",
              "      <td>object</td>\n",
              "      <td>Ward (district is divided into eight wards, ea...</td>\n",
              "    </tr>\n",
              "    <tr>\n",
              "      <th>44</th>\n",
              "      <td>SQUARE</td>\n",
              "      <td>object</td>\n",
              "      <td>Square (SSL)</td>\n",
              "    </tr>\n",
              "    <tr>\n",
              "      <th>45</th>\n",
              "      <td>X</td>\n",
              "      <td>float64</td>\n",
              "      <td>Longitude</td>\n",
              "    </tr>\n",
              "    <tr>\n",
              "      <th>46</th>\n",
              "      <td>Y</td>\n",
              "      <td>float64</td>\n",
              "      <td>Latitude</td>\n",
              "    </tr>\n",
              "    <tr>\n",
              "      <th>47</th>\n",
              "      <td>QUADRANT</td>\n",
              "      <td>object</td>\n",
              "      <td>City quadrant (NE,SE,SW,NW)</td>\n",
              "    </tr>\n",
              "  </tbody>\n",
              "</table>\n",
              "</div>"
            ],
            "text/plain": [
              "               Feature  ...                                        Description\n",
              "0               BATHRM  ...                                 Number of bathroom\n",
              "1            HF_BATHRM  ...     Number of half bathroom (no bathtub or shower)\n",
              "2                 HEAT  ...                                       Heating type\n",
              "3                   AC  ...                                      Has AC? (Y/N)\n",
              "4            NUM_UNITS  ...                                    Number of units\n",
              "5                ROOMS  ...                                    Number of rooms\n",
              "6                BEDRM  ...                                  Number of bedroom\n",
              "7                  AYB  ...  The earliest time the main portion of the buil...\n",
              "8              YR_RMDL  ...                   The year structure was remodeled\n",
              "9                  EYB  ...  The year an improvement was built more recent ...\n",
              "10             STORIES  ...              Number of stories in primary dwelling\n",
              "11            SALEDATE  ...                           Date of most recent sale\n",
              "12               PRICE  ...                          Price of most recent sale\n",
              "13           QUALIFIED  ...  Internally-used indicator to reflect if a sale...\n",
              "14            SALE_NUM  ...       Number of time it's been sold since May 2014\n",
              "15                 GBA  ...                 Gross building area in square feet\n",
              "16            BLDG_NUM  ...                    Building number on the property\n",
              "17               STYLE  ...                                      Type of story\n",
              "18              STRUCT  ...                                 Building structure\n",
              "19               GRADE  ...                                              Grade\n",
              "20               CNDTN  ...                                          Condition\n",
              "21             EXTWALL  ...                                      Exterior wall\n",
              "22                ROOF  ...                                          Roof type\n",
              "23             INTWALL  ...                                      Interior wall\n",
              "24            KITCHENS  ...                                 Number of kitchens\n",
              "25          FIREPLACES  ...                               Number of fireplaces\n",
              "26             USECODE  ...                             Property use code type\n",
              "27            LANDAREA  ...               Land area of property in square feet\n",
              "28   GIS_LAST_MOD_DTTM  ...                                 Last modified data\n",
              "29              SOURCE  ...                                    Raw data source\n",
              "30           CMPLX_NUM  ...                                     Complex number\n",
              "31          LIVING_GBA  ...                 Gross building area in square feet\n",
              "32         FULLADDRESS  ...                                Full street address\n",
              "33                CITY  ...                                               City\n",
              "34               STATE  ...                                              State\n",
              "35             ZIPCODE  ...                                            Zipcode\n",
              "36        NATIONALGRID  ...  Address location national grid coordinate spat...\n",
              "37            LATITUDE  ...                                           Latitude\n",
              "38           LONGITUDE  ...                                          Longitude\n",
              "39     ASSESSMENT_NBHD  ...                                    Neighborhood ID\n",
              "40  ASSESSMENT_SUBNBHD  ...                                 Subneighborhood ID\n",
              "41        CENSUS_TRACT  ...                                       Census tract\n",
              "42        CENSUS_BLOCK  ...                                       Census block\n",
              "43                WARD  ...  Ward (district is divided into eight wards, ea...\n",
              "44              SQUARE  ...                                       Square (SSL)\n",
              "45                   X  ...                                          Longitude\n",
              "46                   Y  ...                                           Latitude\n",
              "47            QUADRANT  ...                        City quadrant (NE,SE,SW,NW)\n",
              "\n",
              "[48 rows x 3 columns]"
            ]
          },
          "metadata": {
            "tags": []
          },
          "execution_count": 118
        }
      ]
    },
    {
      "cell_type": "markdown",
      "metadata": {
        "id": "44W3aN-UqSUJ"
      },
      "source": [
        "Features of concern :\n",
        "- QUALIFIED : since it is an internally-used indicator to reflect if a sale is representative of market value, the unqualified value means the price can be mismatch\n",
        "- SALE_NUM : Just start to be collected in May 2014. Not apple to apple with the whole dataset\n",
        "- STORIES and STYLE basically represent similar values\n",
        "- GIS_LAST_MOD_DTTM and SOURCE tell about the data version and source. Does not have relation with price\n",
        "- GBA and LIVING GBA represent similar values\n",
        "- FULL ADDRESS is unique\n",
        "- LATITUDE with Y and  LONGITUDE with X is the same"
      ]
    },
    {
      "cell_type": "markdown",
      "metadata": {
        "id": "cwiOSSRTwH-L"
      },
      "source": [
        "# Exploratory Data Analysis"
      ]
    },
    {
      "cell_type": "markdown",
      "metadata": {
        "id": "UUVBfIinwsuq"
      },
      "source": [
        "Rooms"
      ]
    },
    {
      "cell_type": "code",
      "metadata": {
        "colab": {
          "base_uri": "https://localhost:8080/",
          "height": 613
        },
        "id": "_Fg0-1-n1I91",
        "outputId": "0b50fd97-4a0f-4f07-cbd1-015e74cde1a9"
      },
      "source": [
        "fig, ax = plt.subplots(2, 3, figsize=(20, 10))\n",
        "\n",
        "sns.countplot(data=df, x='BATHRM', color='skyblue', ax=ax[0, 0])\n",
        "sns.countplot(data=df, x='HF_BATHRM', color='skyblue', ax=ax[0, 1])\n",
        "sns.countplot(data=df, x='BEDRM', color='teal', ax=ax[0, 2])\n",
        "sns.countplot(data=df, x='KITCHENS', color='olive', ax=ax[1, 0])\n",
        "sns.countplot(data=df, x='ROOMS', color='red', ax=ax[1, 1])\n",
        "sns.countplot(data=df, x='NUM_UNITS', color='gold', ax=ax[1, 2])\n",
        "\n",
        "ax[1,1].tick_params(axis='x', rotation=45)\n",
        "\n",
        "plt.show()"
      ],
      "execution_count": 151,
      "outputs": [
        {
          "output_type": "display_data",
          "data": {
            "image/png": "[encoded data removed]",
            "text/plain": [
              "<Figure size 1440x720 with 6 Axes>"
            ]
          },
          "metadata": {
            "tags": [],
            "needs_background": "light"
          }
        }
      ]
    },
    {
      "cell_type": "markdown",
      "metadata": {
        "id": "EcYL0cpj3Bpm"
      },
      "source": [
        "Building Structure"
      ]
    },
    {
      "cell_type": "code",
      "metadata": {
        "colab": {
          "base_uri": "https://localhost:8080/",
          "height": 929
        },
        "id": "I1JE8Zrd3FXj",
        "outputId": "a0b745e1-6151-4f60-b4e7-31eca1e5407c"
      },
      "source": [
        "fig, ax = plt.subplots(2, 2, figsize=(15, 15))\n",
        "\n",
        "sns.countplot(data=df, x='STRUCT', color='skyblue', ax=ax[0, 0])\n",
        "sns.countplot(data=df, x='EXTWALL', color='teal', ax=ax[0, 1])\n",
        "sns.countplot(data=df, x='INTWALL', color='olive', ax=ax[1, 0])\n",
        "sns.countplot(data=df, x='ROOF', color='red', ax=ax[1, 1])\n",
        "\n",
        "for i in range(2):\n",
        "  for j in range(2):\n",
        "    ax[i,j].tick_params(axis='x', rotation=45)\n",
        "\n",
        "plt.show()"
      ],
      "execution_count": 157,
      "outputs": [
        {
          "output_type": "display_data",
          "data": {
            "image/png": "[encoded data removed]",
            "text/plain": [
              "<Figure size 1080x1080 with 4 Axes>"
            ]
          },
          "metadata": {
            "tags": [],
            "needs_background": "light"
          }
        }
      ]
    },
    {
      "cell_type": "markdown",
      "metadata": {
        "id": "wYpjQ6oR3EJ6"
      },
      "source": [
        "Condition"
      ]
    },
    {
      "cell_type": "code",
      "metadata": {
        "id": "ttB2_0LQ3J3A"
      },
      "source": [
        ""
      ],
      "execution_count": null,
      "outputs": []
    },
    {
      "cell_type": "markdown",
      "metadata": {
        "id": "mwNPwyjO3KMR"
      },
      "source": [
        "Type"
      ]
    },
    {
      "cell_type": "code",
      "metadata": {
        "id": "xdta311i3Msr"
      },
      "source": [
        ""
      ],
      "execution_count": null,
      "outputs": []
    },
    {
      "cell_type": "markdown",
      "metadata": {
        "id": "Yu6hwh4L3Oo1"
      },
      "source": [
        "Area Size"
      ]
    },
    {
      "cell_type": "code",
      "metadata": {
        "id": "Bul3wQ3I3OCX"
      },
      "source": [
        ""
      ],
      "execution_count": null,
      "outputs": []
    },
    {
      "cell_type": "markdown",
      "metadata": {
        "id": "qQT9wSVD3QDA"
      },
      "source": [
        "Location"
      ]
    },
    {
      "cell_type": "code",
      "metadata": {
        "id": "CRksKxFl3Qmw"
      },
      "source": [
        ""
      ],
      "execution_count": null,
      "outputs": []
    },
    {
      "cell_type": "markdown",
      "metadata": {
        "id": "RRVMbcUx29ox"
      },
      "source": [
        "Times"
      ]
    },
    {
      "cell_type": "code",
      "metadata": {
        "id": "2yW9uZT6279N"
      },
      "source": [
        ""
      ],
      "execution_count": null,
      "outputs": []
    },
    {
      "cell_type": "markdown",
      "metadata": {
        "id": "a5gbOZm_ZOox"
      },
      "source": [
        "## Missing Values"
      ]
    },
    {
      "cell_type": "code",
      "metadata": {
        "colab": {
          "base_uri": "https://localhost:8080/"
        },
        "id": "UeqY-fUkYYIE",
        "outputId": "633630ba-6b53-45db-c5e2-c5755e1039ab"
      },
      "source": [
        "df.isna().sum().sort_values(ascending=False)"
      ],
      "execution_count": 77,
      "outputs": [
        {
          "output_type": "execute_result",
          "data": {
            "text/plain": [
              "LIVING_GBA            106696\n",
              "CMPLX_NUM             106696\n",
              "YR_RMDL                78029\n",
              "PRICE                  60741\n",
              "FULLADDRESS            52917\n",
              "CENSUS_BLOCK           52906\n",
              "NATIONALGRID           52906\n",
              "STATE                  52906\n",
              "CITY                   52906\n",
              "STORIES                52305\n",
              "KITCHENS               52262\n",
              "ROOF                   52261\n",
              "EXTWALL                52261\n",
              "CNDTN                  52261\n",
              "GRADE                  52261\n",
              "STRUCT                 52261\n",
              "INTWALL                52261\n",
              "GBA                    52261\n",
              "NUM_UNITS              52261\n",
              "STYLE                  52261\n",
              "ASSESSMENT_SUBNBHD     32551\n",
              "SALEDATE               26770\n",
              "AYB                      271\n",
              "Y                        237\n",
              "QUADRANT                 237\n",
              "X                        237\n",
              "ASSESSMENT_NBHD            1\n",
              "WARD                       1\n",
              "ZIPCODE                    1\n",
              "LATITUDE                   1\n",
              "LONGITUDE                  1\n",
              "CENSUS_TRACT               1\n",
              "HF_BATHRM                  0\n",
              "HEAT                       0\n",
              "AC                         0\n",
              "ROOMS                      0\n",
              "BEDRM                      0\n",
              "SQUARE                     0\n",
              "FIREPLACES                 0\n",
              "EYB                        0\n",
              "USECODE                    0\n",
              "QUALIFIED                  0\n",
              "SALE_NUM                   0\n",
              "BLDG_NUM                   0\n",
              "SOURCE                     0\n",
              "GIS_LAST_MOD_DTTM          0\n",
              "LANDAREA                   0\n",
              "BATHRM                     0\n",
              "dtype: int64"
            ]
          },
          "metadata": {
            "tags": []
          },
          "execution_count": 77
        }
      ]
    },
    {
      "cell_type": "code",
      "metadata": {
        "id": "prbl4b4X2D-0"
      },
      "source": [
        "df.isna"
      ],
      "execution_count": null,
      "outputs": []
    },
    {
      "cell_type": "code",
      "metadata": {
        "colab": {
          "base_uri": "https://localhost:8080/",
          "height": 1000
        },
        "id": "LCPGXmrAbpCh",
        "outputId": "69618cda-1709-4178-b25f-7e0680ad57df"
      },
      "source": [
        "df_na = df.isnull().sum() / len(df) * 100\n",
        "df_na = df_na.drop(df_na[df_na == 0].index).sort_values(ascending=False)\n",
        "df_na = pd.DataFrame(df_na, columns=['% of NA'])\n",
        "df_na"
      ],
      "execution_count": 122,
      "outputs": [
        {
          "output_type": "execute_result",
          "data": {
            "text/html": [
              "<div>\n",
              "<style scoped>\n",
              "    .dataframe tbody tr th:only-of-type {\n",
              "        vertical-align: middle;\n",
              "    }\n",
              "\n",
              "    .dataframe tbody tr th {\n",
              "        vertical-align: top;\n",
              "    }\n",
              "\n",
              "    .dataframe thead th {\n",
              "        text-align: right;\n",
              "    }\n",
              "</style>\n",
              "<table border=\"1\" class=\"dataframe\">\n",
              "  <thead>\n",
              "    <tr style=\"text-align: right;\">\n",
              "      <th></th>\n",
              "      <th>% of NA</th>\n",
              "    </tr>\n",
              "  </thead>\n",
              "  <tbody>\n",
              "    <tr>\n",
              "      <th>CMPLX_NUM</th>\n",
              "      <td>67.122555</td>\n",
              "    </tr>\n",
              "    <tr>\n",
              "      <th>LIVING_GBA</th>\n",
              "      <td>67.122555</td>\n",
              "    </tr>\n",
              "    <tr>\n",
              "      <th>YR_RMDL</th>\n",
              "      <td>49.088118</td>\n",
              "    </tr>\n",
              "    <tr>\n",
              "      <th>PRICE</th>\n",
              "      <td>38.212221</td>\n",
              "    </tr>\n",
              "    <tr>\n",
              "      <th>FULLADDRESS</th>\n",
              "      <td>33.290135</td>\n",
              "    </tr>\n",
              "    <tr>\n",
              "      <th>NATIONALGRID</th>\n",
              "      <td>33.283215</td>\n",
              "    </tr>\n",
              "    <tr>\n",
              "      <th>CENSUS_BLOCK</th>\n",
              "      <td>33.283215</td>\n",
              "    </tr>\n",
              "    <tr>\n",
              "      <th>CITY</th>\n",
              "      <td>33.283215</td>\n",
              "    </tr>\n",
              "    <tr>\n",
              "      <th>STATE</th>\n",
              "      <td>33.283215</td>\n",
              "    </tr>\n",
              "    <tr>\n",
              "      <th>STORIES</th>\n",
              "      <td>32.905125</td>\n",
              "    </tr>\n",
              "    <tr>\n",
              "      <th>KITCHENS</th>\n",
              "      <td>32.878074</td>\n",
              "    </tr>\n",
              "    <tr>\n",
              "      <th>CNDTN</th>\n",
              "      <td>32.877445</td>\n",
              "    </tr>\n",
              "    <tr>\n",
              "      <th>ROOF</th>\n",
              "      <td>32.877445</td>\n",
              "    </tr>\n",
              "    <tr>\n",
              "      <th>STRUCT</th>\n",
              "      <td>32.877445</td>\n",
              "    </tr>\n",
              "    <tr>\n",
              "      <th>STYLE</th>\n",
              "      <td>32.877445</td>\n",
              "    </tr>\n",
              "    <tr>\n",
              "      <th>GBA</th>\n",
              "      <td>32.877445</td>\n",
              "    </tr>\n",
              "    <tr>\n",
              "      <th>EXTWALL</th>\n",
              "      <td>32.877445</td>\n",
              "    </tr>\n",
              "    <tr>\n",
              "      <th>GRADE</th>\n",
              "      <td>32.877445</td>\n",
              "    </tr>\n",
              "    <tr>\n",
              "      <th>NUM_UNITS</th>\n",
              "      <td>32.877445</td>\n",
              "    </tr>\n",
              "    <tr>\n",
              "      <th>INTWALL</th>\n",
              "      <td>32.877445</td>\n",
              "    </tr>\n",
              "    <tr>\n",
              "      <th>ASSESSMENT_SUBNBHD</th>\n",
              "      <td>20.477865</td>\n",
              "    </tr>\n",
              "    <tr>\n",
              "      <th>SALEDATE</th>\n",
              "      <td>16.841032</td>\n",
              "    </tr>\n",
              "    <tr>\n",
              "      <th>AYB</th>\n",
              "      <td>0.170486</td>\n",
              "    </tr>\n",
              "    <tr>\n",
              "      <th>Y</th>\n",
              "      <td>0.149097</td>\n",
              "    </tr>\n",
              "    <tr>\n",
              "      <th>X</th>\n",
              "      <td>0.149097</td>\n",
              "    </tr>\n",
              "    <tr>\n",
              "      <th>QUADRANT</th>\n",
              "      <td>0.149097</td>\n",
              "    </tr>\n",
              "    <tr>\n",
              "      <th>ZIPCODE</th>\n",
              "      <td>0.000629</td>\n",
              "    </tr>\n",
              "    <tr>\n",
              "      <th>LATITUDE</th>\n",
              "      <td>0.000629</td>\n",
              "    </tr>\n",
              "    <tr>\n",
              "      <th>LONGITUDE</th>\n",
              "      <td>0.000629</td>\n",
              "    </tr>\n",
              "    <tr>\n",
              "      <th>ASSESSMENT_NBHD</th>\n",
              "      <td>0.000629</td>\n",
              "    </tr>\n",
              "    <tr>\n",
              "      <th>CENSUS_TRACT</th>\n",
              "      <td>0.000629</td>\n",
              "    </tr>\n",
              "    <tr>\n",
              "      <th>WARD</th>\n",
              "      <td>0.000629</td>\n",
              "    </tr>\n",
              "  </tbody>\n",
              "</table>\n",
              "</div>"
            ],
            "text/plain": [
              "                      % of NA\n",
              "CMPLX_NUM           67.122555\n",
              "LIVING_GBA          67.122555\n",
              "YR_RMDL             49.088118\n",
              "PRICE               38.212221\n",
              "FULLADDRESS         33.290135\n",
              "NATIONALGRID        33.283215\n",
              "CENSUS_BLOCK        33.283215\n",
              "CITY                33.283215\n",
              "STATE               33.283215\n",
              "STORIES             32.905125\n",
              "KITCHENS            32.878074\n",
              "CNDTN               32.877445\n",
              "ROOF                32.877445\n",
              "STRUCT              32.877445\n",
              "STYLE               32.877445\n",
              "GBA                 32.877445\n",
              "EXTWALL             32.877445\n",
              "GRADE               32.877445\n",
              "NUM_UNITS           32.877445\n",
              "INTWALL             32.877445\n",
              "ASSESSMENT_SUBNBHD  20.477865\n",
              "SALEDATE            16.841032\n",
              "AYB                  0.170486\n",
              "Y                    0.149097\n",
              "X                    0.149097\n",
              "QUADRANT             0.149097\n",
              "ZIPCODE              0.000629\n",
              "LATITUDE             0.000629\n",
              "LONGITUDE            0.000629\n",
              "ASSESSMENT_NBHD      0.000629\n",
              "CENSUS_TRACT         0.000629\n",
              "WARD                 0.000629"
            ]
          },
          "metadata": {
            "tags": []
          },
          "execution_count": 122
        }
      ]
    },
    {
      "cell_type": "code",
      "metadata": {
        "colab": {
          "base_uri": "https://localhost:8080/",
          "height": 621
        },
        "id": "_x2XCxzRcHsJ",
        "outputId": "2c07251f-3cd7-41d9-813b-7db1ffd9f78e"
      },
      "source": [
        "plt.figure(figsize=(15,10))\n",
        "plt.title('Percentage of Missing Values by Features')\n",
        "sns.barplot(x=df_na.iloc[:,0], y=df_na.index)\n",
        "plt.xlabel('% of Missing Values')\n",
        "plt.ylabel('Features')\n",
        "plt.xlim([0,100])\n",
        "plt.show()"
      ],
      "execution_count": 115,
      "outputs": [
        {
          "output_type": "display_data",
          "data": {
            "image/png": "[encoded data removed]",
            "text/plain": [
              "<Figure size 1080x720 with 1 Axes>"
            ]
          },
          "metadata": {
            "tags": [],
            "needs_background": "light"
          }
        }
      ]
    },
    {
      "cell_type": "markdown",
      "metadata": {
        "id": "d7zo0GOD1n9d"
      },
      "source": [
        "- Drop CMPLX_NUM, LIVING_GBA since most of the data is NA\n"
      ]
    },
    {
      "cell_type": "markdown",
      "metadata": {
        "id": "gCEktJ4E335U"
      },
      "source": [
        ""
      ]
    },
    {
      "cell_type": "markdown",
      "metadata": {
        "id": "8GfTDLLoWWwI"
      },
      "source": [
        "### Check Features Values"
      ]
    },
    {
      "cell_type": "code",
      "metadata": {
        "colab": {
          "base_uri": "https://localhost:8080/"
        },
        "id": "22nstKm0aJXo",
        "outputId": "a38dd617-11d6-44df-afd7-d3626dcda6d4"
      },
      "source": [
        "df['BATHRM'].value_counts()"
      ],
      "execution_count": 11,
      "outputs": [
        {
          "output_type": "execute_result",
          "data": {
            "text/plain": [
              "1     74555\n",
              "2     53325\n",
              "3     20785\n",
              "4      8119\n",
              "5      1367\n",
              "6       500\n",
              "7       129\n",
              "8        71\n",
              "0        58\n",
              "9        22\n",
              "10       14\n",
              "11        7\n",
              "12        3\n",
              "14        1\n",
              "13        1\n",
              "Name: BATHRM, dtype: int64"
            ]
          },
          "metadata": {
            "tags": []
          },
          "execution_count": 11
        }
      ]
    },
    {
      "cell_type": "markdown",
      "metadata": {
        "id": "5QnLSiwuZb4n"
      },
      "source": [
        "zero bathroom should be checked"
      ]
    },
    {
      "cell_type": "code",
      "metadata": {
        "colab": {
          "base_uri": "https://localhost:8080/"
        },
        "id": "_oGjOQa5ZVE3",
        "outputId": "12f799a9-bebf-4789-ef3c-dc0aba3fe60b"
      },
      "source": [
        "df['HF_BATHRM'].value_counts()"
      ],
      "execution_count": 12,
      "outputs": [
        {
          "output_type": "execute_result",
          "data": {
            "text/plain": [
              "0     93148\n",
              "1     59258\n",
              "2      6186\n",
              "3       289\n",
              "4        56\n",
              "5        12\n",
              "7         3\n",
              "6         3\n",
              "11        1\n",
              "9         1\n",
              "Name: HF_BATHRM, dtype: int64"
            ]
          },
          "metadata": {
            "tags": []
          },
          "execution_count": 12
        }
      ]
    },
    {
      "cell_type": "code",
      "metadata": {
        "colab": {
          "base_uri": "https://localhost:8080/"
        },
        "id": "zHG648vXZ7E9",
        "outputId": "e8b4dc7e-aefd-4b6f-b497-c9db41c41de7"
      },
      "source": [
        "df['HEAT'].value_counts()"
      ],
      "execution_count": 13,
      "outputs": [
        {
          "output_type": "execute_result",
          "data": {
            "text/plain": [
              "Forced Air        53972\n",
              "Hot Water Rad     47202\n",
              "Warm Cool         33628\n",
              "Ht Pump           21412\n",
              "Wall Furnace       1120\n",
              "Water Base Brd      402\n",
              "Elec Base Brd       351\n",
              "No Data             330\n",
              "Electric Rad        144\n",
              "Gravity Furnac      140\n",
              "Air-Oil             117\n",
              "Ind Unit             50\n",
              "Evp Cool             50\n",
              "Air Exchng           39\n",
              "Name: HEAT, dtype: int64"
            ]
          },
          "metadata": {
            "tags": []
          },
          "execution_count": 13
        }
      ]
    },
    {
      "cell_type": "markdown",
      "metadata": {
        "id": "IMwSPfOVa7Xd"
      },
      "source": [
        "Outside top 4, convert to others"
      ]
    },
    {
      "cell_type": "code",
      "metadata": {
        "colab": {
          "base_uri": "https://localhost:8080/"
        },
        "id": "e8ydg5RIaTrH",
        "outputId": "151025a7-3367-40dc-ca6e-127e3dbef6fd"
      },
      "source": [
        "df['AC'].value_counts()"
      ],
      "execution_count": 14,
      "outputs": [
        {
          "output_type": "execute_result",
          "data": {
            "text/plain": [
              "Y    114620\n",
              "N     44272\n",
              "0        65\n",
              "Name: AC, dtype: int64"
            ]
          },
          "metadata": {
            "tags": []
          },
          "execution_count": 14
        }
      ]
    },
    {
      "cell_type": "markdown",
      "metadata": {
        "id": "DDDoXDf_ad5W"
      },
      "source": [
        "zero convert to N"
      ]
    },
    {
      "cell_type": "code",
      "metadata": {
        "colab": {
          "base_uri": "https://localhost:8080/",
          "height": 779
        },
        "id": "H2FtJZm4ab_o",
        "outputId": "abb77904-1119-4699-f4d7-d4f39a22abfc"
      },
      "source": [
        "df[df.AC=='0']"
      ],
      "execution_count": 15,
      "outputs": [
        {
          "output_type": "execute_result",
          "data": {
            "text/html": [
              "<div>\n",
              "<style scoped>\n",
              "    .dataframe tbody tr th:only-of-type {\n",
              "        vertical-align: middle;\n",
              "    }\n",
              "\n",
              "    .dataframe tbody tr th {\n",
              "        vertical-align: top;\n",
              "    }\n",
              "\n",
              "    .dataframe thead th {\n",
              "        text-align: right;\n",
              "    }\n",
              "</style>\n",
              "<table border=\"1\" class=\"dataframe\">\n",
              "  <thead>\n",
              "    <tr style=\"text-align: right;\">\n",
              "      <th></th>\n",
              "      <th>BATHRM</th>\n",
              "      <th>HF_BATHRM</th>\n",
              "      <th>HEAT</th>\n",
              "      <th>AC</th>\n",
              "      <th>NUM_UNITS</th>\n",
              "      <th>ROOMS</th>\n",
              "      <th>BEDRM</th>\n",
              "      <th>AYB</th>\n",
              "      <th>YR_RMDL</th>\n",
              "      <th>EYB</th>\n",
              "      <th>STORIES</th>\n",
              "      <th>SALEDATE</th>\n",
              "      <th>PRICE</th>\n",
              "      <th>QUALIFIED</th>\n",
              "      <th>SALE_NUM</th>\n",
              "      <th>GBA</th>\n",
              "      <th>BLDG_NUM</th>\n",
              "      <th>STYLE</th>\n",
              "      <th>STRUCT</th>\n",
              "      <th>GRADE</th>\n",
              "      <th>CNDTN</th>\n",
              "      <th>EXTWALL</th>\n",
              "      <th>ROOF</th>\n",
              "      <th>INTWALL</th>\n",
              "      <th>KITCHENS</th>\n",
              "      <th>FIREPLACES</th>\n",
              "      <th>USECODE</th>\n",
              "      <th>LANDAREA</th>\n",
              "      <th>GIS_LAST_MOD_DTTM</th>\n",
              "      <th>SOURCE</th>\n",
              "      <th>CMPLX_NUM</th>\n",
              "      <th>LIVING_GBA</th>\n",
              "      <th>FULLADDRESS</th>\n",
              "      <th>CITY</th>\n",
              "      <th>STATE</th>\n",
              "      <th>ZIPCODE</th>\n",
              "      <th>NATIONALGRID</th>\n",
              "      <th>LATITUDE</th>\n",
              "      <th>LONGITUDE</th>\n",
              "      <th>ASSESSMENT_NBHD</th>\n",
              "      <th>ASSESSMENT_SUBNBHD</th>\n",
              "      <th>CENSUS_TRACT</th>\n",
              "      <th>CENSUS_BLOCK</th>\n",
              "      <th>WARD</th>\n",
              "      <th>SQUARE</th>\n",
              "      <th>X</th>\n",
              "      <th>Y</th>\n",
              "      <th>QUADRANT</th>\n",
              "    </tr>\n",
              "  </thead>\n",
              "  <tbody>\n",
              "    <tr>\n",
              "      <th>3304</th>\n",
              "      <td>1</td>\n",
              "      <td>0</td>\n",
              "      <td>Hot Water Rad</td>\n",
              "      <td>0</td>\n",
              "      <td>1.0</td>\n",
              "      <td>5</td>\n",
              "      <td>2</td>\n",
              "      <td>1900.0</td>\n",
              "      <td>NaN</td>\n",
              "      <td>1964</td>\n",
              "      <td>2.0</td>\n",
              "      <td>2016-04-01 00:00:00</td>\n",
              "      <td>507500.0</td>\n",
              "      <td>U</td>\n",
              "      <td>4</td>\n",
              "      <td>792.0</td>\n",
              "      <td>1</td>\n",
              "      <td>2 Story</td>\n",
              "      <td>Row Inside</td>\n",
              "      <td>Average</td>\n",
              "      <td>Good</td>\n",
              "      <td>Common Brick</td>\n",
              "      <td>Built Up</td>\n",
              "      <td>Wood Floor</td>\n",
              "      <td>1.0</td>\n",
              "      <td>1</td>\n",
              "      <td>11</td>\n",
              "      <td>663</td>\n",
              "      <td>2018-07-22 18:01:43</td>\n",
              "      <td>Residential</td>\n",
              "      <td>NaN</td>\n",
              "      <td>NaN</td>\n",
              "      <td>8 N STREET SW</td>\n",
              "      <td>WASHINGTON</td>\n",
              "      <td>DC</td>\n",
              "      <td>20024.0</td>\n",
              "      <td>18S UJ 25654 04765</td>\n",
              "      <td>38.874458</td>\n",
              "      <td>-77.009784</td>\n",
              "      <td>Old City 1</td>\n",
              "      <td>039 E Old City 1</td>\n",
              "      <td>6400.0</td>\n",
              "      <td>006400 1009</td>\n",
              "      <td>Ward 6</td>\n",
              "      <td>653</td>\n",
              "      <td>-77.010025</td>\n",
              "      <td>38.873810</td>\n",
              "      <td>SW</td>\n",
              "    </tr>\n",
              "    <tr>\n",
              "      <th>3305</th>\n",
              "      <td>1</td>\n",
              "      <td>0</td>\n",
              "      <td>Hot Water Rad</td>\n",
              "      <td>0</td>\n",
              "      <td>1.0</td>\n",
              "      <td>5</td>\n",
              "      <td>2</td>\n",
              "      <td>1900.0</td>\n",
              "      <td>NaN</td>\n",
              "      <td>1943</td>\n",
              "      <td>2.0</td>\n",
              "      <td>2015-10-05 00:00:00</td>\n",
              "      <td>470000.0</td>\n",
              "      <td>U</td>\n",
              "      <td>4</td>\n",
              "      <td>792.0</td>\n",
              "      <td>1</td>\n",
              "      <td>2 Story</td>\n",
              "      <td>Row Inside</td>\n",
              "      <td>Average</td>\n",
              "      <td>Average</td>\n",
              "      <td>Common Brick</td>\n",
              "      <td>Built Up</td>\n",
              "      <td>Wood Floor</td>\n",
              "      <td>1.0</td>\n",
              "      <td>1</td>\n",
              "      <td>11</td>\n",
              "      <td>663</td>\n",
              "      <td>2018-07-22 18:01:43</td>\n",
              "      <td>Residential</td>\n",
              "      <td>NaN</td>\n",
              "      <td>NaN</td>\n",
              "      <td>6 N STREET SW</td>\n",
              "      <td>WASHINGTON</td>\n",
              "      <td>DC</td>\n",
              "      <td>20024.0</td>\n",
              "      <td>18S UJ 25662 04765</td>\n",
              "      <td>38.874459</td>\n",
              "      <td>-77.009700</td>\n",
              "      <td>Old City 1</td>\n",
              "      <td>039 E Old City 1</td>\n",
              "      <td>6400.0</td>\n",
              "      <td>006400 1009</td>\n",
              "      <td>Ward 6</td>\n",
              "      <td>653</td>\n",
              "      <td>-77.010025</td>\n",
              "      <td>38.873810</td>\n",
              "      <td>SW</td>\n",
              "    </tr>\n",
              "    <tr>\n",
              "      <th>6000</th>\n",
              "      <td>3</td>\n",
              "      <td>1</td>\n",
              "      <td>Hot Water Rad</td>\n",
              "      <td>0</td>\n",
              "      <td>2.0</td>\n",
              "      <td>9</td>\n",
              "      <td>3</td>\n",
              "      <td>1900.0</td>\n",
              "      <td>1979.0</td>\n",
              "      <td>1969</td>\n",
              "      <td>2.0</td>\n",
              "      <td>2012-10-22 00:00:00</td>\n",
              "      <td>NaN</td>\n",
              "      <td>U</td>\n",
              "      <td>1</td>\n",
              "      <td>1926.0</td>\n",
              "      <td>1</td>\n",
              "      <td>2 Story</td>\n",
              "      <td>Row Inside</td>\n",
              "      <td>Good Quality</td>\n",
              "      <td>Average</td>\n",
              "      <td>Common Brick</td>\n",
              "      <td>Metal- Sms</td>\n",
              "      <td>Hardwood</td>\n",
              "      <td>2.0</td>\n",
              "      <td>1</td>\n",
              "      <td>24</td>\n",
              "      <td>1686</td>\n",
              "      <td>2018-07-22 18:01:43</td>\n",
              "      <td>Residential</td>\n",
              "      <td>NaN</td>\n",
              "      <td>NaN</td>\n",
              "      <td>326 F STREET NE</td>\n",
              "      <td>WASHINGTON</td>\n",
              "      <td>DC</td>\n",
              "      <td>20002.0</td>\n",
              "      <td>18S UJ 26466 07309</td>\n",
              "      <td>38.897535</td>\n",
              "      <td>-77.001078</td>\n",
              "      <td>Old City 1</td>\n",
              "      <td>039 J Old City 1</td>\n",
              "      <td>8301.0</td>\n",
              "      <td>008301 1005</td>\n",
              "      <td>Ward 6</td>\n",
              "      <td>778</td>\n",
              "      <td>-77.001088</td>\n",
              "      <td>38.898054</td>\n",
              "      <td>NE</td>\n",
              "    </tr>\n",
              "    <tr>\n",
              "      <th>8465</th>\n",
              "      <td>2</td>\n",
              "      <td>1</td>\n",
              "      <td>Forced Air</td>\n",
              "      <td>0</td>\n",
              "      <td>1.0</td>\n",
              "      <td>8</td>\n",
              "      <td>5</td>\n",
              "      <td>1932.0</td>\n",
              "      <td>NaN</td>\n",
              "      <td>1992</td>\n",
              "      <td>NaN</td>\n",
              "      <td>2018-03-26 00:00:00</td>\n",
              "      <td>1250000.0</td>\n",
              "      <td>U</td>\n",
              "      <td>2</td>\n",
              "      <td>8009.0</td>\n",
              "      <td>1</td>\n",
              "      <td>2.5 Story Unfin</td>\n",
              "      <td>Single</td>\n",
              "      <td>Low Quality</td>\n",
              "      <td>Poor</td>\n",
              "      <td>Brick/Stucco</td>\n",
              "      <td>Built Up</td>\n",
              "      <td>Hardwood</td>\n",
              "      <td>1.0</td>\n",
              "      <td>2</td>\n",
              "      <td>12</td>\n",
              "      <td>5180</td>\n",
              "      <td>2018-07-22 18:01:43</td>\n",
              "      <td>Residential</td>\n",
              "      <td>NaN</td>\n",
              "      <td>NaN</td>\n",
              "      <td>316 A STREET NE</td>\n",
              "      <td>WASHINGTON</td>\n",
              "      <td>DC</td>\n",
              "      <td>20002.0</td>\n",
              "      <td>18S UJ 26437 06598</td>\n",
              "      <td>38.891126</td>\n",
              "      <td>-77.001236</td>\n",
              "      <td>Capitol Hill</td>\n",
              "      <td>009 C Capitol Hill</td>\n",
              "      <td>8200.0</td>\n",
              "      <td>008200 2013</td>\n",
              "      <td>Ward 6</td>\n",
              "      <td>785</td>\n",
              "      <td>-77.001244</td>\n",
              "      <td>38.891602</td>\n",
              "      <td>NE</td>\n",
              "    </tr>\n",
              "    <tr>\n",
              "      <th>11541</th>\n",
              "      <td>2</td>\n",
              "      <td>0</td>\n",
              "      <td>Hot Water Rad</td>\n",
              "      <td>0</td>\n",
              "      <td>2.0</td>\n",
              "      <td>10</td>\n",
              "      <td>4</td>\n",
              "      <td>1909.0</td>\n",
              "      <td>NaN</td>\n",
              "      <td>1963</td>\n",
              "      <td>2.0</td>\n",
              "      <td>1993-12-01 00:00:00</td>\n",
              "      <td>390000.0</td>\n",
              "      <td>Q</td>\n",
              "      <td>1</td>\n",
              "      <td>1920.0</td>\n",
              "      <td>2</td>\n",
              "      <td>2 Story</td>\n",
              "      <td>Row End</td>\n",
              "      <td>Very Good</td>\n",
              "      <td>Average</td>\n",
              "      <td>Common Brick</td>\n",
              "      <td>Metal- Sms</td>\n",
              "      <td>Hardwood</td>\n",
              "      <td>2.0</td>\n",
              "      <td>0</td>\n",
              "      <td>15</td>\n",
              "      <td>1970</td>\n",
              "      <td>2018-07-22 18:01:43</td>\n",
              "      <td>Residential</td>\n",
              "      <td>NaN</td>\n",
              "      <td>NaN</td>\n",
              "      <td>1101 EAST CAPITOL STREET SE</td>\n",
              "      <td>WASHINGTON</td>\n",
              "      <td>DC</td>\n",
              "      <td>20003.0</td>\n",
              "      <td>18S UJ 27290 06352</td>\n",
              "      <td>38.889072</td>\n",
              "      <td>-76.991340</td>\n",
              "      <td>Old City 1</td>\n",
              "      <td>039 M Old City 1</td>\n",
              "      <td>6700.0</td>\n",
              "      <td>006700 2003</td>\n",
              "      <td>Ward 6</td>\n",
              "      <td>989</td>\n",
              "      <td>-76.991040</td>\n",
              "      <td>38.888447</td>\n",
              "      <td>SE</td>\n",
              "    </tr>\n",
              "    <tr>\n",
              "      <th>...</th>\n",
              "      <td>...</td>\n",
              "      <td>...</td>\n",
              "      <td>...</td>\n",
              "      <td>...</td>\n",
              "      <td>...</td>\n",
              "      <td>...</td>\n",
              "      <td>...</td>\n",
              "      <td>...</td>\n",
              "      <td>...</td>\n",
              "      <td>...</td>\n",
              "      <td>...</td>\n",
              "      <td>...</td>\n",
              "      <td>...</td>\n",
              "      <td>...</td>\n",
              "      <td>...</td>\n",
              "      <td>...</td>\n",
              "      <td>...</td>\n",
              "      <td>...</td>\n",
              "      <td>...</td>\n",
              "      <td>...</td>\n",
              "      <td>...</td>\n",
              "      <td>...</td>\n",
              "      <td>...</td>\n",
              "      <td>...</td>\n",
              "      <td>...</td>\n",
              "      <td>...</td>\n",
              "      <td>...</td>\n",
              "      <td>...</td>\n",
              "      <td>...</td>\n",
              "      <td>...</td>\n",
              "      <td>...</td>\n",
              "      <td>...</td>\n",
              "      <td>...</td>\n",
              "      <td>...</td>\n",
              "      <td>...</td>\n",
              "      <td>...</td>\n",
              "      <td>...</td>\n",
              "      <td>...</td>\n",
              "      <td>...</td>\n",
              "      <td>...</td>\n",
              "      <td>...</td>\n",
              "      <td>...</td>\n",
              "      <td>...</td>\n",
              "      <td>...</td>\n",
              "      <td>...</td>\n",
              "      <td>...</td>\n",
              "      <td>...</td>\n",
              "      <td>...</td>\n",
              "    </tr>\n",
              "    <tr>\n",
              "      <th>145852</th>\n",
              "      <td>1</td>\n",
              "      <td>0</td>\n",
              "      <td>Ht Pump</td>\n",
              "      <td>0</td>\n",
              "      <td>NaN</td>\n",
              "      <td>3</td>\n",
              "      <td>1</td>\n",
              "      <td>1923.0</td>\n",
              "      <td>NaN</td>\n",
              "      <td>1923</td>\n",
              "      <td>NaN</td>\n",
              "      <td>2013-10-04 00:00:00</td>\n",
              "      <td>352000.0</td>\n",
              "      <td>Q</td>\n",
              "      <td>1</td>\n",
              "      <td>NaN</td>\n",
              "      <td>1</td>\n",
              "      <td>NaN</td>\n",
              "      <td>NaN</td>\n",
              "      <td>NaN</td>\n",
              "      <td>NaN</td>\n",
              "      <td>NaN</td>\n",
              "      <td>NaN</td>\n",
              "      <td>NaN</td>\n",
              "      <td>NaN</td>\n",
              "      <td>0</td>\n",
              "      <td>16</td>\n",
              "      <td>440</td>\n",
              "      <td>2018-07-22 18:01:38</td>\n",
              "      <td>Condominium</td>\n",
              "      <td>1413.0</td>\n",
              "      <td>519.0</td>\n",
              "      <td>NaN</td>\n",
              "      <td>NaN</td>\n",
              "      <td>NaN</td>\n",
              "      <td>20010.0</td>\n",
              "      <td>NaN</td>\n",
              "      <td>38.934324</td>\n",
              "      <td>-77.026928</td>\n",
              "      <td>Columbia Heights</td>\n",
              "      <td>015 D Columbia Heights</td>\n",
              "      <td>2900.0</td>\n",
              "      <td>NaN</td>\n",
              "      <td>Ward 1</td>\n",
              "      <td>2831</td>\n",
              "      <td>-77.026930</td>\n",
              "      <td>38.934332</td>\n",
              "      <td>NW</td>\n",
              "    </tr>\n",
              "    <tr>\n",
              "      <th>145853</th>\n",
              "      <td>1</td>\n",
              "      <td>0</td>\n",
              "      <td>Ht Pump</td>\n",
              "      <td>0</td>\n",
              "      <td>NaN</td>\n",
              "      <td>3</td>\n",
              "      <td>1</td>\n",
              "      <td>1923.0</td>\n",
              "      <td>NaN</td>\n",
              "      <td>1923</td>\n",
              "      <td>NaN</td>\n",
              "      <td>2013-10-22 00:00:00</td>\n",
              "      <td>324900.0</td>\n",
              "      <td>Q</td>\n",
              "      <td>1</td>\n",
              "      <td>NaN</td>\n",
              "      <td>1</td>\n",
              "      <td>NaN</td>\n",
              "      <td>NaN</td>\n",
              "      <td>NaN</td>\n",
              "      <td>NaN</td>\n",
              "      <td>NaN</td>\n",
              "      <td>NaN</td>\n",
              "      <td>NaN</td>\n",
              "      <td>NaN</td>\n",
              "      <td>0</td>\n",
              "      <td>16</td>\n",
              "      <td>402</td>\n",
              "      <td>2018-07-22 18:01:38</td>\n",
              "      <td>Condominium</td>\n",
              "      <td>1413.0</td>\n",
              "      <td>573.0</td>\n",
              "      <td>NaN</td>\n",
              "      <td>NaN</td>\n",
              "      <td>NaN</td>\n",
              "      <td>20010.0</td>\n",
              "      <td>NaN</td>\n",
              "      <td>38.934324</td>\n",
              "      <td>-77.026928</td>\n",
              "      <td>Columbia Heights</td>\n",
              "      <td>015 D Columbia Heights</td>\n",
              "      <td>2900.0</td>\n",
              "      <td>NaN</td>\n",
              "      <td>Ward 1</td>\n",
              "      <td>2831</td>\n",
              "      <td>-77.026930</td>\n",
              "      <td>38.934332</td>\n",
              "      <td>NW</td>\n",
              "    </tr>\n",
              "    <tr>\n",
              "      <th>145854</th>\n",
              "      <td>1</td>\n",
              "      <td>0</td>\n",
              "      <td>Ht Pump</td>\n",
              "      <td>0</td>\n",
              "      <td>NaN</td>\n",
              "      <td>2</td>\n",
              "      <td>0</td>\n",
              "      <td>1923.0</td>\n",
              "      <td>NaN</td>\n",
              "      <td>1923</td>\n",
              "      <td>NaN</td>\n",
              "      <td>2014-01-28 00:00:00</td>\n",
              "      <td>251400.0</td>\n",
              "      <td>Q</td>\n",
              "      <td>1</td>\n",
              "      <td>NaN</td>\n",
              "      <td>1</td>\n",
              "      <td>NaN</td>\n",
              "      <td>NaN</td>\n",
              "      <td>NaN</td>\n",
              "      <td>NaN</td>\n",
              "      <td>NaN</td>\n",
              "      <td>NaN</td>\n",
              "      <td>NaN</td>\n",
              "      <td>NaN</td>\n",
              "      <td>0</td>\n",
              "      <td>16</td>\n",
              "      <td>288</td>\n",
              "      <td>2018-07-22 18:01:38</td>\n",
              "      <td>Condominium</td>\n",
              "      <td>1413.0</td>\n",
              "      <td>373.0</td>\n",
              "      <td>NaN</td>\n",
              "      <td>NaN</td>\n",
              "      <td>NaN</td>\n",
              "      <td>20010.0</td>\n",
              "      <td>NaN</td>\n",
              "      <td>38.934324</td>\n",
              "      <td>-77.026928</td>\n",
              "      <td>Columbia Heights</td>\n",
              "      <td>015 D Columbia Heights</td>\n",
              "      <td>2900.0</td>\n",
              "      <td>NaN</td>\n",
              "      <td>Ward 1</td>\n",
              "      <td>2831</td>\n",
              "      <td>-77.026930</td>\n",
              "      <td>38.934332</td>\n",
              "      <td>NW</td>\n",
              "    </tr>\n",
              "    <tr>\n",
              "      <th>155006</th>\n",
              "      <td>0</td>\n",
              "      <td>0</td>\n",
              "      <td>No Data</td>\n",
              "      <td>0</td>\n",
              "      <td>NaN</td>\n",
              "      <td>1</td>\n",
              "      <td>0</td>\n",
              "      <td>1920.0</td>\n",
              "      <td>1983.0</td>\n",
              "      <td>1920</td>\n",
              "      <td>NaN</td>\n",
              "      <td>2018-05-16 00:00:00</td>\n",
              "      <td>318410.0</td>\n",
              "      <td>Q</td>\n",
              "      <td>6</td>\n",
              "      <td>NaN</td>\n",
              "      <td>1</td>\n",
              "      <td>NaN</td>\n",
              "      <td>NaN</td>\n",
              "      <td>NaN</td>\n",
              "      <td>NaN</td>\n",
              "      <td>NaN</td>\n",
              "      <td>NaN</td>\n",
              "      <td>NaN</td>\n",
              "      <td>NaN</td>\n",
              "      <td>0</td>\n",
              "      <td>16</td>\n",
              "      <td>934</td>\n",
              "      <td>2018-07-22 18:01:38</td>\n",
              "      <td>Condominium</td>\n",
              "      <td>2272.0</td>\n",
              "      <td>1219.0</td>\n",
              "      <td>NaN</td>\n",
              "      <td>NaN</td>\n",
              "      <td>NaN</td>\n",
              "      <td>20001.0</td>\n",
              "      <td>NaN</td>\n",
              "      <td>38.908945</td>\n",
              "      <td>-77.019206</td>\n",
              "      <td>Old City 2</td>\n",
              "      <td>040 B Old City 2</td>\n",
              "      <td>4801.0</td>\n",
              "      <td>NaN</td>\n",
              "      <td>Ward 6</td>\n",
              "      <td>479</td>\n",
              "      <td>-77.019208</td>\n",
              "      <td>38.908952</td>\n",
              "      <td>NW</td>\n",
              "    </tr>\n",
              "    <tr>\n",
              "      <th>155007</th>\n",
              "      <td>0</td>\n",
              "      <td>0</td>\n",
              "      <td>No Data</td>\n",
              "      <td>0</td>\n",
              "      <td>NaN</td>\n",
              "      <td>0</td>\n",
              "      <td>0</td>\n",
              "      <td>1920.0</td>\n",
              "      <td>1983.0</td>\n",
              "      <td>1920</td>\n",
              "      <td>NaN</td>\n",
              "      <td>2017-12-22 00:00:00</td>\n",
              "      <td>457500.0</td>\n",
              "      <td>Q</td>\n",
              "      <td>3</td>\n",
              "      <td>NaN</td>\n",
              "      <td>1</td>\n",
              "      <td>NaN</td>\n",
              "      <td>NaN</td>\n",
              "      <td>NaN</td>\n",
              "      <td>NaN</td>\n",
              "      <td>NaN</td>\n",
              "      <td>NaN</td>\n",
              "      <td>NaN</td>\n",
              "      <td>NaN</td>\n",
              "      <td>0</td>\n",
              "      <td>16</td>\n",
              "      <td>934</td>\n",
              "      <td>2018-07-22 18:01:38</td>\n",
              "      <td>Condominium</td>\n",
              "      <td>2272.0</td>\n",
              "      <td>1855.0</td>\n",
              "      <td>NaN</td>\n",
              "      <td>NaN</td>\n",
              "      <td>NaN</td>\n",
              "      <td>20001.0</td>\n",
              "      <td>NaN</td>\n",
              "      <td>38.908945</td>\n",
              "      <td>-77.019206</td>\n",
              "      <td>Old City 2</td>\n",
              "      <td>040 B Old City 2</td>\n",
              "      <td>4801.0</td>\n",
              "      <td>NaN</td>\n",
              "      <td>Ward 6</td>\n",
              "      <td>479</td>\n",
              "      <td>-77.019208</td>\n",
              "      <td>38.908952</td>\n",
              "      <td>NW</td>\n",
              "    </tr>\n",
              "  </tbody>\n",
              "</table>\n",
              "<p>65 rows × 48 columns</p>\n",
              "</div>"
            ],
            "text/plain": [
              "        BATHRM  HF_BATHRM           HEAT  ...          X          Y  QUADRANT\n",
              "3304         1          0  Hot Water Rad  ... -77.010025  38.873810        SW\n",
              "3305         1          0  Hot Water Rad  ... -77.010025  38.873810        SW\n",
              "6000         3          1  Hot Water Rad  ... -77.001088  38.898054        NE\n",
              "8465         2          1     Forced Air  ... -77.001244  38.891602        NE\n",
              "11541        2          0  Hot Water Rad  ... -76.991040  38.888447        SE\n",
              "...        ...        ...            ...  ...        ...        ...       ...\n",
              "145852       1          0        Ht Pump  ... -77.026930  38.934332        NW\n",
              "145853       1          0        Ht Pump  ... -77.026930  38.934332        NW\n",
              "145854       1          0        Ht Pump  ... -77.026930  38.934332        NW\n",
              "155006       0          0        No Data  ... -77.019208  38.908952        NW\n",
              "155007       0          0        No Data  ... -77.019208  38.908952        NW\n",
              "\n",
              "[65 rows x 48 columns]"
            ]
          },
          "metadata": {
            "tags": []
          },
          "execution_count": 15
        }
      ]
    },
    {
      "cell_type": "code",
      "metadata": {
        "colab": {
          "base_uri": "https://localhost:8080/"
        },
        "id": "Sc6wF5FEaka7",
        "outputId": "697413b0-12d5-4ce7-d45c-cd3ba4442592"
      },
      "source": [
        "df['NUM_UNITS'].value_counts()"
      ],
      "execution_count": 16,
      "outputs": [
        {
          "output_type": "execute_result",
          "data": {
            "text/plain": [
              "1.0    92491\n",
              "2.0     9864\n",
              "4.0     3059\n",
              "3.0     1101\n",
              "0.0      168\n",
              "5.0       10\n",
              "6.0        3\n",
              "Name: NUM_UNITS, dtype: int64"
            ]
          },
          "metadata": {
            "tags": []
          },
          "execution_count": 16
        }
      ]
    },
    {
      "cell_type": "code",
      "metadata": {
        "colab": {
          "base_uri": "https://localhost:8080/",
          "height": 762
        },
        "id": "NDRP5UAFbGot",
        "outputId": "822a7088-7841-4f38-e849-9cb0d6204530"
      },
      "source": [
        "df[df['NUM_UNITS']==0]"
      ],
      "execution_count": 17,
      "outputs": [
        {
          "output_type": "execute_result",
          "data": {
            "text/html": [
              "<div>\n",
              "<style scoped>\n",
              "    .dataframe tbody tr th:only-of-type {\n",
              "        vertical-align: middle;\n",
              "    }\n",
              "\n",
              "    .dataframe tbody tr th {\n",
              "        vertical-align: top;\n",
              "    }\n",
              "\n",
              "    .dataframe thead th {\n",
              "        text-align: right;\n",
              "    }\n",
              "</style>\n",
              "<table border=\"1\" class=\"dataframe\">\n",
              "  <thead>\n",
              "    <tr style=\"text-align: right;\">\n",
              "      <th></th>\n",
              "      <th>BATHRM</th>\n",
              "      <th>HF_BATHRM</th>\n",
              "      <th>HEAT</th>\n",
              "      <th>AC</th>\n",
              "      <th>NUM_UNITS</th>\n",
              "      <th>ROOMS</th>\n",
              "      <th>BEDRM</th>\n",
              "      <th>AYB</th>\n",
              "      <th>YR_RMDL</th>\n",
              "      <th>EYB</th>\n",
              "      <th>STORIES</th>\n",
              "      <th>SALEDATE</th>\n",
              "      <th>PRICE</th>\n",
              "      <th>QUALIFIED</th>\n",
              "      <th>SALE_NUM</th>\n",
              "      <th>GBA</th>\n",
              "      <th>BLDG_NUM</th>\n",
              "      <th>STYLE</th>\n",
              "      <th>STRUCT</th>\n",
              "      <th>GRADE</th>\n",
              "      <th>CNDTN</th>\n",
              "      <th>EXTWALL</th>\n",
              "      <th>ROOF</th>\n",
              "      <th>INTWALL</th>\n",
              "      <th>KITCHENS</th>\n",
              "      <th>FIREPLACES</th>\n",
              "      <th>USECODE</th>\n",
              "      <th>LANDAREA</th>\n",
              "      <th>GIS_LAST_MOD_DTTM</th>\n",
              "      <th>SOURCE</th>\n",
              "      <th>CMPLX_NUM</th>\n",
              "      <th>LIVING_GBA</th>\n",
              "      <th>FULLADDRESS</th>\n",
              "      <th>CITY</th>\n",
              "      <th>STATE</th>\n",
              "      <th>ZIPCODE</th>\n",
              "      <th>NATIONALGRID</th>\n",
              "      <th>LATITUDE</th>\n",
              "      <th>LONGITUDE</th>\n",
              "      <th>ASSESSMENT_NBHD</th>\n",
              "      <th>ASSESSMENT_SUBNBHD</th>\n",
              "      <th>CENSUS_TRACT</th>\n",
              "      <th>CENSUS_BLOCK</th>\n",
              "      <th>WARD</th>\n",
              "      <th>SQUARE</th>\n",
              "      <th>X</th>\n",
              "      <th>Y</th>\n",
              "      <th>QUADRANT</th>\n",
              "    </tr>\n",
              "  </thead>\n",
              "  <tbody>\n",
              "    <tr>\n",
              "      <th>980</th>\n",
              "      <td>1</td>\n",
              "      <td>1</td>\n",
              "      <td>Forced Air</td>\n",
              "      <td>Y</td>\n",
              "      <td>0.0</td>\n",
              "      <td>6</td>\n",
              "      <td>3</td>\n",
              "      <td>1912.0</td>\n",
              "      <td>NaN</td>\n",
              "      <td>1967</td>\n",
              "      <td>2.0</td>\n",
              "      <td>2006-12-22 00:00:00</td>\n",
              "      <td>NaN</td>\n",
              "      <td>U</td>\n",
              "      <td>1</td>\n",
              "      <td>1216.0</td>\n",
              "      <td>1</td>\n",
              "      <td>2 Story</td>\n",
              "      <td>Single</td>\n",
              "      <td>Above Average</td>\n",
              "      <td>Good</td>\n",
              "      <td>Common Brick</td>\n",
              "      <td>Built Up</td>\n",
              "      <td>Hardwood</td>\n",
              "      <td>1.0</td>\n",
              "      <td>0</td>\n",
              "      <td>11</td>\n",
              "      <td>600</td>\n",
              "      <td>2018-07-22 18:01:43</td>\n",
              "      <td>Residential</td>\n",
              "      <td>NaN</td>\n",
              "      <td>NaN</td>\n",
              "      <td>2153 NEWPORT PLACE NW</td>\n",
              "      <td>WASHINGTON</td>\n",
              "      <td>DC</td>\n",
              "      <td>20037.0</td>\n",
              "      <td>18S UJ 22370 08565</td>\n",
              "      <td>38.908027</td>\n",
              "      <td>-77.048610</td>\n",
              "      <td>Central-tri 1</td>\n",
              "      <td>NaN</td>\n",
              "      <td>5500.0</td>\n",
              "      <td>005500 4001</td>\n",
              "      <td>Ward 2</td>\n",
              "      <td>69</td>\n",
              "      <td>-77.047778</td>\n",
              "      <td>38.907803</td>\n",
              "      <td>NW</td>\n",
              "    </tr>\n",
              "    <tr>\n",
              "      <th>1883</th>\n",
              "      <td>3</td>\n",
              "      <td>0</td>\n",
              "      <td>Forced Air</td>\n",
              "      <td>Y</td>\n",
              "      <td>0.0</td>\n",
              "      <td>9</td>\n",
              "      <td>5</td>\n",
              "      <td>2014.0</td>\n",
              "      <td>NaN</td>\n",
              "      <td>2015</td>\n",
              "      <td>3.0</td>\n",
              "      <td>2018-05-31 00:00:00</td>\n",
              "      <td>NaN</td>\n",
              "      <td>U</td>\n",
              "      <td>5</td>\n",
              "      <td>3540.0</td>\n",
              "      <td>1</td>\n",
              "      <td>3 Story</td>\n",
              "      <td>Row Inside</td>\n",
              "      <td>Good Quality</td>\n",
              "      <td>Good</td>\n",
              "      <td>Common Brick</td>\n",
              "      <td>Built Up</td>\n",
              "      <td>Default</td>\n",
              "      <td>1.0</td>\n",
              "      <td>0</td>\n",
              "      <td>11</td>\n",
              "      <td>1584</td>\n",
              "      <td>2018-07-22 18:01:43</td>\n",
              "      <td>Residential</td>\n",
              "      <td>NaN</td>\n",
              "      <td>NaN</td>\n",
              "      <td>1717 4TH STREET NW</td>\n",
              "      <td>WASHINGTON</td>\n",
              "      <td>DC</td>\n",
              "      <td>20001.0</td>\n",
              "      <td>18S UJ 25216 09076</td>\n",
              "      <td>38.913202</td>\n",
              "      <td>-77.015936</td>\n",
              "      <td>Old City 2</td>\n",
              "      <td>040 A Old City 2</td>\n",
              "      <td>4600.0</td>\n",
              "      <td>004600 2002</td>\n",
              "      <td>Ward 5</td>\n",
              "      <td>519</td>\n",
              "      <td>-77.015750</td>\n",
              "      <td>38.913114</td>\n",
              "      <td>NW</td>\n",
              "    </tr>\n",
              "    <tr>\n",
              "      <th>2388</th>\n",
              "      <td>2</td>\n",
              "      <td>0</td>\n",
              "      <td>Hot Water Rad</td>\n",
              "      <td>N</td>\n",
              "      <td>0.0</td>\n",
              "      <td>8</td>\n",
              "      <td>3</td>\n",
              "      <td>1880.0</td>\n",
              "      <td>NaN</td>\n",
              "      <td>1961</td>\n",
              "      <td>2.0</td>\n",
              "      <td>2016-03-18 00:00:00</td>\n",
              "      <td>NaN</td>\n",
              "      <td>U</td>\n",
              "      <td>3</td>\n",
              "      <td>1138.0</td>\n",
              "      <td>1</td>\n",
              "      <td>2 Story</td>\n",
              "      <td>Row Inside</td>\n",
              "      <td>Average</td>\n",
              "      <td>Good</td>\n",
              "      <td>Vinyl Siding</td>\n",
              "      <td>Built Up</td>\n",
              "      <td>Hardwood</td>\n",
              "      <td>1.0</td>\n",
              "      <td>0</td>\n",
              "      <td>11</td>\n",
              "      <td>1516</td>\n",
              "      <td>2018-07-22 18:01:43</td>\n",
              "      <td>Residential</td>\n",
              "      <td>NaN</td>\n",
              "      <td>NaN</td>\n",
              "      <td>1826 18TH STREET NW</td>\n",
              "      <td>WASHINGTON</td>\n",
              "      <td>DC</td>\n",
              "      <td>20009.0</td>\n",
              "      <td>18S UJ 22969 09323</td>\n",
              "      <td>38.914974</td>\n",
              "      <td>-77.041902</td>\n",
              "      <td>Old City 2</td>\n",
              "      <td>040 D Old City 2</td>\n",
              "      <td>4202.0</td>\n",
              "      <td>004202 2001</td>\n",
              "      <td>Ward 2</td>\n",
              "      <td>132</td>\n",
              "      <td>-77.042503</td>\n",
              "      <td>38.914980</td>\n",
              "      <td>NW</td>\n",
              "    </tr>\n",
              "    <tr>\n",
              "      <th>3814</th>\n",
              "      <td>2</td>\n",
              "      <td>1</td>\n",
              "      <td>Hot Water Rad</td>\n",
              "      <td>N</td>\n",
              "      <td>0.0</td>\n",
              "      <td>7</td>\n",
              "      <td>4</td>\n",
              "      <td>1890.0</td>\n",
              "      <td>NaN</td>\n",
              "      <td>1969</td>\n",
              "      <td>3.0</td>\n",
              "      <td>NaN</td>\n",
              "      <td>NaN</td>\n",
              "      <td>U</td>\n",
              "      <td>1</td>\n",
              "      <td>3124.0</td>\n",
              "      <td>1</td>\n",
              "      <td>3 Story</td>\n",
              "      <td>Row Inside</td>\n",
              "      <td>Good Quality</td>\n",
              "      <td>Average</td>\n",
              "      <td>Common Brick</td>\n",
              "      <td>Metal- Pre</td>\n",
              "      <td>Hardwood</td>\n",
              "      <td>1.0</td>\n",
              "      <td>0</td>\n",
              "      <td>11</td>\n",
              "      <td>2325</td>\n",
              "      <td>2018-07-22 18:01:43</td>\n",
              "      <td>Residential</td>\n",
              "      <td>NaN</td>\n",
              "      <td>NaN</td>\n",
              "      <td>718 3RD STREET NE</td>\n",
              "      <td>WASHINGTON</td>\n",
              "      <td>DC</td>\n",
              "      <td>20002.0</td>\n",
              "      <td>18S UJ 26367 07531</td>\n",
              "      <td>38.899512</td>\n",
              "      <td>-77.002277</td>\n",
              "      <td>Old City 1</td>\n",
              "      <td>039 J Old City 1</td>\n",
              "      <td>8301.0</td>\n",
              "      <td>008301 1003</td>\n",
              "      <td>Ward 6</td>\n",
              "      <td>752</td>\n",
              "      <td>-77.002648</td>\n",
              "      <td>38.899249</td>\n",
              "      <td>NE</td>\n",
              "    </tr>\n",
              "    <tr>\n",
              "      <th>5779</th>\n",
              "      <td>2</td>\n",
              "      <td>1</td>\n",
              "      <td>Warm Cool</td>\n",
              "      <td>Y</td>\n",
              "      <td>0.0</td>\n",
              "      <td>6</td>\n",
              "      <td>2</td>\n",
              "      <td>1988.0</td>\n",
              "      <td>NaN</td>\n",
              "      <td>1994</td>\n",
              "      <td>2.0</td>\n",
              "      <td>NaN</td>\n",
              "      <td>NaN</td>\n",
              "      <td>U</td>\n",
              "      <td>1</td>\n",
              "      <td>1020.0</td>\n",
              "      <td>1</td>\n",
              "      <td>2 Story</td>\n",
              "      <td>Row Inside</td>\n",
              "      <td>Above Average</td>\n",
              "      <td>Average</td>\n",
              "      <td>Common Brick</td>\n",
              "      <td>Shingle</td>\n",
              "      <td>Wood Floor</td>\n",
              "      <td>1.0</td>\n",
              "      <td>0</td>\n",
              "      <td>11</td>\n",
              "      <td>1099</td>\n",
              "      <td>2018-07-22 18:01:43</td>\n",
              "      <td>Residential</td>\n",
              "      <td>NaN</td>\n",
              "      <td>NaN</td>\n",
              "      <td>733 3RD STREET NE</td>\n",
              "      <td>WASHINGTON</td>\n",
              "      <td>DC</td>\n",
              "      <td>20002.0</td>\n",
              "      <td>18S UJ 26441 07540</td>\n",
              "      <td>38.899603</td>\n",
              "      <td>-77.001426</td>\n",
              "      <td>Old City 1</td>\n",
              "      <td>039 J Old City 1</td>\n",
              "      <td>8301.0</td>\n",
              "      <td>008301 1002</td>\n",
              "      <td>Ward 6</td>\n",
              "      <td>777</td>\n",
              "      <td>-77.001216</td>\n",
              "      <td>38.899468</td>\n",
              "      <td>NE</td>\n",
              "    </tr>\n",
              "    <tr>\n",
              "      <th>...</th>\n",
              "      <td>...</td>\n",
              "      <td>...</td>\n",
              "      <td>...</td>\n",
              "      <td>...</td>\n",
              "      <td>...</td>\n",
              "      <td>...</td>\n",
              "      <td>...</td>\n",
              "      <td>...</td>\n",
              "      <td>...</td>\n",
              "      <td>...</td>\n",
              "      <td>...</td>\n",
              "      <td>...</td>\n",
              "      <td>...</td>\n",
              "      <td>...</td>\n",
              "      <td>...</td>\n",
              "      <td>...</td>\n",
              "      <td>...</td>\n",
              "      <td>...</td>\n",
              "      <td>...</td>\n",
              "      <td>...</td>\n",
              "      <td>...</td>\n",
              "      <td>...</td>\n",
              "      <td>...</td>\n",
              "      <td>...</td>\n",
              "      <td>...</td>\n",
              "      <td>...</td>\n",
              "      <td>...</td>\n",
              "      <td>...</td>\n",
              "      <td>...</td>\n",
              "      <td>...</td>\n",
              "      <td>...</td>\n",
              "      <td>...</td>\n",
              "      <td>...</td>\n",
              "      <td>...</td>\n",
              "      <td>...</td>\n",
              "      <td>...</td>\n",
              "      <td>...</td>\n",
              "      <td>...</td>\n",
              "      <td>...</td>\n",
              "      <td>...</td>\n",
              "      <td>...</td>\n",
              "      <td>...</td>\n",
              "      <td>...</td>\n",
              "      <td>...</td>\n",
              "      <td>...</td>\n",
              "      <td>...</td>\n",
              "      <td>...</td>\n",
              "      <td>...</td>\n",
              "    </tr>\n",
              "    <tr>\n",
              "      <th>102170</th>\n",
              "      <td>2</td>\n",
              "      <td>1</td>\n",
              "      <td>Warm Cool</td>\n",
              "      <td>Y</td>\n",
              "      <td>0.0</td>\n",
              "      <td>8</td>\n",
              "      <td>3</td>\n",
              "      <td>2005.0</td>\n",
              "      <td>NaN</td>\n",
              "      <td>2009</td>\n",
              "      <td>2.0</td>\n",
              "      <td>2005-07-21 00:00:00</td>\n",
              "      <td>NaN</td>\n",
              "      <td>U</td>\n",
              "      <td>1</td>\n",
              "      <td>1360.0</td>\n",
              "      <td>1</td>\n",
              "      <td>2 Story</td>\n",
              "      <td>Row Inside</td>\n",
              "      <td>Above Average</td>\n",
              "      <td>Good</td>\n",
              "      <td>Brick/Siding</td>\n",
              "      <td>Comp Shingle</td>\n",
              "      <td>Carpet</td>\n",
              "      <td>1.0</td>\n",
              "      <td>0</td>\n",
              "      <td>11</td>\n",
              "      <td>1989</td>\n",
              "      <td>2018-07-22 18:01:43</td>\n",
              "      <td>Residential</td>\n",
              "      <td>NaN</td>\n",
              "      <td>NaN</td>\n",
              "      <td>1827 TUBMAN ROAD SE</td>\n",
              "      <td>WASHINGTON</td>\n",
              "      <td>DC</td>\n",
              "      <td>20020.0</td>\n",
              "      <td>18S UJ 28286 01866</td>\n",
              "      <td>38.848869</td>\n",
              "      <td>-76.978739</td>\n",
              "      <td>Randle Heights</td>\n",
              "      <td>043 D Randle Heights</td>\n",
              "      <td>7404.0</td>\n",
              "      <td>007404 1009</td>\n",
              "      <td>Ward 8</td>\n",
              "      <td>5882</td>\n",
              "      <td>-76.977558</td>\n",
              "      <td>38.849969</td>\n",
              "      <td>SE</td>\n",
              "    </tr>\n",
              "    <tr>\n",
              "      <th>102659</th>\n",
              "      <td>1</td>\n",
              "      <td>0</td>\n",
              "      <td>Forced Air</td>\n",
              "      <td>Y</td>\n",
              "      <td>0.0</td>\n",
              "      <td>5</td>\n",
              "      <td>3</td>\n",
              "      <td>1997.0</td>\n",
              "      <td>2011.0</td>\n",
              "      <td>2004</td>\n",
              "      <td>2.0</td>\n",
              "      <td>2012-01-09 00:00:00</td>\n",
              "      <td>175000.0</td>\n",
              "      <td>Q</td>\n",
              "      <td>1</td>\n",
              "      <td>1224.0</td>\n",
              "      <td>1</td>\n",
              "      <td>2 Story</td>\n",
              "      <td>Row Inside</td>\n",
              "      <td>Above Average</td>\n",
              "      <td>Good</td>\n",
              "      <td>Vinyl Siding</td>\n",
              "      <td>Comp Shingle</td>\n",
              "      <td>Hardwood/Carp</td>\n",
              "      <td>1.0</td>\n",
              "      <td>0</td>\n",
              "      <td>11</td>\n",
              "      <td>1800</td>\n",
              "      <td>2018-07-22 18:01:43</td>\n",
              "      <td>Residential</td>\n",
              "      <td>NaN</td>\n",
              "      <td>NaN</td>\n",
              "      <td>2484 SKYLAND PLACE SE</td>\n",
              "      <td>WASHINGTON</td>\n",
              "      <td>DC</td>\n",
              "      <td>20020.0</td>\n",
              "      <td>18S UJ 28714 03085</td>\n",
              "      <td>38.859938</td>\n",
              "      <td>-76.974126</td>\n",
              "      <td>Randle Heights</td>\n",
              "      <td>043 B Randle Heights</td>\n",
              "      <td>7504.0</td>\n",
              "      <td>007504 1006</td>\n",
              "      <td>Ward 8</td>\n",
              "      <td>5740</td>\n",
              "      <td>-76.972908</td>\n",
              "      <td>38.859808</td>\n",
              "      <td>SE</td>\n",
              "    </tr>\n",
              "    <tr>\n",
              "      <th>102691</th>\n",
              "      <td>0</td>\n",
              "      <td>0</td>\n",
              "      <td>No Data</td>\n",
              "      <td>0</td>\n",
              "      <td>0.0</td>\n",
              "      <td>0</td>\n",
              "      <td>0</td>\n",
              "      <td>NaN</td>\n",
              "      <td>NaN</td>\n",
              "      <td>1943</td>\n",
              "      <td>0.0</td>\n",
              "      <td>NaN</td>\n",
              "      <td>NaN</td>\n",
              "      <td>U</td>\n",
              "      <td>1</td>\n",
              "      <td>5082.0</td>\n",
              "      <td>1</td>\n",
              "      <td>Default</td>\n",
              "      <td>Default</td>\n",
              "      <td>No Data</td>\n",
              "      <td>Default</td>\n",
              "      <td>Default</td>\n",
              "      <td>Typical</td>\n",
              "      <td>Default</td>\n",
              "      <td>0.0</td>\n",
              "      <td>0</td>\n",
              "      <td>19</td>\n",
              "      <td>89720</td>\n",
              "      <td>2018-07-22 18:01:43</td>\n",
              "      <td>Residential</td>\n",
              "      <td>NaN</td>\n",
              "      <td>NaN</td>\n",
              "      <td>2118 RIDGECREST COURT SE</td>\n",
              "      <td>WASHINGTON</td>\n",
              "      <td>DC</td>\n",
              "      <td>20020.0</td>\n",
              "      <td>18S UJ 28822 01856</td>\n",
              "      <td>38.848884</td>\n",
              "      <td>-76.972566</td>\n",
              "      <td>Randle Heights</td>\n",
              "      <td>043 C Randle Heights</td>\n",
              "      <td>7403.0</td>\n",
              "      <td>007403 1002</td>\n",
              "      <td>Ward 8</td>\n",
              "      <td>5894</td>\n",
              "      <td>-76.973811</td>\n",
              "      <td>38.848368</td>\n",
              "      <td>SE</td>\n",
              "    </tr>\n",
              "    <tr>\n",
              "      <th>104206</th>\n",
              "      <td>0</td>\n",
              "      <td>0</td>\n",
              "      <td>No Data</td>\n",
              "      <td>0</td>\n",
              "      <td>0.0</td>\n",
              "      <td>0</td>\n",
              "      <td>0</td>\n",
              "      <td>2004.0</td>\n",
              "      <td>NaN</td>\n",
              "      <td>2004</td>\n",
              "      <td>0.0</td>\n",
              "      <td>2018-04-13 00:00:00</td>\n",
              "      <td>25000000.0</td>\n",
              "      <td>U</td>\n",
              "      <td>4</td>\n",
              "      <td>2000.0</td>\n",
              "      <td>1</td>\n",
              "      <td>1 Story</td>\n",
              "      <td>Default</td>\n",
              "      <td>No Data</td>\n",
              "      <td>Default</td>\n",
              "      <td>Default</td>\n",
              "      <td>Typical</td>\n",
              "      <td>Default</td>\n",
              "      <td>0.0</td>\n",
              "      <td>0</td>\n",
              "      <td>19</td>\n",
              "      <td>21017</td>\n",
              "      <td>2018-07-22 18:01:43</td>\n",
              "      <td>Residential</td>\n",
              "      <td>NaN</td>\n",
              "      <td>NaN</td>\n",
              "      <td>4242 7TH STREET SE</td>\n",
              "      <td>WASHINGTON</td>\n",
              "      <td>DC</td>\n",
              "      <td>20032.0</td>\n",
              "      <td>18S UH 26720 99647</td>\n",
              "      <td>38.828575</td>\n",
              "      <td>-76.996221</td>\n",
              "      <td>Congress Heights</td>\n",
              "      <td>016 C Congress Heights</td>\n",
              "      <td>9811.0</td>\n",
              "      <td>009811 2001</td>\n",
              "      <td>Ward 8</td>\n",
              "      <td>6208</td>\n",
              "      <td>-76.997729</td>\n",
              "      <td>38.827709</td>\n",
              "      <td>SE</td>\n",
              "    </tr>\n",
              "    <tr>\n",
              "      <th>105661</th>\n",
              "      <td>2</td>\n",
              "      <td>0</td>\n",
              "      <td>Warm Cool</td>\n",
              "      <td>Y</td>\n",
              "      <td>0.0</td>\n",
              "      <td>5</td>\n",
              "      <td>0</td>\n",
              "      <td>2002.0</td>\n",
              "      <td>NaN</td>\n",
              "      <td>2005</td>\n",
              "      <td>1.0</td>\n",
              "      <td>2005-04-29 00:00:00</td>\n",
              "      <td>91950.0</td>\n",
              "      <td>U</td>\n",
              "      <td>1</td>\n",
              "      <td>1808.0</td>\n",
              "      <td>1</td>\n",
              "      <td>1 Story</td>\n",
              "      <td>Single</td>\n",
              "      <td>Above Average</td>\n",
              "      <td>Good</td>\n",
              "      <td>Brick/Siding</td>\n",
              "      <td>Comp Shingle</td>\n",
              "      <td>Vinyl Comp</td>\n",
              "      <td>1.0</td>\n",
              "      <td>0</td>\n",
              "      <td>19</td>\n",
              "      <td>187301</td>\n",
              "      <td>2018-07-22 18:01:43</td>\n",
              "      <td>Residential</td>\n",
              "      <td>NaN</td>\n",
              "      <td>NaN</td>\n",
              "      <td>828 BELLEVUE STREET SE</td>\n",
              "      <td>WASHINGTON</td>\n",
              "      <td>DC</td>\n",
              "      <td>20032.0</td>\n",
              "      <td>18S UH 27158 99865</td>\n",
              "      <td>38.830623</td>\n",
              "      <td>-76.991235</td>\n",
              "      <td>Congress Heights</td>\n",
              "      <td>016 C Congress Heights</td>\n",
              "      <td>9700.0</td>\n",
              "      <td>009700 2000</td>\n",
              "      <td>Ward 8</td>\n",
              "      <td>6159</td>\n",
              "      <td>-76.991855</td>\n",
              "      <td>38.830364</td>\n",
              "      <td>SE</td>\n",
              "    </tr>\n",
              "  </tbody>\n",
              "</table>\n",
              "<p>168 rows × 48 columns</p>\n",
              "</div>"
            ],
            "text/plain": [
              "        BATHRM  HF_BATHRM           HEAT  ...          X          Y  QUADRANT\n",
              "980          1          1     Forced Air  ... -77.047778  38.907803        NW\n",
              "1883         3          0     Forced Air  ... -77.015750  38.913114        NW\n",
              "2388         2          0  Hot Water Rad  ... -77.042503  38.914980        NW\n",
              "3814         2          1  Hot Water Rad  ... -77.002648  38.899249        NE\n",
              "5779         2          1      Warm Cool  ... -77.001216  38.899468        NE\n",
              "...        ...        ...            ...  ...        ...        ...       ...\n",
              "102170       2          1      Warm Cool  ... -76.977558  38.849969        SE\n",
              "102659       1          0     Forced Air  ... -76.972908  38.859808        SE\n",
              "102691       0          0        No Data  ... -76.973811  38.848368        SE\n",
              "104206       0          0        No Data  ... -76.997729  38.827709        SE\n",
              "105661       2          0      Warm Cool  ... -76.991855  38.830364        SE\n",
              "\n",
              "[168 rows x 48 columns]"
            ]
          },
          "metadata": {
            "tags": []
          },
          "execution_count": 17
        }
      ]
    },
    {
      "cell_type": "code",
      "metadata": {
        "colab": {
          "base_uri": "https://localhost:8080/"
        },
        "id": "osXX2CzGbfq7",
        "outputId": "9ed7f1ff-ba74-4f74-e231-01b04a04d172"
      },
      "source": [
        "df['ROOMS'].value_counts()"
      ],
      "execution_count": 18,
      "outputs": [
        {
          "output_type": "execute_result",
          "data": {
            "text/plain": [
              "6     37259\n",
              "7     22338\n",
              "4     20593\n",
              "3     17759\n",
              "5     16852\n",
              "8     16327\n",
              "9      7616\n",
              "10     5909\n",
              "2      5294\n",
              "12     2929\n",
              "11     2364\n",
              "16     1346\n",
              "13      766\n",
              "14      595\n",
              "15      310\n",
              "20      148\n",
              "0       138\n",
              "18      124\n",
              "1        96\n",
              "17       77\n",
              "19       41\n",
              "21       20\n",
              "22       10\n",
              "23       10\n",
              "24       10\n",
              "25        6\n",
              "28        5\n",
              "27        2\n",
              "39        2\n",
              "41        1\n",
              "34        1\n",
              "40        1\n",
              "37        1\n",
              "35        1\n",
              "29        1\n",
              "32        1\n",
              "31        1\n",
              "30        1\n",
              "26        1\n",
              "48        1\n",
              "Name: ROOMS, dtype: int64"
            ]
          },
          "metadata": {
            "tags": []
          },
          "execution_count": 18
        }
      ]
    },
    {
      "cell_type": "code",
      "metadata": {
        "colab": {
          "base_uri": "https://localhost:8080/"
        },
        "id": "W1ZO5fRtb_b7",
        "outputId": "d19bb5f3-c523-40a2-d8e2-3d00c40f75b4"
      },
      "source": [
        "df['BEDRM'].value_counts()"
      ],
      "execution_count": 19,
      "outputs": [
        {
          "output_type": "execute_result",
          "data": {
            "text/plain": [
              "3     57864\n",
              "2     34946\n",
              "4     24893\n",
              "1     24181\n",
              "5      6898\n",
              "0      5297\n",
              "6      3090\n",
              "8       792\n",
              "7       750\n",
              "9       123\n",
              "10       62\n",
              "12       34\n",
              "11       13\n",
              "13        4\n",
              "15        3\n",
              "14        2\n",
              "16        2\n",
              "20        1\n",
              "19        1\n",
              "24        1\n",
              "Name: BEDRM, dtype: int64"
            ]
          },
          "metadata": {
            "tags": []
          },
          "execution_count": 19
        }
      ]
    },
    {
      "cell_type": "code",
      "metadata": {
        "colab": {
          "base_uri": "https://localhost:8080/"
        },
        "id": "IOyGxisKcIGc",
        "outputId": "30922110-4f36-4dcb-fa5e-1f43cc0f2f71"
      },
      "source": [
        "df['AYB'].value_counts()"
      ],
      "execution_count": 20,
      "outputs": [
        {
          "output_type": "execute_result",
          "data": {
            "text/plain": [
              "1900.0    8967\n",
              "1925.0    5129\n",
              "1910.0    4563\n",
              "1940.0    4316\n",
              "1923.0    3724\n",
              "          ... \n",
              "1844.0       1\n",
              "1842.0       1\n",
              "1841.0       1\n",
              "1806.0       1\n",
              "2019.0       1\n",
              "Name: AYB, Length: 220, dtype: int64"
            ]
          },
          "metadata": {
            "tags": []
          },
          "execution_count": 20
        }
      ]
    },
    {
      "cell_type": "code",
      "metadata": {
        "colab": {
          "base_uri": "https://localhost:8080/"
        },
        "id": "GrTOcpNRceYU",
        "outputId": "46d2b526-ac52-48e3-ec9b-d8afde3fc987"
      },
      "source": [
        "df['YR_RMDL'].value_counts()"
      ],
      "execution_count": 21,
      "outputs": [
        {
          "output_type": "execute_result",
          "data": {
            "text/plain": [
              "2006.0    5029\n",
              "2005.0    4937\n",
              "2004.0    3985\n",
              "2007.0    3771\n",
              "1980.0    3310\n",
              "          ... \n",
              "1912.0       1\n",
              "1913.0       1\n",
              "1915.0       1\n",
              "1937.0       1\n",
              "20.0         1\n",
              "Name: YR_RMDL, Length: 110, dtype: int64"
            ]
          },
          "metadata": {
            "tags": []
          },
          "execution_count": 21
        }
      ]
    },
    {
      "cell_type": "code",
      "metadata": {
        "colab": {
          "base_uri": "https://localhost:8080/"
        },
        "id": "gK0i614RcktN",
        "outputId": "e0d83050-9225-4fc6-af71-a3aa6444f089"
      },
      "source": [
        "df['EYB'].value_counts()"
      ],
      "execution_count": 22,
      "outputs": [
        {
          "output_type": "execute_result",
          "data": {
            "text/plain": [
              "1957    12541\n",
              "1954    12346\n",
              "1967    10408\n",
              "1964     9362\n",
              "1960     7636\n",
              "        ...  \n",
              "1876        6\n",
              "1914        5\n",
              "1865        4\n",
              "1886        4\n",
              "1800        4\n",
              "Name: EYB, Length: 135, dtype: int64"
            ]
          },
          "metadata": {
            "tags": []
          },
          "execution_count": 22
        }
      ]
    },
    {
      "cell_type": "code",
      "metadata": {
        "colab": {
          "base_uri": "https://localhost:8080/"
        },
        "id": "K55vCRwmcvEU",
        "outputId": "c26527d2-d01e-4b6c-e684-14bf2d913b1f"
      },
      "source": [
        "df['STORIES'].value_counts()"
      ],
      "execution_count": 23,
      "outputs": [
        {
          "output_type": "execute_result",
          "data": {
            "text/plain": [
              "2.00      79357\n",
              "3.00       9230\n",
              "2.50       6105\n",
              "1.00       4683\n",
              "1.50       2291\n",
              "2.25       2225\n",
              "1.75       1175\n",
              "1.25        452\n",
              "2.75        444\n",
              "4.00        375\n",
              "3.50        109\n",
              "0.00         43\n",
              "9.00         36\n",
              "2.70         28\n",
              "3.25         20\n",
              "3.75         15\n",
              "2.20         13\n",
              "5.00         11\n",
              "6.00          7\n",
              "1.70          4\n",
              "25.00         4\n",
              "2.30          3\n",
              "7.00          2\n",
              "275.00        2\n",
              "3.70          2\n",
              "4.50          2\n",
              "0.75          1\n",
              "2.33          1\n",
              "12.00         1\n",
              "43.00         1\n",
              "4.75          1\n",
              "826.00        1\n",
              "20.00         1\n",
              "0.25          1\n",
              "0.50          1\n",
              "8.25          1\n",
              "65.00         1\n",
              "1.34          1\n",
              "250.00        1\n",
              "3.20          1\n",
              "Name: STORIES, dtype: int64"
            ]
          },
          "metadata": {
            "tags": []
          },
          "execution_count": 23
        }
      ]
    },
    {
      "cell_type": "code",
      "metadata": {
        "colab": {
          "base_uri": "https://localhost:8080/"
        },
        "id": "m4m6GNbRc-Mq",
        "outputId": "c50a82c8-5144-4304-95e3-19a81d9bc924"
      },
      "source": [
        "df['SALEDATE'].value_counts()"
      ],
      "execution_count": 24,
      "outputs": [
        {
          "output_type": "execute_result",
          "data": {
            "text/plain": [
              "2007-04-10 00:00:00    413\n",
              "1999-04-01 00:00:00    266\n",
              "2001-01-01 00:00:00    258\n",
              "2015-11-17 00:00:00    160\n",
              "2010-05-04 00:00:00    134\n",
              "                      ... \n",
              "1995-11-28 00:00:00      1\n",
              "2000-02-18 00:00:00      1\n",
              "1976-01-14 00:00:00      1\n",
              "1992-03-06 00:00:00      1\n",
              "1980-09-24 00:00:00      1\n",
              "Name: SALEDATE, Length: 6937, dtype: int64"
            ]
          },
          "metadata": {
            "tags": []
          },
          "execution_count": 24
        }
      ]
    },
    {
      "cell_type": "code",
      "metadata": {
        "colab": {
          "base_uri": "https://localhost:8080/"
        },
        "id": "yZTkMni6dSPT",
        "outputId": "33a3b609-16f1-4c24-812b-363dbc1ef521"
      },
      "source": [
        "df['PRICE'].describe()"
      ],
      "execution_count": 25,
      "outputs": [
        {
          "output_type": "execute_result",
          "data": {
            "text/plain": [
              "count    9.821600e+04\n",
              "mean     9.313516e+05\n",
              "std      7.061325e+06\n",
              "min      1.000000e+00\n",
              "25%      2.400000e+05\n",
              "50%      3.999990e+05\n",
              "75%      6.520000e+05\n",
              "max      1.374275e+08\n",
              "Name: PRICE, dtype: float64"
            ]
          },
          "metadata": {
            "tags": []
          },
          "execution_count": 25
        }
      ]
    },
    {
      "cell_type": "code",
      "metadata": {
        "colab": {
          "base_uri": "https://localhost:8080/"
        },
        "id": "aTjnAgnOde6D",
        "outputId": "3dcdc972-e99a-4f37-be7e-0ec1d6709e8b"
      },
      "source": [
        "df['QUALIFIED'].value_counts()"
      ],
      "execution_count": 27,
      "outputs": [
        {
          "output_type": "execute_result",
          "data": {
            "text/plain": [
              "U    82608\n",
              "Q    76349\n",
              "Name: QUALIFIED, dtype: int64"
            ]
          },
          "metadata": {
            "tags": []
          },
          "execution_count": 27
        }
      ]
    },
    {
      "cell_type": "code",
      "metadata": {
        "colab": {
          "base_uri": "https://localhost:8080/"
        },
        "id": "a7jiPPK46Q5J",
        "outputId": "eee7be14-e909-4997-d397-f8f99f03a749"
      },
      "source": [
        "df['SALE_NUM'].value_counts()"
      ],
      "execution_count": 28,
      "outputs": [
        {
          "output_type": "execute_result",
          "data": {
            "text/plain": [
              "1     113671\n",
              "3      14738\n",
              "2      12901\n",
              "4       9851\n",
              "5       4687\n",
              "6       1970\n",
              "7        703\n",
              "8        261\n",
              "9        108\n",
              "10        37\n",
              "11        17\n",
              "12         6\n",
              "13         3\n",
              "15         2\n",
              "14         2\n",
              "Name: SALE_NUM, dtype: int64"
            ]
          },
          "metadata": {
            "tags": []
          },
          "execution_count": 28
        }
      ]
    },
    {
      "cell_type": "code",
      "metadata": {
        "colab": {
          "base_uri": "https://localhost:8080/"
        },
        "id": "Ug3hKKuU6ZRp",
        "outputId": "ae9c95e0-a15e-4569-be1a-e87fa8287b3f"
      },
      "source": [
        "df['GBA'].describe()"
      ],
      "execution_count": 30,
      "outputs": [
        {
          "output_type": "execute_result",
          "data": {
            "text/plain": [
              "count    106696.000000\n",
              "mean       1714.539889\n",
              "std         880.677860\n",
              "min           0.000000\n",
              "25%        1190.000000\n",
              "50%        1480.000000\n",
              "75%        1966.000000\n",
              "max       45384.000000\n",
              "Name: GBA, dtype: float64"
            ]
          },
          "metadata": {
            "tags": []
          },
          "execution_count": 30
        }
      ]
    },
    {
      "cell_type": "code",
      "metadata": {
        "colab": {
          "base_uri": "https://localhost:8080/"
        },
        "id": "ox9tEPv-6elJ",
        "outputId": "b71ecc51-1e22-4aeb-9b55-ff4b6c8f6b49"
      },
      "source": [
        "df['BLDG_NUM'].value_counts()"
      ],
      "execution_count": 31,
      "outputs": [
        {
          "output_type": "execute_result",
          "data": {
            "text/plain": [
              "1    158884\n",
              "2        59\n",
              "3         8\n",
              "4         4\n",
              "5         2\n",
              "Name: BLDG_NUM, dtype: int64"
            ]
          },
          "metadata": {
            "tags": []
          },
          "execution_count": 31
        }
      ]
    },
    {
      "cell_type": "code",
      "metadata": {
        "colab": {
          "base_uri": "https://localhost:8080/"
        },
        "id": "cTkdDFvH6smb",
        "outputId": "05ff4517-f3e2-4007-ba30-7ee4fce45360"
      },
      "source": [
        "df['STYLE'].value_counts()"
      ],
      "execution_count": 33,
      "outputs": [
        {
          "output_type": "execute_result",
          "data": {
            "text/plain": [
              "2 Story            81137\n",
              "3 Story             9449\n",
              "2.5 Story Fin       7000\n",
              "1 Story             4420\n",
              "1.5 Story Fin       2655\n",
              "2.5 Story Unfin      729\n",
              "4 Story              369\n",
              "Split Level          303\n",
              "Split Foyer          279\n",
              "3.5 Story Fin        133\n",
              "1.5 Story Unfin      112\n",
              "Default               65\n",
              "Bi-Level              19\n",
              "4.5 Story Fin         13\n",
              "3.5 Story Unfin        8\n",
              "4.5 Story Unfin        2\n",
              "Vacant                 2\n",
              "Outbuildings           1\n",
              "Name: STYLE, dtype: int64"
            ]
          },
          "metadata": {
            "tags": []
          },
          "execution_count": 33
        }
      ]
    },
    {
      "cell_type": "code",
      "metadata": {
        "colab": {
          "base_uri": "https://localhost:8080/"
        },
        "id": "PlH_q0gO60mr",
        "outputId": "cd0caf07-823d-4dba-9220-eaa3c02b8bc1"
      },
      "source": [
        "df['STRUCT'].value_counts()"
      ],
      "execution_count": 35,
      "outputs": [
        {
          "output_type": "execute_result",
          "data": {
            "text/plain": [
              "Row Inside       40593\n",
              "Single           32063\n",
              "Semi-Detached    16756\n",
              "Row End          12225\n",
              "Multi             4726\n",
              "Town Inside        218\n",
              "Town End            85\n",
              "Default             26\n",
              "Vacant Land          4\n",
              "Name: STRUCT, dtype: int64"
            ]
          },
          "metadata": {
            "tags": []
          },
          "execution_count": 35
        }
      ]
    },
    {
      "cell_type": "code",
      "metadata": {
        "colab": {
          "base_uri": "https://localhost:8080/"
        },
        "id": "roOZXNKf78eI",
        "outputId": "e45930ac-a69c-4de5-858d-7feef0ec66fa"
      },
      "source": [
        "df['GRADE'].value_counts()"
      ],
      "execution_count": 36,
      "outputs": [
        {
          "output_type": "execute_result",
          "data": {
            "text/plain": [
              "Average          37357\n",
              "Above Average    32101\n",
              "Good Quality     20800\n",
              "Very Good         8976\n",
              "Excellent         3390\n",
              "Superior          2634\n",
              "Exceptional-A      818\n",
              "Exceptional-B      278\n",
              "Fair Quality       150\n",
              "Exceptional-C       92\n",
              "Exceptional-D       75\n",
              "No Data             19\n",
              "Low Quality          6\n",
              "Name: GRADE, dtype: int64"
            ]
          },
          "metadata": {
            "tags": []
          },
          "execution_count": 36
        }
      ]
    },
    {
      "cell_type": "code",
      "metadata": {
        "colab": {
          "base_uri": "https://localhost:8080/"
        },
        "id": "3j_ni4vO8EBu",
        "outputId": "f99e5e0f-0698-45dd-be79-26950af079d3"
      },
      "source": [
        "df['CNDTN'].value_counts()"
      ],
      "execution_count": 37,
      "outputs": [
        {
          "output_type": "execute_result",
          "data": {
            "text/plain": [
              "Average      58217\n",
              "Good         37497\n",
              "Very Good     8130\n",
              "Excellent     1338\n",
              "Fair          1320\n",
              "Poor           175\n",
              "Default         19\n",
              "Name: CNDTN, dtype: int64"
            ]
          },
          "metadata": {
            "tags": []
          },
          "execution_count": 37
        }
      ]
    },
    {
      "cell_type": "code",
      "metadata": {
        "colab": {
          "base_uri": "https://localhost:8080/"
        },
        "id": "Q5XYZHM18IJX",
        "outputId": "849ba2f9-0985-4491-885c-21b957a3687a"
      },
      "source": [
        "df['EXTWALL'].value_counts()"
      ],
      "execution_count": 38,
      "outputs": [
        {
          "output_type": "execute_result",
          "data": {
            "text/plain": [
              "Common Brick      81068\n",
              "Brick/Siding       5569\n",
              "Vinyl Siding       5290\n",
              "Wood Siding        4540\n",
              "Stucco             3216\n",
              "Shingle            1181\n",
              "Brick Veneer       1069\n",
              "Aluminum            954\n",
              "Stone               744\n",
              "Brick/Stucco        673\n",
              "Brick/Stone         626\n",
              "Face Brick          512\n",
              "Stone/Siding        339\n",
              "Stone Veneer        254\n",
              "Stone/Stucco        238\n",
              "Hardboard           119\n",
              "Concrete             82\n",
              "Metal Siding         66\n",
              "Concrete Block       54\n",
              "Stucco Block         51\n",
              "Default              32\n",
              "Plywood              15\n",
              "Adobe                 2\n",
              "Rustic Log            1\n",
              "SPlaster              1\n",
              "Name: EXTWALL, dtype: int64"
            ]
          },
          "metadata": {
            "tags": []
          },
          "execution_count": 38
        }
      ]
    },
    {
      "cell_type": "code",
      "metadata": {
        "colab": {
          "base_uri": "https://localhost:8080/"
        },
        "id": "iUJCxESI8NzJ",
        "outputId": "5589559f-450b-4957-d9c1-0d9a6fbc77f7"
      },
      "source": [
        "df['ROOF'].value_counts()"
      ],
      "execution_count": 39,
      "outputs": [
        {
          "output_type": "execute_result",
          "data": {
            "text/plain": [
              "Built Up          31402\n",
              "Comp Shingle      30301\n",
              "Metal- Sms        29957\n",
              "Slate             11135\n",
              "Neopren            1254\n",
              "Shake               907\n",
              "Clay Tile           654\n",
              "Shingle             433\n",
              "Metal- Pre          244\n",
              "Typical             229\n",
              "Composition Ro      102\n",
              "Metal- Cpr           41\n",
              "Concrete Tile        17\n",
              "Water Proof           9\n",
              "Wood- FS              7\n",
              "Concrete              4\n",
              "Name: ROOF, dtype: int64"
            ]
          },
          "metadata": {
            "tags": []
          },
          "execution_count": 39
        }
      ]
    },
    {
      "cell_type": "code",
      "metadata": {
        "colab": {
          "base_uri": "https://localhost:8080/"
        },
        "id": "jGzf0jUU8Vqs",
        "outputId": "58d62553-c2a4-4c5b-8c1e-8553fa82b465"
      },
      "source": [
        "df['INTWALL'].value_counts()"
      ],
      "execution_count": 40,
      "outputs": [
        {
          "output_type": "execute_result",
          "data": {
            "text/plain": [
              "Hardwood         83643\n",
              "Hardwood/Carp    10938\n",
              "Wood Floor        8170\n",
              "Carpet            3563\n",
              "Lt Concrete        141\n",
              "Default            110\n",
              "Ceramic Tile        50\n",
              "Vinyl Comp          28\n",
              "Parquet             19\n",
              "Resiliant           15\n",
              "Vinyl Sheet         13\n",
              "Terrazo              6\n",
              "Name: INTWALL, dtype: int64"
            ]
          },
          "metadata": {
            "tags": []
          },
          "execution_count": 40
        }
      ]
    },
    {
      "cell_type": "code",
      "metadata": {
        "colab": {
          "base_uri": "https://localhost:8080/"
        },
        "id": "mB6pQ73J8ZRh",
        "outputId": "e8d4f5e6-f53e-4cb7-b12f-ec5780c9a279"
      },
      "source": [
        "df['KITCHENS'].value_counts()"
      ],
      "execution_count": 41,
      "outputs": [
        {
          "output_type": "execute_result",
          "data": {
            "text/plain": [
              "1.0     90434\n",
              "2.0     11904\n",
              "4.0      3051\n",
              "3.0      1173\n",
              "0.0       117\n",
              "5.0        11\n",
              "6.0         4\n",
              "44.0        1\n",
              "Name: KITCHENS, dtype: int64"
            ]
          },
          "metadata": {
            "tags": []
          },
          "execution_count": 41
        }
      ]
    },
    {
      "cell_type": "code",
      "metadata": {
        "colab": {
          "base_uri": "https://localhost:8080/"
        },
        "id": "hTr9cZrF8x7N",
        "outputId": "c1411323-5d2a-491b-c68e-d8724c2b5f00"
      },
      "source": [
        "df['FIREPLACES'].value_counts()"
      ],
      "execution_count": 42,
      "outputs": [
        {
          "output_type": "execute_result",
          "data": {
            "text/plain": [
              "0         103837\n",
              "1          40567\n",
              "2          10779\n",
              "3           2410\n",
              "4            841\n",
              "5            277\n",
              "6            148\n",
              "7             47\n",
              "8             18\n",
              "9             10\n",
              "10             8\n",
              "11             3\n",
              "12             3\n",
              "13             3\n",
              "4068           1\n",
              "922            1\n",
              "293920         1\n",
              "1601           1\n",
              "200            1\n",
              "1017           1\n",
              "Name: FIREPLACES, dtype: int64"
            ]
          },
          "metadata": {
            "tags": []
          },
          "execution_count": 42
        }
      ]
    },
    {
      "cell_type": "code",
      "metadata": {
        "colab": {
          "base_uri": "https://localhost:8080/"
        },
        "id": "FuYvtLXC80x_",
        "outputId": "ee73eef1-632a-4854-c325-ca4a8d87d624"
      },
      "source": [
        "df['USECODE'].value_counts()"
      ],
      "execution_count": 43,
      "outputs": [
        {
          "output_type": "execute_result",
          "data": {
            "text/plain": [
              "11     45597\n",
              "12     31623\n",
              "17     27511\n",
              "16     24741\n",
              "13     16588\n",
              "24      8272\n",
              "23      4497\n",
              "15        79\n",
              "19        31\n",
              "117        8\n",
              "81         4\n",
              "83         2\n",
              "116        1\n",
              "41         1\n",
              "39         1\n",
              "29         1\n",
              "Name: USECODE, dtype: int64"
            ]
          },
          "metadata": {
            "tags": []
          },
          "execution_count": 43
        }
      ]
    },
    {
      "cell_type": "code",
      "metadata": {
        "colab": {
          "base_uri": "https://localhost:8080/"
        },
        "id": "ztD2BWEy85xe",
        "outputId": "34046298-3ea4-4404-eb18-edf13fbd7775"
      },
      "source": [
        "df['LANDAREA'].describe()"
      ],
      "execution_count": 45,
      "outputs": [
        {
          "output_type": "execute_result",
          "data": {
            "text/plain": [
              "count    158957.000000\n",
              "mean       2473.282158\n",
              "std        5059.046023\n",
              "min           0.000000\n",
              "25%         697.000000\n",
              "50%        1649.000000\n",
              "75%        3000.000000\n",
              "max      942632.000000\n",
              "Name: LANDAREA, dtype: float64"
            ]
          },
          "metadata": {
            "tags": []
          },
          "execution_count": 45
        }
      ]
    },
    {
      "cell_type": "code",
      "metadata": {
        "colab": {
          "base_uri": "https://localhost:8080/"
        },
        "id": "O1uSr25m88xw",
        "outputId": "5225051e-b738-413a-d7d1-eaa912b3a81f"
      },
      "source": [
        "df['GIS_LAST_MOD_DTTM'].value_counts()"
      ],
      "execution_count": 46,
      "outputs": [
        {
          "output_type": "execute_result",
          "data": {
            "text/plain": [
              "2018-07-22 18:01:43    106696\n",
              "2018-07-22 18:01:38     52261\n",
              "Name: GIS_LAST_MOD_DTTM, dtype: int64"
            ]
          },
          "metadata": {
            "tags": []
          },
          "execution_count": 46
        }
      ]
    },
    {
      "cell_type": "code",
      "metadata": {
        "colab": {
          "base_uri": "https://localhost:8080/"
        },
        "id": "9STJR0MI9Glh",
        "outputId": "9d68fa32-0182-4555-e17d-61b27e562019"
      },
      "source": [
        "df['SOURCE'].value_counts()"
      ],
      "execution_count": 47,
      "outputs": [
        {
          "output_type": "execute_result",
          "data": {
            "text/plain": [
              "Residential    106696\n",
              "Condominium     52261\n",
              "Name: SOURCE, dtype: int64"
            ]
          },
          "metadata": {
            "tags": []
          },
          "execution_count": 47
        }
      ]
    },
    {
      "cell_type": "code",
      "metadata": {
        "colab": {
          "base_uri": "https://localhost:8080/"
        },
        "id": "aEjT9NKJ9U-H",
        "outputId": "c26da5aa-b82a-41d2-ff1f-2c4d4367c12f"
      },
      "source": [
        "df['CMPLX_NUM'].describe()"
      ],
      "execution_count": 49,
      "outputs": [
        {
          "output_type": "execute_result",
          "data": {
            "text/plain": [
              "count    52261.000000\n",
              "mean      2371.544249\n",
              "std       1114.272364\n",
              "min       1001.000000\n",
              "25%       1501.000000\n",
              "50%       2265.000000\n",
              "75%       2910.000000\n",
              "max       5621.000000\n",
              "Name: CMPLX_NUM, dtype: float64"
            ]
          },
          "metadata": {
            "tags": []
          },
          "execution_count": 49
        }
      ]
    },
    {
      "cell_type": "code",
      "metadata": {
        "colab": {
          "base_uri": "https://localhost:8080/"
        },
        "id": "6Qg3SK899jEr",
        "outputId": "141d8e9a-81f3-4e4d-db79-5861707621ca"
      },
      "source": [
        "df['LIVING_GBA'].describe()"
      ],
      "execution_count": 51,
      "outputs": [
        {
          "output_type": "execute_result",
          "data": {
            "text/plain": [
              "count    52261.000000\n",
              "mean       888.834542\n",
              "std        420.185822\n",
              "min          0.000000\n",
              "25%        616.000000\n",
              "50%        783.000000\n",
              "75%       1060.000000\n",
              "max       8553.000000\n",
              "Name: LIVING_GBA, dtype: float64"
            ]
          },
          "metadata": {
            "tags": []
          },
          "execution_count": 51
        }
      ]
    },
    {
      "cell_type": "code",
      "metadata": {
        "colab": {
          "base_uri": "https://localhost:8080/"
        },
        "id": "2ANLH-Fs-LQN",
        "outputId": "6e20a6c1-f32c-4c43-cf84-14b7177ed9ec"
      },
      "source": [
        "df['FULLADDRESS'].value_counts()"
      ],
      "execution_count": 52,
      "outputs": [
        {
          "output_type": "execute_result",
          "data": {
            "text/plain": [
              "1755 STANTON TERRACE SE     5\n",
              "1754 STANTON TERRACE SE     5\n",
              "1517 SHIPPEN LANE SE        4\n",
              "1508 SHIPPEN LANE SE        4\n",
              "2600 TILDEN STREET NW       3\n",
              "                           ..\n",
              "406 DIVISION AVENUE NE      1\n",
              "3417 MINNESOTA AVENUE SE    1\n",
              "843 ADRIAN STREET SE        1\n",
              "313 M STREET NW             1\n",
              "1831 S STREET SE            1\n",
              "Name: FULLADDRESS, Length: 105978, dtype: int64"
            ]
          },
          "metadata": {
            "tags": []
          },
          "execution_count": 52
        }
      ]
    },
    {
      "cell_type": "code",
      "metadata": {
        "colab": {
          "base_uri": "https://localhost:8080/"
        },
        "id": "76tdMmHE-q_C",
        "outputId": "d6070f27-e3be-46e9-c542-82f0e7717785"
      },
      "source": [
        "df['CITY'].value_counts()"
      ],
      "execution_count": 53,
      "outputs": [
        {
          "output_type": "execute_result",
          "data": {
            "text/plain": [
              "WASHINGTON    106051\n",
              "Name: CITY, dtype: int64"
            ]
          },
          "metadata": {
            "tags": []
          },
          "execution_count": 53
        }
      ]
    },
    {
      "cell_type": "code",
      "metadata": {
        "colab": {
          "base_uri": "https://localhost:8080/"
        },
        "id": "cVBJ1YFv_L4l",
        "outputId": "8b287516-0718-4ca6-dbc7-367bdb9fb559"
      },
      "source": [
        "df['STATE'].value_counts()"
      ],
      "execution_count": 54,
      "outputs": [
        {
          "output_type": "execute_result",
          "data": {
            "text/plain": [
              "DC    106051\n",
              "Name: STATE, dtype: int64"
            ]
          },
          "metadata": {
            "tags": []
          },
          "execution_count": 54
        }
      ]
    },
    {
      "cell_type": "code",
      "metadata": {
        "colab": {
          "base_uri": "https://localhost:8080/"
        },
        "id": "M2LR6NBy_QN7",
        "outputId": "3b481fdb-058a-467c-ab3a-aafaa77165ad"
      },
      "source": [
        "df['ZIPCODE'].value_counts()"
      ],
      "execution_count": 55,
      "outputs": [
        {
          "output_type": "execute_result",
          "data": {
            "text/plain": [
              "20011.0    16352\n",
              "20002.0    16310\n",
              "20009.0    13171\n",
              "20019.0    12458\n",
              "20016.0    10644\n",
              "20001.0    10549\n",
              "20020.0     9805\n",
              "20007.0     9029\n",
              "20003.0     8015\n",
              "20008.0     6801\n",
              "20010.0     6428\n",
              "20018.0     5670\n",
              "20017.0     5622\n",
              "20015.0     5337\n",
              "20032.0     5111\n",
              "20012.0     4118\n",
              "20037.0     3730\n",
              "20005.0     3404\n",
              "20024.0     3105\n",
              "20036.0     1892\n",
              "20004.0     1082\n",
              "20392.0      186\n",
              "20006.0      118\n",
              "20052.0       19\n",
              "Name: ZIPCODE, dtype: int64"
            ]
          },
          "metadata": {
            "tags": []
          },
          "execution_count": 55
        }
      ]
    },
    {
      "cell_type": "code",
      "metadata": {
        "colab": {
          "base_uri": "https://localhost:8080/"
        },
        "id": "afpvX4j1_SAH",
        "outputId": "307068a0-4479-4eae-d91e-05d5798da389"
      },
      "source": [
        "df['NATIONALGRID'].value_counts()"
      ],
      "execution_count": 57,
      "outputs": [
        {
          "output_type": "execute_result",
          "data": {
            "text/plain": [
              "18S UJ 28168 01936    5\n",
              "18S UJ 28233 01950    5\n",
              "18S UJ 28025 01949    4\n",
              "18S UJ 25398 04622    4\n",
              "18S UJ 28045 01888    4\n",
              "                     ..\n",
              "18S UJ 21518 10614    1\n",
              "18S UJ 25789 14141    1\n",
              "18S UJ 24225 10411    1\n",
              "18S UJ 27838 12513    1\n",
              "18S UJ 27056 06702    1\n",
              "Name: NATIONALGRID, Length: 105949, dtype: int64"
            ]
          },
          "metadata": {
            "tags": []
          },
          "execution_count": 57
        }
      ]
    },
    {
      "cell_type": "code",
      "metadata": {
        "colab": {
          "base_uri": "https://localhost:8080/"
        },
        "id": "THyktiK0_aAp",
        "outputId": "792fbccc-2c69-45e5-93e3-a45249d0dc1b"
      },
      "source": [
        "df['LATITUDE'].describe()"
      ],
      "execution_count": 58,
      "outputs": [
        {
          "output_type": "execute_result",
          "data": {
            "text/plain": [
              "count    158956.000000\n",
              "mean         38.914854\n",
              "std           0.031723\n",
              "min          38.819731\n",
              "25%          38.895425\n",
              "50%          38.915337\n",
              "75%          38.936075\n",
              "max          38.995540\n",
              "Name: LATITUDE, dtype: float64"
            ]
          },
          "metadata": {
            "tags": []
          },
          "execution_count": 58
        }
      ]
    },
    {
      "cell_type": "code",
      "metadata": {
        "colab": {
          "base_uri": "https://localhost:8080/"
        },
        "id": "ArltvGhC_hpo",
        "outputId": "ebc936e9-1a97-4230-d46a-391e0834d1e5"
      },
      "source": [
        "df['LONGITUDE'].describe()"
      ],
      "execution_count": 60,
      "outputs": [
        {
          "output_type": "execute_result",
          "data": {
            "text/plain": [
              "count    158956.000000\n",
              "mean        -77.016676\n",
              "std           0.040938\n",
              "min         -77.113909\n",
              "25%         -77.042892\n",
              "50%         -77.019596\n",
              "75%         -76.988626\n",
              "max         -76.909758\n",
              "Name: LONGITUDE, dtype: float64"
            ]
          },
          "metadata": {
            "tags": []
          },
          "execution_count": 60
        }
      ]
    },
    {
      "cell_type": "code",
      "metadata": {
        "colab": {
          "base_uri": "https://localhost:8080/"
        },
        "id": "8YZbim7h_l0r",
        "outputId": "69ebea8f-0eb6-466f-c010-70e442e8a44b"
      },
      "source": [
        "df['ASSESSMENT_NBHD'].value_counts()"
      ],
      "execution_count": 61,
      "outputs": [
        {
          "output_type": "execute_result",
          "data": {
            "text/plain": [
              "Old City 2                      15978\n",
              "Old City 1                      15000\n",
              "Columbia Heights                 9474\n",
              "Brookland                        6568\n",
              "Petworth                         6323\n",
              "Deanwood                         5983\n",
              "Chevy Chase                      5354\n",
              "Congress Heights                 4729\n",
              "Brightwood                       4112\n",
              "Mt. Pleasant                     4052\n",
              "Capitol Hill                     3830\n",
              "Georgetown                       3774\n",
              "Hillcrest                        3734\n",
              "Randle Heights                   3517\n",
              "Fort Dupont Park                 3425\n",
              "Kalorama                         3207\n",
              "Central-tri 1                    3132\n",
              "Cleveland Park                   3032\n",
              "Trinidad                         2964\n",
              "Southwest Waterfront             2828\n",
              "Riggs Park                       2795\n",
              "Woodridge                        2748\n",
              "American University              2594\n",
              "Central-tri 3                    2500\n",
              "Eckington                        2328\n",
              "Forest Hills                     2225\n",
              "16th Street Heights              2208\n",
              "Glover Park                      2036\n",
              "Wesley Heights                   1981\n",
              "Anacostia                        1924\n",
              "Ledroit Park                     1820\n",
              "Marshall Heights                 1753\n",
              "Lily Ponds                       1547\n",
              "Foggy Bottom                     1463\n",
              "Observatory Circle               1453\n",
              "Garfield                         1257\n",
              "Fort Lincoln                     1164\n",
              "Palisades                        1155\n",
              "Shepherd Heights                  979\n",
              "Chillum                           963\n",
              "Spring Valley                     937\n",
              "Brentwood                         930\n",
              "Michigan Park                     906\n",
              "Kent                              867\n",
              "Takoma Park                       865\n",
              "Wakefield                         861\n",
              "North Cleveland Park              850\n",
              "Burleith                          801\n",
              "Berkley                           775\n",
              "Crestwood                         772\n",
              "Barry Farms                       762\n",
              "Colonial Village                  630\n",
              "Foxhall                           367\n",
              "Hawthorne                         309\n",
              "Woodley                           208\n",
              "Massachusetts Avenue Heights      206\n",
              "Rock Creek Park                     1\n",
              "Name: ASSESSMENT_NBHD, dtype: int64"
            ]
          },
          "metadata": {
            "tags": []
          },
          "execution_count": 61
        }
      ]
    },
    {
      "cell_type": "code",
      "metadata": {
        "colab": {
          "base_uri": "https://localhost:8080/"
        },
        "id": "zPYoFUM7_zHb",
        "outputId": "99c6907d-4c6b-4df4-9fe4-db3cb3253a33"
      },
      "source": [
        "df['ASSESSMENT_SUBNBHD'].value_counts()"
      ],
      "execution_count": 63,
      "outputs": [
        {
          "output_type": "execute_result",
          "data": {
            "text/plain": [
              "040 D Old City 2       4403\n",
              "040 E Old City 2       2968\n",
              "040 C Old City 2       2886\n",
              "042 B Petworth         2763\n",
              "039 K Old City 1       2640\n",
              "                       ... \n",
              "050 A Spring Valley     176\n",
              "004 C Berkley           154\n",
              "025 A Georgetown        140\n",
              "050 D Spring Valley     131\n",
              "025 C Georgetown         91\n",
              "Name: ASSESSMENT_SUBNBHD, Length: 121, dtype: int64"
            ]
          },
          "metadata": {
            "tags": []
          },
          "execution_count": 63
        }
      ]
    },
    {
      "cell_type": "code",
      "metadata": {
        "colab": {
          "base_uri": "https://localhost:8080/"
        },
        "id": "uJm0TFnW_5mG",
        "outputId": "64cf4175-ac13-4e46-8d9e-ba8c7bde028c"
      },
      "source": [
        "df['CENSUS_TRACT'].value_counts()"
      ],
      "execution_count": 121,
      "outputs": [
        {
          "output_type": "execute_result",
          "data": {
            "text/plain": [
              "5500.0     2933\n",
              "801.0      2620\n",
              "1001.0     2552\n",
              "300.0      2182\n",
              "5301.0     2179\n",
              "           ... \n",
              "10900.0     160\n",
              "7403.0      135\n",
              "7406.0      108\n",
              "9810.0       88\n",
              "6804.0       13\n",
              "Name: CENSUS_TRACT, Length: 176, dtype: int64"
            ]
          },
          "metadata": {
            "tags": []
          },
          "execution_count": 121
        }
      ]
    },
    {
      "cell_type": "code",
      "metadata": {
        "colab": {
          "base_uri": "https://localhost:8080/"
        },
        "id": "kI8LBcV-AHkw",
        "outputId": "cd23bf12-5463-463b-a1bb-d230be05514a"
      },
      "source": [
        "df['CENSUS_BLOCK'].value_counts()"
      ],
      "execution_count": 67,
      "outputs": [
        {
          "output_type": "execute_result",
          "data": {
            "text/plain": [
              "009000 1001    340\n",
              "009201 1004    312\n",
              "009509 3004    206\n",
              "009904 2009    204\n",
              "009508 2005    195\n",
              "              ... \n",
              "008402 1000      1\n",
              "007709 2007      1\n",
              "010400 2013      1\n",
              "000702 1005      1\n",
              "005002 4003      1\n",
              "Name: CENSUS_BLOCK, Length: 3848, dtype: int64"
            ]
          },
          "metadata": {
            "tags": []
          },
          "execution_count": 67
        }
      ]
    },
    {
      "cell_type": "code",
      "metadata": {
        "colab": {
          "base_uri": "https://localhost:8080/"
        },
        "id": "HhukPcb1AQTa",
        "outputId": "e6ef9ddc-3b4c-4b66-b6dd-22d49add03a9"
      },
      "source": [
        "df['WARD'].value_counts()"
      ],
      "execution_count": 68,
      "outputs": [
        {
          "output_type": "execute_result",
          "data": {
            "text/plain": [
              "Ward 6    23973\n",
              "Ward 3    23688\n",
              "Ward 4    22202\n",
              "Ward 2    22167\n",
              "Ward 5    21359\n",
              "Ward 1    17455\n",
              "Ward 7    17206\n",
              "Ward 8    10906\n",
              "Name: WARD, dtype: int64"
            ]
          },
          "metadata": {
            "tags": []
          },
          "execution_count": 68
        }
      ]
    },
    {
      "cell_type": "code",
      "metadata": {
        "colab": {
          "base_uri": "https://localhost:8080/"
        },
        "id": "djJP2LpLAUgl",
        "outputId": "9522df96-0d73-46d9-e875-51f79f276cbd"
      },
      "source": [
        "df['SQUARE'].value_counts()"
      ],
      "execution_count": 71,
      "outputs": [
        {
          "output_type": "execute_result",
          "data": {
            "text/plain": [
              "540     994\n",
              "1601    893\n",
              "1301    712\n",
              "157     600\n",
              "4325    559\n",
              "       ... \n",
              "5646      1\n",
              "2812      1\n",
              "2712      1\n",
              "5861      1\n",
              "5735      1\n",
              "Name: SQUARE, Length: 3512, dtype: int64"
            ]
          },
          "metadata": {
            "tags": []
          },
          "execution_count": 71
        }
      ]
    },
    {
      "cell_type": "code",
      "metadata": {
        "colab": {
          "base_uri": "https://localhost:8080/"
        },
        "id": "HYCMBVqeAajM",
        "outputId": "c2d3877e-625c-41fc-e774-5b563cd4b13d"
      },
      "source": [
        "df['X'].describe()"
      ],
      "execution_count": 72,
      "outputs": [
        {
          "output_type": "execute_result",
          "data": {
            "text/plain": [
              "count    158720.000000\n",
              "mean        -77.016712\n",
              "std           0.040933\n",
              "min         -77.113135\n",
              "25%         -77.042894\n",
              "50%         -77.019581\n",
              "75%         -76.988842\n",
              "max         -76.910511\n",
              "Name: X, dtype: float64"
            ]
          },
          "metadata": {
            "tags": []
          },
          "execution_count": 72
        }
      ]
    },
    {
      "cell_type": "code",
      "metadata": {
        "colab": {
          "base_uri": "https://localhost:8080/"
        },
        "id": "EiMGnr4EAnyO",
        "outputId": "603b4741-8424-4dc0-f6f0-86f5dde2f510"
      },
      "source": [
        "df['Y'].describe()"
      ],
      "execution_count": 73,
      "outputs": [
        {
          "output_type": "execute_result",
          "data": {
            "text/plain": [
              "count    158720.000000\n",
              "mean         38.914846\n",
              "std           0.031682\n",
              "min          38.820576\n",
              "25%          38.895432\n",
              "50%          38.915229\n",
              "75%          38.936077\n",
              "max          38.993646\n",
              "Name: Y, dtype: float64"
            ]
          },
          "metadata": {
            "tags": []
          },
          "execution_count": 73
        }
      ]
    },
    {
      "cell_type": "code",
      "metadata": {
        "colab": {
          "base_uri": "https://localhost:8080/"
        },
        "id": "xtkfKxuoAprz",
        "outputId": "a3bc05b3-d9ac-423f-b209-893b35d9cffb"
      },
      "source": [
        "df['QUADRANT'].value_counts()"
      ],
      "execution_count": 75,
      "outputs": [
        {
          "output_type": "execute_result",
          "data": {
            "text/plain": [
              "NW    89736\n",
              "NE    37675\n",
              "SE    27224\n",
              "SW     4085\n",
              "Name: QUADRANT, dtype: int64"
            ]
          },
          "metadata": {
            "tags": []
          },
          "execution_count": 75
        }
      ]
    },
    {
      "cell_type": "code",
      "metadata": {
        "id": "C21Am4WpwE64"
      },
      "source": [
        ""
      ],
      "execution_count": null,
      "outputs": []
    }
  ]
}