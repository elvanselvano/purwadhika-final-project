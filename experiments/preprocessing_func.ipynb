{
  "nbformat": 4,
  "nbformat_minor": 0,
  "metadata": {
    "colab": {
      "name": "preprocessing_func.ipynb",
      "provenance": [],
      "collapsed_sections": []
    },
    "kernelspec": {
      "name": "python3",
      "display_name": "Python 3"
    },
    "language_info": {
      "name": "python"
    }
  },
  "cells": [
    {
      "cell_type": "code",
      "metadata": {
        "colab": {
          "base_uri": "https://localhost:8080/"
        },
        "id": "4qWCCmvkOmVs",
        "outputId": "a0e77df3-dc2a-41ce-88da-ee3e3b5ef06b"
      },
      "source": [
        "!pip install category_encoders"
      ],
      "execution_count": 35,
      "outputs": [
        {
          "output_type": "stream",
          "text": [
            "Collecting category_encoders\n",
            "\u001b[?25l  Downloading https://files.pythonhosted.org/packages/44/57/fcef41c248701ee62e8325026b90c432adea35555cbc870aff9cfba23727/category_encoders-2.2.2-py2.py3-none-any.whl (80kB)\n",
            "\r\u001b[K     |████                            | 10kB 13.6MB/s eta 0:00:01\r\u001b[K     |████████▏                       | 20kB 19.3MB/s eta 0:00:01\r\u001b[K     |████████████▏                   | 30kB 13.6MB/s eta 0:00:01\r\u001b[K     |████████████████▎               | 40kB 11.0MB/s eta 0:00:01\r\u001b[K     |████████████████████▎           | 51kB 5.5MB/s eta 0:00:01\r\u001b[K     |████████████████████████▍       | 61kB 5.8MB/s eta 0:00:01\r\u001b[K     |████████████████████████████▍   | 71kB 5.9MB/s eta 0:00:01\r\u001b[K     |████████████████████████████████| 81kB 3.4MB/s \n",
            "\u001b[?25hRequirement already satisfied: pandas>=0.21.1 in /usr/local/lib/python3.7/dist-packages (from category_encoders) (1.1.5)\n",
            "Requirement already satisfied: statsmodels>=0.9.0 in /usr/local/lib/python3.7/dist-packages (from category_encoders) (0.10.2)\n",
            "Requirement already satisfied: patsy>=0.5.1 in /usr/local/lib/python3.7/dist-packages (from category_encoders) (0.5.1)\n",
            "Requirement already satisfied: scipy>=1.0.0 in /usr/local/lib/python3.7/dist-packages (from category_encoders) (1.4.1)\n",
            "Requirement already satisfied: scikit-learn>=0.20.0 in /usr/local/lib/python3.7/dist-packages (from category_encoders) (0.22.2.post1)\n",
            "Requirement already satisfied: numpy>=1.14.0 in /usr/local/lib/python3.7/dist-packages (from category_encoders) (1.19.5)\n",
            "Requirement already satisfied: python-dateutil>=2.7.3 in /usr/local/lib/python3.7/dist-packages (from pandas>=0.21.1->category_encoders) (2.8.1)\n",
            "Requirement already satisfied: pytz>=2017.2 in /usr/local/lib/python3.7/dist-packages (from pandas>=0.21.1->category_encoders) (2018.9)\n",
            "Requirement already satisfied: six in /usr/local/lib/python3.7/dist-packages (from patsy>=0.5.1->category_encoders) (1.15.0)\n",
            "Requirement already satisfied: joblib>=0.11 in /usr/local/lib/python3.7/dist-packages (from scikit-learn>=0.20.0->category_encoders) (1.0.1)\n",
            "Installing collected packages: category-encoders\n",
            "Successfully installed category-encoders-2.2.2\n"
          ],
          "name": "stdout"
        }
      ]
    },
    {
      "cell_type": "code",
      "metadata": {
        "id": "4tn4tiiLyeJL"
      },
      "source": [
        "import pandas as pd\n",
        "from pandas_profiling import ProfileReport\n",
        "import numpy as np\n",
        "import matplotlib.pyplot as plt\n",
        "import seaborn as sns\n",
        "import cufflinks as cf\n",
        "from scipy import stats\n",
        "import category_encoders as ce\n",
        "\n",
        "# Some styling\n",
        "sns.set_style(\"whitegrid\")\n",
        "plt.style.use(\"fivethirtyeight\")\n",
        "\n",
        "# Disable warnings \n",
        "import warnings\n",
        "warnings.filterwarnings('ignore')"
      ],
      "execution_count": 40,
      "outputs": []
    },
    {
      "cell_type": "code",
      "metadata": {
        "id": "h1KrcpVbggqR"
      },
      "source": [
        "raw_data_link = 'https://raw.githubusercontent.com/elvanselvano/purwadhika-final-project/main/dataset/dev.csv'\n",
        "df = pd.read_csv(raw_data_link)"
      ],
      "execution_count": 41,
      "outputs": []
    },
    {
      "cell_type": "code",
      "metadata": {
        "id": "lhVHEa5fwszv"
      },
      "source": [
        "#casting data types\n",
        "def casting(df):\n",
        "  df['NUM_UNITS'] = df['NUM_UNITS'].astype(pd.Int64Dtype())\n",
        "  df['KITCHENS'] = df['KITCHENS'].astype(pd.Int64Dtype())\n",
        "  df['USECODE'] = df['USECODE'].astype(pd.Int64Dtype()).astype('category')\n",
        "  df['ZIPCODE'] = df['ZIPCODE'].astype(pd.Int64Dtype()).astype('category')\n",
        "  df['CMPLX_NUM'] = df['CMPLX_NUM'].astype(pd.Int64Dtype())\n",
        "  df['CENSUS_TRACT'] = df['CMPLX_NUM'].astype(pd.Int64Dtype())\n",
        "  df['SALEDATE'] = pd.to_datetime(df['SALEDATE'])\n",
        "  return df"
      ],
      "execution_count": 42,
      "outputs": []
    },
    {
      "cell_type": "code",
      "metadata": {
        "id": "_HU3gmYugskd"
      },
      "source": [
        "def drop_qualified(df):\n",
        "  df = df[df['QUALIFIED']=='Q']\n",
        "  df = df.drop('QUALIFIED', axis=1)\n",
        "  \n",
        "  # print('Before removing unqualified:', df.shape)\n",
        "  # print('After removing unqualified:', df_q.shape)\n",
        "  \n",
        "  return df\n",
        "  "
      ],
      "execution_count": 46,
      "outputs": []
    },
    {
      "cell_type": "code",
      "metadata": {
        "id": "w46ko6LehcCd"
      },
      "source": [
        "def saleyear(df):\n",
        "  df['SALEYEAR'] = df['SALEDATE'].dt.year\n",
        "  return df"
      ],
      "execution_count": 47,
      "outputs": []
    },
    {
      "cell_type": "code",
      "metadata": {
        "id": "xgYnMoDTjW4S"
      },
      "source": [
        "#drop large missing value : CMPLX_NUM, LIVING_GBA, CENSUS_TRACT\n",
        "def drop_miss_val1(df):\n",
        "  df_clean = df.drop(['CMPLX_NUM','LIVING_GBA','CENSUS_TRACT',\n",
        "                        'ASSESSMENT_SUBNBHD','FULLADDRESS','NATIONALGRID',\n",
        "                        'CENSUS_BLOCK','CITY','STATE','X','Y','QUADRANT',\n",
        "                        'GIS_LAST_MOD_DTTM','SOURCE','STORIES','ZIPCODE',\n",
        "                        'ASSESSMENT_NBHD','SQUARE','LONGITUDE','LATITUDE',\n",
        "                        'ROOMS','SALE_NUM','NUM_UNITS','BLDG_NUM','USECODE'],axis=1)\n",
        "  return df_clean"
      ],
      "execution_count": 48,
      "outputs": []
    },
    {
      "cell_type": "code",
      "metadata": {
        "id": "_Xegrkj6BbTL"
      },
      "source": [
        "#feature engineering YR_RMDL\n",
        "def yr_rmdl(df):\n",
        "  df['RMDL'] = np.where(df['YR_RMDL'].isna(),0,1)\n",
        "  df = df.drop('YR_RMDL',axis=1)\n",
        "  return df"
      ],
      "execution_count": 49,
      "outputs": []
    },
    {
      "cell_type": "code",
      "metadata": {
        "id": "3JyBD9tMqDfk"
      },
      "source": [
        "#dropna\n",
        "def drop_all(df):\n",
        "  df = df.dropna()\n",
        "  return df"
      ],
      "execution_count": 50,
      "outputs": []
    },
    {
      "cell_type": "code",
      "metadata": {
        "id": "nt2PZtFqrmJ8"
      },
      "source": [
        "#feature engineering AC\n",
        "def encoding_categorical(df):\n",
        "  df['AC'] = np.where(df['AC']=='Y',1,0)\n",
        "  df = df[df['HEAT']!='No Data']\n",
        "\n",
        "  ordinal_mapping = [{'col':'CNDTN','mapping':{'Poor':1,'Fair':2,'Average':3,'Good':4,'Very Good':5,'Excellent':6}}]\n",
        "  ordinal_encoder = ce.OrdinalEncoder(cols ='CNDTN',mapping = ordinal_mapping) \n",
        "  df = ordinal_encoder.fit_transform(df)                                                \n",
        "  return df"
      ],
      "execution_count": 51,
      "outputs": []
    },
    {
      "cell_type": "code",
      "metadata": {
        "id": "Iinnsu7RteXq"
      },
      "source": [
        "df1 = casting(df)\n",
        "df2 = drop_qualified(df1)\n",
        "df3 = saleyear(df2)\n",
        "df4 = drop_miss_val1(df3)\n",
        "df5 = yr_rmdl(df4)\n",
        "df6 = drop_all(df5)\n",
        "df7 = encoding_categorical(df6)"
      ],
      "execution_count": 52,
      "outputs": []
    },
    {
      "cell_type": "code",
      "metadata": {
        "colab": {
          "base_uri": "https://localhost:8080/"
        },
        "id": "cBDsLlH-w_1a",
        "outputId": "c258caf4-c921-4805-c0dd-688ecf507b47"
      },
      "source": [
        "df7.shape"
      ],
      "execution_count": 53,
      "outputs": [
        {
          "output_type": "execute_result",
          "data": {
            "text/plain": [
              "(35369, 23)"
            ]
          },
          "metadata": {
            "tags": []
          },
          "execution_count": 53
        }
      ]
    },
    {
      "cell_type": "code",
      "metadata": {
        "colab": {
          "base_uri": "https://localhost:8080/",
          "height": 34
        },
        "id": "e9eIaegdbVTT",
        "outputId": "f1e1841a-7504-467c-8b97-8b3f64c612c1"
      },
      "source": [
        "from google.colab import files\n",
        "df7.to_csv('dev_clean.csv',index=False)\n",
        "files.download('dev_clean.csv')"
      ],
      "execution_count": 54,
      "outputs": [
        {
          "output_type": "display_data",
          "data": {
            "application/javascript": [
              "\n",
              "    async function download(id, filename, size) {\n",
              "      if (!google.colab.kernel.accessAllowed) {\n",
              "        return;\n",
              "      }\n",
              "      const div = document.createElement('div');\n",
              "      const label = document.createElement('label');\n",
              "      label.textContent = `Downloading \"${filename}\": `;\n",
              "      div.appendChild(label);\n",
              "      const progress = document.createElement('progress');\n",
              "      progress.max = size;\n",
              "      div.appendChild(progress);\n",
              "      document.body.appendChild(div);\n",
              "\n",
              "      const buffers = [];\n",
              "      let downloaded = 0;\n",
              "\n",
              "      const channel = await google.colab.kernel.comms.open(id);\n",
              "      // Send a message to notify the kernel that we're ready.\n",
              "      channel.send({})\n",
              "\n",
              "      for await (const message of channel.messages) {\n",
              "        // Send a message to notify the kernel that we're ready.\n",
              "        channel.send({})\n",
              "        if (message.buffers) {\n",
              "          for (const buffer of message.buffers) {\n",
              "            buffers.push(buffer);\n",
              "            downloaded += buffer.byteLength;\n",
              "            progress.value = downloaded;\n",
              "          }\n",
              "        }\n",
              "      }\n",
              "      const blob = new Blob(buffers, {type: 'application/binary'});\n",
              "      const a = document.createElement('a');\n",
              "      a.href = window.URL.createObjectURL(blob);\n",
              "      a.download = filename;\n",
              "      div.appendChild(a);\n",
              "      a.click();\n",
              "      div.remove();\n",
              "    }\n",
              "  "
            ],
            "text/plain": [
              "<IPython.core.display.Javascript object>"
            ]
          },
          "metadata": {
            "tags": []
          }
        },
        {
          "output_type": "display_data",
          "data": {
            "application/javascript": [
              "download(\"download_8ba4d4da-9416-45b4-9cf0-ea63c86f68bd\", \"dev_clean.csv\", 5165325)"
            ],
            "text/plain": [
              "<IPython.core.display.Javascript object>"
            ]
          },
          "metadata": {
            "tags": []
          }
        }
      ]
    },
    {
      "cell_type": "code",
      "metadata": {
        "id": "1y3K_rAoyp08"
      },
      "source": [
        ""
      ],
      "execution_count": null,
      "outputs": []
    }
  ]
}