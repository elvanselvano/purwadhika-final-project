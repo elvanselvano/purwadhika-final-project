{
  "nbformat": 4,
  "nbformat_minor": 0,
  "metadata": {
    "colab": {
      "name": "preprocessing_func_rev1.ipynb",
      "provenance": [],
      "collapsed_sections": []
    },
    "kernelspec": {
      "name": "python3",
      "display_name": "Python 3"
    },
    "language_info": {
      "name": "python"
    }
  },
  "cells": [
    {
      "cell_type": "code",
      "metadata": {
        "colab": {
          "base_uri": "https://localhost:8080/"
        },
        "id": "4qWCCmvkOmVs",
        "outputId": "51134bdf-f560-4073-a5c6-3a2a0e9b314a"
      },
      "source": [
        "!pip install category_encoders"
      ],
      "execution_count": null,
      "outputs": [
        {
          "output_type": "stream",
          "text": [
            "Requirement already satisfied: category_encoders in /usr/local/lib/python3.7/dist-packages (2.2.2)\n",
            "Requirement already satisfied: scikit-learn>=0.20.0 in /usr/local/lib/python3.7/dist-packages (from category_encoders) (0.22.2.post1)\n",
            "Requirement already satisfied: pandas>=0.21.1 in /usr/local/lib/python3.7/dist-packages (from category_encoders) (1.1.5)\n",
            "Requirement already satisfied: numpy>=1.14.0 in /usr/local/lib/python3.7/dist-packages (from category_encoders) (1.19.5)\n",
            "Requirement already satisfied: patsy>=0.5.1 in /usr/local/lib/python3.7/dist-packages (from category_encoders) (0.5.1)\n",
            "Requirement already satisfied: scipy>=1.0.0 in /usr/local/lib/python3.7/dist-packages (from category_encoders) (1.4.1)\n",
            "Requirement already satisfied: statsmodels>=0.9.0 in /usr/local/lib/python3.7/dist-packages (from category_encoders) (0.10.2)\n",
            "Requirement already satisfied: joblib>=0.11 in /usr/local/lib/python3.7/dist-packages (from scikit-learn>=0.20.0->category_encoders) (1.0.1)\n",
            "Requirement already satisfied: python-dateutil>=2.7.3 in /usr/local/lib/python3.7/dist-packages (from pandas>=0.21.1->category_encoders) (2.8.1)\n",
            "Requirement already satisfied: pytz>=2017.2 in /usr/local/lib/python3.7/dist-packages (from pandas>=0.21.1->category_encoders) (2018.9)\n",
            "Requirement already satisfied: six in /usr/local/lib/python3.7/dist-packages (from patsy>=0.5.1->category_encoders) (1.15.0)\n"
          ],
          "name": "stdout"
        }
      ]
    },
    {
      "cell_type": "code",
      "metadata": {
        "id": "4tn4tiiLyeJL"
      },
      "source": [
        "import pandas as pd\n",
        "import numpy as np\n",
        "import category_encoders as ce\n",
        "\n",
        "\n",
        "# Disable warnings \n",
        "import warnings\n",
        "warnings.filterwarnings('ignore')"
      ],
      "execution_count": null,
      "outputs": []
    },
    {
      "cell_type": "code",
      "metadata": {
        "id": "h1KrcpVbggqR"
      },
      "source": [
        "raw_data_link = 'https://raw.githubusercontent.com/elvanselvano/purwadhika-final-project/main/dataset/dev2.csv'\n",
        "df = pd.read_csv(raw_data_link)"
      ],
      "execution_count": null,
      "outputs": []
    },
    {
      "cell_type": "code",
      "metadata": {
        "id": "lhVHEa5fwszv"
      },
      "source": [
        "#casting data types\n",
        "def casting(df):\n",
        "  df['NUM_UNITS'] = df['NUM_UNITS'].astype(pd.Int64Dtype())\n",
        "  df['AYB'] = df['AYB'].astype(pd.Int64Dtype())\n",
        "  df['LANDAREA'] = df['LANDAREA'].astype(float)\n",
        "  df['KITCHENS'] = df['KITCHENS'].astype(pd.Int64Dtype())\n",
        "  df['USECODE'] = df['USECODE'].astype(pd.Int64Dtype()).astype('category')\n",
        "  df['ZIPCODE'] = df['ZIPCODE'].astype(pd.Int64Dtype()).astype('category')\n",
        "  df['CMPLX_NUM'] = df['CMPLX_NUM'].astype(pd.Int64Dtype())\n",
        "  df['CENSUS_TRACT'] = df['CMPLX_NUM'].astype(pd.Int64Dtype())\n",
        "  df['SALEDATE'] = pd.to_datetime(df['SALEDATE'])\n",
        "  return df"
      ],
      "execution_count": null,
      "outputs": []
    },
    {
      "cell_type": "code",
      "metadata": {
        "id": "w46ko6LehcCd"
      },
      "source": [
        "def saleyear(df):\n",
        "  df['SALEYEAR'] = df['SALEDATE'].dt.year\n",
        "  return df"
      ],
      "execution_count": null,
      "outputs": []
    },
    {
      "cell_type": "code",
      "metadata": {
        "id": "_HU3gmYugskd"
      },
      "source": [
        "def drop_qualified(df):\n",
        "  df = df[df['QUALIFIED']=='Q']\n",
        "  df = df.drop('QUALIFIED', axis=1)\n",
        "  \n",
        "  return df"
      ],
      "execution_count": null,
      "outputs": []
    },
    {
      "cell_type": "code",
      "metadata": {
        "id": "vEN4ypmbB46s"
      },
      "source": [
        "def residential(df):\n",
        "  df = df[df['SOURCE']=='Residential']\n",
        "  \n",
        "  return df"
      ],
      "execution_count": null,
      "outputs": []
    },
    {
      "cell_type": "code",
      "metadata": {
        "id": "GF-iTu5Brjoh"
      },
      "source": [
        "def drop_unused_features(df):\n",
        "    df = df.drop(['CMPLX_NUM','LIVING_GBA','CENSUS_TRACT','ASSESSMENT_SUBNBHD',\n",
        "                   'FULLADDRESS','NATIONALGRID','CENSUS_BLOCK','CITY','STATE',\n",
        "                   'X','Y','SALEDATE'],axis=1)\n",
        "    return df"
      ],
      "execution_count": null,
      "outputs": []
    },
    {
      "cell_type": "code",
      "metadata": {
        "id": "_Xegrkj6BbTL"
      },
      "source": [
        "#feature engineering YR_RMDL\n",
        "def yr_rmdl(df):\n",
        "  df['RMDL'] = np.where(df['YR_RMDL'].isna(),0,1)\n",
        "  df = df.drop('YR_RMDL',axis=1)\n",
        "  return df"
      ],
      "execution_count": null,
      "outputs": []
    },
    {
      "cell_type": "code",
      "metadata": {
        "id": "3JyBD9tMqDfk"
      },
      "source": [
        "#drop remaining missing values\n",
        "def drop_all(df):\n",
        "  df = df.dropna()\n",
        "  return df"
      ],
      "execution_count": null,
      "outputs": []
    },
    {
      "cell_type": "code",
      "metadata": {
        "id": "hHUa1HbFr1vK"
      },
      "source": [
        "def drop_unrelated_features(df):\n",
        "    df = df.drop(['GIS_LAST_MOD_DTTM','SOURCE'],axis=1)\n",
        "    return df"
      ],
      "execution_count": null,
      "outputs": []
    },
    {
      "cell_type": "code",
      "metadata": {
        "id": "311fSydlr8iU"
      },
      "source": [
        "#drop unusual values\n",
        "def drop_unusual(df):\n",
        "  df['AC'] = np.where(df['AC']=='Y',1,0) #convert to 1 0 \n",
        "  df = df[df['HEAT']!='No Data'] #delete no data\n",
        "  df = df[df['ROOMS']!=0] #exclude property with 0 rooms\n",
        "  df = df[df['AYB']<= df['SALEYEAR']] #exclude values where AYB > SALEYEAR\n",
        "  df = df[df['AYB']<= df['EYB']] #exclude values where AYB > EYB\n",
        "  df = df[~df['GRADE'].isin(['Exceptional-D','Exceptional-C','Exceptional-B',\n",
        "                             'Exceptional-A'])] #exclude exceptional GRADE\n",
        "\n",
        "  return df"
      ],
      "execution_count": null,
      "outputs": []
    },
    {
      "cell_type": "code",
      "metadata": {
        "id": "rvt5vXyhsATc"
      },
      "source": [
        "def drop_similar_features(df):\n",
        "    df = df.drop(['STORIES'], axis=1)\n",
        "    \n",
        "    return df"
      ],
      "execution_count": null,
      "outputs": []
    },
    {
      "cell_type": "code",
      "metadata": {
        "id": "oZ6GJIBxsHS6"
      },
      "source": [
        "def drop_location_features(df):\n",
        "    df = df.drop(['ZIPCODE','ASSESSMENT_NBHD','SQUARE','QUADRANT',\n",
        "                  'LATITUDE','LONGITUDE'], axis=1)\n",
        "    \n",
        "    return df"
      ],
      "execution_count": null,
      "outputs": []
    },
    {
      "cell_type": "code",
      "metadata": {
        "id": "Chv2DtFLsMmF"
      },
      "source": [
        "def drop_correlation(df):\n",
        "    df = df.drop(['NUM_UNITS','BLDG_NUM'], axis=1)\n",
        "    \n",
        "    return df"
      ],
      "execution_count": null,
      "outputs": []
    },
    {
      "cell_type": "code",
      "metadata": {
        "id": "EbMfDQ0_M6Zg"
      },
      "source": [
        "#AYB, EYB change to age, SQFT_ROOMS\n",
        "def feature_eng(df):\n",
        "    df['AYB_SALEYEAR_DIFF'] = df['SALEYEAR']-df['AYB']\n",
        "    df['AYB_SALEYEAR_DIFF'] = df['AYB_SALEYEAR_DIFF'].astype(pd.Int64Dtype())\n",
        "    \n",
        "    df['EYB_SALEYEAR_DIFF'] = np.where(df['SALEYEAR']<df['EYB'],0,df['SALEYEAR']-df['EYB'])\n",
        "    df['EYB_SALEYEAR_DIFF'] = df['EYB_SALEYEAR_DIFF'].astype(pd.Int64Dtype())\n",
        "\n",
        "    df['SQFT_ROOMS'] = df['GBA']/df['ROOMS']\n",
        "\n",
        "    df = df.drop(['AYB','EYB'],axis=1)\n",
        "    return df"
      ],
      "execution_count": null,
      "outputs": []
    },
    {
      "cell_type": "code",
      "metadata": {
        "id": "-7HJkNnCr9XJ"
      },
      "source": [
        "def drop_model_evaluation(df):\n",
        "    df = df.drop(['ROOMS','USECODE'],axis=1)\n",
        "\n",
        "    return df"
      ],
      "execution_count": null,
      "outputs": []
    },
    {
      "cell_type": "code",
      "metadata": {
        "id": "nt2PZtFqrmJ8"
      },
      "source": [
        "#encoding\n",
        "def encoding_categorical(df):\n",
        "  ordinal_mapping = [{'col':'CNDTN','mapping':{'Poor':1,'Fair':2,'Average':3,'Good':4,'Very Good':5,'Excellent':6}}]\n",
        "  ordinal_encoder = ce.OrdinalEncoder(cols ='CNDTN',mapping = ordinal_mapping) \n",
        "  df = ordinal_encoder.fit_transform(df)                                                \n",
        "  return df"
      ],
      "execution_count": null,
      "outputs": []
    },
    {
      "cell_type": "code",
      "metadata": {
        "id": "Iinnsu7RteXq"
      },
      "source": [
        "df1 = casting(df)\n",
        "df2 = saleyear(df1)\n",
        "df3 = drop_qualified(df2)\n",
        "df4 = residential(df3)\n",
        "df5 = drop_unused_features(df4)\n",
        "df6 = yr_rmdl(df5)\n",
        "df7 = drop_all(df6)\n",
        "df8 = drop_unrelated_features(df7)\n",
        "df9 = drop_unusual(df8)\n",
        "df10 = drop_similar_features(df9)\n",
        "df11 = drop_location_features(df10)\n",
        "df12 = drop_correlation(df11)\n",
        "df13 = feature_eng(df12)\n",
        "df14 = drop_model_evaluation(df13)\n",
        "df15 = encoding_categorical(df14)"
      ],
      "execution_count": null,
      "outputs": []
    },
    {
      "cell_type": "code",
      "metadata": {
        "id": "e9eIaegdbVTT",
        "colab": {
          "base_uri": "https://localhost:8080/",
          "height": 17
        },
        "outputId": "ddad1804-55ae-49cb-f658-17f6f8b7bc32"
      },
      "source": [
        "from google.colab import files\n",
        "df15.to_csv('dev_clean.csv',index=False)\n",
        "files.download('dev_clean.csv')"
      ],
      "execution_count": null,
      "outputs": [
        {
          "output_type": "display_data",
          "data": {
            "application/javascript": [
              "\n",
              "    async function download(id, filename, size) {\n",
              "      if (!google.colab.kernel.accessAllowed) {\n",
              "        return;\n",
              "      }\n",
              "      const div = document.createElement('div');\n",
              "      const label = document.createElement('label');\n",
              "      label.textContent = `Downloading \"${filename}\": `;\n",
              "      div.appendChild(label);\n",
              "      const progress = document.createElement('progress');\n",
              "      progress.max = size;\n",
              "      div.appendChild(progress);\n",
              "      document.body.appendChild(div);\n",
              "\n",
              "      const buffers = [];\n",
              "      let downloaded = 0;\n",
              "\n",
              "      const channel = await google.colab.kernel.comms.open(id);\n",
              "      // Send a message to notify the kernel that we're ready.\n",
              "      channel.send({})\n",
              "\n",
              "      for await (const message of channel.messages) {\n",
              "        // Send a message to notify the kernel that we're ready.\n",
              "        channel.send({})\n",
              "        if (message.buffers) {\n",
              "          for (const buffer of message.buffers) {\n",
              "            buffers.push(buffer);\n",
              "            downloaded += buffer.byteLength;\n",
              "            progress.value = downloaded;\n",
              "          }\n",
              "        }\n",
              "      }\n",
              "      const blob = new Blob(buffers, {type: 'application/binary'});\n",
              "      const a = document.createElement('a');\n",
              "      a.href = window.URL.createObjectURL(blob);\n",
              "      a.download = filename;\n",
              "      div.appendChild(a);\n",
              "      a.click();\n",
              "      div.remove();\n",
              "    }\n",
              "  "
            ],
            "text/plain": [
              "<IPython.core.display.Javascript object>"
            ]
          },
          "metadata": {
            "tags": []
          }
        },
        {
          "output_type": "display_data",
          "data": {
            "application/javascript": [
              "download(\"download_b2cdb9ab-3ac6-4244-9147-690d80523f7d\", \"dev_clean.csv\", 7489271)"
            ],
            "text/plain": [
              "<IPython.core.display.Javascript object>"
            ]
          },
          "metadata": {
            "tags": []
          }
        }
      ]
    }
  ]
}