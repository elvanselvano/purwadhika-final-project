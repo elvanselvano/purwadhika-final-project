{
  "nbformat": 4,
  "nbformat_minor": 0,
  "metadata": {
    "colab": {
      "name": "dev_test_split.ipynb",
      "provenance": [],
      "collapsed_sections": []
    },
    "kernelspec": {
      "name": "python3",
      "display_name": "Python 3"
    },
    "language_info": {
      "name": "python"
    }
  },
  "cells": [
    {
      "cell_type": "code",
      "metadata": {
        "id": "JCcmE1Sn62Yq"
      },
      "source": [
        "import pandas as pd\n",
        "import numpy as np"
      ],
      "execution_count": 1,
      "outputs": []
    },
    {
      "cell_type": "code",
      "metadata": {
        "colab": {
          "base_uri": "https://localhost:8080/"
        },
        "id": "2G_fNJLLZ8MN",
        "outputId": "9cf998ef-34c7-485d-b515-8491a4959d06"
      },
      "source": [
        "raw_data_link = 'https://raw.githubusercontent.com/elvanselvano/purwadhika-final-project/main/dataset/raw_dataset.csv'\n",
        "df = pd.read_csv(raw_data_link, index_col=0)"
      ],
      "execution_count": 5,
      "outputs": [
        {
          "output_type": "stream",
          "text": [
            "/usr/local/lib/python3.7/dist-packages/IPython/core/interactiveshell.py:2718: DtypeWarning: Columns (18,19,20,21,22,23,24,33,34,35,37,43,45) have mixed types.Specify dtype option on import or set low_memory=False.\n",
            "  interactivity=interactivity, compiler=compiler, result=result)\n"
          ],
          "name": "stderr"
        }
      ]
    },
    {
      "cell_type": "code",
      "metadata": {
        "id": "2ycNdFuJacuo"
      },
      "source": [
        "df['SALEDATE'] = pd.to_datetime(df['SALEDATE'])"
      ],
      "execution_count": 6,
      "outputs": []
    },
    {
      "cell_type": "markdown",
      "metadata": {
        "id": "zqXDZ1Njl2WF"
      },
      "source": [
        "Order by SALEDATE and split 80% Dev, 20% Test"
      ]
    },
    {
      "cell_type": "code",
      "metadata": {
        "id": "LGy9avk5Z_-z"
      },
      "source": [
        "df_date_sorted = df.sort_values(by='SALEDATE').reset_index(drop=True)"
      ],
      "execution_count": 11,
      "outputs": []
    },
    {
      "cell_type": "code",
      "metadata": {
        "colab": {
          "base_uri": "https://localhost:8080/",
          "height": 309
        },
        "id": "rx0z2KGfmZp-",
        "outputId": "cc39b9de-e560-42ea-df86-29a6bd09c563"
      },
      "source": [
        "df_date_sorted.head()"
      ],
      "execution_count": 36,
      "outputs": [
        {
          "output_type": "execute_result",
          "data": {
            "text/html": [
              "<div>\n",
              "<style scoped>\n",
              "    .dataframe tbody tr th:only-of-type {\n",
              "        vertical-align: middle;\n",
              "    }\n",
              "\n",
              "    .dataframe tbody tr th {\n",
              "        vertical-align: top;\n",
              "    }\n",
              "\n",
              "    .dataframe thead th {\n",
              "        text-align: right;\n",
              "    }\n",
              "</style>\n",
              "<table border=\"1\" class=\"dataframe\">\n",
              "  <thead>\n",
              "    <tr style=\"text-align: right;\">\n",
              "      <th></th>\n",
              "      <th>BATHRM</th>\n",
              "      <th>HF_BATHRM</th>\n",
              "      <th>HEAT</th>\n",
              "      <th>AC</th>\n",
              "      <th>NUM_UNITS</th>\n",
              "      <th>ROOMS</th>\n",
              "      <th>BEDRM</th>\n",
              "      <th>AYB</th>\n",
              "      <th>YR_RMDL</th>\n",
              "      <th>EYB</th>\n",
              "      <th>STORIES</th>\n",
              "      <th>SALEDATE</th>\n",
              "      <th>PRICE</th>\n",
              "      <th>QUALIFIED</th>\n",
              "      <th>SALE_NUM</th>\n",
              "      <th>GBA</th>\n",
              "      <th>BLDG_NUM</th>\n",
              "      <th>STYLE</th>\n",
              "      <th>STRUCT</th>\n",
              "      <th>GRADE</th>\n",
              "      <th>CNDTN</th>\n",
              "      <th>EXTWALL</th>\n",
              "      <th>ROOF</th>\n",
              "      <th>INTWALL</th>\n",
              "      <th>KITCHENS</th>\n",
              "      <th>FIREPLACES</th>\n",
              "      <th>USECODE</th>\n",
              "      <th>LANDAREA</th>\n",
              "      <th>GIS_LAST_MOD_DTTM</th>\n",
              "      <th>SOURCE</th>\n",
              "      <th>CMPLX_NUM</th>\n",
              "      <th>LIVING_GBA</th>\n",
              "      <th>FULLADDRESS</th>\n",
              "      <th>CITY</th>\n",
              "      <th>STATE</th>\n",
              "      <th>ZIPCODE</th>\n",
              "      <th>NATIONALGRID</th>\n",
              "      <th>LATITUDE</th>\n",
              "      <th>LONGITUDE</th>\n",
              "      <th>ASSESSMENT_NBHD</th>\n",
              "      <th>ASSESSMENT_SUBNBHD</th>\n",
              "      <th>CENSUS_TRACT</th>\n",
              "      <th>CENSUS_BLOCK</th>\n",
              "      <th>WARD</th>\n",
              "      <th>SQUARE</th>\n",
              "      <th>X</th>\n",
              "      <th>Y</th>\n",
              "      <th>QUADRANT</th>\n",
              "    </tr>\n",
              "  </thead>\n",
              "  <tbody>\n",
              "    <tr>\n",
              "      <th>158952</th>\n",
              "      <td>2</td>\n",
              "      <td>0</td>\n",
              "      <td>Ht Pump</td>\n",
              "      <td>Y</td>\n",
              "      <td>NaN</td>\n",
              "      <td>6</td>\n",
              "      <td>3</td>\n",
              "      <td>1993.0</td>\n",
              "      <td>1993.0</td>\n",
              "      <td>1993</td>\n",
              "      <td>NaN</td>\n",
              "      <td>NaT</td>\n",
              "      <td>NaN</td>\n",
              "      <td>U</td>\n",
              "      <td>1</td>\n",
              "      <td>NaN</td>\n",
              "      <td>1</td>\n",
              "      <td>NaN</td>\n",
              "      <td>NaN</td>\n",
              "      <td>NaN</td>\n",
              "      <td>NaN</td>\n",
              "      <td>NaN</td>\n",
              "      <td>NaN</td>\n",
              "      <td>NaN</td>\n",
              "      <td>NaN</td>\n",
              "      <td>0</td>\n",
              "      <td>16</td>\n",
              "      <td>891</td>\n",
              "      <td>2018-07-22 18:01:38</td>\n",
              "      <td>Condominium</td>\n",
              "      <td>2266.0</td>\n",
              "      <td>1342.0</td>\n",
              "      <td>NaN</td>\n",
              "      <td>NaN</td>\n",
              "      <td>NaN</td>\n",
              "      <td>20001.0</td>\n",
              "      <td>NaN</td>\n",
              "      <td>38.914279</td>\n",
              "      <td>-77.019274</td>\n",
              "      <td>Old City 2</td>\n",
              "      <td>040 G Old City 2</td>\n",
              "      <td>4801.0</td>\n",
              "      <td>NaN</td>\n",
              "      <td>Ward 6</td>\n",
              "      <td>475</td>\n",
              "      <td>-77.019277</td>\n",
              "      <td>38.914287</td>\n",
              "      <td>NW</td>\n",
              "    </tr>\n",
              "    <tr>\n",
              "      <th>158953</th>\n",
              "      <td>2</td>\n",
              "      <td>0</td>\n",
              "      <td>Ht Pump</td>\n",
              "      <td>Y</td>\n",
              "      <td>NaN</td>\n",
              "      <td>6</td>\n",
              "      <td>3</td>\n",
              "      <td>1993.0</td>\n",
              "      <td>1993.0</td>\n",
              "      <td>1993</td>\n",
              "      <td>NaN</td>\n",
              "      <td>NaT</td>\n",
              "      <td>NaN</td>\n",
              "      <td>U</td>\n",
              "      <td>1</td>\n",
              "      <td>NaN</td>\n",
              "      <td>1</td>\n",
              "      <td>NaN</td>\n",
              "      <td>NaN</td>\n",
              "      <td>NaN</td>\n",
              "      <td>NaN</td>\n",
              "      <td>NaN</td>\n",
              "      <td>NaN</td>\n",
              "      <td>NaN</td>\n",
              "      <td>NaN</td>\n",
              "      <td>0</td>\n",
              "      <td>16</td>\n",
              "      <td>857</td>\n",
              "      <td>2018-07-22 18:01:38</td>\n",
              "      <td>Condominium</td>\n",
              "      <td>2267.0</td>\n",
              "      <td>1342.0</td>\n",
              "      <td>NaN</td>\n",
              "      <td>NaN</td>\n",
              "      <td>NaN</td>\n",
              "      <td>20001.0</td>\n",
              "      <td>NaN</td>\n",
              "      <td>38.914279</td>\n",
              "      <td>-77.019274</td>\n",
              "      <td>Old City 2</td>\n",
              "      <td>040 G Old City 2</td>\n",
              "      <td>4801.0</td>\n",
              "      <td>NaN</td>\n",
              "      <td>Ward 6</td>\n",
              "      <td>475</td>\n",
              "      <td>-77.019277</td>\n",
              "      <td>38.914287</td>\n",
              "      <td>NW</td>\n",
              "    </tr>\n",
              "    <tr>\n",
              "      <th>158954</th>\n",
              "      <td>1</td>\n",
              "      <td>0</td>\n",
              "      <td>Forced Air</td>\n",
              "      <td>Y</td>\n",
              "      <td>NaN</td>\n",
              "      <td>4</td>\n",
              "      <td>2</td>\n",
              "      <td>1992.0</td>\n",
              "      <td>1992.0</td>\n",
              "      <td>1992</td>\n",
              "      <td>NaN</td>\n",
              "      <td>NaT</td>\n",
              "      <td>NaN</td>\n",
              "      <td>U</td>\n",
              "      <td>1</td>\n",
              "      <td>NaN</td>\n",
              "      <td>1</td>\n",
              "      <td>NaN</td>\n",
              "      <td>NaN</td>\n",
              "      <td>NaN</td>\n",
              "      <td>NaN</td>\n",
              "      <td>NaN</td>\n",
              "      <td>NaN</td>\n",
              "      <td>NaN</td>\n",
              "      <td>NaN</td>\n",
              "      <td>0</td>\n",
              "      <td>16</td>\n",
              "      <td>812</td>\n",
              "      <td>2018-07-22 18:01:38</td>\n",
              "      <td>Condominium</td>\n",
              "      <td>2269.0</td>\n",
              "      <td>825.0</td>\n",
              "      <td>NaN</td>\n",
              "      <td>NaN</td>\n",
              "      <td>NaN</td>\n",
              "      <td>20001.0</td>\n",
              "      <td>NaN</td>\n",
              "      <td>38.911840</td>\n",
              "      <td>-77.019420</td>\n",
              "      <td>Old City 2</td>\n",
              "      <td>040 B Old City 2</td>\n",
              "      <td>4801.0</td>\n",
              "      <td>NaN</td>\n",
              "      <td>Ward 6</td>\n",
              "      <td>477</td>\n",
              "      <td>-77.019422</td>\n",
              "      <td>38.911848</td>\n",
              "      <td>NW</td>\n",
              "    </tr>\n",
              "    <tr>\n",
              "      <th>158955</th>\n",
              "      <td>1</td>\n",
              "      <td>0</td>\n",
              "      <td>Forced Air</td>\n",
              "      <td>Y</td>\n",
              "      <td>NaN</td>\n",
              "      <td>4</td>\n",
              "      <td>2</td>\n",
              "      <td>1992.0</td>\n",
              "      <td>1992.0</td>\n",
              "      <td>1992</td>\n",
              "      <td>NaN</td>\n",
              "      <td>NaT</td>\n",
              "      <td>NaN</td>\n",
              "      <td>U</td>\n",
              "      <td>1</td>\n",
              "      <td>NaN</td>\n",
              "      <td>1</td>\n",
              "      <td>NaN</td>\n",
              "      <td>NaN</td>\n",
              "      <td>NaN</td>\n",
              "      <td>NaN</td>\n",
              "      <td>NaN</td>\n",
              "      <td>NaN</td>\n",
              "      <td>NaN</td>\n",
              "      <td>NaN</td>\n",
              "      <td>0</td>\n",
              "      <td>16</td>\n",
              "      <td>887</td>\n",
              "      <td>2018-07-22 18:01:38</td>\n",
              "      <td>Condominium</td>\n",
              "      <td>2271.0</td>\n",
              "      <td>861.0</td>\n",
              "      <td>NaN</td>\n",
              "      <td>NaN</td>\n",
              "      <td>NaN</td>\n",
              "      <td>20001.0</td>\n",
              "      <td>NaN</td>\n",
              "      <td>38.911840</td>\n",
              "      <td>-77.019420</td>\n",
              "      <td>Old City 2</td>\n",
              "      <td>040 B Old City 2</td>\n",
              "      <td>4801.0</td>\n",
              "      <td>NaN</td>\n",
              "      <td>Ward 6</td>\n",
              "      <td>477</td>\n",
              "      <td>-77.019422</td>\n",
              "      <td>38.911848</td>\n",
              "      <td>NW</td>\n",
              "    </tr>\n",
              "    <tr>\n",
              "      <th>158956</th>\n",
              "      <td>2</td>\n",
              "      <td>0</td>\n",
              "      <td>Forced Air</td>\n",
              "      <td>Y</td>\n",
              "      <td>NaN</td>\n",
              "      <td>7</td>\n",
              "      <td>4</td>\n",
              "      <td>1992.0</td>\n",
              "      <td>1992.0</td>\n",
              "      <td>1992</td>\n",
              "      <td>NaN</td>\n",
              "      <td>NaT</td>\n",
              "      <td>NaN</td>\n",
              "      <td>U</td>\n",
              "      <td>1</td>\n",
              "      <td>NaN</td>\n",
              "      <td>1</td>\n",
              "      <td>NaN</td>\n",
              "      <td>NaN</td>\n",
              "      <td>NaN</td>\n",
              "      <td>NaN</td>\n",
              "      <td>NaN</td>\n",
              "      <td>NaN</td>\n",
              "      <td>NaN</td>\n",
              "      <td>NaN</td>\n",
              "      <td>0</td>\n",
              "      <td>16</td>\n",
              "      <td>1085</td>\n",
              "      <td>2018-07-22 18:01:38</td>\n",
              "      <td>Condominium</td>\n",
              "      <td>2271.0</td>\n",
              "      <td>1492.0</td>\n",
              "      <td>NaN</td>\n",
              "      <td>NaN</td>\n",
              "      <td>NaN</td>\n",
              "      <td>20001.0</td>\n",
              "      <td>NaN</td>\n",
              "      <td>38.911840</td>\n",
              "      <td>-77.019420</td>\n",
              "      <td>Old City 2</td>\n",
              "      <td>040 B Old City 2</td>\n",
              "      <td>4801.0</td>\n",
              "      <td>NaN</td>\n",
              "      <td>Ward 6</td>\n",
              "      <td>477</td>\n",
              "      <td>-77.019422</td>\n",
              "      <td>38.911848</td>\n",
              "      <td>NW</td>\n",
              "    </tr>\n",
              "  </tbody>\n",
              "</table>\n",
              "</div>"
            ],
            "text/plain": [
              "        BATHRM  HF_BATHRM        HEAT AC  ...  SQUARE          X          Y  QUADRANT\n",
              "158952       2          0     Ht Pump  Y  ...     475 -77.019277  38.914287        NW\n",
              "158953       2          0     Ht Pump  Y  ...     475 -77.019277  38.914287        NW\n",
              "158954       1          0  Forced Air  Y  ...     477 -77.019422  38.911848        NW\n",
              "158955       1          0  Forced Air  Y  ...     477 -77.019422  38.911848        NW\n",
              "158956       2          0  Forced Air  Y  ...     477 -77.019422  38.911848        NW\n",
              "\n",
              "[5 rows x 48 columns]"
            ]
          },
          "metadata": {
            "tags": []
          },
          "execution_count": 36
        }
      ]
    },
    {
      "cell_type": "code",
      "metadata": {
        "colab": {
          "base_uri": "https://localhost:8080/"
        },
        "id": "w93FlaS2bee1",
        "outputId": "279f88f8-d046-499c-fafd-10182a6df685"
      },
      "source": [
        "(df_date_sorted['SALEDATE'].shape[0])*0.8"
      ],
      "execution_count": 18,
      "outputs": [
        {
          "output_type": "execute_result",
          "data": {
            "text/plain": [
              "127165.6"
            ]
          },
          "metadata": {
            "tags": []
          },
          "execution_count": 18
        }
      ]
    },
    {
      "cell_type": "code",
      "metadata": {
        "id": "vMEQfNFmasUz"
      },
      "source": [
        "dev = df_date_sorted.iloc[:127165,:]"
      ],
      "execution_count": 25,
      "outputs": []
    },
    {
      "cell_type": "code",
      "metadata": {
        "id": "Dyf2r68vbLu0"
      },
      "source": [
        "test = df_date_sorted.iloc[127166:,:]"
      ],
      "execution_count": 29,
      "outputs": []
    },
    {
      "cell_type": "code",
      "metadata": {
        "colab": {
          "base_uri": "https://localhost:8080/"
        },
        "id": "RXhCKGTdbSbJ",
        "outputId": "bbb9c6c4-1766-4d2b-96da-788c1a126de8"
      },
      "source": [
        "test.shape"
      ],
      "execution_count": 30,
      "outputs": [
        {
          "output_type": "execute_result",
          "data": {
            "text/plain": [
              "(31791, 48)"
            ]
          },
          "metadata": {
            "tags": []
          },
          "execution_count": 30
        }
      ]
    },
    {
      "cell_type": "code",
      "metadata": {
        "colab": {
          "base_uri": "https://localhost:8080/",
          "height": 17
        },
        "id": "_OB8Z-NEdW5p",
        "outputId": "8814048b-acbc-416f-ea8c-376172fed03c"
      },
      "source": [
        "from google.colab import files\n",
        "dev.to_csv('dev2.csv',index=False)\n",
        "files.download('dev2.csv')"
      ],
      "execution_count": 34,
      "outputs": [
        {
          "output_type": "display_data",
          "data": {
            "application/javascript": [
              "\n",
              "    async function download(id, filename, size) {\n",
              "      if (!google.colab.kernel.accessAllowed) {\n",
              "        return;\n",
              "      }\n",
              "      const div = document.createElement('div');\n",
              "      const label = document.createElement('label');\n",
              "      label.textContent = `Downloading \"${filename}\": `;\n",
              "      div.appendChild(label);\n",
              "      const progress = document.createElement('progress');\n",
              "      progress.max = size;\n",
              "      div.appendChild(progress);\n",
              "      document.body.appendChild(div);\n",
              "\n",
              "      const buffers = [];\n",
              "      let downloaded = 0;\n",
              "\n",
              "      const channel = await google.colab.kernel.comms.open(id);\n",
              "      // Send a message to notify the kernel that we're ready.\n",
              "      channel.send({})\n",
              "\n",
              "      for await (const message of channel.messages) {\n",
              "        // Send a message to notify the kernel that we're ready.\n",
              "        channel.send({})\n",
              "        if (message.buffers) {\n",
              "          for (const buffer of message.buffers) {\n",
              "            buffers.push(buffer);\n",
              "            downloaded += buffer.byteLength;\n",
              "            progress.value = downloaded;\n",
              "          }\n",
              "        }\n",
              "      }\n",
              "      const blob = new Blob(buffers, {type: 'application/binary'});\n",
              "      const a = document.createElement('a');\n",
              "      a.href = window.URL.createObjectURL(blob);\n",
              "      a.download = filename;\n",
              "      div.appendChild(a);\n",
              "      a.click();\n",
              "      div.remove();\n",
              "    }\n",
              "  "
            ],
            "text/plain": [
              "<IPython.core.display.Javascript object>"
            ]
          },
          "metadata": {
            "tags": []
          }
        },
        {
          "output_type": "display_data",
          "data": {
            "application/javascript": [
              "download(\"download_d987b060-14be-437d-94a5-a6fba2de3a37\", \"dev2.csv\", 42284142)"
            ],
            "text/plain": [
              "<IPython.core.display.Javascript object>"
            ]
          },
          "metadata": {
            "tags": []
          }
        }
      ]
    },
    {
      "cell_type": "code",
      "metadata": {
        "colab": {
          "base_uri": "https://localhost:8080/",
          "height": 17
        },
        "id": "IuqFYc7Xdnjm",
        "outputId": "e481d8ba-0e3a-4d84-bf99-c8460f99bbf4"
      },
      "source": [
        "from google.colab import files\n",
        "test.to_csv('test2.csv',index=False)\n",
        "files.download('test2.csv')"
      ],
      "execution_count": 35,
      "outputs": [
        {
          "output_type": "display_data",
          "data": {
            "application/javascript": [
              "\n",
              "    async function download(id, filename, size) {\n",
              "      if (!google.colab.kernel.accessAllowed) {\n",
              "        return;\n",
              "      }\n",
              "      const div = document.createElement('div');\n",
              "      const label = document.createElement('label');\n",
              "      label.textContent = `Downloading \"${filename}\": `;\n",
              "      div.appendChild(label);\n",
              "      const progress = document.createElement('progress');\n",
              "      progress.max = size;\n",
              "      div.appendChild(progress);\n",
              "      document.body.appendChild(div);\n",
              "\n",
              "      const buffers = [];\n",
              "      let downloaded = 0;\n",
              "\n",
              "      const channel = await google.colab.kernel.comms.open(id);\n",
              "      // Send a message to notify the kernel that we're ready.\n",
              "      channel.send({})\n",
              "\n",
              "      for await (const message of channel.messages) {\n",
              "        // Send a message to notify the kernel that we're ready.\n",
              "        channel.send({})\n",
              "        if (message.buffers) {\n",
              "          for (const buffer of message.buffers) {\n",
              "            buffers.push(buffer);\n",
              "            downloaded += buffer.byteLength;\n",
              "            progress.value = downloaded;\n",
              "          }\n",
              "        }\n",
              "      }\n",
              "      const blob = new Blob(buffers, {type: 'application/binary'});\n",
              "      const a = document.createElement('a');\n",
              "      a.href = window.URL.createObjectURL(blob);\n",
              "      a.download = filename;\n",
              "      div.appendChild(a);\n",
              "      a.click();\n",
              "      div.remove();\n",
              "    }\n",
              "  "
            ],
            "text/plain": [
              "<IPython.core.display.Javascript object>"
            ]
          },
          "metadata": {
            "tags": []
          }
        },
        {
          "output_type": "display_data",
          "data": {
            "application/javascript": [
              "download(\"download_69f019e8-10e1-4f9b-8862-aceeea8504ed\", \"test2.csv\", 10813869)"
            ],
            "text/plain": [
              "<IPython.core.display.Javascript object>"
            ]
          },
          "metadata": {
            "tags": []
          }
        }
      ]
    },
    {
      "cell_type": "code",
      "metadata": {
        "id": "bi8COZKzoWuk"
      },
      "source": [
        ""
      ],
      "execution_count": null,
      "outputs": []
    }
  ]
}