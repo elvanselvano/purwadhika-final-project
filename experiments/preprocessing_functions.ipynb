{
  "nbformat": 4,
  "nbformat_minor": 0,
  "metadata": {
    "colab": {
      "name": "preprocessing_func_rev1.ipynb",
      "provenance": [],
      "collapsed_sections": []
    },
    "kernelspec": {
      "name": "python3",
      "display_name": "Python 3"
    },
    "language_info": {
      "name": "python"
    }
  },
  "cells": [
    {
      "cell_type": "code",
      "metadata": {
        "colab": {
          "base_uri": "https://localhost:8080/"
        },
        "id": "4qWCCmvkOmVs",
        "outputId": "f4610812-f3b2-49fa-d4ce-41f352dc6777"
      },
      "source": [
        "!pip install category_encoders"
      ],
      "execution_count": 7,
      "outputs": [
        {
          "output_type": "stream",
          "text": [
            "Collecting category_encoders\n",
            "\u001b[?25l  Downloading https://files.pythonhosted.org/packages/44/57/fcef41c248701ee62e8325026b90c432adea35555cbc870aff9cfba23727/category_encoders-2.2.2-py2.py3-none-any.whl (80kB)\n",
            "\r\u001b[K     |████                            | 10kB 15.0MB/s eta 0:00:01\r\u001b[K     |████████▏                       | 20kB 15.5MB/s eta 0:00:01\r\u001b[K     |████████████▏                   | 30kB 19.3MB/s eta 0:00:01\r\u001b[K     |████████████████▎               | 40kB 17.9MB/s eta 0:00:01\r\u001b[K     |████████████████████▎           | 51kB 8.2MB/s eta 0:00:01\r\u001b[K     |████████████████████████▍       | 61kB 8.3MB/s eta 0:00:01\r\u001b[K     |████████████████████████████▍   | 71kB 8.3MB/s eta 0:00:01\r\u001b[K     |████████████████████████████████| 81kB 5.0MB/s \n",
            "\u001b[?25hRequirement already satisfied: scikit-learn>=0.20.0 in /usr/local/lib/python3.7/dist-packages (from category_encoders) (0.22.2.post1)\n",
            "Requirement already satisfied: patsy>=0.5.1 in /usr/local/lib/python3.7/dist-packages (from category_encoders) (0.5.1)\n",
            "Requirement already satisfied: statsmodels>=0.9.0 in /usr/local/lib/python3.7/dist-packages (from category_encoders) (0.10.2)\n",
            "Requirement already satisfied: pandas>=0.21.1 in /usr/local/lib/python3.7/dist-packages (from category_encoders) (1.1.5)\n",
            "Requirement already satisfied: numpy>=1.14.0 in /usr/local/lib/python3.7/dist-packages (from category_encoders) (1.19.5)\n",
            "Requirement already satisfied: scipy>=1.0.0 in /usr/local/lib/python3.7/dist-packages (from category_encoders) (1.4.1)\n",
            "Requirement already satisfied: joblib>=0.11 in /usr/local/lib/python3.7/dist-packages (from scikit-learn>=0.20.0->category_encoders) (1.0.1)\n",
            "Requirement already satisfied: six in /usr/local/lib/python3.7/dist-packages (from patsy>=0.5.1->category_encoders) (1.15.0)\n",
            "Requirement already satisfied: pytz>=2017.2 in /usr/local/lib/python3.7/dist-packages (from pandas>=0.21.1->category_encoders) (2018.9)\n",
            "Requirement already satisfied: python-dateutil>=2.7.3 in /usr/local/lib/python3.7/dist-packages (from pandas>=0.21.1->category_encoders) (2.8.1)\n",
            "Installing collected packages: category-encoders\n",
            "Successfully installed category-encoders-2.2.2\n"
          ],
          "name": "stdout"
        }
      ]
    },
    {
      "cell_type": "code",
      "metadata": {
        "colab": {
          "base_uri": "https://localhost:8080/"
        },
        "id": "4tn4tiiLyeJL",
        "outputId": "a8bb9dda-3d77-4fcd-fee9-564d75fba32d"
      },
      "source": [
        "import pandas as pd\n",
        "import numpy as np\n",
        "import category_encoders as ce\n",
        "\n",
        "# Disable warnings \n",
        "import warnings\n",
        "warnings.filterwarnings('ignore')"
      ],
      "execution_count": 8,
      "outputs": [
        {
          "output_type": "stream",
          "text": [
            "/usr/local/lib/python3.7/dist-packages/statsmodels/tools/_testing.py:19: FutureWarning: pandas.util.testing is deprecated. Use the functions in the public API at pandas.testing instead.\n",
            "  import pandas.util.testing as tm\n"
          ],
          "name": "stderr"
        }
      ]
    },
    {
      "cell_type": "code",
      "metadata": {
        "id": "lhVHEa5fwszv"
      },
      "source": [
        "#casting data types\n",
        "def casting(df):\n",
        "  df['NUM_UNITS'] = df['NUM_UNITS'].astype(pd.Int64Dtype())\n",
        "  df['KITCHENS'] = df['KITCHENS'].astype(pd.Int64Dtype())\n",
        "  df['USECODE'] = df['USECODE'].astype(pd.Int64Dtype()).astype('category')\n",
        "  df['ZIPCODE'] = df['ZIPCODE'].astype(pd.Int64Dtype()).astype('category')\n",
        "  df['CMPLX_NUM'] = df['CMPLX_NUM'].astype(pd.Int64Dtype())\n",
        "  df['CENSUS_TRACT'] = df['CMPLX_NUM'].astype(pd.Int64Dtype())\n",
        "  df['SALEDATE'] = pd.to_datetime(df['SALEDATE'])\n",
        "  return df"
      ],
      "execution_count": 5,
      "outputs": []
    },
    {
      "cell_type": "code",
      "metadata": {
        "id": "w46ko6LehcCd"
      },
      "source": [
        "def saleyear(df):\n",
        "  df['SALEYEAR'] = df['SALEDATE'].dt.year\n",
        "  return df"
      ],
      "execution_count": 2,
      "outputs": []
    },
    {
      "cell_type": "code",
      "metadata": {
        "id": "_HU3gmYugskd"
      },
      "source": [
        "def drop_qualified(df):\n",
        "  df = df[df['QUALIFIED']=='Q']\n",
        "  df = df.drop('QUALIFIED', axis=1)\n",
        "  \n",
        "  return df\n",
        "  "
      ],
      "execution_count": 3,
      "outputs": []
    },
    {
      "cell_type": "code",
      "metadata": {
        "id": "vEN4ypmbB46s"
      },
      "source": [
        "def residential(df):\n",
        "  df = df[df['SOURCE']=='Residential']\n",
        "  \n",
        "  return df"
      ],
      "execution_count": 4,
      "outputs": []
    },
    {
      "cell_type": "code",
      "metadata": {
        "id": "EbMfDQ0_M6Zg"
      },
      "source": [
        "#AYB, EYB change to age, SQFT/ROOMS\n",
        "def feature_eng(df):\n",
        "  df['AYB_SALEYEAR_DIFF'] = df['SALEYEAR']-df['AYB']\n",
        "  df['EYB_SALEYEAR_DIFF'] = np.where(df['SALEYEAR']<df['EYB'],0,df['SALEYEAR']-df['EYB'])\n",
        "  df['SQFT_ROOMS'] = df['GBA']/df['ROOMS']\n",
        "\n",
        "  return df"
      ],
      "execution_count": 9,
      "outputs": []
    },
    {
      "cell_type": "code",
      "metadata": {
        "id": "_Xegrkj6BbTL"
      },
      "source": [
        "#feature engineering YR_RMDL\n",
        "def yr_rmdl(df):\n",
        "  df['RMDL'] = np.where(df['YR_RMDL'].isna(),0,1)\n",
        "  df = df.drop('YR_RMDL',axis=1)\n",
        "  return df"
      ],
      "execution_count": 10,
      "outputs": []
    },
    {
      "cell_type": "code",
      "metadata": {
        "id": "in7RGPsJAUdI"
      },
      "source": [
        "#drop unusual values\n",
        "def drop_unusual(df):\n",
        "  df['AC'] = np.where(df['AC']=='Y',1,0) #convert to 1 0 \n",
        "  df = df[df['HEAT']!='No Data'] #delete no data\n",
        "  df = df[df['ROOMS']!=0] #exclude property with 0 rooms\n",
        "  df = df[df['AYB']<= df['SALEYEAR']] #exclude values where AYB > SALEYEAR\n",
        "  df = df[df['AYB']<= df['EYB']] #exclude values where AYB > EYB\n",
        "  df = df[~df['GRADE'].isin(['Exceptional-D','Exceptional-C','Exceptional-B',\n",
        "                             'Exceptional-A'])] #exclude exceptional GRADE\n",
        "\n",
        "  return df"
      ],
      "execution_count": 11,
      "outputs": []
    },
    {
      "cell_type": "code",
      "metadata": {
        "id": "xgYnMoDTjW4S"
      },
      "source": [
        "#drop unused features : CMPLX_NUM,LIVING_GBA,CENSUS_TRACT,ASSESSMENT_SUBNBHD,\n",
        "#                       FULLADDRESS,NATIONALGRID,CENSUS_BLOCK,CITY,STATE,X,Y,\n",
        "#                       SALEDATE\n",
        "#drop unrelated columns : GIS_LAST_MOD_DTTM, SOURCE\n",
        "#drop similar values : STORIES\n",
        "#drop unused location features : ZIPCODE,ASSESSMENT_NBHD,SQUARE,QUADRANT,\n",
        "#                                LATITUDE,LONGITUDE\n",
        "#drop weak correlation and multicollinearity : BLDG_NUM, NUM_UNITS\n",
        "#drop based on model evaluation : ROOMS, USECODE\n",
        "def drop_unused_features(df):\n",
        "  df_clean = df.drop(['CMPLX_NUM','LIVING_GBA','CENSUS_TRACT',\n",
        "                        'ASSESSMENT_SUBNBHD','FULLADDRESS','NATIONALGRID',\n",
        "                        'CENSUS_BLOCK','CITY','STATE','X','Y','SALEDATE',\n",
        "                        'GIS_LAST_MOD_DTTM','SOURCE','STORIES','ZIPCODE',\n",
        "                        'ASSESSMENT_NBHD','SQUARE','QUADRANT','LATITUDE',\n",
        "                        'LONGITUDE','BLDG_NUM','NUM_UNITS','ROOMS','USECODE'],\n",
        "                        axis=1)\n",
        "  return df_clean"
      ],
      "execution_count": 12,
      "outputs": []
    },
    {
      "cell_type": "code",
      "metadata": {
        "id": "3JyBD9tMqDfk"
      },
      "source": [
        "#drop remaining missing values\n",
        "def drop_all(df):\n",
        "  df = df.dropna()\n",
        "  return df"
      ],
      "execution_count": 13,
      "outputs": []
    },
    {
      "cell_type": "code",
      "metadata": {
        "id": "nt2PZtFqrmJ8"
      },
      "source": [
        "#encoding\n",
        "def encoding_categorical(df):\n",
        "  ordinal_mapping = [{'col':'CNDTN','mapping':{'Poor':1,'Fair':2,'Average':3,'Good':4,'Very Good':5,'Excellent':6}}]\n",
        "  ordinal_encoder = ce.OrdinalEncoder(cols ='CNDTN',mapping = ordinal_mapping) \n",
        "  df = ordinal_encoder.fit_transform(df)                                                \n",
        "  return df"
      ],
      "execution_count": 14,
      "outputs": []
    },
    {
      "cell_type": "code",
      "metadata": {
        "id": "pF1u5xdyq1ZM"
      },
      "source": [
        "df = pd.read_csv('https://raw.githubusercontent.com/elvanselvano/purwadhika-final-project/main/dataset/dev2.csv')\n",
        "test = pd.read_csv('https://raw.githubusercontent.com/elvanselvano/purwadhika-final-project/main/dataset/test2.csv')"
      ],
      "execution_count": 15,
      "outputs": []
    },
    {
      "cell_type": "code",
      "metadata": {
        "id": "eBFwpXEArJIG"
      },
      "source": [
        "df1 = casting(df)\n",
        "df2 = saleyear(df1)\n",
        "df3 = drop_qualified(df2)\n",
        "df4 = residential(df3)\n",
        "df5 = feature_eng(df4)\n",
        "df6 = yr_rmdl(df5)\n",
        "df7 = drop_unusual(df6)\n",
        "df8 = drop_unused_features(df7)\n",
        "df9 = drop_all(df8)\n",
        "df10 = encoding_categorical(df9)\n",
        "df10.to_csv('dev_preproc.csv',index=False)"
      ],
      "execution_count": 16,
      "outputs": []
    },
    {
      "cell_type": "code",
      "metadata": {
        "id": "e9eIaegdbVTT"
      },
      "source": [
        "df = test.copy()\n",
        "df1 = casting(df)\n",
        "df2 = saleyear(df1)\n",
        "df3 = drop_qualified(df2)\n",
        "df4 = residential(df3)\n",
        "df5 = feature_eng(df4)\n",
        "df6 = yr_rmdl(df5)\n",
        "df7 = drop_unusual(df6)\n",
        "df8 = drop_unused_features(df7)\n",
        "df9 = drop_all(df8)\n",
        "df10 = encoding_categorical(df9)\n",
        "df10.to_csv('test_preproc.csv',index=False)"
      ],
      "execution_count": 17,
      "outputs": []
    }
  ]
}