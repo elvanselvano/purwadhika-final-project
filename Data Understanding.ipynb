{
 "metadata": {
  "language_info": {
   "codemirror_mode": {
    "name": "ipython",
    "version": 3
   },
   "file_extension": ".py",
   "mimetype": "text/x-python",
   "name": "python",
   "nbconvert_exporter": "python",
   "pygments_lexer": "ipython3",
   "version": "3.9.1"
  },
  "orig_nbformat": 4,
  "kernelspec": {
   "name": "python3",
   "display_name": "Python 3.9.1 64-bit"
  },
  "interpreter": {
   "hash": "aee8b7b246df8f9039afb4144a1f6fd8d2ca17a180786b69acc140d282b71a49"
  }
 },
 "nbformat": 4,
 "nbformat_minor": 2,
 "cells": [
  {
   "cell_type": "code",
   "execution_count": 2,
   "metadata": {},
   "outputs": [],
   "source": [
    "import pandas as pd\n",
    "from pandas_profiling import ProfileReport\n",
    "import numpy as np"
   ]
  },
  {
   "cell_type": "code",
   "execution_count": 12,
   "metadata": {},
   "outputs": [
    {
     "output_type": "stream",
     "name": "stderr",
     "text": [
      "/Users/gustikresna/Library/Python/3.9/lib/python/site-packages/IPython/core/interactiveshell.py:3155: DtypeWarning: Columns (18,19,20,21,22,23,24,33,34,35,37,43,45) have mixed types.Specify dtype option on import or set low_memory=False.\n  has_raised = await self.run_ast_nodes(code_ast.body, cell_name,\n"
     ]
    }
   ],
   "source": [
    "df = pd.read_csv('DC_Properties.csv', index_col=0)"
   ]
  },
  {
   "cell_type": "code",
   "execution_count": 13,
   "metadata": {},
   "outputs": [
    {
     "output_type": "execute_result",
     "data": {
      "text/plain": [
       "   BATHRM  HF_BATHRM           HEAT AC  NUM_UNITS  ROOMS  BEDRM     AYB  \\\n",
       "0       4          0      Warm Cool  Y        2.0      8      4  1910.0   \n",
       "1       3          1      Warm Cool  Y        2.0     11      5  1898.0   \n",
       "2       3          1  Hot Water Rad  Y        2.0      9      5  1910.0   \n",
       "3       3          1  Hot Water Rad  Y        2.0      8      5  1900.0   \n",
       "4       2          1      Warm Cool  Y        1.0     11      3  1913.0   \n",
       "\n",
       "   YR_RMDL   EYB  ...  LONGITUDE ASSESSMENT_NBHD  ASSESSMENT_SUBNBHD  \\\n",
       "0   1988.0  1972  ... -77.040832      Old City 2    040 D Old City 2   \n",
       "1   2007.0  1972  ... -77.040764      Old City 2    040 D Old City 2   \n",
       "2   2009.0  1984  ... -77.040678      Old City 2    040 D Old City 2   \n",
       "3   2003.0  1984  ... -77.040629      Old City 2    040 D Old City 2   \n",
       "4   2012.0  1985  ... -77.039361      Old City 2    040 D Old City 2   \n",
       "\n",
       "  CENSUS_TRACT  CENSUS_BLOCK    WARD  SQUARE          X          Y QUADRANT  \n",
       "0       4201.0   004201 2006  Ward 2     152 -77.040429  38.914881       NW  \n",
       "1       4201.0   004201 2006  Ward 2     152 -77.040429  38.914881       NW  \n",
       "2       4201.0   004201 2006  Ward 2     152 -77.040429  38.914881       NW  \n",
       "3       4201.0   004201 2006  Ward 2     152 -77.040429  38.914881       NW  \n",
       "4       4201.0   004201 2006  Ward 2     152 -77.040429  38.914881       NW  \n",
       "\n",
       "[5 rows x 48 columns]"
      ],
      "text/html": "<div>\n<style scoped>\n    .dataframe tbody tr th:only-of-type {\n        vertical-align: middle;\n    }\n\n    .dataframe tbody tr th {\n        vertical-align: top;\n    }\n\n    .dataframe thead th {\n        text-align: right;\n    }\n</style>\n<table border=\"1\" class=\"dataframe\">\n  <thead>\n    <tr style=\"text-align: right;\">\n      <th></th>\n      <th>BATHRM</th>\n      <th>HF_BATHRM</th>\n      <th>HEAT</th>\n      <th>AC</th>\n      <th>NUM_UNITS</th>\n      <th>ROOMS</th>\n      <th>BEDRM</th>\n      <th>AYB</th>\n      <th>YR_RMDL</th>\n      <th>EYB</th>\n      <th>...</th>\n      <th>LONGITUDE</th>\n      <th>ASSESSMENT_NBHD</th>\n      <th>ASSESSMENT_SUBNBHD</th>\n      <th>CENSUS_TRACT</th>\n      <th>CENSUS_BLOCK</th>\n      <th>WARD</th>\n      <th>SQUARE</th>\n      <th>X</th>\n      <th>Y</th>\n      <th>QUADRANT</th>\n    </tr>\n  </thead>\n  <tbody>\n    <tr>\n      <th>0</th>\n      <td>4</td>\n      <td>0</td>\n      <td>Warm Cool</td>\n      <td>Y</td>\n      <td>2.0</td>\n      <td>8</td>\n      <td>4</td>\n      <td>1910.0</td>\n      <td>1988.0</td>\n      <td>1972</td>\n      <td>...</td>\n      <td>-77.040832</td>\n      <td>Old City 2</td>\n      <td>040 D Old City 2</td>\n      <td>4201.0</td>\n      <td>004201 2006</td>\n      <td>Ward 2</td>\n      <td>152</td>\n      <td>-77.040429</td>\n      <td>38.914881</td>\n      <td>NW</td>\n    </tr>\n    <tr>\n      <th>1</th>\n      <td>3</td>\n      <td>1</td>\n      <td>Warm Cool</td>\n      <td>Y</td>\n      <td>2.0</td>\n      <td>11</td>\n      <td>5</td>\n      <td>1898.0</td>\n      <td>2007.0</td>\n      <td>1972</td>\n      <td>...</td>\n      <td>-77.040764</td>\n      <td>Old City 2</td>\n      <td>040 D Old City 2</td>\n      <td>4201.0</td>\n      <td>004201 2006</td>\n      <td>Ward 2</td>\n      <td>152</td>\n      <td>-77.040429</td>\n      <td>38.914881</td>\n      <td>NW</td>\n    </tr>\n    <tr>\n      <th>2</th>\n      <td>3</td>\n      <td>1</td>\n      <td>Hot Water Rad</td>\n      <td>Y</td>\n      <td>2.0</td>\n      <td>9</td>\n      <td>5</td>\n      <td>1910.0</td>\n      <td>2009.0</td>\n      <td>1984</td>\n      <td>...</td>\n      <td>-77.040678</td>\n      <td>Old City 2</td>\n      <td>040 D Old City 2</td>\n      <td>4201.0</td>\n      <td>004201 2006</td>\n      <td>Ward 2</td>\n      <td>152</td>\n      <td>-77.040429</td>\n      <td>38.914881</td>\n      <td>NW</td>\n    </tr>\n    <tr>\n      <th>3</th>\n      <td>3</td>\n      <td>1</td>\n      <td>Hot Water Rad</td>\n      <td>Y</td>\n      <td>2.0</td>\n      <td>8</td>\n      <td>5</td>\n      <td>1900.0</td>\n      <td>2003.0</td>\n      <td>1984</td>\n      <td>...</td>\n      <td>-77.040629</td>\n      <td>Old City 2</td>\n      <td>040 D Old City 2</td>\n      <td>4201.0</td>\n      <td>004201 2006</td>\n      <td>Ward 2</td>\n      <td>152</td>\n      <td>-77.040429</td>\n      <td>38.914881</td>\n      <td>NW</td>\n    </tr>\n    <tr>\n      <th>4</th>\n      <td>2</td>\n      <td>1</td>\n      <td>Warm Cool</td>\n      <td>Y</td>\n      <td>1.0</td>\n      <td>11</td>\n      <td>3</td>\n      <td>1913.0</td>\n      <td>2012.0</td>\n      <td>1985</td>\n      <td>...</td>\n      <td>-77.039361</td>\n      <td>Old City 2</td>\n      <td>040 D Old City 2</td>\n      <td>4201.0</td>\n      <td>004201 2006</td>\n      <td>Ward 2</td>\n      <td>152</td>\n      <td>-77.040429</td>\n      <td>38.914881</td>\n      <td>NW</td>\n    </tr>\n  </tbody>\n</table>\n<p>5 rows × 48 columns</p>\n</div>"
     },
     "metadata": {},
     "execution_count": 13
    }
   ],
   "source": [
    "df.head()"
   ]
  },
  {
   "cell_type": "code",
   "execution_count": 14,
   "metadata": {},
   "outputs": [
    {
     "output_type": "execute_result",
     "data": {
      "text/plain": [
       "(158957, 48)"
      ]
     },
     "metadata": {},
     "execution_count": 14
    }
   ],
   "source": [
    "df.shape"
   ]
  },
  {
   "cell_type": "code",
   "execution_count": 15,
   "metadata": {},
   "outputs": [
    {
     "output_type": "stream",
     "name": "stdout",
     "text": [
      "<class 'pandas.core.frame.DataFrame'>\nInt64Index: 158957 entries, 0 to 158956\nData columns (total 48 columns):\n #   Column              Non-Null Count   Dtype  \n---  ------              --------------   -----  \n 0   BATHRM              158957 non-null  int64  \n 1   HF_BATHRM           158957 non-null  int64  \n 2   HEAT                158957 non-null  object \n 3   AC                  158957 non-null  object \n 4   NUM_UNITS           106696 non-null  float64\n 5   ROOMS               158957 non-null  int64  \n 6   BEDRM               158957 non-null  int64  \n 7   AYB                 158686 non-null  float64\n 8   YR_RMDL             80928 non-null   float64\n 9   EYB                 158957 non-null  int64  \n 10  STORIES             106652 non-null  float64\n 11  SALEDATE            132187 non-null  object \n 12  PRICE               98216 non-null   float64\n 13  QUALIFIED           158957 non-null  object \n 14  SALE_NUM            158957 non-null  int64  \n 15  GBA                 106696 non-null  float64\n 16  BLDG_NUM            158957 non-null  int64  \n 17  STYLE               106696 non-null  object \n 18  STRUCT              106696 non-null  object \n 19  GRADE               106696 non-null  object \n 20  CNDTN               106696 non-null  object \n 21  EXTWALL             106696 non-null  object \n 22  ROOF                106696 non-null  object \n 23  INTWALL             106696 non-null  object \n 24  KITCHENS            106695 non-null  float64\n 25  FIREPLACES          158957 non-null  int64  \n 26  USECODE             158957 non-null  int64  \n 27  LANDAREA            158957 non-null  int64  \n 28  GIS_LAST_MOD_DTTM   158957 non-null  object \n 29  SOURCE              158957 non-null  object \n 30  CMPLX_NUM           52261 non-null   float64\n 31  LIVING_GBA          52261 non-null   float64\n 32  FULLADDRESS         106040 non-null  object \n 33  CITY                106051 non-null  object \n 34  STATE               106051 non-null  object \n 35  ZIPCODE             158956 non-null  float64\n 36  NATIONALGRID        106051 non-null  object \n 37  LATITUDE            158956 non-null  float64\n 38  LONGITUDE           158956 non-null  float64\n 39  ASSESSMENT_NBHD     158956 non-null  object \n 40  ASSESSMENT_SUBNBHD  126406 non-null  object \n 41  CENSUS_TRACT        158956 non-null  float64\n 42  CENSUS_BLOCK        106051 non-null  object \n 43  WARD                158956 non-null  object \n 44  SQUARE              158957 non-null  object \n 45  X                   158720 non-null  float64\n 46  Y                   158720 non-null  float64\n 47  QUADRANT            158720 non-null  object \ndtypes: float64(15), int64(10), object(23)\nmemory usage: 59.4+ MB\n"
     ]
    }
   ],
   "source": [
    "df.info()"
   ]
  },
  {
   "source": [
    "Feature Description"
   ],
   "cell_type": "markdown",
   "metadata": {}
  },
  {
   "cell_type": "code",
   "execution_count": 16,
   "metadata": {},
   "outputs": [],
   "source": [
    "desc = pd.read_excel('Attachment/Data Description.xlsx')\n",
    "pd.set_option('display.max_colwidth', None)"
   ]
  },
  {
   "cell_type": "code",
   "execution_count": 17,
   "metadata": {},
   "outputs": [
    {
     "output_type": "execute_result",
     "data": {
      "text/plain": [
       "               Feature Data Type  \\\n",
       "0               BATHRM     int64   \n",
       "1            HF_BATHRM     int64   \n",
       "2                 HEAT    object   \n",
       "3                   AC    object   \n",
       "4            NUM_UNITS   float64   \n",
       "5                ROOMS     int64   \n",
       "6                BEDRM     int64   \n",
       "7                  AYB   float64   \n",
       "8              YR_RMDL   float64   \n",
       "9                  EYB     int64   \n",
       "10             STORIES   float64   \n",
       "11            SALEDATE    object   \n",
       "12               PRICE   float64   \n",
       "13           QUALIFIED    object   \n",
       "14            SALE_NUM     int64   \n",
       "15                 GBA   float64   \n",
       "16            BLDG_NUM     int64   \n",
       "17               STYLE    object   \n",
       "18              STRUCT    object   \n",
       "19               GRADE    object   \n",
       "20               CNDTN    object   \n",
       "21             EXTWALL    object   \n",
       "22                ROOF    object   \n",
       "23             INTWALL    object   \n",
       "24            KITCHENS   float64   \n",
       "25          FIREPLACES     int64   \n",
       "26             USECODE     int64   \n",
       "27            LANDAREA     int64   \n",
       "28   GIS_LAST_MOD_DTTM    object   \n",
       "29              SOURCE    object   \n",
       "30           CMPLX_NUM   float64   \n",
       "31          LIVING_GBA   float64   \n",
       "32         FULLADDRESS    object   \n",
       "33                CITY    object   \n",
       "34               STATE    object   \n",
       "35             ZIPCODE   float64   \n",
       "36        NATIONALGRID    object   \n",
       "37            LATITUDE   float64   \n",
       "38           LONGITUDE   float64   \n",
       "39     ASSESSMENT_NBHD    object   \n",
       "40  ASSESSMENT_SUBNBHD    object   \n",
       "41        CENSUS_TRACT   float64   \n",
       "42        CENSUS_BLOCK    object   \n",
       "43                WARD    object   \n",
       "44              SQUARE    object   \n",
       "45                   X   float64   \n",
       "46                   Y   float64   \n",
       "47            QUADRANT    object   \n",
       "\n",
       "                                                                                                                     Description  \n",
       "0                                                                                                             Number of bathroom  \n",
       "1                                                                                 Number of half bathroom (no bathtub or shower)  \n",
       "2                                                                                                                   Heating type  \n",
       "3                                                                                                                  Has AC? (Y/N)  \n",
       "4                                                                                                                Number of units  \n",
       "5                                                                                                                Number of rooms  \n",
       "6                                                                                                              Number of bedroom  \n",
       "7                                                                   The earliest time the main portion of the building was built  \n",
       "8                                                                                               The year structure was remodeled  \n",
       "9                                                           The year an improvement was built more recent than actual year built  \n",
       "10                                                                                         Number of stories in primary dwelling  \n",
       "11                                                                                                      Date of most recent sale  \n",
       "12                                                                                                     Price of most recent sale  \n",
       "13  Internally-used indicator to reflect if a sale is representative of market value according to the office's internal criteria  \n",
       "14                                                                                  Number of time it's been sold since May 2014  \n",
       "15                                                                                            Gross building area in square feet  \n",
       "16                                                                                               Building number on the property  \n",
       "17                                                                                                                 Type of story  \n",
       "18                                                                                                            Building structure  \n",
       "19                                                                                                                Property Grade  \n",
       "20                                                                                                            Property Condition  \n",
       "21                                                                                                            Exterior wall type  \n",
       "22                                                                                                                     Roof type  \n",
       "23                                                                                                            Interior wall type  \n",
       "24                                                                                                            Number of kitchens  \n",
       "25                                                                                                          Number of fireplaces  \n",
       "26                                                                                                        Property use code type  \n",
       "27                                                                                          Land area of property in square feet  \n",
       "28                                                                                                            Last modified data  \n",
       "29                                                                                                               Raw data source  \n",
       "30                                                                                                                Complex number  \n",
       "31                                                                                            Gross building area in square feet  \n",
       "32                                                                                                           Full street address  \n",
       "33                                                                                                                          City  \n",
       "34                                                                                                                         State  \n",
       "35                                                                                                                       Zipcode  \n",
       "36                                                                     Address location national grid coordinate spatial address  \n",
       "37                                                                                                                      Latitude  \n",
       "38                                                                                                                     Longitude  \n",
       "39                                                                                                               Neighborhood ID  \n",
       "40                                                                                                            Subneighborhood ID  \n",
       "41                                                                                                                  Census tract  \n",
       "42                                                                                                                  Census block  \n",
       "43                                         Ward (district is divided into eight wards, each with approximately 75,000 residents)  \n",
       "44                                                          Square (Part of Square Suffix Lot (SSL) an address identifier in DC)  \n",
       "45                                                                                                                     Longitude  \n",
       "46                                                                                                                      Latitude  \n",
       "47                                                                                                   City quadrant (NE,SE,SW,NW)  "
      ],
      "text/html": "<div>\n<style scoped>\n    .dataframe tbody tr th:only-of-type {\n        vertical-align: middle;\n    }\n\n    .dataframe tbody tr th {\n        vertical-align: top;\n    }\n\n    .dataframe thead th {\n        text-align: right;\n    }\n</style>\n<table border=\"1\" class=\"dataframe\">\n  <thead>\n    <tr style=\"text-align: right;\">\n      <th></th>\n      <th>Feature</th>\n      <th>Data Type</th>\n      <th>Description</th>\n    </tr>\n  </thead>\n  <tbody>\n    <tr>\n      <th>0</th>\n      <td>BATHRM</td>\n      <td>int64</td>\n      <td>Number of bathroom</td>\n    </tr>\n    <tr>\n      <th>1</th>\n      <td>HF_BATHRM</td>\n      <td>int64</td>\n      <td>Number of half bathroom (no bathtub or shower)</td>\n    </tr>\n    <tr>\n      <th>2</th>\n      <td>HEAT</td>\n      <td>object</td>\n      <td>Heating type</td>\n    </tr>\n    <tr>\n      <th>3</th>\n      <td>AC</td>\n      <td>object</td>\n      <td>Has AC? (Y/N)</td>\n    </tr>\n    <tr>\n      <th>4</th>\n      <td>NUM_UNITS</td>\n      <td>float64</td>\n      <td>Number of units</td>\n    </tr>\n    <tr>\n      <th>5</th>\n      <td>ROOMS</td>\n      <td>int64</td>\n      <td>Number of rooms</td>\n    </tr>\n    <tr>\n      <th>6</th>\n      <td>BEDRM</td>\n      <td>int64</td>\n      <td>Number of bedroom</td>\n    </tr>\n    <tr>\n      <th>7</th>\n      <td>AYB</td>\n      <td>float64</td>\n      <td>The earliest time the main portion of the building was built</td>\n    </tr>\n    <tr>\n      <th>8</th>\n      <td>YR_RMDL</td>\n      <td>float64</td>\n      <td>The year structure was remodeled</td>\n    </tr>\n    <tr>\n      <th>9</th>\n      <td>EYB</td>\n      <td>int64</td>\n      <td>The year an improvement was built more recent than actual year built</td>\n    </tr>\n    <tr>\n      <th>10</th>\n      <td>STORIES</td>\n      <td>float64</td>\n      <td>Number of stories in primary dwelling</td>\n    </tr>\n    <tr>\n      <th>11</th>\n      <td>SALEDATE</td>\n      <td>object</td>\n      <td>Date of most recent sale</td>\n    </tr>\n    <tr>\n      <th>12</th>\n      <td>PRICE</td>\n      <td>float64</td>\n      <td>Price of most recent sale</td>\n    </tr>\n    <tr>\n      <th>13</th>\n      <td>QUALIFIED</td>\n      <td>object</td>\n      <td>Internally-used indicator to reflect if a sale is representative of market value according to the office's internal criteria</td>\n    </tr>\n    <tr>\n      <th>14</th>\n      <td>SALE_NUM</td>\n      <td>int64</td>\n      <td>Number of time it's been sold since May 2014</td>\n    </tr>\n    <tr>\n      <th>15</th>\n      <td>GBA</td>\n      <td>float64</td>\n      <td>Gross building area in square feet</td>\n    </tr>\n    <tr>\n      <th>16</th>\n      <td>BLDG_NUM</td>\n      <td>int64</td>\n      <td>Building number on the property</td>\n    </tr>\n    <tr>\n      <th>17</th>\n      <td>STYLE</td>\n      <td>object</td>\n      <td>Type of story</td>\n    </tr>\n    <tr>\n      <th>18</th>\n      <td>STRUCT</td>\n      <td>object</td>\n      <td>Building structure</td>\n    </tr>\n    <tr>\n      <th>19</th>\n      <td>GRADE</td>\n      <td>object</td>\n      <td>Property Grade</td>\n    </tr>\n    <tr>\n      <th>20</th>\n      <td>CNDTN</td>\n      <td>object</td>\n      <td>Property Condition</td>\n    </tr>\n    <tr>\n      <th>21</th>\n      <td>EXTWALL</td>\n      <td>object</td>\n      <td>Exterior wall type</td>\n    </tr>\n    <tr>\n      <th>22</th>\n      <td>ROOF</td>\n      <td>object</td>\n      <td>Roof type</td>\n    </tr>\n    <tr>\n      <th>23</th>\n      <td>INTWALL</td>\n      <td>object</td>\n      <td>Interior wall type</td>\n    </tr>\n    <tr>\n      <th>24</th>\n      <td>KITCHENS</td>\n      <td>float64</td>\n      <td>Number of kitchens</td>\n    </tr>\n    <tr>\n      <th>25</th>\n      <td>FIREPLACES</td>\n      <td>int64</td>\n      <td>Number of fireplaces</td>\n    </tr>\n    <tr>\n      <th>26</th>\n      <td>USECODE</td>\n      <td>int64</td>\n      <td>Property use code type</td>\n    </tr>\n    <tr>\n      <th>27</th>\n      <td>LANDAREA</td>\n      <td>int64</td>\n      <td>Land area of property in square feet</td>\n    </tr>\n    <tr>\n      <th>28</th>\n      <td>GIS_LAST_MOD_DTTM</td>\n      <td>object</td>\n      <td>Last modified data</td>\n    </tr>\n    <tr>\n      <th>29</th>\n      <td>SOURCE</td>\n      <td>object</td>\n      <td>Raw data source</td>\n    </tr>\n    <tr>\n      <th>30</th>\n      <td>CMPLX_NUM</td>\n      <td>float64</td>\n      <td>Complex number</td>\n    </tr>\n    <tr>\n      <th>31</th>\n      <td>LIVING_GBA</td>\n      <td>float64</td>\n      <td>Gross building area in square feet</td>\n    </tr>\n    <tr>\n      <th>32</th>\n      <td>FULLADDRESS</td>\n      <td>object</td>\n      <td>Full street address</td>\n    </tr>\n    <tr>\n      <th>33</th>\n      <td>CITY</td>\n      <td>object</td>\n      <td>City</td>\n    </tr>\n    <tr>\n      <th>34</th>\n      <td>STATE</td>\n      <td>object</td>\n      <td>State</td>\n    </tr>\n    <tr>\n      <th>35</th>\n      <td>ZIPCODE</td>\n      <td>float64</td>\n      <td>Zipcode</td>\n    </tr>\n    <tr>\n      <th>36</th>\n      <td>NATIONALGRID</td>\n      <td>object</td>\n      <td>Address location national grid coordinate spatial address</td>\n    </tr>\n    <tr>\n      <th>37</th>\n      <td>LATITUDE</td>\n      <td>float64</td>\n      <td>Latitude</td>\n    </tr>\n    <tr>\n      <th>38</th>\n      <td>LONGITUDE</td>\n      <td>float64</td>\n      <td>Longitude</td>\n    </tr>\n    <tr>\n      <th>39</th>\n      <td>ASSESSMENT_NBHD</td>\n      <td>object</td>\n      <td>Neighborhood ID</td>\n    </tr>\n    <tr>\n      <th>40</th>\n      <td>ASSESSMENT_SUBNBHD</td>\n      <td>object</td>\n      <td>Subneighborhood ID</td>\n    </tr>\n    <tr>\n      <th>41</th>\n      <td>CENSUS_TRACT</td>\n      <td>float64</td>\n      <td>Census tract</td>\n    </tr>\n    <tr>\n      <th>42</th>\n      <td>CENSUS_BLOCK</td>\n      <td>object</td>\n      <td>Census block</td>\n    </tr>\n    <tr>\n      <th>43</th>\n      <td>WARD</td>\n      <td>object</td>\n      <td>Ward (district is divided into eight wards, each with approximately 75,000 residents)</td>\n    </tr>\n    <tr>\n      <th>44</th>\n      <td>SQUARE</td>\n      <td>object</td>\n      <td>Square (Part of Square Suffix Lot (SSL) an address identifier in DC)</td>\n    </tr>\n    <tr>\n      <th>45</th>\n      <td>X</td>\n      <td>float64</td>\n      <td>Longitude</td>\n    </tr>\n    <tr>\n      <th>46</th>\n      <td>Y</td>\n      <td>float64</td>\n      <td>Latitude</td>\n    </tr>\n    <tr>\n      <th>47</th>\n      <td>QUADRANT</td>\n      <td>object</td>\n      <td>City quadrant (NE,SE,SW,NW)</td>\n    </tr>\n  </tbody>\n</table>\n</div>"
     },
     "metadata": {},
     "execution_count": 17
    }
   ],
   "source": [
    "desc"
   ]
  },
  {
   "cell_type": "code",
   "execution_count": null,
   "metadata": {},
   "outputs": [],
   "source": []
  }
 ]
}