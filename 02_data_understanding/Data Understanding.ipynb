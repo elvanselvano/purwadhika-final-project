{
  "cells": [
    {
      "cell_type": "code",
      "execution_count": 132,
      "metadata": {
        "id": "55rdhQuuObYS"
      },
      "outputs": [],
      "source": [
        "import pandas as pd\n",
        "from pandas_profiling import ProfileReport\n",
        "import numpy as np\n",
        "import matplotlib.pyplot as plt\n",
        "import seaborn as sns\n",
        "from sklearn.model_selection import train_test_split, GridSearchCV, RandomizedSearchCV, cross_val_score\n",
        "from sklearn.preprocessing import StandardScaler, OneHotEncoder, MinMaxScaler, RobustScaler, OrdinalEncoder\n",
        "from sklearn.compose import ColumnTransformer, make_column_transformer\n",
        "from sklearn.pipeline import make_pipeline\n",
        "from sklearn.metrics import silhouette_score, mean_squared_error, r2_score\n",
        "from sklearn.cluster import KMeans, DBSCAN\n",
        "from sklearn.feature_selection import SelectPercentile, SelectKBest\n",
        "from sklearn.linear_model import LinearRegression, Ridge, Lasso, LogisticRegression\n",
        "from sklearn.tree import DecisionTreeRegressor\n",
        "from sklearn.svm import SVR\n",
        "from sklearn.ensemble import RandomForestRegressor"
      ]
    },
    {
      "cell_type": "code",
      "execution_count": 3,
      "metadata": {
        "colab": {
          "base_uri": "https://localhost:8080/"
        },
        "id": "kqIdcp9kXnyu",
        "outputId": "b09d09c1-5679-4bde-c92a-ee0b0159dd21"
      },
      "outputs": [
        {
          "name": "stderr",
          "output_type": "stream",
          "text": [
            "/Users/gustikresna/Library/Python/3.9/lib/python/site-packages/IPython/core/interactiveshell.py:3155: DtypeWarning: Columns (18,19,20,21,22,23,24,33,34,35,37,43,45) have mixed types.Specify dtype option on import or set low_memory=False.\n",
            "  has_raised = await self.run_ast_nodes(code_ast.body, cell_name,\n"
          ]
        }
      ],
      "source": [
        "df = pd.read_csv('DC_Properties.csv', index_col=0)"
      ]
    },
    {
      "cell_type": "markdown",
      "metadata": {
        "id": "9USTFrSFYjfx"
      },
      "source": [
        "# Data Understanding"
      ]
    },
    {
      "cell_type": "code",
      "execution_count": 4,
      "metadata": {
        "colab": {
          "base_uri": "https://localhost:8080/",
          "height": 394
        },
        "id": "OHsUTq0tYHG5",
        "outputId": "db0831e2-0900-4b68-e884-1490c2fcbcbd"
      },
      "outputs": [
        {
          "data": {
            "text/html": [
              "<div>\n",
              "<style scoped>\n",
              "    .dataframe tbody tr th:only-of-type {\n",
              "        vertical-align: middle;\n",
              "    }\n",
              "\n",
              "    .dataframe tbody tr th {\n",
              "        vertical-align: top;\n",
              "    }\n",
              "\n",
              "    .dataframe thead th {\n",
              "        text-align: right;\n",
              "    }\n",
              "</style>\n",
              "<table border=\"1\" class=\"dataframe\">\n",
              "  <thead>\n",
              "    <tr style=\"text-align: right;\">\n",
              "      <th></th>\n",
              "      <th>BATHRM</th>\n",
              "      <th>HF_BATHRM</th>\n",
              "      <th>HEAT</th>\n",
              "      <th>AC</th>\n",
              "      <th>NUM_UNITS</th>\n",
              "      <th>ROOMS</th>\n",
              "      <th>BEDRM</th>\n",
              "      <th>AYB</th>\n",
              "      <th>YR_RMDL</th>\n",
              "      <th>EYB</th>\n",
              "      <th>...</th>\n",
              "      <th>LONGITUDE</th>\n",
              "      <th>ASSESSMENT_NBHD</th>\n",
              "      <th>ASSESSMENT_SUBNBHD</th>\n",
              "      <th>CENSUS_TRACT</th>\n",
              "      <th>CENSUS_BLOCK</th>\n",
              "      <th>WARD</th>\n",
              "      <th>SQUARE</th>\n",
              "      <th>X</th>\n",
              "      <th>Y</th>\n",
              "      <th>QUADRANT</th>\n",
              "    </tr>\n",
              "  </thead>\n",
              "  <tbody>\n",
              "    <tr>\n",
              "      <th>0</th>\n",
              "      <td>4</td>\n",
              "      <td>0</td>\n",
              "      <td>Warm Cool</td>\n",
              "      <td>Y</td>\n",
              "      <td>2.0</td>\n",
              "      <td>8</td>\n",
              "      <td>4</td>\n",
              "      <td>1910.0</td>\n",
              "      <td>1988.0</td>\n",
              "      <td>1972</td>\n",
              "      <td>...</td>\n",
              "      <td>-77.040832</td>\n",
              "      <td>Old City 2</td>\n",
              "      <td>040 D Old City 2</td>\n",
              "      <td>4201.0</td>\n",
              "      <td>004201 2006</td>\n",
              "      <td>Ward 2</td>\n",
              "      <td>152</td>\n",
              "      <td>-77.040429</td>\n",
              "      <td>38.914881</td>\n",
              "      <td>NW</td>\n",
              "    </tr>\n",
              "    <tr>\n",
              "      <th>1</th>\n",
              "      <td>3</td>\n",
              "      <td>1</td>\n",
              "      <td>Warm Cool</td>\n",
              "      <td>Y</td>\n",
              "      <td>2.0</td>\n",
              "      <td>11</td>\n",
              "      <td>5</td>\n",
              "      <td>1898.0</td>\n",
              "      <td>2007.0</td>\n",
              "      <td>1972</td>\n",
              "      <td>...</td>\n",
              "      <td>-77.040764</td>\n",
              "      <td>Old City 2</td>\n",
              "      <td>040 D Old City 2</td>\n",
              "      <td>4201.0</td>\n",
              "      <td>004201 2006</td>\n",
              "      <td>Ward 2</td>\n",
              "      <td>152</td>\n",
              "      <td>-77.040429</td>\n",
              "      <td>38.914881</td>\n",
              "      <td>NW</td>\n",
              "    </tr>\n",
              "    <tr>\n",
              "      <th>2</th>\n",
              "      <td>3</td>\n",
              "      <td>1</td>\n",
              "      <td>Hot Water Rad</td>\n",
              "      <td>Y</td>\n",
              "      <td>2.0</td>\n",
              "      <td>9</td>\n",
              "      <td>5</td>\n",
              "      <td>1910.0</td>\n",
              "      <td>2009.0</td>\n",
              "      <td>1984</td>\n",
              "      <td>...</td>\n",
              "      <td>-77.040678</td>\n",
              "      <td>Old City 2</td>\n",
              "      <td>040 D Old City 2</td>\n",
              "      <td>4201.0</td>\n",
              "      <td>004201 2006</td>\n",
              "      <td>Ward 2</td>\n",
              "      <td>152</td>\n",
              "      <td>-77.040429</td>\n",
              "      <td>38.914881</td>\n",
              "      <td>NW</td>\n",
              "    </tr>\n",
              "    <tr>\n",
              "      <th>3</th>\n",
              "      <td>3</td>\n",
              "      <td>1</td>\n",
              "      <td>Hot Water Rad</td>\n",
              "      <td>Y</td>\n",
              "      <td>2.0</td>\n",
              "      <td>8</td>\n",
              "      <td>5</td>\n",
              "      <td>1900.0</td>\n",
              "      <td>2003.0</td>\n",
              "      <td>1984</td>\n",
              "      <td>...</td>\n",
              "      <td>-77.040629</td>\n",
              "      <td>Old City 2</td>\n",
              "      <td>040 D Old City 2</td>\n",
              "      <td>4201.0</td>\n",
              "      <td>004201 2006</td>\n",
              "      <td>Ward 2</td>\n",
              "      <td>152</td>\n",
              "      <td>-77.040429</td>\n",
              "      <td>38.914881</td>\n",
              "      <td>NW</td>\n",
              "    </tr>\n",
              "    <tr>\n",
              "      <th>4</th>\n",
              "      <td>2</td>\n",
              "      <td>1</td>\n",
              "      <td>Warm Cool</td>\n",
              "      <td>Y</td>\n",
              "      <td>1.0</td>\n",
              "      <td>11</td>\n",
              "      <td>3</td>\n",
              "      <td>1913.0</td>\n",
              "      <td>2012.0</td>\n",
              "      <td>1985</td>\n",
              "      <td>...</td>\n",
              "      <td>-77.039361</td>\n",
              "      <td>Old City 2</td>\n",
              "      <td>040 D Old City 2</td>\n",
              "      <td>4201.0</td>\n",
              "      <td>004201 2006</td>\n",
              "      <td>Ward 2</td>\n",
              "      <td>152</td>\n",
              "      <td>-77.040429</td>\n",
              "      <td>38.914881</td>\n",
              "      <td>NW</td>\n",
              "    </tr>\n",
              "  </tbody>\n",
              "</table>\n",
              "<p>5 rows × 48 columns</p>\n",
              "</div>"
            ],
            "text/plain": [
              "   BATHRM  HF_BATHRM           HEAT AC  NUM_UNITS  ROOMS  BEDRM     AYB  \\\n",
              "0       4          0      Warm Cool  Y        2.0      8      4  1910.0   \n",
              "1       3          1      Warm Cool  Y        2.0     11      5  1898.0   \n",
              "2       3          1  Hot Water Rad  Y        2.0      9      5  1910.0   \n",
              "3       3          1  Hot Water Rad  Y        2.0      8      5  1900.0   \n",
              "4       2          1      Warm Cool  Y        1.0     11      3  1913.0   \n",
              "\n",
              "   YR_RMDL   EYB  ...  LONGITUDE ASSESSMENT_NBHD  ASSESSMENT_SUBNBHD  \\\n",
              "0   1988.0  1972  ... -77.040832      Old City 2    040 D Old City 2   \n",
              "1   2007.0  1972  ... -77.040764      Old City 2    040 D Old City 2   \n",
              "2   2009.0  1984  ... -77.040678      Old City 2    040 D Old City 2   \n",
              "3   2003.0  1984  ... -77.040629      Old City 2    040 D Old City 2   \n",
              "4   2012.0  1985  ... -77.039361      Old City 2    040 D Old City 2   \n",
              "\n",
              "  CENSUS_TRACT  CENSUS_BLOCK    WARD  SQUARE          X          Y QUADRANT  \n",
              "0       4201.0   004201 2006  Ward 2     152 -77.040429  38.914881       NW  \n",
              "1       4201.0   004201 2006  Ward 2     152 -77.040429  38.914881       NW  \n",
              "2       4201.0   004201 2006  Ward 2     152 -77.040429  38.914881       NW  \n",
              "3       4201.0   004201 2006  Ward 2     152 -77.040429  38.914881       NW  \n",
              "4       4201.0   004201 2006  Ward 2     152 -77.040429  38.914881       NW  \n",
              "\n",
              "[5 rows x 48 columns]"
            ]
          },
          "execution_count": 4,
          "metadata": {},
          "output_type": "execute_result"
        }
      ],
      "source": [
        "df.head()"
      ]
    },
    {
      "cell_type": "code",
      "execution_count": 7,
      "metadata": {
        "colab": {
          "base_uri": "https://localhost:8080/"
        },
        "id": "DlEBg7-rYUqZ",
        "outputId": "fae855ea-88e0-4bae-a6b6-ae55ab8b042a"
      },
      "outputs": [
        {
          "data": {
            "text/plain": [
              "(158957, 48)"
            ]
          },
          "execution_count": 7,
          "metadata": {
            "tags": []
          },
          "output_type": "execute_result"
        }
      ],
      "source": [
        "df.shape"
      ]
    },
    {
      "cell_type": "code",
      "execution_count": 10,
      "metadata": {
        "colab": {
          "base_uri": "https://localhost:8080/"
        },
        "id": "WU7S3xg7ZVtz",
        "outputId": "26955665-d40c-4b6c-d34c-b70f428e03a9"
      },
      "outputs": [
        {
          "name": "stdout",
          "output_type": "stream",
          "text": [
            "<class 'pandas.core.frame.DataFrame'>\n",
            "Int64Index: 158957 entries, 0 to 158956\n",
            "Data columns (total 48 columns):\n",
            " #   Column              Non-Null Count   Dtype  \n",
            "---  ------              --------------   -----  \n",
            " 0   BATHRM              158957 non-null  int64  \n",
            " 1   HF_BATHRM           158957 non-null  int64  \n",
            " 2   HEAT                158957 non-null  object \n",
            " 3   AC                  158957 non-null  object \n",
            " 4   NUM_UNITS           106696 non-null  float64\n",
            " 5   ROOMS               158957 non-null  int64  \n",
            " 6   BEDRM               158957 non-null  int64  \n",
            " 7   AYB                 158686 non-null  float64\n",
            " 8   YR_RMDL             80928 non-null   float64\n",
            " 9   EYB                 158957 non-null  int64  \n",
            " 10  STORIES             106652 non-null  float64\n",
            " 11  SALEDATE            132187 non-null  object \n",
            " 12  PRICE               98216 non-null   float64\n",
            " 13  QUALIFIED           158957 non-null  object \n",
            " 14  SALE_NUM            158957 non-null  int64  \n",
            " 15  GBA                 106696 non-null  float64\n",
            " 16  BLDG_NUM            158957 non-null  int64  \n",
            " 17  STYLE               106696 non-null  object \n",
            " 18  STRUCT              106696 non-null  object \n",
            " 19  GRADE               106696 non-null  object \n",
            " 20  CNDTN               106696 non-null  object \n",
            " 21  EXTWALL             106696 non-null  object \n",
            " 22  ROOF                106696 non-null  object \n",
            " 23  INTWALL             106696 non-null  object \n",
            " 24  KITCHENS            106695 non-null  float64\n",
            " 25  FIREPLACES          158957 non-null  int64  \n",
            " 26  USECODE             158957 non-null  int64  \n",
            " 27  LANDAREA            158957 non-null  int64  \n",
            " 28  GIS_LAST_MOD_DTTM   158957 non-null  object \n",
            " 29  SOURCE              158957 non-null  object \n",
            " 30  CMPLX_NUM           52261 non-null   float64\n",
            " 31  LIVING_GBA          52261 non-null   float64\n",
            " 32  FULLADDRESS         106040 non-null  object \n",
            " 33  CITY                106051 non-null  object \n",
            " 34  STATE               106051 non-null  object \n",
            " 35  ZIPCODE             158956 non-null  float64\n",
            " 36  NATIONALGRID        106051 non-null  object \n",
            " 37  LATITUDE            158956 non-null  float64\n",
            " 38  LONGITUDE           158956 non-null  float64\n",
            " 39  ASSESSMENT_NBHD     158956 non-null  object \n",
            " 40  ASSESSMENT_SUBNBHD  126406 non-null  object \n",
            " 41  CENSUS_TRACT        158956 non-null  float64\n",
            " 42  CENSUS_BLOCK        106051 non-null  object \n",
            " 43  WARD                158956 non-null  object \n",
            " 44  SQUARE              158957 non-null  object \n",
            " 45  X                   158720 non-null  float64\n",
            " 46  Y                   158720 non-null  float64\n",
            " 47  QUADRANT            158720 non-null  object \n",
            "dtypes: float64(15), int64(10), object(23)\n",
            "memory usage: 59.4+ MB\n"
          ]
        }
      ],
      "source": [
        "df.info()"
      ]
    },
    {
      "cell_type": "markdown",
      "metadata": {
        "id": "J51L-5ryqKNM"
      },
      "source": [
        "Feature Description"
      ]
    },
    {
      "cell_type": "code",
      "execution_count": 117,
      "metadata": {
        "id": "WgtKeyK0nXrn"
      },
      "outputs": [],
      "source": [
        "desc = pd.read_excel('/content/drive/MyDrive/Purwadhika - Final Project/Data Description.xlsx')"
      ]
    },
    {
      "cell_type": "code",
      "execution_count": 118,
      "metadata": {
        "colab": {
          "base_uri": "https://localhost:8080/",
          "height": 1000
        },
        "id": "fSxSzyi_p9xi",
        "outputId": "f4fa0c2e-dab8-45ec-a586-53483ccc0c61"
      },
      "outputs": [
        {
          "data": {
            "text/html": [
              "<div>\n",
              "<style scoped>\n",
              "    .dataframe tbody tr th:only-of-type {\n",
              "        vertical-align: middle;\n",
              "    }\n",
              "\n",
              "    .dataframe tbody tr th {\n",
              "        vertical-align: top;\n",
              "    }\n",
              "\n",
              "    .dataframe thead th {\n",
              "        text-align: right;\n",
              "    }\n",
              "</style>\n",
              "<table border=\"1\" class=\"dataframe\">\n",
              "  <thead>\n",
              "    <tr style=\"text-align: right;\">\n",
              "      <th></th>\n",
              "      <th>Feature</th>\n",
              "      <th>Data Type</th>\n",
              "      <th>Description</th>\n",
              "    </tr>\n",
              "  </thead>\n",
              "  <tbody>\n",
              "    <tr>\n",
              "      <th>0</th>\n",
              "      <td>BATHRM</td>\n",
              "      <td>int64</td>\n",
              "      <td>Number of bathroom</td>\n",
              "    </tr>\n",
              "    <tr>\n",
              "      <th>1</th>\n",
              "      <td>HF_BATHRM</td>\n",
              "      <td>int64</td>\n",
              "      <td>Number of half bathroom (no bathtub or shower)</td>\n",
              "    </tr>\n",
              "    <tr>\n",
              "      <th>2</th>\n",
              "      <td>HEAT</td>\n",
              "      <td>object</td>\n",
              "      <td>Heating type</td>\n",
              "    </tr>\n",
              "    <tr>\n",
              "      <th>3</th>\n",
              "      <td>AC</td>\n",
              "      <td>object</td>\n",
              "      <td>Has AC? (Y/N)</td>\n",
              "    </tr>\n",
              "    <tr>\n",
              "      <th>4</th>\n",
              "      <td>NUM_UNITS</td>\n",
              "      <td>float64</td>\n",
              "      <td>Number of units</td>\n",
              "    </tr>\n",
              "    <tr>\n",
              "      <th>5</th>\n",
              "      <td>ROOMS</td>\n",
              "      <td>int64</td>\n",
              "      <td>Number of rooms</td>\n",
              "    </tr>\n",
              "    <tr>\n",
              "      <th>6</th>\n",
              "      <td>BEDRM</td>\n",
              "      <td>int64</td>\n",
              "      <td>Number of bedroom</td>\n",
              "    </tr>\n",
              "    <tr>\n",
              "      <th>7</th>\n",
              "      <td>AYB</td>\n",
              "      <td>float64</td>\n",
              "      <td>The earliest time the main portion of the buil...</td>\n",
              "    </tr>\n",
              "    <tr>\n",
              "      <th>8</th>\n",
              "      <td>YR_RMDL</td>\n",
              "      <td>float64</td>\n",
              "      <td>The year structure was remodeled</td>\n",
              "    </tr>\n",
              "    <tr>\n",
              "      <th>9</th>\n",
              "      <td>EYB</td>\n",
              "      <td>int64</td>\n",
              "      <td>The year an improvement was built more recent ...</td>\n",
              "    </tr>\n",
              "    <tr>\n",
              "      <th>10</th>\n",
              "      <td>STORIES</td>\n",
              "      <td>float64</td>\n",
              "      <td>Number of stories in primary dwelling</td>\n",
              "    </tr>\n",
              "    <tr>\n",
              "      <th>11</th>\n",
              "      <td>SALEDATE</td>\n",
              "      <td>object</td>\n",
              "      <td>Date of most recent sale</td>\n",
              "    </tr>\n",
              "    <tr>\n",
              "      <th>12</th>\n",
              "      <td>PRICE</td>\n",
              "      <td>float64</td>\n",
              "      <td>Price of most recent sale</td>\n",
              "    </tr>\n",
              "    <tr>\n",
              "      <th>13</th>\n",
              "      <td>QUALIFIED</td>\n",
              "      <td>object</td>\n",
              "      <td>Internally-used indicator to reflect if a sale...</td>\n",
              "    </tr>\n",
              "    <tr>\n",
              "      <th>14</th>\n",
              "      <td>SALE_NUM</td>\n",
              "      <td>int64</td>\n",
              "      <td>Number of time it's been sold since May 2014</td>\n",
              "    </tr>\n",
              "    <tr>\n",
              "      <th>15</th>\n",
              "      <td>GBA</td>\n",
              "      <td>float64</td>\n",
              "      <td>Gross building area in square feet</td>\n",
              "    </tr>\n",
              "    <tr>\n",
              "      <th>16</th>\n",
              "      <td>BLDG_NUM</td>\n",
              "      <td>int64</td>\n",
              "      <td>Building number on the property</td>\n",
              "    </tr>\n",
              "    <tr>\n",
              "      <th>17</th>\n",
              "      <td>STYLE</td>\n",
              "      <td>object</td>\n",
              "      <td>Type of story</td>\n",
              "    </tr>\n",
              "    <tr>\n",
              "      <th>18</th>\n",
              "      <td>STRUCT</td>\n",
              "      <td>object</td>\n",
              "      <td>Building structure</td>\n",
              "    </tr>\n",
              "    <tr>\n",
              "      <th>19</th>\n",
              "      <td>GRADE</td>\n",
              "      <td>object</td>\n",
              "      <td>Grade</td>\n",
              "    </tr>\n",
              "    <tr>\n",
              "      <th>20</th>\n",
              "      <td>CNDTN</td>\n",
              "      <td>object</td>\n",
              "      <td>Condition</td>\n",
              "    </tr>\n",
              "    <tr>\n",
              "      <th>21</th>\n",
              "      <td>EXTWALL</td>\n",
              "      <td>object</td>\n",
              "      <td>Exterior wall</td>\n",
              "    </tr>\n",
              "    <tr>\n",
              "      <th>22</th>\n",
              "      <td>ROOF</td>\n",
              "      <td>object</td>\n",
              "      <td>Roof type</td>\n",
              "    </tr>\n",
              "    <tr>\n",
              "      <th>23</th>\n",
              "      <td>INTWALL</td>\n",
              "      <td>object</td>\n",
              "      <td>Interior wall</td>\n",
              "    </tr>\n",
              "    <tr>\n",
              "      <th>24</th>\n",
              "      <td>KITCHENS</td>\n",
              "      <td>float64</td>\n",
              "      <td>Number of kitchens</td>\n",
              "    </tr>\n",
              "    <tr>\n",
              "      <th>25</th>\n",
              "      <td>FIREPLACES</td>\n",
              "      <td>int64</td>\n",
              "      <td>Number of fireplaces</td>\n",
              "    </tr>\n",
              "    <tr>\n",
              "      <th>26</th>\n",
              "      <td>USECODE</td>\n",
              "      <td>int64</td>\n",
              "      <td>Property use code type</td>\n",
              "    </tr>\n",
              "    <tr>\n",
              "      <th>27</th>\n",
              "      <td>LANDAREA</td>\n",
              "      <td>int64</td>\n",
              "      <td>Land area of property in square feet</td>\n",
              "    </tr>\n",
              "    <tr>\n",
              "      <th>28</th>\n",
              "      <td>GIS_LAST_MOD_DTTM</td>\n",
              "      <td>object</td>\n",
              "      <td>Last modified data</td>\n",
              "    </tr>\n",
              "    <tr>\n",
              "      <th>29</th>\n",
              "      <td>SOURCE</td>\n",
              "      <td>object</td>\n",
              "      <td>Raw data source</td>\n",
              "    </tr>\n",
              "    <tr>\n",
              "      <th>30</th>\n",
              "      <td>CMPLX_NUM</td>\n",
              "      <td>float64</td>\n",
              "      <td>Complex number</td>\n",
              "    </tr>\n",
              "    <tr>\n",
              "      <th>31</th>\n",
              "      <td>LIVING_GBA</td>\n",
              "      <td>float64</td>\n",
              "      <td>Gross building area in square feet</td>\n",
              "    </tr>\n",
              "    <tr>\n",
              "      <th>32</th>\n",
              "      <td>FULLADDRESS</td>\n",
              "      <td>object</td>\n",
              "      <td>Full street address</td>\n",
              "    </tr>\n",
              "    <tr>\n",
              "      <th>33</th>\n",
              "      <td>CITY</td>\n",
              "      <td>object</td>\n",
              "      <td>City</td>\n",
              "    </tr>\n",
              "    <tr>\n",
              "      <th>34</th>\n",
              "      <td>STATE</td>\n",
              "      <td>object</td>\n",
              "      <td>State</td>\n",
              "    </tr>\n",
              "    <tr>\n",
              "      <th>35</th>\n",
              "      <td>ZIPCODE</td>\n",
              "      <td>float64</td>\n",
              "      <td>Zipcode</td>\n",
              "    </tr>\n",
              "    <tr>\n",
              "      <th>36</th>\n",
              "      <td>NATIONALGRID</td>\n",
              "      <td>object</td>\n",
              "      <td>Address location national grid coordinate spat...</td>\n",
              "    </tr>\n",
              "    <tr>\n",
              "      <th>37</th>\n",
              "      <td>LATITUDE</td>\n",
              "      <td>float64</td>\n",
              "      <td>Latitude</td>\n",
              "    </tr>\n",
              "    <tr>\n",
              "      <th>38</th>\n",
              "      <td>LONGITUDE</td>\n",
              "      <td>float64</td>\n",
              "      <td>Longitude</td>\n",
              "    </tr>\n",
              "    <tr>\n",
              "      <th>39</th>\n",
              "      <td>ASSESSMENT_NBHD</td>\n",
              "      <td>object</td>\n",
              "      <td>Neighborhood ID</td>\n",
              "    </tr>\n",
              "    <tr>\n",
              "      <th>40</th>\n",
              "      <td>ASSESSMENT_SUBNBHD</td>\n",
              "      <td>object</td>\n",
              "      <td>Subneighborhood ID</td>\n",
              "    </tr>\n",
              "    <tr>\n",
              "      <th>41</th>\n",
              "      <td>CENSUS_TRACT</td>\n",
              "      <td>float64</td>\n",
              "      <td>Census tract</td>\n",
              "    </tr>\n",
              "    <tr>\n",
              "      <th>42</th>\n",
              "      <td>CENSUS_BLOCK</td>\n",
              "      <td>object</td>\n",
              "      <td>Census block</td>\n",
              "    </tr>\n",
              "    <tr>\n",
              "      <th>43</th>\n",
              "      <td>WARD</td>\n",
              "      <td>object</td>\n",
              "      <td>Ward (district is divided into eight wards, ea...</td>\n",
              "    </tr>\n",
              "    <tr>\n",
              "      <th>44</th>\n",
              "      <td>SQUARE</td>\n",
              "      <td>object</td>\n",
              "      <td>Square (SSL)</td>\n",
              "    </tr>\n",
              "    <tr>\n",
              "      <th>45</th>\n",
              "      <td>X</td>\n",
              "      <td>float64</td>\n",
              "      <td>Longitude</td>\n",
              "    </tr>\n",
              "    <tr>\n",
              "      <th>46</th>\n",
              "      <td>Y</td>\n",
              "      <td>float64</td>\n",
              "      <td>Latitude</td>\n",
              "    </tr>\n",
              "    <tr>\n",
              "      <th>47</th>\n",
              "      <td>QUADRANT</td>\n",
              "      <td>object</td>\n",
              "      <td>City quadrant (NE,SE,SW,NW)</td>\n",
              "    </tr>\n",
              "  </tbody>\n",
              "</table>\n",
              "</div>"
            ],
            "text/plain": [
              "               Feature  ...                                        Description\n",
              "0               BATHRM  ...                                 Number of bathroom\n",
              "1            HF_BATHRM  ...     Number of half bathroom (no bathtub or shower)\n",
              "2                 HEAT  ...                                       Heating type\n",
              "3                   AC  ...                                      Has AC? (Y/N)\n",
              "4            NUM_UNITS  ...                                    Number of units\n",
              "5                ROOMS  ...                                    Number of rooms\n",
              "6                BEDRM  ...                                  Number of bedroom\n",
              "7                  AYB  ...  The earliest time the main portion of the buil...\n",
              "8              YR_RMDL  ...                   The year structure was remodeled\n",
              "9                  EYB  ...  The year an improvement was built more recent ...\n",
              "10             STORIES  ...              Number of stories in primary dwelling\n",
              "11            SALEDATE  ...                           Date of most recent sale\n",
              "12               PRICE  ...                          Price of most recent sale\n",
              "13           QUALIFIED  ...  Internally-used indicator to reflect if a sale...\n",
              "14            SALE_NUM  ...       Number of time it's been sold since May 2014\n",
              "15                 GBA  ...                 Gross building area in square feet\n",
              "16            BLDG_NUM  ...                    Building number on the property\n",
              "17               STYLE  ...                                      Type of story\n",
              "18              STRUCT  ...                                 Building structure\n",
              "19               GRADE  ...                                              Grade\n",
              "20               CNDTN  ...                                          Condition\n",
              "21             EXTWALL  ...                                      Exterior wall\n",
              "22                ROOF  ...                                          Roof type\n",
              "23             INTWALL  ...                                      Interior wall\n",
              "24            KITCHENS  ...                                 Number of kitchens\n",
              "25          FIREPLACES  ...                               Number of fireplaces\n",
              "26             USECODE  ...                             Property use code type\n",
              "27            LANDAREA  ...               Land area of property in square feet\n",
              "28   GIS_LAST_MOD_DTTM  ...                                 Last modified data\n",
              "29              SOURCE  ...                                    Raw data source\n",
              "30           CMPLX_NUM  ...                                     Complex number\n",
              "31          LIVING_GBA  ...                 Gross building area in square feet\n",
              "32         FULLADDRESS  ...                                Full street address\n",
              "33                CITY  ...                                               City\n",
              "34               STATE  ...                                              State\n",
              "35             ZIPCODE  ...                                            Zipcode\n",
              "36        NATIONALGRID  ...  Address location national grid coordinate spat...\n",
              "37            LATITUDE  ...                                           Latitude\n",
              "38           LONGITUDE  ...                                          Longitude\n",
              "39     ASSESSMENT_NBHD  ...                                    Neighborhood ID\n",
              "40  ASSESSMENT_SUBNBHD  ...                                 Subneighborhood ID\n",
              "41        CENSUS_TRACT  ...                                       Census tract\n",
              "42        CENSUS_BLOCK  ...                                       Census block\n",
              "43                WARD  ...  Ward (district is divided into eight wards, ea...\n",
              "44              SQUARE  ...                                       Square (SSL)\n",
              "45                   X  ...                                          Longitude\n",
              "46                   Y  ...                                           Latitude\n",
              "47            QUADRANT  ...                        City quadrant (NE,SE,SW,NW)\n",
              "\n",
              "[48 rows x 3 columns]"
            ]
          },
          "execution_count": 118,
          "metadata": {
            "tags": []
          },
          "output_type": "execute_result"
        }
      ],
      "source": [
        "desc"
      ]
    },
    {
      "cell_type": "markdown",
      "metadata": {
        "id": "44W3aN-UqSUJ"
      },
      "source": [
        "Features of concern :\n",
        "- QUALIFIED : since it is an internally-used indicator to reflect if a sale is representative of market value, the unqualified value means the price can be mismatch\n",
        "- SALE_NUM : Just start to be collected in May 2014. Not apple to apple with the whole dataset\n",
        "- STORIES and STYLE basically represent similar values\n",
        "- GIS_LAST_MOD_DTTM and SOURCE tell about the data version and source. Does not have relation with price\n",
        "- GBA and LIVING GBA represent similar values\n",
        "- FULL ADDRESS is unique\n",
        "- LATITUDE with Y and  LONGITUDE with X is the same"
      ]
    },
    {
      "cell_type": "markdown",
      "metadata": {
        "id": "cwiOSSRTwH-L"
      },
      "source": [
        "# Exploratory Data Analysis"
      ]
    },
    {
      "cell_type": "markdown",
      "metadata": {
        "id": "UUVBfIinwsuq"
      },
      "source": [
        "Rooms"
      ]
    },
    {
      "cell_type": "code",
      "execution_count": 151,
      "metadata": {
        "colab": {
          "base_uri": "https://localhost:8080/",
          "height": 613
        },
        "id": "_Fg0-1-n1I91",
        "outputId": "0b50fd97-4a0f-4f07-cbd1-015e74cde1a9"
      },
      "outputs": [
        {
          "data": {
            "image/png": "[encoded data removed]",
            "text/plain": [
              "<Figure size 1440x720 with 6 Axes>"
            ]
          },
          "metadata": {
            "needs_background": "light",
            "tags": []
          },
          "output_type": "display_data"
        }
      ],
      "source": [
        "fig, ax = plt.subplots(2, 3, figsize=(20, 10))\n",
        "\n",
        "sns.countplot(data=df, x='BATHRM', color='skyblue', ax=ax[0, 0])\n",
        "sns.countplot(data=df, x='HF_BATHRM', color='skyblue', ax=ax[0, 1])\n",
        "sns.countplot(data=df, x='BEDRM', color='teal', ax=ax[0, 2])\n",
        "sns.countplot(data=df, x='KITCHENS', color='olive', ax=ax[1, 0])\n",
        "sns.countplot(data=df, x='ROOMS', color='red', ax=ax[1, 1])\n",
        "sns.countplot(data=df, x='NUM_UNITS', color='gold', ax=ax[1, 2])\n",
        "\n",
        "ax[1,1].tick_params(axis='x', rotation=45)\n",
        "\n",
        "plt.show()"
      ]
    },
    {
      "cell_type": "markdown",
      "metadata": {
        "id": "EcYL0cpj3Bpm"
      },
      "source": [
        "Building Structure"
      ]
    },
    {
      "cell_type": "code",
      "execution_count": 157,
      "metadata": {
        "colab": {
          "base_uri": "https://localhost:8080/",
          "height": 929
        },
        "id": "I1JE8Zrd3FXj",
        "outputId": "a0b745e1-6151-4f60-b4e7-31eca1e5407c"
      },
      "outputs": [
        {
          "data": {
            "image/png": "[encoded data removed]",
            "text/plain": [
              "<Figure size 1080x1080 with 4 Axes>"
            ]
          },
          "metadata": {
            "needs_background": "light",
            "tags": []
          },
          "output_type": "display_data"
        }
      ],
      "source": [
        "fig, ax = plt.subplots(2, 2, figsize=(15, 15))\n",
        "\n",
        "sns.countplot(data=df, x='STRUCT', color='skyblue', ax=ax[0, 0])\n",
        "sns.countplot(data=df, x='EXTWALL', color='teal', ax=ax[0, 1])\n",
        "sns.countplot(data=df, x='INTWALL', color='olive', ax=ax[1, 0])\n",
        "sns.countplot(data=df, x='ROOF', color='red', ax=ax[1, 1])\n",
        "\n",
        "for i in range(2):\n",
        "  for j in range(2):\n",
        "    ax[i,j].tick_params(axis='x', rotation=45)\n",
        "\n",
        "plt.show()"
      ]
    },
    {
      "cell_type": "markdown",
      "metadata": {
        "id": "wYpjQ6oR3EJ6"
      },
      "source": [
        "Condition"
      ]
    },
    {
      "cell_type": "code",
      "execution_count": null,
      "metadata": {
        "id": "ttB2_0LQ3J3A"
      },
      "outputs": [],
      "source": []
    },
    {
      "cell_type": "markdown",
      "metadata": {
        "id": "mwNPwyjO3KMR"
      },
      "source": [
        "Type"
      ]
    },
    {
      "cell_type": "code",
      "execution_count": null,
      "metadata": {
        "id": "xdta311i3Msr"
      },
      "outputs": [],
      "source": []
    },
    {
      "cell_type": "markdown",
      "metadata": {
        "id": "Yu6hwh4L3Oo1"
      },
      "source": [
        "Area Size"
      ]
    },
    {
      "cell_type": "code",
      "execution_count": null,
      "metadata": {
        "id": "Bul3wQ3I3OCX"
      },
      "outputs": [],
      "source": []
    },
    {
      "cell_type": "markdown",
      "metadata": {
        "id": "qQT9wSVD3QDA"
      },
      "source": [
        "Location"
      ]
    },
    {
      "cell_type": "code",
      "execution_count": null,
      "metadata": {
        "id": "CRksKxFl3Qmw"
      },
      "outputs": [],
      "source": []
    },
    {
      "cell_type": "markdown",
      "metadata": {
        "id": "RRVMbcUx29ox"
      },
      "source": [
        "Times"
      ]
    },
    {
      "cell_type": "code",
      "execution_count": null,
      "metadata": {
        "id": "2yW9uZT6279N"
      },
      "outputs": [],
      "source": []
    },
    {
      "cell_type": "markdown",
      "metadata": {
        "id": "a5gbOZm_ZOox"
      },
      "source": [
        "## Missing Values"
      ]
    },
    {
      "cell_type": "code",
      "execution_count": 77,
      "metadata": {
        "colab": {
          "base_uri": "https://localhost:8080/"
        },
        "id": "UeqY-fUkYYIE",
        "outputId": "633630ba-6b53-45db-c5e2-c5755e1039ab"
      },
      "outputs": [
        {
          "data": {
            "text/plain": [
              "LIVING_GBA            106696\n",
              "CMPLX_NUM             106696\n",
              "YR_RMDL                78029\n",
              "PRICE                  60741\n",
              "FULLADDRESS            52917\n",
              "CENSUS_BLOCK           52906\n",
              "NATIONALGRID           52906\n",
              "STATE                  52906\n",
              "CITY                   52906\n",
              "STORIES                52305\n",
              "KITCHENS               52262\n",
              "ROOF                   52261\n",
              "EXTWALL                52261\n",
              "CNDTN                  52261\n",
              "GRADE                  52261\n",
              "STRUCT                 52261\n",
              "INTWALL                52261\n",
              "GBA                    52261\n",
              "NUM_UNITS              52261\n",
              "STYLE                  52261\n",
              "ASSESSMENT_SUBNBHD     32551\n",
              "SALEDATE               26770\n",
              "AYB                      271\n",
              "Y                        237\n",
              "QUADRANT                 237\n",
              "X                        237\n",
              "ASSESSMENT_NBHD            1\n",
              "WARD                       1\n",
              "ZIPCODE                    1\n",
              "LATITUDE                   1\n",
              "LONGITUDE                  1\n",
              "CENSUS_TRACT               1\n",
              "HF_BATHRM                  0\n",
              "HEAT                       0\n",
              "AC                         0\n",
              "ROOMS                      0\n",
              "BEDRM                      0\n",
              "SQUARE                     0\n",
              "FIREPLACES                 0\n",
              "EYB                        0\n",
              "USECODE                    0\n",
              "QUALIFIED                  0\n",
              "SALE_NUM                   0\n",
              "BLDG_NUM                   0\n",
              "SOURCE                     0\n",
              "GIS_LAST_MOD_DTTM          0\n",
              "LANDAREA                   0\n",
              "BATHRM                     0\n",
              "dtype: int64"
            ]
          },
          "execution_count": 77,
          "metadata": {
            "tags": []
          },
          "output_type": "execute_result"
        }
      ],
      "source": [
        "df.isna().sum().sort_values(ascending=False)"
      ]
    },
    {
      "cell_type": "code",
      "execution_count": null,
      "metadata": {
        "id": "prbl4b4X2D-0"
      },
      "outputs": [],
      "source": [
        "df.isna"
      ]
    },
    {
      "cell_type": "code",
      "execution_count": 122,
      "metadata": {
        "colab": {
          "base_uri": "https://localhost:8080/",
          "height": 1000
        },
        "id": "LCPGXmrAbpCh",
        "outputId": "69618cda-1709-4178-b25f-7e0680ad57df"
      },
      "outputs": [
        {
          "data": {
            "text/html": [
              "<div>\n",
              "<style scoped>\n",
              "    .dataframe tbody tr th:only-of-type {\n",
              "        vertical-align: middle;\n",
              "    }\n",
              "\n",
              "    .dataframe tbody tr th {\n",
              "        vertical-align: top;\n",
              "    }\n",
              "\n",
              "    .dataframe thead th {\n",
              "        text-align: right;\n",
              "    }\n",
              "</style>\n",
              "<table border=\"1\" class=\"dataframe\">\n",
              "  <thead>\n",
              "    <tr style=\"text-align: right;\">\n",
              "      <th></th>\n",
              "      <th>% of NA</th>\n",
              "    </tr>\n",
              "  </thead>\n",
              "  <tbody>\n",
              "    <tr>\n",
              "      <th>CMPLX_NUM</th>\n",
              "      <td>67.122555</td>\n",
              "    </tr>\n",
              "    <tr>\n",
              "      <th>LIVING_GBA</th>\n",
              "      <td>67.122555</td>\n",
              "    </tr>\n",
              "    <tr>\n",
              "      <th>YR_RMDL</th>\n",
              "      <td>49.088118</td>\n",
              "    </tr>\n",
              "    <tr>\n",
              "      <th>PRICE</th>\n",
              "      <td>38.212221</td>\n",
              "    </tr>\n",
              "    <tr>\n",
              "      <th>FULLADDRESS</th>\n",
              "      <td>33.290135</td>\n",
              "    </tr>\n",
              "    <tr>\n",
              "      <th>NATIONALGRID</th>\n",
              "      <td>33.283215</td>\n",
              "    </tr>\n",
              "    <tr>\n",
              "      <th>CENSUS_BLOCK</th>\n",
              "      <td>33.283215</td>\n",
              "    </tr>\n",
              "    <tr>\n",
              "      <th>CITY</th>\n",
              "      <td>33.283215</td>\n",
              "    </tr>\n",
              "    <tr>\n",
              "      <th>STATE</th>\n",
              "      <td>33.283215</td>\n",
              "    </tr>\n",
              "    <tr>\n",
              "      <th>STORIES</th>\n",
              "      <td>32.905125</td>\n",
              "    </tr>\n",
              "    <tr>\n",
              "      <th>KITCHENS</th>\n",
              "      <td>32.878074</td>\n",
              "    </tr>\n",
              "    <tr>\n",
              "      <th>CNDTN</th>\n",
              "      <td>32.877445</td>\n",
              "    </tr>\n",
              "    <tr>\n",
              "      <th>ROOF</th>\n",
              "      <td>32.877445</td>\n",
              "    </tr>\n",
              "    <tr>\n",
              "      <th>STRUCT</th>\n",
              "      <td>32.877445</td>\n",
              "    </tr>\n",
              "    <tr>\n",
              "      <th>STYLE</th>\n",
              "      <td>32.877445</td>\n",
              "    </tr>\n",
              "    <tr>\n",
              "      <th>GBA</th>\n",
              "      <td>32.877445</td>\n",
              "    </tr>\n",
              "    <tr>\n",
              "      <th>EXTWALL</th>\n",
              "      <td>32.877445</td>\n",
              "    </tr>\n",
              "    <tr>\n",
              "      <th>GRADE</th>\n",
              "      <td>32.877445</td>\n",
              "    </tr>\n",
              "    <tr>\n",
              "      <th>NUM_UNITS</th>\n",
              "      <td>32.877445</td>\n",
              "    </tr>\n",
              "    <tr>\n",
              "      <th>INTWALL</th>\n",
              "      <td>32.877445</td>\n",
              "    </tr>\n",
              "    <tr>\n",
              "      <th>ASSESSMENT_SUBNBHD</th>\n",
              "      <td>20.477865</td>\n",
              "    </tr>\n",
              "    <tr>\n",
              "      <th>SALEDATE</th>\n",
              "      <td>16.841032</td>\n",
              "    </tr>\n",
              "    <tr>\n",
              "      <th>AYB</th>\n",
              "      <td>0.170486</td>\n",
              "    </tr>\n",
              "    <tr>\n",
              "      <th>Y</th>\n",
              "      <td>0.149097</td>\n",
              "    </tr>\n",
              "    <tr>\n",
              "      <th>X</th>\n",
              "      <td>0.149097</td>\n",
              "    </tr>\n",
              "    <tr>\n",
              "      <th>QUADRANT</th>\n",
              "      <td>0.149097</td>\n",
              "    </tr>\n",
              "    <tr>\n",
              "      <th>ZIPCODE</th>\n",
              "      <td>0.000629</td>\n",
              "    </tr>\n",
              "    <tr>\n",
              "      <th>LATITUDE</th>\n",
              "      <td>0.000629</td>\n",
              "    </tr>\n",
              "    <tr>\n",
              "      <th>LONGITUDE</th>\n",
              "      <td>0.000629</td>\n",
              "    </tr>\n",
              "    <tr>\n",
              "      <th>ASSESSMENT_NBHD</th>\n",
              "      <td>0.000629</td>\n",
              "    </tr>\n",
              "    <tr>\n",
              "      <th>CENSUS_TRACT</th>\n",
              "      <td>0.000629</td>\n",
              "    </tr>\n",
              "    <tr>\n",
              "      <th>WARD</th>\n",
              "      <td>0.000629</td>\n",
              "    </tr>\n",
              "  </tbody>\n",
              "</table>\n",
              "</div>"
            ],
            "text/plain": [
              "                      % of NA\n",
              "CMPLX_NUM           67.122555\n",
              "LIVING_GBA          67.122555\n",
              "YR_RMDL             49.088118\n",
              "PRICE               38.212221\n",
              "FULLADDRESS         33.290135\n",
              "NATIONALGRID        33.283215\n",
              "CENSUS_BLOCK        33.283215\n",
              "CITY                33.283215\n",
              "STATE               33.283215\n",
              "STORIES             32.905125\n",
              "KITCHENS            32.878074\n",
              "CNDTN               32.877445\n",
              "ROOF                32.877445\n",
              "STRUCT              32.877445\n",
              "STYLE               32.877445\n",
              "GBA                 32.877445\n",
              "EXTWALL             32.877445\n",
              "GRADE               32.877445\n",
              "NUM_UNITS           32.877445\n",
              "INTWALL             32.877445\n",
              "ASSESSMENT_SUBNBHD  20.477865\n",
              "SALEDATE            16.841032\n",
              "AYB                  0.170486\n",
              "Y                    0.149097\n",
              "X                    0.149097\n",
              "QUADRANT             0.149097\n",
              "ZIPCODE              0.000629\n",
              "LATITUDE             0.000629\n",
              "LONGITUDE            0.000629\n",
              "ASSESSMENT_NBHD      0.000629\n",
              "CENSUS_TRACT         0.000629\n",
              "WARD                 0.000629"
            ]
          },
          "execution_count": 122,
          "metadata": {
            "tags": []
          },
          "output_type": "execute_result"
        }
      ],
      "source": [
        "df_na = df.isnull().sum() / len(df) * 100\n",
        "df_na = df_na.drop(df_na[df_na == 0].index).sort_values(ascending=False)\n",
        "df_na = pd.DataFrame(df_na, columns=['% of NA'])\n",
        "df_na"
      ]
    },
    {
      "cell_type": "code",
      "execution_count": 115,
      "metadata": {
        "colab": {
          "base_uri": "https://localhost:8080/",
          "height": 621
        },
        "id": "_x2XCxzRcHsJ",
        "outputId": "2c07251f-3cd7-41d9-813b-7db1ffd9f78e"
      },
      "outputs": [
        {
          "data": {
            "image/png": "[encoded data removed]",
            "text/plain": [
              "<Figure size 1080x720 with 1 Axes>"
            ]
          },
          "metadata": {
            "needs_background": "light",
            "tags": []
          },
          "output_type": "display_data"
        }
      ],
      "source": [
        "plt.figure(figsize=(15,10))\n",
        "plt.title('Percentage of Missing Values by Features')\n",
        "sns.barplot(x=df_na.iloc[:,0], y=df_na.index)\n",
        "plt.xlabel('% of Missing Values')\n",
        "plt.ylabel('Features')\n",
        "plt.xlim([0,100])\n",
        "plt.show()"
      ]
    },
    {
      "cell_type": "markdown",
      "metadata": {
        "id": "d7zo0GOD1n9d"
      },
      "source": [
        "- Drop CMPLX_NUM, LIVING_GBA since most of the data is NA\n"
      ]
    },
    {
      "cell_type": "code",
      "execution_count": 130,
      "metadata": {},
      "outputs": [
        {
          "data": {
            "text/plain": [
              "20491    11\n",
              "Name: USECODE, dtype: int64"
            ]
          },
          "execution_count": 130,
          "metadata": {},
          "output_type": "execute_result"
        }
      ],
      "source": [
        "df[df['STORIES']==250]['USECODE']"
      ]
    },
    {
      "cell_type": "markdown",
      "metadata": {},
      "source": [
        "PRICE vs QUALIFIED"
      ]
    },
    {
      "cell_type": "code",
      "execution_count": 21,
      "metadata": {},
      "outputs": [
        {
          "name": "stdout",
          "output_type": "stream",
          "text": [
            "Q    76233\n",
            "U    21983\n",
            "Name: QUALIFIED, dtype: int64\n"
          ]
        },
        {
          "data": {
            "text/plain": [
              "<AxesSubplot:xlabel='QUALIFIED', ylabel='count'>"
            ]
          },
          "execution_count": 21,
          "metadata": {},
          "output_type": "execute_result"
        },
        {
          "data": {
            "image/png": "[encoded data removed]",
            "image/svg+xml": "<?xml version=\"1.0\" encoding=\"utf-8\" standalone=\"no\"?>\n<!DOCTYPE svg PUBLIC \"-//W3C//DTD SVG 1.1//EN\"\n  \"http://www.w3.org/Graphics/SVG/1.1/DTD/svg11.dtd\">\n<svg height=\"265.874178pt\" version=\"1.1\" viewBox=\"0 0 401.690625 265.874178\" width=\"401.690625pt\" xmlns=\"http://www.w3.org/2000/svg\" xmlns:xlink=\"http://www.w3.org/1999/xlink\">\n <metadata>\n  <rdf:RDF xmlns:cc=\"http://creativecommons.org/ns#\" xmlns:dc=\"http://purl.org/dc/elements/1.1/\" xmlns:rdf=\"http://www.w3.org/1999/02/22-rdf-syntax-ns#\">\n   <cc:Work>\n    <dc:type rdf:resource=\"http://purl.org/dc/dcmitype/StillImage\"/>\n    <dc:date>2021-07-08T16:58:21.742701</dc:date>\n    <dc:format>image/svg+xml</dc:format>\n    <dc:creator>\n     <cc:Agent>\n      <dc:title>Matplotlib v3.4.0, https://matplotlib.org/</dc:title>\n     </cc:Agent>\n    </dc:creator>\n   </cc:Work>\n  </rdf:RDF>\n </metadata>\n <defs>\n  <style type=\"text/css\">*{stroke-linecap:butt;stroke-linejoin:round;}</style>\n </defs>\n <g id=\"figure_1\">\n  <g id=\"patch_1\">\n   <path d=\"M 0 265.874178 \nL 401.690625 265.874178 \nL 401.690625 0 \nL 0 0 \nz\n\" style=\"fill:none;\"/>\n  </g>\n  <g id=\"axes_1\">\n   <g id=\"patch_2\">\n    <path d=\"M 59.690625 228.317928 \nL 394.490625 228.317928 \nL 394.490625 10.877928 \nL 59.690625 10.877928 \nz\n\" style=\"fill:#ffffff;\"/>\n   </g>\n   <g id=\"patch_3\">\n    <path clip-path=\"url(#p53c3b44fed)\" d=\"M 76.430625 228.317928 \nL 210.350625 228.317928 \nL 210.350625 21.232213 \nL 76.430625 21.232213 \nz\n\" style=\"fill:#3274a1;\"/>\n   </g>\n   <g id=\"patch_4\">\n    <path clip-path=\"url(#p53c3b44fed)\" d=\"M 243.830625 228.317928 \nL 377.750625 228.317928 \nL 377.750625 168.601463 \nL 243.830625 168.601463 \nz\n\" style=\"fill:#e1812c;\"/>\n   </g>\n   <g id=\"matplotlib.axis_1\">\n    <g id=\"xtick_1\">\n     <g id=\"line2d_1\">\n      <defs>\n       <path d=\"M 0 0 \nL 0 3.5 \n\" id=\"m4f3f28e0ce\" style=\"stroke:#000000;stroke-width:0.8;\"/>\n      </defs>\n      <g>\n       <use style=\"stroke:#000000;stroke-width:0.8;\" x=\"143.390625\" xlink:href=\"#m4f3f28e0ce\" y=\"228.317928\"/>\n      </g>\n     </g>\n     <g id=\"text_1\">\n      <!-- Q -->\n      <g transform=\"translate(139.454688 242.916365)scale(0.1 -0.1)\">\n       <defs>\n        <path d=\"M 2522 4238 \nQ 1834 4238 1429 3725 \nQ 1025 3213 1025 2328 \nQ 1025 1447 1429 934 \nQ 1834 422 2522 422 \nQ 3209 422 3611 934 \nQ 4013 1447 4013 2328 \nQ 4013 3213 3611 3725 \nQ 3209 4238 2522 4238 \nz\nM 3406 84 \nL 4238 -825 \nL 3475 -825 \nL 2784 -78 \nQ 2681 -84 2626 -87 \nQ 2572 -91 2522 -91 \nQ 1538 -91 948 567 \nQ 359 1225 359 2328 \nQ 359 3434 948 4092 \nQ 1538 4750 2522 4750 \nQ 3503 4750 4090 4092 \nQ 4678 3434 4678 2328 \nQ 4678 1516 4351 937 \nQ 4025 359 3406 84 \nz\n\" id=\"DejaVuSans-51\" transform=\"scale(0.015625)\"/>\n       </defs>\n       <use xlink:href=\"#DejaVuSans-51\"/>\n      </g>\n     </g>\n    </g>\n    <g id=\"xtick_2\">\n     <g id=\"line2d_2\">\n      <g>\n       <use style=\"stroke:#000000;stroke-width:0.8;\" x=\"310.790625\" xlink:href=\"#m4f3f28e0ce\" y=\"228.317928\"/>\n      </g>\n     </g>\n     <g id=\"text_2\">\n      <!-- U -->\n      <g transform=\"translate(307.13125 242.916365)scale(0.1 -0.1)\">\n       <defs>\n        <path d=\"M 556 4666 \nL 1191 4666 \nL 1191 1831 \nQ 1191 1081 1462 751 \nQ 1734 422 2344 422 \nQ 2950 422 3222 751 \nQ 3494 1081 3494 1831 \nL 3494 4666 \nL 4128 4666 \nL 4128 1753 \nQ 4128 841 3676 375 \nQ 3225 -91 2344 -91 \nQ 1459 -91 1007 375 \nQ 556 841 556 1753 \nL 556 4666 \nz\n\" id=\"DejaVuSans-55\" transform=\"scale(0.015625)\"/>\n       </defs>\n       <use xlink:href=\"#DejaVuSans-55\"/>\n      </g>\n     </g>\n    </g>\n    <g id=\"text_3\">\n     <!-- QUALIFIED -->\n     <g transform=\"translate(200.453906 256.59449)scale(0.1 -0.1)\">\n      <defs>\n       <path d=\"M 2188 4044 \nL 1331 1722 \nL 3047 1722 \nL 2188 4044 \nz\nM 1831 4666 \nL 2547 4666 \nL 4325 0 \nL 3669 0 \nL 3244 1197 \nL 1141 1197 \nL 716 0 \nL 50 0 \nL 1831 4666 \nz\n\" id=\"DejaVuSans-41\" transform=\"scale(0.015625)\"/>\n       <path d=\"M 628 4666 \nL 1259 4666 \nL 1259 531 \nL 3531 531 \nL 3531 0 \nL 628 0 \nL 628 4666 \nz\n\" id=\"DejaVuSans-4c\" transform=\"scale(0.015625)\"/>\n       <path d=\"M 628 4666 \nL 1259 4666 \nL 1259 0 \nL 628 0 \nL 628 4666 \nz\n\" id=\"DejaVuSans-49\" transform=\"scale(0.015625)\"/>\n       <path d=\"M 628 4666 \nL 3309 4666 \nL 3309 4134 \nL 1259 4134 \nL 1259 2759 \nL 3109 2759 \nL 3109 2228 \nL 1259 2228 \nL 1259 0 \nL 628 0 \nL 628 4666 \nz\n\" id=\"DejaVuSans-46\" transform=\"scale(0.015625)\"/>\n       <path d=\"M 628 4666 \nL 3578 4666 \nL 3578 4134 \nL 1259 4134 \nL 1259 2753 \nL 3481 2753 \nL 3481 2222 \nL 1259 2222 \nL 1259 531 \nL 3634 531 \nL 3634 0 \nL 628 0 \nL 628 4666 \nz\n\" id=\"DejaVuSans-45\" transform=\"scale(0.015625)\"/>\n       <path d=\"M 1259 4147 \nL 1259 519 \nL 2022 519 \nQ 2988 519 3436 956 \nQ 3884 1394 3884 2338 \nQ 3884 3275 3436 3711 \nQ 2988 4147 2022 4147 \nL 1259 4147 \nz\nM 628 4666 \nL 1925 4666 \nQ 3281 4666 3915 4102 \nQ 4550 3538 4550 2338 \nQ 4550 1131 3912 565 \nQ 3275 0 1925 0 \nL 628 0 \nL 628 4666 \nz\n\" id=\"DejaVuSans-44\" transform=\"scale(0.015625)\"/>\n      </defs>\n      <use xlink:href=\"#DejaVuSans-51\"/>\n      <use x=\"78.710938\" xlink:href=\"#DejaVuSans-55\"/>\n      <use x=\"151.904297\" xlink:href=\"#DejaVuSans-41\"/>\n      <use x=\"220.3125\" xlink:href=\"#DejaVuSans-4c\"/>\n      <use x=\"276.025391\" xlink:href=\"#DejaVuSans-49\"/>\n      <use x=\"305.517578\" xlink:href=\"#DejaVuSans-46\"/>\n      <use x=\"363.037109\" xlink:href=\"#DejaVuSans-49\"/>\n      <use x=\"392.529297\" xlink:href=\"#DejaVuSans-45\"/>\n      <use x=\"455.712891\" xlink:href=\"#DejaVuSans-44\"/>\n     </g>\n    </g>\n   </g>\n   <g id=\"matplotlib.axis_2\">\n    <g id=\"ytick_1\">\n     <g id=\"line2d_3\">\n      <defs>\n       <path d=\"M 0 0 \nL -3.5 0 \n\" id=\"m0998cd6550\" style=\"stroke:#000000;stroke-width:0.8;\"/>\n      </defs>\n      <g>\n       <use style=\"stroke:#000000;stroke-width:0.8;\" x=\"59.690625\" xlink:href=\"#m0998cd6550\" y=\"228.317928\"/>\n      </g>\n     </g>\n     <g id=\"text_4\">\n      <!-- 0 -->\n      <g transform=\"translate(46.328125 232.117146)scale(0.1 -0.1)\">\n       <defs>\n        <path d=\"M 2034 4250 \nQ 1547 4250 1301 3770 \nQ 1056 3291 1056 2328 \nQ 1056 1369 1301 889 \nQ 1547 409 2034 409 \nQ 2525 409 2770 889 \nQ 3016 1369 3016 2328 \nQ 3016 3291 2770 3770 \nQ 2525 4250 2034 4250 \nz\nM 2034 4750 \nQ 2819 4750 3233 4129 \nQ 3647 3509 3647 2328 \nQ 3647 1150 3233 529 \nQ 2819 -91 2034 -91 \nQ 1250 -91 836 529 \nQ 422 1150 422 2328 \nQ 422 3509 836 4129 \nQ 1250 4750 2034 4750 \nz\n\" id=\"DejaVuSans-30\" transform=\"scale(0.015625)\"/>\n       </defs>\n       <use xlink:href=\"#DejaVuSans-30\"/>\n      </g>\n     </g>\n    </g>\n    <g id=\"ytick_2\">\n     <g id=\"line2d_4\">\n      <g>\n       <use style=\"stroke:#000000;stroke-width:0.8;\" x=\"59.690625\" xlink:href=\"#m0998cd6550\" y=\"201.153089\"/>\n      </g>\n     </g>\n     <g id=\"text_5\">\n      <!-- 10000 -->\n      <g transform=\"translate(20.878125 204.952308)scale(0.1 -0.1)\">\n       <defs>\n        <path d=\"M 794 531 \nL 1825 531 \nL 1825 4091 \nL 703 3866 \nL 703 4441 \nL 1819 4666 \nL 2450 4666 \nL 2450 531 \nL 3481 531 \nL 3481 0 \nL 794 0 \nL 794 531 \nz\n\" id=\"DejaVuSans-31\" transform=\"scale(0.015625)\"/>\n       </defs>\n       <use xlink:href=\"#DejaVuSans-31\"/>\n       <use x=\"63.623047\" xlink:href=\"#DejaVuSans-30\"/>\n       <use x=\"127.246094\" xlink:href=\"#DejaVuSans-30\"/>\n       <use x=\"190.869141\" xlink:href=\"#DejaVuSans-30\"/>\n       <use x=\"254.492188\" xlink:href=\"#DejaVuSans-30\"/>\n      </g>\n     </g>\n    </g>\n    <g id=\"ytick_3\">\n     <g id=\"line2d_5\">\n      <g>\n       <use style=\"stroke:#000000;stroke-width:0.8;\" x=\"59.690625\" xlink:href=\"#m0998cd6550\" y=\"173.98825\"/>\n      </g>\n     </g>\n     <g id=\"text_6\">\n      <!-- 20000 -->\n      <g transform=\"translate(20.878125 177.787469)scale(0.1 -0.1)\">\n       <defs>\n        <path d=\"M 1228 531 \nL 3431 531 \nL 3431 0 \nL 469 0 \nL 469 531 \nQ 828 903 1448 1529 \nQ 2069 2156 2228 2338 \nQ 2531 2678 2651 2914 \nQ 2772 3150 2772 3378 \nQ 2772 3750 2511 3984 \nQ 2250 4219 1831 4219 \nQ 1534 4219 1204 4116 \nQ 875 4013 500 3803 \nL 500 4441 \nQ 881 4594 1212 4672 \nQ 1544 4750 1819 4750 \nQ 2544 4750 2975 4387 \nQ 3406 4025 3406 3419 \nQ 3406 3131 3298 2873 \nQ 3191 2616 2906 2266 \nQ 2828 2175 2409 1742 \nQ 1991 1309 1228 531 \nz\n\" id=\"DejaVuSans-32\" transform=\"scale(0.015625)\"/>\n       </defs>\n       <use xlink:href=\"#DejaVuSans-32\"/>\n       <use x=\"63.623047\" xlink:href=\"#DejaVuSans-30\"/>\n       <use x=\"127.246094\" xlink:href=\"#DejaVuSans-30\"/>\n       <use x=\"190.869141\" xlink:href=\"#DejaVuSans-30\"/>\n       <use x=\"254.492188\" xlink:href=\"#DejaVuSans-30\"/>\n      </g>\n     </g>\n    </g>\n    <g id=\"ytick_4\">\n     <g id=\"line2d_6\">\n      <g>\n       <use style=\"stroke:#000000;stroke-width:0.8;\" x=\"59.690625\" xlink:href=\"#m0998cd6550\" y=\"146.823412\"/>\n      </g>\n     </g>\n     <g id=\"text_7\">\n      <!-- 30000 -->\n      <g transform=\"translate(20.878125 150.622631)scale(0.1 -0.1)\">\n       <defs>\n        <path d=\"M 2597 2516 \nQ 3050 2419 3304 2112 \nQ 3559 1806 3559 1356 \nQ 3559 666 3084 287 \nQ 2609 -91 1734 -91 \nQ 1441 -91 1130 -33 \nQ 819 25 488 141 \nL 488 750 \nQ 750 597 1062 519 \nQ 1375 441 1716 441 \nQ 2309 441 2620 675 \nQ 2931 909 2931 1356 \nQ 2931 1769 2642 2001 \nQ 2353 2234 1838 2234 \nL 1294 2234 \nL 1294 2753 \nL 1863 2753 \nQ 2328 2753 2575 2939 \nQ 2822 3125 2822 3475 \nQ 2822 3834 2567 4026 \nQ 2313 4219 1838 4219 \nQ 1578 4219 1281 4162 \nQ 984 4106 628 3988 \nL 628 4550 \nQ 988 4650 1302 4700 \nQ 1616 4750 1894 4750 \nQ 2613 4750 3031 4423 \nQ 3450 4097 3450 3541 \nQ 3450 3153 3228 2886 \nQ 3006 2619 2597 2516 \nz\n\" id=\"DejaVuSans-33\" transform=\"scale(0.015625)\"/>\n       </defs>\n       <use xlink:href=\"#DejaVuSans-33\"/>\n       <use x=\"63.623047\" xlink:href=\"#DejaVuSans-30\"/>\n       <use x=\"127.246094\" xlink:href=\"#DejaVuSans-30\"/>\n       <use x=\"190.869141\" xlink:href=\"#DejaVuSans-30\"/>\n       <use x=\"254.492188\" xlink:href=\"#DejaVuSans-30\"/>\n      </g>\n     </g>\n    </g>\n    <g id=\"ytick_5\">\n     <g id=\"line2d_7\">\n      <g>\n       <use style=\"stroke:#000000;stroke-width:0.8;\" x=\"59.690625\" xlink:href=\"#m0998cd6550\" y=\"119.658573\"/>\n      </g>\n     </g>\n     <g id=\"text_8\">\n      <!-- 40000 -->\n      <g transform=\"translate(20.878125 123.457792)scale(0.1 -0.1)\">\n       <defs>\n        <path d=\"M 2419 4116 \nL 825 1625 \nL 2419 1625 \nL 2419 4116 \nz\nM 2253 4666 \nL 3047 4666 \nL 3047 1625 \nL 3713 1625 \nL 3713 1100 \nL 3047 1100 \nL 3047 0 \nL 2419 0 \nL 2419 1100 \nL 313 1100 \nL 313 1709 \nL 2253 4666 \nz\n\" id=\"DejaVuSans-34\" transform=\"scale(0.015625)\"/>\n       </defs>\n       <use xlink:href=\"#DejaVuSans-34\"/>\n       <use x=\"63.623047\" xlink:href=\"#DejaVuSans-30\"/>\n       <use x=\"127.246094\" xlink:href=\"#DejaVuSans-30\"/>\n       <use x=\"190.869141\" xlink:href=\"#DejaVuSans-30\"/>\n       <use x=\"254.492188\" xlink:href=\"#DejaVuSans-30\"/>\n      </g>\n     </g>\n    </g>\n    <g id=\"ytick_6\">\n     <g id=\"line2d_8\">\n      <g>\n       <use style=\"stroke:#000000;stroke-width:0.8;\" x=\"59.690625\" xlink:href=\"#m0998cd6550\" y=\"92.493735\"/>\n      </g>\n     </g>\n     <g id=\"text_9\">\n      <!-- 50000 -->\n      <g transform=\"translate(20.878125 96.292953)scale(0.1 -0.1)\">\n       <defs>\n        <path d=\"M 691 4666 \nL 3169 4666 \nL 3169 4134 \nL 1269 4134 \nL 1269 2991 \nQ 1406 3038 1543 3061 \nQ 1681 3084 1819 3084 \nQ 2600 3084 3056 2656 \nQ 3513 2228 3513 1497 \nQ 3513 744 3044 326 \nQ 2575 -91 1722 -91 \nQ 1428 -91 1123 -41 \nQ 819 9 494 109 \nL 494 744 \nQ 775 591 1075 516 \nQ 1375 441 1709 441 \nQ 2250 441 2565 725 \nQ 2881 1009 2881 1497 \nQ 2881 1984 2565 2268 \nQ 2250 2553 1709 2553 \nQ 1456 2553 1204 2497 \nQ 953 2441 691 2322 \nL 691 4666 \nz\n\" id=\"DejaVuSans-35\" transform=\"scale(0.015625)\"/>\n       </defs>\n       <use xlink:href=\"#DejaVuSans-35\"/>\n       <use x=\"63.623047\" xlink:href=\"#DejaVuSans-30\"/>\n       <use x=\"127.246094\" xlink:href=\"#DejaVuSans-30\"/>\n       <use x=\"190.869141\" xlink:href=\"#DejaVuSans-30\"/>\n       <use x=\"254.492188\" xlink:href=\"#DejaVuSans-30\"/>\n      </g>\n     </g>\n    </g>\n    <g id=\"ytick_7\">\n     <g id=\"line2d_9\">\n      <g>\n       <use style=\"stroke:#000000;stroke-width:0.8;\" x=\"59.690625\" xlink:href=\"#m0998cd6550\" y=\"65.328896\"/>\n      </g>\n     </g>\n     <g id=\"text_10\">\n      <!-- 60000 -->\n      <g transform=\"translate(20.878125 69.128115)scale(0.1 -0.1)\">\n       <defs>\n        <path d=\"M 2113 2584 \nQ 1688 2584 1439 2293 \nQ 1191 2003 1191 1497 \nQ 1191 994 1439 701 \nQ 1688 409 2113 409 \nQ 2538 409 2786 701 \nQ 3034 994 3034 1497 \nQ 3034 2003 2786 2293 \nQ 2538 2584 2113 2584 \nz\nM 3366 4563 \nL 3366 3988 \nQ 3128 4100 2886 4159 \nQ 2644 4219 2406 4219 \nQ 1781 4219 1451 3797 \nQ 1122 3375 1075 2522 \nQ 1259 2794 1537 2939 \nQ 1816 3084 2150 3084 \nQ 2853 3084 3261 2657 \nQ 3669 2231 3669 1497 \nQ 3669 778 3244 343 \nQ 2819 -91 2113 -91 \nQ 1303 -91 875 529 \nQ 447 1150 447 2328 \nQ 447 3434 972 4092 \nQ 1497 4750 2381 4750 \nQ 2619 4750 2861 4703 \nQ 3103 4656 3366 4563 \nz\n\" id=\"DejaVuSans-36\" transform=\"scale(0.015625)\"/>\n       </defs>\n       <use xlink:href=\"#DejaVuSans-36\"/>\n       <use x=\"63.623047\" xlink:href=\"#DejaVuSans-30\"/>\n       <use x=\"127.246094\" xlink:href=\"#DejaVuSans-30\"/>\n       <use x=\"190.869141\" xlink:href=\"#DejaVuSans-30\"/>\n       <use x=\"254.492188\" xlink:href=\"#DejaVuSans-30\"/>\n      </g>\n     </g>\n    </g>\n    <g id=\"ytick_8\">\n     <g id=\"line2d_10\">\n      <g>\n       <use style=\"stroke:#000000;stroke-width:0.8;\" x=\"59.690625\" xlink:href=\"#m0998cd6550\" y=\"38.164057\"/>\n      </g>\n     </g>\n     <g id=\"text_11\">\n      <!-- 70000 -->\n      <g transform=\"translate(20.878125 41.963276)scale(0.1 -0.1)\">\n       <defs>\n        <path d=\"M 525 4666 \nL 3525 4666 \nL 3525 4397 \nL 1831 0 \nL 1172 0 \nL 2766 4134 \nL 525 4134 \nL 525 4666 \nz\n\" id=\"DejaVuSans-37\" transform=\"scale(0.015625)\"/>\n       </defs>\n       <use xlink:href=\"#DejaVuSans-37\"/>\n       <use x=\"63.623047\" xlink:href=\"#DejaVuSans-30\"/>\n       <use x=\"127.246094\" xlink:href=\"#DejaVuSans-30\"/>\n       <use x=\"190.869141\" xlink:href=\"#DejaVuSans-30\"/>\n       <use x=\"254.492188\" xlink:href=\"#DejaVuSans-30\"/>\n      </g>\n     </g>\n    </g>\n    <g id=\"ytick_9\">\n     <g id=\"line2d_11\">\n      <g>\n       <use style=\"stroke:#000000;stroke-width:0.8;\" x=\"59.690625\" xlink:href=\"#m0998cd6550\" y=\"10.999219\"/>\n      </g>\n     </g>\n     <g id=\"text_12\">\n      <!-- 80000 -->\n      <g transform=\"translate(20.878125 14.798437)scale(0.1 -0.1)\">\n       <defs>\n        <path d=\"M 2034 2216 \nQ 1584 2216 1326 1975 \nQ 1069 1734 1069 1313 \nQ 1069 891 1326 650 \nQ 1584 409 2034 409 \nQ 2484 409 2743 651 \nQ 3003 894 3003 1313 \nQ 3003 1734 2745 1975 \nQ 2488 2216 2034 2216 \nz\nM 1403 2484 \nQ 997 2584 770 2862 \nQ 544 3141 544 3541 \nQ 544 4100 942 4425 \nQ 1341 4750 2034 4750 \nQ 2731 4750 3128 4425 \nQ 3525 4100 3525 3541 \nQ 3525 3141 3298 2862 \nQ 3072 2584 2669 2484 \nQ 3125 2378 3379 2068 \nQ 3634 1759 3634 1313 \nQ 3634 634 3220 271 \nQ 2806 -91 2034 -91 \nQ 1263 -91 848 271 \nQ 434 634 434 1313 \nQ 434 1759 690 2068 \nQ 947 2378 1403 2484 \nz\nM 1172 3481 \nQ 1172 3119 1398 2916 \nQ 1625 2713 2034 2713 \nQ 2441 2713 2670 2916 \nQ 2900 3119 2900 3481 \nQ 2900 3844 2670 4047 \nQ 2441 4250 2034 4250 \nQ 1625 4250 1398 4047 \nQ 1172 3844 1172 3481 \nz\n\" id=\"DejaVuSans-38\" transform=\"scale(0.015625)\"/>\n       </defs>\n       <use xlink:href=\"#DejaVuSans-38\"/>\n       <use x=\"63.623047\" xlink:href=\"#DejaVuSans-30\"/>\n       <use x=\"127.246094\" xlink:href=\"#DejaVuSans-30\"/>\n       <use x=\"190.869141\" xlink:href=\"#DejaVuSans-30\"/>\n       <use x=\"254.492188\" xlink:href=\"#DejaVuSans-30\"/>\n      </g>\n     </g>\n    </g>\n    <g id=\"text_13\">\n     <!-- count -->\n     <g transform=\"translate(14.798438 133.704178)rotate(-90)scale(0.1 -0.1)\">\n      <defs>\n       <path d=\"M 3122 3366 \nL 3122 2828 \nQ 2878 2963 2633 3030 \nQ 2388 3097 2138 3097 \nQ 1578 3097 1268 2742 \nQ 959 2388 959 1747 \nQ 959 1106 1268 751 \nQ 1578 397 2138 397 \nQ 2388 397 2633 464 \nQ 2878 531 3122 666 \nL 3122 134 \nQ 2881 22 2623 -34 \nQ 2366 -91 2075 -91 \nQ 1284 -91 818 406 \nQ 353 903 353 1747 \nQ 353 2603 823 3093 \nQ 1294 3584 2113 3584 \nQ 2378 3584 2631 3529 \nQ 2884 3475 3122 3366 \nz\n\" id=\"DejaVuSans-63\" transform=\"scale(0.015625)\"/>\n       <path d=\"M 1959 3097 \nQ 1497 3097 1228 2736 \nQ 959 2375 959 1747 \nQ 959 1119 1226 758 \nQ 1494 397 1959 397 \nQ 2419 397 2687 759 \nQ 2956 1122 2956 1747 \nQ 2956 2369 2687 2733 \nQ 2419 3097 1959 3097 \nz\nM 1959 3584 \nQ 2709 3584 3137 3096 \nQ 3566 2609 3566 1747 \nQ 3566 888 3137 398 \nQ 2709 -91 1959 -91 \nQ 1206 -91 779 398 \nQ 353 888 353 1747 \nQ 353 2609 779 3096 \nQ 1206 3584 1959 3584 \nz\n\" id=\"DejaVuSans-6f\" transform=\"scale(0.015625)\"/>\n       <path d=\"M 544 1381 \nL 544 3500 \nL 1119 3500 \nL 1119 1403 \nQ 1119 906 1312 657 \nQ 1506 409 1894 409 \nQ 2359 409 2629 706 \nQ 2900 1003 2900 1516 \nL 2900 3500 \nL 3475 3500 \nL 3475 0 \nL 2900 0 \nL 2900 538 \nQ 2691 219 2414 64 \nQ 2138 -91 1772 -91 \nQ 1169 -91 856 284 \nQ 544 659 544 1381 \nz\nM 1991 3584 \nL 1991 3584 \nz\n\" id=\"DejaVuSans-75\" transform=\"scale(0.015625)\"/>\n       <path d=\"M 3513 2113 \nL 3513 0 \nL 2938 0 \nL 2938 2094 \nQ 2938 2591 2744 2837 \nQ 2550 3084 2163 3084 \nQ 1697 3084 1428 2787 \nQ 1159 2491 1159 1978 \nL 1159 0 \nL 581 0 \nL 581 3500 \nL 1159 3500 \nL 1159 2956 \nQ 1366 3272 1645 3428 \nQ 1925 3584 2291 3584 \nQ 2894 3584 3203 3211 \nQ 3513 2838 3513 2113 \nz\n\" id=\"DejaVuSans-6e\" transform=\"scale(0.015625)\"/>\n       <path d=\"M 1172 4494 \nL 1172 3500 \nL 2356 3500 \nL 2356 3053 \nL 1172 3053 \nL 1172 1153 \nQ 1172 725 1289 603 \nQ 1406 481 1766 481 \nL 2356 481 \nL 2356 0 \nL 1766 0 \nQ 1100 0 847 248 \nQ 594 497 594 1153 \nL 594 3053 \nL 172 3053 \nL 172 3500 \nL 594 3500 \nL 594 4494 \nL 1172 4494 \nz\n\" id=\"DejaVuSans-74\" transform=\"scale(0.015625)\"/>\n      </defs>\n      <use xlink:href=\"#DejaVuSans-63\"/>\n      <use x=\"54.980469\" xlink:href=\"#DejaVuSans-6f\"/>\n      <use x=\"116.162109\" xlink:href=\"#DejaVuSans-75\"/>\n      <use x=\"179.541016\" xlink:href=\"#DejaVuSans-6e\"/>\n      <use x=\"242.919922\" xlink:href=\"#DejaVuSans-74\"/>\n     </g>\n    </g>\n   </g>\n   <g id=\"patch_5\">\n    <path d=\"M 59.690625 228.317928 \nL 59.690625 10.877928 \n\" style=\"fill:none;stroke:#000000;stroke-linecap:square;stroke-linejoin:miter;stroke-width:0.8;\"/>\n   </g>\n   <g id=\"patch_6\">\n    <path d=\"M 394.490625 228.317928 \nL 394.490625 10.877928 \n\" style=\"fill:none;stroke:#000000;stroke-linecap:square;stroke-linejoin:miter;stroke-width:0.8;\"/>\n   </g>\n   <g id=\"patch_7\">\n    <path d=\"M 59.690625 228.317928 \nL 394.490625 228.317928 \n\" style=\"fill:none;stroke:#000000;stroke-linecap:square;stroke-linejoin:miter;stroke-width:0.8;\"/>\n   </g>\n   <g id=\"patch_8\">\n    <path d=\"M 59.690625 10.877928 \nL 394.490625 10.877928 \n\" style=\"fill:none;stroke:#000000;stroke-linecap:square;stroke-linejoin:miter;stroke-width:0.8;\"/>\n   </g>\n  </g>\n </g>\n <defs>\n  <clipPath id=\"p53c3b44fed\">\n   <rect height=\"217.44\" width=\"334.8\" x=\"59.690625\" y=\"10.877928\"/>\n  </clipPath>\n </defs>\n</svg>\n",
            "text/plain": [
              "<Figure size 432x288 with 1 Axes>"
            ]
          },
          "metadata": {
            "needs_background": "light"
          },
          "output_type": "display_data"
        }
      ],
      "source": [
        "price_avail = df[~df['PRICE'].isna()]\n",
        "print(price_avail['QUALIFIED'].value_counts())\n",
        "\n",
        "sns.countplot(x=price_avail['QUALIFIED'])"
      ]
    },
    {
      "cell_type": "code",
      "execution_count": 117,
      "metadata": {},
      "outputs": [
        {
          "data": {
            "text/html": [
              "<div>\n",
              "<style scoped>\n",
              "    .dataframe tbody tr th:only-of-type {\n",
              "        vertical-align: middle;\n",
              "    }\n",
              "\n",
              "    .dataframe tbody tr th {\n",
              "        vertical-align: top;\n",
              "    }\n",
              "\n",
              "    .dataframe thead th {\n",
              "        text-align: right;\n",
              "    }\n",
              "</style>\n",
              "<table border=\"1\" class=\"dataframe\">\n",
              "  <thead>\n",
              "    <tr style=\"text-align: right;\">\n",
              "      <th></th>\n",
              "      <th>BATHRM</th>\n",
              "      <th>HF_BATHRM</th>\n",
              "      <th>HEAT</th>\n",
              "      <th>AC</th>\n",
              "      <th>NUM_UNITS</th>\n",
              "      <th>ROOMS</th>\n",
              "      <th>BEDRM</th>\n",
              "      <th>AYB</th>\n",
              "      <th>YR_RMDL</th>\n",
              "      <th>EYB</th>\n",
              "      <th>...</th>\n",
              "      <th>NATIONALGRID</th>\n",
              "      <th>LATITUDE</th>\n",
              "      <th>LONGITUDE</th>\n",
              "      <th>ASSESSMENT_NBHD</th>\n",
              "      <th>ASSESSMENT_SUBNBHD</th>\n",
              "      <th>CENSUS_TRACT</th>\n",
              "      <th>CENSUS_BLOCK</th>\n",
              "      <th>WARD</th>\n",
              "      <th>SQUARE</th>\n",
              "      <th>QUADRANT</th>\n",
              "    </tr>\n",
              "  </thead>\n",
              "  <tbody>\n",
              "    <tr>\n",
              "      <th>0</th>\n",
              "      <td>4</td>\n",
              "      <td>0</td>\n",
              "      <td>Warm Cool</td>\n",
              "      <td>Y</td>\n",
              "      <td>2.0</td>\n",
              "      <td>8</td>\n",
              "      <td>4</td>\n",
              "      <td>1910.0</td>\n",
              "      <td>1988.0</td>\n",
              "      <td>1972</td>\n",
              "      <td>...</td>\n",
              "      <td>18S UJ 23061 09289</td>\n",
              "      <td>38.914680</td>\n",
              "      <td>-77.040832</td>\n",
              "      <td>Old City 2</td>\n",
              "      <td>040 D Old City 2</td>\n",
              "      <td>4201.0</td>\n",
              "      <td>004201 2006</td>\n",
              "      <td>Ward 2</td>\n",
              "      <td>152</td>\n",
              "      <td>NW</td>\n",
              "    </tr>\n",
              "    <tr>\n",
              "      <th>1</th>\n",
              "      <td>3</td>\n",
              "      <td>1</td>\n",
              "      <td>Warm Cool</td>\n",
              "      <td>Y</td>\n",
              "      <td>2.0</td>\n",
              "      <td>11</td>\n",
              "      <td>5</td>\n",
              "      <td>1898.0</td>\n",
              "      <td>2007.0</td>\n",
              "      <td>1972</td>\n",
              "      <td>...</td>\n",
              "      <td>18S UJ 23067 09289</td>\n",
              "      <td>38.914683</td>\n",
              "      <td>-77.040764</td>\n",
              "      <td>Old City 2</td>\n",
              "      <td>040 D Old City 2</td>\n",
              "      <td>4201.0</td>\n",
              "      <td>004201 2006</td>\n",
              "      <td>Ward 2</td>\n",
              "      <td>152</td>\n",
              "      <td>NW</td>\n",
              "    </tr>\n",
              "    <tr>\n",
              "      <th>2</th>\n",
              "      <td>3</td>\n",
              "      <td>1</td>\n",
              "      <td>Hot Water Rad</td>\n",
              "      <td>Y</td>\n",
              "      <td>2.0</td>\n",
              "      <td>9</td>\n",
              "      <td>5</td>\n",
              "      <td>1910.0</td>\n",
              "      <td>2009.0</td>\n",
              "      <td>1984</td>\n",
              "      <td>...</td>\n",
              "      <td>18S UJ 23074 09289</td>\n",
              "      <td>38.914684</td>\n",
              "      <td>-77.040678</td>\n",
              "      <td>Old City 2</td>\n",
              "      <td>040 D Old City 2</td>\n",
              "      <td>4201.0</td>\n",
              "      <td>004201 2006</td>\n",
              "      <td>Ward 2</td>\n",
              "      <td>152</td>\n",
              "      <td>NW</td>\n",
              "    </tr>\n",
              "    <tr>\n",
              "      <th>3</th>\n",
              "      <td>3</td>\n",
              "      <td>1</td>\n",
              "      <td>Hot Water Rad</td>\n",
              "      <td>Y</td>\n",
              "      <td>2.0</td>\n",
              "      <td>8</td>\n",
              "      <td>5</td>\n",
              "      <td>1900.0</td>\n",
              "      <td>2003.0</td>\n",
              "      <td>1984</td>\n",
              "      <td>...</td>\n",
              "      <td>18S UJ 23078 09288</td>\n",
              "      <td>38.914683</td>\n",
              "      <td>-77.040629</td>\n",
              "      <td>Old City 2</td>\n",
              "      <td>040 D Old City 2</td>\n",
              "      <td>4201.0</td>\n",
              "      <td>004201 2006</td>\n",
              "      <td>Ward 2</td>\n",
              "      <td>152</td>\n",
              "      <td>NW</td>\n",
              "    </tr>\n",
              "    <tr>\n",
              "      <th>4</th>\n",
              "      <td>2</td>\n",
              "      <td>1</td>\n",
              "      <td>Warm Cool</td>\n",
              "      <td>Y</td>\n",
              "      <td>1.0</td>\n",
              "      <td>11</td>\n",
              "      <td>3</td>\n",
              "      <td>1913.0</td>\n",
              "      <td>2012.0</td>\n",
              "      <td>1985</td>\n",
              "      <td>...</td>\n",
              "      <td>18S UJ 23188 09253</td>\n",
              "      <td>38.914383</td>\n",
              "      <td>-77.039361</td>\n",
              "      <td>Old City 2</td>\n",
              "      <td>040 D Old City 2</td>\n",
              "      <td>4201.0</td>\n",
              "      <td>004201 2006</td>\n",
              "      <td>Ward 2</td>\n",
              "      <td>152</td>\n",
              "      <td>NW</td>\n",
              "    </tr>\n",
              "  </tbody>\n",
              "</table>\n",
              "<p>5 rows × 40 columns</p>\n",
              "</div>"
            ],
            "text/plain": [
              "   BATHRM  HF_BATHRM           HEAT AC  NUM_UNITS  ROOMS  BEDRM     AYB  \\\n",
              "0       4          0      Warm Cool  Y        2.0      8      4  1910.0   \n",
              "1       3          1      Warm Cool  Y        2.0     11      5  1898.0   \n",
              "2       3          1  Hot Water Rad  Y        2.0      9      5  1910.0   \n",
              "3       3          1  Hot Water Rad  Y        2.0      8      5  1900.0   \n",
              "4       2          1      Warm Cool  Y        1.0     11      3  1913.0   \n",
              "\n",
              "   YR_RMDL   EYB  ...        NATIONALGRID   LATITUDE  LONGITUDE  \\\n",
              "0   1988.0  1972  ...  18S UJ 23061 09289  38.914680 -77.040832   \n",
              "1   2007.0  1972  ...  18S UJ 23067 09289  38.914683 -77.040764   \n",
              "2   2009.0  1984  ...  18S UJ 23074 09289  38.914684 -77.040678   \n",
              "3   2003.0  1984  ...  18S UJ 23078 09288  38.914683 -77.040629   \n",
              "4   2012.0  1985  ...  18S UJ 23188 09253  38.914383 -77.039361   \n",
              "\n",
              "   ASSESSMENT_NBHD  ASSESSMENT_SUBNBHD  CENSUS_TRACT CENSUS_BLOCK    WARD  \\\n",
              "0       Old City 2    040 D Old City 2        4201.0  004201 2006  Ward 2   \n",
              "1       Old City 2    040 D Old City 2        4201.0  004201 2006  Ward 2   \n",
              "2       Old City 2    040 D Old City 2        4201.0  004201 2006  Ward 2   \n",
              "3       Old City 2    040 D Old City 2        4201.0  004201 2006  Ward 2   \n",
              "4       Old City 2    040 D Old City 2        4201.0  004201 2006  Ward 2   \n",
              "\n",
              "  SQUARE QUADRANT  \n",
              "0    152       NW  \n",
              "1    152       NW  \n",
              "2    152       NW  \n",
              "3    152       NW  \n",
              "4    152       NW  \n",
              "\n",
              "[5 rows x 40 columns]"
            ]
          },
          "execution_count": 117,
          "metadata": {},
          "output_type": "execute_result"
        }
      ],
      "source": [
        "df_clean = df.copy().drop(['GIS_LAST_MOD_DTTM','CMPLX_NUM','LIVING_GBA','SALEDATE','STYLE','FULLADDRESS','X','Y'],axis=1)\n",
        "df_clean.head()"
      ]
    },
    {
      "cell_type": "code",
      "execution_count": 118,
      "metadata": {},
      "outputs": [],
      "source": [
        "df_clean = df_clean[~df_clean['PRICE'].isna()]"
      ]
    },
    {
      "cell_type": "code",
      "execution_count": 119,
      "metadata": {},
      "outputs": [],
      "source": [
        "df_clean = df_clean.drop(['CITY','STATE','YR_RMDL','ASSESSMENT_SUBNBHD','NATIONALGRID'],axis=1)"
      ]
    },
    {
      "cell_type": "code",
      "execution_count": 120,
      "metadata": {},
      "outputs": [
        {
          "data": {
            "text/plain": [
              "(98216, 35)"
            ]
          },
          "execution_count": 120,
          "metadata": {},
          "output_type": "execute_result"
        }
      ],
      "source": [
        "df_clean.shape"
      ]
    },
    {
      "cell_type": "code",
      "execution_count": null,
      "metadata": {},
      "outputs": [],
      "source": []
    },
    {
      "cell_type": "code",
      "execution_count": 121,
      "metadata": {},
      "outputs": [],
      "source": [
        "df_clean = df_clean.dropna()"
      ]
    },
    {
      "cell_type": "code",
      "execution_count": 123,
      "metadata": {},
      "outputs": [
        {
          "data": {
            "text/plain": [
              "(57345, 35)"
            ]
          },
          "execution_count": 123,
          "metadata": {},
          "output_type": "execute_result"
        }
      ],
      "source": [
        "df_clean.shape"
      ]
    },
    {
      "cell_type": "code",
      "execution_count": 131,
      "metadata": {},
      "outputs": [
        {
          "data": {
            "text/plain": [
              "Q    45577\n",
              "U    11768\n",
              "Name: QUALIFIED, dtype: int64"
            ]
          },
          "execution_count": 131,
          "metadata": {},
          "output_type": "execute_result"
        }
      ],
      "source": [
        "df_clean['QUALIFIED'].value_counts()"
      ]
    },
    {
      "cell_type": "code",
      "execution_count": 125,
      "metadata": {},
      "outputs": [],
      "source": [
        "df_clean.to_csv('df_clean.csv')"
      ]
    },
    {
      "cell_type": "markdown",
      "metadata": {
        "id": "8GfTDLLoWWwI"
      },
      "source": [
        "### Check Features Values"
      ]
    },
    {
      "cell_type": "code",
      "execution_count": 11,
      "metadata": {
        "colab": {
          "base_uri": "https://localhost:8080/"
        },
        "id": "22nstKm0aJXo",
        "outputId": "a38dd617-11d6-44df-afd7-d3626dcda6d4"
      },
      "outputs": [
        {
          "data": {
            "text/plain": [
              "1     74555\n",
              "2     53325\n",
              "3     20785\n",
              "4      8119\n",
              "5      1367\n",
              "6       500\n",
              "7       129\n",
              "8        71\n",
              "0        58\n",
              "9        22\n",
              "10       14\n",
              "11        7\n",
              "12        3\n",
              "14        1\n",
              "13        1\n",
              "Name: BATHRM, dtype: int64"
            ]
          },
          "execution_count": 11,
          "metadata": {
            "tags": []
          },
          "output_type": "execute_result"
        }
      ],
      "source": [
        "df['BATHRM'].value_counts()"
      ]
    },
    {
      "cell_type": "code",
      "execution_count": 145,
      "metadata": {},
      "outputs": [
        {
          "data": {
            "image/png": "[encoded data removed]",
            "image/svg+xml": "<?xml version=\"1.0\" encoding=\"utf-8\" standalone=\"no\"?>\n<!DOCTYPE svg PUBLIC \"-//W3C//DTD SVG 1.1//EN\"\n  \"http://www.w3.org/Graphics/SVG/1.1/DTD/svg11.dtd\">\n<svg height=\"860.15625pt\" version=\"1.1\" viewBox=\"0 0 891.165625 860.15625\" width=\"891.165625pt\" xmlns=\"http://www.w3.org/2000/svg\" xmlns:xlink=\"http://www.w3.org/1999/xlink\">\n <metadata>\n  <rdf:RDF xmlns:cc=\"http://creativecommons.org/ns#\" xmlns:dc=\"http://purl.org/dc/elements/1.1/\" xmlns:rdf=\"http://www.w3.org/1999/02/22-rdf-syntax-ns#\">\n   <cc:Work>\n    <dc:type rdf:resource=\"http://purl.org/dc/dcmitype/StillImage\"/>\n    <dc:date>2021-07-08T19:47:27.594395</dc:date>\n    <dc:format>image/svg+xml</dc:format>\n    <dc:creator>\n     <cc:Agent>\n      <dc:title>Matplotlib v3.4.0, https://matplotlib.org/</dc:title>\n     </cc:Agent>\n    </dc:creator>\n   </cc:Work>\n  </rdf:RDF>\n </metadata>\n <defs>\n  <style type=\"text/css\">*{stroke-linecap:butt;stroke-linejoin:round;}</style>\n </defs>\n <g id=\"figure_1\">\n  <g id=\"patch_1\">\n   <path d=\"M 0 860.15625 \nL 891.165625 860.15625 \nL 891.165625 0 \nL 0 0 \nz\n\" style=\"fill:none;\"/>\n  </g>\n  <g id=\"axes_1\">\n   <g id=\"patch_2\">\n    <path d=\"M 46.965625 822.6 \nL 883.965625 822.6 \nL 883.965625 7.2 \nL 46.965625 7.2 \nz\n\" style=\"fill:#ffffff;\"/>\n   </g>\n   <g id=\"patch_3\">\n    <path clip-path=\"url(#p8eff7d7c5f)\" d=\"M 55.335625 822.6 \nL 63.705625 822.6 \nL 63.705625 790.652441 \nL 55.335625 790.652441 \nz\n\" style=\"fill:#3274a1;\"/>\n   </g>\n   <g id=\"patch_4\">\n    <path clip-path=\"url(#p8eff7d7c5f)\" d=\"M 139.035625 822.6 \nL 147.405625 822.6 \nL 147.405625 736.587342 \nL 139.035625 736.587342 \nz\n\" style=\"fill:#3274a1;\"/>\n   </g>\n   <g id=\"patch_5\">\n    <path clip-path=\"url(#p8eff7d7c5f)\" d=\"M 222.735625 822.6 \nL 231.105625 822.6 \nL 231.105625 807.854973 \nL 222.735625 807.854973 \nz\n\" style=\"fill:#3274a1;\"/>\n   </g>\n   <g id=\"patch_6\">\n    <path clip-path=\"url(#p8eff7d7c5f)\" d=\"M 306.435625 822.6 \nL 314.805625 822.6 \nL 314.805625 820.142495 \nL 306.435625 820.142495 \nz\n\" style=\"fill:#3274a1;\"/>\n   </g>\n   <g id=\"patch_7\">\n    <path clip-path=\"url(#p8eff7d7c5f)\" d=\"M 390.135625 822.6 \nL 398.505625 822.6 \nL 398.505625 815.227486 \nL 390.135625 815.227486 \nz\n\" style=\"fill:#3274a1;\"/>\n   </g>\n   <g id=\"patch_8\">\n    <path clip-path=\"url(#p8eff7d7c5f)\" d=\"M 0 0 \nz\n\" style=\"fill:#3274a1;\"/>\n   </g>\n   <g id=\"patch_9\">\n    <path clip-path=\"url(#p8eff7d7c5f)\" d=\"M 0 0 \nz\n\" style=\"fill:#3274a1;\"/>\n   </g>\n   <g id=\"patch_10\">\n    <path clip-path=\"url(#p8eff7d7c5f)\" d=\"M 0 0 \nz\n\" style=\"fill:#3274a1;\"/>\n   </g>\n   <g id=\"patch_11\">\n    <path clip-path=\"url(#p8eff7d7c5f)\" d=\"M 0 0 \nz\n\" style=\"fill:#3274a1;\"/>\n   </g>\n   <g id=\"patch_12\">\n    <path clip-path=\"url(#p8eff7d7c5f)\" d=\"M 0 0 \nz\n\" style=\"fill:#3274a1;\"/>\n   </g>\n   <g id=\"patch_13\">\n    <path clip-path=\"url(#p8eff7d7c5f)\" d=\"M 63.705625 822.6 \nL 72.075625 822.6 \nL 72.075625 795.56745 \nL 63.705625 795.56745 \nz\n\" style=\"fill:#e1812c;\"/>\n   </g>\n   <g id=\"patch_14\">\n    <path clip-path=\"url(#p8eff7d7c5f)\" d=\"M 147.405625 822.6 \nL 155.775625 822.6 \nL 155.775625 46.028571 \nL 147.405625 46.028571 \nz\n\" style=\"fill:#e1812c;\"/>\n   </g>\n   <g id=\"patch_15\">\n    <path clip-path=\"url(#p8eff7d7c5f)\" d=\"M 231.105625 822.6 \nL 239.475625 822.6 \nL 239.475625 574.392043 \nL 231.105625 574.392043 \nz\n\" style=\"fill:#e1812c;\"/>\n   </g>\n   <g id=\"patch_16\">\n    <path clip-path=\"url(#p8eff7d7c5f)\" d=\"M 314.805625 822.6 \nL 323.175625 822.6 \nL 323.175625 714.469801 \nL 314.805625 714.469801 \nz\n\" style=\"fill:#e1812c;\"/>\n   </g>\n   <g id=\"patch_17\">\n    <path clip-path=\"url(#p8eff7d7c5f)\" d=\"M 398.505625 822.6 \nL 406.875625 822.6 \nL 406.875625 780.822423 \nL 398.505625 780.822423 \nz\n\" style=\"fill:#e1812c;\"/>\n   </g>\n   <g id=\"patch_18\">\n    <path clip-path=\"url(#p8eff7d7c5f)\" d=\"M 482.205625 822.6 \nL 490.575625 822.6 \nL 490.575625 795.56745 \nL 482.205625 795.56745 \nz\n\" style=\"fill:#e1812c;\"/>\n   </g>\n   <g id=\"patch_19\">\n    <path clip-path=\"url(#p8eff7d7c5f)\" d=\"M 565.905625 822.6 \nL 574.275625 822.6 \nL 574.275625 812.769982 \nL 565.905625 812.769982 \nz\n\" style=\"fill:#e1812c;\"/>\n   </g>\n   <g id=\"patch_20\">\n    <path clip-path=\"url(#p8eff7d7c5f)\" d=\"M 649.605625 822.6 \nL 657.975625 822.6 \nL 657.975625 815.227486 \nL 649.605625 815.227486 \nz\n\" style=\"fill:#e1812c;\"/>\n   </g>\n   <g id=\"patch_21\">\n    <path clip-path=\"url(#p8eff7d7c5f)\" d=\"M 733.305625 822.6 \nL 741.675625 822.6 \nL 741.675625 820.142495 \nL 733.305625 820.142495 \nz\n\" style=\"fill:#e1812c;\"/>\n   </g>\n   <g id=\"patch_22\">\n    <path clip-path=\"url(#p8eff7d7c5f)\" d=\"M 817.005625 822.6 \nL 825.375625 822.6 \nL 825.375625 820.142495 \nL 817.005625 820.142495 \nz\n\" style=\"fill:#e1812c;\"/>\n   </g>\n   <g id=\"patch_23\">\n    <path clip-path=\"url(#p8eff7d7c5f)\" d=\"M 72.075625 822.6 \nL 80.445625 822.6 \nL 80.445625 820.142495 \nL 72.075625 820.142495 \nz\n\" style=\"fill:#3a923a;\"/>\n   </g>\n   <g id=\"patch_24\">\n    <path clip-path=\"url(#p8eff7d7c5f)\" d=\"M 155.775625 822.6 \nL 164.145625 822.6 \nL 164.145625 793.109946 \nL 155.775625 793.109946 \nz\n\" style=\"fill:#3a923a;\"/>\n   </g>\n   <g id=\"patch_25\">\n    <path clip-path=\"url(#p8eff7d7c5f)\" d=\"M 239.475625 822.6 \nL 247.845625 822.6 \nL 247.845625 812.769982 \nL 239.475625 812.769982 \nz\n\" style=\"fill:#3a923a;\"/>\n   </g>\n   <g id=\"patch_26\">\n    <path clip-path=\"url(#p8eff7d7c5f)\" d=\"M 323.175625 822.6 \nL 331.545625 822.6 \nL 331.545625 820.142495 \nL 323.175625 820.142495 \nz\n\" style=\"fill:#3a923a;\"/>\n   </g>\n   <g id=\"patch_27\">\n    <path clip-path=\"url(#p8eff7d7c5f)\" d=\"M 0 0 \nz\n\" style=\"fill:#3a923a;\"/>\n   </g>\n   <g id=\"patch_28\">\n    <path clip-path=\"url(#p8eff7d7c5f)\" d=\"M 0 0 \nz\n\" style=\"fill:#3a923a;\"/>\n   </g>\n   <g id=\"patch_29\">\n    <path clip-path=\"url(#p8eff7d7c5f)\" d=\"M 0 0 \nz\n\" style=\"fill:#3a923a;\"/>\n   </g>\n   <g id=\"patch_30\">\n    <path clip-path=\"url(#p8eff7d7c5f)\" d=\"M 0 0 \nz\n\" style=\"fill:#3a923a;\"/>\n   </g>\n   <g id=\"patch_31\">\n    <path clip-path=\"url(#p8eff7d7c5f)\" d=\"M 0 0 \nz\n\" style=\"fill:#3a923a;\"/>\n   </g>\n   <g id=\"patch_32\">\n    <path clip-path=\"url(#p8eff7d7c5f)\" d=\"M 0 0 \nz\n\" style=\"fill:#3a923a;\"/>\n   </g>\n   <g id=\"patch_33\">\n    <path clip-path=\"url(#p8eff7d7c5f)\" d=\"M 80.445625 822.6 \nL 88.815625 822.6 \nL 88.815625 810.312477 \nL 80.445625 810.312477 \nz\n\" style=\"fill:#c03d3e;\"/>\n   </g>\n   <g id=\"patch_34\">\n    <path clip-path=\"url(#p8eff7d7c5f)\" d=\"M 164.145625 822.6 \nL 172.515625 822.6 \nL 172.515625 815.227486 \nL 164.145625 815.227486 \nz\n\" style=\"fill:#c03d3e;\"/>\n   </g>\n   <g id=\"patch_35\">\n    <path clip-path=\"url(#p8eff7d7c5f)\" d=\"M 0 0 \nz\n\" style=\"fill:#c03d3e;\"/>\n   </g>\n   <g id=\"patch_36\">\n    <path clip-path=\"url(#p8eff7d7c5f)\" d=\"M 0 0 \nz\n\" style=\"fill:#c03d3e;\"/>\n   </g>\n   <g id=\"patch_37\">\n    <path clip-path=\"url(#p8eff7d7c5f)\" d=\"M 0 0 \nz\n\" style=\"fill:#c03d3e;\"/>\n   </g>\n   <g id=\"patch_38\">\n    <path clip-path=\"url(#p8eff7d7c5f)\" d=\"M 0 0 \nz\n\" style=\"fill:#c03d3e;\"/>\n   </g>\n   <g id=\"patch_39\">\n    <path clip-path=\"url(#p8eff7d7c5f)\" d=\"M 0 0 \nz\n\" style=\"fill:#c03d3e;\"/>\n   </g>\n   <g id=\"patch_40\">\n    <path clip-path=\"url(#p8eff7d7c5f)\" d=\"M 0 0 \nz\n\" style=\"fill:#c03d3e;\"/>\n   </g>\n   <g id=\"patch_41\">\n    <path clip-path=\"url(#p8eff7d7c5f)\" d=\"M 0 0 \nz\n\" style=\"fill:#c03d3e;\"/>\n   </g>\n   <g id=\"patch_42\">\n    <path clip-path=\"url(#p8eff7d7c5f)\" d=\"M 0 0 \nz\n\" style=\"fill:#c03d3e;\"/>\n   </g>\n   <g id=\"patch_43\">\n    <path clip-path=\"url(#p8eff7d7c5f)\" d=\"M 88.815625 822.6 \nL 97.185625 822.6 \nL 97.185625 805.397468 \nL 88.815625 805.397468 \nz\n\" style=\"fill:#9372b2;\"/>\n   </g>\n   <g id=\"patch_44\">\n    <path clip-path=\"url(#p8eff7d7c5f)\" d=\"M 172.515625 822.6 \nL 180.885625 822.6 \nL 180.885625 812.769982 \nL 172.515625 812.769982 \nz\n\" style=\"fill:#9372b2;\"/>\n   </g>\n   <g id=\"patch_45\">\n    <path clip-path=\"url(#p8eff7d7c5f)\" d=\"M 256.215625 822.6 \nL 264.585625 822.6 \nL 264.585625 820.142495 \nL 256.215625 820.142495 \nz\n\" style=\"fill:#9372b2;\"/>\n   </g>\n   <g id=\"patch_46\">\n    <path clip-path=\"url(#p8eff7d7c5f)\" d=\"M 0 0 \nz\n\" style=\"fill:#9372b2;\"/>\n   </g>\n   <g id=\"patch_47\">\n    <path clip-path=\"url(#p8eff7d7c5f)\" d=\"M 0 0 \nz\n\" style=\"fill:#9372b2;\"/>\n   </g>\n   <g id=\"patch_48\">\n    <path clip-path=\"url(#p8eff7d7c5f)\" d=\"M 0 0 \nz\n\" style=\"fill:#9372b2;\"/>\n   </g>\n   <g id=\"patch_49\">\n    <path clip-path=\"url(#p8eff7d7c5f)\" d=\"M 0 0 \nz\n\" style=\"fill:#9372b2;\"/>\n   </g>\n   <g id=\"patch_50\">\n    <path clip-path=\"url(#p8eff7d7c5f)\" d=\"M 0 0 \nz\n\" style=\"fill:#9372b2;\"/>\n   </g>\n   <g id=\"patch_51\">\n    <path clip-path=\"url(#p8eff7d7c5f)\" d=\"M 0 0 \nz\n\" style=\"fill:#9372b2;\"/>\n   </g>\n   <g id=\"patch_52\">\n    <path clip-path=\"url(#p8eff7d7c5f)\" d=\"M 0 0 \nz\n\" style=\"fill:#9372b2;\"/>\n   </g>\n   <g id=\"patch_53\">\n    <path clip-path=\"url(#p8eff7d7c5f)\" d=\"M 97.185625 822.6 \nL 105.555625 822.6 \nL 105.555625 783.279928 \nL 97.185625 783.279928 \nz\n\" style=\"fill:#845b53;\"/>\n   </g>\n   <g id=\"patch_54\">\n    <path clip-path=\"url(#p8eff7d7c5f)\" d=\"M 0 0 \nz\n\" style=\"fill:#845b53;\"/>\n   </g>\n   <g id=\"patch_55\">\n    <path clip-path=\"url(#p8eff7d7c5f)\" d=\"M 0 0 \nz\n\" style=\"fill:#845b53;\"/>\n   </g>\n   <g id=\"patch_56\">\n    <path clip-path=\"url(#p8eff7d7c5f)\" d=\"M 0 0 \nz\n\" style=\"fill:#845b53;\"/>\n   </g>\n   <g id=\"patch_57\">\n    <path clip-path=\"url(#p8eff7d7c5f)\" d=\"M 0 0 \nz\n\" style=\"fill:#845b53;\"/>\n   </g>\n   <g id=\"patch_58\">\n    <path clip-path=\"url(#p8eff7d7c5f)\" d=\"M 515.685625 822.6 \nL 524.055625 822.6 \nL 524.055625 820.142495 \nL 515.685625 820.142495 \nz\n\" style=\"fill:#845b53;\"/>\n   </g>\n   <g id=\"patch_59\">\n    <path clip-path=\"url(#p8eff7d7c5f)\" d=\"M 0 0 \nz\n\" style=\"fill:#845b53;\"/>\n   </g>\n   <g id=\"patch_60\">\n    <path clip-path=\"url(#p8eff7d7c5f)\" d=\"M 0 0 \nz\n\" style=\"fill:#845b53;\"/>\n   </g>\n   <g id=\"patch_61\">\n    <path clip-path=\"url(#p8eff7d7c5f)\" d=\"M 0 0 \nz\n\" style=\"fill:#845b53;\"/>\n   </g>\n   <g id=\"patch_62\">\n    <path clip-path=\"url(#p8eff7d7c5f)\" d=\"M 0 0 \nz\n\" style=\"fill:#845b53;\"/>\n   </g>\n   <g id=\"patch_63\">\n    <path clip-path=\"url(#p8eff7d7c5f)\" d=\"M 105.555625 822.6 \nL 113.925625 822.6 \nL 113.925625 817.684991 \nL 105.555625 817.684991 \nz\n\" style=\"fill:#d684bd;\"/>\n   </g>\n   <g id=\"patch_64\">\n    <path clip-path=\"url(#p8eff7d7c5f)\" d=\"M 189.255625 822.6 \nL 197.625625 822.6 \nL 197.625625 662.862206 \nL 189.255625 662.862206 \nz\n\" style=\"fill:#d684bd;\"/>\n   </g>\n   <g id=\"patch_65\">\n    <path clip-path=\"url(#p8eff7d7c5f)\" d=\"M 272.955625 822.6 \nL 281.325625 822.6 \nL 281.325625 817.684991 \nL 272.955625 817.684991 \nz\n\" style=\"fill:#d684bd;\"/>\n   </g>\n   <g id=\"patch_66\">\n    <path clip-path=\"url(#p8eff7d7c5f)\" d=\"M 356.655625 822.6 \nL 365.025625 822.6 \nL 365.025625 790.652441 \nL 356.655625 790.652441 \nz\n\" style=\"fill:#d684bd;\"/>\n   </g>\n   <g id=\"patch_67\">\n    <path clip-path=\"url(#p8eff7d7c5f)\" d=\"M 440.355625 822.6 \nL 448.725625 822.6 \nL 448.725625 820.142495 \nL 440.355625 820.142495 \nz\n\" style=\"fill:#d684bd;\"/>\n   </g>\n   <g id=\"patch_68\">\n    <path clip-path=\"url(#p8eff7d7c5f)\" d=\"M 524.055625 822.6 \nL 532.425625 822.6 \nL 532.425625 817.684991 \nL 524.055625 817.684991 \nz\n\" style=\"fill:#d684bd;\"/>\n   </g>\n   <g id=\"patch_69\">\n    <path clip-path=\"url(#p8eff7d7c5f)\" d=\"M 607.755625 822.6 \nL 616.125625 822.6 \nL 616.125625 820.142495 \nL 607.755625 820.142495 \nz\n\" style=\"fill:#d684bd;\"/>\n   </g>\n   <g id=\"patch_70\">\n    <path clip-path=\"url(#p8eff7d7c5f)\" d=\"M 0 0 \nz\n\" style=\"fill:#d684bd;\"/>\n   </g>\n   <g id=\"patch_71\">\n    <path clip-path=\"url(#p8eff7d7c5f)\" d=\"M 0 0 \nz\n\" style=\"fill:#d684bd;\"/>\n   </g>\n   <g id=\"patch_72\">\n    <path clip-path=\"url(#p8eff7d7c5f)\" d=\"M 0 0 \nz\n\" style=\"fill:#d684bd;\"/>\n   </g>\n   <g id=\"patch_73\">\n    <path clip-path=\"url(#p8eff7d7c5f)\" d=\"M 113.925625 822.6 \nL 122.295625 822.6 \nL 122.295625 815.227486 \nL 113.925625 815.227486 \nz\n\" style=\"fill:#7f7f7f;\"/>\n   </g>\n   <g id=\"patch_74\">\n    <path clip-path=\"url(#p8eff7d7c5f)\" d=\"M 197.625625 822.6 \nL 205.995625 822.6 \nL 205.995625 662.862206 \nL 197.625625 662.862206 \nz\n\" style=\"fill:#7f7f7f;\"/>\n   </g>\n   <g id=\"patch_75\">\n    <path clip-path=\"url(#p8eff7d7c5f)\" d=\"M 281.325625 822.6 \nL 289.695625 822.6 \nL 289.695625 785.737432 \nL 281.325625 785.737432 \nz\n\" style=\"fill:#7f7f7f;\"/>\n   </g>\n   <g id=\"patch_76\">\n    <path clip-path=\"url(#p8eff7d7c5f)\" d=\"M 365.025625 822.6 \nL 373.395625 822.6 \nL 373.395625 793.109946 \nL 365.025625 793.109946 \nz\n\" style=\"fill:#7f7f7f;\"/>\n   </g>\n   <g id=\"patch_77\">\n    <path clip-path=\"url(#p8eff7d7c5f)\" d=\"M 448.725625 822.6 \nL 457.095625 822.6 \nL 457.095625 820.142495 \nL 448.725625 820.142495 \nz\n\" style=\"fill:#7f7f7f;\"/>\n   </g>\n   <g id=\"patch_78\">\n    <path clip-path=\"url(#p8eff7d7c5f)\" d=\"M 0 0 \nz\n\" style=\"fill:#7f7f7f;\"/>\n   </g>\n   <g id=\"patch_79\">\n    <path clip-path=\"url(#p8eff7d7c5f)\" d=\"M 616.125625 822.6 \nL 624.495625 822.6 \nL 624.495625 817.684991 \nL 616.125625 817.684991 \nz\n\" style=\"fill:#7f7f7f;\"/>\n   </g>\n   <g id=\"patch_80\">\n    <path clip-path=\"url(#p8eff7d7c5f)\" d=\"M 0 0 \nz\n\" style=\"fill:#7f7f7f;\"/>\n   </g>\n   <g id=\"patch_81\">\n    <path clip-path=\"url(#p8eff7d7c5f)\" d=\"M 0 0 \nz\n\" style=\"fill:#7f7f7f;\"/>\n   </g>\n   <g id=\"patch_82\">\n    <path clip-path=\"url(#p8eff7d7c5f)\" d=\"M 0 0 \nz\n\" style=\"fill:#7f7f7f;\"/>\n   </g>\n   <g id=\"matplotlib.axis_1\">\n    <g id=\"xtick_1\">\n     <g id=\"line2d_1\">\n      <defs>\n       <path d=\"M 0 0 \nL 0 3.5 \n\" id=\"m43b528d486\" style=\"stroke:#000000;stroke-width:0.8;\"/>\n      </defs>\n      <g>\n       <use style=\"stroke:#000000;stroke-width:0.8;\" x=\"88.815625\" xlink:href=\"#m43b528d486\" y=\"822.6\"/>\n      </g>\n     </g>\n     <g id=\"text_1\">\n      <!-- 0 -->\n      <g transform=\"translate(85.634375 837.198437)scale(0.1 -0.1)\">\n       <defs>\n        <path d=\"M 2034 4250 \nQ 1547 4250 1301 3770 \nQ 1056 3291 1056 2328 \nQ 1056 1369 1301 889 \nQ 1547 409 2034 409 \nQ 2525 409 2770 889 \nQ 3016 1369 3016 2328 \nQ 3016 3291 2770 3770 \nQ 2525 4250 2034 4250 \nz\nM 2034 4750 \nQ 2819 4750 3233 4129 \nQ 3647 3509 3647 2328 \nQ 3647 1150 3233 529 \nQ 2819 -91 2034 -91 \nQ 1250 -91 836 529 \nQ 422 1150 422 2328 \nQ 422 3509 836 4129 \nQ 1250 4750 2034 4750 \nz\n\" id=\"DejaVuSans-30\" transform=\"scale(0.015625)\"/>\n       </defs>\n       <use xlink:href=\"#DejaVuSans-30\"/>\n      </g>\n     </g>\n    </g>\n    <g id=\"xtick_2\">\n     <g id=\"line2d_2\">\n      <g>\n       <use style=\"stroke:#000000;stroke-width:0.8;\" x=\"172.515625\" xlink:href=\"#m43b528d486\" y=\"822.6\"/>\n      </g>\n     </g>\n     <g id=\"text_2\">\n      <!-- 6 -->\n      <g transform=\"translate(169.334375 837.198437)scale(0.1 -0.1)\">\n       <defs>\n        <path d=\"M 2113 2584 \nQ 1688 2584 1439 2293 \nQ 1191 2003 1191 1497 \nQ 1191 994 1439 701 \nQ 1688 409 2113 409 \nQ 2538 409 2786 701 \nQ 3034 994 3034 1497 \nQ 3034 2003 2786 2293 \nQ 2538 2584 2113 2584 \nz\nM 3366 4563 \nL 3366 3988 \nQ 3128 4100 2886 4159 \nQ 2644 4219 2406 4219 \nQ 1781 4219 1451 3797 \nQ 1122 3375 1075 2522 \nQ 1259 2794 1537 2939 \nQ 1816 3084 2150 3084 \nQ 2853 3084 3261 2657 \nQ 3669 2231 3669 1497 \nQ 3669 778 3244 343 \nQ 2819 -91 2113 -91 \nQ 1303 -91 875 529 \nQ 447 1150 447 2328 \nQ 447 3434 972 4092 \nQ 1497 4750 2381 4750 \nQ 2619 4750 2861 4703 \nQ 3103 4656 3366 4563 \nz\n\" id=\"DejaVuSans-36\" transform=\"scale(0.015625)\"/>\n       </defs>\n       <use xlink:href=\"#DejaVuSans-36\"/>\n      </g>\n     </g>\n    </g>\n    <g id=\"xtick_3\">\n     <g id=\"line2d_3\">\n      <g>\n       <use style=\"stroke:#000000;stroke-width:0.8;\" x=\"256.215625\" xlink:href=\"#m43b528d486\" y=\"822.6\"/>\n      </g>\n     </g>\n     <g id=\"text_3\">\n      <!-- 7 -->\n      <g transform=\"translate(253.034375 837.198437)scale(0.1 -0.1)\">\n       <defs>\n        <path d=\"M 525 4666 \nL 3525 4666 \nL 3525 4397 \nL 1831 0 \nL 1172 0 \nL 2766 4134 \nL 525 4134 \nL 525 4666 \nz\n\" id=\"DejaVuSans-37\" transform=\"scale(0.015625)\"/>\n       </defs>\n       <use xlink:href=\"#DejaVuSans-37\"/>\n      </g>\n     </g>\n    </g>\n    <g id=\"xtick_4\">\n     <g id=\"line2d_4\">\n      <g>\n       <use style=\"stroke:#000000;stroke-width:0.8;\" x=\"339.915625\" xlink:href=\"#m43b528d486\" y=\"822.6\"/>\n      </g>\n     </g>\n     <g id=\"text_4\">\n      <!-- 8 -->\n      <g transform=\"translate(336.734375 837.198437)scale(0.1 -0.1)\">\n       <defs>\n        <path d=\"M 2034 2216 \nQ 1584 2216 1326 1975 \nQ 1069 1734 1069 1313 \nQ 1069 891 1326 650 \nQ 1584 409 2034 409 \nQ 2484 409 2743 651 \nQ 3003 894 3003 1313 \nQ 3003 1734 2745 1975 \nQ 2488 2216 2034 2216 \nz\nM 1403 2484 \nQ 997 2584 770 2862 \nQ 544 3141 544 3541 \nQ 544 4100 942 4425 \nQ 1341 4750 2034 4750 \nQ 2731 4750 3128 4425 \nQ 3525 4100 3525 3541 \nQ 3525 3141 3298 2862 \nQ 3072 2584 2669 2484 \nQ 3125 2378 3379 2068 \nQ 3634 1759 3634 1313 \nQ 3634 634 3220 271 \nQ 2806 -91 2034 -91 \nQ 1263 -91 848 271 \nQ 434 634 434 1313 \nQ 434 1759 690 2068 \nQ 947 2378 1403 2484 \nz\nM 1172 3481 \nQ 1172 3119 1398 2916 \nQ 1625 2713 2034 2713 \nQ 2441 2713 2670 2916 \nQ 2900 3119 2900 3481 \nQ 2900 3844 2670 4047 \nQ 2441 4250 2034 4250 \nQ 1625 4250 1398 4047 \nQ 1172 3844 1172 3481 \nz\n\" id=\"DejaVuSans-38\" transform=\"scale(0.015625)\"/>\n       </defs>\n       <use xlink:href=\"#DejaVuSans-38\"/>\n      </g>\n     </g>\n    </g>\n    <g id=\"xtick_5\">\n     <g id=\"line2d_5\">\n      <g>\n       <use style=\"stroke:#000000;stroke-width:0.8;\" x=\"423.615625\" xlink:href=\"#m43b528d486\" y=\"822.6\"/>\n      </g>\n     </g>\n     <g id=\"text_5\">\n      <!-- 9 -->\n      <g transform=\"translate(420.434375 837.198437)scale(0.1 -0.1)\">\n       <defs>\n        <path d=\"M 703 97 \nL 703 672 \nQ 941 559 1184 500 \nQ 1428 441 1663 441 \nQ 2288 441 2617 861 \nQ 2947 1281 2994 2138 \nQ 2813 1869 2534 1725 \nQ 2256 1581 1919 1581 \nQ 1219 1581 811 2004 \nQ 403 2428 403 3163 \nQ 403 3881 828 4315 \nQ 1253 4750 1959 4750 \nQ 2769 4750 3195 4129 \nQ 3622 3509 3622 2328 \nQ 3622 1225 3098 567 \nQ 2575 -91 1691 -91 \nQ 1453 -91 1209 -44 \nQ 966 3 703 97 \nz\nM 1959 2075 \nQ 2384 2075 2632 2365 \nQ 2881 2656 2881 3163 \nQ 2881 3666 2632 3958 \nQ 2384 4250 1959 4250 \nQ 1534 4250 1286 3958 \nQ 1038 3666 1038 3163 \nQ 1038 2656 1286 2365 \nQ 1534 2075 1959 2075 \nz\n\" id=\"DejaVuSans-39\" transform=\"scale(0.015625)\"/>\n       </defs>\n       <use xlink:href=\"#DejaVuSans-39\"/>\n      </g>\n     </g>\n    </g>\n    <g id=\"xtick_6\">\n     <g id=\"line2d_6\">\n      <g>\n       <use style=\"stroke:#000000;stroke-width:0.8;\" x=\"507.315625\" xlink:href=\"#m43b528d486\" y=\"822.6\"/>\n      </g>\n     </g>\n     <g id=\"text_6\">\n      <!-- 10 -->\n      <g transform=\"translate(500.953125 837.198437)scale(0.1 -0.1)\">\n       <defs>\n        <path d=\"M 794 531 \nL 1825 531 \nL 1825 4091 \nL 703 3866 \nL 703 4441 \nL 1819 4666 \nL 2450 4666 \nL 2450 531 \nL 3481 531 \nL 3481 0 \nL 794 0 \nL 794 531 \nz\n\" id=\"DejaVuSans-31\" transform=\"scale(0.015625)\"/>\n       </defs>\n       <use xlink:href=\"#DejaVuSans-31\"/>\n       <use x=\"63.623047\" xlink:href=\"#DejaVuSans-30\"/>\n      </g>\n     </g>\n    </g>\n    <g id=\"xtick_7\">\n     <g id=\"line2d_7\">\n      <g>\n       <use style=\"stroke:#000000;stroke-width:0.8;\" x=\"591.015625\" xlink:href=\"#m43b528d486\" y=\"822.6\"/>\n      </g>\n     </g>\n     <g id=\"text_7\">\n      <!-- 11 -->\n      <g transform=\"translate(584.653125 837.198437)scale(0.1 -0.1)\">\n       <use xlink:href=\"#DejaVuSans-31\"/>\n       <use x=\"63.623047\" xlink:href=\"#DejaVuSans-31\"/>\n      </g>\n     </g>\n    </g>\n    <g id=\"xtick_8\">\n     <g id=\"line2d_8\">\n      <g>\n       <use style=\"stroke:#000000;stroke-width:0.8;\" x=\"674.715625\" xlink:href=\"#m43b528d486\" y=\"822.6\"/>\n      </g>\n     </g>\n     <g id=\"text_8\">\n      <!-- 12 -->\n      <g transform=\"translate(668.353125 837.198437)scale(0.1 -0.1)\">\n       <defs>\n        <path d=\"M 1228 531 \nL 3431 531 \nL 3431 0 \nL 469 0 \nL 469 531 \nQ 828 903 1448 1529 \nQ 2069 2156 2228 2338 \nQ 2531 2678 2651 2914 \nQ 2772 3150 2772 3378 \nQ 2772 3750 2511 3984 \nQ 2250 4219 1831 4219 \nQ 1534 4219 1204 4116 \nQ 875 4013 500 3803 \nL 500 4441 \nQ 881 4594 1212 4672 \nQ 1544 4750 1819 4750 \nQ 2544 4750 2975 4387 \nQ 3406 4025 3406 3419 \nQ 3406 3131 3298 2873 \nQ 3191 2616 2906 2266 \nQ 2828 2175 2409 1742 \nQ 1991 1309 1228 531 \nz\n\" id=\"DejaVuSans-32\" transform=\"scale(0.015625)\"/>\n       </defs>\n       <use xlink:href=\"#DejaVuSans-31\"/>\n       <use x=\"63.623047\" xlink:href=\"#DejaVuSans-32\"/>\n      </g>\n     </g>\n    </g>\n    <g id=\"xtick_9\">\n     <g id=\"line2d_9\">\n      <g>\n       <use style=\"stroke:#000000;stroke-width:0.8;\" x=\"758.415625\" xlink:href=\"#m43b528d486\" y=\"822.6\"/>\n      </g>\n     </g>\n     <g id=\"text_9\">\n      <!-- 13 -->\n      <g transform=\"translate(752.053125 837.198437)scale(0.1 -0.1)\">\n       <defs>\n        <path d=\"M 2597 2516 \nQ 3050 2419 3304 2112 \nQ 3559 1806 3559 1356 \nQ 3559 666 3084 287 \nQ 2609 -91 1734 -91 \nQ 1441 -91 1130 -33 \nQ 819 25 488 141 \nL 488 750 \nQ 750 597 1062 519 \nQ 1375 441 1716 441 \nQ 2309 441 2620 675 \nQ 2931 909 2931 1356 \nQ 2931 1769 2642 2001 \nQ 2353 2234 1838 2234 \nL 1294 2234 \nL 1294 2753 \nL 1863 2753 \nQ 2328 2753 2575 2939 \nQ 2822 3125 2822 3475 \nQ 2822 3834 2567 4026 \nQ 2313 4219 1838 4219 \nQ 1578 4219 1281 4162 \nQ 984 4106 628 3988 \nL 628 4550 \nQ 988 4650 1302 4700 \nQ 1616 4750 1894 4750 \nQ 2613 4750 3031 4423 \nQ 3450 4097 3450 3541 \nQ 3450 3153 3228 2886 \nQ 3006 2619 2597 2516 \nz\n\" id=\"DejaVuSans-33\" transform=\"scale(0.015625)\"/>\n       </defs>\n       <use xlink:href=\"#DejaVuSans-31\"/>\n       <use x=\"63.623047\" xlink:href=\"#DejaVuSans-33\"/>\n      </g>\n     </g>\n    </g>\n    <g id=\"xtick_10\">\n     <g id=\"line2d_10\">\n      <g>\n       <use style=\"stroke:#000000;stroke-width:0.8;\" x=\"842.115625\" xlink:href=\"#m43b528d486\" y=\"822.6\"/>\n      </g>\n     </g>\n     <g id=\"text_10\">\n      <!-- 14 -->\n      <g transform=\"translate(835.753125 837.198437)scale(0.1 -0.1)\">\n       <defs>\n        <path d=\"M 2419 4116 \nL 825 1625 \nL 2419 1625 \nL 2419 4116 \nz\nM 2253 4666 \nL 3047 4666 \nL 3047 1625 \nL 3713 1625 \nL 3713 1100 \nL 3047 1100 \nL 3047 0 \nL 2419 0 \nL 2419 1100 \nL 313 1100 \nL 313 1709 \nL 2253 4666 \nz\n\" id=\"DejaVuSans-34\" transform=\"scale(0.015625)\"/>\n       </defs>\n       <use xlink:href=\"#DejaVuSans-31\"/>\n       <use x=\"63.623047\" xlink:href=\"#DejaVuSans-34\"/>\n      </g>\n     </g>\n    </g>\n    <g id=\"text_11\">\n     <!-- BATHRM -->\n     <g transform=\"translate(444.4 850.876562)scale(0.1 -0.1)\">\n      <defs>\n       <path d=\"M 1259 2228 \nL 1259 519 \nL 2272 519 \nQ 2781 519 3026 730 \nQ 3272 941 3272 1375 \nQ 3272 1813 3026 2020 \nQ 2781 2228 2272 2228 \nL 1259 2228 \nz\nM 1259 4147 \nL 1259 2741 \nL 2194 2741 \nQ 2656 2741 2882 2914 \nQ 3109 3088 3109 3444 \nQ 3109 3797 2882 3972 \nQ 2656 4147 2194 4147 \nL 1259 4147 \nz\nM 628 4666 \nL 2241 4666 \nQ 2963 4666 3353 4366 \nQ 3744 4066 3744 3513 \nQ 3744 3084 3544 2831 \nQ 3344 2578 2956 2516 \nQ 3422 2416 3680 2098 \nQ 3938 1781 3938 1306 \nQ 3938 681 3513 340 \nQ 3088 0 2303 0 \nL 628 0 \nL 628 4666 \nz\n\" id=\"DejaVuSans-42\" transform=\"scale(0.015625)\"/>\n       <path d=\"M 2188 4044 \nL 1331 1722 \nL 3047 1722 \nL 2188 4044 \nz\nM 1831 4666 \nL 2547 4666 \nL 4325 0 \nL 3669 0 \nL 3244 1197 \nL 1141 1197 \nL 716 0 \nL 50 0 \nL 1831 4666 \nz\n\" id=\"DejaVuSans-41\" transform=\"scale(0.015625)\"/>\n       <path d=\"M -19 4666 \nL 3928 4666 \nL 3928 4134 \nL 2272 4134 \nL 2272 0 \nL 1638 0 \nL 1638 4134 \nL -19 4134 \nL -19 4666 \nz\n\" id=\"DejaVuSans-54\" transform=\"scale(0.015625)\"/>\n       <path d=\"M 628 4666 \nL 1259 4666 \nL 1259 2753 \nL 3553 2753 \nL 3553 4666 \nL 4184 4666 \nL 4184 0 \nL 3553 0 \nL 3553 2222 \nL 1259 2222 \nL 1259 0 \nL 628 0 \nL 628 4666 \nz\n\" id=\"DejaVuSans-48\" transform=\"scale(0.015625)\"/>\n       <path d=\"M 2841 2188 \nQ 3044 2119 3236 1894 \nQ 3428 1669 3622 1275 \nL 4263 0 \nL 3584 0 \nL 2988 1197 \nQ 2756 1666 2539 1819 \nQ 2322 1972 1947 1972 \nL 1259 1972 \nL 1259 0 \nL 628 0 \nL 628 4666 \nL 2053 4666 \nQ 2853 4666 3247 4331 \nQ 3641 3997 3641 3322 \nQ 3641 2881 3436 2590 \nQ 3231 2300 2841 2188 \nz\nM 1259 4147 \nL 1259 2491 \nL 2053 2491 \nQ 2509 2491 2742 2702 \nQ 2975 2913 2975 3322 \nQ 2975 3731 2742 3939 \nQ 2509 4147 2053 4147 \nL 1259 4147 \nz\n\" id=\"DejaVuSans-52\" transform=\"scale(0.015625)\"/>\n       <path d=\"M 628 4666 \nL 1569 4666 \nL 2759 1491 \nL 3956 4666 \nL 4897 4666 \nL 4897 0 \nL 4281 0 \nL 4281 4097 \nL 3078 897 \nL 2444 897 \nL 1241 4097 \nL 1241 0 \nL 628 0 \nL 628 4666 \nz\n\" id=\"DejaVuSans-4d\" transform=\"scale(0.015625)\"/>\n      </defs>\n      <use xlink:href=\"#DejaVuSans-42\"/>\n      <use x=\"68.603516\" xlink:href=\"#DejaVuSans-41\"/>\n      <use x=\"129.261719\" xlink:href=\"#DejaVuSans-54\"/>\n      <use x=\"190.345703\" xlink:href=\"#DejaVuSans-48\"/>\n      <use x=\"265.541016\" xlink:href=\"#DejaVuSans-52\"/>\n      <use x=\"335.023438\" xlink:href=\"#DejaVuSans-4d\"/>\n     </g>\n    </g>\n   </g>\n   <g id=\"matplotlib.axis_2\">\n    <g id=\"ytick_1\">\n     <g id=\"line2d_11\">\n      <defs>\n       <path d=\"M 0 0 \nL -3.5 0 \n\" id=\"maa261215a9\" style=\"stroke:#000000;stroke-width:0.8;\"/>\n      </defs>\n      <g>\n       <use style=\"stroke:#000000;stroke-width:0.8;\" x=\"46.965625\" xlink:href=\"#maa261215a9\" y=\"822.6\"/>\n      </g>\n     </g>\n     <g id=\"text_12\">\n      <!-- 0 -->\n      <g transform=\"translate(33.603125 826.399219)scale(0.1 -0.1)\">\n       <use xlink:href=\"#DejaVuSans-30\"/>\n      </g>\n     </g>\n    </g>\n    <g id=\"ytick_2\">\n     <g id=\"line2d_12\">\n      <g>\n       <use style=\"stroke:#000000;stroke-width:0.8;\" x=\"46.965625\" xlink:href=\"#maa261215a9\" y=\"699.724774\"/>\n      </g>\n     </g>\n     <g id=\"text_13\">\n      <!-- 50 -->\n      <g transform=\"translate(27.240625 703.523993)scale(0.1 -0.1)\">\n       <defs>\n        <path d=\"M 691 4666 \nL 3169 4666 \nL 3169 4134 \nL 1269 4134 \nL 1269 2991 \nQ 1406 3038 1543 3061 \nQ 1681 3084 1819 3084 \nQ 2600 3084 3056 2656 \nQ 3513 2228 3513 1497 \nQ 3513 744 3044 326 \nQ 2575 -91 1722 -91 \nQ 1428 -91 1123 -41 \nQ 819 9 494 109 \nL 494 744 \nQ 775 591 1075 516 \nQ 1375 441 1709 441 \nQ 2250 441 2565 725 \nQ 2881 1009 2881 1497 \nQ 2881 1984 2565 2268 \nQ 2250 2553 1709 2553 \nQ 1456 2553 1204 2497 \nQ 953 2441 691 2322 \nL 691 4666 \nz\n\" id=\"DejaVuSans-35\" transform=\"scale(0.015625)\"/>\n       </defs>\n       <use xlink:href=\"#DejaVuSans-35\"/>\n       <use x=\"63.623047\" xlink:href=\"#DejaVuSans-30\"/>\n      </g>\n     </g>\n    </g>\n    <g id=\"ytick_3\">\n     <g id=\"line2d_13\">\n      <g>\n       <use style=\"stroke:#000000;stroke-width:0.8;\" x=\"46.965625\" xlink:href=\"#maa261215a9\" y=\"576.849548\"/>\n      </g>\n     </g>\n     <g id=\"text_14\">\n      <!-- 100 -->\n      <g transform=\"translate(20.878125 580.648767)scale(0.1 -0.1)\">\n       <use xlink:href=\"#DejaVuSans-31\"/>\n       <use x=\"63.623047\" xlink:href=\"#DejaVuSans-30\"/>\n       <use x=\"127.246094\" xlink:href=\"#DejaVuSans-30\"/>\n      </g>\n     </g>\n    </g>\n    <g id=\"ytick_4\">\n     <g id=\"line2d_14\">\n      <g>\n       <use style=\"stroke:#000000;stroke-width:0.8;\" x=\"46.965625\" xlink:href=\"#maa261215a9\" y=\"453.974322\"/>\n      </g>\n     </g>\n     <g id=\"text_15\">\n      <!-- 150 -->\n      <g transform=\"translate(20.878125 457.773541)scale(0.1 -0.1)\">\n       <use xlink:href=\"#DejaVuSans-31\"/>\n       <use x=\"63.623047\" xlink:href=\"#DejaVuSans-35\"/>\n       <use x=\"127.246094\" xlink:href=\"#DejaVuSans-30\"/>\n      </g>\n     </g>\n    </g>\n    <g id=\"ytick_5\">\n     <g id=\"line2d_15\">\n      <g>\n       <use style=\"stroke:#000000;stroke-width:0.8;\" x=\"46.965625\" xlink:href=\"#maa261215a9\" y=\"331.099096\"/>\n      </g>\n     </g>\n     <g id=\"text_16\">\n      <!-- 200 -->\n      <g transform=\"translate(20.878125 334.898315)scale(0.1 -0.1)\">\n       <use xlink:href=\"#DejaVuSans-32\"/>\n       <use x=\"63.623047\" xlink:href=\"#DejaVuSans-30\"/>\n       <use x=\"127.246094\" xlink:href=\"#DejaVuSans-30\"/>\n      </g>\n     </g>\n    </g>\n    <g id=\"ytick_6\">\n     <g id=\"line2d_16\">\n      <g>\n       <use style=\"stroke:#000000;stroke-width:0.8;\" x=\"46.965625\" xlink:href=\"#maa261215a9\" y=\"208.22387\"/>\n      </g>\n     </g>\n     <g id=\"text_17\">\n      <!-- 250 -->\n      <g transform=\"translate(20.878125 212.023089)scale(0.1 -0.1)\">\n       <use xlink:href=\"#DejaVuSans-32\"/>\n       <use x=\"63.623047\" xlink:href=\"#DejaVuSans-35\"/>\n       <use x=\"127.246094\" xlink:href=\"#DejaVuSans-30\"/>\n      </g>\n     </g>\n    </g>\n    <g id=\"ytick_7\">\n     <g id=\"line2d_17\">\n      <g>\n       <use style=\"stroke:#000000;stroke-width:0.8;\" x=\"46.965625\" xlink:href=\"#maa261215a9\" y=\"85.348644\"/>\n      </g>\n     </g>\n     <g id=\"text_18\">\n      <!-- 300 -->\n      <g transform=\"translate(20.878125 89.147863)scale(0.1 -0.1)\">\n       <use xlink:href=\"#DejaVuSans-33\"/>\n       <use x=\"63.623047\" xlink:href=\"#DejaVuSans-30\"/>\n       <use x=\"127.246094\" xlink:href=\"#DejaVuSans-30\"/>\n      </g>\n     </g>\n    </g>\n    <g id=\"text_19\">\n     <!-- count -->\n     <g transform=\"translate(14.798438 429.00625)rotate(-90)scale(0.1 -0.1)\">\n      <defs>\n       <path d=\"M 3122 3366 \nL 3122 2828 \nQ 2878 2963 2633 3030 \nQ 2388 3097 2138 3097 \nQ 1578 3097 1268 2742 \nQ 959 2388 959 1747 \nQ 959 1106 1268 751 \nQ 1578 397 2138 397 \nQ 2388 397 2633 464 \nQ 2878 531 3122 666 \nL 3122 134 \nQ 2881 22 2623 -34 \nQ 2366 -91 2075 -91 \nQ 1284 -91 818 406 \nQ 353 903 353 1747 \nQ 353 2603 823 3093 \nQ 1294 3584 2113 3584 \nQ 2378 3584 2631 3529 \nQ 2884 3475 3122 3366 \nz\n\" id=\"DejaVuSans-63\" transform=\"scale(0.015625)\"/>\n       <path d=\"M 1959 3097 \nQ 1497 3097 1228 2736 \nQ 959 2375 959 1747 \nQ 959 1119 1226 758 \nQ 1494 397 1959 397 \nQ 2419 397 2687 759 \nQ 2956 1122 2956 1747 \nQ 2956 2369 2687 2733 \nQ 2419 3097 1959 3097 \nz\nM 1959 3584 \nQ 2709 3584 3137 3096 \nQ 3566 2609 3566 1747 \nQ 3566 888 3137 398 \nQ 2709 -91 1959 -91 \nQ 1206 -91 779 398 \nQ 353 888 353 1747 \nQ 353 2609 779 3096 \nQ 1206 3584 1959 3584 \nz\n\" id=\"DejaVuSans-6f\" transform=\"scale(0.015625)\"/>\n       <path d=\"M 544 1381 \nL 544 3500 \nL 1119 3500 \nL 1119 1403 \nQ 1119 906 1312 657 \nQ 1506 409 1894 409 \nQ 2359 409 2629 706 \nQ 2900 1003 2900 1516 \nL 2900 3500 \nL 3475 3500 \nL 3475 0 \nL 2900 0 \nL 2900 538 \nQ 2691 219 2414 64 \nQ 2138 -91 1772 -91 \nQ 1169 -91 856 284 \nQ 544 659 544 1381 \nz\nM 1991 3584 \nL 1991 3584 \nz\n\" id=\"DejaVuSans-75\" transform=\"scale(0.015625)\"/>\n       <path d=\"M 3513 2113 \nL 3513 0 \nL 2938 0 \nL 2938 2094 \nQ 2938 2591 2744 2837 \nQ 2550 3084 2163 3084 \nQ 1697 3084 1428 2787 \nQ 1159 2491 1159 1978 \nL 1159 0 \nL 581 0 \nL 581 3500 \nL 1159 3500 \nL 1159 2956 \nQ 1366 3272 1645 3428 \nQ 1925 3584 2291 3584 \nQ 2894 3584 3203 3211 \nQ 3513 2838 3513 2113 \nz\n\" id=\"DejaVuSans-6e\" transform=\"scale(0.015625)\"/>\n       <path d=\"M 1172 4494 \nL 1172 3500 \nL 2356 3500 \nL 2356 3053 \nL 1172 3053 \nL 1172 1153 \nQ 1172 725 1289 603 \nQ 1406 481 1766 481 \nL 2356 481 \nL 2356 0 \nL 1766 0 \nQ 1100 0 847 248 \nQ 594 497 594 1153 \nL 594 3053 \nL 172 3053 \nL 172 3500 \nL 594 3500 \nL 594 4494 \nL 1172 4494 \nz\n\" id=\"DejaVuSans-74\" transform=\"scale(0.015625)\"/>\n      </defs>\n      <use xlink:href=\"#DejaVuSans-63\"/>\n      <use x=\"54.980469\" xlink:href=\"#DejaVuSans-6f\"/>\n      <use x=\"116.162109\" xlink:href=\"#DejaVuSans-75\"/>\n      <use x=\"179.541016\" xlink:href=\"#DejaVuSans-6e\"/>\n      <use x=\"242.919922\" xlink:href=\"#DejaVuSans-74\"/>\n     </g>\n    </g>\n   </g>\n   <g id=\"patch_83\">\n    <path d=\"M 46.965625 822.6 \nL 46.965625 7.2 \n\" style=\"fill:none;stroke:#000000;stroke-linecap:square;stroke-linejoin:miter;stroke-width:0.8;\"/>\n   </g>\n   <g id=\"patch_84\">\n    <path d=\"M 883.965625 822.6 \nL 883.965625 7.2 \n\" style=\"fill:none;stroke:#000000;stroke-linecap:square;stroke-linejoin:miter;stroke-width:0.8;\"/>\n   </g>\n   <g id=\"patch_85\">\n    <path d=\"M 46.965625 822.6 \nL 883.965625 822.6 \n\" style=\"fill:none;stroke:#000000;stroke-linecap:square;stroke-linejoin:miter;stroke-width:0.8;\"/>\n   </g>\n   <g id=\"patch_86\">\n    <path d=\"M 46.965625 7.2 \nL 883.965625 7.2 \n\" style=\"fill:none;stroke:#000000;stroke-linecap:square;stroke-linejoin:miter;stroke-width:0.8;\"/>\n   </g>\n   <g id=\"legend_1\">\n    <g id=\"patch_87\">\n     <path d=\"M 53.965625 147.303125 \nL 106.825 147.303125 \nQ 108.825 147.303125 108.825 145.303125 \nL 108.825 14.2 \nQ 108.825 12.2 106.825 12.2 \nL 53.965625 12.2 \nQ 51.965625 12.2 51.965625 14.2 \nL 51.965625 145.303125 \nQ 51.965625 147.303125 53.965625 147.303125 \nz\n\" style=\"fill:#ffffff;opacity:0.8;stroke:#cccccc;stroke-linejoin:miter;\"/>\n    </g>\n    <g id=\"text_20\">\n     <!-- USECODE -->\n     <g transform=\"translate(55.965625 23.798437)scale(0.1 -0.1)\">\n      <defs>\n       <path d=\"M 556 4666 \nL 1191 4666 \nL 1191 1831 \nQ 1191 1081 1462 751 \nQ 1734 422 2344 422 \nQ 2950 422 3222 751 \nQ 3494 1081 3494 1831 \nL 3494 4666 \nL 4128 4666 \nL 4128 1753 \nQ 4128 841 3676 375 \nQ 3225 -91 2344 -91 \nQ 1459 -91 1007 375 \nQ 556 841 556 1753 \nL 556 4666 \nz\n\" id=\"DejaVuSans-55\" transform=\"scale(0.015625)\"/>\n       <path d=\"M 3425 4513 \nL 3425 3897 \nQ 3066 4069 2747 4153 \nQ 2428 4238 2131 4238 \nQ 1616 4238 1336 4038 \nQ 1056 3838 1056 3469 \nQ 1056 3159 1242 3001 \nQ 1428 2844 1947 2747 \nL 2328 2669 \nQ 3034 2534 3370 2195 \nQ 3706 1856 3706 1288 \nQ 3706 609 3251 259 \nQ 2797 -91 1919 -91 \nQ 1588 -91 1214 -16 \nQ 841 59 441 206 \nL 441 856 \nQ 825 641 1194 531 \nQ 1563 422 1919 422 \nQ 2459 422 2753 634 \nQ 3047 847 3047 1241 \nQ 3047 1584 2836 1778 \nQ 2625 1972 2144 2069 \nL 1759 2144 \nQ 1053 2284 737 2584 \nQ 422 2884 422 3419 \nQ 422 4038 858 4394 \nQ 1294 4750 2059 4750 \nQ 2388 4750 2728 4690 \nQ 3069 4631 3425 4513 \nz\n\" id=\"DejaVuSans-53\" transform=\"scale(0.015625)\"/>\n       <path d=\"M 628 4666 \nL 3578 4666 \nL 3578 4134 \nL 1259 4134 \nL 1259 2753 \nL 3481 2753 \nL 3481 2222 \nL 1259 2222 \nL 1259 531 \nL 3634 531 \nL 3634 0 \nL 628 0 \nL 628 4666 \nz\n\" id=\"DejaVuSans-45\" transform=\"scale(0.015625)\"/>\n       <path d=\"M 4122 4306 \nL 4122 3641 \nQ 3803 3938 3442 4084 \nQ 3081 4231 2675 4231 \nQ 1875 4231 1450 3742 \nQ 1025 3253 1025 2328 \nQ 1025 1406 1450 917 \nQ 1875 428 2675 428 \nQ 3081 428 3442 575 \nQ 3803 722 4122 1019 \nL 4122 359 \nQ 3791 134 3420 21 \nQ 3050 -91 2638 -91 \nQ 1578 -91 968 557 \nQ 359 1206 359 2328 \nQ 359 3453 968 4101 \nQ 1578 4750 2638 4750 \nQ 3056 4750 3426 4639 \nQ 3797 4528 4122 4306 \nz\n\" id=\"DejaVuSans-43\" transform=\"scale(0.015625)\"/>\n       <path d=\"M 2522 4238 \nQ 1834 4238 1429 3725 \nQ 1025 3213 1025 2328 \nQ 1025 1447 1429 934 \nQ 1834 422 2522 422 \nQ 3209 422 3611 934 \nQ 4013 1447 4013 2328 \nQ 4013 3213 3611 3725 \nQ 3209 4238 2522 4238 \nz\nM 2522 4750 \nQ 3503 4750 4090 4092 \nQ 4678 3434 4678 2328 \nQ 4678 1225 4090 567 \nQ 3503 -91 2522 -91 \nQ 1538 -91 948 565 \nQ 359 1222 359 2328 \nQ 359 3434 948 4092 \nQ 1538 4750 2522 4750 \nz\n\" id=\"DejaVuSans-4f\" transform=\"scale(0.015625)\"/>\n       <path d=\"M 1259 4147 \nL 1259 519 \nL 2022 519 \nQ 2988 519 3436 956 \nQ 3884 1394 3884 2338 \nQ 3884 3275 3436 3711 \nQ 2988 4147 2022 4147 \nL 1259 4147 \nz\nM 628 4666 \nL 1925 4666 \nQ 3281 4666 3915 4102 \nQ 4550 3538 4550 2338 \nQ 4550 1131 3912 565 \nQ 3275 0 1925 0 \nL 628 0 \nL 628 4666 \nz\n\" id=\"DejaVuSans-44\" transform=\"scale(0.015625)\"/>\n      </defs>\n      <use xlink:href=\"#DejaVuSans-55\"/>\n      <use x=\"73.193359\" xlink:href=\"#DejaVuSans-53\"/>\n      <use x=\"136.669922\" xlink:href=\"#DejaVuSans-45\"/>\n      <use x=\"199.853516\" xlink:href=\"#DejaVuSans-43\"/>\n      <use x=\"269.677734\" xlink:href=\"#DejaVuSans-4f\"/>\n      <use x=\"348.388672\" xlink:href=\"#DejaVuSans-44\"/>\n      <use x=\"425.390625\" xlink:href=\"#DejaVuSans-45\"/>\n     </g>\n    </g>\n    <g id=\"patch_88\">\n     <path d=\"M 60.032813 38.476562 \nL 80.032813 38.476562 \nL 80.032813 31.476562 \nL 60.032813 31.476562 \nz\n\" style=\"fill:#3274a1;\"/>\n    </g>\n    <g id=\"text_21\">\n     <!-- 11 -->\n     <g transform=\"translate(88.032813 38.476562)scale(0.1 -0.1)\">\n      <use xlink:href=\"#DejaVuSans-31\"/>\n      <use x=\"63.623047\" xlink:href=\"#DejaVuSans-31\"/>\n     </g>\n    </g>\n    <g id=\"patch_89\">\n     <path d=\"M 60.032813 53.154688 \nL 80.032813 53.154688 \nL 80.032813 46.154688 \nL 60.032813 46.154688 \nz\n\" style=\"fill:#e1812c;\"/>\n    </g>\n    <g id=\"text_22\">\n     <!-- 12 -->\n     <g transform=\"translate(88.032813 53.154688)scale(0.1 -0.1)\">\n      <use xlink:href=\"#DejaVuSans-31\"/>\n      <use x=\"63.623047\" xlink:href=\"#DejaVuSans-32\"/>\n     </g>\n    </g>\n    <g id=\"patch_90\">\n     <path d=\"M 60.032813 67.832813 \nL 80.032813 67.832813 \nL 80.032813 60.832813 \nL 60.032813 60.832813 \nz\n\" style=\"fill:#3a923a;\"/>\n    </g>\n    <g id=\"text_23\">\n     <!-- 13 -->\n     <g transform=\"translate(88.032813 67.832813)scale(0.1 -0.1)\">\n      <use xlink:href=\"#DejaVuSans-31\"/>\n      <use x=\"63.623047\" xlink:href=\"#DejaVuSans-33\"/>\n     </g>\n    </g>\n    <g id=\"patch_91\">\n     <path d=\"M 60.032813 82.510937 \nL 80.032813 82.510937 \nL 80.032813 75.510937 \nL 60.032813 75.510937 \nz\n\" style=\"fill:#c03d3e;\"/>\n    </g>\n    <g id=\"text_24\">\n     <!-- 16 -->\n     <g transform=\"translate(88.032813 82.510937)scale(0.1 -0.1)\">\n      <use xlink:href=\"#DejaVuSans-31\"/>\n      <use x=\"63.623047\" xlink:href=\"#DejaVuSans-36\"/>\n     </g>\n    </g>\n    <g id=\"patch_92\">\n     <path d=\"M 60.032813 97.189062 \nL 80.032813 97.189062 \nL 80.032813 90.189062 \nL 60.032813 90.189062 \nz\n\" style=\"fill:#9372b2;\"/>\n    </g>\n    <g id=\"text_25\">\n     <!-- 17 -->\n     <g transform=\"translate(88.032813 97.189062)scale(0.1 -0.1)\">\n      <use xlink:href=\"#DejaVuSans-31\"/>\n      <use x=\"63.623047\" xlink:href=\"#DejaVuSans-37\"/>\n     </g>\n    </g>\n    <g id=\"patch_93\">\n     <path d=\"M 60.032813 111.867188 \nL 80.032813 111.867188 \nL 80.032813 104.867188 \nL 60.032813 104.867188 \nz\n\" style=\"fill:#845b53;\"/>\n    </g>\n    <g id=\"text_26\">\n     <!-- 19 -->\n     <g transform=\"translate(88.032813 111.867188)scale(0.1 -0.1)\">\n      <use xlink:href=\"#DejaVuSans-31\"/>\n      <use x=\"63.623047\" xlink:href=\"#DejaVuSans-39\"/>\n     </g>\n    </g>\n    <g id=\"patch_94\">\n     <path d=\"M 60.032813 126.545313 \nL 80.032813 126.545313 \nL 80.032813 119.545313 \nL 60.032813 119.545313 \nz\n\" style=\"fill:#d684bd;\"/>\n    </g>\n    <g id=\"text_27\">\n     <!-- 23 -->\n     <g transform=\"translate(88.032813 126.545313)scale(0.1 -0.1)\">\n      <use xlink:href=\"#DejaVuSans-32\"/>\n      <use x=\"63.623047\" xlink:href=\"#DejaVuSans-33\"/>\n     </g>\n    </g>\n    <g id=\"patch_95\">\n     <path d=\"M 60.032813 141.223437 \nL 80.032813 141.223437 \nL 80.032813 134.223437 \nL 60.032813 134.223437 \nz\n\" style=\"fill:#7f7f7f;\"/>\n    </g>\n    <g id=\"text_28\">\n     <!-- 24 -->\n     <g transform=\"translate(88.032813 141.223437)scale(0.1 -0.1)\">\n      <use xlink:href=\"#DejaVuSans-32\"/>\n      <use x=\"63.623047\" xlink:href=\"#DejaVuSans-34\"/>\n     </g>\n    </g>\n   </g>\n  </g>\n </g>\n <defs>\n  <clipPath id=\"p8eff7d7c5f\">\n   <rect height=\"815.4\" width=\"837\" x=\"46.965625\" y=\"7.2\"/>\n  </clipPath>\n </defs>\n</svg>\n",
            "text/plain": [
              "<Figure size 1080x1080 with 1 Axes>"
            ]
          },
          "metadata": {
            "needs_background": "light"
          },
          "output_type": "display_data"
        }
      ],
      "source": [
        "bathrm_outlier = df[(df['BATHRM']==0) | (df['BATHRM']>5)]\n",
        "plt.figure(figsize=(15,15))\n",
        "sns.countplot(x='BATHRM', data=bathrm_outlier, hue='USECODE')\n",
        "plt.show()"
      ]
    },
    {
      "cell_type": "markdown",
      "metadata": {
        "id": "5QnLSiwuZb4n"
      },
      "source": [
        "zero bathroom should be checked"
      ]
    },
    {
      "cell_type": "code",
      "execution_count": 12,
      "metadata": {
        "colab": {
          "base_uri": "https://localhost:8080/"
        },
        "id": "_oGjOQa5ZVE3",
        "outputId": "12f799a9-bebf-4789-ef3c-dc0aba3fe60b"
      },
      "outputs": [
        {
          "data": {
            "text/plain": [
              "0     93148\n",
              "1     59258\n",
              "2      6186\n",
              "3       289\n",
              "4        56\n",
              "5        12\n",
              "7         3\n",
              "6         3\n",
              "11        1\n",
              "9         1\n",
              "Name: HF_BATHRM, dtype: int64"
            ]
          },
          "execution_count": 12,
          "metadata": {
            "tags": []
          },
          "output_type": "execute_result"
        }
      ],
      "source": [
        "df['HF_BATHRM'].value_counts()"
      ]
    },
    {
      "cell_type": "code",
      "execution_count": 13,
      "metadata": {
        "colab": {
          "base_uri": "https://localhost:8080/"
        },
        "id": "zHG648vXZ7E9",
        "outputId": "e8b4dc7e-aefd-4b6f-b497-c9db41c41de7"
      },
      "outputs": [
        {
          "data": {
            "text/plain": [
              "Forced Air        53972\n",
              "Hot Water Rad     47202\n",
              "Warm Cool         33628\n",
              "Ht Pump           21412\n",
              "Wall Furnace       1120\n",
              "Water Base Brd      402\n",
              "Elec Base Brd       351\n",
              "No Data             330\n",
              "Electric Rad        144\n",
              "Gravity Furnac      140\n",
              "Air-Oil             117\n",
              "Ind Unit             50\n",
              "Evp Cool             50\n",
              "Air Exchng           39\n",
              "Name: HEAT, dtype: int64"
            ]
          },
          "execution_count": 13,
          "metadata": {
            "tags": []
          },
          "output_type": "execute_result"
        }
      ],
      "source": [
        "df['HEAT'].value_counts()"
      ]
    },
    {
      "cell_type": "markdown",
      "metadata": {
        "id": "IMwSPfOVa7Xd"
      },
      "source": [
        "Outside top 4, convert to others"
      ]
    },
    {
      "cell_type": "code",
      "execution_count": 14,
      "metadata": {
        "colab": {
          "base_uri": "https://localhost:8080/"
        },
        "id": "e8ydg5RIaTrH",
        "outputId": "151025a7-3367-40dc-ca6e-127e3dbef6fd"
      },
      "outputs": [
        {
          "data": {
            "text/plain": [
              "Y    114620\n",
              "N     44272\n",
              "0        65\n",
              "Name: AC, dtype: int64"
            ]
          },
          "execution_count": 14,
          "metadata": {
            "tags": []
          },
          "output_type": "execute_result"
        }
      ],
      "source": [
        "df['AC'].value_counts()"
      ]
    },
    {
      "cell_type": "markdown",
      "metadata": {
        "id": "DDDoXDf_ad5W"
      },
      "source": [
        "zero convert to N"
      ]
    },
    {
      "cell_type": "code",
      "execution_count": 15,
      "metadata": {
        "colab": {
          "base_uri": "https://localhost:8080/",
          "height": 779
        },
        "id": "H2FtJZm4ab_o",
        "outputId": "abb77904-1119-4699-f4d7-d4f39a22abfc"
      },
      "outputs": [
        {
          "data": {
            "text/html": [
              "<div>\n",
              "<style scoped>\n",
              "    .dataframe tbody tr th:only-of-type {\n",
              "        vertical-align: middle;\n",
              "    }\n",
              "\n",
              "    .dataframe tbody tr th {\n",
              "        vertical-align: top;\n",
              "    }\n",
              "\n",
              "    .dataframe thead th {\n",
              "        text-align: right;\n",
              "    }\n",
              "</style>\n",
              "<table border=\"1\" class=\"dataframe\">\n",
              "  <thead>\n",
              "    <tr style=\"text-align: right;\">\n",
              "      <th></th>\n",
              "      <th>BATHRM</th>\n",
              "      <th>HF_BATHRM</th>\n",
              "      <th>HEAT</th>\n",
              "      <th>AC</th>\n",
              "      <th>NUM_UNITS</th>\n",
              "      <th>ROOMS</th>\n",
              "      <th>BEDRM</th>\n",
              "      <th>AYB</th>\n",
              "      <th>YR_RMDL</th>\n",
              "      <th>EYB</th>\n",
              "      <th>STORIES</th>\n",
              "      <th>SALEDATE</th>\n",
              "      <th>PRICE</th>\n",
              "      <th>QUALIFIED</th>\n",
              "      <th>SALE_NUM</th>\n",
              "      <th>GBA</th>\n",
              "      <th>BLDG_NUM</th>\n",
              "      <th>STYLE</th>\n",
              "      <th>STRUCT</th>\n",
              "      <th>GRADE</th>\n",
              "      <th>CNDTN</th>\n",
              "      <th>EXTWALL</th>\n",
              "      <th>ROOF</th>\n",
              "      <th>INTWALL</th>\n",
              "      <th>KITCHENS</th>\n",
              "      <th>FIREPLACES</th>\n",
              "      <th>USECODE</th>\n",
              "      <th>LANDAREA</th>\n",
              "      <th>GIS_LAST_MOD_DTTM</th>\n",
              "      <th>SOURCE</th>\n",
              "      <th>CMPLX_NUM</th>\n",
              "      <th>LIVING_GBA</th>\n",
              "      <th>FULLADDRESS</th>\n",
              "      <th>CITY</th>\n",
              "      <th>STATE</th>\n",
              "      <th>ZIPCODE</th>\n",
              "      <th>NATIONALGRID</th>\n",
              "      <th>LATITUDE</th>\n",
              "      <th>LONGITUDE</th>\n",
              "      <th>ASSESSMENT_NBHD</th>\n",
              "      <th>ASSESSMENT_SUBNBHD</th>\n",
              "      <th>CENSUS_TRACT</th>\n",
              "      <th>CENSUS_BLOCK</th>\n",
              "      <th>WARD</th>\n",
              "      <th>SQUARE</th>\n",
              "      <th>X</th>\n",
              "      <th>Y</th>\n",
              "      <th>QUADRANT</th>\n",
              "    </tr>\n",
              "  </thead>\n",
              "  <tbody>\n",
              "    <tr>\n",
              "      <th>3304</th>\n",
              "      <td>1</td>\n",
              "      <td>0</td>\n",
              "      <td>Hot Water Rad</td>\n",
              "      <td>0</td>\n",
              "      <td>1.0</td>\n",
              "      <td>5</td>\n",
              "      <td>2</td>\n",
              "      <td>1900.0</td>\n",
              "      <td>NaN</td>\n",
              "      <td>1964</td>\n",
              "      <td>2.0</td>\n",
              "      <td>2016-04-01 00:00:00</td>\n",
              "      <td>507500.0</td>\n",
              "      <td>U</td>\n",
              "      <td>4</td>\n",
              "      <td>792.0</td>\n",
              "      <td>1</td>\n",
              "      <td>2 Story</td>\n",
              "      <td>Row Inside</td>\n",
              "      <td>Average</td>\n",
              "      <td>Good</td>\n",
              "      <td>Common Brick</td>\n",
              "      <td>Built Up</td>\n",
              "      <td>Wood Floor</td>\n",
              "      <td>1.0</td>\n",
              "      <td>1</td>\n",
              "      <td>11</td>\n",
              "      <td>663</td>\n",
              "      <td>2018-07-22 18:01:43</td>\n",
              "      <td>Residential</td>\n",
              "      <td>NaN</td>\n",
              "      <td>NaN</td>\n",
              "      <td>8 N STREET SW</td>\n",
              "      <td>WASHINGTON</td>\n",
              "      <td>DC</td>\n",
              "      <td>20024.0</td>\n",
              "      <td>18S UJ 25654 04765</td>\n",
              "      <td>38.874458</td>\n",
              "      <td>-77.009784</td>\n",
              "      <td>Old City 1</td>\n",
              "      <td>039 E Old City 1</td>\n",
              "      <td>6400.0</td>\n",
              "      <td>006400 1009</td>\n",
              "      <td>Ward 6</td>\n",
              "      <td>653</td>\n",
              "      <td>-77.010025</td>\n",
              "      <td>38.873810</td>\n",
              "      <td>SW</td>\n",
              "    </tr>\n",
              "    <tr>\n",
              "      <th>3305</th>\n",
              "      <td>1</td>\n",
              "      <td>0</td>\n",
              "      <td>Hot Water Rad</td>\n",
              "      <td>0</td>\n",
              "      <td>1.0</td>\n",
              "      <td>5</td>\n",
              "      <td>2</td>\n",
              "      <td>1900.0</td>\n",
              "      <td>NaN</td>\n",
              "      <td>1943</td>\n",
              "      <td>2.0</td>\n",
              "      <td>2015-10-05 00:00:00</td>\n",
              "      <td>470000.0</td>\n",
              "      <td>U</td>\n",
              "      <td>4</td>\n",
              "      <td>792.0</td>\n",
              "      <td>1</td>\n",
              "      <td>2 Story</td>\n",
              "      <td>Row Inside</td>\n",
              "      <td>Average</td>\n",
              "      <td>Average</td>\n",
              "      <td>Common Brick</td>\n",
              "      <td>Built Up</td>\n",
              "      <td>Wood Floor</td>\n",
              "      <td>1.0</td>\n",
              "      <td>1</td>\n",
              "      <td>11</td>\n",
              "      <td>663</td>\n",
              "      <td>2018-07-22 18:01:43</td>\n",
              "      <td>Residential</td>\n",
              "      <td>NaN</td>\n",
              "      <td>NaN</td>\n",
              "      <td>6 N STREET SW</td>\n",
              "      <td>WASHINGTON</td>\n",
              "      <td>DC</td>\n",
              "      <td>20024.0</td>\n",
              "      <td>18S UJ 25662 04765</td>\n",
              "      <td>38.874459</td>\n",
              "      <td>-77.009700</td>\n",
              "      <td>Old City 1</td>\n",
              "      <td>039 E Old City 1</td>\n",
              "      <td>6400.0</td>\n",
              "      <td>006400 1009</td>\n",
              "      <td>Ward 6</td>\n",
              "      <td>653</td>\n",
              "      <td>-77.010025</td>\n",
              "      <td>38.873810</td>\n",
              "      <td>SW</td>\n",
              "    </tr>\n",
              "    <tr>\n",
              "      <th>6000</th>\n",
              "      <td>3</td>\n",
              "      <td>1</td>\n",
              "      <td>Hot Water Rad</td>\n",
              "      <td>0</td>\n",
              "      <td>2.0</td>\n",
              "      <td>9</td>\n",
              "      <td>3</td>\n",
              "      <td>1900.0</td>\n",
              "      <td>1979.0</td>\n",
              "      <td>1969</td>\n",
              "      <td>2.0</td>\n",
              "      <td>2012-10-22 00:00:00</td>\n",
              "      <td>NaN</td>\n",
              "      <td>U</td>\n",
              "      <td>1</td>\n",
              "      <td>1926.0</td>\n",
              "      <td>1</td>\n",
              "      <td>2 Story</td>\n",
              "      <td>Row Inside</td>\n",
              "      <td>Good Quality</td>\n",
              "      <td>Average</td>\n",
              "      <td>Common Brick</td>\n",
              "      <td>Metal- Sms</td>\n",
              "      <td>Hardwood</td>\n",
              "      <td>2.0</td>\n",
              "      <td>1</td>\n",
              "      <td>24</td>\n",
              "      <td>1686</td>\n",
              "      <td>2018-07-22 18:01:43</td>\n",
              "      <td>Residential</td>\n",
              "      <td>NaN</td>\n",
              "      <td>NaN</td>\n",
              "      <td>326 F STREET NE</td>\n",
              "      <td>WASHINGTON</td>\n",
              "      <td>DC</td>\n",
              "      <td>20002.0</td>\n",
              "      <td>18S UJ 26466 07309</td>\n",
              "      <td>38.897535</td>\n",
              "      <td>-77.001078</td>\n",
              "      <td>Old City 1</td>\n",
              "      <td>039 J Old City 1</td>\n",
              "      <td>8301.0</td>\n",
              "      <td>008301 1005</td>\n",
              "      <td>Ward 6</td>\n",
              "      <td>778</td>\n",
              "      <td>-77.001088</td>\n",
              "      <td>38.898054</td>\n",
              "      <td>NE</td>\n",
              "    </tr>\n",
              "    <tr>\n",
              "      <th>8465</th>\n",
              "      <td>2</td>\n",
              "      <td>1</td>\n",
              "      <td>Forced Air</td>\n",
              "      <td>0</td>\n",
              "      <td>1.0</td>\n",
              "      <td>8</td>\n",
              "      <td>5</td>\n",
              "      <td>1932.0</td>\n",
              "      <td>NaN</td>\n",
              "      <td>1992</td>\n",
              "      <td>NaN</td>\n",
              "      <td>2018-03-26 00:00:00</td>\n",
              "      <td>1250000.0</td>\n",
              "      <td>U</td>\n",
              "      <td>2</td>\n",
              "      <td>8009.0</td>\n",
              "      <td>1</td>\n",
              "      <td>2.5 Story Unfin</td>\n",
              "      <td>Single</td>\n",
              "      <td>Low Quality</td>\n",
              "      <td>Poor</td>\n",
              "      <td>Brick/Stucco</td>\n",
              "      <td>Built Up</td>\n",
              "      <td>Hardwood</td>\n",
              "      <td>1.0</td>\n",
              "      <td>2</td>\n",
              "      <td>12</td>\n",
              "      <td>5180</td>\n",
              "      <td>2018-07-22 18:01:43</td>\n",
              "      <td>Residential</td>\n",
              "      <td>NaN</td>\n",
              "      <td>NaN</td>\n",
              "      <td>316 A STREET NE</td>\n",
              "      <td>WASHINGTON</td>\n",
              "      <td>DC</td>\n",
              "      <td>20002.0</td>\n",
              "      <td>18S UJ 26437 06598</td>\n",
              "      <td>38.891126</td>\n",
              "      <td>-77.001236</td>\n",
              "      <td>Capitol Hill</td>\n",
              "      <td>009 C Capitol Hill</td>\n",
              "      <td>8200.0</td>\n",
              "      <td>008200 2013</td>\n",
              "      <td>Ward 6</td>\n",
              "      <td>785</td>\n",
              "      <td>-77.001244</td>\n",
              "      <td>38.891602</td>\n",
              "      <td>NE</td>\n",
              "    </tr>\n",
              "    <tr>\n",
              "      <th>11541</th>\n",
              "      <td>2</td>\n",
              "      <td>0</td>\n",
              "      <td>Hot Water Rad</td>\n",
              "      <td>0</td>\n",
              "      <td>2.0</td>\n",
              "      <td>10</td>\n",
              "      <td>4</td>\n",
              "      <td>1909.0</td>\n",
              "      <td>NaN</td>\n",
              "      <td>1963</td>\n",
              "      <td>2.0</td>\n",
              "      <td>1993-12-01 00:00:00</td>\n",
              "      <td>390000.0</td>\n",
              "      <td>Q</td>\n",
              "      <td>1</td>\n",
              "      <td>1920.0</td>\n",
              "      <td>2</td>\n",
              "      <td>2 Story</td>\n",
              "      <td>Row End</td>\n",
              "      <td>Very Good</td>\n",
              "      <td>Average</td>\n",
              "      <td>Common Brick</td>\n",
              "      <td>Metal- Sms</td>\n",
              "      <td>Hardwood</td>\n",
              "      <td>2.0</td>\n",
              "      <td>0</td>\n",
              "      <td>15</td>\n",
              "      <td>1970</td>\n",
              "      <td>2018-07-22 18:01:43</td>\n",
              "      <td>Residential</td>\n",
              "      <td>NaN</td>\n",
              "      <td>NaN</td>\n",
              "      <td>1101 EAST CAPITOL STREET SE</td>\n",
              "      <td>WASHINGTON</td>\n",
              "      <td>DC</td>\n",
              "      <td>20003.0</td>\n",
              "      <td>18S UJ 27290 06352</td>\n",
              "      <td>38.889072</td>\n",
              "      <td>-76.991340</td>\n",
              "      <td>Old City 1</td>\n",
              "      <td>039 M Old City 1</td>\n",
              "      <td>6700.0</td>\n",
              "      <td>006700 2003</td>\n",
              "      <td>Ward 6</td>\n",
              "      <td>989</td>\n",
              "      <td>-76.991040</td>\n",
              "      <td>38.888447</td>\n",
              "      <td>SE</td>\n",
              "    </tr>\n",
              "    <tr>\n",
              "      <th>...</th>\n",
              "      <td>...</td>\n",
              "      <td>...</td>\n",
              "      <td>...</td>\n",
              "      <td>...</td>\n",
              "      <td>...</td>\n",
              "      <td>...</td>\n",
              "      <td>...</td>\n",
              "      <td>...</td>\n",
              "      <td>...</td>\n",
              "      <td>...</td>\n",
              "      <td>...</td>\n",
              "      <td>...</td>\n",
              "      <td>...</td>\n",
              "      <td>...</td>\n",
              "      <td>...</td>\n",
              "      <td>...</td>\n",
              "      <td>...</td>\n",
              "      <td>...</td>\n",
              "      <td>...</td>\n",
              "      <td>...</td>\n",
              "      <td>...</td>\n",
              "      <td>...</td>\n",
              "      <td>...</td>\n",
              "      <td>...</td>\n",
              "      <td>...</td>\n",
              "      <td>...</td>\n",
              "      <td>...</td>\n",
              "      <td>...</td>\n",
              "      <td>...</td>\n",
              "      <td>...</td>\n",
              "      <td>...</td>\n",
              "      <td>...</td>\n",
              "      <td>...</td>\n",
              "      <td>...</td>\n",
              "      <td>...</td>\n",
              "      <td>...</td>\n",
              "      <td>...</td>\n",
              "      <td>...</td>\n",
              "      <td>...</td>\n",
              "      <td>...</td>\n",
              "      <td>...</td>\n",
              "      <td>...</td>\n",
              "      <td>...</td>\n",
              "      <td>...</td>\n",
              "      <td>...</td>\n",
              "      <td>...</td>\n",
              "      <td>...</td>\n",
              "      <td>...</td>\n",
              "    </tr>\n",
              "    <tr>\n",
              "      <th>145852</th>\n",
              "      <td>1</td>\n",
              "      <td>0</td>\n",
              "      <td>Ht Pump</td>\n",
              "      <td>0</td>\n",
              "      <td>NaN</td>\n",
              "      <td>3</td>\n",
              "      <td>1</td>\n",
              "      <td>1923.0</td>\n",
              "      <td>NaN</td>\n",
              "      <td>1923</td>\n",
              "      <td>NaN</td>\n",
              "      <td>2013-10-04 00:00:00</td>\n",
              "      <td>352000.0</td>\n",
              "      <td>Q</td>\n",
              "      <td>1</td>\n",
              "      <td>NaN</td>\n",
              "      <td>1</td>\n",
              "      <td>NaN</td>\n",
              "      <td>NaN</td>\n",
              "      <td>NaN</td>\n",
              "      <td>NaN</td>\n",
              "      <td>NaN</td>\n",
              "      <td>NaN</td>\n",
              "      <td>NaN</td>\n",
              "      <td>NaN</td>\n",
              "      <td>0</td>\n",
              "      <td>16</td>\n",
              "      <td>440</td>\n",
              "      <td>2018-07-22 18:01:38</td>\n",
              "      <td>Condominium</td>\n",
              "      <td>1413.0</td>\n",
              "      <td>519.0</td>\n",
              "      <td>NaN</td>\n",
              "      <td>NaN</td>\n",
              "      <td>NaN</td>\n",
              "      <td>20010.0</td>\n",
              "      <td>NaN</td>\n",
              "      <td>38.934324</td>\n",
              "      <td>-77.026928</td>\n",
              "      <td>Columbia Heights</td>\n",
              "      <td>015 D Columbia Heights</td>\n",
              "      <td>2900.0</td>\n",
              "      <td>NaN</td>\n",
              "      <td>Ward 1</td>\n",
              "      <td>2831</td>\n",
              "      <td>-77.026930</td>\n",
              "      <td>38.934332</td>\n",
              "      <td>NW</td>\n",
              "    </tr>\n",
              "    <tr>\n",
              "      <th>145853</th>\n",
              "      <td>1</td>\n",
              "      <td>0</td>\n",
              "      <td>Ht Pump</td>\n",
              "      <td>0</td>\n",
              "      <td>NaN</td>\n",
              "      <td>3</td>\n",
              "      <td>1</td>\n",
              "      <td>1923.0</td>\n",
              "      <td>NaN</td>\n",
              "      <td>1923</td>\n",
              "      <td>NaN</td>\n",
              "      <td>2013-10-22 00:00:00</td>\n",
              "      <td>324900.0</td>\n",
              "      <td>Q</td>\n",
              "      <td>1</td>\n",
              "      <td>NaN</td>\n",
              "      <td>1</td>\n",
              "      <td>NaN</td>\n",
              "      <td>NaN</td>\n",
              "      <td>NaN</td>\n",
              "      <td>NaN</td>\n",
              "      <td>NaN</td>\n",
              "      <td>NaN</td>\n",
              "      <td>NaN</td>\n",
              "      <td>NaN</td>\n",
              "      <td>0</td>\n",
              "      <td>16</td>\n",
              "      <td>402</td>\n",
              "      <td>2018-07-22 18:01:38</td>\n",
              "      <td>Condominium</td>\n",
              "      <td>1413.0</td>\n",
              "      <td>573.0</td>\n",
              "      <td>NaN</td>\n",
              "      <td>NaN</td>\n",
              "      <td>NaN</td>\n",
              "      <td>20010.0</td>\n",
              "      <td>NaN</td>\n",
              "      <td>38.934324</td>\n",
              "      <td>-77.026928</td>\n",
              "      <td>Columbia Heights</td>\n",
              "      <td>015 D Columbia Heights</td>\n",
              "      <td>2900.0</td>\n",
              "      <td>NaN</td>\n",
              "      <td>Ward 1</td>\n",
              "      <td>2831</td>\n",
              "      <td>-77.026930</td>\n",
              "      <td>38.934332</td>\n",
              "      <td>NW</td>\n",
              "    </tr>\n",
              "    <tr>\n",
              "      <th>145854</th>\n",
              "      <td>1</td>\n",
              "      <td>0</td>\n",
              "      <td>Ht Pump</td>\n",
              "      <td>0</td>\n",
              "      <td>NaN</td>\n",
              "      <td>2</td>\n",
              "      <td>0</td>\n",
              "      <td>1923.0</td>\n",
              "      <td>NaN</td>\n",
              "      <td>1923</td>\n",
              "      <td>NaN</td>\n",
              "      <td>2014-01-28 00:00:00</td>\n",
              "      <td>251400.0</td>\n",
              "      <td>Q</td>\n",
              "      <td>1</td>\n",
              "      <td>NaN</td>\n",
              "      <td>1</td>\n",
              "      <td>NaN</td>\n",
              "      <td>NaN</td>\n",
              "      <td>NaN</td>\n",
              "      <td>NaN</td>\n",
              "      <td>NaN</td>\n",
              "      <td>NaN</td>\n",
              "      <td>NaN</td>\n",
              "      <td>NaN</td>\n",
              "      <td>0</td>\n",
              "      <td>16</td>\n",
              "      <td>288</td>\n",
              "      <td>2018-07-22 18:01:38</td>\n",
              "      <td>Condominium</td>\n",
              "      <td>1413.0</td>\n",
              "      <td>373.0</td>\n",
              "      <td>NaN</td>\n",
              "      <td>NaN</td>\n",
              "      <td>NaN</td>\n",
              "      <td>20010.0</td>\n",
              "      <td>NaN</td>\n",
              "      <td>38.934324</td>\n",
              "      <td>-77.026928</td>\n",
              "      <td>Columbia Heights</td>\n",
              "      <td>015 D Columbia Heights</td>\n",
              "      <td>2900.0</td>\n",
              "      <td>NaN</td>\n",
              "      <td>Ward 1</td>\n",
              "      <td>2831</td>\n",
              "      <td>-77.026930</td>\n",
              "      <td>38.934332</td>\n",
              "      <td>NW</td>\n",
              "    </tr>\n",
              "    <tr>\n",
              "      <th>155006</th>\n",
              "      <td>0</td>\n",
              "      <td>0</td>\n",
              "      <td>No Data</td>\n",
              "      <td>0</td>\n",
              "      <td>NaN</td>\n",
              "      <td>1</td>\n",
              "      <td>0</td>\n",
              "      <td>1920.0</td>\n",
              "      <td>1983.0</td>\n",
              "      <td>1920</td>\n",
              "      <td>NaN</td>\n",
              "      <td>2018-05-16 00:00:00</td>\n",
              "      <td>318410.0</td>\n",
              "      <td>Q</td>\n",
              "      <td>6</td>\n",
              "      <td>NaN</td>\n",
              "      <td>1</td>\n",
              "      <td>NaN</td>\n",
              "      <td>NaN</td>\n",
              "      <td>NaN</td>\n",
              "      <td>NaN</td>\n",
              "      <td>NaN</td>\n",
              "      <td>NaN</td>\n",
              "      <td>NaN</td>\n",
              "      <td>NaN</td>\n",
              "      <td>0</td>\n",
              "      <td>16</td>\n",
              "      <td>934</td>\n",
              "      <td>2018-07-22 18:01:38</td>\n",
              "      <td>Condominium</td>\n",
              "      <td>2272.0</td>\n",
              "      <td>1219.0</td>\n",
              "      <td>NaN</td>\n",
              "      <td>NaN</td>\n",
              "      <td>NaN</td>\n",
              "      <td>20001.0</td>\n",
              "      <td>NaN</td>\n",
              "      <td>38.908945</td>\n",
              "      <td>-77.019206</td>\n",
              "      <td>Old City 2</td>\n",
              "      <td>040 B Old City 2</td>\n",
              "      <td>4801.0</td>\n",
              "      <td>NaN</td>\n",
              "      <td>Ward 6</td>\n",
              "      <td>479</td>\n",
              "      <td>-77.019208</td>\n",
              "      <td>38.908952</td>\n",
              "      <td>NW</td>\n",
              "    </tr>\n",
              "    <tr>\n",
              "      <th>155007</th>\n",
              "      <td>0</td>\n",
              "      <td>0</td>\n",
              "      <td>No Data</td>\n",
              "      <td>0</td>\n",
              "      <td>NaN</td>\n",
              "      <td>0</td>\n",
              "      <td>0</td>\n",
              "      <td>1920.0</td>\n",
              "      <td>1983.0</td>\n",
              "      <td>1920</td>\n",
              "      <td>NaN</td>\n",
              "      <td>2017-12-22 00:00:00</td>\n",
              "      <td>457500.0</td>\n",
              "      <td>Q</td>\n",
              "      <td>3</td>\n",
              "      <td>NaN</td>\n",
              "      <td>1</td>\n",
              "      <td>NaN</td>\n",
              "      <td>NaN</td>\n",
              "      <td>NaN</td>\n",
              "      <td>NaN</td>\n",
              "      <td>NaN</td>\n",
              "      <td>NaN</td>\n",
              "      <td>NaN</td>\n",
              "      <td>NaN</td>\n",
              "      <td>0</td>\n",
              "      <td>16</td>\n",
              "      <td>934</td>\n",
              "      <td>2018-07-22 18:01:38</td>\n",
              "      <td>Condominium</td>\n",
              "      <td>2272.0</td>\n",
              "      <td>1855.0</td>\n",
              "      <td>NaN</td>\n",
              "      <td>NaN</td>\n",
              "      <td>NaN</td>\n",
              "      <td>20001.0</td>\n",
              "      <td>NaN</td>\n",
              "      <td>38.908945</td>\n",
              "      <td>-77.019206</td>\n",
              "      <td>Old City 2</td>\n",
              "      <td>040 B Old City 2</td>\n",
              "      <td>4801.0</td>\n",
              "      <td>NaN</td>\n",
              "      <td>Ward 6</td>\n",
              "      <td>479</td>\n",
              "      <td>-77.019208</td>\n",
              "      <td>38.908952</td>\n",
              "      <td>NW</td>\n",
              "    </tr>\n",
              "  </tbody>\n",
              "</table>\n",
              "<p>65 rows × 48 columns</p>\n",
              "</div>"
            ],
            "text/plain": [
              "        BATHRM  HF_BATHRM           HEAT  ...          X          Y  QUADRANT\n",
              "3304         1          0  Hot Water Rad  ... -77.010025  38.873810        SW\n",
              "3305         1          0  Hot Water Rad  ... -77.010025  38.873810        SW\n",
              "6000         3          1  Hot Water Rad  ... -77.001088  38.898054        NE\n",
              "8465         2          1     Forced Air  ... -77.001244  38.891602        NE\n",
              "11541        2          0  Hot Water Rad  ... -76.991040  38.888447        SE\n",
              "...        ...        ...            ...  ...        ...        ...       ...\n",
              "145852       1          0        Ht Pump  ... -77.026930  38.934332        NW\n",
              "145853       1          0        Ht Pump  ... -77.026930  38.934332        NW\n",
              "145854       1          0        Ht Pump  ... -77.026930  38.934332        NW\n",
              "155006       0          0        No Data  ... -77.019208  38.908952        NW\n",
              "155007       0          0        No Data  ... -77.019208  38.908952        NW\n",
              "\n",
              "[65 rows x 48 columns]"
            ]
          },
          "execution_count": 15,
          "metadata": {
            "tags": []
          },
          "output_type": "execute_result"
        }
      ],
      "source": [
        "df[df.AC=='0']"
      ]
    },
    {
      "cell_type": "code",
      "execution_count": 16,
      "metadata": {
        "colab": {
          "base_uri": "https://localhost:8080/"
        },
        "id": "Sc6wF5FEaka7",
        "outputId": "697413b0-12d5-4ce7-d45c-cd3ba4442592"
      },
      "outputs": [
        {
          "data": {
            "text/plain": [
              "1.0    92491\n",
              "2.0     9864\n",
              "4.0     3059\n",
              "3.0     1101\n",
              "0.0      168\n",
              "5.0       10\n",
              "6.0        3\n",
              "Name: NUM_UNITS, dtype: int64"
            ]
          },
          "execution_count": 16,
          "metadata": {
            "tags": []
          },
          "output_type": "execute_result"
        }
      ],
      "source": [
        "df['NUM_UNITS'].value_counts()"
      ]
    },
    {
      "cell_type": "code",
      "execution_count": 17,
      "metadata": {
        "colab": {
          "base_uri": "https://localhost:8080/",
          "height": 762
        },
        "id": "NDRP5UAFbGot",
        "outputId": "822a7088-7841-4f38-e849-9cb0d6204530"
      },
      "outputs": [
        {
          "data": {
            "text/html": [
              "<div>\n",
              "<style scoped>\n",
              "    .dataframe tbody tr th:only-of-type {\n",
              "        vertical-align: middle;\n",
              "    }\n",
              "\n",
              "    .dataframe tbody tr th {\n",
              "        vertical-align: top;\n",
              "    }\n",
              "\n",
              "    .dataframe thead th {\n",
              "        text-align: right;\n",
              "    }\n",
              "</style>\n",
              "<table border=\"1\" class=\"dataframe\">\n",
              "  <thead>\n",
              "    <tr style=\"text-align: right;\">\n",
              "      <th></th>\n",
              "      <th>BATHRM</th>\n",
              "      <th>HF_BATHRM</th>\n",
              "      <th>HEAT</th>\n",
              "      <th>AC</th>\n",
              "      <th>NUM_UNITS</th>\n",
              "      <th>ROOMS</th>\n",
              "      <th>BEDRM</th>\n",
              "      <th>AYB</th>\n",
              "      <th>YR_RMDL</th>\n",
              "      <th>EYB</th>\n",
              "      <th>STORIES</th>\n",
              "      <th>SALEDATE</th>\n",
              "      <th>PRICE</th>\n",
              "      <th>QUALIFIED</th>\n",
              "      <th>SALE_NUM</th>\n",
              "      <th>GBA</th>\n",
              "      <th>BLDG_NUM</th>\n",
              "      <th>STYLE</th>\n",
              "      <th>STRUCT</th>\n",
              "      <th>GRADE</th>\n",
              "      <th>CNDTN</th>\n",
              "      <th>EXTWALL</th>\n",
              "      <th>ROOF</th>\n",
              "      <th>INTWALL</th>\n",
              "      <th>KITCHENS</th>\n",
              "      <th>FIREPLACES</th>\n",
              "      <th>USECODE</th>\n",
              "      <th>LANDAREA</th>\n",
              "      <th>GIS_LAST_MOD_DTTM</th>\n",
              "      <th>SOURCE</th>\n",
              "      <th>CMPLX_NUM</th>\n",
              "      <th>LIVING_GBA</th>\n",
              "      <th>FULLADDRESS</th>\n",
              "      <th>CITY</th>\n",
              "      <th>STATE</th>\n",
              "      <th>ZIPCODE</th>\n",
              "      <th>NATIONALGRID</th>\n",
              "      <th>LATITUDE</th>\n",
              "      <th>LONGITUDE</th>\n",
              "      <th>ASSESSMENT_NBHD</th>\n",
              "      <th>ASSESSMENT_SUBNBHD</th>\n",
              "      <th>CENSUS_TRACT</th>\n",
              "      <th>CENSUS_BLOCK</th>\n",
              "      <th>WARD</th>\n",
              "      <th>SQUARE</th>\n",
              "      <th>X</th>\n",
              "      <th>Y</th>\n",
              "      <th>QUADRANT</th>\n",
              "    </tr>\n",
              "  </thead>\n",
              "  <tbody>\n",
              "    <tr>\n",
              "      <th>980</th>\n",
              "      <td>1</td>\n",
              "      <td>1</td>\n",
              "      <td>Forced Air</td>\n",
              "      <td>Y</td>\n",
              "      <td>0.0</td>\n",
              "      <td>6</td>\n",
              "      <td>3</td>\n",
              "      <td>1912.0</td>\n",
              "      <td>NaN</td>\n",
              "      <td>1967</td>\n",
              "      <td>2.0</td>\n",
              "      <td>2006-12-22 00:00:00</td>\n",
              "      <td>NaN</td>\n",
              "      <td>U</td>\n",
              "      <td>1</td>\n",
              "      <td>1216.0</td>\n",
              "      <td>1</td>\n",
              "      <td>2 Story</td>\n",
              "      <td>Single</td>\n",
              "      <td>Above Average</td>\n",
              "      <td>Good</td>\n",
              "      <td>Common Brick</td>\n",
              "      <td>Built Up</td>\n",
              "      <td>Hardwood</td>\n",
              "      <td>1.0</td>\n",
              "      <td>0</td>\n",
              "      <td>11</td>\n",
              "      <td>600</td>\n",
              "      <td>2018-07-22 18:01:43</td>\n",
              "      <td>Residential</td>\n",
              "      <td>NaN</td>\n",
              "      <td>NaN</td>\n",
              "      <td>2153 NEWPORT PLACE NW</td>\n",
              "      <td>WASHINGTON</td>\n",
              "      <td>DC</td>\n",
              "      <td>20037.0</td>\n",
              "      <td>18S UJ 22370 08565</td>\n",
              "      <td>38.908027</td>\n",
              "      <td>-77.048610</td>\n",
              "      <td>Central-tri 1</td>\n",
              "      <td>NaN</td>\n",
              "      <td>5500.0</td>\n",
              "      <td>005500 4001</td>\n",
              "      <td>Ward 2</td>\n",
              "      <td>69</td>\n",
              "      <td>-77.047778</td>\n",
              "      <td>38.907803</td>\n",
              "      <td>NW</td>\n",
              "    </tr>\n",
              "    <tr>\n",
              "      <th>1883</th>\n",
              "      <td>3</td>\n",
              "      <td>0</td>\n",
              "      <td>Forced Air</td>\n",
              "      <td>Y</td>\n",
              "      <td>0.0</td>\n",
              "      <td>9</td>\n",
              "      <td>5</td>\n",
              "      <td>2014.0</td>\n",
              "      <td>NaN</td>\n",
              "      <td>2015</td>\n",
              "      <td>3.0</td>\n",
              "      <td>2018-05-31 00:00:00</td>\n",
              "      <td>NaN</td>\n",
              "      <td>U</td>\n",
              "      <td>5</td>\n",
              "      <td>3540.0</td>\n",
              "      <td>1</td>\n",
              "      <td>3 Story</td>\n",
              "      <td>Row Inside</td>\n",
              "      <td>Good Quality</td>\n",
              "      <td>Good</td>\n",
              "      <td>Common Brick</td>\n",
              "      <td>Built Up</td>\n",
              "      <td>Default</td>\n",
              "      <td>1.0</td>\n",
              "      <td>0</td>\n",
              "      <td>11</td>\n",
              "      <td>1584</td>\n",
              "      <td>2018-07-22 18:01:43</td>\n",
              "      <td>Residential</td>\n",
              "      <td>NaN</td>\n",
              "      <td>NaN</td>\n",
              "      <td>1717 4TH STREET NW</td>\n",
              "      <td>WASHINGTON</td>\n",
              "      <td>DC</td>\n",
              "      <td>20001.0</td>\n",
              "      <td>18S UJ 25216 09076</td>\n",
              "      <td>38.913202</td>\n",
              "      <td>-77.015936</td>\n",
              "      <td>Old City 2</td>\n",
              "      <td>040 A Old City 2</td>\n",
              "      <td>4600.0</td>\n",
              "      <td>004600 2002</td>\n",
              "      <td>Ward 5</td>\n",
              "      <td>519</td>\n",
              "      <td>-77.015750</td>\n",
              "      <td>38.913114</td>\n",
              "      <td>NW</td>\n",
              "    </tr>\n",
              "    <tr>\n",
              "      <th>2388</th>\n",
              "      <td>2</td>\n",
              "      <td>0</td>\n",
              "      <td>Hot Water Rad</td>\n",
              "      <td>N</td>\n",
              "      <td>0.0</td>\n",
              "      <td>8</td>\n",
              "      <td>3</td>\n",
              "      <td>1880.0</td>\n",
              "      <td>NaN</td>\n",
              "      <td>1961</td>\n",
              "      <td>2.0</td>\n",
              "      <td>2016-03-18 00:00:00</td>\n",
              "      <td>NaN</td>\n",
              "      <td>U</td>\n",
              "      <td>3</td>\n",
              "      <td>1138.0</td>\n",
              "      <td>1</td>\n",
              "      <td>2 Story</td>\n",
              "      <td>Row Inside</td>\n",
              "      <td>Average</td>\n",
              "      <td>Good</td>\n",
              "      <td>Vinyl Siding</td>\n",
              "      <td>Built Up</td>\n",
              "      <td>Hardwood</td>\n",
              "      <td>1.0</td>\n",
              "      <td>0</td>\n",
              "      <td>11</td>\n",
              "      <td>1516</td>\n",
              "      <td>2018-07-22 18:01:43</td>\n",
              "      <td>Residential</td>\n",
              "      <td>NaN</td>\n",
              "      <td>NaN</td>\n",
              "      <td>1826 18TH STREET NW</td>\n",
              "      <td>WASHINGTON</td>\n",
              "      <td>DC</td>\n",
              "      <td>20009.0</td>\n",
              "      <td>18S UJ 22969 09323</td>\n",
              "      <td>38.914974</td>\n",
              "      <td>-77.041902</td>\n",
              "      <td>Old City 2</td>\n",
              "      <td>040 D Old City 2</td>\n",
              "      <td>4202.0</td>\n",
              "      <td>004202 2001</td>\n",
              "      <td>Ward 2</td>\n",
              "      <td>132</td>\n",
              "      <td>-77.042503</td>\n",
              "      <td>38.914980</td>\n",
              "      <td>NW</td>\n",
              "    </tr>\n",
              "    <tr>\n",
              "      <th>3814</th>\n",
              "      <td>2</td>\n",
              "      <td>1</td>\n",
              "      <td>Hot Water Rad</td>\n",
              "      <td>N</td>\n",
              "      <td>0.0</td>\n",
              "      <td>7</td>\n",
              "      <td>4</td>\n",
              "      <td>1890.0</td>\n",
              "      <td>NaN</td>\n",
              "      <td>1969</td>\n",
              "      <td>3.0</td>\n",
              "      <td>NaN</td>\n",
              "      <td>NaN</td>\n",
              "      <td>U</td>\n",
              "      <td>1</td>\n",
              "      <td>3124.0</td>\n",
              "      <td>1</td>\n",
              "      <td>3 Story</td>\n",
              "      <td>Row Inside</td>\n",
              "      <td>Good Quality</td>\n",
              "      <td>Average</td>\n",
              "      <td>Common Brick</td>\n",
              "      <td>Metal- Pre</td>\n",
              "      <td>Hardwood</td>\n",
              "      <td>1.0</td>\n",
              "      <td>0</td>\n",
              "      <td>11</td>\n",
              "      <td>2325</td>\n",
              "      <td>2018-07-22 18:01:43</td>\n",
              "      <td>Residential</td>\n",
              "      <td>NaN</td>\n",
              "      <td>NaN</td>\n",
              "      <td>718 3RD STREET NE</td>\n",
              "      <td>WASHINGTON</td>\n",
              "      <td>DC</td>\n",
              "      <td>20002.0</td>\n",
              "      <td>18S UJ 26367 07531</td>\n",
              "      <td>38.899512</td>\n",
              "      <td>-77.002277</td>\n",
              "      <td>Old City 1</td>\n",
              "      <td>039 J Old City 1</td>\n",
              "      <td>8301.0</td>\n",
              "      <td>008301 1003</td>\n",
              "      <td>Ward 6</td>\n",
              "      <td>752</td>\n",
              "      <td>-77.002648</td>\n",
              "      <td>38.899249</td>\n",
              "      <td>NE</td>\n",
              "    </tr>\n",
              "    <tr>\n",
              "      <th>5779</th>\n",
              "      <td>2</td>\n",
              "      <td>1</td>\n",
              "      <td>Warm Cool</td>\n",
              "      <td>Y</td>\n",
              "      <td>0.0</td>\n",
              "      <td>6</td>\n",
              "      <td>2</td>\n",
              "      <td>1988.0</td>\n",
              "      <td>NaN</td>\n",
              "      <td>1994</td>\n",
              "      <td>2.0</td>\n",
              "      <td>NaN</td>\n",
              "      <td>NaN</td>\n",
              "      <td>U</td>\n",
              "      <td>1</td>\n",
              "      <td>1020.0</td>\n",
              "      <td>1</td>\n",
              "      <td>2 Story</td>\n",
              "      <td>Row Inside</td>\n",
              "      <td>Above Average</td>\n",
              "      <td>Average</td>\n",
              "      <td>Common Brick</td>\n",
              "      <td>Shingle</td>\n",
              "      <td>Wood Floor</td>\n",
              "      <td>1.0</td>\n",
              "      <td>0</td>\n",
              "      <td>11</td>\n",
              "      <td>1099</td>\n",
              "      <td>2018-07-22 18:01:43</td>\n",
              "      <td>Residential</td>\n",
              "      <td>NaN</td>\n",
              "      <td>NaN</td>\n",
              "      <td>733 3RD STREET NE</td>\n",
              "      <td>WASHINGTON</td>\n",
              "      <td>DC</td>\n",
              "      <td>20002.0</td>\n",
              "      <td>18S UJ 26441 07540</td>\n",
              "      <td>38.899603</td>\n",
              "      <td>-77.001426</td>\n",
              "      <td>Old City 1</td>\n",
              "      <td>039 J Old City 1</td>\n",
              "      <td>8301.0</td>\n",
              "      <td>008301 1002</td>\n",
              "      <td>Ward 6</td>\n",
              "      <td>777</td>\n",
              "      <td>-77.001216</td>\n",
              "      <td>38.899468</td>\n",
              "      <td>NE</td>\n",
              "    </tr>\n",
              "    <tr>\n",
              "      <th>...</th>\n",
              "      <td>...</td>\n",
              "      <td>...</td>\n",
              "      <td>...</td>\n",
              "      <td>...</td>\n",
              "      <td>...</td>\n",
              "      <td>...</td>\n",
              "      <td>...</td>\n",
              "      <td>...</td>\n",
              "      <td>...</td>\n",
              "      <td>...</td>\n",
              "      <td>...</td>\n",
              "      <td>...</td>\n",
              "      <td>...</td>\n",
              "      <td>...</td>\n",
              "      <td>...</td>\n",
              "      <td>...</td>\n",
              "      <td>...</td>\n",
              "      <td>...</td>\n",
              "      <td>...</td>\n",
              "      <td>...</td>\n",
              "      <td>...</td>\n",
              "      <td>...</td>\n",
              "      <td>...</td>\n",
              "      <td>...</td>\n",
              "      <td>...</td>\n",
              "      <td>...</td>\n",
              "      <td>...</td>\n",
              "      <td>...</td>\n",
              "      <td>...</td>\n",
              "      <td>...</td>\n",
              "      <td>...</td>\n",
              "      <td>...</td>\n",
              "      <td>...</td>\n",
              "      <td>...</td>\n",
              "      <td>...</td>\n",
              "      <td>...</td>\n",
              "      <td>...</td>\n",
              "      <td>...</td>\n",
              "      <td>...</td>\n",
              "      <td>...</td>\n",
              "      <td>...</td>\n",
              "      <td>...</td>\n",
              "      <td>...</td>\n",
              "      <td>...</td>\n",
              "      <td>...</td>\n",
              "      <td>...</td>\n",
              "      <td>...</td>\n",
              "      <td>...</td>\n",
              "    </tr>\n",
              "    <tr>\n",
              "      <th>102170</th>\n",
              "      <td>2</td>\n",
              "      <td>1</td>\n",
              "      <td>Warm Cool</td>\n",
              "      <td>Y</td>\n",
              "      <td>0.0</td>\n",
              "      <td>8</td>\n",
              "      <td>3</td>\n",
              "      <td>2005.0</td>\n",
              "      <td>NaN</td>\n",
              "      <td>2009</td>\n",
              "      <td>2.0</td>\n",
              "      <td>2005-07-21 00:00:00</td>\n",
              "      <td>NaN</td>\n",
              "      <td>U</td>\n",
              "      <td>1</td>\n",
              "      <td>1360.0</td>\n",
              "      <td>1</td>\n",
              "      <td>2 Story</td>\n",
              "      <td>Row Inside</td>\n",
              "      <td>Above Average</td>\n",
              "      <td>Good</td>\n",
              "      <td>Brick/Siding</td>\n",
              "      <td>Comp Shingle</td>\n",
              "      <td>Carpet</td>\n",
              "      <td>1.0</td>\n",
              "      <td>0</td>\n",
              "      <td>11</td>\n",
              "      <td>1989</td>\n",
              "      <td>2018-07-22 18:01:43</td>\n",
              "      <td>Residential</td>\n",
              "      <td>NaN</td>\n",
              "      <td>NaN</td>\n",
              "      <td>1827 TUBMAN ROAD SE</td>\n",
              "      <td>WASHINGTON</td>\n",
              "      <td>DC</td>\n",
              "      <td>20020.0</td>\n",
              "      <td>18S UJ 28286 01866</td>\n",
              "      <td>38.848869</td>\n",
              "      <td>-76.978739</td>\n",
              "      <td>Randle Heights</td>\n",
              "      <td>043 D Randle Heights</td>\n",
              "      <td>7404.0</td>\n",
              "      <td>007404 1009</td>\n",
              "      <td>Ward 8</td>\n",
              "      <td>5882</td>\n",
              "      <td>-76.977558</td>\n",
              "      <td>38.849969</td>\n",
              "      <td>SE</td>\n",
              "    </tr>\n",
              "    <tr>\n",
              "      <th>102659</th>\n",
              "      <td>1</td>\n",
              "      <td>0</td>\n",
              "      <td>Forced Air</td>\n",
              "      <td>Y</td>\n",
              "      <td>0.0</td>\n",
              "      <td>5</td>\n",
              "      <td>3</td>\n",
              "      <td>1997.0</td>\n",
              "      <td>2011.0</td>\n",
              "      <td>2004</td>\n",
              "      <td>2.0</td>\n",
              "      <td>2012-01-09 00:00:00</td>\n",
              "      <td>175000.0</td>\n",
              "      <td>Q</td>\n",
              "      <td>1</td>\n",
              "      <td>1224.0</td>\n",
              "      <td>1</td>\n",
              "      <td>2 Story</td>\n",
              "      <td>Row Inside</td>\n",
              "      <td>Above Average</td>\n",
              "      <td>Good</td>\n",
              "      <td>Vinyl Siding</td>\n",
              "      <td>Comp Shingle</td>\n",
              "      <td>Hardwood/Carp</td>\n",
              "      <td>1.0</td>\n",
              "      <td>0</td>\n",
              "      <td>11</td>\n",
              "      <td>1800</td>\n",
              "      <td>2018-07-22 18:01:43</td>\n",
              "      <td>Residential</td>\n",
              "      <td>NaN</td>\n",
              "      <td>NaN</td>\n",
              "      <td>2484 SKYLAND PLACE SE</td>\n",
              "      <td>WASHINGTON</td>\n",
              "      <td>DC</td>\n",
              "      <td>20020.0</td>\n",
              "      <td>18S UJ 28714 03085</td>\n",
              "      <td>38.859938</td>\n",
              "      <td>-76.974126</td>\n",
              "      <td>Randle Heights</td>\n",
              "      <td>043 B Randle Heights</td>\n",
              "      <td>7504.0</td>\n",
              "      <td>007504 1006</td>\n",
              "      <td>Ward 8</td>\n",
              "      <td>5740</td>\n",
              "      <td>-76.972908</td>\n",
              "      <td>38.859808</td>\n",
              "      <td>SE</td>\n",
              "    </tr>\n",
              "    <tr>\n",
              "      <th>102691</th>\n",
              "      <td>0</td>\n",
              "      <td>0</td>\n",
              "      <td>No Data</td>\n",
              "      <td>0</td>\n",
              "      <td>0.0</td>\n",
              "      <td>0</td>\n",
              "      <td>0</td>\n",
              "      <td>NaN</td>\n",
              "      <td>NaN</td>\n",
              "      <td>1943</td>\n",
              "      <td>0.0</td>\n",
              "      <td>NaN</td>\n",
              "      <td>NaN</td>\n",
              "      <td>U</td>\n",
              "      <td>1</td>\n",
              "      <td>5082.0</td>\n",
              "      <td>1</td>\n",
              "      <td>Default</td>\n",
              "      <td>Default</td>\n",
              "      <td>No Data</td>\n",
              "      <td>Default</td>\n",
              "      <td>Default</td>\n",
              "      <td>Typical</td>\n",
              "      <td>Default</td>\n",
              "      <td>0.0</td>\n",
              "      <td>0</td>\n",
              "      <td>19</td>\n",
              "      <td>89720</td>\n",
              "      <td>2018-07-22 18:01:43</td>\n",
              "      <td>Residential</td>\n",
              "      <td>NaN</td>\n",
              "      <td>NaN</td>\n",
              "      <td>2118 RIDGECREST COURT SE</td>\n",
              "      <td>WASHINGTON</td>\n",
              "      <td>DC</td>\n",
              "      <td>20020.0</td>\n",
              "      <td>18S UJ 28822 01856</td>\n",
              "      <td>38.848884</td>\n",
              "      <td>-76.972566</td>\n",
              "      <td>Randle Heights</td>\n",
              "      <td>043 C Randle Heights</td>\n",
              "      <td>7403.0</td>\n",
              "      <td>007403 1002</td>\n",
              "      <td>Ward 8</td>\n",
              "      <td>5894</td>\n",
              "      <td>-76.973811</td>\n",
              "      <td>38.848368</td>\n",
              "      <td>SE</td>\n",
              "    </tr>\n",
              "    <tr>\n",
              "      <th>104206</th>\n",
              "      <td>0</td>\n",
              "      <td>0</td>\n",
              "      <td>No Data</td>\n",
              "      <td>0</td>\n",
              "      <td>0.0</td>\n",
              "      <td>0</td>\n",
              "      <td>0</td>\n",
              "      <td>2004.0</td>\n",
              "      <td>NaN</td>\n",
              "      <td>2004</td>\n",
              "      <td>0.0</td>\n",
              "      <td>2018-04-13 00:00:00</td>\n",
              "      <td>25000000.0</td>\n",
              "      <td>U</td>\n",
              "      <td>4</td>\n",
              "      <td>2000.0</td>\n",
              "      <td>1</td>\n",
              "      <td>1 Story</td>\n",
              "      <td>Default</td>\n",
              "      <td>No Data</td>\n",
              "      <td>Default</td>\n",
              "      <td>Default</td>\n",
              "      <td>Typical</td>\n",
              "      <td>Default</td>\n",
              "      <td>0.0</td>\n",
              "      <td>0</td>\n",
              "      <td>19</td>\n",
              "      <td>21017</td>\n",
              "      <td>2018-07-22 18:01:43</td>\n",
              "      <td>Residential</td>\n",
              "      <td>NaN</td>\n",
              "      <td>NaN</td>\n",
              "      <td>4242 7TH STREET SE</td>\n",
              "      <td>WASHINGTON</td>\n",
              "      <td>DC</td>\n",
              "      <td>20032.0</td>\n",
              "      <td>18S UH 26720 99647</td>\n",
              "      <td>38.828575</td>\n",
              "      <td>-76.996221</td>\n",
              "      <td>Congress Heights</td>\n",
              "      <td>016 C Congress Heights</td>\n",
              "      <td>9811.0</td>\n",
              "      <td>009811 2001</td>\n",
              "      <td>Ward 8</td>\n",
              "      <td>6208</td>\n",
              "      <td>-76.997729</td>\n",
              "      <td>38.827709</td>\n",
              "      <td>SE</td>\n",
              "    </tr>\n",
              "    <tr>\n",
              "      <th>105661</th>\n",
              "      <td>2</td>\n",
              "      <td>0</td>\n",
              "      <td>Warm Cool</td>\n",
              "      <td>Y</td>\n",
              "      <td>0.0</td>\n",
              "      <td>5</td>\n",
              "      <td>0</td>\n",
              "      <td>2002.0</td>\n",
              "      <td>NaN</td>\n",
              "      <td>2005</td>\n",
              "      <td>1.0</td>\n",
              "      <td>2005-04-29 00:00:00</td>\n",
              "      <td>91950.0</td>\n",
              "      <td>U</td>\n",
              "      <td>1</td>\n",
              "      <td>1808.0</td>\n",
              "      <td>1</td>\n",
              "      <td>1 Story</td>\n",
              "      <td>Single</td>\n",
              "      <td>Above Average</td>\n",
              "      <td>Good</td>\n",
              "      <td>Brick/Siding</td>\n",
              "      <td>Comp Shingle</td>\n",
              "      <td>Vinyl Comp</td>\n",
              "      <td>1.0</td>\n",
              "      <td>0</td>\n",
              "      <td>19</td>\n",
              "      <td>187301</td>\n",
              "      <td>2018-07-22 18:01:43</td>\n",
              "      <td>Residential</td>\n",
              "      <td>NaN</td>\n",
              "      <td>NaN</td>\n",
              "      <td>828 BELLEVUE STREET SE</td>\n",
              "      <td>WASHINGTON</td>\n",
              "      <td>DC</td>\n",
              "      <td>20032.0</td>\n",
              "      <td>18S UH 27158 99865</td>\n",
              "      <td>38.830623</td>\n",
              "      <td>-76.991235</td>\n",
              "      <td>Congress Heights</td>\n",
              "      <td>016 C Congress Heights</td>\n",
              "      <td>9700.0</td>\n",
              "      <td>009700 2000</td>\n",
              "      <td>Ward 8</td>\n",
              "      <td>6159</td>\n",
              "      <td>-76.991855</td>\n",
              "      <td>38.830364</td>\n",
              "      <td>SE</td>\n",
              "    </tr>\n",
              "  </tbody>\n",
              "</table>\n",
              "<p>168 rows × 48 columns</p>\n",
              "</div>"
            ],
            "text/plain": [
              "        BATHRM  HF_BATHRM           HEAT  ...          X          Y  QUADRANT\n",
              "980          1          1     Forced Air  ... -77.047778  38.907803        NW\n",
              "1883         3          0     Forced Air  ... -77.015750  38.913114        NW\n",
              "2388         2          0  Hot Water Rad  ... -77.042503  38.914980        NW\n",
              "3814         2          1  Hot Water Rad  ... -77.002648  38.899249        NE\n",
              "5779         2          1      Warm Cool  ... -77.001216  38.899468        NE\n",
              "...        ...        ...            ...  ...        ...        ...       ...\n",
              "102170       2          1      Warm Cool  ... -76.977558  38.849969        SE\n",
              "102659       1          0     Forced Air  ... -76.972908  38.859808        SE\n",
              "102691       0          0        No Data  ... -76.973811  38.848368        SE\n",
              "104206       0          0        No Data  ... -76.997729  38.827709        SE\n",
              "105661       2          0      Warm Cool  ... -76.991855  38.830364        SE\n",
              "\n",
              "[168 rows x 48 columns]"
            ]
          },
          "execution_count": 17,
          "metadata": {
            "tags": []
          },
          "output_type": "execute_result"
        }
      ],
      "source": [
        "df[df['NUM_UNITS']==0]"
      ]
    },
    {
      "cell_type": "code",
      "execution_count": 18,
      "metadata": {
        "colab": {
          "base_uri": "https://localhost:8080/"
        },
        "id": "osXX2CzGbfq7",
        "outputId": "9ed7f1ff-ba74-4f74-e231-01b04a04d172"
      },
      "outputs": [
        {
          "data": {
            "text/plain": [
              "6     37259\n",
              "7     22338\n",
              "4     20593\n",
              "3     17759\n",
              "5     16852\n",
              "8     16327\n",
              "9      7616\n",
              "10     5909\n",
              "2      5294\n",
              "12     2929\n",
              "11     2364\n",
              "16     1346\n",
              "13      766\n",
              "14      595\n",
              "15      310\n",
              "20      148\n",
              "0       138\n",
              "18      124\n",
              "1        96\n",
              "17       77\n",
              "19       41\n",
              "21       20\n",
              "22       10\n",
              "23       10\n",
              "24       10\n",
              "25        6\n",
              "28        5\n",
              "27        2\n",
              "39        2\n",
              "41        1\n",
              "34        1\n",
              "40        1\n",
              "37        1\n",
              "35        1\n",
              "29        1\n",
              "32        1\n",
              "31        1\n",
              "30        1\n",
              "26        1\n",
              "48        1\n",
              "Name: ROOMS, dtype: int64"
            ]
          },
          "execution_count": 18,
          "metadata": {
            "tags": []
          },
          "output_type": "execute_result"
        }
      ],
      "source": [
        "df['ROOMS'].value_counts()"
      ]
    },
    {
      "cell_type": "code",
      "execution_count": 19,
      "metadata": {
        "colab": {
          "base_uri": "https://localhost:8080/"
        },
        "id": "W1ZO5fRtb_b7",
        "outputId": "d19bb5f3-c523-40a2-d8e2-3d00c40f75b4"
      },
      "outputs": [
        {
          "data": {
            "text/plain": [
              "3     57864\n",
              "2     34946\n",
              "4     24893\n",
              "1     24181\n",
              "5      6898\n",
              "0      5297\n",
              "6      3090\n",
              "8       792\n",
              "7       750\n",
              "9       123\n",
              "10       62\n",
              "12       34\n",
              "11       13\n",
              "13        4\n",
              "15        3\n",
              "14        2\n",
              "16        2\n",
              "20        1\n",
              "19        1\n",
              "24        1\n",
              "Name: BEDRM, dtype: int64"
            ]
          },
          "execution_count": 19,
          "metadata": {
            "tags": []
          },
          "output_type": "execute_result"
        }
      ],
      "source": [
        "df['BEDRM'].value_counts()"
      ]
    },
    {
      "cell_type": "code",
      "execution_count": 20,
      "metadata": {
        "colab": {
          "base_uri": "https://localhost:8080/"
        },
        "id": "IOyGxisKcIGc",
        "outputId": "30922110-4f36-4dcb-fa5e-1f43cc0f2f71"
      },
      "outputs": [
        {
          "data": {
            "text/plain": [
              "1900.0    8967\n",
              "1925.0    5129\n",
              "1910.0    4563\n",
              "1940.0    4316\n",
              "1923.0    3724\n",
              "          ... \n",
              "1844.0       1\n",
              "1842.0       1\n",
              "1841.0       1\n",
              "1806.0       1\n",
              "2019.0       1\n",
              "Name: AYB, Length: 220, dtype: int64"
            ]
          },
          "execution_count": 20,
          "metadata": {
            "tags": []
          },
          "output_type": "execute_result"
        }
      ],
      "source": [
        "df['AYB'].value_counts()"
      ]
    },
    {
      "cell_type": "code",
      "execution_count": 150,
      "metadata": {},
      "outputs": [
        {
          "data": {
            "image/png": "[encoded data removed]",
            "image/svg+xml": "<?xml version=\"1.0\" encoding=\"utf-8\" standalone=\"no\"?>\n<!DOCTYPE svg PUBLIC \"-//W3C//DTD SVG 1.1//EN\"\n  \"http://www.w3.org/Graphics/SVG/1.1/DTD/svg11.dtd\">\n<svg height=\"1157.26875pt\" version=\"1.1\" viewBox=\"0 0 1735.562642 1157.26875\" width=\"1735.562642pt\" xmlns=\"http://www.w3.org/2000/svg\" xmlns:xlink=\"http://www.w3.org/1999/xlink\">\n <metadata>\n  <rdf:RDF xmlns:cc=\"http://creativecommons.org/ns#\" xmlns:dc=\"http://purl.org/dc/elements/1.1/\" xmlns:rdf=\"http://www.w3.org/1999/02/22-rdf-syntax-ns#\">\n   <cc:Work>\n    <dc:type rdf:resource=\"http://purl.org/dc/dcmitype/StillImage\"/>\n    <dc:date>2021-07-08T19:58:15.991003</dc:date>\n    <dc:format>image/svg+xml</dc:format>\n    <dc:creator>\n     <cc:Agent>\n      <dc:title>Matplotlib v3.4.0, https://matplotlib.org/</dc:title>\n     </cc:Agent>\n    </dc:creator>\n   </cc:Work>\n  </rdf:RDF>\n </metadata>\n <defs>\n  <style type=\"text/css\">*{stroke-linecap:butt;stroke-linejoin:round;}</style>\n </defs>\n <g id=\"figure_1\">\n  <g id=\"patch_1\">\n   <path d=\"M 0 1157.26875 \nL 1735.562642 1157.26875 \nL 1735.562642 0 \nL 0 0 \nz\n\" style=\"fill:none;\"/>\n  </g>\n  <g id=\"axes_1\">\n   <g id=\"patch_2\">\n    <path d=\"M 53.328125 1094.4 \nL 1727.328125 1094.4 \nL 1727.328125 7.2 \nL 53.328125 7.2 \nz\n\" style=\"fill:#ffffff;\"/>\n   </g>\n   <g id=\"patch_3\">\n    <path clip-path=\"url(#pe814c10910)\" d=\"M 54.089034 1094.4 \nL 60.176307 1094.4 \nL 60.176307 1094.169058 \nL 54.089034 1094.169058 \nz\n\" style=\"fill:#ea96a3;\"/>\n   </g>\n   <g id=\"patch_4\">\n    <path clip-path=\"url(#pe814c10910)\" d=\"M 61.698125 1094.4 \nL 67.785398 1094.4 \nL 67.785398 1094.284529 \nL 61.698125 1094.284529 \nz\n\" style=\"fill:#ea96a1;\"/>\n   </g>\n   <g id=\"patch_5\">\n    <path clip-path=\"url(#pe814c10910)\" d=\"M 69.307216 1094.4 \nL 75.394489 1094.4 \nL 75.394489 1094.053587 \nL 69.307216 1094.053587 \nz\n\" style=\"fill:#ea969f;\"/>\n   </g>\n   <g id=\"patch_6\">\n    <path clip-path=\"url(#pe814c10910)\" d=\"M 76.916307 1094.4 \nL 83.00358 1094.4 \nL 83.00358 1093.938116 \nL 76.916307 1093.938116 \nz\n\" style=\"fill:#ea979d;\"/>\n   </g>\n   <g id=\"patch_7\">\n    <path clip-path=\"url(#pe814c10910)\" d=\"M 84.525398 1094.4 \nL 90.61267 1094.4 \nL 90.61267 1094.284529 \nL 84.525398 1094.284529 \nz\n\" style=\"fill:#ea979a;\"/>\n   </g>\n   <g id=\"patch_8\">\n    <path clip-path=\"url(#pe814c10910)\" d=\"M 92.134489 1094.4 \nL 98.221761 1094.4 \nL 98.221761 1094.284529 \nL 92.134489 1094.284529 \nz\n\" style=\"fill:#ea9798;\"/>\n   </g>\n   <g id=\"patch_9\">\n    <path clip-path=\"url(#pe814c10910)\" d=\"M 99.74358 1094.4 \nL 105.830852 1094.4 \nL 105.830852 1094.284529 \nL 99.74358 1094.284529 \nz\n\" style=\"fill:#ea9795;\"/>\n   </g>\n   <g id=\"patch_10\">\n    <path clip-path=\"url(#pe814c10910)\" d=\"M 107.35267 1094.4 \nL 113.439943 1094.4 \nL 113.439943 1094.284529 \nL 107.35267 1094.284529 \nz\n\" style=\"fill:#e99792;\"/>\n   </g>\n   <g id=\"patch_11\">\n    <path clip-path=\"url(#pe814c10910)\" d=\"M 114.961761 1094.4 \nL 121.049034 1094.4 \nL 121.049034 1094.284529 \nL 114.961761 1094.284529 \nz\n\" style=\"fill:#e9978e;\"/>\n   </g>\n   <g id=\"patch_12\">\n    <path clip-path=\"url(#pe814c10910)\" d=\"M 122.570852 1094.4 \nL 128.658125 1094.4 \nL 128.658125 1094.053587 \nL 122.570852 1094.053587 \nz\n\" style=\"fill:#e8968b;\"/>\n   </g>\n   <g id=\"patch_13\">\n    <path clip-path=\"url(#pe814c10910)\" d=\"M 130.179943 1094.4 \nL 136.267216 1094.4 \nL 136.267216 1094.284529 \nL 130.179943 1094.284529 \nz\n\" style=\"fill:#e89687;\"/>\n   </g>\n   <g id=\"patch_14\">\n    <path clip-path=\"url(#pe814c10910)\" d=\"M 137.789034 1094.4 \nL 143.876307 1094.4 \nL 143.876307 1094.284529 \nL 137.789034 1094.284529 \nz\n\" style=\"fill:#e79683;\"/>\n   </g>\n   <g id=\"patch_15\">\n    <path clip-path=\"url(#pe814c10910)\" d=\"M 145.398125 1094.4 \nL 151.485398 1094.4 \nL 151.485398 1093.938116 \nL 145.398125 1093.938116 \nz\n\" style=\"fill:#e7957f;\"/>\n   </g>\n   <g id=\"patch_16\">\n    <path clip-path=\"url(#pe814c10910)\" d=\"M 153.007216 1094.4 \nL 159.094489 1094.4 \nL 159.094489 1094.284529 \nL 153.007216 1094.284529 \nz\n\" style=\"fill:#e6957a;\"/>\n   </g>\n   <g id=\"patch_17\">\n    <path clip-path=\"url(#pe814c10910)\" d=\"M 160.616307 1094.4 \nL 166.70358 1094.4 \nL 166.70358 1094.169058 \nL 160.616307 1094.169058 \nz\n\" style=\"fill:#e59574;\"/>\n   </g>\n   <g id=\"patch_18\">\n    <path clip-path=\"url(#pe814c10910)\" d=\"M 168.225398 1094.4 \nL 174.31267 1094.4 \nL 174.31267 1094.284529 \nL 168.225398 1094.284529 \nz\n\" style=\"fill:#e5946f;\"/>\n   </g>\n   <g id=\"patch_19\">\n    <path clip-path=\"url(#pe814c10910)\" d=\"M 175.834489 1094.4 \nL 181.921761 1094.4 \nL 181.921761 1094.284529 \nL 175.834489 1094.284529 \nz\n\" style=\"fill:#e49368;\"/>\n   </g>\n   <g id=\"patch_20\">\n    <path clip-path=\"url(#pe814c10910)\" d=\"M 183.44358 1094.4 \nL 189.530852 1094.4 \nL 189.530852 1089.319275 \nL 183.44358 1089.319275 \nz\n\" style=\"fill:#e39360;\"/>\n   </g>\n   <g id=\"patch_21\">\n    <path clip-path=\"url(#pe814c10910)\" d=\"M 191.05267 1094.4 \nL 197.139943 1094.4 \nL 197.139943 1093.938116 \nL 191.05267 1093.938116 \nz\n\" style=\"fill:#e19256;\"/>\n   </g>\n   <g id=\"patch_22\">\n    <path clip-path=\"url(#pe814c10910)\" d=\"M 198.661761 1094.4 \nL 204.749034 1094.4 \nL 204.749034 1094.169058 \nL 198.661761 1094.169058 \nz\n\" style=\"fill:#df914f;\"/>\n   </g>\n   <g id=\"patch_23\">\n    <path clip-path=\"url(#pe814c10910)\" d=\"M 206.270852 1094.4 \nL 212.358125 1094.4 \nL 212.358125 1093.938116 \nL 206.270852 1093.938116 \nz\n\" style=\"fill:#dc924e;\"/>\n   </g>\n   <g id=\"patch_24\">\n    <path clip-path=\"url(#pe814c10910)\" d=\"M 213.879943 1094.4 \nL 219.967216 1094.4 \nL 219.967216 1093.360761 \nL 213.879943 1093.360761 \nz\n\" style=\"fill:#da934e;\"/>\n   </g>\n   <g id=\"patch_25\">\n    <path clip-path=\"url(#pe814c10910)\" d=\"M 221.489034 1094.4 \nL 227.576307 1094.4 \nL 227.576307 1094.284529 \nL 221.489034 1094.284529 \nz\n\" style=\"fill:#d7944e;\"/>\n   </g>\n   <g id=\"patch_26\">\n    <path clip-path=\"url(#pe814c10910)\" d=\"M 229.098125 1094.4 \nL 235.185398 1094.4 \nL 235.185398 1094.053587 \nL 229.098125 1094.053587 \nz\n\" style=\"fill:#d4954d;\"/>\n   </g>\n   <g id=\"patch_27\">\n    <path clip-path=\"url(#pe814c10910)\" d=\"M 236.707216 1094.4 \nL 242.794489 1094.4 \nL 242.794489 1094.284529 \nL 236.707216 1094.284529 \nz\n\" style=\"fill:#d2954d;\"/>\n   </g>\n   <g id=\"patch_28\">\n    <path clip-path=\"url(#pe814c10910)\" d=\"M 244.316307 1094.4 \nL 250.40358 1094.4 \nL 250.40358 1091.282283 \nL 244.316307 1091.282283 \nz\n\" style=\"fill:#d0964d;\"/>\n   </g>\n   <g id=\"patch_29\">\n    <path clip-path=\"url(#pe814c10910)\" d=\"M 251.925398 1094.4 \nL 258.01267 1094.4 \nL 258.01267 1093.938116 \nL 251.925398 1093.938116 \nz\n\" style=\"fill:#ce974c;\"/>\n   </g>\n   <g id=\"patch_30\">\n    <path clip-path=\"url(#pe814c10910)\" d=\"M 259.534489 1094.4 \nL 265.621761 1094.4 \nL 265.621761 1094.053587 \nL 259.534489 1094.053587 \nz\n\" style=\"fill:#cb974c;\"/>\n   </g>\n   <g id=\"patch_31\">\n    <path clip-path=\"url(#pe814c10910)\" d=\"M 267.14358 1094.4 \nL 273.230852 1094.4 \nL 273.230852 1094.169058 \nL 267.14358 1094.169058 \nz\n\" style=\"fill:#c9984c;\"/>\n   </g>\n   <g id=\"patch_32\">\n    <path clip-path=\"url(#pe814c10910)\" d=\"M 274.75267 1094.4 \nL 280.839943 1094.4 \nL 280.839943 1093.360761 \nL 274.75267 1093.360761 \nz\n\" style=\"fill:#c7984b;\"/>\n   </g>\n   <g id=\"patch_33\">\n    <path clip-path=\"url(#pe814c10910)\" d=\"M 282.361761 1094.4 \nL 288.449034 1094.4 \nL 288.449034 1093.938116 \nL 282.361761 1093.938116 \nz\n\" style=\"fill:#c5994b;\"/>\n   </g>\n   <g id=\"patch_34\">\n    <path clip-path=\"url(#pe814c10910)\" d=\"M 289.970852 1094.4 \nL 296.058125 1094.4 \nL 296.058125 1093.938116 \nL 289.970852 1093.938116 \nz\n\" style=\"fill:#c3994b;\"/>\n   </g>\n   <g id=\"patch_35\">\n    <path clip-path=\"url(#pe814c10910)\" d=\"M 297.579943 1094.4 \nL 303.667216 1094.4 \nL 303.667216 1094.169058 \nL 297.579943 1094.169058 \nz\n\" style=\"fill:#c19a4a;\"/>\n   </g>\n   <g id=\"patch_36\">\n    <path clip-path=\"url(#pe814c10910)\" d=\"M 305.189034 1094.4 \nL 311.276307 1094.4 \nL 311.276307 1091.166812 \nL 305.189034 1091.166812 \nz\n\" style=\"fill:#bf9a4a;\"/>\n   </g>\n   <g id=\"patch_37\">\n    <path clip-path=\"url(#pe814c10910)\" d=\"M 312.798125 1094.4 \nL 318.885398 1094.4 \nL 318.885398 1094.284529 \nL 312.798125 1094.284529 \nz\n\" style=\"fill:#bd9b4a;\"/>\n   </g>\n   <g id=\"patch_38\">\n    <path clip-path=\"url(#pe814c10910)\" d=\"M 320.407216 1094.4 \nL 326.494489 1094.4 \nL 326.494489 1094.169058 \nL 320.407216 1094.169058 \nz\n\" style=\"fill:#bc9b4a;\"/>\n   </g>\n   <g id=\"patch_39\">\n    <path clip-path=\"url(#pe814c10910)\" d=\"M 328.016307 1094.4 \nL 334.10358 1094.4 \nL 334.10358 1093.822645 \nL 328.016307 1093.822645 \nz\n\" style=\"fill:#ba9b49;\"/>\n   </g>\n   <g id=\"patch_40\">\n    <path clip-path=\"url(#pe814c10910)\" d=\"M 335.625398 1094.4 \nL 341.71267 1094.4 \nL 341.71267 1094.053587 \nL 335.625398 1094.053587 \nz\n\" style=\"fill:#b89c49;\"/>\n   </g>\n   <g id=\"patch_41\">\n    <path clip-path=\"url(#pe814c10910)\" d=\"M 343.234489 1094.4 \nL 349.321761 1094.4 \nL 349.321761 1092.436993 \nL 343.234489 1092.436993 \nz\n\" style=\"fill:#b69c49;\"/>\n   </g>\n   <g id=\"patch_42\">\n    <path clip-path=\"url(#pe814c10910)\" d=\"M 350.84358 1094.4 \nL 356.930852 1094.4 \nL 356.930852 1094.284529 \nL 350.84358 1094.284529 \nz\n\" style=\"fill:#b49c48;\"/>\n   </g>\n   <g id=\"patch_43\">\n    <path clip-path=\"url(#pe814c10910)\" d=\"M 358.45267 1094.4 \nL 364.539943 1094.4 \nL 364.539943 1094.284529 \nL 358.45267 1094.284529 \nz\n\" style=\"fill:#b39d48;\"/>\n   </g>\n   <g id=\"patch_44\">\n    <path clip-path=\"url(#pe814c10910)\" d=\"M 366.061761 1094.4 \nL 372.149034 1094.4 \nL 372.149034 1094.169058 \nL 366.061761 1094.169058 \nz\n\" style=\"fill:#b19d48;\"/>\n   </g>\n   <g id=\"patch_45\">\n    <path clip-path=\"url(#pe814c10910)\" d=\"M 373.670852 1094.4 \nL 379.758125 1094.4 \nL 379.758125 1091.744167 \nL 373.670852 1091.744167 \nz\n\" style=\"fill:#af9d48;\"/>\n   </g>\n   <g id=\"patch_46\">\n    <path clip-path=\"url(#pe814c10910)\" d=\"M 381.279943 1094.4 \nL 387.367216 1094.4 \nL 387.367216 1094.284529 \nL 381.279943 1094.284529 \nz\n\" style=\"fill:#ad9e47;\"/>\n   </g>\n   <g id=\"patch_47\">\n    <path clip-path=\"url(#pe814c10910)\" d=\"M 388.889034 1094.4 \nL 394.976307 1094.4 \nL 394.976307 1094.284529 \nL 388.889034 1094.284529 \nz\n\" style=\"fill:#ab9e47;\"/>\n   </g>\n   <g id=\"patch_48\">\n    <path clip-path=\"url(#pe814c10910)\" d=\"M 396.498125 1094.4 \nL 402.585398 1094.4 \nL 402.585398 1094.284529 \nL 396.498125 1094.284529 \nz\n\" style=\"fill:#aa9e47;\"/>\n   </g>\n   <g id=\"patch_49\">\n    <path clip-path=\"url(#pe814c10910)\" d=\"M 404.107216 1094.4 \nL 410.194489 1094.4 \nL 410.194489 1094.284529 \nL 404.107216 1094.284529 \nz\n\" style=\"fill:#a89e47;\"/>\n   </g>\n   <g id=\"patch_50\">\n    <path clip-path=\"url(#pe814c10910)\" d=\"M 411.716307 1094.4 \nL 417.80358 1094.4 \nL 417.80358 1094.169058 \nL 411.716307 1094.169058 \nz\n\" style=\"fill:#a69f46;\"/>\n   </g>\n   <g id=\"patch_51\">\n    <path clip-path=\"url(#pe814c10910)\" d=\"M 419.325398 1094.4 \nL 425.41267 1094.4 \nL 425.41267 1094.053587 \nL 419.325398 1094.053587 \nz\n\" style=\"fill:#a49f46;\"/>\n   </g>\n   <g id=\"patch_52\">\n    <path clip-path=\"url(#pe814c10910)\" d=\"M 426.934489 1094.4 \nL 433.021761 1094.4 \nL 433.021761 1094.169058 \nL 426.934489 1094.169058 \nz\n\" style=\"fill:#a29f46;\"/>\n   </g>\n   <g id=\"patch_53\">\n    <path clip-path=\"url(#pe814c10910)\" d=\"M 434.54358 1094.4 \nL 440.630852 1094.4 \nL 440.630852 1087.009855 \nL 434.54358 1087.009855 \nz\n\" style=\"fill:#a09f45;\"/>\n   </g>\n   <g id=\"patch_54\">\n    <path clip-path=\"url(#pe814c10910)\" d=\"M 442.15267 1094.4 \nL 448.239943 1094.4 \nL 448.239943 1094.284529 \nL 442.15267 1094.284529 \nz\n\" style=\"fill:#9fa045;\"/>\n   </g>\n   <g id=\"patch_55\">\n    <path clip-path=\"url(#pe814c10910)\" d=\"M 449.761761 1094.4 \nL 455.849034 1094.4 \nL 455.849034 1089.781159 \nL 449.761761 1089.781159 \nz\n\" style=\"fill:#9da045;\"/>\n   </g>\n   <g id=\"patch_56\">\n    <path clip-path=\"url(#pe814c10910)\" d=\"M 457.370852 1094.4 \nL 463.458125 1094.4 \nL 463.458125 1093.938116 \nL 457.370852 1093.938116 \nz\n\" style=\"fill:#9ba146;\"/>\n   </g>\n   <g id=\"patch_57\">\n    <path clip-path=\"url(#pe814c10910)\" d=\"M 464.979943 1094.4 \nL 471.067216 1094.4 \nL 471.067216 1094.284529 \nL 464.979943 1094.284529 \nz\n\" style=\"fill:#9aa146;\"/>\n   </g>\n   <g id=\"patch_58\">\n    <path clip-path=\"url(#pe814c10910)\" d=\"M 472.589034 1094.4 \nL 478.676307 1094.4 \nL 478.676307 1093.129819 \nL 472.589034 1093.129819 \nz\n\" style=\"fill:#98a246;\"/>\n   </g>\n   <g id=\"patch_59\">\n    <path clip-path=\"url(#pe814c10910)\" d=\"M 480.198125 1094.4 \nL 486.285398 1094.4 \nL 486.285398 1094.053587 \nL 480.198125 1094.053587 \nz\n\" style=\"fill:#96a346;\"/>\n   </g>\n   <g id=\"patch_60\">\n    <path clip-path=\"url(#pe814c10910)\" d=\"M 487.807216 1094.4 \nL 493.894489 1094.4 \nL 493.894489 1094.053587 \nL 487.807216 1094.053587 \nz\n\" style=\"fill:#94a346;\"/>\n   </g>\n   <g id=\"patch_61\">\n    <path clip-path=\"url(#pe814c10910)\" d=\"M 495.416307 1094.4 \nL 501.50358 1094.4 \nL 501.50358 1093.707174 \nL 495.416307 1093.707174 \nz\n\" style=\"fill:#92a446;\"/>\n   </g>\n   <g id=\"patch_62\">\n    <path clip-path=\"url(#pe814c10910)\" d=\"M 503.025398 1094.4 \nL 509.11267 1094.4 \nL 509.11267 1094.053587 \nL 503.025398 1094.053587 \nz\n\" style=\"fill:#90a446;\"/>\n   </g>\n   <g id=\"patch_63\">\n    <path clip-path=\"url(#pe814c10910)\" d=\"M 510.634489 1094.4 \nL 516.721761 1094.4 \nL 516.721761 1087.471739 \nL 510.634489 1087.471739 \nz\n\" style=\"fill:#8ea546;\"/>\n   </g>\n   <g id=\"patch_64\">\n    <path clip-path=\"url(#pe814c10910)\" d=\"M 518.24358 1094.4 \nL 524.330852 1094.4 \nL 524.330852 1094.169058 \nL 518.24358 1094.169058 \nz\n\" style=\"fill:#8ca646;\"/>\n   </g>\n   <g id=\"patch_65\">\n    <path clip-path=\"url(#pe814c10910)\" d=\"M 525.85267 1094.4 \nL 531.939943 1094.4 \nL 531.939943 1093.938116 \nL 525.85267 1093.938116 \nz\n\" style=\"fill:#8aa646;\"/>\n   </g>\n   <g id=\"patch_66\">\n    <path clip-path=\"url(#pe814c10910)\" d=\"M 533.461761 1094.4 \nL 539.549034 1094.4 \nL 539.549034 1093.360761 \nL 533.461761 1093.360761 \nz\n\" style=\"fill:#87a746;\"/>\n   </g>\n   <g id=\"patch_67\">\n    <path clip-path=\"url(#pe814c10910)\" d=\"M 541.070852 1094.4 \nL 547.158125 1094.4 \nL 547.158125 1093.938116 \nL 541.070852 1093.938116 \nz\n\" style=\"fill:#85a746;\"/>\n   </g>\n   <g id=\"patch_68\">\n    <path clip-path=\"url(#pe814c10910)\" d=\"M 548.679943 1094.4 \nL 554.767216 1094.4 \nL 554.767216 1088.049094 \nL 548.679943 1088.049094 \nz\n\" style=\"fill:#82a846;\"/>\n   </g>\n   <g id=\"patch_69\">\n    <path clip-path=\"url(#pe814c10910)\" d=\"M 556.289034 1094.4 \nL 562.376307 1094.4 \nL 562.376307 1094.284529 \nL 556.289034 1094.284529 \nz\n\" style=\"fill:#7fa946;\"/>\n   </g>\n   <g id=\"patch_70\">\n    <path clip-path=\"url(#pe814c10910)\" d=\"M 563.898125 1094.4 \nL 569.985398 1094.4 \nL 569.985398 1093.822645 \nL 563.898125 1093.822645 \nz\n\" style=\"fill:#7ca947;\"/>\n   </g>\n   <g id=\"patch_71\">\n    <path clip-path=\"url(#pe814c10910)\" d=\"M 571.507216 1094.4 \nL 577.594489 1094.4 \nL 577.594489 1093.822645 \nL 571.507216 1093.822645 \nz\n\" style=\"fill:#79aa47;\"/>\n   </g>\n   <g id=\"patch_72\">\n    <path clip-path=\"url(#pe814c10910)\" d=\"M 579.116307 1094.4 \nL 585.20358 1094.4 \nL 585.20358 1093.591703 \nL 579.116307 1093.591703 \nz\n\" style=\"fill:#75ab47;\"/>\n   </g>\n   <g id=\"patch_73\">\n    <path clip-path=\"url(#pe814c10910)\" d=\"M 586.725398 1094.4 \nL 592.81267 1094.4 \nL 592.81267 1068.534493 \nL 586.725398 1068.534493 \nz\n\" style=\"fill:#71ac47;\"/>\n   </g>\n   <g id=\"patch_74\">\n    <path clip-path=\"url(#pe814c10910)\" d=\"M 594.334489 1094.4 \nL 600.421761 1094.4 \nL 600.421761 1093.822645 \nL 594.334489 1093.822645 \nz\n\" style=\"fill:#6dac47;\"/>\n   </g>\n   <g id=\"patch_75\">\n    <path clip-path=\"url(#pe814c10910)\" d=\"M 601.94358 1094.4 \nL 608.030852 1094.4 \nL 608.030852 1093.129819 \nL 601.94358 1093.129819 \nz\n\" style=\"fill:#68ad47;\"/>\n   </g>\n   <g id=\"patch_76\">\n    <path clip-path=\"url(#pe814c10910)\" d=\"M 609.55267 1094.4 \nL 615.639943 1094.4 \nL 615.639943 1092.898877 \nL 609.55267 1092.898877 \nz\n\" style=\"fill:#62ae47;\"/>\n   </g>\n   <g id=\"patch_77\">\n    <path clip-path=\"url(#pe814c10910)\" d=\"M 617.161761 1094.4 \nL 623.249034 1094.4 \nL 623.249034 1088.74192 \nL 617.161761 1088.74192 \nz\n\" style=\"fill:#5baf47;\"/>\n   </g>\n   <g id=\"patch_78\">\n    <path clip-path=\"url(#pe814c10910)\" d=\"M 624.770852 1094.4 \nL 630.858125 1094.4 \nL 630.858125 1070.728442 \nL 624.770852 1070.728442 \nz\n\" style=\"fill:#53b047;\"/>\n   </g>\n   <g id=\"patch_79\">\n    <path clip-path=\"url(#pe814c10910)\" d=\"M 632.379943 1094.4 \nL 638.467216 1094.4 \nL 638.467216 1092.552464 \nL 632.379943 1092.552464 \nz\n\" style=\"fill:#48b147;\"/>\n   </g>\n   <g id=\"patch_80\">\n    <path clip-path=\"url(#pe814c10910)\" d=\"M 639.989034 1094.4 \nL 646.076307 1094.4 \nL 646.076307 1093.24529 \nL 639.989034 1093.24529 \nz\n\" style=\"fill:#48b052;\"/>\n   </g>\n   <g id=\"patch_81\">\n    <path clip-path=\"url(#pe814c10910)\" d=\"M 647.598125 1094.4 \nL 653.685398 1094.4 \nL 653.685398 1090.93587 \nL 647.598125 1090.93587 \nz\n\" style=\"fill:#48b05a;\"/>\n   </g>\n   <g id=\"patch_82\">\n    <path clip-path=\"url(#pe814c10910)\" d=\"M 655.207216 1094.4 \nL 661.294489 1094.4 \nL 661.294489 1093.822645 \nL 655.207216 1093.822645 \nz\n\" style=\"fill:#48b061;\"/>\n   </g>\n   <g id=\"patch_83\">\n    <path clip-path=\"url(#pe814c10910)\" d=\"M 662.816307 1094.4 \nL 668.90358 1094.4 \nL 668.90358 1034.00866 \nL 662.816307 1034.00866 \nz\n\" style=\"fill:#48b067;\"/>\n   </g>\n   <g id=\"patch_84\">\n    <path clip-path=\"url(#pe814c10910)\" d=\"M 670.425398 1094.4 \nL 676.51267 1094.4 \nL 676.51267 1093.591703 \nL 670.425398 1093.591703 \nz\n\" style=\"fill:#48af6c;\"/>\n   </g>\n   <g id=\"patch_85\">\n    <path clip-path=\"url(#pe814c10910)\" d=\"M 678.034489 1094.4 \nL 684.121761 1094.4 \nL 684.121761 1091.051341 \nL 678.034489 1091.051341 \nz\n\" style=\"fill:#48af70;\"/>\n   </g>\n   <g id=\"patch_86\">\n    <path clip-path=\"url(#pe814c10910)\" d=\"M 685.64358 1094.4 \nL 691.730852 1094.4 \nL 691.730852 1092.898877 \nL 685.64358 1092.898877 \nz\n\" style=\"fill:#49af74;\"/>\n   </g>\n   <g id=\"patch_87\">\n    <path clip-path=\"url(#pe814c10910)\" d=\"M 693.25267 1094.4 \nL 699.339943 1094.4 \nL 699.339943 1093.822645 \nL 693.25267 1093.822645 \nz\n\" style=\"fill:#49af77;\"/>\n   </g>\n   <g id=\"patch_88\">\n    <path clip-path=\"url(#pe814c10910)\" d=\"M 700.861761 1094.4 \nL 706.949034 1094.4 \nL 706.949034 1038.858443 \nL 700.861761 1038.858443 \nz\n\" style=\"fill:#49af7b;\"/>\n   </g>\n   <g id=\"patch_89\">\n    <path clip-path=\"url(#pe814c10910)\" d=\"M 708.470852 1094.4 \nL 714.558125 1094.4 \nL 714.558125 1091.282283 \nL 708.470852 1091.282283 \nz\n\" style=\"fill:#49ae7d;\"/>\n   </g>\n   <g id=\"patch_90\">\n    <path clip-path=\"url(#pe814c10910)\" d=\"M 716.079943 1094.4 \nL 722.167216 1094.4 \nL 722.167216 1088.626449 \nL 716.079943 1088.626449 \nz\n\" style=\"fill:#49ae80;\"/>\n   </g>\n   <g id=\"patch_91\">\n    <path clip-path=\"url(#pe814c10910)\" d=\"M 723.689034 1094.4 \nL 729.776307 1094.4 \nL 729.776307 1090.127573 \nL 723.689034 1090.127573 \nz\n\" style=\"fill:#49ae83;\"/>\n   </g>\n   <g id=\"patch_92\">\n    <path clip-path=\"url(#pe814c10910)\" d=\"M 731.298125 1094.4 \nL 737.385398 1094.4 \nL 737.385398 1089.319275 \nL 731.298125 1089.319275 \nz\n\" style=\"fill:#49ae85;\"/>\n   </g>\n   <g id=\"patch_93\">\n    <path clip-path=\"url(#pe814c10910)\" d=\"M 738.907216 1094.4 \nL 744.994489 1094.4 \nL 744.994489 866.229279 \nL 738.907216 866.229279 \nz\n\" style=\"fill:#49ae87;\"/>\n   </g>\n   <g id=\"patch_94\">\n    <path clip-path=\"url(#pe814c10910)\" d=\"M 746.516307 1094.4 \nL 752.60358 1094.4 \nL 752.60358 1061.606232 \nL 746.516307 1061.606232 \nz\n\" style=\"fill:#4aae89;\"/>\n   </g>\n   <g id=\"patch_95\">\n    <path clip-path=\"url(#pe814c10910)\" d=\"M 754.125398 1094.4 \nL 760.21267 1094.4 \nL 760.21267 1087.009855 \nL 754.125398 1087.009855 \nz\n\" style=\"fill:#4aad8b;\"/>\n   </g>\n   <g id=\"patch_96\">\n    <path clip-path=\"url(#pe814c10910)\" d=\"M 761.734489 1094.4 \nL 767.821761 1094.4 \nL 767.821761 1089.434746 \nL 761.734489 1089.434746 \nz\n\" style=\"fill:#4aad8d;\"/>\n   </g>\n   <g id=\"patch_97\">\n    <path clip-path=\"url(#pe814c10910)\" d=\"M 769.34358 1094.4 \nL 775.430852 1094.4 \nL 775.430852 1089.550217 \nL 769.34358 1089.550217 \nz\n\" style=\"fill:#4aad8f;\"/>\n   </g>\n   <g id=\"patch_98\">\n    <path clip-path=\"url(#pe814c10910)\" d=\"M 776.95267 1094.4 \nL 783.039943 1094.4 \nL 783.039943 986.434603 \nL 776.95267 986.434603 \nz\n\" style=\"fill:#4aad90;\"/>\n   </g>\n   <g id=\"patch_99\">\n    <path clip-path=\"url(#pe814c10910)\" d=\"M 784.561761 1094.4 \nL 790.649034 1094.4 \nL 790.649034 1089.665688 \nL 784.561761 1089.665688 \nz\n\" style=\"fill:#4aad92;\"/>\n   </g>\n   <g id=\"patch_100\">\n    <path clip-path=\"url(#pe814c10910)\" d=\"M 792.170852 1094.4 \nL 798.258125 1094.4 \nL 798.258125 1090.012102 \nL 792.170852 1090.012102 \nz\n\" style=\"fill:#4aad93;\"/>\n   </g>\n   <g id=\"patch_101\">\n    <path clip-path=\"url(#pe814c10910)\" d=\"M 799.779943 1094.4 \nL 805.867216 1094.4 \nL 805.867216 1088.280036 \nL 799.779943 1088.280036 \nz\n\" style=\"fill:#4aad95;\"/>\n   </g>\n   <g id=\"patch_102\">\n    <path clip-path=\"url(#pe814c10910)\" d=\"M 807.389034 1094.4 \nL 813.476307 1094.4 \nL 813.476307 1085.739674 \nL 807.389034 1085.739674 \nz\n\" style=\"fill:#4aad96;\"/>\n   </g>\n   <g id=\"patch_103\">\n    <path clip-path=\"url(#pe814c10910)\" d=\"M 814.998125 1094.4 \nL 821.085398 1094.4 \nL 821.085398 58.971429 \nL 814.998125 58.971429 \nz\n\" style=\"fill:#4aac98;\"/>\n   </g>\n   <g id=\"patch_104\">\n    <path clip-path=\"url(#pe814c10910)\" d=\"M 822.607216 1094.4 \nL 828.694489 1094.4 \nL 828.694489 1079.61971 \nL 822.607216 1079.61971 \nz\n\" style=\"fill:#4aac99;\"/>\n   </g>\n   <g id=\"patch_105\">\n    <path clip-path=\"url(#pe814c10910)\" d=\"M 830.216307 1094.4 \nL 836.30358 1094.4 \nL 836.30358 1073.153334 \nL 830.216307 1073.153334 \nz\n\" style=\"fill:#4aac9a;\"/>\n   </g>\n   <g id=\"patch_106\">\n    <path clip-path=\"url(#pe814c10910)\" d=\"M 837.825398 1094.4 \nL 843.91267 1094.4 \nL 843.91267 1084.469493 \nL 837.825398 1084.469493 \nz\n\" style=\"fill:#4aac9c;\"/>\n   </g>\n   <g id=\"patch_107\">\n    <path clip-path=\"url(#pe814c10910)\" d=\"M 845.434489 1094.4 \nL 851.521761 1094.4 \nL 851.521761 1077.079348 \nL 845.434489 1077.079348 \nz\n\" style=\"fill:#4bac9d;\"/>\n   </g>\n   <g id=\"patch_108\">\n    <path clip-path=\"url(#pe814c10910)\" d=\"M 853.04358 1094.4 \nL 859.130852 1094.4 \nL 859.130852 889.323481 \nL 853.04358 889.323481 \nz\n\" style=\"fill:#4bac9e;\"/>\n   </g>\n   <g id=\"patch_109\">\n    <path clip-path=\"url(#pe814c10910)\" d=\"M 860.65267 1094.4 \nL 866.739943 1094.4 \nL 866.739943 993.709277 \nL 860.65267 993.709277 \nz\n\" style=\"fill:#4bac9f;\"/>\n   </g>\n   <g id=\"patch_110\">\n    <path clip-path=\"url(#pe814c10910)\" d=\"M 868.261761 1094.4 \nL 874.349034 1094.4 \nL 874.349034 941.978263 \nL 868.261761 941.978263 \nz\n\" style=\"fill:#4baca1;\"/>\n   </g>\n   <g id=\"patch_111\">\n    <path clip-path=\"url(#pe814c10910)\" d=\"M 875.870852 1094.4 \nL 881.958125 1094.4 \nL 881.958125 831.818917 \nL 875.870852 831.818917 \nz\n\" style=\"fill:#4baba2;\"/>\n   </g>\n   <g id=\"patch_112\">\n    <path clip-path=\"url(#pe814c10910)\" d=\"M 883.479943 1094.4 \nL 889.567216 1094.4 \nL 889.567216 845.675439 \nL 883.479943 845.675439 \nz\n\" style=\"fill:#4baba3;\"/>\n   </g>\n   <g id=\"patch_113\">\n    <path clip-path=\"url(#pe814c10910)\" d=\"M 891.089034 1094.4 \nL 897.176307 1094.4 \nL 897.176307 567.505769 \nL 891.089034 567.505769 \nz\n\" style=\"fill:#4baba4;\"/>\n   </g>\n   <g id=\"patch_114\">\n    <path clip-path=\"url(#pe814c10910)\" d=\"M 898.698125 1094.4 \nL 904.785398 1094.4 \nL 904.785398 885.74388 \nL 898.698125 885.74388 \nz\n\" style=\"fill:#4baba5;\"/>\n   </g>\n   <g id=\"patch_115\">\n    <path clip-path=\"url(#pe814c10910)\" d=\"M 906.307216 1094.4 \nL 912.394489 1094.4 \nL 912.394489 832.049859 \nL 906.307216 832.049859 \nz\n\" style=\"fill:#4baba6;\"/>\n   </g>\n   <g id=\"patch_116\">\n    <path clip-path=\"url(#pe814c10910)\" d=\"M 913.916307 1094.4 \nL 920.00358 1094.4 \nL 920.00358 905.14301 \nL 913.916307 905.14301 \nz\n\" style=\"fill:#4baba8;\"/>\n   </g>\n   <g id=\"patch_117\">\n    <path clip-path=\"url(#pe814c10910)\" d=\"M 921.525398 1094.4 \nL 927.61267 1094.4 \nL 927.61267 964.033227 \nL 921.525398 964.033227 \nz\n\" style=\"fill:#4baba9;\"/>\n   </g>\n   <g id=\"patch_118\">\n    <path clip-path=\"url(#pe814c10910)\" d=\"M 929.134489 1094.4 \nL 935.221761 1094.4 \nL 935.221761 902.718119 \nL 929.134489 902.718119 \nz\n\" style=\"fill:#4babaa;\"/>\n   </g>\n   <g id=\"patch_119\">\n    <path clip-path=\"url(#pe814c10910)\" d=\"M 936.74358 1094.4 \nL 942.830852 1094.4 \nL 942.830852 947.751814 \nL 936.74358 947.751814 \nz\n\" style=\"fill:#4babab;\"/>\n   </g>\n   <g id=\"patch_120\">\n    <path clip-path=\"url(#pe814c10910)\" d=\"M 944.35267 1094.4 \nL 950.439943 1094.4 \nL 950.439943 949.252937 \nL 944.35267 949.252937 \nz\n\" style=\"fill:#4cabac;\"/>\n   </g>\n   <g id=\"patch_121\">\n    <path clip-path=\"url(#pe814c10910)\" d=\"M 951.961761 1094.4 \nL 958.049034 1094.4 \nL 958.049034 1001.214893 \nL 951.961761 1001.214893 \nz\n\" style=\"fill:#4cabae;\"/>\n   </g>\n   <g id=\"patch_122\">\n    <path clip-path=\"url(#pe814c10910)\" d=\"M 959.570852 1094.4 \nL 965.658125 1094.4 \nL 965.658125 1011.376342 \nL 959.570852 1011.376342 \nz\n\" style=\"fill:#4cabaf;\"/>\n   </g>\n   <g id=\"patch_123\">\n    <path clip-path=\"url(#pe814c10910)\" d=\"M 967.179943 1094.4 \nL 973.267216 1094.4 \nL 973.267216 861.264025 \nL 967.179943 861.264025 \nz\n\" style=\"fill:#4dabb0;\"/>\n   </g>\n   <g id=\"patch_124\">\n    <path clip-path=\"url(#pe814c10910)\" d=\"M 974.789034 1094.4 \nL 980.876307 1094.4 \nL 980.876307 970.730545 \nL 974.789034 970.730545 \nz\n\" style=\"fill:#4dabb2;\"/>\n   </g>\n   <g id=\"patch_125\">\n    <path clip-path=\"url(#pe814c10910)\" d=\"M 982.398125 1094.4 \nL 988.485398 1094.4 \nL 988.485398 888.746126 \nL 982.398125 888.746126 \nz\n\" style=\"fill:#4dabb3;\"/>\n   </g>\n   <g id=\"patch_126\">\n    <path clip-path=\"url(#pe814c10910)\" d=\"M 990.007216 1094.4 \nL 996.094489 1094.4 \nL 996.094489 664.385948 \nL 990.007216 664.385948 \nz\n\" style=\"fill:#4dabb5;\"/>\n   </g>\n   <g id=\"patch_127\">\n    <path clip-path=\"url(#pe814c10910)\" d=\"M 997.616307 1094.4 \nL 1003.70358 1094.4 \nL 1003.70358 890.940076 \nL 997.616307 890.940076 \nz\n\" style=\"fill:#4eabb6;\"/>\n   </g>\n   <g id=\"patch_128\">\n    <path clip-path=\"url(#pe814c10910)\" d=\"M 1005.225398 1094.4 \nL 1011.31267 1094.4 \nL 1011.31267 502.149176 \nL 1005.225398 502.149176 \nz\n\" style=\"fill:#4eabb7;\"/>\n   </g>\n   <g id=\"patch_129\">\n    <path clip-path=\"url(#pe814c10910)\" d=\"M 1012.834489 1094.4 \nL 1018.921761 1094.4 \nL 1018.921761 734.476853 \nL 1012.834489 734.476853 \nz\n\" style=\"fill:#4eabb9;\"/>\n   </g>\n   <g id=\"patch_130\">\n    <path clip-path=\"url(#pe814c10910)\" d=\"M 1020.44358 1094.4 \nL 1026.530852 1094.4 \nL 1026.530852 666.348956 \nL 1020.44358 666.348956 \nz\n\" style=\"fill:#4fabba;\"/>\n   </g>\n   <g id=\"patch_131\">\n    <path clip-path=\"url(#pe814c10910)\" d=\"M 1028.05267 1094.4 \nL 1034.139943 1094.4 \nL 1034.139943 841.518482 \nL 1028.05267 841.518482 \nz\n\" style=\"fill:#4fabbc;\"/>\n   </g>\n   <g id=\"patch_132\">\n    <path clip-path=\"url(#pe814c10910)\" d=\"M 1035.661761 1094.4 \nL 1041.749034 1094.4 \nL 1041.749034 882.164279 \nL 1035.661761 882.164279 \nz\n\" style=\"fill:#4facbe;\"/>\n   </g>\n   <g id=\"patch_133\">\n    <path clip-path=\"url(#pe814c10910)\" d=\"M 1043.270852 1094.4 \nL 1049.358125 1094.4 \nL 1049.358125 876.852612 \nL 1043.270852 876.852612 \nz\n\" style=\"fill:#50acbf;\"/>\n   </g>\n   <g id=\"patch_134\">\n    <path clip-path=\"url(#pe814c10910)\" d=\"M 1050.879943 1094.4 \nL 1056.967216 1094.4 \nL 1056.967216 933.548879 \nL 1050.879943 933.548879 \nz\n\" style=\"fill:#50acc1;\"/>\n   </g>\n   <g id=\"patch_135\">\n    <path clip-path=\"url(#pe814c10910)\" d=\"M 1058.489034 1094.4 \nL 1064.576307 1094.4 \nL 1064.576307 933.317937 \nL 1058.489034 933.317937 \nz\n\" style=\"fill:#50acc3;\"/>\n   </g>\n   <g id=\"patch_136\">\n    <path clip-path=\"url(#pe814c10910)\" d=\"M 1066.098125 1094.4 \nL 1072.185398 1094.4 \nL 1072.185398 1015.648769 \nL 1066.098125 1015.648769 \nz\n\" style=\"fill:#51acc4;\"/>\n   </g>\n   <g id=\"patch_137\">\n    <path clip-path=\"url(#pe814c10910)\" d=\"M 1073.707216 1094.4 \nL 1079.794489 1094.4 \nL 1079.794489 1014.955943 \nL 1073.707216 1014.955943 \nz\n\" style=\"fill:#51acc6;\"/>\n   </g>\n   <g id=\"patch_138\">\n    <path clip-path=\"url(#pe814c10910)\" d=\"M 1081.316307 1094.4 \nL 1087.40358 1094.4 \nL 1087.40358 909.877322 \nL 1081.316307 909.877322 \nz\n\" style=\"fill:#52acc8;\"/>\n   </g>\n   <g id=\"patch_139\">\n    <path clip-path=\"url(#pe814c10910)\" d=\"M 1088.925398 1094.4 \nL 1095.01267 1094.4 \nL 1095.01267 799.602504 \nL 1088.925398 799.602504 \nz\n\" style=\"fill:#52acca;\"/>\n   </g>\n   <g id=\"patch_140\">\n    <path clip-path=\"url(#pe814c10910)\" d=\"M 1096.534489 1094.4 \nL 1102.621761 1094.4 \nL 1102.621761 783.782976 \nL 1096.534489 783.782976 \nz\n\" style=\"fill:#53accc;\"/>\n   </g>\n   <g id=\"patch_141\">\n    <path clip-path=\"url(#pe814c10910)\" d=\"M 1104.14358 1094.4 \nL 1110.230852 1094.4 \nL 1110.230852 835.052105 \nL 1104.14358 835.052105 \nz\n\" style=\"fill:#53acce;\"/>\n   </g>\n   <g id=\"patch_142\">\n    <path clip-path=\"url(#pe814c10910)\" d=\"M 1111.75267 1094.4 \nL 1117.839943 1094.4 \nL 1117.839943 765.423085 \nL 1111.75267 765.423085 \nz\n\" style=\"fill:#54acd1;\"/>\n   </g>\n   <g id=\"patch_143\">\n    <path clip-path=\"url(#pe814c10910)\" d=\"M 1119.361761 1094.4 \nL 1125.449034 1094.4 \nL 1125.449034 596.027109 \nL 1119.361761 596.027109 \nz\n\" style=\"fill:#54acd3;\"/>\n   </g>\n   <g id=\"patch_144\">\n    <path clip-path=\"url(#pe814c10910)\" d=\"M 1126.970852 1094.4 \nL 1133.058125 1094.4 \nL 1133.058125 699.489136 \nL 1126.970852 699.489136 \nz\n\" style=\"fill:#55acd6;\"/>\n   </g>\n   <g id=\"patch_145\">\n    <path clip-path=\"url(#pe814c10910)\" d=\"M 1134.579943 1094.4 \nL 1140.667216 1094.4 \nL 1140.667216 741.289643 \nL 1134.579943 741.289643 \nz\n\" style=\"fill:#55acd8;\"/>\n   </g>\n   <g id=\"patch_146\">\n    <path clip-path=\"url(#pe814c10910)\" d=\"M 1142.189034 1094.4 \nL 1148.276307 1094.4 \nL 1148.276307 1014.032175 \nL 1142.189034 1014.032175 \nz\n\" style=\"fill:#56addb;\"/>\n   </g>\n   <g id=\"patch_147\">\n    <path clip-path=\"url(#pe814c10910)\" d=\"M 1149.798125 1094.4 \nL 1155.885398 1094.4 \nL 1155.885398 1004.909965 \nL 1149.798125 1004.909965 \nz\n\" style=\"fill:#57adde;\"/>\n   </g>\n   <g id=\"patch_148\">\n    <path clip-path=\"url(#pe814c10910)\" d=\"M 1157.407216 1094.4 \nL 1163.494489 1094.4 \nL 1163.494489 970.961487 \nL 1157.407216 970.961487 \nz\n\" style=\"fill:#5eade0;\"/>\n   </g>\n   <g id=\"patch_149\">\n    <path clip-path=\"url(#pe814c10910)\" d=\"M 1165.016307 1094.4 \nL 1171.10358 1094.4 \nL 1171.10358 997.750762 \nL 1165.016307 997.750762 \nz\n\" style=\"fill:#68aee2;\"/>\n   </g>\n   <g id=\"patch_150\">\n    <path clip-path=\"url(#pe814c10910)\" d=\"M 1172.625398 1094.4 \nL 1178.71267 1094.4 \nL 1178.71267 856.760656 \nL 1172.625398 856.760656 \nz\n\" style=\"fill:#6faee3;\"/>\n   </g>\n   <g id=\"patch_151\">\n    <path clip-path=\"url(#pe814c10910)\" d=\"M 1180.234489 1094.4 \nL 1186.321761 1094.4 \nL 1186.321761 885.628409 \nL 1180.234489 885.628409 \nz\n\" style=\"fill:#76aee4;\"/>\n   </g>\n   <g id=\"patch_152\">\n    <path clip-path=\"url(#pe814c10910)\" d=\"M 1187.84358 1094.4 \nL 1193.930852 1094.4 \nL 1193.930852 930.893046 \nL 1187.84358 930.893046 \nz\n\" style=\"fill:#7caee5;\"/>\n   </g>\n   <g id=\"patch_153\">\n    <path clip-path=\"url(#pe814c10910)\" d=\"M 1195.45267 1094.4 \nL 1201.539943 1094.4 \nL 1201.539943 783.09015 \nL 1195.45267 783.09015 \nz\n\" style=\"fill:#82aee5;\"/>\n   </g>\n   <g id=\"patch_154\">\n    <path clip-path=\"url(#pe814c10910)\" d=\"M 1203.061761 1094.4 \nL 1209.149034 1094.4 \nL 1209.149034 853.527467 \nL 1203.061761 853.527467 \nz\n\" style=\"fill:#87aee6;\"/>\n   </g>\n   <g id=\"patch_155\">\n    <path clip-path=\"url(#pe814c10910)\" d=\"M 1210.670852 1094.4 \nL 1216.758125 1094.4 \nL 1216.758125 906.413191 \nL 1210.670852 906.413191 \nz\n\" style=\"fill:#8baee7;\"/>\n   </g>\n   <g id=\"patch_156\">\n    <path clip-path=\"url(#pe814c10910)\" d=\"M 1218.279943 1094.4 \nL 1224.367216 1094.4 \nL 1224.367216 906.759604 \nL 1218.279943 906.759604 \nz\n\" style=\"fill:#90aee7;\"/>\n   </g>\n   <g id=\"patch_157\">\n    <path clip-path=\"url(#pe814c10910)\" d=\"M 1225.889034 1094.4 \nL 1231.976307 1094.4 \nL 1231.976307 971.538842 \nL 1225.889034 971.538842 \nz\n\" style=\"fill:#94aee8;\"/>\n   </g>\n   <g id=\"patch_158\">\n    <path clip-path=\"url(#pe814c10910)\" d=\"M 1233.498125 1094.4 \nL 1239.585398 1094.4 \nL 1239.585398 964.264169 \nL 1233.498125 964.264169 \nz\n\" style=\"fill:#98ade9;\"/>\n   </g>\n   <g id=\"patch_159\">\n    <path clip-path=\"url(#pe814c10910)\" d=\"M 1241.107216 1094.4 \nL 1247.194489 1094.4 \nL 1247.194489 981.931234 \nL 1241.107216 981.931234 \nz\n\" style=\"fill:#9cade9;\"/>\n   </g>\n   <g id=\"patch_160\">\n    <path clip-path=\"url(#pe814c10910)\" d=\"M 1248.716307 1094.4 \nL 1254.80358 1094.4 \nL 1254.80358 1002.138661 \nL 1248.716307 1002.138661 \nz\n\" style=\"fill:#9fadea;\"/>\n   </g>\n   <g id=\"patch_161\">\n    <path clip-path=\"url(#pe814c10910)\" d=\"M 1256.325398 1094.4 \nL 1262.41267 1094.4 \nL 1262.41267 1042.091631 \nL 1256.325398 1042.091631 \nz\n\" style=\"fill:#a3adea;\"/>\n   </g>\n   <g id=\"patch_162\">\n    <path clip-path=\"url(#pe814c10910)\" d=\"M 1263.934489 1094.4 \nL 1270.021761 1094.4 \nL 1270.021761 977.543335 \nL 1263.934489 977.543335 \nz\n\" style=\"fill:#a6aceb;\"/>\n   </g>\n   <g id=\"patch_163\">\n    <path clip-path=\"url(#pe814c10910)\" d=\"M 1271.54358 1094.4 \nL 1277.630852 1094.4 \nL 1277.630852 884.704641 \nL 1271.54358 884.704641 \nz\n\" style=\"fill:#a9aceb;\"/>\n   </g>\n   <g id=\"patch_164\">\n    <path clip-path=\"url(#pe814c10910)\" d=\"M 1279.15267 1094.4 \nL 1285.239943 1094.4 \nL 1285.239943 1023.847211 \nL 1279.15267 1023.847211 \nz\n\" style=\"fill:#acabeb;\"/>\n   </g>\n   <g id=\"patch_165\">\n    <path clip-path=\"url(#pe814c10910)\" d=\"M 1286.761761 1094.4 \nL 1292.849034 1094.4 \nL 1292.849034 1019.1129 \nL 1286.761761 1019.1129 \nz\n\" style=\"fill:#afabeb;\"/>\n   </g>\n   <g id=\"patch_166\">\n    <path clip-path=\"url(#pe814c10910)\" d=\"M 1294.370852 1094.4 \nL 1300.458125 1094.4 \nL 1300.458125 990.129675 \nL 1294.370852 990.129675 \nz\n\" style=\"fill:#b1aaeb;\"/>\n   </g>\n   <g id=\"patch_167\">\n    <path clip-path=\"url(#pe814c10910)\" d=\"M 1301.979943 1094.4 \nL 1308.067216 1094.4 \nL 1308.067216 901.909822 \nL 1301.979943 901.909822 \nz\n\" style=\"fill:#b4a9eb;\"/>\n   </g>\n   <g id=\"patch_168\">\n    <path clip-path=\"url(#pe814c10910)\" d=\"M 1309.589034 1094.4 \nL 1315.676307 1094.4 \nL 1315.676307 929.04551 \nL 1309.589034 929.04551 \nz\n\" style=\"fill:#b6a8eb;\"/>\n   </g>\n   <g id=\"patch_169\">\n    <path clip-path=\"url(#pe814c10910)\" d=\"M 1317.198125 1094.4 \nL 1323.285398 1094.4 \nL 1323.285398 987.473842 \nL 1317.198125 987.473842 \nz\n\" style=\"fill:#b8a7eb;\"/>\n   </g>\n   <g id=\"patch_170\">\n    <path clip-path=\"url(#pe814c10910)\" d=\"M 1324.807216 1094.4 \nL 1330.894489 1094.4 \nL 1330.894489 927.313445 \nL 1324.807216 927.313445 \nz\n\" style=\"fill:#bba6ea;\"/>\n   </g>\n   <g id=\"patch_171\">\n    <path clip-path=\"url(#pe814c10910)\" d=\"M 1332.416307 1094.4 \nL 1338.50358 1094.4 \nL 1338.50358 1025.463805 \nL 1332.416307 1025.463805 \nz\n\" style=\"fill:#bda5ea;\"/>\n   </g>\n   <g id=\"patch_172\">\n    <path clip-path=\"url(#pe814c10910)\" d=\"M 1340.025398 1094.4 \nL 1346.11267 1094.4 \nL 1346.11267 1076.617464 \nL 1340.025398 1076.617464 \nz\n\" style=\"fill:#bfa4ea;\"/>\n   </g>\n   <g id=\"patch_173\">\n    <path clip-path=\"url(#pe814c10910)\" d=\"M 1347.634489 1094.4 \nL 1353.721761 1094.4 \nL 1353.721761 1073.499747 \nL 1347.634489 1073.499747 \nz\n\" style=\"fill:#c1a2ea;\"/>\n   </g>\n   <g id=\"patch_174\">\n    <path clip-path=\"url(#pe814c10910)\" d=\"M 1355.24358 1094.4 \nL 1361.330852 1094.4 \nL 1361.330852 1062.299058 \nL 1355.24358 1062.299058 \nz\n\" style=\"fill:#c3a1ea;\"/>\n   </g>\n   <g id=\"patch_175\">\n    <path clip-path=\"url(#pe814c10910)\" d=\"M 1362.85267 1094.4 \nL 1368.939943 1094.4 \nL 1368.939943 1078.926884 \nL 1362.85267 1078.926884 \nz\n\" style=\"fill:#c5a0ea;\"/>\n   </g>\n   <g id=\"patch_176\">\n    <path clip-path=\"url(#pe814c10910)\" d=\"M 1370.461761 1094.4 \nL 1376.549034 1094.4 \nL 1376.549034 1065.070363 \nL 1370.461761 1065.070363 \nz\n\" style=\"fill:#c89fe9;\"/>\n   </g>\n   <g id=\"patch_177\">\n    <path clip-path=\"url(#pe814c10910)\" d=\"M 1378.070852 1094.4 \nL 1384.158125 1094.4 \nL 1384.158125 1042.091631 \nL 1378.070852 1042.091631 \nz\n\" style=\"fill:#ca9ee9;\"/>\n   </g>\n   <g id=\"patch_178\">\n    <path clip-path=\"url(#pe814c10910)\" d=\"M 1385.679943 1094.4 \nL 1391.767216 1094.4 \nL 1391.767216 1064.72395 \nL 1385.679943 1064.72395 \nz\n\" style=\"fill:#cc9ce9;\"/>\n   </g>\n   <g id=\"patch_179\">\n    <path clip-path=\"url(#pe814c10910)\" d=\"M 1393.289034 1094.4 \nL 1399.376307 1094.4 \nL 1399.376307 1063.56924 \nL 1393.289034 1063.56924 \nz\n\" style=\"fill:#ce9be9;\"/>\n   </g>\n   <g id=\"patch_180\">\n    <path clip-path=\"url(#pe814c10910)\" d=\"M 1400.898125 1094.4 \nL 1406.985398 1094.4 \nL 1406.985398 1009.182393 \nL 1400.898125 1009.182393 \nz\n\" style=\"fill:#d09ae9;\"/>\n   </g>\n   <g id=\"patch_181\">\n    <path clip-path=\"url(#pe814c10910)\" d=\"M 1408.507216 1094.4 \nL 1414.594489 1094.4 \nL 1414.594489 948.675582 \nL 1408.507216 948.675582 \nz\n\" style=\"fill:#d298e8;\"/>\n   </g>\n   <g id=\"patch_182\">\n    <path clip-path=\"url(#pe814c10910)\" d=\"M 1416.116307 1094.4 \nL 1422.20358 1094.4 \nL 1422.20358 1001.099422 \nL 1416.116307 1001.099422 \nz\n\" style=\"fill:#d597e8;\"/>\n   </g>\n   <g id=\"patch_183\">\n    <path clip-path=\"url(#pe814c10910)\" d=\"M 1423.725398 1094.4 \nL 1429.81267 1094.4 \nL 1429.81267 973.50185 \nL 1423.725398 973.50185 \nz\n\" style=\"fill:#d795e8;\"/>\n   </g>\n   <g id=\"patch_184\">\n    <path clip-path=\"url(#pe814c10910)\" d=\"M 1431.334489 1094.4 \nL 1437.421761 1094.4 \nL 1437.421761 992.208154 \nL 1431.334489 992.208154 \nz\n\" style=\"fill:#d993e8;\"/>\n   </g>\n   <g id=\"patch_185\">\n    <path clip-path=\"url(#pe814c10910)\" d=\"M 1438.94358 1094.4 \nL 1445.030852 1094.4 \nL 1445.030852 1065.647718 \nL 1438.94358 1065.647718 \nz\n\" style=\"fill:#dc92e8;\"/>\n   </g>\n   <g id=\"patch_186\">\n    <path clip-path=\"url(#pe814c10910)\" d=\"M 1446.55267 1094.4 \nL 1452.639943 1094.4 \nL 1452.639943 1077.31029 \nL 1446.55267 1077.31029 \nz\n\" style=\"fill:#de90e7;\"/>\n   </g>\n   <g id=\"patch_187\">\n    <path clip-path=\"url(#pe814c10910)\" d=\"M 1454.161761 1094.4 \nL 1460.249034 1094.4 \nL 1460.249034 1064.72395 \nL 1454.161761 1064.72395 \nz\n\" style=\"fill:#e08ee7;\"/>\n   </g>\n   <g id=\"patch_188\">\n    <path clip-path=\"url(#pe814c10910)\" d=\"M 1461.770852 1094.4 \nL 1467.858125 1094.4 \nL 1467.858125 1006.526559 \nL 1461.770852 1006.526559 \nz\n\" style=\"fill:#e38ce7;\"/>\n   </g>\n   <g id=\"patch_189\">\n    <path clip-path=\"url(#pe814c10910)\" d=\"M 1469.379943 1094.4 \nL 1475.467216 1094.4 \nL 1475.467216 1069.573732 \nL 1469.379943 1069.573732 \nz\n\" style=\"fill:#e589e6;\"/>\n   </g>\n   <g id=\"patch_190\">\n    <path clip-path=\"url(#pe814c10910)\" d=\"M 1476.989034 1094.4 \nL 1483.076307 1094.4 \nL 1483.076307 1042.553515 \nL 1476.989034 1042.553515 \nz\n\" style=\"fill:#e689e4;\"/>\n   </g>\n   <g id=\"patch_191\">\n    <path clip-path=\"url(#pe814c10910)\" d=\"M 1484.598125 1094.4 \nL 1490.685398 1094.4 \nL 1490.685398 1047.865182 \nL 1484.598125 1047.865182 \nz\n\" style=\"fill:#e689e2;\"/>\n   </g>\n   <g id=\"patch_192\">\n    <path clip-path=\"url(#pe814c10910)\" d=\"M 1492.207216 1094.4 \nL 1498.294489 1094.4 \nL 1498.294489 998.559059 \nL 1492.207216 998.559059 \nz\n\" style=\"fill:#e78adf;\"/>\n   </g>\n   <g id=\"patch_193\">\n    <path clip-path=\"url(#pe814c10910)\" d=\"M 1499.816307 1094.4 \nL 1505.90358 1094.4 \nL 1505.90358 1061.606232 \nL 1499.816307 1061.606232 \nz\n\" style=\"fill:#e78bdd;\"/>\n   </g>\n   <g id=\"patch_194\">\n    <path clip-path=\"url(#pe814c10910)\" d=\"M 1507.425398 1094.4 \nL 1513.51267 1094.4 \nL 1513.51267 1040.359566 \nL 1507.425398 1040.359566 \nz\n\" style=\"fill:#e78bdb;\"/>\n   </g>\n   <g id=\"patch_195\">\n    <path clip-path=\"url(#pe814c10910)\" d=\"M 1515.034489 1094.4 \nL 1521.121761 1094.4 \nL 1521.121761 1087.240797 \nL 1515.034489 1087.240797 \nz\n\" style=\"fill:#e78cd8;\"/>\n   </g>\n   <g id=\"patch_196\">\n    <path clip-path=\"url(#pe814c10910)\" d=\"M 1522.64358 1094.4 \nL 1528.730852 1094.4 \nL 1528.730852 1084.931377 \nL 1522.64358 1084.931377 \nz\n\" style=\"fill:#e78cd6;\"/>\n   </g>\n   <g id=\"patch_197\">\n    <path clip-path=\"url(#pe814c10910)\" d=\"M 1530.25267 1094.4 \nL 1536.339943 1094.4 \nL 1536.339943 1068.765435 \nL 1530.25267 1068.765435 \nz\n\" style=\"fill:#e78dd4;\"/>\n   </g>\n   <g id=\"patch_198\">\n    <path clip-path=\"url(#pe814c10910)\" d=\"M 1537.861761 1094.4 \nL 1543.949034 1094.4 \nL 1543.949034 1082.391015 \nL 1537.861761 1082.391015 \nz\n\" style=\"fill:#e78dd2;\"/>\n   </g>\n   <g id=\"patch_199\">\n    <path clip-path=\"url(#pe814c10910)\" d=\"M 1545.470852 1094.4 \nL 1551.558125 1094.4 \nL 1551.558125 1078.465 \nL 1545.470852 1078.465 \nz\n\" style=\"fill:#e88ed0;\"/>\n   </g>\n   <g id=\"patch_200\">\n    <path clip-path=\"url(#pe814c10910)\" d=\"M 1553.079943 1094.4 \nL 1559.167216 1094.4 \nL 1559.167216 1075.231812 \nL 1553.079943 1075.231812 \nz\n\" style=\"fill:#e88ece;\"/>\n   </g>\n   <g id=\"patch_201\">\n    <path clip-path=\"url(#pe814c10910)\" d=\"M 1560.689034 1094.4 \nL 1566.776307 1094.4 \nL 1566.776307 1059.989638 \nL 1560.689034 1059.989638 \nz\n\" style=\"fill:#e88fcc;\"/>\n   </g>\n   <g id=\"patch_202\">\n    <path clip-path=\"url(#pe814c10910)\" d=\"M 1568.298125 1094.4 \nL 1574.385398 1094.4 \nL 1574.385398 1058.026631 \nL 1568.298125 1058.026631 \nz\n\" style=\"fill:#e88fca;\"/>\n   </g>\n   <g id=\"patch_203\">\n    <path clip-path=\"url(#pe814c10910)\" d=\"M 1575.907216 1094.4 \nL 1581.994489 1094.4 \nL 1581.994489 1015.417827 \nL 1575.907216 1015.417827 \nz\n\" style=\"fill:#e88fc9;\"/>\n   </g>\n   <g id=\"patch_204\">\n    <path clip-path=\"url(#pe814c10910)\" d=\"M 1583.516307 1094.4 \nL 1589.60358 1094.4 \nL 1589.60358 1030.429059 \nL 1583.516307 1030.429059 \nz\n\" style=\"fill:#e890c7;\"/>\n   </g>\n   <g id=\"patch_205\">\n    <path clip-path=\"url(#pe814c10910)\" d=\"M 1591.125398 1094.4 \nL 1597.21267 1094.4 \nL 1597.21267 976.735038 \nL 1591.125398 976.735038 \nz\n\" style=\"fill:#e890c5;\"/>\n   </g>\n   <g id=\"patch_206\">\n    <path clip-path=\"url(#pe814c10910)\" d=\"M 1598.734489 1094.4 \nL 1604.821761 1094.4 \nL 1604.821761 1019.1129 \nL 1598.734489 1019.1129 \nz\n\" style=\"fill:#e891c3;\"/>\n   </g>\n   <g id=\"patch_207\">\n    <path clip-path=\"url(#pe814c10910)\" d=\"M 1606.34358 1094.4 \nL 1612.430852 1094.4 \nL 1612.430852 906.182249 \nL 1606.34358 906.182249 \nz\n\" style=\"fill:#e891c2;\"/>\n   </g>\n   <g id=\"patch_208\">\n    <path clip-path=\"url(#pe814c10910)\" d=\"M 1613.95267 1094.4 \nL 1620.039943 1094.4 \nL 1620.039943 846.599207 \nL 1613.95267 846.599207 \nz\n\" style=\"fill:#e891c0;\"/>\n   </g>\n   <g id=\"patch_209\">\n    <path clip-path=\"url(#pe814c10910)\" d=\"M 1621.561761 1094.4 \nL 1627.649034 1094.4 \nL 1627.649034 861.264025 \nL 1621.561761 861.264025 \nz\n\" style=\"fill:#e992be;\"/>\n   </g>\n   <g id=\"patch_210\">\n    <path clip-path=\"url(#pe814c10910)\" d=\"M 1629.170852 1094.4 \nL 1635.258125 1094.4 \nL 1635.258125 829.85591 \nL 1629.170852 829.85591 \nz\n\" style=\"fill:#e992bc;\"/>\n   </g>\n   <g id=\"patch_211\">\n    <path clip-path=\"url(#pe814c10910)\" d=\"M 1636.779943 1094.4 \nL 1642.867216 1094.4 \nL 1642.867216 931.932285 \nL 1636.779943 931.932285 \nz\n\" style=\"fill:#e992bb;\"/>\n   </g>\n   <g id=\"patch_212\">\n    <path clip-path=\"url(#pe814c10910)\" d=\"M 1644.389034 1094.4 \nL 1650.476307 1094.4 \nL 1650.476307 1021.537791 \nL 1644.389034 1021.537791 \nz\n\" style=\"fill:#e993b9;\"/>\n   </g>\n   <g id=\"patch_213\">\n    <path clip-path=\"url(#pe814c10910)\" d=\"M 1651.998125 1094.4 \nL 1658.085398 1094.4 \nL 1658.085398 1050.521015 \nL 1651.998125 1050.521015 \nz\n\" style=\"fill:#e993b7;\"/>\n   </g>\n   <g id=\"patch_214\">\n    <path clip-path=\"url(#pe814c10910)\" d=\"M 1659.607216 1094.4 \nL 1665.694489 1094.4 \nL 1665.694489 1049.481776 \nL 1659.607216 1049.481776 \nz\n\" style=\"fill:#e993b5;\"/>\n   </g>\n   <g id=\"patch_215\">\n    <path clip-path=\"url(#pe814c10910)\" d=\"M 1667.216307 1094.4 \nL 1673.30358 1094.4 \nL 1673.30358 1043.823696 \nL 1667.216307 1043.823696 \nz\n\" style=\"fill:#e993b4;\"/>\n   </g>\n   <g id=\"patch_216\">\n    <path clip-path=\"url(#pe814c10910)\" d=\"M 1674.825398 1094.4 \nL 1680.91267 1094.4 \nL 1680.91267 1002.716016 \nL 1674.825398 1002.716016 \nz\n\" style=\"fill:#e994b2;\"/>\n   </g>\n   <g id=\"patch_217\">\n    <path clip-path=\"url(#pe814c10910)\" d=\"M 1682.434489 1094.4 \nL 1688.521761 1094.4 \nL 1688.521761 1015.533298 \nL 1682.434489 1015.533298 \nz\n\" style=\"fill:#e994b0;\"/>\n   </g>\n   <g id=\"patch_218\">\n    <path clip-path=\"url(#pe814c10910)\" d=\"M 1690.04358 1094.4 \nL 1696.130852 1094.4 \nL 1696.130852 989.783262 \nL 1690.04358 989.783262 \nz\n\" style=\"fill:#e994ae;\"/>\n   </g>\n   <g id=\"patch_219\">\n    <path clip-path=\"url(#pe814c10910)\" d=\"M 1697.65267 1094.4 \nL 1703.739943 1094.4 \nL 1703.739943 977.081451 \nL 1697.65267 977.081451 \nz\n\" style=\"fill:#e995ac;\"/>\n   </g>\n   <g id=\"patch_220\">\n    <path clip-path=\"url(#pe814c10910)\" d=\"M 1705.261761 1094.4 \nL 1711.349034 1094.4 \nL 1711.349034 1026.04116 \nL 1705.261761 1026.04116 \nz\n\" style=\"fill:#e995aa;\"/>\n   </g>\n   <g id=\"patch_221\">\n    <path clip-path=\"url(#pe814c10910)\" d=\"M 1712.870852 1094.4 \nL 1718.958125 1094.4 \nL 1718.958125 1083.083841 \nL 1712.870852 1083.083841 \nz\n\" style=\"fill:#e995a7;\"/>\n   </g>\n   <g id=\"patch_222\">\n    <path clip-path=\"url(#pe814c10910)\" d=\"M 1720.479943 1094.4 \nL 1726.567216 1094.4 \nL 1726.567216 1094.284529 \nL 1720.479943 1094.284529 \nz\n\" style=\"fill:#ea96a5;\"/>\n   </g>\n   <g id=\"matplotlib.axis_1\">\n    <g id=\"xtick_1\">\n     <g id=\"line2d_1\">\n      <defs>\n       <path d=\"M 0 0 \nL 0 3.5 \n\" id=\"mf462dd3182\" style=\"stroke:#000000;stroke-width:0.8;\"/>\n      </defs>\n      <g>\n       <use style=\"stroke:#000000;stroke-width:0.8;\" x=\"57.13267\" xlink:href=\"#mf462dd3182\" y=\"1094.4\"/>\n      </g>\n     </g>\n     <g id=\"text_1\">\n      <!-- 1754.0 -->\n      <g transform=\"translate(59.892045 1136.390625)rotate(-90)scale(0.1 -0.1)\">\n       <defs>\n        <path d=\"M 794 531 \nL 1825 531 \nL 1825 4091 \nL 703 3866 \nL 703 4441 \nL 1819 4666 \nL 2450 4666 \nL 2450 531 \nL 3481 531 \nL 3481 0 \nL 794 0 \nL 794 531 \nz\n\" id=\"DejaVuSans-31\" transform=\"scale(0.015625)\"/>\n        <path d=\"M 525 4666 \nL 3525 4666 \nL 3525 4397 \nL 1831 0 \nL 1172 0 \nL 2766 4134 \nL 525 4134 \nL 525 4666 \nz\n\" id=\"DejaVuSans-37\" transform=\"scale(0.015625)\"/>\n        <path d=\"M 691 4666 \nL 3169 4666 \nL 3169 4134 \nL 1269 4134 \nL 1269 2991 \nQ 1406 3038 1543 3061 \nQ 1681 3084 1819 3084 \nQ 2600 3084 3056 2656 \nQ 3513 2228 3513 1497 \nQ 3513 744 3044 326 \nQ 2575 -91 1722 -91 \nQ 1428 -91 1123 -41 \nQ 819 9 494 109 \nL 494 744 \nQ 775 591 1075 516 \nQ 1375 441 1709 441 \nQ 2250 441 2565 725 \nQ 2881 1009 2881 1497 \nQ 2881 1984 2565 2268 \nQ 2250 2553 1709 2553 \nQ 1456 2553 1204 2497 \nQ 953 2441 691 2322 \nL 691 4666 \nz\n\" id=\"DejaVuSans-35\" transform=\"scale(0.015625)\"/>\n        <path d=\"M 2419 4116 \nL 825 1625 \nL 2419 1625 \nL 2419 4116 \nz\nM 2253 4666 \nL 3047 4666 \nL 3047 1625 \nL 3713 1625 \nL 3713 1100 \nL 3047 1100 \nL 3047 0 \nL 2419 0 \nL 2419 1100 \nL 313 1100 \nL 313 1709 \nL 2253 4666 \nz\n\" id=\"DejaVuSans-34\" transform=\"scale(0.015625)\"/>\n        <path d=\"M 684 794 \nL 1344 794 \nL 1344 0 \nL 684 0 \nL 684 794 \nz\n\" id=\"DejaVuSans-2e\" transform=\"scale(0.015625)\"/>\n        <path d=\"M 2034 4250 \nQ 1547 4250 1301 3770 \nQ 1056 3291 1056 2328 \nQ 1056 1369 1301 889 \nQ 1547 409 2034 409 \nQ 2525 409 2770 889 \nQ 3016 1369 3016 2328 \nQ 3016 3291 2770 3770 \nQ 2525 4250 2034 4250 \nz\nM 2034 4750 \nQ 2819 4750 3233 4129 \nQ 3647 3509 3647 2328 \nQ 3647 1150 3233 529 \nQ 2819 -91 2034 -91 \nQ 1250 -91 836 529 \nQ 422 1150 422 2328 \nQ 422 3509 836 4129 \nQ 1250 4750 2034 4750 \nz\n\" id=\"DejaVuSans-30\" transform=\"scale(0.015625)\"/>\n       </defs>\n       <use xlink:href=\"#DejaVuSans-31\"/>\n       <use x=\"63.623047\" xlink:href=\"#DejaVuSans-37\"/>\n       <use x=\"127.246094\" xlink:href=\"#DejaVuSans-35\"/>\n       <use x=\"190.869141\" xlink:href=\"#DejaVuSans-34\"/>\n       <use x=\"254.492188\" xlink:href=\"#DejaVuSans-2e\"/>\n       <use x=\"286.279297\" xlink:href=\"#DejaVuSans-30\"/>\n      </g>\n     </g>\n    </g>\n    <g id=\"xtick_2\">\n     <g id=\"line2d_2\">\n      <g>\n       <use style=\"stroke:#000000;stroke-width:0.8;\" x=\"64.741761\" xlink:href=\"#mf462dd3182\" y=\"1094.4\"/>\n      </g>\n     </g>\n     <g id=\"text_2\">\n      <!-- 1765.0 -->\n      <g transform=\"translate(67.501136 1136.390625)rotate(-90)scale(0.1 -0.1)\">\n       <defs>\n        <path d=\"M 2113 2584 \nQ 1688 2584 1439 2293 \nQ 1191 2003 1191 1497 \nQ 1191 994 1439 701 \nQ 1688 409 2113 409 \nQ 2538 409 2786 701 \nQ 3034 994 3034 1497 \nQ 3034 2003 2786 2293 \nQ 2538 2584 2113 2584 \nz\nM 3366 4563 \nL 3366 3988 \nQ 3128 4100 2886 4159 \nQ 2644 4219 2406 4219 \nQ 1781 4219 1451 3797 \nQ 1122 3375 1075 2522 \nQ 1259 2794 1537 2939 \nQ 1816 3084 2150 3084 \nQ 2853 3084 3261 2657 \nQ 3669 2231 3669 1497 \nQ 3669 778 3244 343 \nQ 2819 -91 2113 -91 \nQ 1303 -91 875 529 \nQ 447 1150 447 2328 \nQ 447 3434 972 4092 \nQ 1497 4750 2381 4750 \nQ 2619 4750 2861 4703 \nQ 3103 4656 3366 4563 \nz\n\" id=\"DejaVuSans-36\" transform=\"scale(0.015625)\"/>\n       </defs>\n       <use xlink:href=\"#DejaVuSans-31\"/>\n       <use x=\"63.623047\" xlink:href=\"#DejaVuSans-37\"/>\n       <use x=\"127.246094\" xlink:href=\"#DejaVuSans-36\"/>\n       <use x=\"190.869141\" xlink:href=\"#DejaVuSans-35\"/>\n       <use x=\"254.492188\" xlink:href=\"#DejaVuSans-2e\"/>\n       <use x=\"286.279297\" xlink:href=\"#DejaVuSans-30\"/>\n      </g>\n     </g>\n    </g>\n    <g id=\"xtick_3\">\n     <g id=\"line2d_3\">\n      <g>\n       <use style=\"stroke:#000000;stroke-width:0.8;\" x=\"72.350852\" xlink:href=\"#mf462dd3182\" y=\"1094.4\"/>\n      </g>\n     </g>\n     <g id=\"text_3\">\n      <!-- 1776.0 -->\n      <g transform=\"translate(75.110227 1136.390625)rotate(-90)scale(0.1 -0.1)\">\n       <use xlink:href=\"#DejaVuSans-31\"/>\n       <use x=\"63.623047\" xlink:href=\"#DejaVuSans-37\"/>\n       <use x=\"127.246094\" xlink:href=\"#DejaVuSans-37\"/>\n       <use x=\"190.869141\" xlink:href=\"#DejaVuSans-36\"/>\n       <use x=\"254.492188\" xlink:href=\"#DejaVuSans-2e\"/>\n       <use x=\"286.279297\" xlink:href=\"#DejaVuSans-30\"/>\n      </g>\n     </g>\n    </g>\n    <g id=\"xtick_4\">\n     <g id=\"line2d_4\">\n      <g>\n       <use style=\"stroke:#000000;stroke-width:0.8;\" x=\"79.959943\" xlink:href=\"#mf462dd3182\" y=\"1094.4\"/>\n      </g>\n     </g>\n     <g id=\"text_4\">\n      <!-- 1780.0 -->\n      <g transform=\"translate(82.719318 1136.390625)rotate(-90)scale(0.1 -0.1)\">\n       <defs>\n        <path d=\"M 2034 2216 \nQ 1584 2216 1326 1975 \nQ 1069 1734 1069 1313 \nQ 1069 891 1326 650 \nQ 1584 409 2034 409 \nQ 2484 409 2743 651 \nQ 3003 894 3003 1313 \nQ 3003 1734 2745 1975 \nQ 2488 2216 2034 2216 \nz\nM 1403 2484 \nQ 997 2584 770 2862 \nQ 544 3141 544 3541 \nQ 544 4100 942 4425 \nQ 1341 4750 2034 4750 \nQ 2731 4750 3128 4425 \nQ 3525 4100 3525 3541 \nQ 3525 3141 3298 2862 \nQ 3072 2584 2669 2484 \nQ 3125 2378 3379 2068 \nQ 3634 1759 3634 1313 \nQ 3634 634 3220 271 \nQ 2806 -91 2034 -91 \nQ 1263 -91 848 271 \nQ 434 634 434 1313 \nQ 434 1759 690 2068 \nQ 947 2378 1403 2484 \nz\nM 1172 3481 \nQ 1172 3119 1398 2916 \nQ 1625 2713 2034 2713 \nQ 2441 2713 2670 2916 \nQ 2900 3119 2900 3481 \nQ 2900 3844 2670 4047 \nQ 2441 4250 2034 4250 \nQ 1625 4250 1398 4047 \nQ 1172 3844 1172 3481 \nz\n\" id=\"DejaVuSans-38\" transform=\"scale(0.015625)\"/>\n       </defs>\n       <use xlink:href=\"#DejaVuSans-31\"/>\n       <use x=\"63.623047\" xlink:href=\"#DejaVuSans-37\"/>\n       <use x=\"127.246094\" xlink:href=\"#DejaVuSans-38\"/>\n       <use x=\"190.869141\" xlink:href=\"#DejaVuSans-30\"/>\n       <use x=\"254.492188\" xlink:href=\"#DejaVuSans-2e\"/>\n       <use x=\"286.279297\" xlink:href=\"#DejaVuSans-30\"/>\n      </g>\n     </g>\n    </g>\n    <g id=\"xtick_5\">\n     <g id=\"line2d_5\">\n      <g>\n       <use style=\"stroke:#000000;stroke-width:0.8;\" x=\"87.569034\" xlink:href=\"#mf462dd3182\" y=\"1094.4\"/>\n      </g>\n     </g>\n     <g id=\"text_5\">\n      <!-- 1782.0 -->\n      <g transform=\"translate(90.328409 1136.390625)rotate(-90)scale(0.1 -0.1)\">\n       <defs>\n        <path d=\"M 1228 531 \nL 3431 531 \nL 3431 0 \nL 469 0 \nL 469 531 \nQ 828 903 1448 1529 \nQ 2069 2156 2228 2338 \nQ 2531 2678 2651 2914 \nQ 2772 3150 2772 3378 \nQ 2772 3750 2511 3984 \nQ 2250 4219 1831 4219 \nQ 1534 4219 1204 4116 \nQ 875 4013 500 3803 \nL 500 4441 \nQ 881 4594 1212 4672 \nQ 1544 4750 1819 4750 \nQ 2544 4750 2975 4387 \nQ 3406 4025 3406 3419 \nQ 3406 3131 3298 2873 \nQ 3191 2616 2906 2266 \nQ 2828 2175 2409 1742 \nQ 1991 1309 1228 531 \nz\n\" id=\"DejaVuSans-32\" transform=\"scale(0.015625)\"/>\n       </defs>\n       <use xlink:href=\"#DejaVuSans-31\"/>\n       <use x=\"63.623047\" xlink:href=\"#DejaVuSans-37\"/>\n       <use x=\"127.246094\" xlink:href=\"#DejaVuSans-38\"/>\n       <use x=\"190.869141\" xlink:href=\"#DejaVuSans-32\"/>\n       <use x=\"254.492188\" xlink:href=\"#DejaVuSans-2e\"/>\n       <use x=\"286.279297\" xlink:href=\"#DejaVuSans-30\"/>\n      </g>\n     </g>\n    </g>\n    <g id=\"xtick_6\">\n     <g id=\"line2d_6\">\n      <g>\n       <use style=\"stroke:#000000;stroke-width:0.8;\" x=\"95.178125\" xlink:href=\"#mf462dd3182\" y=\"1094.4\"/>\n      </g>\n     </g>\n     <g id=\"text_6\">\n      <!-- 1784.0 -->\n      <g transform=\"translate(97.9375 1136.390625)rotate(-90)scale(0.1 -0.1)\">\n       <use xlink:href=\"#DejaVuSans-31\"/>\n       <use x=\"63.623047\" xlink:href=\"#DejaVuSans-37\"/>\n       <use x=\"127.246094\" xlink:href=\"#DejaVuSans-38\"/>\n       <use x=\"190.869141\" xlink:href=\"#DejaVuSans-34\"/>\n       <use x=\"254.492188\" xlink:href=\"#DejaVuSans-2e\"/>\n       <use x=\"286.279297\" xlink:href=\"#DejaVuSans-30\"/>\n      </g>\n     </g>\n    </g>\n    <g id=\"xtick_7\">\n     <g id=\"line2d_7\">\n      <g>\n       <use style=\"stroke:#000000;stroke-width:0.8;\" x=\"102.787216\" xlink:href=\"#mf462dd3182\" y=\"1094.4\"/>\n      </g>\n     </g>\n     <g id=\"text_7\">\n      <!-- 1785.0 -->\n      <g transform=\"translate(105.546591 1136.390625)rotate(-90)scale(0.1 -0.1)\">\n       <use xlink:href=\"#DejaVuSans-31\"/>\n       <use x=\"63.623047\" xlink:href=\"#DejaVuSans-37\"/>\n       <use x=\"127.246094\" xlink:href=\"#DejaVuSans-38\"/>\n       <use x=\"190.869141\" xlink:href=\"#DejaVuSans-35\"/>\n       <use x=\"254.492188\" xlink:href=\"#DejaVuSans-2e\"/>\n       <use x=\"286.279297\" xlink:href=\"#DejaVuSans-30\"/>\n      </g>\n     </g>\n    </g>\n    <g id=\"xtick_8\">\n     <g id=\"line2d_8\">\n      <g>\n       <use style=\"stroke:#000000;stroke-width:0.8;\" x=\"110.396307\" xlink:href=\"#mf462dd3182\" y=\"1094.4\"/>\n      </g>\n     </g>\n     <g id=\"text_8\">\n      <!-- 1787.0 -->\n      <g transform=\"translate(113.155682 1136.390625)rotate(-90)scale(0.1 -0.1)\">\n       <use xlink:href=\"#DejaVuSans-31\"/>\n       <use x=\"63.623047\" xlink:href=\"#DejaVuSans-37\"/>\n       <use x=\"127.246094\" xlink:href=\"#DejaVuSans-38\"/>\n       <use x=\"190.869141\" xlink:href=\"#DejaVuSans-37\"/>\n       <use x=\"254.492188\" xlink:href=\"#DejaVuSans-2e\"/>\n       <use x=\"286.279297\" xlink:href=\"#DejaVuSans-30\"/>\n      </g>\n     </g>\n    </g>\n    <g id=\"xtick_9\">\n     <g id=\"line2d_9\">\n      <g>\n       <use style=\"stroke:#000000;stroke-width:0.8;\" x=\"118.005398\" xlink:href=\"#mf462dd3182\" y=\"1094.4\"/>\n      </g>\n     </g>\n     <g id=\"text_9\">\n      <!-- 1788.0 -->\n      <g transform=\"translate(120.764773 1136.390625)rotate(-90)scale(0.1 -0.1)\">\n       <use xlink:href=\"#DejaVuSans-31\"/>\n       <use x=\"63.623047\" xlink:href=\"#DejaVuSans-37\"/>\n       <use x=\"127.246094\" xlink:href=\"#DejaVuSans-38\"/>\n       <use x=\"190.869141\" xlink:href=\"#DejaVuSans-38\"/>\n       <use x=\"254.492188\" xlink:href=\"#DejaVuSans-2e\"/>\n       <use x=\"286.279297\" xlink:href=\"#DejaVuSans-30\"/>\n      </g>\n     </g>\n    </g>\n    <g id=\"xtick_10\">\n     <g id=\"line2d_10\">\n      <g>\n       <use style=\"stroke:#000000;stroke-width:0.8;\" x=\"125.614489\" xlink:href=\"#mf462dd3182\" y=\"1094.4\"/>\n      </g>\n     </g>\n     <g id=\"text_10\">\n      <!-- 1790.0 -->\n      <g transform=\"translate(128.373864 1136.390625)rotate(-90)scale(0.1 -0.1)\">\n       <defs>\n        <path d=\"M 703 97 \nL 703 672 \nQ 941 559 1184 500 \nQ 1428 441 1663 441 \nQ 2288 441 2617 861 \nQ 2947 1281 2994 2138 \nQ 2813 1869 2534 1725 \nQ 2256 1581 1919 1581 \nQ 1219 1581 811 2004 \nQ 403 2428 403 3163 \nQ 403 3881 828 4315 \nQ 1253 4750 1959 4750 \nQ 2769 4750 3195 4129 \nQ 3622 3509 3622 2328 \nQ 3622 1225 3098 567 \nQ 2575 -91 1691 -91 \nQ 1453 -91 1209 -44 \nQ 966 3 703 97 \nz\nM 1959 2075 \nQ 2384 2075 2632 2365 \nQ 2881 2656 2881 3163 \nQ 2881 3666 2632 3958 \nQ 2384 4250 1959 4250 \nQ 1534 4250 1286 3958 \nQ 1038 3666 1038 3163 \nQ 1038 2656 1286 2365 \nQ 1534 2075 1959 2075 \nz\n\" id=\"DejaVuSans-39\" transform=\"scale(0.015625)\"/>\n       </defs>\n       <use xlink:href=\"#DejaVuSans-31\"/>\n       <use x=\"63.623047\" xlink:href=\"#DejaVuSans-37\"/>\n       <use x=\"127.246094\" xlink:href=\"#DejaVuSans-39\"/>\n       <use x=\"190.869141\" xlink:href=\"#DejaVuSans-30\"/>\n       <use x=\"254.492188\" xlink:href=\"#DejaVuSans-2e\"/>\n       <use x=\"286.279297\" xlink:href=\"#DejaVuSans-30\"/>\n      </g>\n     </g>\n    </g>\n    <g id=\"xtick_11\">\n     <g id=\"line2d_11\">\n      <g>\n       <use style=\"stroke:#000000;stroke-width:0.8;\" x=\"133.22358\" xlink:href=\"#mf462dd3182\" y=\"1094.4\"/>\n      </g>\n     </g>\n     <g id=\"text_11\">\n      <!-- 1791.0 -->\n      <g transform=\"translate(135.982955 1136.390625)rotate(-90)scale(0.1 -0.1)\">\n       <use xlink:href=\"#DejaVuSans-31\"/>\n       <use x=\"63.623047\" xlink:href=\"#DejaVuSans-37\"/>\n       <use x=\"127.246094\" xlink:href=\"#DejaVuSans-39\"/>\n       <use x=\"190.869141\" xlink:href=\"#DejaVuSans-31\"/>\n       <use x=\"254.492188\" xlink:href=\"#DejaVuSans-2e\"/>\n       <use x=\"286.279297\" xlink:href=\"#DejaVuSans-30\"/>\n      </g>\n     </g>\n    </g>\n    <g id=\"xtick_12\">\n     <g id=\"line2d_12\">\n      <g>\n       <use style=\"stroke:#000000;stroke-width:0.8;\" x=\"140.83267\" xlink:href=\"#mf462dd3182\" y=\"1094.4\"/>\n      </g>\n     </g>\n     <g id=\"text_12\">\n      <!-- 1793.0 -->\n      <g transform=\"translate(143.592045 1136.390625)rotate(-90)scale(0.1 -0.1)\">\n       <defs>\n        <path d=\"M 2597 2516 \nQ 3050 2419 3304 2112 \nQ 3559 1806 3559 1356 \nQ 3559 666 3084 287 \nQ 2609 -91 1734 -91 \nQ 1441 -91 1130 -33 \nQ 819 25 488 141 \nL 488 750 \nQ 750 597 1062 519 \nQ 1375 441 1716 441 \nQ 2309 441 2620 675 \nQ 2931 909 2931 1356 \nQ 2931 1769 2642 2001 \nQ 2353 2234 1838 2234 \nL 1294 2234 \nL 1294 2753 \nL 1863 2753 \nQ 2328 2753 2575 2939 \nQ 2822 3125 2822 3475 \nQ 2822 3834 2567 4026 \nQ 2313 4219 1838 4219 \nQ 1578 4219 1281 4162 \nQ 984 4106 628 3988 \nL 628 4550 \nQ 988 4650 1302 4700 \nQ 1616 4750 1894 4750 \nQ 2613 4750 3031 4423 \nQ 3450 4097 3450 3541 \nQ 3450 3153 3228 2886 \nQ 3006 2619 2597 2516 \nz\n\" id=\"DejaVuSans-33\" transform=\"scale(0.015625)\"/>\n       </defs>\n       <use xlink:href=\"#DejaVuSans-31\"/>\n       <use x=\"63.623047\" xlink:href=\"#DejaVuSans-37\"/>\n       <use x=\"127.246094\" xlink:href=\"#DejaVuSans-39\"/>\n       <use x=\"190.869141\" xlink:href=\"#DejaVuSans-33\"/>\n       <use x=\"254.492188\" xlink:href=\"#DejaVuSans-2e\"/>\n       <use x=\"286.279297\" xlink:href=\"#DejaVuSans-30\"/>\n      </g>\n     </g>\n    </g>\n    <g id=\"xtick_13\">\n     <g id=\"line2d_13\">\n      <g>\n       <use style=\"stroke:#000000;stroke-width:0.8;\" x=\"148.441761\" xlink:href=\"#mf462dd3182\" y=\"1094.4\"/>\n      </g>\n     </g>\n     <g id=\"text_13\">\n      <!-- 1794.0 -->\n      <g transform=\"translate(151.201136 1136.390625)rotate(-90)scale(0.1 -0.1)\">\n       <use xlink:href=\"#DejaVuSans-31\"/>\n       <use x=\"63.623047\" xlink:href=\"#DejaVuSans-37\"/>\n       <use x=\"127.246094\" xlink:href=\"#DejaVuSans-39\"/>\n       <use x=\"190.869141\" xlink:href=\"#DejaVuSans-34\"/>\n       <use x=\"254.492188\" xlink:href=\"#DejaVuSans-2e\"/>\n       <use x=\"286.279297\" xlink:href=\"#DejaVuSans-30\"/>\n      </g>\n     </g>\n    </g>\n    <g id=\"xtick_14\">\n     <g id=\"line2d_14\">\n      <g>\n       <use style=\"stroke:#000000;stroke-width:0.8;\" x=\"156.050852\" xlink:href=\"#mf462dd3182\" y=\"1094.4\"/>\n      </g>\n     </g>\n     <g id=\"text_14\">\n      <!-- 1795.0 -->\n      <g transform=\"translate(158.810227 1136.390625)rotate(-90)scale(0.1 -0.1)\">\n       <use xlink:href=\"#DejaVuSans-31\"/>\n       <use x=\"63.623047\" xlink:href=\"#DejaVuSans-37\"/>\n       <use x=\"127.246094\" xlink:href=\"#DejaVuSans-39\"/>\n       <use x=\"190.869141\" xlink:href=\"#DejaVuSans-35\"/>\n       <use x=\"254.492188\" xlink:href=\"#DejaVuSans-2e\"/>\n       <use x=\"286.279297\" xlink:href=\"#DejaVuSans-30\"/>\n      </g>\n     </g>\n    </g>\n    <g id=\"xtick_15\">\n     <g id=\"line2d_15\">\n      <g>\n       <use style=\"stroke:#000000;stroke-width:0.8;\" x=\"163.659943\" xlink:href=\"#mf462dd3182\" y=\"1094.4\"/>\n      </g>\n     </g>\n     <g id=\"text_15\">\n      <!-- 1796.0 -->\n      <g transform=\"translate(166.419318 1136.390625)rotate(-90)scale(0.1 -0.1)\">\n       <use xlink:href=\"#DejaVuSans-31\"/>\n       <use x=\"63.623047\" xlink:href=\"#DejaVuSans-37\"/>\n       <use x=\"127.246094\" xlink:href=\"#DejaVuSans-39\"/>\n       <use x=\"190.869141\" xlink:href=\"#DejaVuSans-36\"/>\n       <use x=\"254.492188\" xlink:href=\"#DejaVuSans-2e\"/>\n       <use x=\"286.279297\" xlink:href=\"#DejaVuSans-30\"/>\n      </g>\n     </g>\n    </g>\n    <g id=\"xtick_16\">\n     <g id=\"line2d_16\">\n      <g>\n       <use style=\"stroke:#000000;stroke-width:0.8;\" x=\"171.269034\" xlink:href=\"#mf462dd3182\" y=\"1094.4\"/>\n      </g>\n     </g>\n     <g id=\"text_16\">\n      <!-- 1797.0 -->\n      <g transform=\"translate(174.028409 1136.390625)rotate(-90)scale(0.1 -0.1)\">\n       <use xlink:href=\"#DejaVuSans-31\"/>\n       <use x=\"63.623047\" xlink:href=\"#DejaVuSans-37\"/>\n       <use x=\"127.246094\" xlink:href=\"#DejaVuSans-39\"/>\n       <use x=\"190.869141\" xlink:href=\"#DejaVuSans-37\"/>\n       <use x=\"254.492188\" xlink:href=\"#DejaVuSans-2e\"/>\n       <use x=\"286.279297\" xlink:href=\"#DejaVuSans-30\"/>\n      </g>\n     </g>\n    </g>\n    <g id=\"xtick_17\">\n     <g id=\"line2d_17\">\n      <g>\n       <use style=\"stroke:#000000;stroke-width:0.8;\" x=\"178.878125\" xlink:href=\"#mf462dd3182\" y=\"1094.4\"/>\n      </g>\n     </g>\n     <g id=\"text_17\">\n      <!-- 1799.0 -->\n      <g transform=\"translate(181.6375 1136.390625)rotate(-90)scale(0.1 -0.1)\">\n       <use xlink:href=\"#DejaVuSans-31\"/>\n       <use x=\"63.623047\" xlink:href=\"#DejaVuSans-37\"/>\n       <use x=\"127.246094\" xlink:href=\"#DejaVuSans-39\"/>\n       <use x=\"190.869141\" xlink:href=\"#DejaVuSans-39\"/>\n       <use x=\"254.492188\" xlink:href=\"#DejaVuSans-2e\"/>\n       <use x=\"286.279297\" xlink:href=\"#DejaVuSans-30\"/>\n      </g>\n     </g>\n    </g>\n    <g id=\"xtick_18\">\n     <g id=\"line2d_18\">\n      <g>\n       <use style=\"stroke:#000000;stroke-width:0.8;\" x=\"186.487216\" xlink:href=\"#mf462dd3182\" y=\"1094.4\"/>\n      </g>\n     </g>\n     <g id=\"text_18\">\n      <!-- 1800.0 -->\n      <g transform=\"translate(189.246591 1136.390625)rotate(-90)scale(0.1 -0.1)\">\n       <use xlink:href=\"#DejaVuSans-31\"/>\n       <use x=\"63.623047\" xlink:href=\"#DejaVuSans-38\"/>\n       <use x=\"127.246094\" xlink:href=\"#DejaVuSans-30\"/>\n       <use x=\"190.869141\" xlink:href=\"#DejaVuSans-30\"/>\n       <use x=\"254.492188\" xlink:href=\"#DejaVuSans-2e\"/>\n       <use x=\"286.279297\" xlink:href=\"#DejaVuSans-30\"/>\n      </g>\n     </g>\n    </g>\n    <g id=\"xtick_19\">\n     <g id=\"line2d_19\">\n      <g>\n       <use style=\"stroke:#000000;stroke-width:0.8;\" x=\"194.096307\" xlink:href=\"#mf462dd3182\" y=\"1094.4\"/>\n      </g>\n     </g>\n     <g id=\"text_19\">\n      <!-- 1801.0 -->\n      <g transform=\"translate(196.855682 1136.390625)rotate(-90)scale(0.1 -0.1)\">\n       <use xlink:href=\"#DejaVuSans-31\"/>\n       <use x=\"63.623047\" xlink:href=\"#DejaVuSans-38\"/>\n       <use x=\"127.246094\" xlink:href=\"#DejaVuSans-30\"/>\n       <use x=\"190.869141\" xlink:href=\"#DejaVuSans-31\"/>\n       <use x=\"254.492188\" xlink:href=\"#DejaVuSans-2e\"/>\n       <use x=\"286.279297\" xlink:href=\"#DejaVuSans-30\"/>\n      </g>\n     </g>\n    </g>\n    <g id=\"xtick_20\">\n     <g id=\"line2d_20\">\n      <g>\n       <use style=\"stroke:#000000;stroke-width:0.8;\" x=\"201.705398\" xlink:href=\"#mf462dd3182\" y=\"1094.4\"/>\n      </g>\n     </g>\n     <g id=\"text_20\">\n      <!-- 1802.0 -->\n      <g transform=\"translate(204.464773 1136.390625)rotate(-90)scale(0.1 -0.1)\">\n       <use xlink:href=\"#DejaVuSans-31\"/>\n       <use x=\"63.623047\" xlink:href=\"#DejaVuSans-38\"/>\n       <use x=\"127.246094\" xlink:href=\"#DejaVuSans-30\"/>\n       <use x=\"190.869141\" xlink:href=\"#DejaVuSans-32\"/>\n       <use x=\"254.492188\" xlink:href=\"#DejaVuSans-2e\"/>\n       <use x=\"286.279297\" xlink:href=\"#DejaVuSans-30\"/>\n      </g>\n     </g>\n    </g>\n    <g id=\"xtick_21\">\n     <g id=\"line2d_21\">\n      <g>\n       <use style=\"stroke:#000000;stroke-width:0.8;\" x=\"209.314489\" xlink:href=\"#mf462dd3182\" y=\"1094.4\"/>\n      </g>\n     </g>\n     <g id=\"text_21\">\n      <!-- 1803.0 -->\n      <g transform=\"translate(212.073864 1136.390625)rotate(-90)scale(0.1 -0.1)\">\n       <use xlink:href=\"#DejaVuSans-31\"/>\n       <use x=\"63.623047\" xlink:href=\"#DejaVuSans-38\"/>\n       <use x=\"127.246094\" xlink:href=\"#DejaVuSans-30\"/>\n       <use x=\"190.869141\" xlink:href=\"#DejaVuSans-33\"/>\n       <use x=\"254.492188\" xlink:href=\"#DejaVuSans-2e\"/>\n       <use x=\"286.279297\" xlink:href=\"#DejaVuSans-30\"/>\n      </g>\n     </g>\n    </g>\n    <g id=\"xtick_22\">\n     <g id=\"line2d_22\">\n      <g>\n       <use style=\"stroke:#000000;stroke-width:0.8;\" x=\"216.92358\" xlink:href=\"#mf462dd3182\" y=\"1094.4\"/>\n      </g>\n     </g>\n     <g id=\"text_22\">\n      <!-- 1805.0 -->\n      <g transform=\"translate(219.682955 1136.390625)rotate(-90)scale(0.1 -0.1)\">\n       <use xlink:href=\"#DejaVuSans-31\"/>\n       <use x=\"63.623047\" xlink:href=\"#DejaVuSans-38\"/>\n       <use x=\"127.246094\" xlink:href=\"#DejaVuSans-30\"/>\n       <use x=\"190.869141\" xlink:href=\"#DejaVuSans-35\"/>\n       <use x=\"254.492188\" xlink:href=\"#DejaVuSans-2e\"/>\n       <use x=\"286.279297\" xlink:href=\"#DejaVuSans-30\"/>\n      </g>\n     </g>\n    </g>\n    <g id=\"xtick_23\">\n     <g id=\"line2d_23\">\n      <g>\n       <use style=\"stroke:#000000;stroke-width:0.8;\" x=\"224.53267\" xlink:href=\"#mf462dd3182\" y=\"1094.4\"/>\n      </g>\n     </g>\n     <g id=\"text_23\">\n      <!-- 1806.0 -->\n      <g transform=\"translate(227.292045 1136.390625)rotate(-90)scale(0.1 -0.1)\">\n       <use xlink:href=\"#DejaVuSans-31\"/>\n       <use x=\"63.623047\" xlink:href=\"#DejaVuSans-38\"/>\n       <use x=\"127.246094\" xlink:href=\"#DejaVuSans-30\"/>\n       <use x=\"190.869141\" xlink:href=\"#DejaVuSans-36\"/>\n       <use x=\"254.492188\" xlink:href=\"#DejaVuSans-2e\"/>\n       <use x=\"286.279297\" xlink:href=\"#DejaVuSans-30\"/>\n      </g>\n     </g>\n    </g>\n    <g id=\"xtick_24\">\n     <g id=\"line2d_24\">\n      <g>\n       <use style=\"stroke:#000000;stroke-width:0.8;\" x=\"232.141761\" xlink:href=\"#mf462dd3182\" y=\"1094.4\"/>\n      </g>\n     </g>\n     <g id=\"text_24\">\n      <!-- 1807.0 -->\n      <g transform=\"translate(234.901136 1136.390625)rotate(-90)scale(0.1 -0.1)\">\n       <use xlink:href=\"#DejaVuSans-31\"/>\n       <use x=\"63.623047\" xlink:href=\"#DejaVuSans-38\"/>\n       <use x=\"127.246094\" xlink:href=\"#DejaVuSans-30\"/>\n       <use x=\"190.869141\" xlink:href=\"#DejaVuSans-37\"/>\n       <use x=\"254.492188\" xlink:href=\"#DejaVuSans-2e\"/>\n       <use x=\"286.279297\" xlink:href=\"#DejaVuSans-30\"/>\n      </g>\n     </g>\n    </g>\n    <g id=\"xtick_25\">\n     <g id=\"line2d_25\">\n      <g>\n       <use style=\"stroke:#000000;stroke-width:0.8;\" x=\"239.750852\" xlink:href=\"#mf462dd3182\" y=\"1094.4\"/>\n      </g>\n     </g>\n     <g id=\"text_25\">\n      <!-- 1808.0 -->\n      <g transform=\"translate(242.510227 1136.390625)rotate(-90)scale(0.1 -0.1)\">\n       <use xlink:href=\"#DejaVuSans-31\"/>\n       <use x=\"63.623047\" xlink:href=\"#DejaVuSans-38\"/>\n       <use x=\"127.246094\" xlink:href=\"#DejaVuSans-30\"/>\n       <use x=\"190.869141\" xlink:href=\"#DejaVuSans-38\"/>\n       <use x=\"254.492188\" xlink:href=\"#DejaVuSans-2e\"/>\n       <use x=\"286.279297\" xlink:href=\"#DejaVuSans-30\"/>\n      </g>\n     </g>\n    </g>\n    <g id=\"xtick_26\">\n     <g id=\"line2d_26\">\n      <g>\n       <use style=\"stroke:#000000;stroke-width:0.8;\" x=\"247.359943\" xlink:href=\"#mf462dd3182\" y=\"1094.4\"/>\n      </g>\n     </g>\n     <g id=\"text_26\">\n      <!-- 1810.0 -->\n      <g transform=\"translate(250.119318 1136.390625)rotate(-90)scale(0.1 -0.1)\">\n       <use xlink:href=\"#DejaVuSans-31\"/>\n       <use x=\"63.623047\" xlink:href=\"#DejaVuSans-38\"/>\n       <use x=\"127.246094\" xlink:href=\"#DejaVuSans-31\"/>\n       <use x=\"190.869141\" xlink:href=\"#DejaVuSans-30\"/>\n       <use x=\"254.492188\" xlink:href=\"#DejaVuSans-2e\"/>\n       <use x=\"286.279297\" xlink:href=\"#DejaVuSans-30\"/>\n      </g>\n     </g>\n    </g>\n    <g id=\"xtick_27\">\n     <g id=\"line2d_27\">\n      <g>\n       <use style=\"stroke:#000000;stroke-width:0.8;\" x=\"254.969034\" xlink:href=\"#mf462dd3182\" y=\"1094.4\"/>\n      </g>\n     </g>\n     <g id=\"text_27\">\n      <!-- 1811.0 -->\n      <g transform=\"translate(257.728409 1136.390625)rotate(-90)scale(0.1 -0.1)\">\n       <use xlink:href=\"#DejaVuSans-31\"/>\n       <use x=\"63.623047\" xlink:href=\"#DejaVuSans-38\"/>\n       <use x=\"127.246094\" xlink:href=\"#DejaVuSans-31\"/>\n       <use x=\"190.869141\" xlink:href=\"#DejaVuSans-31\"/>\n       <use x=\"254.492188\" xlink:href=\"#DejaVuSans-2e\"/>\n       <use x=\"286.279297\" xlink:href=\"#DejaVuSans-30\"/>\n      </g>\n     </g>\n    </g>\n    <g id=\"xtick_28\">\n     <g id=\"line2d_28\">\n      <g>\n       <use style=\"stroke:#000000;stroke-width:0.8;\" x=\"262.578125\" xlink:href=\"#mf462dd3182\" y=\"1094.4\"/>\n      </g>\n     </g>\n     <g id=\"text_28\">\n      <!-- 1812.0 -->\n      <g transform=\"translate(265.3375 1136.390625)rotate(-90)scale(0.1 -0.1)\">\n       <use xlink:href=\"#DejaVuSans-31\"/>\n       <use x=\"63.623047\" xlink:href=\"#DejaVuSans-38\"/>\n       <use x=\"127.246094\" xlink:href=\"#DejaVuSans-31\"/>\n       <use x=\"190.869141\" xlink:href=\"#DejaVuSans-32\"/>\n       <use x=\"254.492188\" xlink:href=\"#DejaVuSans-2e\"/>\n       <use x=\"286.279297\" xlink:href=\"#DejaVuSans-30\"/>\n      </g>\n     </g>\n    </g>\n    <g id=\"xtick_29\">\n     <g id=\"line2d_29\">\n      <g>\n       <use style=\"stroke:#000000;stroke-width:0.8;\" x=\"270.187216\" xlink:href=\"#mf462dd3182\" y=\"1094.4\"/>\n      </g>\n     </g>\n     <g id=\"text_29\">\n      <!-- 1813.0 -->\n      <g transform=\"translate(272.946591 1136.390625)rotate(-90)scale(0.1 -0.1)\">\n       <use xlink:href=\"#DejaVuSans-31\"/>\n       <use x=\"63.623047\" xlink:href=\"#DejaVuSans-38\"/>\n       <use x=\"127.246094\" xlink:href=\"#DejaVuSans-31\"/>\n       <use x=\"190.869141\" xlink:href=\"#DejaVuSans-33\"/>\n       <use x=\"254.492188\" xlink:href=\"#DejaVuSans-2e\"/>\n       <use x=\"286.279297\" xlink:href=\"#DejaVuSans-30\"/>\n      </g>\n     </g>\n    </g>\n    <g id=\"xtick_30\">\n     <g id=\"line2d_30\">\n      <g>\n       <use style=\"stroke:#000000;stroke-width:0.8;\" x=\"277.796307\" xlink:href=\"#mf462dd3182\" y=\"1094.4\"/>\n      </g>\n     </g>\n     <g id=\"text_30\">\n      <!-- 1815.0 -->\n      <g transform=\"translate(280.555682 1136.390625)rotate(-90)scale(0.1 -0.1)\">\n       <use xlink:href=\"#DejaVuSans-31\"/>\n       <use x=\"63.623047\" xlink:href=\"#DejaVuSans-38\"/>\n       <use x=\"127.246094\" xlink:href=\"#DejaVuSans-31\"/>\n       <use x=\"190.869141\" xlink:href=\"#DejaVuSans-35\"/>\n       <use x=\"254.492188\" xlink:href=\"#DejaVuSans-2e\"/>\n       <use x=\"286.279297\" xlink:href=\"#DejaVuSans-30\"/>\n      </g>\n     </g>\n    </g>\n    <g id=\"xtick_31\">\n     <g id=\"line2d_31\">\n      <g>\n       <use style=\"stroke:#000000;stroke-width:0.8;\" x=\"285.405398\" xlink:href=\"#mf462dd3182\" y=\"1094.4\"/>\n      </g>\n     </g>\n     <g id=\"text_31\">\n      <!-- 1816.0 -->\n      <g transform=\"translate(288.164773 1136.390625)rotate(-90)scale(0.1 -0.1)\">\n       <use xlink:href=\"#DejaVuSans-31\"/>\n       <use x=\"63.623047\" xlink:href=\"#DejaVuSans-38\"/>\n       <use x=\"127.246094\" xlink:href=\"#DejaVuSans-31\"/>\n       <use x=\"190.869141\" xlink:href=\"#DejaVuSans-36\"/>\n       <use x=\"254.492188\" xlink:href=\"#DejaVuSans-2e\"/>\n       <use x=\"286.279297\" xlink:href=\"#DejaVuSans-30\"/>\n      </g>\n     </g>\n    </g>\n    <g id=\"xtick_32\">\n     <g id=\"line2d_32\">\n      <g>\n       <use style=\"stroke:#000000;stroke-width:0.8;\" x=\"293.014489\" xlink:href=\"#mf462dd3182\" y=\"1094.4\"/>\n      </g>\n     </g>\n     <g id=\"text_32\">\n      <!-- 1818.0 -->\n      <g transform=\"translate(295.773864 1136.390625)rotate(-90)scale(0.1 -0.1)\">\n       <use xlink:href=\"#DejaVuSans-31\"/>\n       <use x=\"63.623047\" xlink:href=\"#DejaVuSans-38\"/>\n       <use x=\"127.246094\" xlink:href=\"#DejaVuSans-31\"/>\n       <use x=\"190.869141\" xlink:href=\"#DejaVuSans-38\"/>\n       <use x=\"254.492188\" xlink:href=\"#DejaVuSans-2e\"/>\n       <use x=\"286.279297\" xlink:href=\"#DejaVuSans-30\"/>\n      </g>\n     </g>\n    </g>\n    <g id=\"xtick_33\">\n     <g id=\"line2d_33\">\n      <g>\n       <use style=\"stroke:#000000;stroke-width:0.8;\" x=\"300.62358\" xlink:href=\"#mf462dd3182\" y=\"1094.4\"/>\n      </g>\n     </g>\n     <g id=\"text_33\">\n      <!-- 1819.0 -->\n      <g transform=\"translate(303.382955 1136.390625)rotate(-90)scale(0.1 -0.1)\">\n       <use xlink:href=\"#DejaVuSans-31\"/>\n       <use x=\"63.623047\" xlink:href=\"#DejaVuSans-38\"/>\n       <use x=\"127.246094\" xlink:href=\"#DejaVuSans-31\"/>\n       <use x=\"190.869141\" xlink:href=\"#DejaVuSans-39\"/>\n       <use x=\"254.492188\" xlink:href=\"#DejaVuSans-2e\"/>\n       <use x=\"286.279297\" xlink:href=\"#DejaVuSans-30\"/>\n      </g>\n     </g>\n    </g>\n    <g id=\"xtick_34\">\n     <g id=\"line2d_34\">\n      <g>\n       <use style=\"stroke:#000000;stroke-width:0.8;\" x=\"308.23267\" xlink:href=\"#mf462dd3182\" y=\"1094.4\"/>\n      </g>\n     </g>\n     <g id=\"text_34\">\n      <!-- 1820.0 -->\n      <g transform=\"translate(310.992045 1136.390625)rotate(-90)scale(0.1 -0.1)\">\n       <use xlink:href=\"#DejaVuSans-31\"/>\n       <use x=\"63.623047\" xlink:href=\"#DejaVuSans-38\"/>\n       <use x=\"127.246094\" xlink:href=\"#DejaVuSans-32\"/>\n       <use x=\"190.869141\" xlink:href=\"#DejaVuSans-30\"/>\n       <use x=\"254.492188\" xlink:href=\"#DejaVuSans-2e\"/>\n       <use x=\"286.279297\" xlink:href=\"#DejaVuSans-30\"/>\n      </g>\n     </g>\n    </g>\n    <g id=\"xtick_35\">\n     <g id=\"line2d_35\">\n      <g>\n       <use style=\"stroke:#000000;stroke-width:0.8;\" x=\"315.841761\" xlink:href=\"#mf462dd3182\" y=\"1094.4\"/>\n      </g>\n     </g>\n     <g id=\"text_35\">\n      <!-- 1822.0 -->\n      <g transform=\"translate(318.601136 1136.390625)rotate(-90)scale(0.1 -0.1)\">\n       <use xlink:href=\"#DejaVuSans-31\"/>\n       <use x=\"63.623047\" xlink:href=\"#DejaVuSans-38\"/>\n       <use x=\"127.246094\" xlink:href=\"#DejaVuSans-32\"/>\n       <use x=\"190.869141\" xlink:href=\"#DejaVuSans-32\"/>\n       <use x=\"254.492188\" xlink:href=\"#DejaVuSans-2e\"/>\n       <use x=\"286.279297\" xlink:href=\"#DejaVuSans-30\"/>\n      </g>\n     </g>\n    </g>\n    <g id=\"xtick_36\">\n     <g id=\"line2d_36\">\n      <g>\n       <use style=\"stroke:#000000;stroke-width:0.8;\" x=\"323.450852\" xlink:href=\"#mf462dd3182\" y=\"1094.4\"/>\n      </g>\n     </g>\n     <g id=\"text_36\">\n      <!-- 1824.0 -->\n      <g transform=\"translate(326.210227 1136.390625)rotate(-90)scale(0.1 -0.1)\">\n       <use xlink:href=\"#DejaVuSans-31\"/>\n       <use x=\"63.623047\" xlink:href=\"#DejaVuSans-38\"/>\n       <use x=\"127.246094\" xlink:href=\"#DejaVuSans-32\"/>\n       <use x=\"190.869141\" xlink:href=\"#DejaVuSans-34\"/>\n       <use x=\"254.492188\" xlink:href=\"#DejaVuSans-2e\"/>\n       <use x=\"286.279297\" xlink:href=\"#DejaVuSans-30\"/>\n      </g>\n     </g>\n    </g>\n    <g id=\"xtick_37\">\n     <g id=\"line2d_37\">\n      <g>\n       <use style=\"stroke:#000000;stroke-width:0.8;\" x=\"331.059943\" xlink:href=\"#mf462dd3182\" y=\"1094.4\"/>\n      </g>\n     </g>\n     <g id=\"text_37\">\n      <!-- 1825.0 -->\n      <g transform=\"translate(333.819318 1136.390625)rotate(-90)scale(0.1 -0.1)\">\n       <use xlink:href=\"#DejaVuSans-31\"/>\n       <use x=\"63.623047\" xlink:href=\"#DejaVuSans-38\"/>\n       <use x=\"127.246094\" xlink:href=\"#DejaVuSans-32\"/>\n       <use x=\"190.869141\" xlink:href=\"#DejaVuSans-35\"/>\n       <use x=\"254.492188\" xlink:href=\"#DejaVuSans-2e\"/>\n       <use x=\"286.279297\" xlink:href=\"#DejaVuSans-30\"/>\n      </g>\n     </g>\n    </g>\n    <g id=\"xtick_38\">\n     <g id=\"line2d_38\">\n      <g>\n       <use style=\"stroke:#000000;stroke-width:0.8;\" x=\"338.669034\" xlink:href=\"#mf462dd3182\" y=\"1094.4\"/>\n      </g>\n     </g>\n     <g id=\"text_38\">\n      <!-- 1826.0 -->\n      <g transform=\"translate(341.428409 1136.390625)rotate(-90)scale(0.1 -0.1)\">\n       <use xlink:href=\"#DejaVuSans-31\"/>\n       <use x=\"63.623047\" xlink:href=\"#DejaVuSans-38\"/>\n       <use x=\"127.246094\" xlink:href=\"#DejaVuSans-32\"/>\n       <use x=\"190.869141\" xlink:href=\"#DejaVuSans-36\"/>\n       <use x=\"254.492188\" xlink:href=\"#DejaVuSans-2e\"/>\n       <use x=\"286.279297\" xlink:href=\"#DejaVuSans-30\"/>\n      </g>\n     </g>\n    </g>\n    <g id=\"xtick_39\">\n     <g id=\"line2d_39\">\n      <g>\n       <use style=\"stroke:#000000;stroke-width:0.8;\" x=\"346.278125\" xlink:href=\"#mf462dd3182\" y=\"1094.4\"/>\n      </g>\n     </g>\n     <g id=\"text_39\">\n      <!-- 1830.0 -->\n      <g transform=\"translate(349.0375 1136.390625)rotate(-90)scale(0.1 -0.1)\">\n       <use xlink:href=\"#DejaVuSans-31\"/>\n       <use x=\"63.623047\" xlink:href=\"#DejaVuSans-38\"/>\n       <use x=\"127.246094\" xlink:href=\"#DejaVuSans-33\"/>\n       <use x=\"190.869141\" xlink:href=\"#DejaVuSans-30\"/>\n       <use x=\"254.492188\" xlink:href=\"#DejaVuSans-2e\"/>\n       <use x=\"286.279297\" xlink:href=\"#DejaVuSans-30\"/>\n      </g>\n     </g>\n    </g>\n    <g id=\"xtick_40\">\n     <g id=\"line2d_40\">\n      <g>\n       <use style=\"stroke:#000000;stroke-width:0.8;\" x=\"353.887216\" xlink:href=\"#mf462dd3182\" y=\"1094.4\"/>\n      </g>\n     </g>\n     <g id=\"text_40\">\n      <!-- 1833.0 -->\n      <g transform=\"translate(356.646591 1136.390625)rotate(-90)scale(0.1 -0.1)\">\n       <use xlink:href=\"#DejaVuSans-31\"/>\n       <use x=\"63.623047\" xlink:href=\"#DejaVuSans-38\"/>\n       <use x=\"127.246094\" xlink:href=\"#DejaVuSans-33\"/>\n       <use x=\"190.869141\" xlink:href=\"#DejaVuSans-33\"/>\n       <use x=\"254.492188\" xlink:href=\"#DejaVuSans-2e\"/>\n       <use x=\"286.279297\" xlink:href=\"#DejaVuSans-30\"/>\n      </g>\n     </g>\n    </g>\n    <g id=\"xtick_41\">\n     <g id=\"line2d_41\">\n      <g>\n       <use style=\"stroke:#000000;stroke-width:0.8;\" x=\"361.496307\" xlink:href=\"#mf462dd3182\" y=\"1094.4\"/>\n      </g>\n     </g>\n     <g id=\"text_41\">\n      <!-- 1834.0 -->\n      <g transform=\"translate(364.255682 1136.390625)rotate(-90)scale(0.1 -0.1)\">\n       <use xlink:href=\"#DejaVuSans-31\"/>\n       <use x=\"63.623047\" xlink:href=\"#DejaVuSans-38\"/>\n       <use x=\"127.246094\" xlink:href=\"#DejaVuSans-33\"/>\n       <use x=\"190.869141\" xlink:href=\"#DejaVuSans-34\"/>\n       <use x=\"254.492188\" xlink:href=\"#DejaVuSans-2e\"/>\n       <use x=\"286.279297\" xlink:href=\"#DejaVuSans-30\"/>\n      </g>\n     </g>\n    </g>\n    <g id=\"xtick_42\">\n     <g id=\"line2d_42\">\n      <g>\n       <use style=\"stroke:#000000;stroke-width:0.8;\" x=\"369.105398\" xlink:href=\"#mf462dd3182\" y=\"1094.4\"/>\n      </g>\n     </g>\n     <g id=\"text_42\">\n      <!-- 1835.0 -->\n      <g transform=\"translate(371.864773 1136.390625)rotate(-90)scale(0.1 -0.1)\">\n       <use xlink:href=\"#DejaVuSans-31\"/>\n       <use x=\"63.623047\" xlink:href=\"#DejaVuSans-38\"/>\n       <use x=\"127.246094\" xlink:href=\"#DejaVuSans-33\"/>\n       <use x=\"190.869141\" xlink:href=\"#DejaVuSans-35\"/>\n       <use x=\"254.492188\" xlink:href=\"#DejaVuSans-2e\"/>\n       <use x=\"286.279297\" xlink:href=\"#DejaVuSans-30\"/>\n      </g>\n     </g>\n    </g>\n    <g id=\"xtick_43\">\n     <g id=\"line2d_43\">\n      <g>\n       <use style=\"stroke:#000000;stroke-width:0.8;\" x=\"376.714489\" xlink:href=\"#mf462dd3182\" y=\"1094.4\"/>\n      </g>\n     </g>\n     <g id=\"text_43\">\n      <!-- 1840.0 -->\n      <g transform=\"translate(379.473864 1136.390625)rotate(-90)scale(0.1 -0.1)\">\n       <use xlink:href=\"#DejaVuSans-31\"/>\n       <use x=\"63.623047\" xlink:href=\"#DejaVuSans-38\"/>\n       <use x=\"127.246094\" xlink:href=\"#DejaVuSans-34\"/>\n       <use x=\"190.869141\" xlink:href=\"#DejaVuSans-30\"/>\n       <use x=\"254.492188\" xlink:href=\"#DejaVuSans-2e\"/>\n       <use x=\"286.279297\" xlink:href=\"#DejaVuSans-30\"/>\n      </g>\n     </g>\n    </g>\n    <g id=\"xtick_44\">\n     <g id=\"line2d_44\">\n      <g>\n       <use style=\"stroke:#000000;stroke-width:0.8;\" x=\"384.32358\" xlink:href=\"#mf462dd3182\" y=\"1094.4\"/>\n      </g>\n     </g>\n     <g id=\"text_44\">\n      <!-- 1841.0 -->\n      <g transform=\"translate(387.082955 1136.390625)rotate(-90)scale(0.1 -0.1)\">\n       <use xlink:href=\"#DejaVuSans-31\"/>\n       <use x=\"63.623047\" xlink:href=\"#DejaVuSans-38\"/>\n       <use x=\"127.246094\" xlink:href=\"#DejaVuSans-34\"/>\n       <use x=\"190.869141\" xlink:href=\"#DejaVuSans-31\"/>\n       <use x=\"254.492188\" xlink:href=\"#DejaVuSans-2e\"/>\n       <use x=\"286.279297\" xlink:href=\"#DejaVuSans-30\"/>\n      </g>\n     </g>\n    </g>\n    <g id=\"xtick_45\">\n     <g id=\"line2d_45\">\n      <g>\n       <use style=\"stroke:#000000;stroke-width:0.8;\" x=\"391.93267\" xlink:href=\"#mf462dd3182\" y=\"1094.4\"/>\n      </g>\n     </g>\n     <g id=\"text_45\">\n      <!-- 1842.0 -->\n      <g transform=\"translate(394.692045 1136.390625)rotate(-90)scale(0.1 -0.1)\">\n       <use xlink:href=\"#DejaVuSans-31\"/>\n       <use x=\"63.623047\" xlink:href=\"#DejaVuSans-38\"/>\n       <use x=\"127.246094\" xlink:href=\"#DejaVuSans-34\"/>\n       <use x=\"190.869141\" xlink:href=\"#DejaVuSans-32\"/>\n       <use x=\"254.492188\" xlink:href=\"#DejaVuSans-2e\"/>\n       <use x=\"286.279297\" xlink:href=\"#DejaVuSans-30\"/>\n      </g>\n     </g>\n    </g>\n    <g id=\"xtick_46\">\n     <g id=\"line2d_46\">\n      <g>\n       <use style=\"stroke:#000000;stroke-width:0.8;\" x=\"399.541761\" xlink:href=\"#mf462dd3182\" y=\"1094.4\"/>\n      </g>\n     </g>\n     <g id=\"text_46\">\n      <!-- 1844.0 -->\n      <g transform=\"translate(402.301136 1136.390625)rotate(-90)scale(0.1 -0.1)\">\n       <use xlink:href=\"#DejaVuSans-31\"/>\n       <use x=\"63.623047\" xlink:href=\"#DejaVuSans-38\"/>\n       <use x=\"127.246094\" xlink:href=\"#DejaVuSans-34\"/>\n       <use x=\"190.869141\" xlink:href=\"#DejaVuSans-34\"/>\n       <use x=\"254.492188\" xlink:href=\"#DejaVuSans-2e\"/>\n       <use x=\"286.279297\" xlink:href=\"#DejaVuSans-30\"/>\n      </g>\n     </g>\n    </g>\n    <g id=\"xtick_47\">\n     <g id=\"line2d_47\">\n      <g>\n       <use style=\"stroke:#000000;stroke-width:0.8;\" x=\"407.150852\" xlink:href=\"#mf462dd3182\" y=\"1094.4\"/>\n      </g>\n     </g>\n     <g id=\"text_47\">\n      <!-- 1846.0 -->\n      <g transform=\"translate(409.910227 1136.390625)rotate(-90)scale(0.1 -0.1)\">\n       <use xlink:href=\"#DejaVuSans-31\"/>\n       <use x=\"63.623047\" xlink:href=\"#DejaVuSans-38\"/>\n       <use x=\"127.246094\" xlink:href=\"#DejaVuSans-34\"/>\n       <use x=\"190.869141\" xlink:href=\"#DejaVuSans-36\"/>\n       <use x=\"254.492188\" xlink:href=\"#DejaVuSans-2e\"/>\n       <use x=\"286.279297\" xlink:href=\"#DejaVuSans-30\"/>\n      </g>\n     </g>\n    </g>\n    <g id=\"xtick_48\">\n     <g id=\"line2d_48\">\n      <g>\n       <use style=\"stroke:#000000;stroke-width:0.8;\" x=\"414.759943\" xlink:href=\"#mf462dd3182\" y=\"1094.4\"/>\n      </g>\n     </g>\n     <g id=\"text_48\">\n      <!-- 1847.0 -->\n      <g transform=\"translate(417.519318 1136.390625)rotate(-90)scale(0.1 -0.1)\">\n       <use xlink:href=\"#DejaVuSans-31\"/>\n       <use x=\"63.623047\" xlink:href=\"#DejaVuSans-38\"/>\n       <use x=\"127.246094\" xlink:href=\"#DejaVuSans-34\"/>\n       <use x=\"190.869141\" xlink:href=\"#DejaVuSans-37\"/>\n       <use x=\"254.492188\" xlink:href=\"#DejaVuSans-2e\"/>\n       <use x=\"286.279297\" xlink:href=\"#DejaVuSans-30\"/>\n      </g>\n     </g>\n    </g>\n    <g id=\"xtick_49\">\n     <g id=\"line2d_49\">\n      <g>\n       <use style=\"stroke:#000000;stroke-width:0.8;\" x=\"422.369034\" xlink:href=\"#mf462dd3182\" y=\"1094.4\"/>\n      </g>\n     </g>\n     <g id=\"text_49\">\n      <!-- 1848.0 -->\n      <g transform=\"translate(425.128409 1136.390625)rotate(-90)scale(0.1 -0.1)\">\n       <use xlink:href=\"#DejaVuSans-31\"/>\n       <use x=\"63.623047\" xlink:href=\"#DejaVuSans-38\"/>\n       <use x=\"127.246094\" xlink:href=\"#DejaVuSans-34\"/>\n       <use x=\"190.869141\" xlink:href=\"#DejaVuSans-38\"/>\n       <use x=\"254.492188\" xlink:href=\"#DejaVuSans-2e\"/>\n       <use x=\"286.279297\" xlink:href=\"#DejaVuSans-30\"/>\n      </g>\n     </g>\n    </g>\n    <g id=\"xtick_50\">\n     <g id=\"line2d_50\">\n      <g>\n       <use style=\"stroke:#000000;stroke-width:0.8;\" x=\"429.978125\" xlink:href=\"#mf462dd3182\" y=\"1094.4\"/>\n      </g>\n     </g>\n     <g id=\"text_50\">\n      <!-- 1849.0 -->\n      <g transform=\"translate(432.7375 1136.390625)rotate(-90)scale(0.1 -0.1)\">\n       <use xlink:href=\"#DejaVuSans-31\"/>\n       <use x=\"63.623047\" xlink:href=\"#DejaVuSans-38\"/>\n       <use x=\"127.246094\" xlink:href=\"#DejaVuSans-34\"/>\n       <use x=\"190.869141\" xlink:href=\"#DejaVuSans-39\"/>\n       <use x=\"254.492188\" xlink:href=\"#DejaVuSans-2e\"/>\n       <use x=\"286.279297\" xlink:href=\"#DejaVuSans-30\"/>\n      </g>\n     </g>\n    </g>\n    <g id=\"xtick_51\">\n     <g id=\"line2d_51\">\n      <g>\n       <use style=\"stroke:#000000;stroke-width:0.8;\" x=\"437.587216\" xlink:href=\"#mf462dd3182\" y=\"1094.4\"/>\n      </g>\n     </g>\n     <g id=\"text_51\">\n      <!-- 1850.0 -->\n      <g transform=\"translate(440.346591 1136.390625)rotate(-90)scale(0.1 -0.1)\">\n       <use xlink:href=\"#DejaVuSans-31\"/>\n       <use x=\"63.623047\" xlink:href=\"#DejaVuSans-38\"/>\n       <use x=\"127.246094\" xlink:href=\"#DejaVuSans-35\"/>\n       <use x=\"190.869141\" xlink:href=\"#DejaVuSans-30\"/>\n       <use x=\"254.492188\" xlink:href=\"#DejaVuSans-2e\"/>\n       <use x=\"286.279297\" xlink:href=\"#DejaVuSans-30\"/>\n      </g>\n     </g>\n    </g>\n    <g id=\"xtick_52\">\n     <g id=\"line2d_52\">\n      <g>\n       <use style=\"stroke:#000000;stroke-width:0.8;\" x=\"445.196307\" xlink:href=\"#mf462dd3182\" y=\"1094.4\"/>\n      </g>\n     </g>\n     <g id=\"text_52\">\n      <!-- 1851.0 -->\n      <g transform=\"translate(447.955682 1136.390625)rotate(-90)scale(0.1 -0.1)\">\n       <use xlink:href=\"#DejaVuSans-31\"/>\n       <use x=\"63.623047\" xlink:href=\"#DejaVuSans-38\"/>\n       <use x=\"127.246094\" xlink:href=\"#DejaVuSans-35\"/>\n       <use x=\"190.869141\" xlink:href=\"#DejaVuSans-31\"/>\n       <use x=\"254.492188\" xlink:href=\"#DejaVuSans-2e\"/>\n       <use x=\"286.279297\" xlink:href=\"#DejaVuSans-30\"/>\n      </g>\n     </g>\n    </g>\n    <g id=\"xtick_53\">\n     <g id=\"line2d_53\">\n      <g>\n       <use style=\"stroke:#000000;stroke-width:0.8;\" x=\"452.805398\" xlink:href=\"#mf462dd3182\" y=\"1094.4\"/>\n      </g>\n     </g>\n     <g id=\"text_53\">\n      <!-- 1852.0 -->\n      <g transform=\"translate(455.564773 1136.390625)rotate(-90)scale(0.1 -0.1)\">\n       <use xlink:href=\"#DejaVuSans-31\"/>\n       <use x=\"63.623047\" xlink:href=\"#DejaVuSans-38\"/>\n       <use x=\"127.246094\" xlink:href=\"#DejaVuSans-35\"/>\n       <use x=\"190.869141\" xlink:href=\"#DejaVuSans-32\"/>\n       <use x=\"254.492188\" xlink:href=\"#DejaVuSans-2e\"/>\n       <use x=\"286.279297\" xlink:href=\"#DejaVuSans-30\"/>\n      </g>\n     </g>\n    </g>\n    <g id=\"xtick_54\">\n     <g id=\"line2d_54\">\n      <g>\n       <use style=\"stroke:#000000;stroke-width:0.8;\" x=\"460.414489\" xlink:href=\"#mf462dd3182\" y=\"1094.4\"/>\n      </g>\n     </g>\n     <g id=\"text_54\">\n      <!-- 1853.0 -->\n      <g transform=\"translate(463.173864 1136.390625)rotate(-90)scale(0.1 -0.1)\">\n       <use xlink:href=\"#DejaVuSans-31\"/>\n       <use x=\"63.623047\" xlink:href=\"#DejaVuSans-38\"/>\n       <use x=\"127.246094\" xlink:href=\"#DejaVuSans-35\"/>\n       <use x=\"190.869141\" xlink:href=\"#DejaVuSans-33\"/>\n       <use x=\"254.492188\" xlink:href=\"#DejaVuSans-2e\"/>\n       <use x=\"286.279297\" xlink:href=\"#DejaVuSans-30\"/>\n      </g>\n     </g>\n    </g>\n    <g id=\"xtick_55\">\n     <g id=\"line2d_55\">\n      <g>\n       <use style=\"stroke:#000000;stroke-width:0.8;\" x=\"468.02358\" xlink:href=\"#mf462dd3182\" y=\"1094.4\"/>\n      </g>\n     </g>\n     <g id=\"text_55\">\n      <!-- 1854.0 -->\n      <g transform=\"translate(470.782955 1136.390625)rotate(-90)scale(0.1 -0.1)\">\n       <use xlink:href=\"#DejaVuSans-31\"/>\n       <use x=\"63.623047\" xlink:href=\"#DejaVuSans-38\"/>\n       <use x=\"127.246094\" xlink:href=\"#DejaVuSans-35\"/>\n       <use x=\"190.869141\" xlink:href=\"#DejaVuSans-34\"/>\n       <use x=\"254.492188\" xlink:href=\"#DejaVuSans-2e\"/>\n       <use x=\"286.279297\" xlink:href=\"#DejaVuSans-30\"/>\n      </g>\n     </g>\n    </g>\n    <g id=\"xtick_56\">\n     <g id=\"line2d_56\">\n      <g>\n       <use style=\"stroke:#000000;stroke-width:0.8;\" x=\"475.63267\" xlink:href=\"#mf462dd3182\" y=\"1094.4\"/>\n      </g>\n     </g>\n     <g id=\"text_56\">\n      <!-- 1855.0 -->\n      <g transform=\"translate(478.392045 1136.390625)rotate(-90)scale(0.1 -0.1)\">\n       <use xlink:href=\"#DejaVuSans-31\"/>\n       <use x=\"63.623047\" xlink:href=\"#DejaVuSans-38\"/>\n       <use x=\"127.246094\" xlink:href=\"#DejaVuSans-35\"/>\n       <use x=\"190.869141\" xlink:href=\"#DejaVuSans-35\"/>\n       <use x=\"254.492188\" xlink:href=\"#DejaVuSans-2e\"/>\n       <use x=\"286.279297\" xlink:href=\"#DejaVuSans-30\"/>\n      </g>\n     </g>\n    </g>\n    <g id=\"xtick_57\">\n     <g id=\"line2d_57\">\n      <g>\n       <use style=\"stroke:#000000;stroke-width:0.8;\" x=\"483.241761\" xlink:href=\"#mf462dd3182\" y=\"1094.4\"/>\n      </g>\n     </g>\n     <g id=\"text_57\">\n      <!-- 1856.0 -->\n      <g transform=\"translate(486.001136 1136.390625)rotate(-90)scale(0.1 -0.1)\">\n       <use xlink:href=\"#DejaVuSans-31\"/>\n       <use x=\"63.623047\" xlink:href=\"#DejaVuSans-38\"/>\n       <use x=\"127.246094\" xlink:href=\"#DejaVuSans-35\"/>\n       <use x=\"190.869141\" xlink:href=\"#DejaVuSans-36\"/>\n       <use x=\"254.492188\" xlink:href=\"#DejaVuSans-2e\"/>\n       <use x=\"286.279297\" xlink:href=\"#DejaVuSans-30\"/>\n      </g>\n     </g>\n    </g>\n    <g id=\"xtick_58\">\n     <g id=\"line2d_58\">\n      <g>\n       <use style=\"stroke:#000000;stroke-width:0.8;\" x=\"490.850852\" xlink:href=\"#mf462dd3182\" y=\"1094.4\"/>\n      </g>\n     </g>\n     <g id=\"text_58\">\n      <!-- 1857.0 -->\n      <g transform=\"translate(493.610227 1136.390625)rotate(-90)scale(0.1 -0.1)\">\n       <use xlink:href=\"#DejaVuSans-31\"/>\n       <use x=\"63.623047\" xlink:href=\"#DejaVuSans-38\"/>\n       <use x=\"127.246094\" xlink:href=\"#DejaVuSans-35\"/>\n       <use x=\"190.869141\" xlink:href=\"#DejaVuSans-37\"/>\n       <use x=\"254.492188\" xlink:href=\"#DejaVuSans-2e\"/>\n       <use x=\"286.279297\" xlink:href=\"#DejaVuSans-30\"/>\n      </g>\n     </g>\n    </g>\n    <g id=\"xtick_59\">\n     <g id=\"line2d_59\">\n      <g>\n       <use style=\"stroke:#000000;stroke-width:0.8;\" x=\"498.459943\" xlink:href=\"#mf462dd3182\" y=\"1094.4\"/>\n      </g>\n     </g>\n     <g id=\"text_59\">\n      <!-- 1858.0 -->\n      <g transform=\"translate(501.219318 1136.390625)rotate(-90)scale(0.1 -0.1)\">\n       <use xlink:href=\"#DejaVuSans-31\"/>\n       <use x=\"63.623047\" xlink:href=\"#DejaVuSans-38\"/>\n       <use x=\"127.246094\" xlink:href=\"#DejaVuSans-35\"/>\n       <use x=\"190.869141\" xlink:href=\"#DejaVuSans-38\"/>\n       <use x=\"254.492188\" xlink:href=\"#DejaVuSans-2e\"/>\n       <use x=\"286.279297\" xlink:href=\"#DejaVuSans-30\"/>\n      </g>\n     </g>\n    </g>\n    <g id=\"xtick_60\">\n     <g id=\"line2d_60\">\n      <g>\n       <use style=\"stroke:#000000;stroke-width:0.8;\" x=\"506.069034\" xlink:href=\"#mf462dd3182\" y=\"1094.4\"/>\n      </g>\n     </g>\n     <g id=\"text_60\">\n      <!-- 1859.0 -->\n      <g transform=\"translate(508.828409 1136.390625)rotate(-90)scale(0.1 -0.1)\">\n       <use xlink:href=\"#DejaVuSans-31\"/>\n       <use x=\"63.623047\" xlink:href=\"#DejaVuSans-38\"/>\n       <use x=\"127.246094\" xlink:href=\"#DejaVuSans-35\"/>\n       <use x=\"190.869141\" xlink:href=\"#DejaVuSans-39\"/>\n       <use x=\"254.492188\" xlink:href=\"#DejaVuSans-2e\"/>\n       <use x=\"286.279297\" xlink:href=\"#DejaVuSans-30\"/>\n      </g>\n     </g>\n    </g>\n    <g id=\"xtick_61\">\n     <g id=\"line2d_61\">\n      <g>\n       <use style=\"stroke:#000000;stroke-width:0.8;\" x=\"513.678125\" xlink:href=\"#mf462dd3182\" y=\"1094.4\"/>\n      </g>\n     </g>\n     <g id=\"text_61\">\n      <!-- 1860.0 -->\n      <g transform=\"translate(516.4375 1136.390625)rotate(-90)scale(0.1 -0.1)\">\n       <use xlink:href=\"#DejaVuSans-31\"/>\n       <use x=\"63.623047\" xlink:href=\"#DejaVuSans-38\"/>\n       <use x=\"127.246094\" xlink:href=\"#DejaVuSans-36\"/>\n       <use x=\"190.869141\" xlink:href=\"#DejaVuSans-30\"/>\n       <use x=\"254.492188\" xlink:href=\"#DejaVuSans-2e\"/>\n       <use x=\"286.279297\" xlink:href=\"#DejaVuSans-30\"/>\n      </g>\n     </g>\n    </g>\n    <g id=\"xtick_62\">\n     <g id=\"line2d_62\">\n      <g>\n       <use style=\"stroke:#000000;stroke-width:0.8;\" x=\"521.287216\" xlink:href=\"#mf462dd3182\" y=\"1094.4\"/>\n      </g>\n     </g>\n     <g id=\"text_62\">\n      <!-- 1861.0 -->\n      <g transform=\"translate(524.046591 1136.390625)rotate(-90)scale(0.1 -0.1)\">\n       <use xlink:href=\"#DejaVuSans-31\"/>\n       <use x=\"63.623047\" xlink:href=\"#DejaVuSans-38\"/>\n       <use x=\"127.246094\" xlink:href=\"#DejaVuSans-36\"/>\n       <use x=\"190.869141\" xlink:href=\"#DejaVuSans-31\"/>\n       <use x=\"254.492188\" xlink:href=\"#DejaVuSans-2e\"/>\n       <use x=\"286.279297\" xlink:href=\"#DejaVuSans-30\"/>\n      </g>\n     </g>\n    </g>\n    <g id=\"xtick_63\">\n     <g id=\"line2d_63\">\n      <g>\n       <use style=\"stroke:#000000;stroke-width:0.8;\" x=\"528.896307\" xlink:href=\"#mf462dd3182\" y=\"1094.4\"/>\n      </g>\n     </g>\n     <g id=\"text_63\">\n      <!-- 1862.0 -->\n      <g transform=\"translate(531.655682 1136.390625)rotate(-90)scale(0.1 -0.1)\">\n       <use xlink:href=\"#DejaVuSans-31\"/>\n       <use x=\"63.623047\" xlink:href=\"#DejaVuSans-38\"/>\n       <use x=\"127.246094\" xlink:href=\"#DejaVuSans-36\"/>\n       <use x=\"190.869141\" xlink:href=\"#DejaVuSans-32\"/>\n       <use x=\"254.492188\" xlink:href=\"#DejaVuSans-2e\"/>\n       <use x=\"286.279297\" xlink:href=\"#DejaVuSans-30\"/>\n      </g>\n     </g>\n    </g>\n    <g id=\"xtick_64\">\n     <g id=\"line2d_64\">\n      <g>\n       <use style=\"stroke:#000000;stroke-width:0.8;\" x=\"536.505398\" xlink:href=\"#mf462dd3182\" y=\"1094.4\"/>\n      </g>\n     </g>\n     <g id=\"text_64\">\n      <!-- 1863.0 -->\n      <g transform=\"translate(539.264773 1136.390625)rotate(-90)scale(0.1 -0.1)\">\n       <use xlink:href=\"#DejaVuSans-31\"/>\n       <use x=\"63.623047\" xlink:href=\"#DejaVuSans-38\"/>\n       <use x=\"127.246094\" xlink:href=\"#DejaVuSans-36\"/>\n       <use x=\"190.869141\" xlink:href=\"#DejaVuSans-33\"/>\n       <use x=\"254.492188\" xlink:href=\"#DejaVuSans-2e\"/>\n       <use x=\"286.279297\" xlink:href=\"#DejaVuSans-30\"/>\n      </g>\n     </g>\n    </g>\n    <g id=\"xtick_65\">\n     <g id=\"line2d_65\">\n      <g>\n       <use style=\"stroke:#000000;stroke-width:0.8;\" x=\"544.114489\" xlink:href=\"#mf462dd3182\" y=\"1094.4\"/>\n      </g>\n     </g>\n     <g id=\"text_65\">\n      <!-- 1864.0 -->\n      <g transform=\"translate(546.873864 1136.390625)rotate(-90)scale(0.1 -0.1)\">\n       <use xlink:href=\"#DejaVuSans-31\"/>\n       <use x=\"63.623047\" xlink:href=\"#DejaVuSans-38\"/>\n       <use x=\"127.246094\" xlink:href=\"#DejaVuSans-36\"/>\n       <use x=\"190.869141\" xlink:href=\"#DejaVuSans-34\"/>\n       <use x=\"254.492188\" xlink:href=\"#DejaVuSans-2e\"/>\n       <use x=\"286.279297\" xlink:href=\"#DejaVuSans-30\"/>\n      </g>\n     </g>\n    </g>\n    <g id=\"xtick_66\">\n     <g id=\"line2d_66\">\n      <g>\n       <use style=\"stroke:#000000;stroke-width:0.8;\" x=\"551.72358\" xlink:href=\"#mf462dd3182\" y=\"1094.4\"/>\n      </g>\n     </g>\n     <g id=\"text_66\">\n      <!-- 1865.0 -->\n      <g transform=\"translate(554.482955 1136.390625)rotate(-90)scale(0.1 -0.1)\">\n       <use xlink:href=\"#DejaVuSans-31\"/>\n       <use x=\"63.623047\" xlink:href=\"#DejaVuSans-38\"/>\n       <use x=\"127.246094\" xlink:href=\"#DejaVuSans-36\"/>\n       <use x=\"190.869141\" xlink:href=\"#DejaVuSans-35\"/>\n       <use x=\"254.492188\" xlink:href=\"#DejaVuSans-2e\"/>\n       <use x=\"286.279297\" xlink:href=\"#DejaVuSans-30\"/>\n      </g>\n     </g>\n    </g>\n    <g id=\"xtick_67\">\n     <g id=\"line2d_67\">\n      <g>\n       <use style=\"stroke:#000000;stroke-width:0.8;\" x=\"559.33267\" xlink:href=\"#mf462dd3182\" y=\"1094.4\"/>\n      </g>\n     </g>\n     <g id=\"text_67\">\n      <!-- 1866.0 -->\n      <g transform=\"translate(562.092045 1136.390625)rotate(-90)scale(0.1 -0.1)\">\n       <use xlink:href=\"#DejaVuSans-31\"/>\n       <use x=\"63.623047\" xlink:href=\"#DejaVuSans-38\"/>\n       <use x=\"127.246094\" xlink:href=\"#DejaVuSans-36\"/>\n       <use x=\"190.869141\" xlink:href=\"#DejaVuSans-36\"/>\n       <use x=\"254.492188\" xlink:href=\"#DejaVuSans-2e\"/>\n       <use x=\"286.279297\" xlink:href=\"#DejaVuSans-30\"/>\n      </g>\n     </g>\n    </g>\n    <g id=\"xtick_68\">\n     <g id=\"line2d_68\">\n      <g>\n       <use style=\"stroke:#000000;stroke-width:0.8;\" x=\"566.941761\" xlink:href=\"#mf462dd3182\" y=\"1094.4\"/>\n      </g>\n     </g>\n     <g id=\"text_68\">\n      <!-- 1867.0 -->\n      <g transform=\"translate(569.701136 1136.390625)rotate(-90)scale(0.1 -0.1)\">\n       <use xlink:href=\"#DejaVuSans-31\"/>\n       <use x=\"63.623047\" xlink:href=\"#DejaVuSans-38\"/>\n       <use x=\"127.246094\" xlink:href=\"#DejaVuSans-36\"/>\n       <use x=\"190.869141\" xlink:href=\"#DejaVuSans-37\"/>\n       <use x=\"254.492188\" xlink:href=\"#DejaVuSans-2e\"/>\n       <use x=\"286.279297\" xlink:href=\"#DejaVuSans-30\"/>\n      </g>\n     </g>\n    </g>\n    <g id=\"xtick_69\">\n     <g id=\"line2d_69\">\n      <g>\n       <use style=\"stroke:#000000;stroke-width:0.8;\" x=\"574.550852\" xlink:href=\"#mf462dd3182\" y=\"1094.4\"/>\n      </g>\n     </g>\n     <g id=\"text_69\">\n      <!-- 1868.0 -->\n      <g transform=\"translate(577.310227 1136.390625)rotate(-90)scale(0.1 -0.1)\">\n       <use xlink:href=\"#DejaVuSans-31\"/>\n       <use x=\"63.623047\" xlink:href=\"#DejaVuSans-38\"/>\n       <use x=\"127.246094\" xlink:href=\"#DejaVuSans-36\"/>\n       <use x=\"190.869141\" xlink:href=\"#DejaVuSans-38\"/>\n       <use x=\"254.492188\" xlink:href=\"#DejaVuSans-2e\"/>\n       <use x=\"286.279297\" xlink:href=\"#DejaVuSans-30\"/>\n      </g>\n     </g>\n    </g>\n    <g id=\"xtick_70\">\n     <g id=\"line2d_70\">\n      <g>\n       <use style=\"stroke:#000000;stroke-width:0.8;\" x=\"582.159943\" xlink:href=\"#mf462dd3182\" y=\"1094.4\"/>\n      </g>\n     </g>\n     <g id=\"text_70\">\n      <!-- 1869.0 -->\n      <g transform=\"translate(584.919318 1136.390625)rotate(-90)scale(0.1 -0.1)\">\n       <use xlink:href=\"#DejaVuSans-31\"/>\n       <use x=\"63.623047\" xlink:href=\"#DejaVuSans-38\"/>\n       <use x=\"127.246094\" xlink:href=\"#DejaVuSans-36\"/>\n       <use x=\"190.869141\" xlink:href=\"#DejaVuSans-39\"/>\n       <use x=\"254.492188\" xlink:href=\"#DejaVuSans-2e\"/>\n       <use x=\"286.279297\" xlink:href=\"#DejaVuSans-30\"/>\n      </g>\n     </g>\n    </g>\n    <g id=\"xtick_71\">\n     <g id=\"line2d_71\">\n      <g>\n       <use style=\"stroke:#000000;stroke-width:0.8;\" x=\"589.769034\" xlink:href=\"#mf462dd3182\" y=\"1094.4\"/>\n      </g>\n     </g>\n     <g id=\"text_71\">\n      <!-- 1870.0 -->\n      <g transform=\"translate(592.528409 1136.390625)rotate(-90)scale(0.1 -0.1)\">\n       <use xlink:href=\"#DejaVuSans-31\"/>\n       <use x=\"63.623047\" xlink:href=\"#DejaVuSans-38\"/>\n       <use x=\"127.246094\" xlink:href=\"#DejaVuSans-37\"/>\n       <use x=\"190.869141\" xlink:href=\"#DejaVuSans-30\"/>\n       <use x=\"254.492188\" xlink:href=\"#DejaVuSans-2e\"/>\n       <use x=\"286.279297\" xlink:href=\"#DejaVuSans-30\"/>\n      </g>\n     </g>\n    </g>\n    <g id=\"xtick_72\">\n     <g id=\"line2d_72\">\n      <g>\n       <use style=\"stroke:#000000;stroke-width:0.8;\" x=\"597.378125\" xlink:href=\"#mf462dd3182\" y=\"1094.4\"/>\n      </g>\n     </g>\n     <g id=\"text_72\">\n      <!-- 1871.0 -->\n      <g transform=\"translate(600.1375 1136.390625)rotate(-90)scale(0.1 -0.1)\">\n       <use xlink:href=\"#DejaVuSans-31\"/>\n       <use x=\"63.623047\" xlink:href=\"#DejaVuSans-38\"/>\n       <use x=\"127.246094\" xlink:href=\"#DejaVuSans-37\"/>\n       <use x=\"190.869141\" xlink:href=\"#DejaVuSans-31\"/>\n       <use x=\"254.492188\" xlink:href=\"#DejaVuSans-2e\"/>\n       <use x=\"286.279297\" xlink:href=\"#DejaVuSans-30\"/>\n      </g>\n     </g>\n    </g>\n    <g id=\"xtick_73\">\n     <g id=\"line2d_73\">\n      <g>\n       <use style=\"stroke:#000000;stroke-width:0.8;\" x=\"604.987216\" xlink:href=\"#mf462dd3182\" y=\"1094.4\"/>\n      </g>\n     </g>\n     <g id=\"text_73\">\n      <!-- 1872.0 -->\n      <g transform=\"translate(607.746591 1136.390625)rotate(-90)scale(0.1 -0.1)\">\n       <use xlink:href=\"#DejaVuSans-31\"/>\n       <use x=\"63.623047\" xlink:href=\"#DejaVuSans-38\"/>\n       <use x=\"127.246094\" xlink:href=\"#DejaVuSans-37\"/>\n       <use x=\"190.869141\" xlink:href=\"#DejaVuSans-32\"/>\n       <use x=\"254.492188\" xlink:href=\"#DejaVuSans-2e\"/>\n       <use x=\"286.279297\" xlink:href=\"#DejaVuSans-30\"/>\n      </g>\n     </g>\n    </g>\n    <g id=\"xtick_74\">\n     <g id=\"line2d_74\">\n      <g>\n       <use style=\"stroke:#000000;stroke-width:0.8;\" x=\"612.596307\" xlink:href=\"#mf462dd3182\" y=\"1094.4\"/>\n      </g>\n     </g>\n     <g id=\"text_74\">\n      <!-- 1873.0 -->\n      <g transform=\"translate(615.355682 1136.390625)rotate(-90)scale(0.1 -0.1)\">\n       <use xlink:href=\"#DejaVuSans-31\"/>\n       <use x=\"63.623047\" xlink:href=\"#DejaVuSans-38\"/>\n       <use x=\"127.246094\" xlink:href=\"#DejaVuSans-37\"/>\n       <use x=\"190.869141\" xlink:href=\"#DejaVuSans-33\"/>\n       <use x=\"254.492188\" xlink:href=\"#DejaVuSans-2e\"/>\n       <use x=\"286.279297\" xlink:href=\"#DejaVuSans-30\"/>\n      </g>\n     </g>\n    </g>\n    <g id=\"xtick_75\">\n     <g id=\"line2d_75\">\n      <g>\n       <use style=\"stroke:#000000;stroke-width:0.8;\" x=\"620.205398\" xlink:href=\"#mf462dd3182\" y=\"1094.4\"/>\n      </g>\n     </g>\n     <g id=\"text_75\">\n      <!-- 1874.0 -->\n      <g transform=\"translate(622.964773 1136.390625)rotate(-90)scale(0.1 -0.1)\">\n       <use xlink:href=\"#DejaVuSans-31\"/>\n       <use x=\"63.623047\" xlink:href=\"#DejaVuSans-38\"/>\n       <use x=\"127.246094\" xlink:href=\"#DejaVuSans-37\"/>\n       <use x=\"190.869141\" xlink:href=\"#DejaVuSans-34\"/>\n       <use x=\"254.492188\" xlink:href=\"#DejaVuSans-2e\"/>\n       <use x=\"286.279297\" xlink:href=\"#DejaVuSans-30\"/>\n      </g>\n     </g>\n    </g>\n    <g id=\"xtick_76\">\n     <g id=\"line2d_76\">\n      <g>\n       <use style=\"stroke:#000000;stroke-width:0.8;\" x=\"627.814489\" xlink:href=\"#mf462dd3182\" y=\"1094.4\"/>\n      </g>\n     </g>\n     <g id=\"text_76\">\n      <!-- 1875.0 -->\n      <g transform=\"translate(630.573864 1136.390625)rotate(-90)scale(0.1 -0.1)\">\n       <use xlink:href=\"#DejaVuSans-31\"/>\n       <use x=\"63.623047\" xlink:href=\"#DejaVuSans-38\"/>\n       <use x=\"127.246094\" xlink:href=\"#DejaVuSans-37\"/>\n       <use x=\"190.869141\" xlink:href=\"#DejaVuSans-35\"/>\n       <use x=\"254.492188\" xlink:href=\"#DejaVuSans-2e\"/>\n       <use x=\"286.279297\" xlink:href=\"#DejaVuSans-30\"/>\n      </g>\n     </g>\n    </g>\n    <g id=\"xtick_77\">\n     <g id=\"line2d_77\">\n      <g>\n       <use style=\"stroke:#000000;stroke-width:0.8;\" x=\"635.42358\" xlink:href=\"#mf462dd3182\" y=\"1094.4\"/>\n      </g>\n     </g>\n     <g id=\"text_77\">\n      <!-- 1876.0 -->\n      <g transform=\"translate(638.182955 1136.390625)rotate(-90)scale(0.1 -0.1)\">\n       <use xlink:href=\"#DejaVuSans-31\"/>\n       <use x=\"63.623047\" xlink:href=\"#DejaVuSans-38\"/>\n       <use x=\"127.246094\" xlink:href=\"#DejaVuSans-37\"/>\n       <use x=\"190.869141\" xlink:href=\"#DejaVuSans-36\"/>\n       <use x=\"254.492188\" xlink:href=\"#DejaVuSans-2e\"/>\n       <use x=\"286.279297\" xlink:href=\"#DejaVuSans-30\"/>\n      </g>\n     </g>\n    </g>\n    <g id=\"xtick_78\">\n     <g id=\"line2d_78\">\n      <g>\n       <use style=\"stroke:#000000;stroke-width:0.8;\" x=\"643.03267\" xlink:href=\"#mf462dd3182\" y=\"1094.4\"/>\n      </g>\n     </g>\n     <g id=\"text_78\">\n      <!-- 1877.0 -->\n      <g transform=\"translate(645.792045 1136.390625)rotate(-90)scale(0.1 -0.1)\">\n       <use xlink:href=\"#DejaVuSans-31\"/>\n       <use x=\"63.623047\" xlink:href=\"#DejaVuSans-38\"/>\n       <use x=\"127.246094\" xlink:href=\"#DejaVuSans-37\"/>\n       <use x=\"190.869141\" xlink:href=\"#DejaVuSans-37\"/>\n       <use x=\"254.492188\" xlink:href=\"#DejaVuSans-2e\"/>\n       <use x=\"286.279297\" xlink:href=\"#DejaVuSans-30\"/>\n      </g>\n     </g>\n    </g>\n    <g id=\"xtick_79\">\n     <g id=\"line2d_79\">\n      <g>\n       <use style=\"stroke:#000000;stroke-width:0.8;\" x=\"650.641761\" xlink:href=\"#mf462dd3182\" y=\"1094.4\"/>\n      </g>\n     </g>\n     <g id=\"text_79\">\n      <!-- 1878.0 -->\n      <g transform=\"translate(653.401136 1136.390625)rotate(-90)scale(0.1 -0.1)\">\n       <use xlink:href=\"#DejaVuSans-31\"/>\n       <use x=\"63.623047\" xlink:href=\"#DejaVuSans-38\"/>\n       <use x=\"127.246094\" xlink:href=\"#DejaVuSans-37\"/>\n       <use x=\"190.869141\" xlink:href=\"#DejaVuSans-38\"/>\n       <use x=\"254.492188\" xlink:href=\"#DejaVuSans-2e\"/>\n       <use x=\"286.279297\" xlink:href=\"#DejaVuSans-30\"/>\n      </g>\n     </g>\n    </g>\n    <g id=\"xtick_80\">\n     <g id=\"line2d_80\">\n      <g>\n       <use style=\"stroke:#000000;stroke-width:0.8;\" x=\"658.250852\" xlink:href=\"#mf462dd3182\" y=\"1094.4\"/>\n      </g>\n     </g>\n     <g id=\"text_80\">\n      <!-- 1879.0 -->\n      <g transform=\"translate(661.010227 1136.390625)rotate(-90)scale(0.1 -0.1)\">\n       <use xlink:href=\"#DejaVuSans-31\"/>\n       <use x=\"63.623047\" xlink:href=\"#DejaVuSans-38\"/>\n       <use x=\"127.246094\" xlink:href=\"#DejaVuSans-37\"/>\n       <use x=\"190.869141\" xlink:href=\"#DejaVuSans-39\"/>\n       <use x=\"254.492188\" xlink:href=\"#DejaVuSans-2e\"/>\n       <use x=\"286.279297\" xlink:href=\"#DejaVuSans-30\"/>\n      </g>\n     </g>\n    </g>\n    <g id=\"xtick_81\">\n     <g id=\"line2d_81\">\n      <g>\n       <use style=\"stroke:#000000;stroke-width:0.8;\" x=\"665.859943\" xlink:href=\"#mf462dd3182\" y=\"1094.4\"/>\n      </g>\n     </g>\n     <g id=\"text_81\">\n      <!-- 1880.0 -->\n      <g transform=\"translate(668.619318 1136.390625)rotate(-90)scale(0.1 -0.1)\">\n       <use xlink:href=\"#DejaVuSans-31\"/>\n       <use x=\"63.623047\" xlink:href=\"#DejaVuSans-38\"/>\n       <use x=\"127.246094\" xlink:href=\"#DejaVuSans-38\"/>\n       <use x=\"190.869141\" xlink:href=\"#DejaVuSans-30\"/>\n       <use x=\"254.492188\" xlink:href=\"#DejaVuSans-2e\"/>\n       <use x=\"286.279297\" xlink:href=\"#DejaVuSans-30\"/>\n      </g>\n     </g>\n    </g>\n    <g id=\"xtick_82\">\n     <g id=\"line2d_82\">\n      <g>\n       <use style=\"stroke:#000000;stroke-width:0.8;\" x=\"673.469034\" xlink:href=\"#mf462dd3182\" y=\"1094.4\"/>\n      </g>\n     </g>\n     <g id=\"text_82\">\n      <!-- 1881.0 -->\n      <g transform=\"translate(676.228409 1136.390625)rotate(-90)scale(0.1 -0.1)\">\n       <use xlink:href=\"#DejaVuSans-31\"/>\n       <use x=\"63.623047\" xlink:href=\"#DejaVuSans-38\"/>\n       <use x=\"127.246094\" xlink:href=\"#DejaVuSans-38\"/>\n       <use x=\"190.869141\" xlink:href=\"#DejaVuSans-31\"/>\n       <use x=\"254.492188\" xlink:href=\"#DejaVuSans-2e\"/>\n       <use x=\"286.279297\" xlink:href=\"#DejaVuSans-30\"/>\n      </g>\n     </g>\n    </g>\n    <g id=\"xtick_83\">\n     <g id=\"line2d_83\">\n      <g>\n       <use style=\"stroke:#000000;stroke-width:0.8;\" x=\"681.078125\" xlink:href=\"#mf462dd3182\" y=\"1094.4\"/>\n      </g>\n     </g>\n     <g id=\"text_83\">\n      <!-- 1882.0 -->\n      <g transform=\"translate(683.8375 1136.390625)rotate(-90)scale(0.1 -0.1)\">\n       <use xlink:href=\"#DejaVuSans-31\"/>\n       <use x=\"63.623047\" xlink:href=\"#DejaVuSans-38\"/>\n       <use x=\"127.246094\" xlink:href=\"#DejaVuSans-38\"/>\n       <use x=\"190.869141\" xlink:href=\"#DejaVuSans-32\"/>\n       <use x=\"254.492188\" xlink:href=\"#DejaVuSans-2e\"/>\n       <use x=\"286.279297\" xlink:href=\"#DejaVuSans-30\"/>\n      </g>\n     </g>\n    </g>\n    <g id=\"xtick_84\">\n     <g id=\"line2d_84\">\n      <g>\n       <use style=\"stroke:#000000;stroke-width:0.8;\" x=\"688.687216\" xlink:href=\"#mf462dd3182\" y=\"1094.4\"/>\n      </g>\n     </g>\n     <g id=\"text_84\">\n      <!-- 1883.0 -->\n      <g transform=\"translate(691.446591 1136.390625)rotate(-90)scale(0.1 -0.1)\">\n       <use xlink:href=\"#DejaVuSans-31\"/>\n       <use x=\"63.623047\" xlink:href=\"#DejaVuSans-38\"/>\n       <use x=\"127.246094\" xlink:href=\"#DejaVuSans-38\"/>\n       <use x=\"190.869141\" xlink:href=\"#DejaVuSans-33\"/>\n       <use x=\"254.492188\" xlink:href=\"#DejaVuSans-2e\"/>\n       <use x=\"286.279297\" xlink:href=\"#DejaVuSans-30\"/>\n      </g>\n     </g>\n    </g>\n    <g id=\"xtick_85\">\n     <g id=\"line2d_85\">\n      <g>\n       <use style=\"stroke:#000000;stroke-width:0.8;\" x=\"696.296307\" xlink:href=\"#mf462dd3182\" y=\"1094.4\"/>\n      </g>\n     </g>\n     <g id=\"text_85\">\n      <!-- 1884.0 -->\n      <g transform=\"translate(699.055682 1136.390625)rotate(-90)scale(0.1 -0.1)\">\n       <use xlink:href=\"#DejaVuSans-31\"/>\n       <use x=\"63.623047\" xlink:href=\"#DejaVuSans-38\"/>\n       <use x=\"127.246094\" xlink:href=\"#DejaVuSans-38\"/>\n       <use x=\"190.869141\" xlink:href=\"#DejaVuSans-34\"/>\n       <use x=\"254.492188\" xlink:href=\"#DejaVuSans-2e\"/>\n       <use x=\"286.279297\" xlink:href=\"#DejaVuSans-30\"/>\n      </g>\n     </g>\n    </g>\n    <g id=\"xtick_86\">\n     <g id=\"line2d_86\">\n      <g>\n       <use style=\"stroke:#000000;stroke-width:0.8;\" x=\"703.905398\" xlink:href=\"#mf462dd3182\" y=\"1094.4\"/>\n      </g>\n     </g>\n     <g id=\"text_86\">\n      <!-- 1885.0 -->\n      <g transform=\"translate(706.664773 1136.390625)rotate(-90)scale(0.1 -0.1)\">\n       <use xlink:href=\"#DejaVuSans-31\"/>\n       <use x=\"63.623047\" xlink:href=\"#DejaVuSans-38\"/>\n       <use x=\"127.246094\" xlink:href=\"#DejaVuSans-38\"/>\n       <use x=\"190.869141\" xlink:href=\"#DejaVuSans-35\"/>\n       <use x=\"254.492188\" xlink:href=\"#DejaVuSans-2e\"/>\n       <use x=\"286.279297\" xlink:href=\"#DejaVuSans-30\"/>\n      </g>\n     </g>\n    </g>\n    <g id=\"xtick_87\">\n     <g id=\"line2d_87\">\n      <g>\n       <use style=\"stroke:#000000;stroke-width:0.8;\" x=\"711.514489\" xlink:href=\"#mf462dd3182\" y=\"1094.4\"/>\n      </g>\n     </g>\n     <g id=\"text_87\">\n      <!-- 1886.0 -->\n      <g transform=\"translate(714.273864 1136.390625)rotate(-90)scale(0.1 -0.1)\">\n       <use xlink:href=\"#DejaVuSans-31\"/>\n       <use x=\"63.623047\" xlink:href=\"#DejaVuSans-38\"/>\n       <use x=\"127.246094\" xlink:href=\"#DejaVuSans-38\"/>\n       <use x=\"190.869141\" xlink:href=\"#DejaVuSans-36\"/>\n       <use x=\"254.492188\" xlink:href=\"#DejaVuSans-2e\"/>\n       <use x=\"286.279297\" xlink:href=\"#DejaVuSans-30\"/>\n      </g>\n     </g>\n    </g>\n    <g id=\"xtick_88\">\n     <g id=\"line2d_88\">\n      <g>\n       <use style=\"stroke:#000000;stroke-width:0.8;\" x=\"719.12358\" xlink:href=\"#mf462dd3182\" y=\"1094.4\"/>\n      </g>\n     </g>\n     <g id=\"text_88\">\n      <!-- 1887.0 -->\n      <g transform=\"translate(721.882955 1136.390625)rotate(-90)scale(0.1 -0.1)\">\n       <use xlink:href=\"#DejaVuSans-31\"/>\n       <use x=\"63.623047\" xlink:href=\"#DejaVuSans-38\"/>\n       <use x=\"127.246094\" xlink:href=\"#DejaVuSans-38\"/>\n       <use x=\"190.869141\" xlink:href=\"#DejaVuSans-37\"/>\n       <use x=\"254.492188\" xlink:href=\"#DejaVuSans-2e\"/>\n       <use x=\"286.279297\" xlink:href=\"#DejaVuSans-30\"/>\n      </g>\n     </g>\n    </g>\n    <g id=\"xtick_89\">\n     <g id=\"line2d_89\">\n      <g>\n       <use style=\"stroke:#000000;stroke-width:0.8;\" x=\"726.73267\" xlink:href=\"#mf462dd3182\" y=\"1094.4\"/>\n      </g>\n     </g>\n     <g id=\"text_89\">\n      <!-- 1888.0 -->\n      <g transform=\"translate(729.492045 1136.390625)rotate(-90)scale(0.1 -0.1)\">\n       <use xlink:href=\"#DejaVuSans-31\"/>\n       <use x=\"63.623047\" xlink:href=\"#DejaVuSans-38\"/>\n       <use x=\"127.246094\" xlink:href=\"#DejaVuSans-38\"/>\n       <use x=\"190.869141\" xlink:href=\"#DejaVuSans-38\"/>\n       <use x=\"254.492188\" xlink:href=\"#DejaVuSans-2e\"/>\n       <use x=\"286.279297\" xlink:href=\"#DejaVuSans-30\"/>\n      </g>\n     </g>\n    </g>\n    <g id=\"xtick_90\">\n     <g id=\"line2d_90\">\n      <g>\n       <use style=\"stroke:#000000;stroke-width:0.8;\" x=\"734.341761\" xlink:href=\"#mf462dd3182\" y=\"1094.4\"/>\n      </g>\n     </g>\n     <g id=\"text_90\">\n      <!-- 1889.0 -->\n      <g transform=\"translate(737.101136 1136.390625)rotate(-90)scale(0.1 -0.1)\">\n       <use xlink:href=\"#DejaVuSans-31\"/>\n       <use x=\"63.623047\" xlink:href=\"#DejaVuSans-38\"/>\n       <use x=\"127.246094\" xlink:href=\"#DejaVuSans-38\"/>\n       <use x=\"190.869141\" xlink:href=\"#DejaVuSans-39\"/>\n       <use x=\"254.492188\" xlink:href=\"#DejaVuSans-2e\"/>\n       <use x=\"286.279297\" xlink:href=\"#DejaVuSans-30\"/>\n      </g>\n     </g>\n    </g>\n    <g id=\"xtick_91\">\n     <g id=\"line2d_91\">\n      <g>\n       <use style=\"stroke:#000000;stroke-width:0.8;\" x=\"741.950852\" xlink:href=\"#mf462dd3182\" y=\"1094.4\"/>\n      </g>\n     </g>\n     <g id=\"text_91\">\n      <!-- 1890.0 -->\n      <g transform=\"translate(744.710227 1136.390625)rotate(-90)scale(0.1 -0.1)\">\n       <use xlink:href=\"#DejaVuSans-31\"/>\n       <use x=\"63.623047\" xlink:href=\"#DejaVuSans-38\"/>\n       <use x=\"127.246094\" xlink:href=\"#DejaVuSans-39\"/>\n       <use x=\"190.869141\" xlink:href=\"#DejaVuSans-30\"/>\n       <use x=\"254.492188\" xlink:href=\"#DejaVuSans-2e\"/>\n       <use x=\"286.279297\" xlink:href=\"#DejaVuSans-30\"/>\n      </g>\n     </g>\n    </g>\n    <g id=\"xtick_92\">\n     <g id=\"line2d_92\">\n      <g>\n       <use style=\"stroke:#000000;stroke-width:0.8;\" x=\"749.559943\" xlink:href=\"#mf462dd3182\" y=\"1094.4\"/>\n      </g>\n     </g>\n     <g id=\"text_92\">\n      <!-- 1891.0 -->\n      <g transform=\"translate(752.319318 1136.390625)rotate(-90)scale(0.1 -0.1)\">\n       <use xlink:href=\"#DejaVuSans-31\"/>\n       <use x=\"63.623047\" xlink:href=\"#DejaVuSans-38\"/>\n       <use x=\"127.246094\" xlink:href=\"#DejaVuSans-39\"/>\n       <use x=\"190.869141\" xlink:href=\"#DejaVuSans-31\"/>\n       <use x=\"254.492188\" xlink:href=\"#DejaVuSans-2e\"/>\n       <use x=\"286.279297\" xlink:href=\"#DejaVuSans-30\"/>\n      </g>\n     </g>\n    </g>\n    <g id=\"xtick_93\">\n     <g id=\"line2d_93\">\n      <g>\n       <use style=\"stroke:#000000;stroke-width:0.8;\" x=\"757.169034\" xlink:href=\"#mf462dd3182\" y=\"1094.4\"/>\n      </g>\n     </g>\n     <g id=\"text_93\">\n      <!-- 1892.0 -->\n      <g transform=\"translate(759.928409 1136.390625)rotate(-90)scale(0.1 -0.1)\">\n       <use xlink:href=\"#DejaVuSans-31\"/>\n       <use x=\"63.623047\" xlink:href=\"#DejaVuSans-38\"/>\n       <use x=\"127.246094\" xlink:href=\"#DejaVuSans-39\"/>\n       <use x=\"190.869141\" xlink:href=\"#DejaVuSans-32\"/>\n       <use x=\"254.492188\" xlink:href=\"#DejaVuSans-2e\"/>\n       <use x=\"286.279297\" xlink:href=\"#DejaVuSans-30\"/>\n      </g>\n     </g>\n    </g>\n    <g id=\"xtick_94\">\n     <g id=\"line2d_94\">\n      <g>\n       <use style=\"stroke:#000000;stroke-width:0.8;\" x=\"764.778125\" xlink:href=\"#mf462dd3182\" y=\"1094.4\"/>\n      </g>\n     </g>\n     <g id=\"text_94\">\n      <!-- 1893.0 -->\n      <g transform=\"translate(767.5375 1136.390625)rotate(-90)scale(0.1 -0.1)\">\n       <use xlink:href=\"#DejaVuSans-31\"/>\n       <use x=\"63.623047\" xlink:href=\"#DejaVuSans-38\"/>\n       <use x=\"127.246094\" xlink:href=\"#DejaVuSans-39\"/>\n       <use x=\"190.869141\" xlink:href=\"#DejaVuSans-33\"/>\n       <use x=\"254.492188\" xlink:href=\"#DejaVuSans-2e\"/>\n       <use x=\"286.279297\" xlink:href=\"#DejaVuSans-30\"/>\n      </g>\n     </g>\n    </g>\n    <g id=\"xtick_95\">\n     <g id=\"line2d_95\">\n      <g>\n       <use style=\"stroke:#000000;stroke-width:0.8;\" x=\"772.387216\" xlink:href=\"#mf462dd3182\" y=\"1094.4\"/>\n      </g>\n     </g>\n     <g id=\"text_95\">\n      <!-- 1894.0 -->\n      <g transform=\"translate(775.146591 1136.390625)rotate(-90)scale(0.1 -0.1)\">\n       <use xlink:href=\"#DejaVuSans-31\"/>\n       <use x=\"63.623047\" xlink:href=\"#DejaVuSans-38\"/>\n       <use x=\"127.246094\" xlink:href=\"#DejaVuSans-39\"/>\n       <use x=\"190.869141\" xlink:href=\"#DejaVuSans-34\"/>\n       <use x=\"254.492188\" xlink:href=\"#DejaVuSans-2e\"/>\n       <use x=\"286.279297\" xlink:href=\"#DejaVuSans-30\"/>\n      </g>\n     </g>\n    </g>\n    <g id=\"xtick_96\">\n     <g id=\"line2d_96\">\n      <g>\n       <use style=\"stroke:#000000;stroke-width:0.8;\" x=\"779.996307\" xlink:href=\"#mf462dd3182\" y=\"1094.4\"/>\n      </g>\n     </g>\n     <g id=\"text_96\">\n      <!-- 1895.0 -->\n      <g transform=\"translate(782.755682 1136.390625)rotate(-90)scale(0.1 -0.1)\">\n       <use xlink:href=\"#DejaVuSans-31\"/>\n       <use x=\"63.623047\" xlink:href=\"#DejaVuSans-38\"/>\n       <use x=\"127.246094\" xlink:href=\"#DejaVuSans-39\"/>\n       <use x=\"190.869141\" xlink:href=\"#DejaVuSans-35\"/>\n       <use x=\"254.492188\" xlink:href=\"#DejaVuSans-2e\"/>\n       <use x=\"286.279297\" xlink:href=\"#DejaVuSans-30\"/>\n      </g>\n     </g>\n    </g>\n    <g id=\"xtick_97\">\n     <g id=\"line2d_97\">\n      <g>\n       <use style=\"stroke:#000000;stroke-width:0.8;\" x=\"787.605398\" xlink:href=\"#mf462dd3182\" y=\"1094.4\"/>\n      </g>\n     </g>\n     <g id=\"text_97\">\n      <!-- 1896.0 -->\n      <g transform=\"translate(790.364773 1136.390625)rotate(-90)scale(0.1 -0.1)\">\n       <use xlink:href=\"#DejaVuSans-31\"/>\n       <use x=\"63.623047\" xlink:href=\"#DejaVuSans-38\"/>\n       <use x=\"127.246094\" xlink:href=\"#DejaVuSans-39\"/>\n       <use x=\"190.869141\" xlink:href=\"#DejaVuSans-36\"/>\n       <use x=\"254.492188\" xlink:href=\"#DejaVuSans-2e\"/>\n       <use x=\"286.279297\" xlink:href=\"#DejaVuSans-30\"/>\n      </g>\n     </g>\n    </g>\n    <g id=\"xtick_98\">\n     <g id=\"line2d_98\">\n      <g>\n       <use style=\"stroke:#000000;stroke-width:0.8;\" x=\"795.214489\" xlink:href=\"#mf462dd3182\" y=\"1094.4\"/>\n      </g>\n     </g>\n     <g id=\"text_98\">\n      <!-- 1897.0 -->\n      <g transform=\"translate(797.973864 1136.390625)rotate(-90)scale(0.1 -0.1)\">\n       <use xlink:href=\"#DejaVuSans-31\"/>\n       <use x=\"63.623047\" xlink:href=\"#DejaVuSans-38\"/>\n       <use x=\"127.246094\" xlink:href=\"#DejaVuSans-39\"/>\n       <use x=\"190.869141\" xlink:href=\"#DejaVuSans-37\"/>\n       <use x=\"254.492188\" xlink:href=\"#DejaVuSans-2e\"/>\n       <use x=\"286.279297\" xlink:href=\"#DejaVuSans-30\"/>\n      </g>\n     </g>\n    </g>\n    <g id=\"xtick_99\">\n     <g id=\"line2d_99\">\n      <g>\n       <use style=\"stroke:#000000;stroke-width:0.8;\" x=\"802.82358\" xlink:href=\"#mf462dd3182\" y=\"1094.4\"/>\n      </g>\n     </g>\n     <g id=\"text_99\">\n      <!-- 1898.0 -->\n      <g transform=\"translate(805.582955 1136.390625)rotate(-90)scale(0.1 -0.1)\">\n       <use xlink:href=\"#DejaVuSans-31\"/>\n       <use x=\"63.623047\" xlink:href=\"#DejaVuSans-38\"/>\n       <use x=\"127.246094\" xlink:href=\"#DejaVuSans-39\"/>\n       <use x=\"190.869141\" xlink:href=\"#DejaVuSans-38\"/>\n       <use x=\"254.492188\" xlink:href=\"#DejaVuSans-2e\"/>\n       <use x=\"286.279297\" xlink:href=\"#DejaVuSans-30\"/>\n      </g>\n     </g>\n    </g>\n    <g id=\"xtick_100\">\n     <g id=\"line2d_100\">\n      <g>\n       <use style=\"stroke:#000000;stroke-width:0.8;\" x=\"810.43267\" xlink:href=\"#mf462dd3182\" y=\"1094.4\"/>\n      </g>\n     </g>\n     <g id=\"text_100\">\n      <!-- 1899.0 -->\n      <g transform=\"translate(813.192045 1136.390625)rotate(-90)scale(0.1 -0.1)\">\n       <use xlink:href=\"#DejaVuSans-31\"/>\n       <use x=\"63.623047\" xlink:href=\"#DejaVuSans-38\"/>\n       <use x=\"127.246094\" xlink:href=\"#DejaVuSans-39\"/>\n       <use x=\"190.869141\" xlink:href=\"#DejaVuSans-39\"/>\n       <use x=\"254.492188\" xlink:href=\"#DejaVuSans-2e\"/>\n       <use x=\"286.279297\" xlink:href=\"#DejaVuSans-30\"/>\n      </g>\n     </g>\n    </g>\n    <g id=\"xtick_101\">\n     <g id=\"line2d_101\">\n      <g>\n       <use style=\"stroke:#000000;stroke-width:0.8;\" x=\"818.041761\" xlink:href=\"#mf462dd3182\" y=\"1094.4\"/>\n      </g>\n     </g>\n     <g id=\"text_101\">\n      <!-- 1900.0 -->\n      <g transform=\"translate(820.801136 1136.390625)rotate(-90)scale(0.1 -0.1)\">\n       <use xlink:href=\"#DejaVuSans-31\"/>\n       <use x=\"63.623047\" xlink:href=\"#DejaVuSans-39\"/>\n       <use x=\"127.246094\" xlink:href=\"#DejaVuSans-30\"/>\n       <use x=\"190.869141\" xlink:href=\"#DejaVuSans-30\"/>\n       <use x=\"254.492188\" xlink:href=\"#DejaVuSans-2e\"/>\n       <use x=\"286.279297\" xlink:href=\"#DejaVuSans-30\"/>\n      </g>\n     </g>\n    </g>\n    <g id=\"xtick_102\">\n     <g id=\"line2d_102\">\n      <g>\n       <use style=\"stroke:#000000;stroke-width:0.8;\" x=\"825.650852\" xlink:href=\"#mf462dd3182\" y=\"1094.4\"/>\n      </g>\n     </g>\n     <g id=\"text_102\">\n      <!-- 1901.0 -->\n      <g transform=\"translate(828.410227 1136.390625)rotate(-90)scale(0.1 -0.1)\">\n       <use xlink:href=\"#DejaVuSans-31\"/>\n       <use x=\"63.623047\" xlink:href=\"#DejaVuSans-39\"/>\n       <use x=\"127.246094\" xlink:href=\"#DejaVuSans-30\"/>\n       <use x=\"190.869141\" xlink:href=\"#DejaVuSans-31\"/>\n       <use x=\"254.492188\" xlink:href=\"#DejaVuSans-2e\"/>\n       <use x=\"286.279297\" xlink:href=\"#DejaVuSans-30\"/>\n      </g>\n     </g>\n    </g>\n    <g id=\"xtick_103\">\n     <g id=\"line2d_103\">\n      <g>\n       <use style=\"stroke:#000000;stroke-width:0.8;\" x=\"833.259943\" xlink:href=\"#mf462dd3182\" y=\"1094.4\"/>\n      </g>\n     </g>\n     <g id=\"text_103\">\n      <!-- 1902.0 -->\n      <g transform=\"translate(836.019318 1136.390625)rotate(-90)scale(0.1 -0.1)\">\n       <use xlink:href=\"#DejaVuSans-31\"/>\n       <use x=\"63.623047\" xlink:href=\"#DejaVuSans-39\"/>\n       <use x=\"127.246094\" xlink:href=\"#DejaVuSans-30\"/>\n       <use x=\"190.869141\" xlink:href=\"#DejaVuSans-32\"/>\n       <use x=\"254.492188\" xlink:href=\"#DejaVuSans-2e\"/>\n       <use x=\"286.279297\" xlink:href=\"#DejaVuSans-30\"/>\n      </g>\n     </g>\n    </g>\n    <g id=\"xtick_104\">\n     <g id=\"line2d_104\">\n      <g>\n       <use style=\"stroke:#000000;stroke-width:0.8;\" x=\"840.869034\" xlink:href=\"#mf462dd3182\" y=\"1094.4\"/>\n      </g>\n     </g>\n     <g id=\"text_104\">\n      <!-- 1903.0 -->\n      <g transform=\"translate(843.628409 1136.390625)rotate(-90)scale(0.1 -0.1)\">\n       <use xlink:href=\"#DejaVuSans-31\"/>\n       <use x=\"63.623047\" xlink:href=\"#DejaVuSans-39\"/>\n       <use x=\"127.246094\" xlink:href=\"#DejaVuSans-30\"/>\n       <use x=\"190.869141\" xlink:href=\"#DejaVuSans-33\"/>\n       <use x=\"254.492188\" xlink:href=\"#DejaVuSans-2e\"/>\n       <use x=\"286.279297\" xlink:href=\"#DejaVuSans-30\"/>\n      </g>\n     </g>\n    </g>\n    <g id=\"xtick_105\">\n     <g id=\"line2d_105\">\n      <g>\n       <use style=\"stroke:#000000;stroke-width:0.8;\" x=\"848.478125\" xlink:href=\"#mf462dd3182\" y=\"1094.4\"/>\n      </g>\n     </g>\n     <g id=\"text_105\">\n      <!-- 1904.0 -->\n      <g transform=\"translate(851.2375 1136.390625)rotate(-90)scale(0.1 -0.1)\">\n       <use xlink:href=\"#DejaVuSans-31\"/>\n       <use x=\"63.623047\" xlink:href=\"#DejaVuSans-39\"/>\n       <use x=\"127.246094\" xlink:href=\"#DejaVuSans-30\"/>\n       <use x=\"190.869141\" xlink:href=\"#DejaVuSans-34\"/>\n       <use x=\"254.492188\" xlink:href=\"#DejaVuSans-2e\"/>\n       <use x=\"286.279297\" xlink:href=\"#DejaVuSans-30\"/>\n      </g>\n     </g>\n    </g>\n    <g id=\"xtick_106\">\n     <g id=\"line2d_106\">\n      <g>\n       <use style=\"stroke:#000000;stroke-width:0.8;\" x=\"856.087216\" xlink:href=\"#mf462dd3182\" y=\"1094.4\"/>\n      </g>\n     </g>\n     <g id=\"text_106\">\n      <!-- 1905.0 -->\n      <g transform=\"translate(858.846591 1136.390625)rotate(-90)scale(0.1 -0.1)\">\n       <use xlink:href=\"#DejaVuSans-31\"/>\n       <use x=\"63.623047\" xlink:href=\"#DejaVuSans-39\"/>\n       <use x=\"127.246094\" xlink:href=\"#DejaVuSans-30\"/>\n       <use x=\"190.869141\" xlink:href=\"#DejaVuSans-35\"/>\n       <use x=\"254.492188\" xlink:href=\"#DejaVuSans-2e\"/>\n       <use x=\"286.279297\" xlink:href=\"#DejaVuSans-30\"/>\n      </g>\n     </g>\n    </g>\n    <g id=\"xtick_107\">\n     <g id=\"line2d_107\">\n      <g>\n       <use style=\"stroke:#000000;stroke-width:0.8;\" x=\"863.696307\" xlink:href=\"#mf462dd3182\" y=\"1094.4\"/>\n      </g>\n     </g>\n     <g id=\"text_107\">\n      <!-- 1906.0 -->\n      <g transform=\"translate(866.455682 1136.390625)rotate(-90)scale(0.1 -0.1)\">\n       <use xlink:href=\"#DejaVuSans-31\"/>\n       <use x=\"63.623047\" xlink:href=\"#DejaVuSans-39\"/>\n       <use x=\"127.246094\" xlink:href=\"#DejaVuSans-30\"/>\n       <use x=\"190.869141\" xlink:href=\"#DejaVuSans-36\"/>\n       <use x=\"254.492188\" xlink:href=\"#DejaVuSans-2e\"/>\n       <use x=\"286.279297\" xlink:href=\"#DejaVuSans-30\"/>\n      </g>\n     </g>\n    </g>\n    <g id=\"xtick_108\">\n     <g id=\"line2d_108\">\n      <g>\n       <use style=\"stroke:#000000;stroke-width:0.8;\" x=\"871.305398\" xlink:href=\"#mf462dd3182\" y=\"1094.4\"/>\n      </g>\n     </g>\n     <g id=\"text_108\">\n      <!-- 1907.0 -->\n      <g transform=\"translate(874.064773 1136.390625)rotate(-90)scale(0.1 -0.1)\">\n       <use xlink:href=\"#DejaVuSans-31\"/>\n       <use x=\"63.623047\" xlink:href=\"#DejaVuSans-39\"/>\n       <use x=\"127.246094\" xlink:href=\"#DejaVuSans-30\"/>\n       <use x=\"190.869141\" xlink:href=\"#DejaVuSans-37\"/>\n       <use x=\"254.492188\" xlink:href=\"#DejaVuSans-2e\"/>\n       <use x=\"286.279297\" xlink:href=\"#DejaVuSans-30\"/>\n      </g>\n     </g>\n    </g>\n    <g id=\"xtick_109\">\n     <g id=\"line2d_109\">\n      <g>\n       <use style=\"stroke:#000000;stroke-width:0.8;\" x=\"878.914489\" xlink:href=\"#mf462dd3182\" y=\"1094.4\"/>\n      </g>\n     </g>\n     <g id=\"text_109\">\n      <!-- 1908.0 -->\n      <g transform=\"translate(881.673864 1136.390625)rotate(-90)scale(0.1 -0.1)\">\n       <use xlink:href=\"#DejaVuSans-31\"/>\n       <use x=\"63.623047\" xlink:href=\"#DejaVuSans-39\"/>\n       <use x=\"127.246094\" xlink:href=\"#DejaVuSans-30\"/>\n       <use x=\"190.869141\" xlink:href=\"#DejaVuSans-38\"/>\n       <use x=\"254.492188\" xlink:href=\"#DejaVuSans-2e\"/>\n       <use x=\"286.279297\" xlink:href=\"#DejaVuSans-30\"/>\n      </g>\n     </g>\n    </g>\n    <g id=\"xtick_110\">\n     <g id=\"line2d_110\">\n      <g>\n       <use style=\"stroke:#000000;stroke-width:0.8;\" x=\"886.52358\" xlink:href=\"#mf462dd3182\" y=\"1094.4\"/>\n      </g>\n     </g>\n     <g id=\"text_110\">\n      <!-- 1909.0 -->\n      <g transform=\"translate(889.282955 1136.390625)rotate(-90)scale(0.1 -0.1)\">\n       <use xlink:href=\"#DejaVuSans-31\"/>\n       <use x=\"63.623047\" xlink:href=\"#DejaVuSans-39\"/>\n       <use x=\"127.246094\" xlink:href=\"#DejaVuSans-30\"/>\n       <use x=\"190.869141\" xlink:href=\"#DejaVuSans-39\"/>\n       <use x=\"254.492188\" xlink:href=\"#DejaVuSans-2e\"/>\n       <use x=\"286.279297\" xlink:href=\"#DejaVuSans-30\"/>\n      </g>\n     </g>\n    </g>\n    <g id=\"xtick_111\">\n     <g id=\"line2d_111\">\n      <g>\n       <use style=\"stroke:#000000;stroke-width:0.8;\" x=\"894.13267\" xlink:href=\"#mf462dd3182\" y=\"1094.4\"/>\n      </g>\n     </g>\n     <g id=\"text_111\">\n      <!-- 1910.0 -->\n      <g transform=\"translate(896.892045 1136.390625)rotate(-90)scale(0.1 -0.1)\">\n       <use xlink:href=\"#DejaVuSans-31\"/>\n       <use x=\"63.623047\" xlink:href=\"#DejaVuSans-39\"/>\n       <use x=\"127.246094\" xlink:href=\"#DejaVuSans-31\"/>\n       <use x=\"190.869141\" xlink:href=\"#DejaVuSans-30\"/>\n       <use x=\"254.492188\" xlink:href=\"#DejaVuSans-2e\"/>\n       <use x=\"286.279297\" xlink:href=\"#DejaVuSans-30\"/>\n      </g>\n     </g>\n    </g>\n    <g id=\"xtick_112\">\n     <g id=\"line2d_112\">\n      <g>\n       <use style=\"stroke:#000000;stroke-width:0.8;\" x=\"901.741761\" xlink:href=\"#mf462dd3182\" y=\"1094.4\"/>\n      </g>\n     </g>\n     <g id=\"text_112\">\n      <!-- 1911.0 -->\n      <g transform=\"translate(904.501136 1136.390625)rotate(-90)scale(0.1 -0.1)\">\n       <use xlink:href=\"#DejaVuSans-31\"/>\n       <use x=\"63.623047\" xlink:href=\"#DejaVuSans-39\"/>\n       <use x=\"127.246094\" xlink:href=\"#DejaVuSans-31\"/>\n       <use x=\"190.869141\" xlink:href=\"#DejaVuSans-31\"/>\n       <use x=\"254.492188\" xlink:href=\"#DejaVuSans-2e\"/>\n       <use x=\"286.279297\" xlink:href=\"#DejaVuSans-30\"/>\n      </g>\n     </g>\n    </g>\n    <g id=\"xtick_113\">\n     <g id=\"line2d_113\">\n      <g>\n       <use style=\"stroke:#000000;stroke-width:0.8;\" x=\"909.350852\" xlink:href=\"#mf462dd3182\" y=\"1094.4\"/>\n      </g>\n     </g>\n     <g id=\"text_113\">\n      <!-- 1912.0 -->\n      <g transform=\"translate(912.110227 1136.390625)rotate(-90)scale(0.1 -0.1)\">\n       <use xlink:href=\"#DejaVuSans-31\"/>\n       <use x=\"63.623047\" xlink:href=\"#DejaVuSans-39\"/>\n       <use x=\"127.246094\" xlink:href=\"#DejaVuSans-31\"/>\n       <use x=\"190.869141\" xlink:href=\"#DejaVuSans-32\"/>\n       <use x=\"254.492188\" xlink:href=\"#DejaVuSans-2e\"/>\n       <use x=\"286.279297\" xlink:href=\"#DejaVuSans-30\"/>\n      </g>\n     </g>\n    </g>\n    <g id=\"xtick_114\">\n     <g id=\"line2d_114\">\n      <g>\n       <use style=\"stroke:#000000;stroke-width:0.8;\" x=\"916.959943\" xlink:href=\"#mf462dd3182\" y=\"1094.4\"/>\n      </g>\n     </g>\n     <g id=\"text_114\">\n      <!-- 1913.0 -->\n      <g transform=\"translate(919.719318 1136.390625)rotate(-90)scale(0.1 -0.1)\">\n       <use xlink:href=\"#DejaVuSans-31\"/>\n       <use x=\"63.623047\" xlink:href=\"#DejaVuSans-39\"/>\n       <use x=\"127.246094\" xlink:href=\"#DejaVuSans-31\"/>\n       <use x=\"190.869141\" xlink:href=\"#DejaVuSans-33\"/>\n       <use x=\"254.492188\" xlink:href=\"#DejaVuSans-2e\"/>\n       <use x=\"286.279297\" xlink:href=\"#DejaVuSans-30\"/>\n      </g>\n     </g>\n    </g>\n    <g id=\"xtick_115\">\n     <g id=\"line2d_115\">\n      <g>\n       <use style=\"stroke:#000000;stroke-width:0.8;\" x=\"924.569034\" xlink:href=\"#mf462dd3182\" y=\"1094.4\"/>\n      </g>\n     </g>\n     <g id=\"text_115\">\n      <!-- 1914.0 -->\n      <g transform=\"translate(927.328409 1136.390625)rotate(-90)scale(0.1 -0.1)\">\n       <use xlink:href=\"#DejaVuSans-31\"/>\n       <use x=\"63.623047\" xlink:href=\"#DejaVuSans-39\"/>\n       <use x=\"127.246094\" xlink:href=\"#DejaVuSans-31\"/>\n       <use x=\"190.869141\" xlink:href=\"#DejaVuSans-34\"/>\n       <use x=\"254.492188\" xlink:href=\"#DejaVuSans-2e\"/>\n       <use x=\"286.279297\" xlink:href=\"#DejaVuSans-30\"/>\n      </g>\n     </g>\n    </g>\n    <g id=\"xtick_116\">\n     <g id=\"line2d_116\">\n      <g>\n       <use style=\"stroke:#000000;stroke-width:0.8;\" x=\"932.178125\" xlink:href=\"#mf462dd3182\" y=\"1094.4\"/>\n      </g>\n     </g>\n     <g id=\"text_116\">\n      <!-- 1915.0 -->\n      <g transform=\"translate(934.9375 1136.390625)rotate(-90)scale(0.1 -0.1)\">\n       <use xlink:href=\"#DejaVuSans-31\"/>\n       <use x=\"63.623047\" xlink:href=\"#DejaVuSans-39\"/>\n       <use x=\"127.246094\" xlink:href=\"#DejaVuSans-31\"/>\n       <use x=\"190.869141\" xlink:href=\"#DejaVuSans-35\"/>\n       <use x=\"254.492188\" xlink:href=\"#DejaVuSans-2e\"/>\n       <use x=\"286.279297\" xlink:href=\"#DejaVuSans-30\"/>\n      </g>\n     </g>\n    </g>\n    <g id=\"xtick_117\">\n     <g id=\"line2d_117\">\n      <g>\n       <use style=\"stroke:#000000;stroke-width:0.8;\" x=\"939.787216\" xlink:href=\"#mf462dd3182\" y=\"1094.4\"/>\n      </g>\n     </g>\n     <g id=\"text_117\">\n      <!-- 1916.0 -->\n      <g transform=\"translate(942.546591 1136.390625)rotate(-90)scale(0.1 -0.1)\">\n       <use xlink:href=\"#DejaVuSans-31\"/>\n       <use x=\"63.623047\" xlink:href=\"#DejaVuSans-39\"/>\n       <use x=\"127.246094\" xlink:href=\"#DejaVuSans-31\"/>\n       <use x=\"190.869141\" xlink:href=\"#DejaVuSans-36\"/>\n       <use x=\"254.492188\" xlink:href=\"#DejaVuSans-2e\"/>\n       <use x=\"286.279297\" xlink:href=\"#DejaVuSans-30\"/>\n      </g>\n     </g>\n    </g>\n    <g id=\"xtick_118\">\n     <g id=\"line2d_118\">\n      <g>\n       <use style=\"stroke:#000000;stroke-width:0.8;\" x=\"947.396307\" xlink:href=\"#mf462dd3182\" y=\"1094.4\"/>\n      </g>\n     </g>\n     <g id=\"text_118\">\n      <!-- 1917.0 -->\n      <g transform=\"translate(950.155682 1136.390625)rotate(-90)scale(0.1 -0.1)\">\n       <use xlink:href=\"#DejaVuSans-31\"/>\n       <use x=\"63.623047\" xlink:href=\"#DejaVuSans-39\"/>\n       <use x=\"127.246094\" xlink:href=\"#DejaVuSans-31\"/>\n       <use x=\"190.869141\" xlink:href=\"#DejaVuSans-37\"/>\n       <use x=\"254.492188\" xlink:href=\"#DejaVuSans-2e\"/>\n       <use x=\"286.279297\" xlink:href=\"#DejaVuSans-30\"/>\n      </g>\n     </g>\n    </g>\n    <g id=\"xtick_119\">\n     <g id=\"line2d_119\">\n      <g>\n       <use style=\"stroke:#000000;stroke-width:0.8;\" x=\"955.005398\" xlink:href=\"#mf462dd3182\" y=\"1094.4\"/>\n      </g>\n     </g>\n     <g id=\"text_119\">\n      <!-- 1918.0 -->\n      <g transform=\"translate(957.764773 1136.390625)rotate(-90)scale(0.1 -0.1)\">\n       <use xlink:href=\"#DejaVuSans-31\"/>\n       <use x=\"63.623047\" xlink:href=\"#DejaVuSans-39\"/>\n       <use x=\"127.246094\" xlink:href=\"#DejaVuSans-31\"/>\n       <use x=\"190.869141\" xlink:href=\"#DejaVuSans-38\"/>\n       <use x=\"254.492188\" xlink:href=\"#DejaVuSans-2e\"/>\n       <use x=\"286.279297\" xlink:href=\"#DejaVuSans-30\"/>\n      </g>\n     </g>\n    </g>\n    <g id=\"xtick_120\">\n     <g id=\"line2d_120\">\n      <g>\n       <use style=\"stroke:#000000;stroke-width:0.8;\" x=\"962.614489\" xlink:href=\"#mf462dd3182\" y=\"1094.4\"/>\n      </g>\n     </g>\n     <g id=\"text_120\">\n      <!-- 1919.0 -->\n      <g transform=\"translate(965.373864 1136.390625)rotate(-90)scale(0.1 -0.1)\">\n       <use xlink:href=\"#DejaVuSans-31\"/>\n       <use x=\"63.623047\" xlink:href=\"#DejaVuSans-39\"/>\n       <use x=\"127.246094\" xlink:href=\"#DejaVuSans-31\"/>\n       <use x=\"190.869141\" xlink:href=\"#DejaVuSans-39\"/>\n       <use x=\"254.492188\" xlink:href=\"#DejaVuSans-2e\"/>\n       <use x=\"286.279297\" xlink:href=\"#DejaVuSans-30\"/>\n      </g>\n     </g>\n    </g>\n    <g id=\"xtick_121\">\n     <g id=\"line2d_121\">\n      <g>\n       <use style=\"stroke:#000000;stroke-width:0.8;\" x=\"970.22358\" xlink:href=\"#mf462dd3182\" y=\"1094.4\"/>\n      </g>\n     </g>\n     <g id=\"text_121\">\n      <!-- 1920.0 -->\n      <g transform=\"translate(972.982955 1136.390625)rotate(-90)scale(0.1 -0.1)\">\n       <use xlink:href=\"#DejaVuSans-31\"/>\n       <use x=\"63.623047\" xlink:href=\"#DejaVuSans-39\"/>\n       <use x=\"127.246094\" xlink:href=\"#DejaVuSans-32\"/>\n       <use x=\"190.869141\" xlink:href=\"#DejaVuSans-30\"/>\n       <use x=\"254.492188\" xlink:href=\"#DejaVuSans-2e\"/>\n       <use x=\"286.279297\" xlink:href=\"#DejaVuSans-30\"/>\n      </g>\n     </g>\n    </g>\n    <g id=\"xtick_122\">\n     <g id=\"line2d_122\">\n      <g>\n       <use style=\"stroke:#000000;stroke-width:0.8;\" x=\"977.83267\" xlink:href=\"#mf462dd3182\" y=\"1094.4\"/>\n      </g>\n     </g>\n     <g id=\"text_122\">\n      <!-- 1921.0 -->\n      <g transform=\"translate(980.592045 1136.390625)rotate(-90)scale(0.1 -0.1)\">\n       <use xlink:href=\"#DejaVuSans-31\"/>\n       <use x=\"63.623047\" xlink:href=\"#DejaVuSans-39\"/>\n       <use x=\"127.246094\" xlink:href=\"#DejaVuSans-32\"/>\n       <use x=\"190.869141\" xlink:href=\"#DejaVuSans-31\"/>\n       <use x=\"254.492188\" xlink:href=\"#DejaVuSans-2e\"/>\n       <use x=\"286.279297\" xlink:href=\"#DejaVuSans-30\"/>\n      </g>\n     </g>\n    </g>\n    <g id=\"xtick_123\">\n     <g id=\"line2d_123\">\n      <g>\n       <use style=\"stroke:#000000;stroke-width:0.8;\" x=\"985.441761\" xlink:href=\"#mf462dd3182\" y=\"1094.4\"/>\n      </g>\n     </g>\n     <g id=\"text_123\">\n      <!-- 1922.0 -->\n      <g transform=\"translate(988.201136 1136.390625)rotate(-90)scale(0.1 -0.1)\">\n       <use xlink:href=\"#DejaVuSans-31\"/>\n       <use x=\"63.623047\" xlink:href=\"#DejaVuSans-39\"/>\n       <use x=\"127.246094\" xlink:href=\"#DejaVuSans-32\"/>\n       <use x=\"190.869141\" xlink:href=\"#DejaVuSans-32\"/>\n       <use x=\"254.492188\" xlink:href=\"#DejaVuSans-2e\"/>\n       <use x=\"286.279297\" xlink:href=\"#DejaVuSans-30\"/>\n      </g>\n     </g>\n    </g>\n    <g id=\"xtick_124\">\n     <g id=\"line2d_124\">\n      <g>\n       <use style=\"stroke:#000000;stroke-width:0.8;\" x=\"993.050852\" xlink:href=\"#mf462dd3182\" y=\"1094.4\"/>\n      </g>\n     </g>\n     <g id=\"text_124\">\n      <!-- 1923.0 -->\n      <g transform=\"translate(995.810227 1136.390625)rotate(-90)scale(0.1 -0.1)\">\n       <use xlink:href=\"#DejaVuSans-31\"/>\n       <use x=\"63.623047\" xlink:href=\"#DejaVuSans-39\"/>\n       <use x=\"127.246094\" xlink:href=\"#DejaVuSans-32\"/>\n       <use x=\"190.869141\" xlink:href=\"#DejaVuSans-33\"/>\n       <use x=\"254.492188\" xlink:href=\"#DejaVuSans-2e\"/>\n       <use x=\"286.279297\" xlink:href=\"#DejaVuSans-30\"/>\n      </g>\n     </g>\n    </g>\n    <g id=\"xtick_125\">\n     <g id=\"line2d_125\">\n      <g>\n       <use style=\"stroke:#000000;stroke-width:0.8;\" x=\"1000.659943\" xlink:href=\"#mf462dd3182\" y=\"1094.4\"/>\n      </g>\n     </g>\n     <g id=\"text_125\">\n      <!-- 1924.0 -->\n      <g transform=\"translate(1003.419318 1136.390625)rotate(-90)scale(0.1 -0.1)\">\n       <use xlink:href=\"#DejaVuSans-31\"/>\n       <use x=\"63.623047\" xlink:href=\"#DejaVuSans-39\"/>\n       <use x=\"127.246094\" xlink:href=\"#DejaVuSans-32\"/>\n       <use x=\"190.869141\" xlink:href=\"#DejaVuSans-34\"/>\n       <use x=\"254.492188\" xlink:href=\"#DejaVuSans-2e\"/>\n       <use x=\"286.279297\" xlink:href=\"#DejaVuSans-30\"/>\n      </g>\n     </g>\n    </g>\n    <g id=\"xtick_126\">\n     <g id=\"line2d_126\">\n      <g>\n       <use style=\"stroke:#000000;stroke-width:0.8;\" x=\"1008.269034\" xlink:href=\"#mf462dd3182\" y=\"1094.4\"/>\n      </g>\n     </g>\n     <g id=\"text_126\">\n      <!-- 1925.0 -->\n      <g transform=\"translate(1011.028409 1136.390625)rotate(-90)scale(0.1 -0.1)\">\n       <use xlink:href=\"#DejaVuSans-31\"/>\n       <use x=\"63.623047\" xlink:href=\"#DejaVuSans-39\"/>\n       <use x=\"127.246094\" xlink:href=\"#DejaVuSans-32\"/>\n       <use x=\"190.869141\" xlink:href=\"#DejaVuSans-35\"/>\n       <use x=\"254.492188\" xlink:href=\"#DejaVuSans-2e\"/>\n       <use x=\"286.279297\" xlink:href=\"#DejaVuSans-30\"/>\n      </g>\n     </g>\n    </g>\n    <g id=\"xtick_127\">\n     <g id=\"line2d_127\">\n      <g>\n       <use style=\"stroke:#000000;stroke-width:0.8;\" x=\"1015.878125\" xlink:href=\"#mf462dd3182\" y=\"1094.4\"/>\n      </g>\n     </g>\n     <g id=\"text_127\">\n      <!-- 1926.0 -->\n      <g transform=\"translate(1018.6375 1136.390625)rotate(-90)scale(0.1 -0.1)\">\n       <use xlink:href=\"#DejaVuSans-31\"/>\n       <use x=\"63.623047\" xlink:href=\"#DejaVuSans-39\"/>\n       <use x=\"127.246094\" xlink:href=\"#DejaVuSans-32\"/>\n       <use x=\"190.869141\" xlink:href=\"#DejaVuSans-36\"/>\n       <use x=\"254.492188\" xlink:href=\"#DejaVuSans-2e\"/>\n       <use x=\"286.279297\" xlink:href=\"#DejaVuSans-30\"/>\n      </g>\n     </g>\n    </g>\n    <g id=\"xtick_128\">\n     <g id=\"line2d_128\">\n      <g>\n       <use style=\"stroke:#000000;stroke-width:0.8;\" x=\"1023.487216\" xlink:href=\"#mf462dd3182\" y=\"1094.4\"/>\n      </g>\n     </g>\n     <g id=\"text_128\">\n      <!-- 1927.0 -->\n      <g transform=\"translate(1026.246591 1136.390625)rotate(-90)scale(0.1 -0.1)\">\n       <use xlink:href=\"#DejaVuSans-31\"/>\n       <use x=\"63.623047\" xlink:href=\"#DejaVuSans-39\"/>\n       <use x=\"127.246094\" xlink:href=\"#DejaVuSans-32\"/>\n       <use x=\"190.869141\" xlink:href=\"#DejaVuSans-37\"/>\n       <use x=\"254.492188\" xlink:href=\"#DejaVuSans-2e\"/>\n       <use x=\"286.279297\" xlink:href=\"#DejaVuSans-30\"/>\n      </g>\n     </g>\n    </g>\n    <g id=\"xtick_129\">\n     <g id=\"line2d_129\">\n      <g>\n       <use style=\"stroke:#000000;stroke-width:0.8;\" x=\"1031.096307\" xlink:href=\"#mf462dd3182\" y=\"1094.4\"/>\n      </g>\n     </g>\n     <g id=\"text_129\">\n      <!-- 1928.0 -->\n      <g transform=\"translate(1033.855682 1136.390625)rotate(-90)scale(0.1 -0.1)\">\n       <use xlink:href=\"#DejaVuSans-31\"/>\n       <use x=\"63.623047\" xlink:href=\"#DejaVuSans-39\"/>\n       <use x=\"127.246094\" xlink:href=\"#DejaVuSans-32\"/>\n       <use x=\"190.869141\" xlink:href=\"#DejaVuSans-38\"/>\n       <use x=\"254.492188\" xlink:href=\"#DejaVuSans-2e\"/>\n       <use x=\"286.279297\" xlink:href=\"#DejaVuSans-30\"/>\n      </g>\n     </g>\n    </g>\n    <g id=\"xtick_130\">\n     <g id=\"line2d_130\">\n      <g>\n       <use style=\"stroke:#000000;stroke-width:0.8;\" x=\"1038.705398\" xlink:href=\"#mf462dd3182\" y=\"1094.4\"/>\n      </g>\n     </g>\n     <g id=\"text_130\">\n      <!-- 1929.0 -->\n      <g transform=\"translate(1041.464773 1136.390625)rotate(-90)scale(0.1 -0.1)\">\n       <use xlink:href=\"#DejaVuSans-31\"/>\n       <use x=\"63.623047\" xlink:href=\"#DejaVuSans-39\"/>\n       <use x=\"127.246094\" xlink:href=\"#DejaVuSans-32\"/>\n       <use x=\"190.869141\" xlink:href=\"#DejaVuSans-39\"/>\n       <use x=\"254.492188\" xlink:href=\"#DejaVuSans-2e\"/>\n       <use x=\"286.279297\" xlink:href=\"#DejaVuSans-30\"/>\n      </g>\n     </g>\n    </g>\n    <g id=\"xtick_131\">\n     <g id=\"line2d_131\">\n      <g>\n       <use style=\"stroke:#000000;stroke-width:0.8;\" x=\"1046.314489\" xlink:href=\"#mf462dd3182\" y=\"1094.4\"/>\n      </g>\n     </g>\n     <g id=\"text_131\">\n      <!-- 1930.0 -->\n      <g transform=\"translate(1049.073864 1136.390625)rotate(-90)scale(0.1 -0.1)\">\n       <use xlink:href=\"#DejaVuSans-31\"/>\n       <use x=\"63.623047\" xlink:href=\"#DejaVuSans-39\"/>\n       <use x=\"127.246094\" xlink:href=\"#DejaVuSans-33\"/>\n       <use x=\"190.869141\" xlink:href=\"#DejaVuSans-30\"/>\n       <use x=\"254.492188\" xlink:href=\"#DejaVuSans-2e\"/>\n       <use x=\"286.279297\" xlink:href=\"#DejaVuSans-30\"/>\n      </g>\n     </g>\n    </g>\n    <g id=\"xtick_132\">\n     <g id=\"line2d_132\">\n      <g>\n       <use style=\"stroke:#000000;stroke-width:0.8;\" x=\"1053.92358\" xlink:href=\"#mf462dd3182\" y=\"1094.4\"/>\n      </g>\n     </g>\n     <g id=\"text_132\">\n      <!-- 1931.0 -->\n      <g transform=\"translate(1056.682955 1136.390625)rotate(-90)scale(0.1 -0.1)\">\n       <use xlink:href=\"#DejaVuSans-31\"/>\n       <use x=\"63.623047\" xlink:href=\"#DejaVuSans-39\"/>\n       <use x=\"127.246094\" xlink:href=\"#DejaVuSans-33\"/>\n       <use x=\"190.869141\" xlink:href=\"#DejaVuSans-31\"/>\n       <use x=\"254.492188\" xlink:href=\"#DejaVuSans-2e\"/>\n       <use x=\"286.279297\" xlink:href=\"#DejaVuSans-30\"/>\n      </g>\n     </g>\n    </g>\n    <g id=\"xtick_133\">\n     <g id=\"line2d_133\">\n      <g>\n       <use style=\"stroke:#000000;stroke-width:0.8;\" x=\"1061.53267\" xlink:href=\"#mf462dd3182\" y=\"1094.4\"/>\n      </g>\n     </g>\n     <g id=\"text_133\">\n      <!-- 1932.0 -->\n      <g transform=\"translate(1064.292045 1136.390625)rotate(-90)scale(0.1 -0.1)\">\n       <use xlink:href=\"#DejaVuSans-31\"/>\n       <use x=\"63.623047\" xlink:href=\"#DejaVuSans-39\"/>\n       <use x=\"127.246094\" xlink:href=\"#DejaVuSans-33\"/>\n       <use x=\"190.869141\" xlink:href=\"#DejaVuSans-32\"/>\n       <use x=\"254.492188\" xlink:href=\"#DejaVuSans-2e\"/>\n       <use x=\"286.279297\" xlink:href=\"#DejaVuSans-30\"/>\n      </g>\n     </g>\n    </g>\n    <g id=\"xtick_134\">\n     <g id=\"line2d_134\">\n      <g>\n       <use style=\"stroke:#000000;stroke-width:0.8;\" x=\"1069.141761\" xlink:href=\"#mf462dd3182\" y=\"1094.4\"/>\n      </g>\n     </g>\n     <g id=\"text_134\">\n      <!-- 1933.0 -->\n      <g transform=\"translate(1071.901136 1136.390625)rotate(-90)scale(0.1 -0.1)\">\n       <use xlink:href=\"#DejaVuSans-31\"/>\n       <use x=\"63.623047\" xlink:href=\"#DejaVuSans-39\"/>\n       <use x=\"127.246094\" xlink:href=\"#DejaVuSans-33\"/>\n       <use x=\"190.869141\" xlink:href=\"#DejaVuSans-33\"/>\n       <use x=\"254.492188\" xlink:href=\"#DejaVuSans-2e\"/>\n       <use x=\"286.279297\" xlink:href=\"#DejaVuSans-30\"/>\n      </g>\n     </g>\n    </g>\n    <g id=\"xtick_135\">\n     <g id=\"line2d_135\">\n      <g>\n       <use style=\"stroke:#000000;stroke-width:0.8;\" x=\"1076.750852\" xlink:href=\"#mf462dd3182\" y=\"1094.4\"/>\n      </g>\n     </g>\n     <g id=\"text_135\">\n      <!-- 1934.0 -->\n      <g transform=\"translate(1079.510227 1136.390625)rotate(-90)scale(0.1 -0.1)\">\n       <use xlink:href=\"#DejaVuSans-31\"/>\n       <use x=\"63.623047\" xlink:href=\"#DejaVuSans-39\"/>\n       <use x=\"127.246094\" xlink:href=\"#DejaVuSans-33\"/>\n       <use x=\"190.869141\" xlink:href=\"#DejaVuSans-34\"/>\n       <use x=\"254.492188\" xlink:href=\"#DejaVuSans-2e\"/>\n       <use x=\"286.279297\" xlink:href=\"#DejaVuSans-30\"/>\n      </g>\n     </g>\n    </g>\n    <g id=\"xtick_136\">\n     <g id=\"line2d_136\">\n      <g>\n       <use style=\"stroke:#000000;stroke-width:0.8;\" x=\"1084.359943\" xlink:href=\"#mf462dd3182\" y=\"1094.4\"/>\n      </g>\n     </g>\n     <g id=\"text_136\">\n      <!-- 1935.0 -->\n      <g transform=\"translate(1087.119318 1136.390625)rotate(-90)scale(0.1 -0.1)\">\n       <use xlink:href=\"#DejaVuSans-31\"/>\n       <use x=\"63.623047\" xlink:href=\"#DejaVuSans-39\"/>\n       <use x=\"127.246094\" xlink:href=\"#DejaVuSans-33\"/>\n       <use x=\"190.869141\" xlink:href=\"#DejaVuSans-35\"/>\n       <use x=\"254.492188\" xlink:href=\"#DejaVuSans-2e\"/>\n       <use x=\"286.279297\" xlink:href=\"#DejaVuSans-30\"/>\n      </g>\n     </g>\n    </g>\n    <g id=\"xtick_137\">\n     <g id=\"line2d_137\">\n      <g>\n       <use style=\"stroke:#000000;stroke-width:0.8;\" x=\"1091.969034\" xlink:href=\"#mf462dd3182\" y=\"1094.4\"/>\n      </g>\n     </g>\n     <g id=\"text_137\">\n      <!-- 1936.0 -->\n      <g transform=\"translate(1094.728409 1136.390625)rotate(-90)scale(0.1 -0.1)\">\n       <use xlink:href=\"#DejaVuSans-31\"/>\n       <use x=\"63.623047\" xlink:href=\"#DejaVuSans-39\"/>\n       <use x=\"127.246094\" xlink:href=\"#DejaVuSans-33\"/>\n       <use x=\"190.869141\" xlink:href=\"#DejaVuSans-36\"/>\n       <use x=\"254.492188\" xlink:href=\"#DejaVuSans-2e\"/>\n       <use x=\"286.279297\" xlink:href=\"#DejaVuSans-30\"/>\n      </g>\n     </g>\n    </g>\n    <g id=\"xtick_138\">\n     <g id=\"line2d_138\">\n      <g>\n       <use style=\"stroke:#000000;stroke-width:0.8;\" x=\"1099.578125\" xlink:href=\"#mf462dd3182\" y=\"1094.4\"/>\n      </g>\n     </g>\n     <g id=\"text_138\">\n      <!-- 1937.0 -->\n      <g transform=\"translate(1102.3375 1136.390625)rotate(-90)scale(0.1 -0.1)\">\n       <use xlink:href=\"#DejaVuSans-31\"/>\n       <use x=\"63.623047\" xlink:href=\"#DejaVuSans-39\"/>\n       <use x=\"127.246094\" xlink:href=\"#DejaVuSans-33\"/>\n       <use x=\"190.869141\" xlink:href=\"#DejaVuSans-37\"/>\n       <use x=\"254.492188\" xlink:href=\"#DejaVuSans-2e\"/>\n       <use x=\"286.279297\" xlink:href=\"#DejaVuSans-30\"/>\n      </g>\n     </g>\n    </g>\n    <g id=\"xtick_139\">\n     <g id=\"line2d_139\">\n      <g>\n       <use style=\"stroke:#000000;stroke-width:0.8;\" x=\"1107.187216\" xlink:href=\"#mf462dd3182\" y=\"1094.4\"/>\n      </g>\n     </g>\n     <g id=\"text_139\">\n      <!-- 1938.0 -->\n      <g transform=\"translate(1109.946591 1136.390625)rotate(-90)scale(0.1 -0.1)\">\n       <use xlink:href=\"#DejaVuSans-31\"/>\n       <use x=\"63.623047\" xlink:href=\"#DejaVuSans-39\"/>\n       <use x=\"127.246094\" xlink:href=\"#DejaVuSans-33\"/>\n       <use x=\"190.869141\" xlink:href=\"#DejaVuSans-38\"/>\n       <use x=\"254.492188\" xlink:href=\"#DejaVuSans-2e\"/>\n       <use x=\"286.279297\" xlink:href=\"#DejaVuSans-30\"/>\n      </g>\n     </g>\n    </g>\n    <g id=\"xtick_140\">\n     <g id=\"line2d_140\">\n      <g>\n       <use style=\"stroke:#000000;stroke-width:0.8;\" x=\"1114.796307\" xlink:href=\"#mf462dd3182\" y=\"1094.4\"/>\n      </g>\n     </g>\n     <g id=\"text_140\">\n      <!-- 1939.0 -->\n      <g transform=\"translate(1117.555682 1136.390625)rotate(-90)scale(0.1 -0.1)\">\n       <use xlink:href=\"#DejaVuSans-31\"/>\n       <use x=\"63.623047\" xlink:href=\"#DejaVuSans-39\"/>\n       <use x=\"127.246094\" xlink:href=\"#DejaVuSans-33\"/>\n       <use x=\"190.869141\" xlink:href=\"#DejaVuSans-39\"/>\n       <use x=\"254.492188\" xlink:href=\"#DejaVuSans-2e\"/>\n       <use x=\"286.279297\" xlink:href=\"#DejaVuSans-30\"/>\n      </g>\n     </g>\n    </g>\n    <g id=\"xtick_141\">\n     <g id=\"line2d_141\">\n      <g>\n       <use style=\"stroke:#000000;stroke-width:0.8;\" x=\"1122.405398\" xlink:href=\"#mf462dd3182\" y=\"1094.4\"/>\n      </g>\n     </g>\n     <g id=\"text_141\">\n      <!-- 1940.0 -->\n      <g transform=\"translate(1125.164773 1136.390625)rotate(-90)scale(0.1 -0.1)\">\n       <use xlink:href=\"#DejaVuSans-31\"/>\n       <use x=\"63.623047\" xlink:href=\"#DejaVuSans-39\"/>\n       <use x=\"127.246094\" xlink:href=\"#DejaVuSans-34\"/>\n       <use x=\"190.869141\" xlink:href=\"#DejaVuSans-30\"/>\n       <use x=\"254.492188\" xlink:href=\"#DejaVuSans-2e\"/>\n       <use x=\"286.279297\" xlink:href=\"#DejaVuSans-30\"/>\n      </g>\n     </g>\n    </g>\n    <g id=\"xtick_142\">\n     <g id=\"line2d_142\">\n      <g>\n       <use style=\"stroke:#000000;stroke-width:0.8;\" x=\"1130.014489\" xlink:href=\"#mf462dd3182\" y=\"1094.4\"/>\n      </g>\n     </g>\n     <g id=\"text_142\">\n      <!-- 1941.0 -->\n      <g transform=\"translate(1132.773864 1136.390625)rotate(-90)scale(0.1 -0.1)\">\n       <use xlink:href=\"#DejaVuSans-31\"/>\n       <use x=\"63.623047\" xlink:href=\"#DejaVuSans-39\"/>\n       <use x=\"127.246094\" xlink:href=\"#DejaVuSans-34\"/>\n       <use x=\"190.869141\" xlink:href=\"#DejaVuSans-31\"/>\n       <use x=\"254.492188\" xlink:href=\"#DejaVuSans-2e\"/>\n       <use x=\"286.279297\" xlink:href=\"#DejaVuSans-30\"/>\n      </g>\n     </g>\n    </g>\n    <g id=\"xtick_143\">\n     <g id=\"line2d_143\">\n      <g>\n       <use style=\"stroke:#000000;stroke-width:0.8;\" x=\"1137.62358\" xlink:href=\"#mf462dd3182\" y=\"1094.4\"/>\n      </g>\n     </g>\n     <g id=\"text_143\">\n      <!-- 1942.0 -->\n      <g transform=\"translate(1140.382955 1136.390625)rotate(-90)scale(0.1 -0.1)\">\n       <use xlink:href=\"#DejaVuSans-31\"/>\n       <use x=\"63.623047\" xlink:href=\"#DejaVuSans-39\"/>\n       <use x=\"127.246094\" xlink:href=\"#DejaVuSans-34\"/>\n       <use x=\"190.869141\" xlink:href=\"#DejaVuSans-32\"/>\n       <use x=\"254.492188\" xlink:href=\"#DejaVuSans-2e\"/>\n       <use x=\"286.279297\" xlink:href=\"#DejaVuSans-30\"/>\n      </g>\n     </g>\n    </g>\n    <g id=\"xtick_144\">\n     <g id=\"line2d_144\">\n      <g>\n       <use style=\"stroke:#000000;stroke-width:0.8;\" x=\"1145.23267\" xlink:href=\"#mf462dd3182\" y=\"1094.4\"/>\n      </g>\n     </g>\n     <g id=\"text_144\">\n      <!-- 1943.0 -->\n      <g transform=\"translate(1147.992045 1136.390625)rotate(-90)scale(0.1 -0.1)\">\n       <use xlink:href=\"#DejaVuSans-31\"/>\n       <use x=\"63.623047\" xlink:href=\"#DejaVuSans-39\"/>\n       <use x=\"127.246094\" xlink:href=\"#DejaVuSans-34\"/>\n       <use x=\"190.869141\" xlink:href=\"#DejaVuSans-33\"/>\n       <use x=\"254.492188\" xlink:href=\"#DejaVuSans-2e\"/>\n       <use x=\"286.279297\" xlink:href=\"#DejaVuSans-30\"/>\n      </g>\n     </g>\n    </g>\n    <g id=\"xtick_145\">\n     <g id=\"line2d_145\">\n      <g>\n       <use style=\"stroke:#000000;stroke-width:0.8;\" x=\"1152.841761\" xlink:href=\"#mf462dd3182\" y=\"1094.4\"/>\n      </g>\n     </g>\n     <g id=\"text_145\">\n      <!-- 1944.0 -->\n      <g transform=\"translate(1155.601136 1136.390625)rotate(-90)scale(0.1 -0.1)\">\n       <use xlink:href=\"#DejaVuSans-31\"/>\n       <use x=\"63.623047\" xlink:href=\"#DejaVuSans-39\"/>\n       <use x=\"127.246094\" xlink:href=\"#DejaVuSans-34\"/>\n       <use x=\"190.869141\" xlink:href=\"#DejaVuSans-34\"/>\n       <use x=\"254.492188\" xlink:href=\"#DejaVuSans-2e\"/>\n       <use x=\"286.279297\" xlink:href=\"#DejaVuSans-30\"/>\n      </g>\n     </g>\n    </g>\n    <g id=\"xtick_146\">\n     <g id=\"line2d_146\">\n      <g>\n       <use style=\"stroke:#000000;stroke-width:0.8;\" x=\"1160.450852\" xlink:href=\"#mf462dd3182\" y=\"1094.4\"/>\n      </g>\n     </g>\n     <g id=\"text_146\">\n      <!-- 1945.0 -->\n      <g transform=\"translate(1163.210227 1136.390625)rotate(-90)scale(0.1 -0.1)\">\n       <use xlink:href=\"#DejaVuSans-31\"/>\n       <use x=\"63.623047\" xlink:href=\"#DejaVuSans-39\"/>\n       <use x=\"127.246094\" xlink:href=\"#DejaVuSans-34\"/>\n       <use x=\"190.869141\" xlink:href=\"#DejaVuSans-35\"/>\n       <use x=\"254.492188\" xlink:href=\"#DejaVuSans-2e\"/>\n       <use x=\"286.279297\" xlink:href=\"#DejaVuSans-30\"/>\n      </g>\n     </g>\n    </g>\n    <g id=\"xtick_147\">\n     <g id=\"line2d_147\">\n      <g>\n       <use style=\"stroke:#000000;stroke-width:0.8;\" x=\"1168.059943\" xlink:href=\"#mf462dd3182\" y=\"1094.4\"/>\n      </g>\n     </g>\n     <g id=\"text_147\">\n      <!-- 1946.0 -->\n      <g transform=\"translate(1170.819318 1136.390625)rotate(-90)scale(0.1 -0.1)\">\n       <use xlink:href=\"#DejaVuSans-31\"/>\n       <use x=\"63.623047\" xlink:href=\"#DejaVuSans-39\"/>\n       <use x=\"127.246094\" xlink:href=\"#DejaVuSans-34\"/>\n       <use x=\"190.869141\" xlink:href=\"#DejaVuSans-36\"/>\n       <use x=\"254.492188\" xlink:href=\"#DejaVuSans-2e\"/>\n       <use x=\"286.279297\" xlink:href=\"#DejaVuSans-30\"/>\n      </g>\n     </g>\n    </g>\n    <g id=\"xtick_148\">\n     <g id=\"line2d_148\">\n      <g>\n       <use style=\"stroke:#000000;stroke-width:0.8;\" x=\"1175.669034\" xlink:href=\"#mf462dd3182\" y=\"1094.4\"/>\n      </g>\n     </g>\n     <g id=\"text_148\">\n      <!-- 1947.0 -->\n      <g transform=\"translate(1178.428409 1136.390625)rotate(-90)scale(0.1 -0.1)\">\n       <use xlink:href=\"#DejaVuSans-31\"/>\n       <use x=\"63.623047\" xlink:href=\"#DejaVuSans-39\"/>\n       <use x=\"127.246094\" xlink:href=\"#DejaVuSans-34\"/>\n       <use x=\"190.869141\" xlink:href=\"#DejaVuSans-37\"/>\n       <use x=\"254.492188\" xlink:href=\"#DejaVuSans-2e\"/>\n       <use x=\"286.279297\" xlink:href=\"#DejaVuSans-30\"/>\n      </g>\n     </g>\n    </g>\n    <g id=\"xtick_149\">\n     <g id=\"line2d_149\">\n      <g>\n       <use style=\"stroke:#000000;stroke-width:0.8;\" x=\"1183.278125\" xlink:href=\"#mf462dd3182\" y=\"1094.4\"/>\n      </g>\n     </g>\n     <g id=\"text_149\">\n      <!-- 1948.0 -->\n      <g transform=\"translate(1186.0375 1136.390625)rotate(-90)scale(0.1 -0.1)\">\n       <use xlink:href=\"#DejaVuSans-31\"/>\n       <use x=\"63.623047\" xlink:href=\"#DejaVuSans-39\"/>\n       <use x=\"127.246094\" xlink:href=\"#DejaVuSans-34\"/>\n       <use x=\"190.869141\" xlink:href=\"#DejaVuSans-38\"/>\n       <use x=\"254.492188\" xlink:href=\"#DejaVuSans-2e\"/>\n       <use x=\"286.279297\" xlink:href=\"#DejaVuSans-30\"/>\n      </g>\n     </g>\n    </g>\n    <g id=\"xtick_150\">\n     <g id=\"line2d_150\">\n      <g>\n       <use style=\"stroke:#000000;stroke-width:0.8;\" x=\"1190.887216\" xlink:href=\"#mf462dd3182\" y=\"1094.4\"/>\n      </g>\n     </g>\n     <g id=\"text_150\">\n      <!-- 1949.0 -->\n      <g transform=\"translate(1193.646591 1136.390625)rotate(-90)scale(0.1 -0.1)\">\n       <use xlink:href=\"#DejaVuSans-31\"/>\n       <use x=\"63.623047\" xlink:href=\"#DejaVuSans-39\"/>\n       <use x=\"127.246094\" xlink:href=\"#DejaVuSans-34\"/>\n       <use x=\"190.869141\" xlink:href=\"#DejaVuSans-39\"/>\n       <use x=\"254.492188\" xlink:href=\"#DejaVuSans-2e\"/>\n       <use x=\"286.279297\" xlink:href=\"#DejaVuSans-30\"/>\n      </g>\n     </g>\n    </g>\n    <g id=\"xtick_151\">\n     <g id=\"line2d_151\">\n      <g>\n       <use style=\"stroke:#000000;stroke-width:0.8;\" x=\"1198.496307\" xlink:href=\"#mf462dd3182\" y=\"1094.4\"/>\n      </g>\n     </g>\n     <g id=\"text_151\">\n      <!-- 1950.0 -->\n      <g transform=\"translate(1201.255682 1136.390625)rotate(-90)scale(0.1 -0.1)\">\n       <use xlink:href=\"#DejaVuSans-31\"/>\n       <use x=\"63.623047\" xlink:href=\"#DejaVuSans-39\"/>\n       <use x=\"127.246094\" xlink:href=\"#DejaVuSans-35\"/>\n       <use x=\"190.869141\" xlink:href=\"#DejaVuSans-30\"/>\n       <use x=\"254.492188\" xlink:href=\"#DejaVuSans-2e\"/>\n       <use x=\"286.279297\" xlink:href=\"#DejaVuSans-30\"/>\n      </g>\n     </g>\n    </g>\n    <g id=\"xtick_152\">\n     <g id=\"line2d_152\">\n      <g>\n       <use style=\"stroke:#000000;stroke-width:0.8;\" x=\"1206.105398\" xlink:href=\"#mf462dd3182\" y=\"1094.4\"/>\n      </g>\n     </g>\n     <g id=\"text_152\">\n      <!-- 1951.0 -->\n      <g transform=\"translate(1208.864773 1136.390625)rotate(-90)scale(0.1 -0.1)\">\n       <use xlink:href=\"#DejaVuSans-31\"/>\n       <use x=\"63.623047\" xlink:href=\"#DejaVuSans-39\"/>\n       <use x=\"127.246094\" xlink:href=\"#DejaVuSans-35\"/>\n       <use x=\"190.869141\" xlink:href=\"#DejaVuSans-31\"/>\n       <use x=\"254.492188\" xlink:href=\"#DejaVuSans-2e\"/>\n       <use x=\"286.279297\" xlink:href=\"#DejaVuSans-30\"/>\n      </g>\n     </g>\n    </g>\n    <g id=\"xtick_153\">\n     <g id=\"line2d_153\">\n      <g>\n       <use style=\"stroke:#000000;stroke-width:0.8;\" x=\"1213.714489\" xlink:href=\"#mf462dd3182\" y=\"1094.4\"/>\n      </g>\n     </g>\n     <g id=\"text_153\">\n      <!-- 1952.0 -->\n      <g transform=\"translate(1216.473864 1136.390625)rotate(-90)scale(0.1 -0.1)\">\n       <use xlink:href=\"#DejaVuSans-31\"/>\n       <use x=\"63.623047\" xlink:href=\"#DejaVuSans-39\"/>\n       <use x=\"127.246094\" xlink:href=\"#DejaVuSans-35\"/>\n       <use x=\"190.869141\" xlink:href=\"#DejaVuSans-32\"/>\n       <use x=\"254.492188\" xlink:href=\"#DejaVuSans-2e\"/>\n       <use x=\"286.279297\" xlink:href=\"#DejaVuSans-30\"/>\n      </g>\n     </g>\n    </g>\n    <g id=\"xtick_154\">\n     <g id=\"line2d_154\">\n      <g>\n       <use style=\"stroke:#000000;stroke-width:0.8;\" x=\"1221.32358\" xlink:href=\"#mf462dd3182\" y=\"1094.4\"/>\n      </g>\n     </g>\n     <g id=\"text_154\">\n      <!-- 1953.0 -->\n      <g transform=\"translate(1224.082955 1136.390625)rotate(-90)scale(0.1 -0.1)\">\n       <use xlink:href=\"#DejaVuSans-31\"/>\n       <use x=\"63.623047\" xlink:href=\"#DejaVuSans-39\"/>\n       <use x=\"127.246094\" xlink:href=\"#DejaVuSans-35\"/>\n       <use x=\"190.869141\" xlink:href=\"#DejaVuSans-33\"/>\n       <use x=\"254.492188\" xlink:href=\"#DejaVuSans-2e\"/>\n       <use x=\"286.279297\" xlink:href=\"#DejaVuSans-30\"/>\n      </g>\n     </g>\n    </g>\n    <g id=\"xtick_155\">\n     <g id=\"line2d_155\">\n      <g>\n       <use style=\"stroke:#000000;stroke-width:0.8;\" x=\"1228.93267\" xlink:href=\"#mf462dd3182\" y=\"1094.4\"/>\n      </g>\n     </g>\n     <g id=\"text_155\">\n      <!-- 1954.0 -->\n      <g transform=\"translate(1231.692045 1136.390625)rotate(-90)scale(0.1 -0.1)\">\n       <use xlink:href=\"#DejaVuSans-31\"/>\n       <use x=\"63.623047\" xlink:href=\"#DejaVuSans-39\"/>\n       <use x=\"127.246094\" xlink:href=\"#DejaVuSans-35\"/>\n       <use x=\"190.869141\" xlink:href=\"#DejaVuSans-34\"/>\n       <use x=\"254.492188\" xlink:href=\"#DejaVuSans-2e\"/>\n       <use x=\"286.279297\" xlink:href=\"#DejaVuSans-30\"/>\n      </g>\n     </g>\n    </g>\n    <g id=\"xtick_156\">\n     <g id=\"line2d_156\">\n      <g>\n       <use style=\"stroke:#000000;stroke-width:0.8;\" x=\"1236.541761\" xlink:href=\"#mf462dd3182\" y=\"1094.4\"/>\n      </g>\n     </g>\n     <g id=\"text_156\">\n      <!-- 1955.0 -->\n      <g transform=\"translate(1239.301136 1136.390625)rotate(-90)scale(0.1 -0.1)\">\n       <use xlink:href=\"#DejaVuSans-31\"/>\n       <use x=\"63.623047\" xlink:href=\"#DejaVuSans-39\"/>\n       <use x=\"127.246094\" xlink:href=\"#DejaVuSans-35\"/>\n       <use x=\"190.869141\" xlink:href=\"#DejaVuSans-35\"/>\n       <use x=\"254.492188\" xlink:href=\"#DejaVuSans-2e\"/>\n       <use x=\"286.279297\" xlink:href=\"#DejaVuSans-30\"/>\n      </g>\n     </g>\n    </g>\n    <g id=\"xtick_157\">\n     <g id=\"line2d_157\">\n      <g>\n       <use style=\"stroke:#000000;stroke-width:0.8;\" x=\"1244.150852\" xlink:href=\"#mf462dd3182\" y=\"1094.4\"/>\n      </g>\n     </g>\n     <g id=\"text_157\">\n      <!-- 1956.0 -->\n      <g transform=\"translate(1246.910227 1136.390625)rotate(-90)scale(0.1 -0.1)\">\n       <use xlink:href=\"#DejaVuSans-31\"/>\n       <use x=\"63.623047\" xlink:href=\"#DejaVuSans-39\"/>\n       <use x=\"127.246094\" xlink:href=\"#DejaVuSans-35\"/>\n       <use x=\"190.869141\" xlink:href=\"#DejaVuSans-36\"/>\n       <use x=\"254.492188\" xlink:href=\"#DejaVuSans-2e\"/>\n       <use x=\"286.279297\" xlink:href=\"#DejaVuSans-30\"/>\n      </g>\n     </g>\n    </g>\n    <g id=\"xtick_158\">\n     <g id=\"line2d_158\">\n      <g>\n       <use style=\"stroke:#000000;stroke-width:0.8;\" x=\"1251.759943\" xlink:href=\"#mf462dd3182\" y=\"1094.4\"/>\n      </g>\n     </g>\n     <g id=\"text_158\">\n      <!-- 1957.0 -->\n      <g transform=\"translate(1254.519318 1136.390625)rotate(-90)scale(0.1 -0.1)\">\n       <use xlink:href=\"#DejaVuSans-31\"/>\n       <use x=\"63.623047\" xlink:href=\"#DejaVuSans-39\"/>\n       <use x=\"127.246094\" xlink:href=\"#DejaVuSans-35\"/>\n       <use x=\"190.869141\" xlink:href=\"#DejaVuSans-37\"/>\n       <use x=\"254.492188\" xlink:href=\"#DejaVuSans-2e\"/>\n       <use x=\"286.279297\" xlink:href=\"#DejaVuSans-30\"/>\n      </g>\n     </g>\n    </g>\n    <g id=\"xtick_159\">\n     <g id=\"line2d_159\">\n      <g>\n       <use style=\"stroke:#000000;stroke-width:0.8;\" x=\"1259.369034\" xlink:href=\"#mf462dd3182\" y=\"1094.4\"/>\n      </g>\n     </g>\n     <g id=\"text_159\">\n      <!-- 1958.0 -->\n      <g transform=\"translate(1262.128409 1136.390625)rotate(-90)scale(0.1 -0.1)\">\n       <use xlink:href=\"#DejaVuSans-31\"/>\n       <use x=\"63.623047\" xlink:href=\"#DejaVuSans-39\"/>\n       <use x=\"127.246094\" xlink:href=\"#DejaVuSans-35\"/>\n       <use x=\"190.869141\" xlink:href=\"#DejaVuSans-38\"/>\n       <use x=\"254.492188\" xlink:href=\"#DejaVuSans-2e\"/>\n       <use x=\"286.279297\" xlink:href=\"#DejaVuSans-30\"/>\n      </g>\n     </g>\n    </g>\n    <g id=\"xtick_160\">\n     <g id=\"line2d_160\">\n      <g>\n       <use style=\"stroke:#000000;stroke-width:0.8;\" x=\"1266.978125\" xlink:href=\"#mf462dd3182\" y=\"1094.4\"/>\n      </g>\n     </g>\n     <g id=\"text_160\">\n      <!-- 1959.0 -->\n      <g transform=\"translate(1269.7375 1136.390625)rotate(-90)scale(0.1 -0.1)\">\n       <use xlink:href=\"#DejaVuSans-31\"/>\n       <use x=\"63.623047\" xlink:href=\"#DejaVuSans-39\"/>\n       <use x=\"127.246094\" xlink:href=\"#DejaVuSans-35\"/>\n       <use x=\"190.869141\" xlink:href=\"#DejaVuSans-39\"/>\n       <use x=\"254.492188\" xlink:href=\"#DejaVuSans-2e\"/>\n       <use x=\"286.279297\" xlink:href=\"#DejaVuSans-30\"/>\n      </g>\n     </g>\n    </g>\n    <g id=\"xtick_161\">\n     <g id=\"line2d_161\">\n      <g>\n       <use style=\"stroke:#000000;stroke-width:0.8;\" x=\"1274.587216\" xlink:href=\"#mf462dd3182\" y=\"1094.4\"/>\n      </g>\n     </g>\n     <g id=\"text_161\">\n      <!-- 1960.0 -->\n      <g transform=\"translate(1277.346591 1136.390625)rotate(-90)scale(0.1 -0.1)\">\n       <use xlink:href=\"#DejaVuSans-31\"/>\n       <use x=\"63.623047\" xlink:href=\"#DejaVuSans-39\"/>\n       <use x=\"127.246094\" xlink:href=\"#DejaVuSans-36\"/>\n       <use x=\"190.869141\" xlink:href=\"#DejaVuSans-30\"/>\n       <use x=\"254.492188\" xlink:href=\"#DejaVuSans-2e\"/>\n       <use x=\"286.279297\" xlink:href=\"#DejaVuSans-30\"/>\n      </g>\n     </g>\n    </g>\n    <g id=\"xtick_162\">\n     <g id=\"line2d_162\">\n      <g>\n       <use style=\"stroke:#000000;stroke-width:0.8;\" x=\"1282.196307\" xlink:href=\"#mf462dd3182\" y=\"1094.4\"/>\n      </g>\n     </g>\n     <g id=\"text_162\">\n      <!-- 1961.0 -->\n      <g transform=\"translate(1284.955682 1136.390625)rotate(-90)scale(0.1 -0.1)\">\n       <use xlink:href=\"#DejaVuSans-31\"/>\n       <use x=\"63.623047\" xlink:href=\"#DejaVuSans-39\"/>\n       <use x=\"127.246094\" xlink:href=\"#DejaVuSans-36\"/>\n       <use x=\"190.869141\" xlink:href=\"#DejaVuSans-31\"/>\n       <use x=\"254.492188\" xlink:href=\"#DejaVuSans-2e\"/>\n       <use x=\"286.279297\" xlink:href=\"#DejaVuSans-30\"/>\n      </g>\n     </g>\n    </g>\n    <g id=\"xtick_163\">\n     <g id=\"line2d_163\">\n      <g>\n       <use style=\"stroke:#000000;stroke-width:0.8;\" x=\"1289.805398\" xlink:href=\"#mf462dd3182\" y=\"1094.4\"/>\n      </g>\n     </g>\n     <g id=\"text_163\">\n      <!-- 1962.0 -->\n      <g transform=\"translate(1292.564773 1136.390625)rotate(-90)scale(0.1 -0.1)\">\n       <use xlink:href=\"#DejaVuSans-31\"/>\n       <use x=\"63.623047\" xlink:href=\"#DejaVuSans-39\"/>\n       <use x=\"127.246094\" xlink:href=\"#DejaVuSans-36\"/>\n       <use x=\"190.869141\" xlink:href=\"#DejaVuSans-32\"/>\n       <use x=\"254.492188\" xlink:href=\"#DejaVuSans-2e\"/>\n       <use x=\"286.279297\" xlink:href=\"#DejaVuSans-30\"/>\n      </g>\n     </g>\n    </g>\n    <g id=\"xtick_164\">\n     <g id=\"line2d_164\">\n      <g>\n       <use style=\"stroke:#000000;stroke-width:0.8;\" x=\"1297.414489\" xlink:href=\"#mf462dd3182\" y=\"1094.4\"/>\n      </g>\n     </g>\n     <g id=\"text_164\">\n      <!-- 1963.0 -->\n      <g transform=\"translate(1300.173864 1136.390625)rotate(-90)scale(0.1 -0.1)\">\n       <use xlink:href=\"#DejaVuSans-31\"/>\n       <use x=\"63.623047\" xlink:href=\"#DejaVuSans-39\"/>\n       <use x=\"127.246094\" xlink:href=\"#DejaVuSans-36\"/>\n       <use x=\"190.869141\" xlink:href=\"#DejaVuSans-33\"/>\n       <use x=\"254.492188\" xlink:href=\"#DejaVuSans-2e\"/>\n       <use x=\"286.279297\" xlink:href=\"#DejaVuSans-30\"/>\n      </g>\n     </g>\n    </g>\n    <g id=\"xtick_165\">\n     <g id=\"line2d_165\">\n      <g>\n       <use style=\"stroke:#000000;stroke-width:0.8;\" x=\"1305.02358\" xlink:href=\"#mf462dd3182\" y=\"1094.4\"/>\n      </g>\n     </g>\n     <g id=\"text_165\">\n      <!-- 1964.0 -->\n      <g transform=\"translate(1307.782955 1136.390625)rotate(-90)scale(0.1 -0.1)\">\n       <use xlink:href=\"#DejaVuSans-31\"/>\n       <use x=\"63.623047\" xlink:href=\"#DejaVuSans-39\"/>\n       <use x=\"127.246094\" xlink:href=\"#DejaVuSans-36\"/>\n       <use x=\"190.869141\" xlink:href=\"#DejaVuSans-34\"/>\n       <use x=\"254.492188\" xlink:href=\"#DejaVuSans-2e\"/>\n       <use x=\"286.279297\" xlink:href=\"#DejaVuSans-30\"/>\n      </g>\n     </g>\n    </g>\n    <g id=\"xtick_166\">\n     <g id=\"line2d_166\">\n      <g>\n       <use style=\"stroke:#000000;stroke-width:0.8;\" x=\"1312.63267\" xlink:href=\"#mf462dd3182\" y=\"1094.4\"/>\n      </g>\n     </g>\n     <g id=\"text_166\">\n      <!-- 1965.0 -->\n      <g transform=\"translate(1315.392045 1136.390625)rotate(-90)scale(0.1 -0.1)\">\n       <use xlink:href=\"#DejaVuSans-31\"/>\n       <use x=\"63.623047\" xlink:href=\"#DejaVuSans-39\"/>\n       <use x=\"127.246094\" xlink:href=\"#DejaVuSans-36\"/>\n       <use x=\"190.869141\" xlink:href=\"#DejaVuSans-35\"/>\n       <use x=\"254.492188\" xlink:href=\"#DejaVuSans-2e\"/>\n       <use x=\"286.279297\" xlink:href=\"#DejaVuSans-30\"/>\n      </g>\n     </g>\n    </g>\n    <g id=\"xtick_167\">\n     <g id=\"line2d_167\">\n      <g>\n       <use style=\"stroke:#000000;stroke-width:0.8;\" x=\"1320.241761\" xlink:href=\"#mf462dd3182\" y=\"1094.4\"/>\n      </g>\n     </g>\n     <g id=\"text_167\">\n      <!-- 1966.0 -->\n      <g transform=\"translate(1323.001136 1136.390625)rotate(-90)scale(0.1 -0.1)\">\n       <use xlink:href=\"#DejaVuSans-31\"/>\n       <use x=\"63.623047\" xlink:href=\"#DejaVuSans-39\"/>\n       <use x=\"127.246094\" xlink:href=\"#DejaVuSans-36\"/>\n       <use x=\"190.869141\" xlink:href=\"#DejaVuSans-36\"/>\n       <use x=\"254.492188\" xlink:href=\"#DejaVuSans-2e\"/>\n       <use x=\"286.279297\" xlink:href=\"#DejaVuSans-30\"/>\n      </g>\n     </g>\n    </g>\n    <g id=\"xtick_168\">\n     <g id=\"line2d_168\">\n      <g>\n       <use style=\"stroke:#000000;stroke-width:0.8;\" x=\"1327.850852\" xlink:href=\"#mf462dd3182\" y=\"1094.4\"/>\n      </g>\n     </g>\n     <g id=\"text_168\">\n      <!-- 1967.0 -->\n      <g transform=\"translate(1330.610227 1136.390625)rotate(-90)scale(0.1 -0.1)\">\n       <use xlink:href=\"#DejaVuSans-31\"/>\n       <use x=\"63.623047\" xlink:href=\"#DejaVuSans-39\"/>\n       <use x=\"127.246094\" xlink:href=\"#DejaVuSans-36\"/>\n       <use x=\"190.869141\" xlink:href=\"#DejaVuSans-37\"/>\n       <use x=\"254.492188\" xlink:href=\"#DejaVuSans-2e\"/>\n       <use x=\"286.279297\" xlink:href=\"#DejaVuSans-30\"/>\n      </g>\n     </g>\n    </g>\n    <g id=\"xtick_169\">\n     <g id=\"line2d_169\">\n      <g>\n       <use style=\"stroke:#000000;stroke-width:0.8;\" x=\"1335.459943\" xlink:href=\"#mf462dd3182\" y=\"1094.4\"/>\n      </g>\n     </g>\n     <g id=\"text_169\">\n      <!-- 1968.0 -->\n      <g transform=\"translate(1338.219318 1136.390625)rotate(-90)scale(0.1 -0.1)\">\n       <use xlink:href=\"#DejaVuSans-31\"/>\n       <use x=\"63.623047\" xlink:href=\"#DejaVuSans-39\"/>\n       <use x=\"127.246094\" xlink:href=\"#DejaVuSans-36\"/>\n       <use x=\"190.869141\" xlink:href=\"#DejaVuSans-38\"/>\n       <use x=\"254.492188\" xlink:href=\"#DejaVuSans-2e\"/>\n       <use x=\"286.279297\" xlink:href=\"#DejaVuSans-30\"/>\n      </g>\n     </g>\n    </g>\n    <g id=\"xtick_170\">\n     <g id=\"line2d_170\">\n      <g>\n       <use style=\"stroke:#000000;stroke-width:0.8;\" x=\"1343.069034\" xlink:href=\"#mf462dd3182\" y=\"1094.4\"/>\n      </g>\n     </g>\n     <g id=\"text_170\">\n      <!-- 1969.0 -->\n      <g transform=\"translate(1345.828409 1136.390625)rotate(-90)scale(0.1 -0.1)\">\n       <use xlink:href=\"#DejaVuSans-31\"/>\n       <use x=\"63.623047\" xlink:href=\"#DejaVuSans-39\"/>\n       <use x=\"127.246094\" xlink:href=\"#DejaVuSans-36\"/>\n       <use x=\"190.869141\" xlink:href=\"#DejaVuSans-39\"/>\n       <use x=\"254.492188\" xlink:href=\"#DejaVuSans-2e\"/>\n       <use x=\"286.279297\" xlink:href=\"#DejaVuSans-30\"/>\n      </g>\n     </g>\n    </g>\n    <g id=\"xtick_171\">\n     <g id=\"line2d_171\">\n      <g>\n       <use style=\"stroke:#000000;stroke-width:0.8;\" x=\"1350.678125\" xlink:href=\"#mf462dd3182\" y=\"1094.4\"/>\n      </g>\n     </g>\n     <g id=\"text_171\">\n      <!-- 1970.0 -->\n      <g transform=\"translate(1353.4375 1136.390625)rotate(-90)scale(0.1 -0.1)\">\n       <use xlink:href=\"#DejaVuSans-31\"/>\n       <use x=\"63.623047\" xlink:href=\"#DejaVuSans-39\"/>\n       <use x=\"127.246094\" xlink:href=\"#DejaVuSans-37\"/>\n       <use x=\"190.869141\" xlink:href=\"#DejaVuSans-30\"/>\n       <use x=\"254.492188\" xlink:href=\"#DejaVuSans-2e\"/>\n       <use x=\"286.279297\" xlink:href=\"#DejaVuSans-30\"/>\n      </g>\n     </g>\n    </g>\n    <g id=\"xtick_172\">\n     <g id=\"line2d_172\">\n      <g>\n       <use style=\"stroke:#000000;stroke-width:0.8;\" x=\"1358.287216\" xlink:href=\"#mf462dd3182\" y=\"1094.4\"/>\n      </g>\n     </g>\n     <g id=\"text_172\">\n      <!-- 1971.0 -->\n      <g transform=\"translate(1361.046591 1136.390625)rotate(-90)scale(0.1 -0.1)\">\n       <use xlink:href=\"#DejaVuSans-31\"/>\n       <use x=\"63.623047\" xlink:href=\"#DejaVuSans-39\"/>\n       <use x=\"127.246094\" xlink:href=\"#DejaVuSans-37\"/>\n       <use x=\"190.869141\" xlink:href=\"#DejaVuSans-31\"/>\n       <use x=\"254.492188\" xlink:href=\"#DejaVuSans-2e\"/>\n       <use x=\"286.279297\" xlink:href=\"#DejaVuSans-30\"/>\n      </g>\n     </g>\n    </g>\n    <g id=\"xtick_173\">\n     <g id=\"line2d_173\">\n      <g>\n       <use style=\"stroke:#000000;stroke-width:0.8;\" x=\"1365.896307\" xlink:href=\"#mf462dd3182\" y=\"1094.4\"/>\n      </g>\n     </g>\n     <g id=\"text_173\">\n      <!-- 1972.0 -->\n      <g transform=\"translate(1368.655682 1136.390625)rotate(-90)scale(0.1 -0.1)\">\n       <use xlink:href=\"#DejaVuSans-31\"/>\n       <use x=\"63.623047\" xlink:href=\"#DejaVuSans-39\"/>\n       <use x=\"127.246094\" xlink:href=\"#DejaVuSans-37\"/>\n       <use x=\"190.869141\" xlink:href=\"#DejaVuSans-32\"/>\n       <use x=\"254.492188\" xlink:href=\"#DejaVuSans-2e\"/>\n       <use x=\"286.279297\" xlink:href=\"#DejaVuSans-30\"/>\n      </g>\n     </g>\n    </g>\n    <g id=\"xtick_174\">\n     <g id=\"line2d_174\">\n      <g>\n       <use style=\"stroke:#000000;stroke-width:0.8;\" x=\"1373.505398\" xlink:href=\"#mf462dd3182\" y=\"1094.4\"/>\n      </g>\n     </g>\n     <g id=\"text_174\">\n      <!-- 1973.0 -->\n      <g transform=\"translate(1376.264773 1136.390625)rotate(-90)scale(0.1 -0.1)\">\n       <use xlink:href=\"#DejaVuSans-31\"/>\n       <use x=\"63.623047\" xlink:href=\"#DejaVuSans-39\"/>\n       <use x=\"127.246094\" xlink:href=\"#DejaVuSans-37\"/>\n       <use x=\"190.869141\" xlink:href=\"#DejaVuSans-33\"/>\n       <use x=\"254.492188\" xlink:href=\"#DejaVuSans-2e\"/>\n       <use x=\"286.279297\" xlink:href=\"#DejaVuSans-30\"/>\n      </g>\n     </g>\n    </g>\n    <g id=\"xtick_175\">\n     <g id=\"line2d_175\">\n      <g>\n       <use style=\"stroke:#000000;stroke-width:0.8;\" x=\"1381.114489\" xlink:href=\"#mf462dd3182\" y=\"1094.4\"/>\n      </g>\n     </g>\n     <g id=\"text_175\">\n      <!-- 1974.0 -->\n      <g transform=\"translate(1383.873864 1136.390625)rotate(-90)scale(0.1 -0.1)\">\n       <use xlink:href=\"#DejaVuSans-31\"/>\n       <use x=\"63.623047\" xlink:href=\"#DejaVuSans-39\"/>\n       <use x=\"127.246094\" xlink:href=\"#DejaVuSans-37\"/>\n       <use x=\"190.869141\" xlink:href=\"#DejaVuSans-34\"/>\n       <use x=\"254.492188\" xlink:href=\"#DejaVuSans-2e\"/>\n       <use x=\"286.279297\" xlink:href=\"#DejaVuSans-30\"/>\n      </g>\n     </g>\n    </g>\n    <g id=\"xtick_176\">\n     <g id=\"line2d_176\">\n      <g>\n       <use style=\"stroke:#000000;stroke-width:0.8;\" x=\"1388.72358\" xlink:href=\"#mf462dd3182\" y=\"1094.4\"/>\n      </g>\n     </g>\n     <g id=\"text_176\">\n      <!-- 1975.0 -->\n      <g transform=\"translate(1391.482955 1136.390625)rotate(-90)scale(0.1 -0.1)\">\n       <use xlink:href=\"#DejaVuSans-31\"/>\n       <use x=\"63.623047\" xlink:href=\"#DejaVuSans-39\"/>\n       <use x=\"127.246094\" xlink:href=\"#DejaVuSans-37\"/>\n       <use x=\"190.869141\" xlink:href=\"#DejaVuSans-35\"/>\n       <use x=\"254.492188\" xlink:href=\"#DejaVuSans-2e\"/>\n       <use x=\"286.279297\" xlink:href=\"#DejaVuSans-30\"/>\n      </g>\n     </g>\n    </g>\n    <g id=\"xtick_177\">\n     <g id=\"line2d_177\">\n      <g>\n       <use style=\"stroke:#000000;stroke-width:0.8;\" x=\"1396.33267\" xlink:href=\"#mf462dd3182\" y=\"1094.4\"/>\n      </g>\n     </g>\n     <g id=\"text_177\">\n      <!-- 1976.0 -->\n      <g transform=\"translate(1399.092045 1136.390625)rotate(-90)scale(0.1 -0.1)\">\n       <use xlink:href=\"#DejaVuSans-31\"/>\n       <use x=\"63.623047\" xlink:href=\"#DejaVuSans-39\"/>\n       <use x=\"127.246094\" xlink:href=\"#DejaVuSans-37\"/>\n       <use x=\"190.869141\" xlink:href=\"#DejaVuSans-36\"/>\n       <use x=\"254.492188\" xlink:href=\"#DejaVuSans-2e\"/>\n       <use x=\"286.279297\" xlink:href=\"#DejaVuSans-30\"/>\n      </g>\n     </g>\n    </g>\n    <g id=\"xtick_178\">\n     <g id=\"line2d_178\">\n      <g>\n       <use style=\"stroke:#000000;stroke-width:0.8;\" x=\"1403.941761\" xlink:href=\"#mf462dd3182\" y=\"1094.4\"/>\n      </g>\n     </g>\n     <g id=\"text_178\">\n      <!-- 1977.0 -->\n      <g transform=\"translate(1406.701136 1136.390625)rotate(-90)scale(0.1 -0.1)\">\n       <use xlink:href=\"#DejaVuSans-31\"/>\n       <use x=\"63.623047\" xlink:href=\"#DejaVuSans-39\"/>\n       <use x=\"127.246094\" xlink:href=\"#DejaVuSans-37\"/>\n       <use x=\"190.869141\" xlink:href=\"#DejaVuSans-37\"/>\n       <use x=\"254.492188\" xlink:href=\"#DejaVuSans-2e\"/>\n       <use x=\"286.279297\" xlink:href=\"#DejaVuSans-30\"/>\n      </g>\n     </g>\n    </g>\n    <g id=\"xtick_179\">\n     <g id=\"line2d_179\">\n      <g>\n       <use style=\"stroke:#000000;stroke-width:0.8;\" x=\"1411.550852\" xlink:href=\"#mf462dd3182\" y=\"1094.4\"/>\n      </g>\n     </g>\n     <g id=\"text_179\">\n      <!-- 1978.0 -->\n      <g transform=\"translate(1414.310227 1136.390625)rotate(-90)scale(0.1 -0.1)\">\n       <use xlink:href=\"#DejaVuSans-31\"/>\n       <use x=\"63.623047\" xlink:href=\"#DejaVuSans-39\"/>\n       <use x=\"127.246094\" xlink:href=\"#DejaVuSans-37\"/>\n       <use x=\"190.869141\" xlink:href=\"#DejaVuSans-38\"/>\n       <use x=\"254.492188\" xlink:href=\"#DejaVuSans-2e\"/>\n       <use x=\"286.279297\" xlink:href=\"#DejaVuSans-30\"/>\n      </g>\n     </g>\n    </g>\n    <g id=\"xtick_180\">\n     <g id=\"line2d_180\">\n      <g>\n       <use style=\"stroke:#000000;stroke-width:0.8;\" x=\"1419.159943\" xlink:href=\"#mf462dd3182\" y=\"1094.4\"/>\n      </g>\n     </g>\n     <g id=\"text_180\">\n      <!-- 1979.0 -->\n      <g transform=\"translate(1421.919318 1136.390625)rotate(-90)scale(0.1 -0.1)\">\n       <use xlink:href=\"#DejaVuSans-31\"/>\n       <use x=\"63.623047\" xlink:href=\"#DejaVuSans-39\"/>\n       <use x=\"127.246094\" xlink:href=\"#DejaVuSans-37\"/>\n       <use x=\"190.869141\" xlink:href=\"#DejaVuSans-39\"/>\n       <use x=\"254.492188\" xlink:href=\"#DejaVuSans-2e\"/>\n       <use x=\"286.279297\" xlink:href=\"#DejaVuSans-30\"/>\n      </g>\n     </g>\n    </g>\n    <g id=\"xtick_181\">\n     <g id=\"line2d_181\">\n      <g>\n       <use style=\"stroke:#000000;stroke-width:0.8;\" x=\"1426.769034\" xlink:href=\"#mf462dd3182\" y=\"1094.4\"/>\n      </g>\n     </g>\n     <g id=\"text_181\">\n      <!-- 1980.0 -->\n      <g transform=\"translate(1429.528409 1136.390625)rotate(-90)scale(0.1 -0.1)\">\n       <use xlink:href=\"#DejaVuSans-31\"/>\n       <use x=\"63.623047\" xlink:href=\"#DejaVuSans-39\"/>\n       <use x=\"127.246094\" xlink:href=\"#DejaVuSans-38\"/>\n       <use x=\"190.869141\" xlink:href=\"#DejaVuSans-30\"/>\n       <use x=\"254.492188\" xlink:href=\"#DejaVuSans-2e\"/>\n       <use x=\"286.279297\" xlink:href=\"#DejaVuSans-30\"/>\n      </g>\n     </g>\n    </g>\n    <g id=\"xtick_182\">\n     <g id=\"line2d_182\">\n      <g>\n       <use style=\"stroke:#000000;stroke-width:0.8;\" x=\"1434.378125\" xlink:href=\"#mf462dd3182\" y=\"1094.4\"/>\n      </g>\n     </g>\n     <g id=\"text_182\">\n      <!-- 1981.0 -->\n      <g transform=\"translate(1437.1375 1136.390625)rotate(-90)scale(0.1 -0.1)\">\n       <use xlink:href=\"#DejaVuSans-31\"/>\n       <use x=\"63.623047\" xlink:href=\"#DejaVuSans-39\"/>\n       <use x=\"127.246094\" xlink:href=\"#DejaVuSans-38\"/>\n       <use x=\"190.869141\" xlink:href=\"#DejaVuSans-31\"/>\n       <use x=\"254.492188\" xlink:href=\"#DejaVuSans-2e\"/>\n       <use x=\"286.279297\" xlink:href=\"#DejaVuSans-30\"/>\n      </g>\n     </g>\n    </g>\n    <g id=\"xtick_183\">\n     <g id=\"line2d_183\">\n      <g>\n       <use style=\"stroke:#000000;stroke-width:0.8;\" x=\"1441.987216\" xlink:href=\"#mf462dd3182\" y=\"1094.4\"/>\n      </g>\n     </g>\n     <g id=\"text_183\">\n      <!-- 1982.0 -->\n      <g transform=\"translate(1444.746591 1136.390625)rotate(-90)scale(0.1 -0.1)\">\n       <use xlink:href=\"#DejaVuSans-31\"/>\n       <use x=\"63.623047\" xlink:href=\"#DejaVuSans-39\"/>\n       <use x=\"127.246094\" xlink:href=\"#DejaVuSans-38\"/>\n       <use x=\"190.869141\" xlink:href=\"#DejaVuSans-32\"/>\n       <use x=\"254.492188\" xlink:href=\"#DejaVuSans-2e\"/>\n       <use x=\"286.279297\" xlink:href=\"#DejaVuSans-30\"/>\n      </g>\n     </g>\n    </g>\n    <g id=\"xtick_184\">\n     <g id=\"line2d_184\">\n      <g>\n       <use style=\"stroke:#000000;stroke-width:0.8;\" x=\"1449.596307\" xlink:href=\"#mf462dd3182\" y=\"1094.4\"/>\n      </g>\n     </g>\n     <g id=\"text_184\">\n      <!-- 1983.0 -->\n      <g transform=\"translate(1452.355682 1136.390625)rotate(-90)scale(0.1 -0.1)\">\n       <use xlink:href=\"#DejaVuSans-31\"/>\n       <use x=\"63.623047\" xlink:href=\"#DejaVuSans-39\"/>\n       <use x=\"127.246094\" xlink:href=\"#DejaVuSans-38\"/>\n       <use x=\"190.869141\" xlink:href=\"#DejaVuSans-33\"/>\n       <use x=\"254.492188\" xlink:href=\"#DejaVuSans-2e\"/>\n       <use x=\"286.279297\" xlink:href=\"#DejaVuSans-30\"/>\n      </g>\n     </g>\n    </g>\n    <g id=\"xtick_185\">\n     <g id=\"line2d_185\">\n      <g>\n       <use style=\"stroke:#000000;stroke-width:0.8;\" x=\"1457.205398\" xlink:href=\"#mf462dd3182\" y=\"1094.4\"/>\n      </g>\n     </g>\n     <g id=\"text_185\">\n      <!-- 1984.0 -->\n      <g transform=\"translate(1459.964773 1136.390625)rotate(-90)scale(0.1 -0.1)\">\n       <use xlink:href=\"#DejaVuSans-31\"/>\n       <use x=\"63.623047\" xlink:href=\"#DejaVuSans-39\"/>\n       <use x=\"127.246094\" xlink:href=\"#DejaVuSans-38\"/>\n       <use x=\"190.869141\" xlink:href=\"#DejaVuSans-34\"/>\n       <use x=\"254.492188\" xlink:href=\"#DejaVuSans-2e\"/>\n       <use x=\"286.279297\" xlink:href=\"#DejaVuSans-30\"/>\n      </g>\n     </g>\n    </g>\n    <g id=\"xtick_186\">\n     <g id=\"line2d_186\">\n      <g>\n       <use style=\"stroke:#000000;stroke-width:0.8;\" x=\"1464.814489\" xlink:href=\"#mf462dd3182\" y=\"1094.4\"/>\n      </g>\n     </g>\n     <g id=\"text_186\">\n      <!-- 1985.0 -->\n      <g transform=\"translate(1467.573864 1136.390625)rotate(-90)scale(0.1 -0.1)\">\n       <use xlink:href=\"#DejaVuSans-31\"/>\n       <use x=\"63.623047\" xlink:href=\"#DejaVuSans-39\"/>\n       <use x=\"127.246094\" xlink:href=\"#DejaVuSans-38\"/>\n       <use x=\"190.869141\" xlink:href=\"#DejaVuSans-35\"/>\n       <use x=\"254.492188\" xlink:href=\"#DejaVuSans-2e\"/>\n       <use x=\"286.279297\" xlink:href=\"#DejaVuSans-30\"/>\n      </g>\n     </g>\n    </g>\n    <g id=\"xtick_187\">\n     <g id=\"line2d_187\">\n      <g>\n       <use style=\"stroke:#000000;stroke-width:0.8;\" x=\"1472.42358\" xlink:href=\"#mf462dd3182\" y=\"1094.4\"/>\n      </g>\n     </g>\n     <g id=\"text_187\">\n      <!-- 1986.0 -->\n      <g transform=\"translate(1475.182955 1136.390625)rotate(-90)scale(0.1 -0.1)\">\n       <use xlink:href=\"#DejaVuSans-31\"/>\n       <use x=\"63.623047\" xlink:href=\"#DejaVuSans-39\"/>\n       <use x=\"127.246094\" xlink:href=\"#DejaVuSans-38\"/>\n       <use x=\"190.869141\" xlink:href=\"#DejaVuSans-36\"/>\n       <use x=\"254.492188\" xlink:href=\"#DejaVuSans-2e\"/>\n       <use x=\"286.279297\" xlink:href=\"#DejaVuSans-30\"/>\n      </g>\n     </g>\n    </g>\n    <g id=\"xtick_188\">\n     <g id=\"line2d_188\">\n      <g>\n       <use style=\"stroke:#000000;stroke-width:0.8;\" x=\"1480.03267\" xlink:href=\"#mf462dd3182\" y=\"1094.4\"/>\n      </g>\n     </g>\n     <g id=\"text_188\">\n      <!-- 1987.0 -->\n      <g transform=\"translate(1482.792045 1136.390625)rotate(-90)scale(0.1 -0.1)\">\n       <use xlink:href=\"#DejaVuSans-31\"/>\n       <use x=\"63.623047\" xlink:href=\"#DejaVuSans-39\"/>\n       <use x=\"127.246094\" xlink:href=\"#DejaVuSans-38\"/>\n       <use x=\"190.869141\" xlink:href=\"#DejaVuSans-37\"/>\n       <use x=\"254.492188\" xlink:href=\"#DejaVuSans-2e\"/>\n       <use x=\"286.279297\" xlink:href=\"#DejaVuSans-30\"/>\n      </g>\n     </g>\n    </g>\n    <g id=\"xtick_189\">\n     <g id=\"line2d_189\">\n      <g>\n       <use style=\"stroke:#000000;stroke-width:0.8;\" x=\"1487.641761\" xlink:href=\"#mf462dd3182\" y=\"1094.4\"/>\n      </g>\n     </g>\n     <g id=\"text_189\">\n      <!-- 1988.0 -->\n      <g transform=\"translate(1490.401136 1136.390625)rotate(-90)scale(0.1 -0.1)\">\n       <use xlink:href=\"#DejaVuSans-31\"/>\n       <use x=\"63.623047\" xlink:href=\"#DejaVuSans-39\"/>\n       <use x=\"127.246094\" xlink:href=\"#DejaVuSans-38\"/>\n       <use x=\"190.869141\" xlink:href=\"#DejaVuSans-38\"/>\n       <use x=\"254.492188\" xlink:href=\"#DejaVuSans-2e\"/>\n       <use x=\"286.279297\" xlink:href=\"#DejaVuSans-30\"/>\n      </g>\n     </g>\n    </g>\n    <g id=\"xtick_190\">\n     <g id=\"line2d_190\">\n      <g>\n       <use style=\"stroke:#000000;stroke-width:0.8;\" x=\"1495.250852\" xlink:href=\"#mf462dd3182\" y=\"1094.4\"/>\n      </g>\n     </g>\n     <g id=\"text_190\">\n      <!-- 1989.0 -->\n      <g transform=\"translate(1498.010227 1136.390625)rotate(-90)scale(0.1 -0.1)\">\n       <use xlink:href=\"#DejaVuSans-31\"/>\n       <use x=\"63.623047\" xlink:href=\"#DejaVuSans-39\"/>\n       <use x=\"127.246094\" xlink:href=\"#DejaVuSans-38\"/>\n       <use x=\"190.869141\" xlink:href=\"#DejaVuSans-39\"/>\n       <use x=\"254.492188\" xlink:href=\"#DejaVuSans-2e\"/>\n       <use x=\"286.279297\" xlink:href=\"#DejaVuSans-30\"/>\n      </g>\n     </g>\n    </g>\n    <g id=\"xtick_191\">\n     <g id=\"line2d_191\">\n      <g>\n       <use style=\"stroke:#000000;stroke-width:0.8;\" x=\"1502.859943\" xlink:href=\"#mf462dd3182\" y=\"1094.4\"/>\n      </g>\n     </g>\n     <g id=\"text_191\">\n      <!-- 1990.0 -->\n      <g transform=\"translate(1505.619318 1136.390625)rotate(-90)scale(0.1 -0.1)\">\n       <use xlink:href=\"#DejaVuSans-31\"/>\n       <use x=\"63.623047\" xlink:href=\"#DejaVuSans-39\"/>\n       <use x=\"127.246094\" xlink:href=\"#DejaVuSans-39\"/>\n       <use x=\"190.869141\" xlink:href=\"#DejaVuSans-30\"/>\n       <use x=\"254.492188\" xlink:href=\"#DejaVuSans-2e\"/>\n       <use x=\"286.279297\" xlink:href=\"#DejaVuSans-30\"/>\n      </g>\n     </g>\n    </g>\n    <g id=\"xtick_192\">\n     <g id=\"line2d_192\">\n      <g>\n       <use style=\"stroke:#000000;stroke-width:0.8;\" x=\"1510.469034\" xlink:href=\"#mf462dd3182\" y=\"1094.4\"/>\n      </g>\n     </g>\n     <g id=\"text_192\">\n      <!-- 1991.0 -->\n      <g transform=\"translate(1513.228409 1136.390625)rotate(-90)scale(0.1 -0.1)\">\n       <use xlink:href=\"#DejaVuSans-31\"/>\n       <use x=\"63.623047\" xlink:href=\"#DejaVuSans-39\"/>\n       <use x=\"127.246094\" xlink:href=\"#DejaVuSans-39\"/>\n       <use x=\"190.869141\" xlink:href=\"#DejaVuSans-31\"/>\n       <use x=\"254.492188\" xlink:href=\"#DejaVuSans-2e\"/>\n       <use x=\"286.279297\" xlink:href=\"#DejaVuSans-30\"/>\n      </g>\n     </g>\n    </g>\n    <g id=\"xtick_193\">\n     <g id=\"line2d_193\">\n      <g>\n       <use style=\"stroke:#000000;stroke-width:0.8;\" x=\"1518.078125\" xlink:href=\"#mf462dd3182\" y=\"1094.4\"/>\n      </g>\n     </g>\n     <g id=\"text_193\">\n      <!-- 1992.0 -->\n      <g transform=\"translate(1520.8375 1136.390625)rotate(-90)scale(0.1 -0.1)\">\n       <use xlink:href=\"#DejaVuSans-31\"/>\n       <use x=\"63.623047\" xlink:href=\"#DejaVuSans-39\"/>\n       <use x=\"127.246094\" xlink:href=\"#DejaVuSans-39\"/>\n       <use x=\"190.869141\" xlink:href=\"#DejaVuSans-32\"/>\n       <use x=\"254.492188\" xlink:href=\"#DejaVuSans-2e\"/>\n       <use x=\"286.279297\" xlink:href=\"#DejaVuSans-30\"/>\n      </g>\n     </g>\n    </g>\n    <g id=\"xtick_194\">\n     <g id=\"line2d_194\">\n      <g>\n       <use style=\"stroke:#000000;stroke-width:0.8;\" x=\"1525.687216\" xlink:href=\"#mf462dd3182\" y=\"1094.4\"/>\n      </g>\n     </g>\n     <g id=\"text_194\">\n      <!-- 1993.0 -->\n      <g transform=\"translate(1528.446591 1136.390625)rotate(-90)scale(0.1 -0.1)\">\n       <use xlink:href=\"#DejaVuSans-31\"/>\n       <use x=\"63.623047\" xlink:href=\"#DejaVuSans-39\"/>\n       <use x=\"127.246094\" xlink:href=\"#DejaVuSans-39\"/>\n       <use x=\"190.869141\" xlink:href=\"#DejaVuSans-33\"/>\n       <use x=\"254.492188\" xlink:href=\"#DejaVuSans-2e\"/>\n       <use x=\"286.279297\" xlink:href=\"#DejaVuSans-30\"/>\n      </g>\n     </g>\n    </g>\n    <g id=\"xtick_195\">\n     <g id=\"line2d_195\">\n      <g>\n       <use style=\"stroke:#000000;stroke-width:0.8;\" x=\"1533.296307\" xlink:href=\"#mf462dd3182\" y=\"1094.4\"/>\n      </g>\n     </g>\n     <g id=\"text_195\">\n      <!-- 1994.0 -->\n      <g transform=\"translate(1536.055682 1136.390625)rotate(-90)scale(0.1 -0.1)\">\n       <use xlink:href=\"#DejaVuSans-31\"/>\n       <use x=\"63.623047\" xlink:href=\"#DejaVuSans-39\"/>\n       <use x=\"127.246094\" xlink:href=\"#DejaVuSans-39\"/>\n       <use x=\"190.869141\" xlink:href=\"#DejaVuSans-34\"/>\n       <use x=\"254.492188\" xlink:href=\"#DejaVuSans-2e\"/>\n       <use x=\"286.279297\" xlink:href=\"#DejaVuSans-30\"/>\n      </g>\n     </g>\n    </g>\n    <g id=\"xtick_196\">\n     <g id=\"line2d_196\">\n      <g>\n       <use style=\"stroke:#000000;stroke-width:0.8;\" x=\"1540.905398\" xlink:href=\"#mf462dd3182\" y=\"1094.4\"/>\n      </g>\n     </g>\n     <g id=\"text_196\">\n      <!-- 1995.0 -->\n      <g transform=\"translate(1543.664773 1136.390625)rotate(-90)scale(0.1 -0.1)\">\n       <use xlink:href=\"#DejaVuSans-31\"/>\n       <use x=\"63.623047\" xlink:href=\"#DejaVuSans-39\"/>\n       <use x=\"127.246094\" xlink:href=\"#DejaVuSans-39\"/>\n       <use x=\"190.869141\" xlink:href=\"#DejaVuSans-35\"/>\n       <use x=\"254.492188\" xlink:href=\"#DejaVuSans-2e\"/>\n       <use x=\"286.279297\" xlink:href=\"#DejaVuSans-30\"/>\n      </g>\n     </g>\n    </g>\n    <g id=\"xtick_197\">\n     <g id=\"line2d_197\">\n      <g>\n       <use style=\"stroke:#000000;stroke-width:0.8;\" x=\"1548.514489\" xlink:href=\"#mf462dd3182\" y=\"1094.4\"/>\n      </g>\n     </g>\n     <g id=\"text_197\">\n      <!-- 1996.0 -->\n      <g transform=\"translate(1551.273864 1136.390625)rotate(-90)scale(0.1 -0.1)\">\n       <use xlink:href=\"#DejaVuSans-31\"/>\n       <use x=\"63.623047\" xlink:href=\"#DejaVuSans-39\"/>\n       <use x=\"127.246094\" xlink:href=\"#DejaVuSans-39\"/>\n       <use x=\"190.869141\" xlink:href=\"#DejaVuSans-36\"/>\n       <use x=\"254.492188\" xlink:href=\"#DejaVuSans-2e\"/>\n       <use x=\"286.279297\" xlink:href=\"#DejaVuSans-30\"/>\n      </g>\n     </g>\n    </g>\n    <g id=\"xtick_198\">\n     <g id=\"line2d_198\">\n      <g>\n       <use style=\"stroke:#000000;stroke-width:0.8;\" x=\"1556.12358\" xlink:href=\"#mf462dd3182\" y=\"1094.4\"/>\n      </g>\n     </g>\n     <g id=\"text_198\">\n      <!-- 1997.0 -->\n      <g transform=\"translate(1558.882955 1136.390625)rotate(-90)scale(0.1 -0.1)\">\n       <use xlink:href=\"#DejaVuSans-31\"/>\n       <use x=\"63.623047\" xlink:href=\"#DejaVuSans-39\"/>\n       <use x=\"127.246094\" xlink:href=\"#DejaVuSans-39\"/>\n       <use x=\"190.869141\" xlink:href=\"#DejaVuSans-37\"/>\n       <use x=\"254.492188\" xlink:href=\"#DejaVuSans-2e\"/>\n       <use x=\"286.279297\" xlink:href=\"#DejaVuSans-30\"/>\n      </g>\n     </g>\n    </g>\n    <g id=\"xtick_199\">\n     <g id=\"line2d_199\">\n      <g>\n       <use style=\"stroke:#000000;stroke-width:0.8;\" x=\"1563.73267\" xlink:href=\"#mf462dd3182\" y=\"1094.4\"/>\n      </g>\n     </g>\n     <g id=\"text_199\">\n      <!-- 1998.0 -->\n      <g transform=\"translate(1566.492045 1136.390625)rotate(-90)scale(0.1 -0.1)\">\n       <use xlink:href=\"#DejaVuSans-31\"/>\n       <use x=\"63.623047\" xlink:href=\"#DejaVuSans-39\"/>\n       <use x=\"127.246094\" xlink:href=\"#DejaVuSans-39\"/>\n       <use x=\"190.869141\" xlink:href=\"#DejaVuSans-38\"/>\n       <use x=\"254.492188\" xlink:href=\"#DejaVuSans-2e\"/>\n       <use x=\"286.279297\" xlink:href=\"#DejaVuSans-30\"/>\n      </g>\n     </g>\n    </g>\n    <g id=\"xtick_200\">\n     <g id=\"line2d_200\">\n      <g>\n       <use style=\"stroke:#000000;stroke-width:0.8;\" x=\"1571.341761\" xlink:href=\"#mf462dd3182\" y=\"1094.4\"/>\n      </g>\n     </g>\n     <g id=\"text_200\">\n      <!-- 1999.0 -->\n      <g transform=\"translate(1574.101136 1136.390625)rotate(-90)scale(0.1 -0.1)\">\n       <use xlink:href=\"#DejaVuSans-31\"/>\n       <use x=\"63.623047\" xlink:href=\"#DejaVuSans-39\"/>\n       <use x=\"127.246094\" xlink:href=\"#DejaVuSans-39\"/>\n       <use x=\"190.869141\" xlink:href=\"#DejaVuSans-39\"/>\n       <use x=\"254.492188\" xlink:href=\"#DejaVuSans-2e\"/>\n       <use x=\"286.279297\" xlink:href=\"#DejaVuSans-30\"/>\n      </g>\n     </g>\n    </g>\n    <g id=\"xtick_201\">\n     <g id=\"line2d_201\">\n      <g>\n       <use style=\"stroke:#000000;stroke-width:0.8;\" x=\"1578.950852\" xlink:href=\"#mf462dd3182\" y=\"1094.4\"/>\n      </g>\n     </g>\n     <g id=\"text_201\">\n      <!-- 2000.0 -->\n      <g transform=\"translate(1581.710227 1136.390625)rotate(-90)scale(0.1 -0.1)\">\n       <use xlink:href=\"#DejaVuSans-32\"/>\n       <use x=\"63.623047\" xlink:href=\"#DejaVuSans-30\"/>\n       <use x=\"127.246094\" xlink:href=\"#DejaVuSans-30\"/>\n       <use x=\"190.869141\" xlink:href=\"#DejaVuSans-30\"/>\n       <use x=\"254.492188\" xlink:href=\"#DejaVuSans-2e\"/>\n       <use x=\"286.279297\" xlink:href=\"#DejaVuSans-30\"/>\n      </g>\n     </g>\n    </g>\n    <g id=\"xtick_202\">\n     <g id=\"line2d_202\">\n      <g>\n       <use style=\"stroke:#000000;stroke-width:0.8;\" x=\"1586.559943\" xlink:href=\"#mf462dd3182\" y=\"1094.4\"/>\n      </g>\n     </g>\n     <g id=\"text_202\">\n      <!-- 2001.0 -->\n      <g transform=\"translate(1589.319318 1136.390625)rotate(-90)scale(0.1 -0.1)\">\n       <use xlink:href=\"#DejaVuSans-32\"/>\n       <use x=\"63.623047\" xlink:href=\"#DejaVuSans-30\"/>\n       <use x=\"127.246094\" xlink:href=\"#DejaVuSans-30\"/>\n       <use x=\"190.869141\" xlink:href=\"#DejaVuSans-31\"/>\n       <use x=\"254.492188\" xlink:href=\"#DejaVuSans-2e\"/>\n       <use x=\"286.279297\" xlink:href=\"#DejaVuSans-30\"/>\n      </g>\n     </g>\n    </g>\n    <g id=\"xtick_203\">\n     <g id=\"line2d_203\">\n      <g>\n       <use style=\"stroke:#000000;stroke-width:0.8;\" x=\"1594.169034\" xlink:href=\"#mf462dd3182\" y=\"1094.4\"/>\n      </g>\n     </g>\n     <g id=\"text_203\">\n      <!-- 2002.0 -->\n      <g transform=\"translate(1596.928409 1136.390625)rotate(-90)scale(0.1 -0.1)\">\n       <use xlink:href=\"#DejaVuSans-32\"/>\n       <use x=\"63.623047\" xlink:href=\"#DejaVuSans-30\"/>\n       <use x=\"127.246094\" xlink:href=\"#DejaVuSans-30\"/>\n       <use x=\"190.869141\" xlink:href=\"#DejaVuSans-32\"/>\n       <use x=\"254.492188\" xlink:href=\"#DejaVuSans-2e\"/>\n       <use x=\"286.279297\" xlink:href=\"#DejaVuSans-30\"/>\n      </g>\n     </g>\n    </g>\n    <g id=\"xtick_204\">\n     <g id=\"line2d_204\">\n      <g>\n       <use style=\"stroke:#000000;stroke-width:0.8;\" x=\"1601.778125\" xlink:href=\"#mf462dd3182\" y=\"1094.4\"/>\n      </g>\n     </g>\n     <g id=\"text_204\">\n      <!-- 2003.0 -->\n      <g transform=\"translate(1604.5375 1136.390625)rotate(-90)scale(0.1 -0.1)\">\n       <use xlink:href=\"#DejaVuSans-32\"/>\n       <use x=\"63.623047\" xlink:href=\"#DejaVuSans-30\"/>\n       <use x=\"127.246094\" xlink:href=\"#DejaVuSans-30\"/>\n       <use x=\"190.869141\" xlink:href=\"#DejaVuSans-33\"/>\n       <use x=\"254.492188\" xlink:href=\"#DejaVuSans-2e\"/>\n       <use x=\"286.279297\" xlink:href=\"#DejaVuSans-30\"/>\n      </g>\n     </g>\n    </g>\n    <g id=\"xtick_205\">\n     <g id=\"line2d_205\">\n      <g>\n       <use style=\"stroke:#000000;stroke-width:0.8;\" x=\"1609.387216\" xlink:href=\"#mf462dd3182\" y=\"1094.4\"/>\n      </g>\n     </g>\n     <g id=\"text_205\">\n      <!-- 2004.0 -->\n      <g transform=\"translate(1612.146591 1136.390625)rotate(-90)scale(0.1 -0.1)\">\n       <use xlink:href=\"#DejaVuSans-32\"/>\n       <use x=\"63.623047\" xlink:href=\"#DejaVuSans-30\"/>\n       <use x=\"127.246094\" xlink:href=\"#DejaVuSans-30\"/>\n       <use x=\"190.869141\" xlink:href=\"#DejaVuSans-34\"/>\n       <use x=\"254.492188\" xlink:href=\"#DejaVuSans-2e\"/>\n       <use x=\"286.279297\" xlink:href=\"#DejaVuSans-30\"/>\n      </g>\n     </g>\n    </g>\n    <g id=\"xtick_206\">\n     <g id=\"line2d_206\">\n      <g>\n       <use style=\"stroke:#000000;stroke-width:0.8;\" x=\"1616.996307\" xlink:href=\"#mf462dd3182\" y=\"1094.4\"/>\n      </g>\n     </g>\n     <g id=\"text_206\">\n      <!-- 2005.0 -->\n      <g transform=\"translate(1619.755682 1136.390625)rotate(-90)scale(0.1 -0.1)\">\n       <use xlink:href=\"#DejaVuSans-32\"/>\n       <use x=\"63.623047\" xlink:href=\"#DejaVuSans-30\"/>\n       <use x=\"127.246094\" xlink:href=\"#DejaVuSans-30\"/>\n       <use x=\"190.869141\" xlink:href=\"#DejaVuSans-35\"/>\n       <use x=\"254.492188\" xlink:href=\"#DejaVuSans-2e\"/>\n       <use x=\"286.279297\" xlink:href=\"#DejaVuSans-30\"/>\n      </g>\n     </g>\n    </g>\n    <g id=\"xtick_207\">\n     <g id=\"line2d_207\">\n      <g>\n       <use style=\"stroke:#000000;stroke-width:0.8;\" x=\"1624.605398\" xlink:href=\"#mf462dd3182\" y=\"1094.4\"/>\n      </g>\n     </g>\n     <g id=\"text_207\">\n      <!-- 2006.0 -->\n      <g transform=\"translate(1627.364773 1136.390625)rotate(-90)scale(0.1 -0.1)\">\n       <use xlink:href=\"#DejaVuSans-32\"/>\n       <use x=\"63.623047\" xlink:href=\"#DejaVuSans-30\"/>\n       <use x=\"127.246094\" xlink:href=\"#DejaVuSans-30\"/>\n       <use x=\"190.869141\" xlink:href=\"#DejaVuSans-36\"/>\n       <use x=\"254.492188\" xlink:href=\"#DejaVuSans-2e\"/>\n       <use x=\"286.279297\" xlink:href=\"#DejaVuSans-30\"/>\n      </g>\n     </g>\n    </g>\n    <g id=\"xtick_208\">\n     <g id=\"line2d_208\">\n      <g>\n       <use style=\"stroke:#000000;stroke-width:0.8;\" x=\"1632.214489\" xlink:href=\"#mf462dd3182\" y=\"1094.4\"/>\n      </g>\n     </g>\n     <g id=\"text_208\">\n      <!-- 2007.0 -->\n      <g transform=\"translate(1634.973864 1136.390625)rotate(-90)scale(0.1 -0.1)\">\n       <use xlink:href=\"#DejaVuSans-32\"/>\n       <use x=\"63.623047\" xlink:href=\"#DejaVuSans-30\"/>\n       <use x=\"127.246094\" xlink:href=\"#DejaVuSans-30\"/>\n       <use x=\"190.869141\" xlink:href=\"#DejaVuSans-37\"/>\n       <use x=\"254.492188\" xlink:href=\"#DejaVuSans-2e\"/>\n       <use x=\"286.279297\" xlink:href=\"#DejaVuSans-30\"/>\n      </g>\n     </g>\n    </g>\n    <g id=\"xtick_209\">\n     <g id=\"line2d_209\">\n      <g>\n       <use style=\"stroke:#000000;stroke-width:0.8;\" x=\"1639.82358\" xlink:href=\"#mf462dd3182\" y=\"1094.4\"/>\n      </g>\n     </g>\n     <g id=\"text_209\">\n      <!-- 2008.0 -->\n      <g transform=\"translate(1642.582955 1136.390625)rotate(-90)scale(0.1 -0.1)\">\n       <use xlink:href=\"#DejaVuSans-32\"/>\n       <use x=\"63.623047\" xlink:href=\"#DejaVuSans-30\"/>\n       <use x=\"127.246094\" xlink:href=\"#DejaVuSans-30\"/>\n       <use x=\"190.869141\" xlink:href=\"#DejaVuSans-38\"/>\n       <use x=\"254.492188\" xlink:href=\"#DejaVuSans-2e\"/>\n       <use x=\"286.279297\" xlink:href=\"#DejaVuSans-30\"/>\n      </g>\n     </g>\n    </g>\n    <g id=\"xtick_210\">\n     <g id=\"line2d_210\">\n      <g>\n       <use style=\"stroke:#000000;stroke-width:0.8;\" x=\"1647.43267\" xlink:href=\"#mf462dd3182\" y=\"1094.4\"/>\n      </g>\n     </g>\n     <g id=\"text_210\">\n      <!-- 2009.0 -->\n      <g transform=\"translate(1650.192045 1136.390625)rotate(-90)scale(0.1 -0.1)\">\n       <use xlink:href=\"#DejaVuSans-32\"/>\n       <use x=\"63.623047\" xlink:href=\"#DejaVuSans-30\"/>\n       <use x=\"127.246094\" xlink:href=\"#DejaVuSans-30\"/>\n       <use x=\"190.869141\" xlink:href=\"#DejaVuSans-39\"/>\n       <use x=\"254.492188\" xlink:href=\"#DejaVuSans-2e\"/>\n       <use x=\"286.279297\" xlink:href=\"#DejaVuSans-30\"/>\n      </g>\n     </g>\n    </g>\n    <g id=\"xtick_211\">\n     <g id=\"line2d_211\">\n      <g>\n       <use style=\"stroke:#000000;stroke-width:0.8;\" x=\"1655.041761\" xlink:href=\"#mf462dd3182\" y=\"1094.4\"/>\n      </g>\n     </g>\n     <g id=\"text_211\">\n      <!-- 2010.0 -->\n      <g transform=\"translate(1657.801136 1136.390625)rotate(-90)scale(0.1 -0.1)\">\n       <use xlink:href=\"#DejaVuSans-32\"/>\n       <use x=\"63.623047\" xlink:href=\"#DejaVuSans-30\"/>\n       <use x=\"127.246094\" xlink:href=\"#DejaVuSans-31\"/>\n       <use x=\"190.869141\" xlink:href=\"#DejaVuSans-30\"/>\n       <use x=\"254.492188\" xlink:href=\"#DejaVuSans-2e\"/>\n       <use x=\"286.279297\" xlink:href=\"#DejaVuSans-30\"/>\n      </g>\n     </g>\n    </g>\n    <g id=\"xtick_212\">\n     <g id=\"line2d_212\">\n      <g>\n       <use style=\"stroke:#000000;stroke-width:0.8;\" x=\"1662.650852\" xlink:href=\"#mf462dd3182\" y=\"1094.4\"/>\n      </g>\n     </g>\n     <g id=\"text_212\">\n      <!-- 2011.0 -->\n      <g transform=\"translate(1665.410227 1136.390625)rotate(-90)scale(0.1 -0.1)\">\n       <use xlink:href=\"#DejaVuSans-32\"/>\n       <use x=\"63.623047\" xlink:href=\"#DejaVuSans-30\"/>\n       <use x=\"127.246094\" xlink:href=\"#DejaVuSans-31\"/>\n       <use x=\"190.869141\" xlink:href=\"#DejaVuSans-31\"/>\n       <use x=\"254.492188\" xlink:href=\"#DejaVuSans-2e\"/>\n       <use x=\"286.279297\" xlink:href=\"#DejaVuSans-30\"/>\n      </g>\n     </g>\n    </g>\n    <g id=\"xtick_213\">\n     <g id=\"line2d_213\">\n      <g>\n       <use style=\"stroke:#000000;stroke-width:0.8;\" x=\"1670.259943\" xlink:href=\"#mf462dd3182\" y=\"1094.4\"/>\n      </g>\n     </g>\n     <g id=\"text_213\">\n      <!-- 2012.0 -->\n      <g transform=\"translate(1673.019318 1136.390625)rotate(-90)scale(0.1 -0.1)\">\n       <use xlink:href=\"#DejaVuSans-32\"/>\n       <use x=\"63.623047\" xlink:href=\"#DejaVuSans-30\"/>\n       <use x=\"127.246094\" xlink:href=\"#DejaVuSans-31\"/>\n       <use x=\"190.869141\" xlink:href=\"#DejaVuSans-32\"/>\n       <use x=\"254.492188\" xlink:href=\"#DejaVuSans-2e\"/>\n       <use x=\"286.279297\" xlink:href=\"#DejaVuSans-30\"/>\n      </g>\n     </g>\n    </g>\n    <g id=\"xtick_214\">\n     <g id=\"line2d_214\">\n      <g>\n       <use style=\"stroke:#000000;stroke-width:0.8;\" x=\"1677.869034\" xlink:href=\"#mf462dd3182\" y=\"1094.4\"/>\n      </g>\n     </g>\n     <g id=\"text_214\">\n      <!-- 2013.0 -->\n      <g transform=\"translate(1680.628409 1136.390625)rotate(-90)scale(0.1 -0.1)\">\n       <use xlink:href=\"#DejaVuSans-32\"/>\n       <use x=\"63.623047\" xlink:href=\"#DejaVuSans-30\"/>\n       <use x=\"127.246094\" xlink:href=\"#DejaVuSans-31\"/>\n       <use x=\"190.869141\" xlink:href=\"#DejaVuSans-33\"/>\n       <use x=\"254.492188\" xlink:href=\"#DejaVuSans-2e\"/>\n       <use x=\"286.279297\" xlink:href=\"#DejaVuSans-30\"/>\n      </g>\n     </g>\n    </g>\n    <g id=\"xtick_215\">\n     <g id=\"line2d_215\">\n      <g>\n       <use style=\"stroke:#000000;stroke-width:0.8;\" x=\"1685.478125\" xlink:href=\"#mf462dd3182\" y=\"1094.4\"/>\n      </g>\n     </g>\n     <g id=\"text_215\">\n      <!-- 2014.0 -->\n      <g transform=\"translate(1688.2375 1136.390625)rotate(-90)scale(0.1 -0.1)\">\n       <use xlink:href=\"#DejaVuSans-32\"/>\n       <use x=\"63.623047\" xlink:href=\"#DejaVuSans-30\"/>\n       <use x=\"127.246094\" xlink:href=\"#DejaVuSans-31\"/>\n       <use x=\"190.869141\" xlink:href=\"#DejaVuSans-34\"/>\n       <use x=\"254.492188\" xlink:href=\"#DejaVuSans-2e\"/>\n       <use x=\"286.279297\" xlink:href=\"#DejaVuSans-30\"/>\n      </g>\n     </g>\n    </g>\n    <g id=\"xtick_216\">\n     <g id=\"line2d_216\">\n      <g>\n       <use style=\"stroke:#000000;stroke-width:0.8;\" x=\"1693.087216\" xlink:href=\"#mf462dd3182\" y=\"1094.4\"/>\n      </g>\n     </g>\n     <g id=\"text_216\">\n      <!-- 2015.0 -->\n      <g transform=\"translate(1695.846591 1136.390625)rotate(-90)scale(0.1 -0.1)\">\n       <use xlink:href=\"#DejaVuSans-32\"/>\n       <use x=\"63.623047\" xlink:href=\"#DejaVuSans-30\"/>\n       <use x=\"127.246094\" xlink:href=\"#DejaVuSans-31\"/>\n       <use x=\"190.869141\" xlink:href=\"#DejaVuSans-35\"/>\n       <use x=\"254.492188\" xlink:href=\"#DejaVuSans-2e\"/>\n       <use x=\"286.279297\" xlink:href=\"#DejaVuSans-30\"/>\n      </g>\n     </g>\n    </g>\n    <g id=\"xtick_217\">\n     <g id=\"line2d_217\">\n      <g>\n       <use style=\"stroke:#000000;stroke-width:0.8;\" x=\"1700.696307\" xlink:href=\"#mf462dd3182\" y=\"1094.4\"/>\n      </g>\n     </g>\n     <g id=\"text_217\">\n      <!-- 2016.0 -->\n      <g transform=\"translate(1703.455682 1136.390625)rotate(-90)scale(0.1 -0.1)\">\n       <use xlink:href=\"#DejaVuSans-32\"/>\n       <use x=\"63.623047\" xlink:href=\"#DejaVuSans-30\"/>\n       <use x=\"127.246094\" xlink:href=\"#DejaVuSans-31\"/>\n       <use x=\"190.869141\" xlink:href=\"#DejaVuSans-36\"/>\n       <use x=\"254.492188\" xlink:href=\"#DejaVuSans-2e\"/>\n       <use x=\"286.279297\" xlink:href=\"#DejaVuSans-30\"/>\n      </g>\n     </g>\n    </g>\n    <g id=\"xtick_218\">\n     <g id=\"line2d_218\">\n      <g>\n       <use style=\"stroke:#000000;stroke-width:0.8;\" x=\"1708.305398\" xlink:href=\"#mf462dd3182\" y=\"1094.4\"/>\n      </g>\n     </g>\n     <g id=\"text_218\">\n      <!-- 2017.0 -->\n      <g transform=\"translate(1711.064773 1136.390625)rotate(-90)scale(0.1 -0.1)\">\n       <use xlink:href=\"#DejaVuSans-32\"/>\n       <use x=\"63.623047\" xlink:href=\"#DejaVuSans-30\"/>\n       <use x=\"127.246094\" xlink:href=\"#DejaVuSans-31\"/>\n       <use x=\"190.869141\" xlink:href=\"#DejaVuSans-37\"/>\n       <use x=\"254.492188\" xlink:href=\"#DejaVuSans-2e\"/>\n       <use x=\"286.279297\" xlink:href=\"#DejaVuSans-30\"/>\n      </g>\n     </g>\n    </g>\n    <g id=\"xtick_219\">\n     <g id=\"line2d_219\">\n      <g>\n       <use style=\"stroke:#000000;stroke-width:0.8;\" x=\"1715.914489\" xlink:href=\"#mf462dd3182\" y=\"1094.4\"/>\n      </g>\n     </g>\n     <g id=\"text_219\">\n      <!-- 2018.0 -->\n      <g transform=\"translate(1718.673864 1136.390625)rotate(-90)scale(0.1 -0.1)\">\n       <use xlink:href=\"#DejaVuSans-32\"/>\n       <use x=\"63.623047\" xlink:href=\"#DejaVuSans-30\"/>\n       <use x=\"127.246094\" xlink:href=\"#DejaVuSans-31\"/>\n       <use x=\"190.869141\" xlink:href=\"#DejaVuSans-38\"/>\n       <use x=\"254.492188\" xlink:href=\"#DejaVuSans-2e\"/>\n       <use x=\"286.279297\" xlink:href=\"#DejaVuSans-30\"/>\n      </g>\n     </g>\n    </g>\n    <g id=\"xtick_220\">\n     <g id=\"line2d_220\">\n      <g>\n       <use style=\"stroke:#000000;stroke-width:0.8;\" x=\"1723.52358\" xlink:href=\"#mf462dd3182\" y=\"1094.4\"/>\n      </g>\n     </g>\n     <g id=\"text_220\">\n      <!-- 2019.0 -->\n      <g transform=\"translate(1726.282955 1136.390625)rotate(-90)scale(0.1 -0.1)\">\n       <use xlink:href=\"#DejaVuSans-32\"/>\n       <use x=\"63.623047\" xlink:href=\"#DejaVuSans-30\"/>\n       <use x=\"127.246094\" xlink:href=\"#DejaVuSans-31\"/>\n       <use x=\"190.869141\" xlink:href=\"#DejaVuSans-39\"/>\n       <use x=\"254.492188\" xlink:href=\"#DejaVuSans-2e\"/>\n       <use x=\"286.279297\" xlink:href=\"#DejaVuSans-30\"/>\n      </g>\n     </g>\n    </g>\n    <g id=\"text_221\">\n     <!-- AYB -->\n     <g transform=\"translate(880.810938 1147.989063)scale(0.1 -0.1)\">\n      <defs>\n       <path d=\"M 2188 4044 \nL 1331 1722 \nL 3047 1722 \nL 2188 4044 \nz\nM 1831 4666 \nL 2547 4666 \nL 4325 0 \nL 3669 0 \nL 3244 1197 \nL 1141 1197 \nL 716 0 \nL 50 0 \nL 1831 4666 \nz\n\" id=\"DejaVuSans-41\" transform=\"scale(0.015625)\"/>\n       <path d=\"M -13 4666 \nL 666 4666 \nL 1959 2747 \nL 3244 4666 \nL 3922 4666 \nL 2272 2222 \nL 2272 0 \nL 1638 0 \nL 1638 2222 \nL -13 4666 \nz\n\" id=\"DejaVuSans-59\" transform=\"scale(0.015625)\"/>\n       <path d=\"M 1259 2228 \nL 1259 519 \nL 2272 519 \nQ 2781 519 3026 730 \nQ 3272 941 3272 1375 \nQ 3272 1813 3026 2020 \nQ 2781 2228 2272 2228 \nL 1259 2228 \nz\nM 1259 4147 \nL 1259 2741 \nL 2194 2741 \nQ 2656 2741 2882 2914 \nQ 3109 3088 3109 3444 \nQ 3109 3797 2882 3972 \nQ 2656 4147 2194 4147 \nL 1259 4147 \nz\nM 628 4666 \nL 2241 4666 \nQ 2963 4666 3353 4366 \nQ 3744 4066 3744 3513 \nQ 3744 3084 3544 2831 \nQ 3344 2578 2956 2516 \nQ 3422 2416 3680 2098 \nQ 3938 1781 3938 1306 \nQ 3938 681 3513 340 \nQ 3088 0 2303 0 \nL 628 0 \nL 628 4666 \nz\n\" id=\"DejaVuSans-42\" transform=\"scale(0.015625)\"/>\n      </defs>\n      <use xlink:href=\"#DejaVuSans-41\"/>\n      <use x=\"60.658203\" xlink:href=\"#DejaVuSans-59\"/>\n      <use x=\"121.742188\" xlink:href=\"#DejaVuSans-42\"/>\n     </g>\n    </g>\n   </g>\n   <g id=\"matplotlib.axis_2\">\n    <g id=\"ytick_1\">\n     <g id=\"line2d_221\">\n      <defs>\n       <path d=\"M 0 0 \nL -3.5 0 \n\" id=\"mb28a412a85\" style=\"stroke:#000000;stroke-width:0.8;\"/>\n      </defs>\n      <g>\n       <use style=\"stroke:#000000;stroke-width:0.8;\" x=\"53.328125\" xlink:href=\"#mb28a412a85\" y=\"1094.4\"/>\n      </g>\n     </g>\n     <g id=\"text_222\">\n      <!-- 0 -->\n      <g transform=\"translate(39.965625 1098.199219)scale(0.1 -0.1)\">\n       <use xlink:href=\"#DejaVuSans-30\"/>\n      </g>\n     </g>\n    </g>\n    <g id=\"ytick_2\">\n     <g id=\"line2d_222\">\n      <g>\n       <use style=\"stroke:#000000;stroke-width:0.8;\" x=\"53.328125\" xlink:href=\"#mb28a412a85\" y=\"863.457974\"/>\n      </g>\n     </g>\n     <g id=\"text_223\">\n      <!-- 2000 -->\n      <g transform=\"translate(20.878125 867.257193)scale(0.1 -0.1)\">\n       <use xlink:href=\"#DejaVuSans-32\"/>\n       <use x=\"63.623047\" xlink:href=\"#DejaVuSans-30\"/>\n       <use x=\"127.246094\" xlink:href=\"#DejaVuSans-30\"/>\n       <use x=\"190.869141\" xlink:href=\"#DejaVuSans-30\"/>\n      </g>\n     </g>\n    </g>\n    <g id=\"ytick_3\">\n     <g id=\"line2d_223\">\n      <g>\n       <use style=\"stroke:#000000;stroke-width:0.8;\" x=\"53.328125\" xlink:href=\"#mb28a412a85\" y=\"632.515949\"/>\n      </g>\n     </g>\n     <g id=\"text_224\">\n      <!-- 4000 -->\n      <g transform=\"translate(20.878125 636.315168)scale(0.1 -0.1)\">\n       <use xlink:href=\"#DejaVuSans-34\"/>\n       <use x=\"63.623047\" xlink:href=\"#DejaVuSans-30\"/>\n       <use x=\"127.246094\" xlink:href=\"#DejaVuSans-30\"/>\n       <use x=\"190.869141\" xlink:href=\"#DejaVuSans-30\"/>\n      </g>\n     </g>\n    </g>\n    <g id=\"ytick_4\">\n     <g id=\"line2d_224\">\n      <g>\n       <use style=\"stroke:#000000;stroke-width:0.8;\" x=\"53.328125\" xlink:href=\"#mb28a412a85\" y=\"401.573923\"/>\n      </g>\n     </g>\n     <g id=\"text_225\">\n      <!-- 6000 -->\n      <g transform=\"translate(20.878125 405.373142)scale(0.1 -0.1)\">\n       <use xlink:href=\"#DejaVuSans-36\"/>\n       <use x=\"63.623047\" xlink:href=\"#DejaVuSans-30\"/>\n       <use x=\"127.246094\" xlink:href=\"#DejaVuSans-30\"/>\n       <use x=\"190.869141\" xlink:href=\"#DejaVuSans-30\"/>\n      </g>\n     </g>\n    </g>\n    <g id=\"ytick_5\">\n     <g id=\"line2d_225\">\n      <g>\n       <use style=\"stroke:#000000;stroke-width:0.8;\" x=\"53.328125\" xlink:href=\"#mb28a412a85\" y=\"170.631898\"/>\n      </g>\n     </g>\n     <g id=\"text_226\">\n      <!-- 8000 -->\n      <g transform=\"translate(20.878125 174.431117)scale(0.1 -0.1)\">\n       <use xlink:href=\"#DejaVuSans-38\"/>\n       <use x=\"63.623047\" xlink:href=\"#DejaVuSans-30\"/>\n       <use x=\"127.246094\" xlink:href=\"#DejaVuSans-30\"/>\n       <use x=\"190.869141\" xlink:href=\"#DejaVuSans-30\"/>\n      </g>\n     </g>\n    </g>\n    <g id=\"text_227\">\n     <!-- count -->\n     <g transform=\"translate(14.798437 564.90625)rotate(-90)scale(0.1 -0.1)\">\n      <defs>\n       <path d=\"M 3122 3366 \nL 3122 2828 \nQ 2878 2963 2633 3030 \nQ 2388 3097 2138 3097 \nQ 1578 3097 1268 2742 \nQ 959 2388 959 1747 \nQ 959 1106 1268 751 \nQ 1578 397 2138 397 \nQ 2388 397 2633 464 \nQ 2878 531 3122 666 \nL 3122 134 \nQ 2881 22 2623 -34 \nQ 2366 -91 2075 -91 \nQ 1284 -91 818 406 \nQ 353 903 353 1747 \nQ 353 2603 823 3093 \nQ 1294 3584 2113 3584 \nQ 2378 3584 2631 3529 \nQ 2884 3475 3122 3366 \nz\n\" id=\"DejaVuSans-63\" transform=\"scale(0.015625)\"/>\n       <path d=\"M 1959 3097 \nQ 1497 3097 1228 2736 \nQ 959 2375 959 1747 \nQ 959 1119 1226 758 \nQ 1494 397 1959 397 \nQ 2419 397 2687 759 \nQ 2956 1122 2956 1747 \nQ 2956 2369 2687 2733 \nQ 2419 3097 1959 3097 \nz\nM 1959 3584 \nQ 2709 3584 3137 3096 \nQ 3566 2609 3566 1747 \nQ 3566 888 3137 398 \nQ 2709 -91 1959 -91 \nQ 1206 -91 779 398 \nQ 353 888 353 1747 \nQ 353 2609 779 3096 \nQ 1206 3584 1959 3584 \nz\n\" id=\"DejaVuSans-6f\" transform=\"scale(0.015625)\"/>\n       <path d=\"M 544 1381 \nL 544 3500 \nL 1119 3500 \nL 1119 1403 \nQ 1119 906 1312 657 \nQ 1506 409 1894 409 \nQ 2359 409 2629 706 \nQ 2900 1003 2900 1516 \nL 2900 3500 \nL 3475 3500 \nL 3475 0 \nL 2900 0 \nL 2900 538 \nQ 2691 219 2414 64 \nQ 2138 -91 1772 -91 \nQ 1169 -91 856 284 \nQ 544 659 544 1381 \nz\nM 1991 3584 \nL 1991 3584 \nz\n\" id=\"DejaVuSans-75\" transform=\"scale(0.015625)\"/>\n       <path d=\"M 3513 2113 \nL 3513 0 \nL 2938 0 \nL 2938 2094 \nQ 2938 2591 2744 2837 \nQ 2550 3084 2163 3084 \nQ 1697 3084 1428 2787 \nQ 1159 2491 1159 1978 \nL 1159 0 \nL 581 0 \nL 581 3500 \nL 1159 3500 \nL 1159 2956 \nQ 1366 3272 1645 3428 \nQ 1925 3584 2291 3584 \nQ 2894 3584 3203 3211 \nQ 3513 2838 3513 2113 \nz\n\" id=\"DejaVuSans-6e\" transform=\"scale(0.015625)\"/>\n       <path d=\"M 1172 4494 \nL 1172 3500 \nL 2356 3500 \nL 2356 3053 \nL 1172 3053 \nL 1172 1153 \nQ 1172 725 1289 603 \nQ 1406 481 1766 481 \nL 2356 481 \nL 2356 0 \nL 1766 0 \nQ 1100 0 847 248 \nQ 594 497 594 1153 \nL 594 3053 \nL 172 3053 \nL 172 3500 \nL 594 3500 \nL 594 4494 \nL 1172 4494 \nz\n\" id=\"DejaVuSans-74\" transform=\"scale(0.015625)\"/>\n      </defs>\n      <use xlink:href=\"#DejaVuSans-63\"/>\n      <use x=\"54.980469\" xlink:href=\"#DejaVuSans-6f\"/>\n      <use x=\"116.162109\" xlink:href=\"#DejaVuSans-75\"/>\n      <use x=\"179.541016\" xlink:href=\"#DejaVuSans-6e\"/>\n      <use x=\"242.919922\" xlink:href=\"#DejaVuSans-74\"/>\n     </g>\n    </g>\n   </g>\n   <g id=\"patch_223\">\n    <path d=\"M 53.328125 1094.4 \nL 53.328125 7.2 \n\" style=\"fill:none;stroke:#000000;stroke-linecap:square;stroke-linejoin:miter;stroke-width:0.8;\"/>\n   </g>\n   <g id=\"patch_224\">\n    <path d=\"M 1727.328125 1094.4 \nL 1727.328125 7.2 \n\" style=\"fill:none;stroke:#000000;stroke-linecap:square;stroke-linejoin:miter;stroke-width:0.8;\"/>\n   </g>\n   <g id=\"patch_225\">\n    <path d=\"M 53.328125 1094.4 \nL 1727.328125 1094.4 \n\" style=\"fill:none;stroke:#000000;stroke-linecap:square;stroke-linejoin:miter;stroke-width:0.8;\"/>\n   </g>\n   <g id=\"patch_226\">\n    <path d=\"M 53.328125 7.2 \nL 1727.328125 7.2 \n\" style=\"fill:none;stroke:#000000;stroke-linecap:square;stroke-linejoin:miter;stroke-width:0.8;\"/>\n   </g>\n  </g>\n </g>\n <defs>\n  <clipPath id=\"pe814c10910\">\n   <rect height=\"1087.2\" width=\"1674\" x=\"53.328125\" y=\"7.2\"/>\n  </clipPath>\n </defs>\n</svg>\n",
            "text/plain": [
              "<Figure size 2160x1440 with 1 Axes>"
            ]
          },
          "metadata": {
            "needs_background": "light"
          },
          "output_type": "display_data"
        }
      ],
      "source": [
        "plt.figure(figsize=(30,20))\n",
        "sns.countplot(x='AYB', data=df)\n",
        "plt.xticks(rotation=90)\n",
        "plt.show()\n"
      ]
    },
    {
      "cell_type": "code",
      "execution_count": 21,
      "metadata": {
        "colab": {
          "base_uri": "https://localhost:8080/"
        },
        "id": "GrTOcpNRceYU",
        "outputId": "46d2b526-ac52-48e3-ec9b-d8afde3fc987"
      },
      "outputs": [
        {
          "data": {
            "text/plain": [
              "2006.0    5029\n",
              "2005.0    4937\n",
              "2004.0    3985\n",
              "2007.0    3771\n",
              "1980.0    3310\n",
              "          ... \n",
              "1912.0       1\n",
              "1913.0       1\n",
              "1915.0       1\n",
              "1937.0       1\n",
              "20.0         1\n",
              "Name: YR_RMDL, Length: 110, dtype: int64"
            ]
          },
          "execution_count": 21,
          "metadata": {
            "tags": []
          },
          "output_type": "execute_result"
        }
      ],
      "source": [
        "df['YR_RMDL'].value_counts()"
      ]
    },
    {
      "cell_type": "code",
      "execution_count": 190,
      "metadata": {},
      "outputs": [
        {
          "name": "stderr",
          "output_type": "stream",
          "text": [
            "/Library/Frameworks/Python.framework/Versions/3.9/lib/python3.9/site-packages/seaborn/_decorators.py:36: FutureWarning: Pass the following variable as a keyword arg: x. From version 0.12, the only valid positional argument will be `data`, and passing other arguments without an explicit keyword will result in an error or misinterpretation.\n",
            "  warnings.warn(\n"
          ]
        },
        {
          "data": {
            "text/plain": [
              "<AxesSubplot:xlabel='YR_RMDL'>"
            ]
          },
          "execution_count": 190,
          "metadata": {},
          "output_type": "execute_result"
        },
        {
          "data": {
            "image/png": "[encoded data removed]",
            "image/svg+xml": "<?xml version=\"1.0\" encoding=\"utf-8\" standalone=\"no\"?>\n<!DOCTYPE svg PUBLIC \"-//W3C//DTD SVG 1.1//EN\"\n  \"http://www.w3.org/Graphics/SVG/1.1/DTD/svg11.dtd\">\n<svg height=\"262.19625pt\" version=\"1.1\" viewBox=\"0 0 352.7 262.19625\" width=\"352.7pt\" xmlns=\"http://www.w3.org/2000/svg\" xmlns:xlink=\"http://www.w3.org/1999/xlink\">\n <metadata>\n  <rdf:RDF xmlns:cc=\"http://creativecommons.org/ns#\" xmlns:dc=\"http://purl.org/dc/elements/1.1/\" xmlns:rdf=\"http://www.w3.org/1999/02/22-rdf-syntax-ns#\">\n   <cc:Work>\n    <dc:type rdf:resource=\"http://purl.org/dc/dcmitype/StillImage\"/>\n    <dc:date>2021-07-08T20:43:31.092295</dc:date>\n    <dc:format>image/svg+xml</dc:format>\n    <dc:creator>\n     <cc:Agent>\n      <dc:title>Matplotlib v3.4.0, https://matplotlib.org/</dc:title>\n     </cc:Agent>\n    </dc:creator>\n   </cc:Work>\n  </rdf:RDF>\n </metadata>\n <defs>\n  <style type=\"text/css\">*{stroke-linecap:butt;stroke-linejoin:round;}</style>\n </defs>\n <g id=\"figure_1\">\n  <g id=\"patch_1\">\n   <path d=\"M 0 262.19625 \nL 352.7 262.19625 \nL 352.7 0 \nL 0 0 \nz\n\" style=\"fill:none;\"/>\n  </g>\n  <g id=\"axes_1\">\n   <g id=\"patch_2\">\n    <path d=\"M 10.7 224.64 \nL 345.5 224.64 \nL 345.5 7.2 \nL 10.7 7.2 \nz\n\" style=\"fill:#ffffff;\"/>\n   </g>\n   <g id=\"patch_3\">\n    <path clip-path=\"url(#pdf48b3162a)\" d=\"M 325.105048 28.944 \nL 325.105048 202.896 \nL 328.911497 202.896 \nL 328.911497 28.944 \nL 325.105048 28.944 \nz\n\" style=\"fill:#3274a1;stroke:#3f3f3f;stroke-linejoin:miter;stroke-width:1.5;\"/>\n   </g>\n   <g id=\"matplotlib.axis_1\">\n    <g id=\"xtick_1\">\n     <g id=\"line2d_1\">\n      <defs>\n       <path d=\"M 0 0 \nL 0 3.5 \n\" id=\"m874e380885\" style=\"stroke:#000000;stroke-width:0.8;\"/>\n      </defs>\n      <g>\n       <use style=\"stroke:#000000;stroke-width:0.8;\" x=\"22.873023\" xlink:href=\"#m874e380885\" y=\"224.64\"/>\n      </g>\n     </g>\n     <g id=\"text_1\">\n      <!-- 0 -->\n      <g transform=\"translate(19.691773 239.238437)scale(0.1 -0.1)\">\n       <defs>\n        <path d=\"M 2034 4250 \nQ 1547 4250 1301 3770 \nQ 1056 3291 1056 2328 \nQ 1056 1369 1301 889 \nQ 1547 409 2034 409 \nQ 2525 409 2770 889 \nQ 3016 1369 3016 2328 \nQ 3016 3291 2770 3770 \nQ 2525 4250 2034 4250 \nz\nM 2034 4750 \nQ 2819 4750 3233 4129 \nQ 3647 3509 3647 2328 \nQ 3647 1150 3233 529 \nQ 2819 -91 2034 -91 \nQ 1250 -91 836 529 \nQ 422 1150 422 2328 \nQ 422 3509 836 4129 \nQ 1250 4750 2034 4750 \nz\n\" id=\"DejaVuSans-30\" transform=\"scale(0.015625)\"/>\n       </defs>\n       <use xlink:href=\"#DejaVuSans-30\"/>\n      </g>\n     </g>\n    </g>\n    <g id=\"xtick_2\">\n     <g id=\"line2d_2\">\n      <g>\n       <use style=\"stroke:#000000;stroke-width:0.8;\" x=\"60.93751\" xlink:href=\"#m874e380885\" y=\"224.64\"/>\n      </g>\n     </g>\n     <g id=\"text_2\">\n      <!-- 250 -->\n      <g transform=\"translate(51.39376 239.238437)scale(0.1 -0.1)\">\n       <defs>\n        <path d=\"M 1228 531 \nL 3431 531 \nL 3431 0 \nL 469 0 \nL 469 531 \nQ 828 903 1448 1529 \nQ 2069 2156 2228 2338 \nQ 2531 2678 2651 2914 \nQ 2772 3150 2772 3378 \nQ 2772 3750 2511 3984 \nQ 2250 4219 1831 4219 \nQ 1534 4219 1204 4116 \nQ 875 4013 500 3803 \nL 500 4441 \nQ 881 4594 1212 4672 \nQ 1544 4750 1819 4750 \nQ 2544 4750 2975 4387 \nQ 3406 4025 3406 3419 \nQ 3406 3131 3298 2873 \nQ 3191 2616 2906 2266 \nQ 2828 2175 2409 1742 \nQ 1991 1309 1228 531 \nz\n\" id=\"DejaVuSans-32\" transform=\"scale(0.015625)\"/>\n        <path d=\"M 691 4666 \nL 3169 4666 \nL 3169 4134 \nL 1269 4134 \nL 1269 2991 \nQ 1406 3038 1543 3061 \nQ 1681 3084 1819 3084 \nQ 2600 3084 3056 2656 \nQ 3513 2228 3513 1497 \nQ 3513 744 3044 326 \nQ 2575 -91 1722 -91 \nQ 1428 -91 1123 -41 \nQ 819 9 494 109 \nL 494 744 \nQ 775 591 1075 516 \nQ 1375 441 1709 441 \nQ 2250 441 2565 725 \nQ 2881 1009 2881 1497 \nQ 2881 1984 2565 2268 \nQ 2250 2553 1709 2553 \nQ 1456 2553 1204 2497 \nQ 953 2441 691 2322 \nL 691 4666 \nz\n\" id=\"DejaVuSans-35\" transform=\"scale(0.015625)\"/>\n       </defs>\n       <use xlink:href=\"#DejaVuSans-32\"/>\n       <use x=\"63.623047\" xlink:href=\"#DejaVuSans-35\"/>\n       <use x=\"127.246094\" xlink:href=\"#DejaVuSans-30\"/>\n      </g>\n     </g>\n    </g>\n    <g id=\"xtick_3\">\n     <g id=\"line2d_3\">\n      <g>\n       <use style=\"stroke:#000000;stroke-width:0.8;\" x=\"99.001996\" xlink:href=\"#m874e380885\" y=\"224.64\"/>\n      </g>\n     </g>\n     <g id=\"text_3\">\n      <!-- 500 -->\n      <g transform=\"translate(89.458246 239.238437)scale(0.1 -0.1)\">\n       <use xlink:href=\"#DejaVuSans-35\"/>\n       <use x=\"63.623047\" xlink:href=\"#DejaVuSans-30\"/>\n       <use x=\"127.246094\" xlink:href=\"#DejaVuSans-30\"/>\n      </g>\n     </g>\n    </g>\n    <g id=\"xtick_4\">\n     <g id=\"line2d_4\">\n      <g>\n       <use style=\"stroke:#000000;stroke-width:0.8;\" x=\"137.066483\" xlink:href=\"#m874e380885\" y=\"224.64\"/>\n      </g>\n     </g>\n     <g id=\"text_4\">\n      <!-- 750 -->\n      <g transform=\"translate(127.522733 239.238437)scale(0.1 -0.1)\">\n       <defs>\n        <path d=\"M 525 4666 \nL 3525 4666 \nL 3525 4397 \nL 1831 0 \nL 1172 0 \nL 2766 4134 \nL 525 4134 \nL 525 4666 \nz\n\" id=\"DejaVuSans-37\" transform=\"scale(0.015625)\"/>\n       </defs>\n       <use xlink:href=\"#DejaVuSans-37\"/>\n       <use x=\"63.623047\" xlink:href=\"#DejaVuSans-35\"/>\n       <use x=\"127.246094\" xlink:href=\"#DejaVuSans-30\"/>\n      </g>\n     </g>\n    </g>\n    <g id=\"xtick_5\">\n     <g id=\"line2d_5\">\n      <g>\n       <use style=\"stroke:#000000;stroke-width:0.8;\" x=\"175.13097\" xlink:href=\"#m874e380885\" y=\"224.64\"/>\n      </g>\n     </g>\n     <g id=\"text_5\">\n      <!-- 1000 -->\n      <g transform=\"translate(162.40597 239.238437)scale(0.1 -0.1)\">\n       <defs>\n        <path d=\"M 794 531 \nL 1825 531 \nL 1825 4091 \nL 703 3866 \nL 703 4441 \nL 1819 4666 \nL 2450 4666 \nL 2450 531 \nL 3481 531 \nL 3481 0 \nL 794 0 \nL 794 531 \nz\n\" id=\"DejaVuSans-31\" transform=\"scale(0.015625)\"/>\n       </defs>\n       <use xlink:href=\"#DejaVuSans-31\"/>\n       <use x=\"63.623047\" xlink:href=\"#DejaVuSans-30\"/>\n       <use x=\"127.246094\" xlink:href=\"#DejaVuSans-30\"/>\n       <use x=\"190.869141\" xlink:href=\"#DejaVuSans-30\"/>\n      </g>\n     </g>\n    </g>\n    <g id=\"xtick_6\">\n     <g id=\"line2d_6\">\n      <g>\n       <use style=\"stroke:#000000;stroke-width:0.8;\" x=\"213.195457\" xlink:href=\"#m874e380885\" y=\"224.64\"/>\n      </g>\n     </g>\n     <g id=\"text_6\">\n      <!-- 1250 -->\n      <g transform=\"translate(200.470457 239.238437)scale(0.1 -0.1)\">\n       <use xlink:href=\"#DejaVuSans-31\"/>\n       <use x=\"63.623047\" xlink:href=\"#DejaVuSans-32\"/>\n       <use x=\"127.246094\" xlink:href=\"#DejaVuSans-35\"/>\n       <use x=\"190.869141\" xlink:href=\"#DejaVuSans-30\"/>\n      </g>\n     </g>\n    </g>\n    <g id=\"xtick_7\">\n     <g id=\"line2d_7\">\n      <g>\n       <use style=\"stroke:#000000;stroke-width:0.8;\" x=\"251.259944\" xlink:href=\"#m874e380885\" y=\"224.64\"/>\n      </g>\n     </g>\n     <g id=\"text_7\">\n      <!-- 1500 -->\n      <g transform=\"translate(238.534944 239.238437)scale(0.1 -0.1)\">\n       <use xlink:href=\"#DejaVuSans-31\"/>\n       <use x=\"63.623047\" xlink:href=\"#DejaVuSans-35\"/>\n       <use x=\"127.246094\" xlink:href=\"#DejaVuSans-30\"/>\n       <use x=\"190.869141\" xlink:href=\"#DejaVuSans-30\"/>\n      </g>\n     </g>\n    </g>\n    <g id=\"xtick_8\">\n     <g id=\"line2d_8\">\n      <g>\n       <use style=\"stroke:#000000;stroke-width:0.8;\" x=\"289.32443\" xlink:href=\"#m874e380885\" y=\"224.64\"/>\n      </g>\n     </g>\n     <g id=\"text_8\">\n      <!-- 1750 -->\n      <g transform=\"translate(276.59943 239.238437)scale(0.1 -0.1)\">\n       <use xlink:href=\"#DejaVuSans-31\"/>\n       <use x=\"63.623047\" xlink:href=\"#DejaVuSans-37\"/>\n       <use x=\"127.246094\" xlink:href=\"#DejaVuSans-35\"/>\n       <use x=\"190.869141\" xlink:href=\"#DejaVuSans-30\"/>\n      </g>\n     </g>\n    </g>\n    <g id=\"xtick_9\">\n     <g id=\"line2d_9\">\n      <g>\n       <use style=\"stroke:#000000;stroke-width:0.8;\" x=\"327.388917\" xlink:href=\"#m874e380885\" y=\"224.64\"/>\n      </g>\n     </g>\n     <g id=\"text_9\">\n      <!-- 2000 -->\n      <g transform=\"translate(314.663917 239.238437)scale(0.1 -0.1)\">\n       <use xlink:href=\"#DejaVuSans-32\"/>\n       <use x=\"63.623047\" xlink:href=\"#DejaVuSans-30\"/>\n       <use x=\"127.246094\" xlink:href=\"#DejaVuSans-30\"/>\n       <use x=\"190.869141\" xlink:href=\"#DejaVuSans-30\"/>\n      </g>\n     </g>\n    </g>\n    <g id=\"text_10\">\n     <!-- YR_RMDL -->\n     <g transform=\"translate(154.647656 252.638437)scale(0.1 -0.1)\">\n      <defs>\n       <path d=\"M -13 4666 \nL 666 4666 \nL 1959 2747 \nL 3244 4666 \nL 3922 4666 \nL 2272 2222 \nL 2272 0 \nL 1638 0 \nL 1638 2222 \nL -13 4666 \nz\n\" id=\"DejaVuSans-59\" transform=\"scale(0.015625)\"/>\n       <path d=\"M 2841 2188 \nQ 3044 2119 3236 1894 \nQ 3428 1669 3622 1275 \nL 4263 0 \nL 3584 0 \nL 2988 1197 \nQ 2756 1666 2539 1819 \nQ 2322 1972 1947 1972 \nL 1259 1972 \nL 1259 0 \nL 628 0 \nL 628 4666 \nL 2053 4666 \nQ 2853 4666 3247 4331 \nQ 3641 3997 3641 3322 \nQ 3641 2881 3436 2590 \nQ 3231 2300 2841 2188 \nz\nM 1259 4147 \nL 1259 2491 \nL 2053 2491 \nQ 2509 2491 2742 2702 \nQ 2975 2913 2975 3322 \nQ 2975 3731 2742 3939 \nQ 2509 4147 2053 4147 \nL 1259 4147 \nz\n\" id=\"DejaVuSans-52\" transform=\"scale(0.015625)\"/>\n       <path d=\"M 3263 -1063 \nL 3263 -1509 \nL -63 -1509 \nL -63 -1063 \nL 3263 -1063 \nz\n\" id=\"DejaVuSans-5f\" transform=\"scale(0.015625)\"/>\n       <path d=\"M 628 4666 \nL 1569 4666 \nL 2759 1491 \nL 3956 4666 \nL 4897 4666 \nL 4897 0 \nL 4281 0 \nL 4281 4097 \nL 3078 897 \nL 2444 897 \nL 1241 4097 \nL 1241 0 \nL 628 0 \nL 628 4666 \nz\n\" id=\"DejaVuSans-4d\" transform=\"scale(0.015625)\"/>\n       <path d=\"M 1259 4147 \nL 1259 519 \nL 2022 519 \nQ 2988 519 3436 956 \nQ 3884 1394 3884 2338 \nQ 3884 3275 3436 3711 \nQ 2988 4147 2022 4147 \nL 1259 4147 \nz\nM 628 4666 \nL 1925 4666 \nQ 3281 4666 3915 4102 \nQ 4550 3538 4550 2338 \nQ 4550 1131 3912 565 \nQ 3275 0 1925 0 \nL 628 0 \nL 628 4666 \nz\n\" id=\"DejaVuSans-44\" transform=\"scale(0.015625)\"/>\n       <path d=\"M 628 4666 \nL 1259 4666 \nL 1259 531 \nL 3531 531 \nL 3531 0 \nL 628 0 \nL 628 4666 \nz\n\" id=\"DejaVuSans-4c\" transform=\"scale(0.015625)\"/>\n      </defs>\n      <use xlink:href=\"#DejaVuSans-59\"/>\n      <use x=\"61.083984\" xlink:href=\"#DejaVuSans-52\"/>\n      <use x=\"130.566406\" xlink:href=\"#DejaVuSans-5f\"/>\n      <use x=\"180.566406\" xlink:href=\"#DejaVuSans-52\"/>\n      <use x=\"250.048828\" xlink:href=\"#DejaVuSans-4d\"/>\n      <use x=\"336.328125\" xlink:href=\"#DejaVuSans-44\"/>\n      <use x=\"413.330078\" xlink:href=\"#DejaVuSans-4c\"/>\n     </g>\n    </g>\n   </g>\n   <g id=\"matplotlib.axis_2\">\n    <g id=\"ytick_1\">\n     <g id=\"line2d_10\">\n      <defs>\n       <path d=\"M 0 0 \nL -3.5 0 \n\" id=\"mf4b458f922\" style=\"stroke:#000000;stroke-width:0.8;\"/>\n      </defs>\n      <g>\n       <use style=\"stroke:#000000;stroke-width:0.8;\" x=\"10.7\" xlink:href=\"#mf4b458f922\" y=\"115.92\"/>\n      </g>\n     </g>\n    </g>\n   </g>\n   <g id=\"line2d_11\">\n    <path clip-path=\"url(#pdf48b3162a)\" d=\"M 325.105048 115.92 \nL 319.471504 115.92 \n\" style=\"fill:none;stroke:#3f3f3f;stroke-linecap:square;stroke-width:1.5;\"/>\n   </g>\n   <g id=\"line2d_12\">\n    <path clip-path=\"url(#pdf48b3162a)\" d=\"M 328.911497 115.92 \nL 330.281818 115.92 \n\" style=\"fill:none;stroke:#3f3f3f;stroke-linecap:square;stroke-width:1.5;\"/>\n   </g>\n   <g id=\"line2d_13\">\n    <path clip-path=\"url(#pdf48b3162a)\" d=\"M 319.471504 72.432 \nL 319.471504 159.408 \n\" style=\"fill:none;stroke:#3f3f3f;stroke-linecap:square;stroke-width:1.5;\"/>\n   </g>\n   <g id=\"line2d_14\">\n    <path clip-path=\"url(#pdf48b3162a)\" d=\"M 330.281818 72.432 \nL 330.281818 159.408 \n\" style=\"fill:none;stroke:#3f3f3f;stroke-linecap:square;stroke-width:1.5;\"/>\n   </g>\n   <g id=\"line2d_15\">\n    <defs>\n     <path d=\"M -0 3.535534 \nL 2.12132 0 \nL -0 -3.535534 \nL -2.12132 -0 \nz\n\" id=\"m52391cec65\" style=\"stroke:#3f3f3f;stroke-linejoin:miter;\"/>\n    </defs>\n    <g clip-path=\"url(#pdf48b3162a)\">\n     <use style=\"fill:#3f3f3f;stroke:#3f3f3f;stroke-linejoin:miter;\" x=\"317.492151\" xlink:href=\"#m52391cec65\" y=\"115.92\"/>\n     <use style=\"fill:#3f3f3f;stroke:#3f3f3f;stroke-linejoin:miter;\" x=\"318.405698\" xlink:href=\"#m52391cec65\" y=\"115.92\"/>\n     <use style=\"fill:#3f3f3f;stroke:#3f3f3f;stroke-linejoin:miter;\" x=\"315.969571\" xlink:href=\"#m52391cec65\" y=\"115.92\"/>\n     <use style=\"fill:#3f3f3f;stroke:#3f3f3f;stroke-linejoin:miter;\" x=\"315.817313\" xlink:href=\"#m52391cec65\" y=\"115.92\"/>\n     <use style=\"fill:#3f3f3f;stroke:#3f3f3f;stroke-linejoin:miter;\" x=\"315.512797\" xlink:href=\"#m52391cec65\" y=\"115.92\"/>\n     <use style=\"fill:#3f3f3f;stroke:#3f3f3f;stroke-linejoin:miter;\" x=\"314.59925\" xlink:href=\"#m52391cec65\" y=\"115.92\"/>\n     <use style=\"fill:#3f3f3f;stroke:#3f3f3f;stroke-linejoin:miter;\" x=\"319.01473\" xlink:href=\"#m52391cec65\" y=\"115.92\"/>\n     <use style=\"fill:#3f3f3f;stroke:#3f3f3f;stroke-linejoin:miter;\" x=\"318.405698\" xlink:href=\"#m52391cec65\" y=\"115.92\"/>\n     <use style=\"fill:#3f3f3f;stroke:#3f3f3f;stroke-linejoin:miter;\" x=\"319.319246\" xlink:href=\"#m52391cec65\" y=\"115.92\"/>\n     <use style=\"fill:#3f3f3f;stroke:#3f3f3f;stroke-linejoin:miter;\" x=\"318.25344\" xlink:href=\"#m52391cec65\" y=\"115.92\"/>\n     <use style=\"fill:#3f3f3f;stroke:#3f3f3f;stroke-linejoin:miter;\" x=\"318.862472\" xlink:href=\"#m52391cec65\" y=\"115.92\"/>\n     <use style=\"fill:#3f3f3f;stroke:#3f3f3f;stroke-linejoin:miter;\" x=\"319.319246\" xlink:href=\"#m52391cec65\" y=\"115.92\"/>\n     <use style=\"fill:#3f3f3f;stroke:#3f3f3f;stroke-linejoin:miter;\" x=\"316.426345\" xlink:href=\"#m52391cec65\" y=\"115.92\"/>\n     <use style=\"fill:#3f3f3f;stroke:#3f3f3f;stroke-linejoin:miter;\" x=\"319.319246\" xlink:href=\"#m52391cec65\" y=\"115.92\"/>\n     <use style=\"fill:#3f3f3f;stroke:#3f3f3f;stroke-linejoin:miter;\" x=\"319.319246\" xlink:href=\"#m52391cec65\" y=\"115.92\"/>\n     <use style=\"fill:#3f3f3f;stroke:#3f3f3f;stroke-linejoin:miter;\" x=\"319.01473\" xlink:href=\"#m52391cec65\" y=\"115.92\"/>\n     <use style=\"fill:#3f3f3f;stroke:#3f3f3f;stroke-linejoin:miter;\" x=\"318.101182\" xlink:href=\"#m52391cec65\" y=\"115.92\"/>\n     <use style=\"fill:#3f3f3f;stroke:#3f3f3f;stroke-linejoin:miter;\" x=\"318.101182\" xlink:href=\"#m52391cec65\" y=\"115.92\"/>\n     <use style=\"fill:#3f3f3f;stroke:#3f3f3f;stroke-linejoin:miter;\" x=\"315.817313\" xlink:href=\"#m52391cec65\" y=\"115.92\"/>\n     <use style=\"fill:#3f3f3f;stroke:#3f3f3f;stroke-linejoin:miter;\" x=\"316.578603\" xlink:href=\"#m52391cec65\" y=\"115.92\"/>\n     <use style=\"fill:#3f3f3f;stroke:#3f3f3f;stroke-linejoin:miter;\" x=\"316.426345\" xlink:href=\"#m52391cec65\" y=\"115.92\"/>\n     <use style=\"fill:#3f3f3f;stroke:#3f3f3f;stroke-linejoin:miter;\" x=\"315.665055\" xlink:href=\"#m52391cec65\" y=\"115.92\"/>\n     <use style=\"fill:#3f3f3f;stroke:#3f3f3f;stroke-linejoin:miter;\" x=\"314.446992\" xlink:href=\"#m52391cec65\" y=\"115.92\"/>\n     <use style=\"fill:#3f3f3f;stroke:#3f3f3f;stroke-linejoin:miter;\" x=\"316.578603\" xlink:href=\"#m52391cec65\" y=\"115.92\"/>\n     <use style=\"fill:#3f3f3f;stroke:#3f3f3f;stroke-linejoin:miter;\" x=\"312.163122\" xlink:href=\"#m52391cec65\" y=\"115.92\"/>\n     <use style=\"fill:#3f3f3f;stroke:#3f3f3f;stroke-linejoin:miter;\" x=\"319.01473\" xlink:href=\"#m52391cec65\" y=\"115.92\"/>\n     <use style=\"fill:#3f3f3f;stroke:#3f3f3f;stroke-linejoin:miter;\" x=\"317.492151\" xlink:href=\"#m52391cec65\" y=\"115.92\"/>\n     <use style=\"fill:#3f3f3f;stroke:#3f3f3f;stroke-linejoin:miter;\" x=\"319.319246\" xlink:href=\"#m52391cec65\" y=\"115.92\"/>\n     <use style=\"fill:#3f3f3f;stroke:#3f3f3f;stroke-linejoin:miter;\" x=\"318.101182\" xlink:href=\"#m52391cec65\" y=\"115.92\"/>\n     <use style=\"fill:#3f3f3f;stroke:#3f3f3f;stroke-linejoin:miter;\" x=\"316.121829\" xlink:href=\"#m52391cec65\" y=\"115.92\"/>\n     <use style=\"fill:#3f3f3f;stroke:#3f3f3f;stroke-linejoin:miter;\" x=\"318.405698\" xlink:href=\"#m52391cec65\" y=\"115.92\"/>\n     <use style=\"fill:#3f3f3f;stroke:#3f3f3f;stroke-linejoin:miter;\" x=\"316.121829\" xlink:href=\"#m52391cec65\" y=\"115.92\"/>\n     <use style=\"fill:#3f3f3f;stroke:#3f3f3f;stroke-linejoin:miter;\" x=\"319.166988\" xlink:href=\"#m52391cec65\" y=\"115.92\"/>\n     <use style=\"fill:#3f3f3f;stroke:#3f3f3f;stroke-linejoin:miter;\" x=\"315.969571\" xlink:href=\"#m52391cec65\" y=\"115.92\"/>\n     <use style=\"fill:#3f3f3f;stroke:#3f3f3f;stroke-linejoin:miter;\" x=\"318.101182\" xlink:href=\"#m52391cec65\" y=\"115.92\"/>\n     <use style=\"fill:#3f3f3f;stroke:#3f3f3f;stroke-linejoin:miter;\" x=\"318.25344\" xlink:href=\"#m52391cec65\" y=\"115.92\"/>\n     <use style=\"fill:#3f3f3f;stroke:#3f3f3f;stroke-linejoin:miter;\" x=\"317.644409\" xlink:href=\"#m52391cec65\" y=\"115.92\"/>\n     <use style=\"fill:#3f3f3f;stroke:#3f3f3f;stroke-linejoin:miter;\" x=\"315.969571\" xlink:href=\"#m52391cec65\" y=\"115.92\"/>\n     <use style=\"fill:#3f3f3f;stroke:#3f3f3f;stroke-linejoin:miter;\" x=\"319.01473\" xlink:href=\"#m52391cec65\" y=\"115.92\"/>\n     <use style=\"fill:#3f3f3f;stroke:#3f3f3f;stroke-linejoin:miter;\" x=\"315.665055\" xlink:href=\"#m52391cec65\" y=\"115.92\"/>\n     <use style=\"fill:#3f3f3f;stroke:#3f3f3f;stroke-linejoin:miter;\" x=\"316.274087\" xlink:href=\"#m52391cec65\" y=\"115.92\"/>\n     <use style=\"fill:#3f3f3f;stroke:#3f3f3f;stroke-linejoin:miter;\" x=\"309.117964\" xlink:href=\"#m52391cec65\" y=\"115.92\"/>\n     <use style=\"fill:#3f3f3f;stroke:#3f3f3f;stroke-linejoin:miter;\" x=\"315.817313\" xlink:href=\"#m52391cec65\" y=\"115.92\"/>\n     <use style=\"fill:#3f3f3f;stroke:#3f3f3f;stroke-linejoin:miter;\" x=\"318.25344\" xlink:href=\"#m52391cec65\" y=\"115.92\"/>\n     <use style=\"fill:#3f3f3f;stroke:#3f3f3f;stroke-linejoin:miter;\" x=\"317.492151\" xlink:href=\"#m52391cec65\" y=\"115.92\"/>\n     <use style=\"fill:#3f3f3f;stroke:#3f3f3f;stroke-linejoin:miter;\" x=\"319.166988\" xlink:href=\"#m52391cec65\" y=\"115.92\"/>\n     <use style=\"fill:#3f3f3f;stroke:#3f3f3f;stroke-linejoin:miter;\" x=\"319.01473\" xlink:href=\"#m52391cec65\" y=\"115.92\"/>\n     <use style=\"fill:#3f3f3f;stroke:#3f3f3f;stroke-linejoin:miter;\" x=\"319.319246\" xlink:href=\"#m52391cec65\" y=\"115.92\"/>\n     <use style=\"fill:#3f3f3f;stroke:#3f3f3f;stroke-linejoin:miter;\" x=\"318.710214\" xlink:href=\"#m52391cec65\" y=\"115.92\"/>\n     <use style=\"fill:#3f3f3f;stroke:#3f3f3f;stroke-linejoin:miter;\" x=\"315.969571\" xlink:href=\"#m52391cec65\" y=\"115.92\"/>\n     <use style=\"fill:#3f3f3f;stroke:#3f3f3f;stroke-linejoin:miter;\" x=\"319.166988\" xlink:href=\"#m52391cec65\" y=\"115.92\"/>\n     <use style=\"fill:#3f3f3f;stroke:#3f3f3f;stroke-linejoin:miter;\" x=\"319.01473\" xlink:href=\"#m52391cec65\" y=\"115.92\"/>\n     <use style=\"fill:#3f3f3f;stroke:#3f3f3f;stroke-linejoin:miter;\" x=\"316.274087\" xlink:href=\"#m52391cec65\" y=\"115.92\"/>\n     <use style=\"fill:#3f3f3f;stroke:#3f3f3f;stroke-linejoin:miter;\" x=\"319.01473\" xlink:href=\"#m52391cec65\" y=\"115.92\"/>\n     <use style=\"fill:#3f3f3f;stroke:#3f3f3f;stroke-linejoin:miter;\" x=\"315.512797\" xlink:href=\"#m52391cec65\" y=\"115.92\"/>\n     <use style=\"fill:#3f3f3f;stroke:#3f3f3f;stroke-linejoin:miter;\" x=\"315.512797\" xlink:href=\"#m52391cec65\" y=\"115.92\"/>\n     <use style=\"fill:#3f3f3f;stroke:#3f3f3f;stroke-linejoin:miter;\" x=\"318.25344\" xlink:href=\"#m52391cec65\" y=\"115.92\"/>\n     <use style=\"fill:#3f3f3f;stroke:#3f3f3f;stroke-linejoin:miter;\" x=\"315.969571\" xlink:href=\"#m52391cec65\" y=\"115.92\"/>\n     <use style=\"fill:#3f3f3f;stroke:#3f3f3f;stroke-linejoin:miter;\" x=\"318.25344\" xlink:href=\"#m52391cec65\" y=\"115.92\"/>\n     <use style=\"fill:#3f3f3f;stroke:#3f3f3f;stroke-linejoin:miter;\" x=\"317.644409\" xlink:href=\"#m52391cec65\" y=\"115.92\"/>\n     <use style=\"fill:#3f3f3f;stroke:#3f3f3f;stroke-linejoin:miter;\" x=\"318.25344\" xlink:href=\"#m52391cec65\" y=\"115.92\"/>\n     <use style=\"fill:#3f3f3f;stroke:#3f3f3f;stroke-linejoin:miter;\" x=\"319.01473\" xlink:href=\"#m52391cec65\" y=\"115.92\"/>\n     <use style=\"fill:#3f3f3f;stroke:#3f3f3f;stroke-linejoin:miter;\" x=\"319.01473\" xlink:href=\"#m52391cec65\" y=\"115.92\"/>\n     <use style=\"fill:#3f3f3f;stroke:#3f3f3f;stroke-linejoin:miter;\" x=\"317.339893\" xlink:href=\"#m52391cec65\" y=\"115.92\"/>\n     <use style=\"fill:#3f3f3f;stroke:#3f3f3f;stroke-linejoin:miter;\" x=\"318.557956\" xlink:href=\"#m52391cec65\" y=\"115.92\"/>\n     <use style=\"fill:#3f3f3f;stroke:#3f3f3f;stroke-linejoin:miter;\" x=\"318.405698\" xlink:href=\"#m52391cec65\" y=\"115.92\"/>\n     <use style=\"fill:#3f3f3f;stroke:#3f3f3f;stroke-linejoin:miter;\" x=\"319.319246\" xlink:href=\"#m52391cec65\" y=\"115.92\"/>\n     <use style=\"fill:#3f3f3f;stroke:#3f3f3f;stroke-linejoin:miter;\" x=\"319.166988\" xlink:href=\"#m52391cec65\" y=\"115.92\"/>\n     <use style=\"fill:#3f3f3f;stroke:#3f3f3f;stroke-linejoin:miter;\" x=\"319.319246\" xlink:href=\"#m52391cec65\" y=\"115.92\"/>\n     <use style=\"fill:#3f3f3f;stroke:#3f3f3f;stroke-linejoin:miter;\" x=\"318.405698\" xlink:href=\"#m52391cec65\" y=\"115.92\"/>\n     <use style=\"fill:#3f3f3f;stroke:#3f3f3f;stroke-linejoin:miter;\" x=\"315.969571\" xlink:href=\"#m52391cec65\" y=\"115.92\"/>\n     <use style=\"fill:#3f3f3f;stroke:#3f3f3f;stroke-linejoin:miter;\" x=\"319.01473\" xlink:href=\"#m52391cec65\" y=\"115.92\"/>\n     <use style=\"fill:#3f3f3f;stroke:#3f3f3f;stroke-linejoin:miter;\" x=\"319.166988\" xlink:href=\"#m52391cec65\" y=\"115.92\"/>\n     <use style=\"fill:#3f3f3f;stroke:#3f3f3f;stroke-linejoin:miter;\" x=\"318.25344\" xlink:href=\"#m52391cec65\" y=\"115.92\"/>\n     <use style=\"fill:#3f3f3f;stroke:#3f3f3f;stroke-linejoin:miter;\" x=\"312.163122\" xlink:href=\"#m52391cec65\" y=\"115.92\"/>\n     <use style=\"fill:#3f3f3f;stroke:#3f3f3f;stroke-linejoin:miter;\" x=\"318.25344\" xlink:href=\"#m52391cec65\" y=\"115.92\"/>\n     <use style=\"fill:#3f3f3f;stroke:#3f3f3f;stroke-linejoin:miter;\" x=\"318.405698\" xlink:href=\"#m52391cec65\" y=\"115.92\"/>\n     <use style=\"fill:#3f3f3f;stroke:#3f3f3f;stroke-linejoin:miter;\" x=\"318.405698\" xlink:href=\"#m52391cec65\" y=\"115.92\"/>\n     <use style=\"fill:#3f3f3f;stroke:#3f3f3f;stroke-linejoin:miter;\" x=\"319.166988\" xlink:href=\"#m52391cec65\" y=\"115.92\"/>\n     <use style=\"fill:#3f3f3f;stroke:#3f3f3f;stroke-linejoin:miter;\" x=\"317.948924\" xlink:href=\"#m52391cec65\" y=\"115.92\"/>\n     <use style=\"fill:#3f3f3f;stroke:#3f3f3f;stroke-linejoin:miter;\" x=\"316.578603\" xlink:href=\"#m52391cec65\" y=\"115.92\"/>\n     <use style=\"fill:#3f3f3f;stroke:#3f3f3f;stroke-linejoin:miter;\" x=\"319.319246\" xlink:href=\"#m52391cec65\" y=\"115.92\"/>\n     <use style=\"fill:#3f3f3f;stroke:#3f3f3f;stroke-linejoin:miter;\" x=\"319.166988\" xlink:href=\"#m52391cec65\" y=\"115.92\"/>\n     <use style=\"fill:#3f3f3f;stroke:#3f3f3f;stroke-linejoin:miter;\" x=\"319.166988\" xlink:href=\"#m52391cec65\" y=\"115.92\"/>\n     <use style=\"fill:#3f3f3f;stroke:#3f3f3f;stroke-linejoin:miter;\" x=\"319.166988\" xlink:href=\"#m52391cec65\" y=\"115.92\"/>\n     <use style=\"fill:#3f3f3f;stroke:#3f3f3f;stroke-linejoin:miter;\" x=\"318.557956\" xlink:href=\"#m52391cec65\" y=\"115.92\"/>\n     <use style=\"fill:#3f3f3f;stroke:#3f3f3f;stroke-linejoin:miter;\" x=\"316.730861\" xlink:href=\"#m52391cec65\" y=\"115.92\"/>\n     <use style=\"fill:#3f3f3f;stroke:#3f3f3f;stroke-linejoin:miter;\" x=\"319.319246\" xlink:href=\"#m52391cec65\" y=\"115.92\"/>\n     <use style=\"fill:#3f3f3f;stroke:#3f3f3f;stroke-linejoin:miter;\" x=\"318.405698\" xlink:href=\"#m52391cec65\" y=\"115.92\"/>\n     <use style=\"fill:#3f3f3f;stroke:#3f3f3f;stroke-linejoin:miter;\" x=\"317.339893\" xlink:href=\"#m52391cec65\" y=\"115.92\"/>\n     <use style=\"fill:#3f3f3f;stroke:#3f3f3f;stroke-linejoin:miter;\" x=\"318.25344\" xlink:href=\"#m52391cec65\" y=\"115.92\"/>\n     <use style=\"fill:#3f3f3f;stroke:#3f3f3f;stroke-linejoin:miter;\" x=\"318.25344\" xlink:href=\"#m52391cec65\" y=\"115.92\"/>\n     <use style=\"fill:#3f3f3f;stroke:#3f3f3f;stroke-linejoin:miter;\" x=\"319.01473\" xlink:href=\"#m52391cec65\" y=\"115.92\"/>\n     <use style=\"fill:#3f3f3f;stroke:#3f3f3f;stroke-linejoin:miter;\" x=\"317.644409\" xlink:href=\"#m52391cec65\" y=\"115.92\"/>\n     <use style=\"fill:#3f3f3f;stroke:#3f3f3f;stroke-linejoin:miter;\" x=\"318.25344\" xlink:href=\"#m52391cec65\" y=\"115.92\"/>\n     <use style=\"fill:#3f3f3f;stroke:#3f3f3f;stroke-linejoin:miter;\" x=\"318.710214\" xlink:href=\"#m52391cec65\" y=\"115.92\"/>\n     <use style=\"fill:#3f3f3f;stroke:#3f3f3f;stroke-linejoin:miter;\" x=\"318.557956\" xlink:href=\"#m52391cec65\" y=\"115.92\"/>\n     <use style=\"fill:#3f3f3f;stroke:#3f3f3f;stroke-linejoin:miter;\" x=\"319.166988\" xlink:href=\"#m52391cec65\" y=\"115.92\"/>\n     <use style=\"fill:#3f3f3f;stroke:#3f3f3f;stroke-linejoin:miter;\" x=\"318.862472\" xlink:href=\"#m52391cec65\" y=\"115.92\"/>\n     <use style=\"fill:#3f3f3f;stroke:#3f3f3f;stroke-linejoin:miter;\" x=\"318.25344\" xlink:href=\"#m52391cec65\" y=\"115.92\"/>\n     <use style=\"fill:#3f3f3f;stroke:#3f3f3f;stroke-linejoin:miter;\" x=\"319.166988\" xlink:href=\"#m52391cec65\" y=\"115.92\"/>\n     <use style=\"fill:#3f3f3f;stroke:#3f3f3f;stroke-linejoin:miter;\" x=\"317.644409\" xlink:href=\"#m52391cec65\" y=\"115.92\"/>\n     <use style=\"fill:#3f3f3f;stroke:#3f3f3f;stroke-linejoin:miter;\" x=\"317.339893\" xlink:href=\"#m52391cec65\" y=\"115.92\"/>\n     <use style=\"fill:#3f3f3f;stroke:#3f3f3f;stroke-linejoin:miter;\" x=\"318.405698\" xlink:href=\"#m52391cec65\" y=\"115.92\"/>\n     <use style=\"fill:#3f3f3f;stroke:#3f3f3f;stroke-linejoin:miter;\" x=\"318.862472\" xlink:href=\"#m52391cec65\" y=\"115.92\"/>\n     <use style=\"fill:#3f3f3f;stroke:#3f3f3f;stroke-linejoin:miter;\" x=\"317.796667\" xlink:href=\"#m52391cec65\" y=\"115.92\"/>\n     <use style=\"fill:#3f3f3f;stroke:#3f3f3f;stroke-linejoin:miter;\" x=\"319.166988\" xlink:href=\"#m52391cec65\" y=\"115.92\"/>\n     <use style=\"fill:#3f3f3f;stroke:#3f3f3f;stroke-linejoin:miter;\" x=\"318.25344\" xlink:href=\"#m52391cec65\" y=\"115.92\"/>\n     <use style=\"fill:#3f3f3f;stroke:#3f3f3f;stroke-linejoin:miter;\" x=\"319.319246\" xlink:href=\"#m52391cec65\" y=\"115.92\"/>\n     <use style=\"fill:#3f3f3f;stroke:#3f3f3f;stroke-linejoin:miter;\" x=\"316.730861\" xlink:href=\"#m52391cec65\" y=\"115.92\"/>\n     <use style=\"fill:#3f3f3f;stroke:#3f3f3f;stroke-linejoin:miter;\" x=\"318.862472\" xlink:href=\"#m52391cec65\" y=\"115.92\"/>\n     <use style=\"fill:#3f3f3f;stroke:#3f3f3f;stroke-linejoin:miter;\" x=\"319.01473\" xlink:href=\"#m52391cec65\" y=\"115.92\"/>\n     <use style=\"fill:#3f3f3f;stroke:#3f3f3f;stroke-linejoin:miter;\" x=\"318.710214\" xlink:href=\"#m52391cec65\" y=\"115.92\"/>\n     <use style=\"fill:#3f3f3f;stroke:#3f3f3f;stroke-linejoin:miter;\" x=\"318.862472\" xlink:href=\"#m52391cec65\" y=\"115.92\"/>\n     <use style=\"fill:#3f3f3f;stroke:#3f3f3f;stroke-linejoin:miter;\" x=\"317.035377\" xlink:href=\"#m52391cec65\" y=\"115.92\"/>\n     <use style=\"fill:#3f3f3f;stroke:#3f3f3f;stroke-linejoin:miter;\" x=\"319.166988\" xlink:href=\"#m52391cec65\" y=\"115.92\"/>\n     <use style=\"fill:#3f3f3f;stroke:#3f3f3f;stroke-linejoin:miter;\" x=\"316.578603\" xlink:href=\"#m52391cec65\" y=\"115.92\"/>\n     <use style=\"fill:#3f3f3f;stroke:#3f3f3f;stroke-linejoin:miter;\" x=\"317.644409\" xlink:href=\"#m52391cec65\" y=\"115.92\"/>\n     <use style=\"fill:#3f3f3f;stroke:#3f3f3f;stroke-linejoin:miter;\" x=\"317.644409\" xlink:href=\"#m52391cec65\" y=\"115.92\"/>\n     <use style=\"fill:#3f3f3f;stroke:#3f3f3f;stroke-linejoin:miter;\" x=\"319.319246\" xlink:href=\"#m52391cec65\" y=\"115.92\"/>\n     <use style=\"fill:#3f3f3f;stroke:#3f3f3f;stroke-linejoin:miter;\" x=\"317.035377\" xlink:href=\"#m52391cec65\" y=\"115.92\"/>\n     <use style=\"fill:#3f3f3f;stroke:#3f3f3f;stroke-linejoin:miter;\" x=\"318.25344\" xlink:href=\"#m52391cec65\" y=\"115.92\"/>\n     <use style=\"fill:#3f3f3f;stroke:#3f3f3f;stroke-linejoin:miter;\" x=\"315.208281\" xlink:href=\"#m52391cec65\" y=\"115.92\"/>\n     <use style=\"fill:#3f3f3f;stroke:#3f3f3f;stroke-linejoin:miter;\" x=\"319.01473\" xlink:href=\"#m52391cec65\" y=\"115.92\"/>\n     <use style=\"fill:#3f3f3f;stroke:#3f3f3f;stroke-linejoin:miter;\" x=\"316.730861\" xlink:href=\"#m52391cec65\" y=\"115.92\"/>\n     <use style=\"fill:#3f3f3f;stroke:#3f3f3f;stroke-linejoin:miter;\" x=\"319.166988\" xlink:href=\"#m52391cec65\" y=\"115.92\"/>\n     <use style=\"fill:#3f3f3f;stroke:#3f3f3f;stroke-linejoin:miter;\" x=\"316.426345\" xlink:href=\"#m52391cec65\" y=\"115.92\"/>\n     <use style=\"fill:#3f3f3f;stroke:#3f3f3f;stroke-linejoin:miter;\" x=\"316.274087\" xlink:href=\"#m52391cec65\" y=\"115.92\"/>\n     <use style=\"fill:#3f3f3f;stroke:#3f3f3f;stroke-linejoin:miter;\" x=\"317.187635\" xlink:href=\"#m52391cec65\" y=\"115.92\"/>\n     <use style=\"fill:#3f3f3f;stroke:#3f3f3f;stroke-linejoin:miter;\" x=\"316.730861\" xlink:href=\"#m52391cec65\" y=\"115.92\"/>\n     <use style=\"fill:#3f3f3f;stroke:#3f3f3f;stroke-linejoin:miter;\" x=\"317.339893\" xlink:href=\"#m52391cec65\" y=\"115.92\"/>\n     <use style=\"fill:#3f3f3f;stroke:#3f3f3f;stroke-linejoin:miter;\" x=\"316.121829\" xlink:href=\"#m52391cec65\" y=\"115.92\"/>\n     <use style=\"fill:#3f3f3f;stroke:#3f3f3f;stroke-linejoin:miter;\" x=\"316.883119\" xlink:href=\"#m52391cec65\" y=\"115.92\"/>\n     <use style=\"fill:#3f3f3f;stroke:#3f3f3f;stroke-linejoin:miter;\" x=\"317.948924\" xlink:href=\"#m52391cec65\" y=\"115.92\"/>\n     <use style=\"fill:#3f3f3f;stroke:#3f3f3f;stroke-linejoin:miter;\" x=\"314.142476\" xlink:href=\"#m52391cec65\" y=\"115.92\"/>\n     <use style=\"fill:#3f3f3f;stroke:#3f3f3f;stroke-linejoin:miter;\" x=\"313.83796\" xlink:href=\"#m52391cec65\" y=\"115.92\"/>\n     <use style=\"fill:#3f3f3f;stroke:#3f3f3f;stroke-linejoin:miter;\" x=\"319.319246\" xlink:href=\"#m52391cec65\" y=\"115.92\"/>\n     <use style=\"fill:#3f3f3f;stroke:#3f3f3f;stroke-linejoin:miter;\" x=\"316.883119\" xlink:href=\"#m52391cec65\" y=\"115.92\"/>\n     <use style=\"fill:#3f3f3f;stroke:#3f3f3f;stroke-linejoin:miter;\" x=\"315.665055\" xlink:href=\"#m52391cec65\" y=\"115.92\"/>\n     <use style=\"fill:#3f3f3f;stroke:#3f3f3f;stroke-linejoin:miter;\" x=\"315.208281\" xlink:href=\"#m52391cec65\" y=\"115.92\"/>\n     <use style=\"fill:#3f3f3f;stroke:#3f3f3f;stroke-linejoin:miter;\" x=\"319.01473\" xlink:href=\"#m52391cec65\" y=\"115.92\"/>\n     <use style=\"fill:#3f3f3f;stroke:#3f3f3f;stroke-linejoin:miter;\" x=\"317.187635\" xlink:href=\"#m52391cec65\" y=\"115.92\"/>\n     <use style=\"fill:#3f3f3f;stroke:#3f3f3f;stroke-linejoin:miter;\" x=\"315.208281\" xlink:href=\"#m52391cec65\" y=\"115.92\"/>\n     <use style=\"fill:#3f3f3f;stroke:#3f3f3f;stroke-linejoin:miter;\" x=\"315.360539\" xlink:href=\"#m52391cec65\" y=\"115.92\"/>\n     <use style=\"fill:#3f3f3f;stroke:#3f3f3f;stroke-linejoin:miter;\" x=\"319.319246\" xlink:href=\"#m52391cec65\" y=\"115.92\"/>\n     <use style=\"fill:#3f3f3f;stroke:#3f3f3f;stroke-linejoin:miter;\" x=\"318.710214\" xlink:href=\"#m52391cec65\" y=\"115.92\"/>\n     <use style=\"fill:#3f3f3f;stroke:#3f3f3f;stroke-linejoin:miter;\" x=\"315.969571\" xlink:href=\"#m52391cec65\" y=\"115.92\"/>\n     <use style=\"fill:#3f3f3f;stroke:#3f3f3f;stroke-linejoin:miter;\" x=\"315.665055\" xlink:href=\"#m52391cec65\" y=\"115.92\"/>\n     <use style=\"fill:#3f3f3f;stroke:#3f3f3f;stroke-linejoin:miter;\" x=\"316.730861\" xlink:href=\"#m52391cec65\" y=\"115.92\"/>\n     <use style=\"fill:#3f3f3f;stroke:#3f3f3f;stroke-linejoin:miter;\" x=\"317.187635\" xlink:href=\"#m52391cec65\" y=\"115.92\"/>\n     <use style=\"fill:#3f3f3f;stroke:#3f3f3f;stroke-linejoin:miter;\" x=\"315.969571\" xlink:href=\"#m52391cec65\" y=\"115.92\"/>\n     <use style=\"fill:#3f3f3f;stroke:#3f3f3f;stroke-linejoin:miter;\" x=\"316.121829\" xlink:href=\"#m52391cec65\" y=\"115.92\"/>\n     <use style=\"fill:#3f3f3f;stroke:#3f3f3f;stroke-linejoin:miter;\" x=\"319.166988\" xlink:href=\"#m52391cec65\" y=\"115.92\"/>\n     <use style=\"fill:#3f3f3f;stroke:#3f3f3f;stroke-linejoin:miter;\" x=\"315.665055\" xlink:href=\"#m52391cec65\" y=\"115.92\"/>\n     <use style=\"fill:#3f3f3f;stroke:#3f3f3f;stroke-linejoin:miter;\" x=\"319.166988\" xlink:href=\"#m52391cec65\" y=\"115.92\"/>\n     <use style=\"fill:#3f3f3f;stroke:#3f3f3f;stroke-linejoin:miter;\" x=\"316.274087\" xlink:href=\"#m52391cec65\" y=\"115.92\"/>\n     <use style=\"fill:#3f3f3f;stroke:#3f3f3f;stroke-linejoin:miter;\" x=\"319.319246\" xlink:href=\"#m52391cec65\" y=\"115.92\"/>\n     <use style=\"fill:#3f3f3f;stroke:#3f3f3f;stroke-linejoin:miter;\" x=\"315.360539\" xlink:href=\"#m52391cec65\" y=\"115.92\"/>\n     <use style=\"fill:#3f3f3f;stroke:#3f3f3f;stroke-linejoin:miter;\" x=\"25.918182\" xlink:href=\"#m52391cec65\" y=\"115.92\"/>\n     <use style=\"fill:#3f3f3f;stroke:#3f3f3f;stroke-linejoin:miter;\" x=\"316.883119\" xlink:href=\"#m52391cec65\" y=\"115.92\"/>\n     <use style=\"fill:#3f3f3f;stroke:#3f3f3f;stroke-linejoin:miter;\" x=\"319.319246\" xlink:href=\"#m52391cec65\" y=\"115.92\"/>\n     <use style=\"fill:#3f3f3f;stroke:#3f3f3f;stroke-linejoin:miter;\" x=\"316.426345\" xlink:href=\"#m52391cec65\" y=\"115.92\"/>\n     <use style=\"fill:#3f3f3f;stroke:#3f3f3f;stroke-linejoin:miter;\" x=\"316.578603\" xlink:href=\"#m52391cec65\" y=\"115.92\"/>\n     <use style=\"fill:#3f3f3f;stroke:#3f3f3f;stroke-linejoin:miter;\" x=\"319.319246\" xlink:href=\"#m52391cec65\" y=\"115.92\"/>\n     <use style=\"fill:#3f3f3f;stroke:#3f3f3f;stroke-linejoin:miter;\" x=\"319.166988\" xlink:href=\"#m52391cec65\" y=\"115.92\"/>\n     <use style=\"fill:#3f3f3f;stroke:#3f3f3f;stroke-linejoin:miter;\" x=\"316.730861\" xlink:href=\"#m52391cec65\" y=\"115.92\"/>\n     <use style=\"fill:#3f3f3f;stroke:#3f3f3f;stroke-linejoin:miter;\" x=\"316.883119\" xlink:href=\"#m52391cec65\" y=\"115.92\"/>\n     <use style=\"fill:#3f3f3f;stroke:#3f3f3f;stroke-linejoin:miter;\" x=\"318.101182\" xlink:href=\"#m52391cec65\" y=\"115.92\"/>\n     <use style=\"fill:#3f3f3f;stroke:#3f3f3f;stroke-linejoin:miter;\" x=\"319.319246\" xlink:href=\"#m52391cec65\" y=\"115.92\"/>\n     <use style=\"fill:#3f3f3f;stroke:#3f3f3f;stroke-linejoin:miter;\" x=\"315.817313\" xlink:href=\"#m52391cec65\" y=\"115.92\"/>\n     <use style=\"fill:#3f3f3f;stroke:#3f3f3f;stroke-linejoin:miter;\" x=\"319.01473\" xlink:href=\"#m52391cec65\" y=\"115.92\"/>\n     <use style=\"fill:#3f3f3f;stroke:#3f3f3f;stroke-linejoin:miter;\" x=\"317.948924\" xlink:href=\"#m52391cec65\" y=\"115.92\"/>\n     <use style=\"fill:#3f3f3f;stroke:#3f3f3f;stroke-linejoin:miter;\" x=\"317.035377\" xlink:href=\"#m52391cec65\" y=\"115.92\"/>\n     <use style=\"fill:#3f3f3f;stroke:#3f3f3f;stroke-linejoin:miter;\" x=\"315.969571\" xlink:href=\"#m52391cec65\" y=\"115.92\"/>\n     <use style=\"fill:#3f3f3f;stroke:#3f3f3f;stroke-linejoin:miter;\" x=\"319.319246\" xlink:href=\"#m52391cec65\" y=\"115.92\"/>\n     <use style=\"fill:#3f3f3f;stroke:#3f3f3f;stroke-linejoin:miter;\" x=\"318.25344\" xlink:href=\"#m52391cec65\" y=\"115.92\"/>\n     <use style=\"fill:#3f3f3f;stroke:#3f3f3f;stroke-linejoin:miter;\" x=\"316.578603\" xlink:href=\"#m52391cec65\" y=\"115.92\"/>\n     <use style=\"fill:#3f3f3f;stroke:#3f3f3f;stroke-linejoin:miter;\" x=\"318.25344\" xlink:href=\"#m52391cec65\" y=\"115.92\"/>\n     <use style=\"fill:#3f3f3f;stroke:#3f3f3f;stroke-linejoin:miter;\" x=\"316.730861\" xlink:href=\"#m52391cec65\" y=\"115.92\"/>\n     <use style=\"fill:#3f3f3f;stroke:#3f3f3f;stroke-linejoin:miter;\" x=\"314.59925\" xlink:href=\"#m52391cec65\" y=\"115.92\"/>\n     <use style=\"fill:#3f3f3f;stroke:#3f3f3f;stroke-linejoin:miter;\" x=\"309.117964\" xlink:href=\"#m52391cec65\" y=\"115.92\"/>\n     <use style=\"fill:#3f3f3f;stroke:#3f3f3f;stroke-linejoin:miter;\" x=\"316.274087\" xlink:href=\"#m52391cec65\" y=\"115.92\"/>\n     <use style=\"fill:#3f3f3f;stroke:#3f3f3f;stroke-linejoin:miter;\" x=\"317.492151\" xlink:href=\"#m52391cec65\" y=\"115.92\"/>\n     <use style=\"fill:#3f3f3f;stroke:#3f3f3f;stroke-linejoin:miter;\" x=\"315.969571\" xlink:href=\"#m52391cec65\" y=\"115.92\"/>\n     <use style=\"fill:#3f3f3f;stroke:#3f3f3f;stroke-linejoin:miter;\" x=\"316.578603\" xlink:href=\"#m52391cec65\" y=\"115.92\"/>\n     <use style=\"fill:#3f3f3f;stroke:#3f3f3f;stroke-linejoin:miter;\" x=\"315.969571\" xlink:href=\"#m52391cec65\" y=\"115.92\"/>\n     <use style=\"fill:#3f3f3f;stroke:#3f3f3f;stroke-linejoin:miter;\" x=\"316.274087\" xlink:href=\"#m52391cec65\" y=\"115.92\"/>\n     <use style=\"fill:#3f3f3f;stroke:#3f3f3f;stroke-linejoin:miter;\" x=\"317.492151\" xlink:href=\"#m52391cec65\" y=\"115.92\"/>\n     <use style=\"fill:#3f3f3f;stroke:#3f3f3f;stroke-linejoin:miter;\" x=\"319.319246\" xlink:href=\"#m52391cec65\" y=\"115.92\"/>\n     <use style=\"fill:#3f3f3f;stroke:#3f3f3f;stroke-linejoin:miter;\" x=\"319.166988\" xlink:href=\"#m52391cec65\" y=\"115.92\"/>\n     <use style=\"fill:#3f3f3f;stroke:#3f3f3f;stroke-linejoin:miter;\" x=\"318.25344\" xlink:href=\"#m52391cec65\" y=\"115.92\"/>\n     <use style=\"fill:#3f3f3f;stroke:#3f3f3f;stroke-linejoin:miter;\" x=\"318.25344\" xlink:href=\"#m52391cec65\" y=\"115.92\"/>\n     <use style=\"fill:#3f3f3f;stroke:#3f3f3f;stroke-linejoin:miter;\" x=\"319.166988\" xlink:href=\"#m52391cec65\" y=\"115.92\"/>\n     <use style=\"fill:#3f3f3f;stroke:#3f3f3f;stroke-linejoin:miter;\" x=\"319.166988\" xlink:href=\"#m52391cec65\" y=\"115.92\"/>\n     <use style=\"fill:#3f3f3f;stroke:#3f3f3f;stroke-linejoin:miter;\" x=\"316.426345\" xlink:href=\"#m52391cec65\" y=\"115.92\"/>\n     <use style=\"fill:#3f3f3f;stroke:#3f3f3f;stroke-linejoin:miter;\" x=\"316.883119\" xlink:href=\"#m52391cec65\" y=\"115.92\"/>\n     <use style=\"fill:#3f3f3f;stroke:#3f3f3f;stroke-linejoin:miter;\" x=\"317.035377\" xlink:href=\"#m52391cec65\" y=\"115.92\"/>\n     <use style=\"fill:#3f3f3f;stroke:#3f3f3f;stroke-linejoin:miter;\" x=\"316.730861\" xlink:href=\"#m52391cec65\" y=\"115.92\"/>\n     <use style=\"fill:#3f3f3f;stroke:#3f3f3f;stroke-linejoin:miter;\" x=\"319.166988\" xlink:href=\"#m52391cec65\" y=\"115.92\"/>\n     <use style=\"fill:#3f3f3f;stroke:#3f3f3f;stroke-linejoin:miter;\" x=\"317.948924\" xlink:href=\"#m52391cec65\" y=\"115.92\"/>\n     <use style=\"fill:#3f3f3f;stroke:#3f3f3f;stroke-linejoin:miter;\" x=\"317.492151\" xlink:href=\"#m52391cec65\" y=\"115.92\"/>\n     <use style=\"fill:#3f3f3f;stroke:#3f3f3f;stroke-linejoin:miter;\" x=\"318.405698\" xlink:href=\"#m52391cec65\" y=\"115.92\"/>\n     <use style=\"fill:#3f3f3f;stroke:#3f3f3f;stroke-linejoin:miter;\" x=\"317.644409\" xlink:href=\"#m52391cec65\" y=\"115.92\"/>\n     <use style=\"fill:#3f3f3f;stroke:#3f3f3f;stroke-linejoin:miter;\" x=\"314.751508\" xlink:href=\"#m52391cec65\" y=\"115.92\"/>\n     <use style=\"fill:#3f3f3f;stroke:#3f3f3f;stroke-linejoin:miter;\" x=\"319.319246\" xlink:href=\"#m52391cec65\" y=\"115.92\"/>\n     <use style=\"fill:#3f3f3f;stroke:#3f3f3f;stroke-linejoin:miter;\" x=\"318.557956\" xlink:href=\"#m52391cec65\" y=\"115.92\"/>\n     <use style=\"fill:#3f3f3f;stroke:#3f3f3f;stroke-linejoin:miter;\" x=\"318.862472\" xlink:href=\"#m52391cec65\" y=\"115.92\"/>\n     <use style=\"fill:#3f3f3f;stroke:#3f3f3f;stroke-linejoin:miter;\" x=\"316.426345\" xlink:href=\"#m52391cec65\" y=\"115.92\"/>\n     <use style=\"fill:#3f3f3f;stroke:#3f3f3f;stroke-linejoin:miter;\" x=\"316.274087\" xlink:href=\"#m52391cec65\" y=\"115.92\"/>\n     <use style=\"fill:#3f3f3f;stroke:#3f3f3f;stroke-linejoin:miter;\" x=\"319.319246\" xlink:href=\"#m52391cec65\" y=\"115.92\"/>\n     <use style=\"fill:#3f3f3f;stroke:#3f3f3f;stroke-linejoin:miter;\" x=\"319.166988\" xlink:href=\"#m52391cec65\" y=\"115.92\"/>\n     <use style=\"fill:#3f3f3f;stroke:#3f3f3f;stroke-linejoin:miter;\" x=\"316.121829\" xlink:href=\"#m52391cec65\" y=\"115.92\"/>\n     <use style=\"fill:#3f3f3f;stroke:#3f3f3f;stroke-linejoin:miter;\" x=\"318.862472\" xlink:href=\"#m52391cec65\" y=\"115.92\"/>\n     <use style=\"fill:#3f3f3f;stroke:#3f3f3f;stroke-linejoin:miter;\" x=\"316.730861\" xlink:href=\"#m52391cec65\" y=\"115.92\"/>\n     <use style=\"fill:#3f3f3f;stroke:#3f3f3f;stroke-linejoin:miter;\" x=\"315.208281\" xlink:href=\"#m52391cec65\" y=\"115.92\"/>\n     <use style=\"fill:#3f3f3f;stroke:#3f3f3f;stroke-linejoin:miter;\" x=\"318.25344\" xlink:href=\"#m52391cec65\" y=\"115.92\"/>\n     <use style=\"fill:#3f3f3f;stroke:#3f3f3f;stroke-linejoin:miter;\" x=\"316.274087\" xlink:href=\"#m52391cec65\" y=\"115.92\"/>\n     <use style=\"fill:#3f3f3f;stroke:#3f3f3f;stroke-linejoin:miter;\" x=\"316.883119\" xlink:href=\"#m52391cec65\" y=\"115.92\"/>\n     <use style=\"fill:#3f3f3f;stroke:#3f3f3f;stroke-linejoin:miter;\" x=\"318.557956\" xlink:href=\"#m52391cec65\" y=\"115.92\"/>\n     <use style=\"fill:#3f3f3f;stroke:#3f3f3f;stroke-linejoin:miter;\" x=\"319.166988\" xlink:href=\"#m52391cec65\" y=\"115.92\"/>\n     <use style=\"fill:#3f3f3f;stroke:#3f3f3f;stroke-linejoin:miter;\" x=\"313.990218\" xlink:href=\"#m52391cec65\" y=\"115.92\"/>\n     <use style=\"fill:#3f3f3f;stroke:#3f3f3f;stroke-linejoin:miter;\" x=\"318.101182\" xlink:href=\"#m52391cec65\" y=\"115.92\"/>\n     <use style=\"fill:#3f3f3f;stroke:#3f3f3f;stroke-linejoin:miter;\" x=\"318.25344\" xlink:href=\"#m52391cec65\" y=\"115.92\"/>\n     <use style=\"fill:#3f3f3f;stroke:#3f3f3f;stroke-linejoin:miter;\" x=\"319.319246\" xlink:href=\"#m52391cec65\" y=\"115.92\"/>\n     <use style=\"fill:#3f3f3f;stroke:#3f3f3f;stroke-linejoin:miter;\" x=\"316.578603\" xlink:href=\"#m52391cec65\" y=\"115.92\"/>\n     <use style=\"fill:#3f3f3f;stroke:#3f3f3f;stroke-linejoin:miter;\" x=\"314.751508\" xlink:href=\"#m52391cec65\" y=\"115.92\"/>\n     <use style=\"fill:#3f3f3f;stroke:#3f3f3f;stroke-linejoin:miter;\" x=\"317.492151\" xlink:href=\"#m52391cec65\" y=\"115.92\"/>\n     <use style=\"fill:#3f3f3f;stroke:#3f3f3f;stroke-linejoin:miter;\" x=\"319.01473\" xlink:href=\"#m52391cec65\" y=\"115.92\"/>\n     <use style=\"fill:#3f3f3f;stroke:#3f3f3f;stroke-linejoin:miter;\" x=\"318.405698\" xlink:href=\"#m52391cec65\" y=\"115.92\"/>\n     <use style=\"fill:#3f3f3f;stroke:#3f3f3f;stroke-linejoin:miter;\" x=\"318.405698\" xlink:href=\"#m52391cec65\" y=\"115.92\"/>\n     <use style=\"fill:#3f3f3f;stroke:#3f3f3f;stroke-linejoin:miter;\" x=\"318.405698\" xlink:href=\"#m52391cec65\" y=\"115.92\"/>\n     <use style=\"fill:#3f3f3f;stroke:#3f3f3f;stroke-linejoin:miter;\" x=\"318.405698\" xlink:href=\"#m52391cec65\" y=\"115.92\"/>\n     <use style=\"fill:#3f3f3f;stroke:#3f3f3f;stroke-linejoin:miter;\" x=\"318.405698\" xlink:href=\"#m52391cec65\" y=\"115.92\"/>\n     <use style=\"fill:#3f3f3f;stroke:#3f3f3f;stroke-linejoin:miter;\" x=\"318.557956\" xlink:href=\"#m52391cec65\" y=\"115.92\"/>\n     <use style=\"fill:#3f3f3f;stroke:#3f3f3f;stroke-linejoin:miter;\" x=\"318.557956\" xlink:href=\"#m52391cec65\" y=\"115.92\"/>\n     <use style=\"fill:#3f3f3f;stroke:#3f3f3f;stroke-linejoin:miter;\" x=\"318.557956\" xlink:href=\"#m52391cec65\" y=\"115.92\"/>\n     <use style=\"fill:#3f3f3f;stroke:#3f3f3f;stroke-linejoin:miter;\" x=\"318.557956\" xlink:href=\"#m52391cec65\" y=\"115.92\"/>\n     <use style=\"fill:#3f3f3f;stroke:#3f3f3f;stroke-linejoin:miter;\" x=\"318.557956\" xlink:href=\"#m52391cec65\" y=\"115.92\"/>\n     <use style=\"fill:#3f3f3f;stroke:#3f3f3f;stroke-linejoin:miter;\" x=\"318.557956\" xlink:href=\"#m52391cec65\" y=\"115.92\"/>\n     <use style=\"fill:#3f3f3f;stroke:#3f3f3f;stroke-linejoin:miter;\" x=\"318.405698\" xlink:href=\"#m52391cec65\" y=\"115.92\"/>\n     <use style=\"fill:#3f3f3f;stroke:#3f3f3f;stroke-linejoin:miter;\" x=\"319.166988\" xlink:href=\"#m52391cec65\" y=\"115.92\"/>\n     <use style=\"fill:#3f3f3f;stroke:#3f3f3f;stroke-linejoin:miter;\" x=\"319.166988\" xlink:href=\"#m52391cec65\" y=\"115.92\"/>\n     <use style=\"fill:#3f3f3f;stroke:#3f3f3f;stroke-linejoin:miter;\" x=\"319.166988\" xlink:href=\"#m52391cec65\" y=\"115.92\"/>\n     <use style=\"fill:#3f3f3f;stroke:#3f3f3f;stroke-linejoin:miter;\" x=\"317.339893\" xlink:href=\"#m52391cec65\" y=\"115.92\"/>\n     <use style=\"fill:#3f3f3f;stroke:#3f3f3f;stroke-linejoin:miter;\" x=\"313.685702\" xlink:href=\"#m52391cec65\" y=\"115.92\"/>\n     <use style=\"fill:#3f3f3f;stroke:#3f3f3f;stroke-linejoin:miter;\" x=\"317.492151\" xlink:href=\"#m52391cec65\" y=\"115.92\"/>\n     <use style=\"fill:#3f3f3f;stroke:#3f3f3f;stroke-linejoin:miter;\" x=\"318.25344\" xlink:href=\"#m52391cec65\" y=\"115.92\"/>\n     <use style=\"fill:#3f3f3f;stroke:#3f3f3f;stroke-linejoin:miter;\" x=\"317.492151\" xlink:href=\"#m52391cec65\" y=\"115.92\"/>\n     <use style=\"fill:#3f3f3f;stroke:#3f3f3f;stroke-linejoin:miter;\" x=\"318.405698\" xlink:href=\"#m52391cec65\" y=\"115.92\"/>\n     <use style=\"fill:#3f3f3f;stroke:#3f3f3f;stroke-linejoin:miter;\" x=\"318.862472\" xlink:href=\"#m52391cec65\" y=\"115.92\"/>\n     <use style=\"fill:#3f3f3f;stroke:#3f3f3f;stroke-linejoin:miter;\" x=\"315.817313\" xlink:href=\"#m52391cec65\" y=\"115.92\"/>\n     <use style=\"fill:#3f3f3f;stroke:#3f3f3f;stroke-linejoin:miter;\" x=\"318.557956\" xlink:href=\"#m52391cec65\" y=\"115.92\"/>\n     <use style=\"fill:#3f3f3f;stroke:#3f3f3f;stroke-linejoin:miter;\" x=\"318.405698\" xlink:href=\"#m52391cec65\" y=\"115.92\"/>\n     <use style=\"fill:#3f3f3f;stroke:#3f3f3f;stroke-linejoin:miter;\" x=\"315.665055\" xlink:href=\"#m52391cec65\" y=\"115.92\"/>\n     <use style=\"fill:#3f3f3f;stroke:#3f3f3f;stroke-linejoin:miter;\" x=\"318.557956\" xlink:href=\"#m52391cec65\" y=\"115.92\"/>\n     <use style=\"fill:#3f3f3f;stroke:#3f3f3f;stroke-linejoin:miter;\" x=\"315.665055\" xlink:href=\"#m52391cec65\" y=\"115.92\"/>\n     <use style=\"fill:#3f3f3f;stroke:#3f3f3f;stroke-linejoin:miter;\" x=\"318.25344\" xlink:href=\"#m52391cec65\" y=\"115.92\"/>\n     <use style=\"fill:#3f3f3f;stroke:#3f3f3f;stroke-linejoin:miter;\" x=\"319.166988\" xlink:href=\"#m52391cec65\" y=\"115.92\"/>\n     <use style=\"fill:#3f3f3f;stroke:#3f3f3f;stroke-linejoin:miter;\" x=\"319.166988\" xlink:href=\"#m52391cec65\" y=\"115.92\"/>\n     <use style=\"fill:#3f3f3f;stroke:#3f3f3f;stroke-linejoin:miter;\" x=\"319.166988\" xlink:href=\"#m52391cec65\" y=\"115.92\"/>\n     <use style=\"fill:#3f3f3f;stroke:#3f3f3f;stroke-linejoin:miter;\" x=\"319.166988\" xlink:href=\"#m52391cec65\" y=\"115.92\"/>\n     <use style=\"fill:#3f3f3f;stroke:#3f3f3f;stroke-linejoin:miter;\" x=\"319.166988\" xlink:href=\"#m52391cec65\" y=\"115.92\"/>\n    </g>\n   </g>\n   <g id=\"line2d_16\">\n    <path clip-path=\"url(#pdf48b3162a)\" d=\"M 327.997949 28.944 \nL 327.997949 202.896 \n\" style=\"fill:none;stroke:#3f3f3f;stroke-linecap:square;stroke-width:1.5;\"/>\n   </g>\n   <g id=\"patch_4\">\n    <path d=\"M 10.7 224.64 \nL 10.7 7.2 \n\" style=\"fill:none;stroke:#000000;stroke-linecap:square;stroke-linejoin:miter;stroke-width:0.8;\"/>\n   </g>\n   <g id=\"patch_5\">\n    <path d=\"M 345.5 224.64 \nL 345.5 7.2 \n\" style=\"fill:none;stroke:#000000;stroke-linecap:square;stroke-linejoin:miter;stroke-width:0.8;\"/>\n   </g>\n   <g id=\"patch_6\">\n    <path d=\"M 10.7 224.64 \nL 345.5 224.64 \n\" style=\"fill:none;stroke:#000000;stroke-linecap:square;stroke-linejoin:miter;stroke-width:0.8;\"/>\n   </g>\n   <g id=\"patch_7\">\n    <path d=\"M 10.7 7.2 \nL 345.5 7.2 \n\" style=\"fill:none;stroke:#000000;stroke-linecap:square;stroke-linejoin:miter;stroke-width:0.8;\"/>\n   </g>\n  </g>\n </g>\n <defs>\n  <clipPath id=\"pdf48b3162a\">\n   <rect height=\"217.44\" width=\"334.8\" x=\"10.7\" y=\"7.2\"/>\n  </clipPath>\n </defs>\n</svg>\n",
            "text/plain": [
              "<Figure size 432x288 with 1 Axes>"
            ]
          },
          "metadata": {
            "needs_background": "light"
          },
          "output_type": "display_data"
        }
      ],
      "source": [
        "sns.boxplot(df['YR_RMDL'])"
      ]
    },
    {
      "cell_type": "code",
      "execution_count": 151,
      "metadata": {},
      "outputs": [
        {
          "data": {
            "image/png": "[encoded data removed]",
            "image/svg+xml": "<?xml version=\"1.0\" encoding=\"utf-8\" standalone=\"no\"?>\n<!DOCTYPE svg PUBLIC \"-//W3C//DTD SVG 1.1//EN\"\n  \"http://www.w3.org/Graphics/SVG/1.1/DTD/svg11.dtd\">\n<svg height=\"1157.26875pt\" version=\"1.1\" viewBox=\"0 0 1734.528125 1157.26875\" width=\"1734.528125pt\" xmlns=\"http://www.w3.org/2000/svg\" xmlns:xlink=\"http://www.w3.org/1999/xlink\">\n <metadata>\n  <rdf:RDF xmlns:cc=\"http://creativecommons.org/ns#\" xmlns:dc=\"http://purl.org/dc/elements/1.1/\" xmlns:rdf=\"http://www.w3.org/1999/02/22-rdf-syntax-ns#\">\n   <cc:Work>\n    <dc:type rdf:resource=\"http://purl.org/dc/dcmitype/StillImage\"/>\n    <dc:date>2021-07-08T19:59:06.244560</dc:date>\n    <dc:format>image/svg+xml</dc:format>\n    <dc:creator>\n     <cc:Agent>\n      <dc:title>Matplotlib v3.4.0, https://matplotlib.org/</dc:title>\n     </cc:Agent>\n    </dc:creator>\n   </cc:Work>\n  </rdf:RDF>\n </metadata>\n <defs>\n  <style type=\"text/css\">*{stroke-linecap:butt;stroke-linejoin:round;}</style>\n </defs>\n <g id=\"figure_1\">\n  <g id=\"patch_1\">\n   <path d=\"M 0 1157.26875 \nL 1734.528125 1157.26875 \nL 1734.528125 0 \nL 0 0 \nz\n\" style=\"fill:none;\"/>\n  </g>\n  <g id=\"axes_1\">\n   <g id=\"patch_2\">\n    <path d=\"M 53.328125 1094.4 \nL 1727.328125 1094.4 \nL 1727.328125 7.2 \nL 53.328125 7.2 \nz\n\" style=\"fill:#ffffff;\"/>\n   </g>\n   <g id=\"patch_3\">\n    <path clip-path=\"url(#p3b53bea94c)\" d=\"M 54.849943 1094.4 \nL 67.024489 1094.4 \nL 67.024489 1094.194108 \nL 54.849943 1094.194108 \nz\n\" style=\"fill:#ea96a3;\"/>\n   </g>\n   <g id=\"patch_4\">\n    <path clip-path=\"url(#p3b53bea94c)\" d=\"M 70.068125 1094.4 \nL 82.24267 1094.4 \nL 82.24267 1093.988217 \nL 70.068125 1093.988217 \nz\n\" style=\"fill:#ea969f;\"/>\n   </g>\n   <g id=\"patch_5\">\n    <path clip-path=\"url(#p3b53bea94c)\" d=\"M 85.286307 1094.4 \nL 97.460852 1094.4 \nL 97.460852 1093.988217 \nL 85.286307 1093.988217 \nz\n\" style=\"fill:#ea979a;\"/>\n   </g>\n   <g id=\"patch_6\">\n    <path clip-path=\"url(#p3b53bea94c)\" d=\"M 100.504489 1094.4 \nL 112.679034 1094.4 \nL 112.679034 1094.194108 \nL 100.504489 1094.194108 \nz\n\" style=\"fill:#ea9795;\"/>\n   </g>\n   <g id=\"patch_7\">\n    <path clip-path=\"url(#p3b53bea94c)\" d=\"M 115.72267 1094.4 \nL 127.897216 1094.4 \nL 127.897216 1094.194108 \nL 115.72267 1094.194108 \nz\n\" style=\"fill:#e9978e;\"/>\n   </g>\n   <g id=\"patch_8\">\n    <path clip-path=\"url(#p3b53bea94c)\" d=\"M 130.940852 1094.4 \nL 143.115398 1094.4 \nL 143.115398 1094.194108 \nL 130.940852 1094.194108 \nz\n\" style=\"fill:#e89687;\"/>\n   </g>\n   <g id=\"patch_9\">\n    <path clip-path=\"url(#p3b53bea94c)\" d=\"M 146.159034 1094.4 \nL 158.33358 1094.4 \nL 158.33358 1094.194108 \nL 146.159034 1094.194108 \nz\n\" style=\"fill:#e7957f;\"/>\n   </g>\n   <g id=\"patch_10\">\n    <path clip-path=\"url(#p3b53bea94c)\" d=\"M 161.377216 1094.4 \nL 173.551761 1094.4 \nL 173.551761 1094.194108 \nL 161.377216 1094.194108 \nz\n\" style=\"fill:#e59574;\"/>\n   </g>\n   <g id=\"patch_11\">\n    <path clip-path=\"url(#p3b53bea94c)\" d=\"M 176.595398 1094.4 \nL 188.769943 1094.4 \nL 188.769943 1093.988217 \nL 176.595398 1093.988217 \nz\n\" style=\"fill:#e49368;\"/>\n   </g>\n   <g id=\"patch_12\">\n    <path clip-path=\"url(#p3b53bea94c)\" d=\"M 191.81358 1094.4 \nL 203.988125 1094.4 \nL 203.988125 1093.988217 \nL 191.81358 1093.988217 \nz\n\" style=\"fill:#e19256;\"/>\n   </g>\n   <g id=\"patch_13\">\n    <path clip-path=\"url(#p3b53bea94c)\" d=\"M 207.031761 1094.4 \nL 219.206307 1094.4 \nL 219.206307 1093.576434 \nL 207.031761 1093.576434 \nz\n\" style=\"fill:#dc924e;\"/>\n   </g>\n   <g id=\"patch_14\">\n    <path clip-path=\"url(#p3b53bea94c)\" d=\"M 222.249943 1094.4 \nL 234.424489 1094.4 \nL 234.424489 1093.988217 \nL 222.249943 1093.988217 \nz\n\" style=\"fill:#d7944e;\"/>\n   </g>\n   <g id=\"patch_15\">\n    <path clip-path=\"url(#p3b53bea94c)\" d=\"M 237.468125 1094.4 \nL 249.64267 1094.4 \nL 249.64267 1093.782325 \nL 237.468125 1093.782325 \nz\n\" style=\"fill:#d2954d;\"/>\n   </g>\n   <g id=\"patch_16\">\n    <path clip-path=\"url(#p3b53bea94c)\" d=\"M 252.686307 1094.4 \nL 264.860852 1094.4 \nL 264.860852 1092.958759 \nL 252.686307 1092.958759 \nz\n\" style=\"fill:#ce974c;\"/>\n   </g>\n   <g id=\"patch_17\">\n    <path clip-path=\"url(#p3b53bea94c)\" d=\"M 267.904489 1094.4 \nL 280.079034 1094.4 \nL 280.079034 1093.370542 \nL 267.904489 1093.370542 \nz\n\" style=\"fill:#c9984c;\"/>\n   </g>\n   <g id=\"patch_18\">\n    <path clip-path=\"url(#p3b53bea94c)\" d=\"M 283.12267 1094.4 \nL 295.297216 1094.4 \nL 295.297216 1092.135193 \nL 283.12267 1092.135193 \nz\n\" style=\"fill:#c5994b;\"/>\n   </g>\n   <g id=\"patch_19\">\n    <path clip-path=\"url(#p3b53bea94c)\" d=\"M 298.340852 1094.4 \nL 310.515398 1094.4 \nL 310.515398 1093.370542 \nL 298.340852 1093.370542 \nz\n\" style=\"fill:#c19a4a;\"/>\n   </g>\n   <g id=\"patch_20\">\n    <path clip-path=\"url(#p3b53bea94c)\" d=\"M 313.559034 1094.4 \nL 325.73358 1094.4 \nL 325.73358 1092.752868 \nL 313.559034 1092.752868 \nz\n\" style=\"fill:#bd9b4a;\"/>\n   </g>\n   <g id=\"patch_21\">\n    <path clip-path=\"url(#p3b53bea94c)\" d=\"M 328.777216 1094.4 \nL 340.951761 1094.4 \nL 340.951761 1093.164651 \nL 328.777216 1093.164651 \nz\n\" style=\"fill:#ba9b49;\"/>\n   </g>\n   <g id=\"patch_22\">\n    <path clip-path=\"url(#p3b53bea94c)\" d=\"M 343.995398 1094.4 \nL 356.169943 1094.4 \nL 356.169943 1092.752868 \nL 343.995398 1092.752868 \nz\n\" style=\"fill:#b69c49;\"/>\n   </g>\n   <g id=\"patch_23\">\n    <path clip-path=\"url(#p3b53bea94c)\" d=\"M 359.21358 1094.4 \nL 371.388125 1094.4 \nL 371.388125 1092.546976 \nL 359.21358 1092.546976 \nz\n\" style=\"fill:#b39d48;\"/>\n   </g>\n   <g id=\"patch_24\">\n    <path clip-path=\"url(#p3b53bea94c)\" d=\"M 374.431761 1094.4 \nL 386.606307 1094.4 \nL 386.606307 1093.164651 \nL 374.431761 1093.164651 \nz\n\" style=\"fill:#af9d48;\"/>\n   </g>\n   <g id=\"patch_25\">\n    <path clip-path=\"url(#p3b53bea94c)\" d=\"M 389.649943 1094.4 \nL 401.824489 1094.4 \nL 401.824489 1093.576434 \nL 389.649943 1093.576434 \nz\n\" style=\"fill:#ab9e47;\"/>\n   </g>\n   <g id=\"patch_26\">\n    <path clip-path=\"url(#p3b53bea94c)\" d=\"M 404.868125 1094.4 \nL 417.04267 1094.4 \nL 417.04267 1093.782325 \nL 404.868125 1093.782325 \nz\n\" style=\"fill:#a89e47;\"/>\n   </g>\n   <g id=\"patch_27\">\n    <path clip-path=\"url(#p3b53bea94c)\" d=\"M 420.086307 1094.4 \nL 432.260852 1094.4 \nL 432.260852 1093.370542 \nL 420.086307 1093.370542 \nz\n\" style=\"fill:#a49f46;\"/>\n   </g>\n   <g id=\"patch_28\">\n    <path clip-path=\"url(#p3b53bea94c)\" d=\"M 435.304489 1094.4 \nL 447.479034 1094.4 \nL 447.479034 1092.546976 \nL 435.304489 1092.546976 \nz\n\" style=\"fill:#a09f45;\"/>\n   </g>\n   <g id=\"patch_29\">\n    <path clip-path=\"url(#p3b53bea94c)\" d=\"M 450.52267 1094.4 \nL 462.697216 1094.4 \nL 462.697216 1092.958759 \nL 450.52267 1092.958759 \nz\n\" style=\"fill:#9da045;\"/>\n   </g>\n   <g id=\"patch_30\">\n    <path clip-path=\"url(#p3b53bea94c)\" d=\"M 465.740852 1094.4 \nL 477.915398 1094.4 \nL 477.915398 1094.194108 \nL 465.740852 1094.194108 \nz\n\" style=\"fill:#9aa146;\"/>\n   </g>\n   <g id=\"patch_31\">\n    <path clip-path=\"url(#p3b53bea94c)\" d=\"M 480.959034 1094.4 \nL 493.13358 1094.4 \nL 493.13358 1093.576434 \nL 480.959034 1093.576434 \nz\n\" style=\"fill:#96a346;\"/>\n   </g>\n   <g id=\"patch_32\">\n    <path clip-path=\"url(#p3b53bea94c)\" d=\"M 496.177216 1094.4 \nL 508.351761 1094.4 \nL 508.351761 1093.164651 \nL 496.177216 1093.164651 \nz\n\" style=\"fill:#92a446;\"/>\n   </g>\n   <g id=\"patch_33\">\n    <path clip-path=\"url(#p3b53bea94c)\" d=\"M 511.395398 1094.4 \nL 523.569943 1094.4 \nL 523.569943 1089.870386 \nL 511.395398 1089.870386 \nz\n\" style=\"fill:#8ea546;\"/>\n   </g>\n   <g id=\"patch_34\">\n    <path clip-path=\"url(#p3b53bea94c)\" d=\"M 526.61358 1094.4 \nL 538.788125 1094.4 \nL 538.788125 1090.693952 \nL 526.61358 1090.693952 \nz\n\" style=\"fill:#8aa646;\"/>\n   </g>\n   <g id=\"patch_35\">\n    <path clip-path=\"url(#p3b53bea94c)\" d=\"M 541.831761 1094.4 \nL 554.006307 1094.4 \nL 554.006307 1091.72341 \nL 541.831761 1091.72341 \nz\n\" style=\"fill:#85a746;\"/>\n   </g>\n   <g id=\"patch_36\">\n    <path clip-path=\"url(#p3b53bea94c)\" d=\"M 557.049943 1094.4 \nL 569.224489 1094.4 \nL 569.224489 1093.576434 \nL 557.049943 1093.576434 \nz\n\" style=\"fill:#7fa946;\"/>\n   </g>\n   <g id=\"patch_37\">\n    <path clip-path=\"url(#p3b53bea94c)\" d=\"M 572.268125 1094.4 \nL 584.44267 1094.4 \nL 584.44267 1092.752868 \nL 572.268125 1092.752868 \nz\n\" style=\"fill:#79aa47;\"/>\n   </g>\n   <g id=\"patch_38\">\n    <path clip-path=\"url(#p3b53bea94c)\" d=\"M 587.486307 1094.4 \nL 599.660852 1094.4 \nL 599.660852 1091.105735 \nL 587.486307 1091.105735 \nz\n\" style=\"fill:#71ac47;\"/>\n   </g>\n   <g id=\"patch_39\">\n    <path clip-path=\"url(#p3b53bea94c)\" d=\"M 602.704489 1094.4 \nL 614.879034 1094.4 \nL 614.879034 1088.017362 \nL 602.704489 1088.017362 \nz\n\" style=\"fill:#68ad47;\"/>\n   </g>\n   <g id=\"patch_40\">\n    <path clip-path=\"url(#p3b53bea94c)\" d=\"M 617.92267 1094.4 \nL 630.097216 1094.4 \nL 630.097216 1089.664495 \nL 617.92267 1089.664495 \nz\n\" style=\"fill:#5baf47;\"/>\n   </g>\n   <g id=\"patch_41\">\n    <path clip-path=\"url(#p3b53bea94c)\" d=\"M 633.140852 1094.4 \nL 645.315398 1094.4 \nL 645.315398 1089.870386 \nL 633.140852 1089.870386 \nz\n\" style=\"fill:#48b147;\"/>\n   </g>\n   <g id=\"patch_42\">\n    <path clip-path=\"url(#p3b53bea94c)\" d=\"M 648.359034 1094.4 \nL 660.53358 1094.4 \nL 660.53358 1089.04682 \nL 648.359034 1089.04682 \nz\n\" style=\"fill:#48b05a;\"/>\n   </g>\n   <g id=\"patch_43\">\n    <path clip-path=\"url(#p3b53bea94c)\" d=\"M 663.577216 1094.4 \nL 675.751761 1094.4 \nL 675.751761 1082.252399 \nL 663.577216 1082.252399 \nz\n\" style=\"fill:#48b067;\"/>\n   </g>\n   <g id=\"patch_44\">\n    <path clip-path=\"url(#p3b53bea94c)\" d=\"M 678.795398 1094.4 \nL 690.969943 1094.4 \nL 690.969943 1088.017362 \nL 678.795398 1088.017362 \nz\n\" style=\"fill:#48af70;\"/>\n   </g>\n   <g id=\"patch_45\">\n    <path clip-path=\"url(#p3b53bea94c)\" d=\"M 694.01358 1094.4 \nL 706.188125 1094.4 \nL 706.188125 1079.164026 \nL 694.01358 1079.164026 \nz\n\" style=\"fill:#49af77;\"/>\n   </g>\n   <g id=\"patch_46\">\n    <path clip-path=\"url(#p3b53bea94c)\" d=\"M 709.231761 1094.4 \nL 721.406307 1094.4 \nL 721.406307 1086.164338 \nL 709.231761 1086.164338 \nz\n\" style=\"fill:#49ae7d;\"/>\n   </g>\n   <g id=\"patch_47\">\n    <path clip-path=\"url(#p3b53bea94c)\" d=\"M 724.449943 1094.4 \nL 736.624489 1094.4 \nL 736.624489 1087.811471 \nL 724.449943 1087.811471 \nz\n\" style=\"fill:#49ae83;\"/>\n   </g>\n   <g id=\"patch_48\">\n    <path clip-path=\"url(#p3b53bea94c)\" d=\"M 739.668125 1094.4 \nL 751.84267 1094.4 \nL 751.84267 1082.664182 \nL 739.668125 1082.664182 \nz\n\" style=\"fill:#49ae87;\"/>\n   </g>\n   <g id=\"patch_49\">\n    <path clip-path=\"url(#p3b53bea94c)\" d=\"M 754.886307 1094.4 \nL 767.060852 1094.4 \nL 767.060852 1084.517206 \nL 754.886307 1084.517206 \nz\n\" style=\"fill:#4aad8b;\"/>\n   </g>\n   <g id=\"patch_50\">\n    <path clip-path=\"url(#p3b53bea94c)\" d=\"M 770.104489 1094.4 \nL 782.279034 1094.4 \nL 782.279034 1087.399688 \nL 770.104489 1087.399688 \nz\n\" style=\"fill:#4aad8f;\"/>\n   </g>\n   <g id=\"patch_51\">\n    <path clip-path=\"url(#p3b53bea94c)\" d=\"M 785.32267 1094.4 \nL 797.497216 1094.4 \nL 797.497216 1083.281857 \nL 785.32267 1083.281857 \nz\n\" style=\"fill:#4aad92;\"/>\n   </g>\n   <g id=\"patch_52\">\n    <path clip-path=\"url(#p3b53bea94c)\" d=\"M 800.540852 1094.4 \nL 812.715398 1094.4 \nL 812.715398 1078.752243 \nL 800.540852 1078.752243 \nz\n\" style=\"fill:#4aad95;\"/>\n   </g>\n   <g id=\"patch_53\">\n    <path clip-path=\"url(#p3b53bea94c)\" d=\"M 815.759034 1094.4 \nL 827.93358 1094.4 \nL 827.93358 1049.721535 \nL 815.759034 1049.721535 \nz\n\" style=\"fill:#4aac98;\"/>\n   </g>\n   <g id=\"patch_54\">\n    <path clip-path=\"url(#p3b53bea94c)\" d=\"M 830.977216 1094.4 \nL 843.151761 1094.4 \nL 843.151761 1068.663557 \nL 830.977216 1068.663557 \nz\n\" style=\"fill:#4aac9a;\"/>\n   </g>\n   <g id=\"patch_55\">\n    <path clip-path=\"url(#p3b53bea94c)\" d=\"M 846.195398 1094.4 \nL 858.369943 1094.4 \nL 858.369943 1041.897656 \nL 846.195398 1041.897656 \nz\n\" style=\"fill:#4bac9d;\"/>\n   </g>\n   <g id=\"patch_56\">\n    <path clip-path=\"url(#p3b53bea94c)\" d=\"M 861.41358 1094.4 \nL 873.588125 1094.4 \nL 873.588125 1057.957197 \nL 861.41358 1057.957197 \nz\n\" style=\"fill:#4bac9f;\"/>\n   </g>\n   <g id=\"patch_57\">\n    <path clip-path=\"url(#p3b53bea94c)\" d=\"M 876.631761 1094.4 \nL 888.806307 1094.4 \nL 888.806307 1056.927739 \nL 876.631761 1056.927739 \nz\n\" style=\"fill:#4baba2;\"/>\n   </g>\n   <g id=\"patch_58\">\n    <path clip-path=\"url(#p3b53bea94c)\" d=\"M 891.849943 1094.4 \nL 904.024489 1094.4 \nL 904.024489 987.748181 \nL 891.849943 987.748181 \nz\n\" style=\"fill:#4baba4;\"/>\n   </g>\n   <g id=\"patch_59\">\n    <path clip-path=\"url(#p3b53bea94c)\" d=\"M 907.068125 1094.4 \nL 919.24267 1094.4 \nL 919.24267 1067.428208 \nL 907.068125 1067.428208 \nz\n\" style=\"fill:#4baba6;\"/>\n   </g>\n   <g id=\"patch_60\">\n    <path clip-path=\"url(#p3b53bea94c)\" d=\"M 922.286307 1094.4 \nL 934.460852 1094.4 \nL 934.460852 1070.104798 \nL 922.286307 1070.104798 \nz\n\" style=\"fill:#4baba9;\"/>\n   </g>\n   <g id=\"patch_61\">\n    <path clip-path=\"url(#p3b53bea94c)\" d=\"M 937.504489 1094.4 \nL 949.679034 1094.4 \nL 949.679034 1060.427895 \nL 937.504489 1060.427895 \nz\n\" style=\"fill:#4babab;\"/>\n   </g>\n   <g id=\"patch_62\">\n    <path clip-path=\"url(#p3b53bea94c)\" d=\"M 952.72267 1094.4 \nL 964.897216 1094.4 \nL 964.897216 1066.192859 \nL 952.72267 1066.192859 \nz\n\" style=\"fill:#4cabae;\"/>\n   </g>\n   <g id=\"patch_63\">\n    <path clip-path=\"url(#p3b53bea94c)\" d=\"M 967.940852 1094.4 \nL 980.115398 1094.4 \nL 980.115398 1010.190359 \nL 967.940852 1010.190359 \nz\n\" style=\"fill:#4dabb0;\"/>\n   </g>\n   <g id=\"patch_64\">\n    <path clip-path=\"url(#p3b53bea94c)\" d=\"M 983.159034 1094.4 \nL 995.33358 1094.4 \nL 995.33358 1057.545414 \nL 983.159034 1057.545414 \nz\n\" style=\"fill:#4dabb3;\"/>\n   </g>\n   <g id=\"patch_65\">\n    <path clip-path=\"url(#p3b53bea94c)\" d=\"M 998.377216 1094.4 \nL 1010.551761 1094.4 \nL 1010.551761 1015.131756 \nL 998.377216 1015.131756 \nz\n\" style=\"fill:#4eabb6;\"/>\n   </g>\n   <g id=\"patch_66\">\n    <path clip-path=\"url(#p3b53bea94c)\" d=\"M 1013.595398 1094.4 \nL 1025.769943 1094.4 \nL 1025.769943 1031.397188 \nL 1013.595398 1031.397188 \nz\n\" style=\"fill:#4eabb9;\"/>\n   </g>\n   <g id=\"patch_67\">\n    <path clip-path=\"url(#p3b53bea94c)\" d=\"M 1028.81358 1094.4 \nL 1040.988125 1094.4 \nL 1040.988125 1022.33796 \nL 1028.81358 1022.33796 \nz\n\" style=\"fill:#4fabbc;\"/>\n   </g>\n   <g id=\"patch_68\">\n    <path clip-path=\"url(#p3b53bea94c)\" d=\"M 1044.031761 1094.4 \nL 1056.206307 1094.4 \nL 1056.206307 800.798659 \nL 1044.031761 800.798659 \nz\n\" style=\"fill:#50acbf;\"/>\n   </g>\n   <g id=\"patch_69\">\n    <path clip-path=\"url(#p3b53bea94c)\" d=\"M 1059.249943 1094.4 \nL 1071.424489 1094.4 \nL 1071.424489 986.924614 \nL 1059.249943 986.924614 \nz\n\" style=\"fill:#50acc3;\"/>\n   </g>\n   <g id=\"patch_70\">\n    <path clip-path=\"url(#p3b53bea94c)\" d=\"M 1074.468125 1094.4 \nL 1086.64267 1094.4 \nL 1086.64267 984.042133 \nL 1074.468125 984.042133 \nz\n\" style=\"fill:#51acc6;\"/>\n   </g>\n   <g id=\"patch_71\">\n    <path clip-path=\"url(#p3b53bea94c)\" d=\"M 1089.686307 1094.4 \nL 1101.860852 1094.4 \nL 1101.860852 540.551748 \nL 1089.686307 540.551748 \nz\n\" style=\"fill:#52acca;\"/>\n   </g>\n   <g id=\"patch_72\">\n    <path clip-path=\"url(#p3b53bea94c)\" d=\"M 1104.904489 1094.4 \nL 1117.079034 1094.4 \nL 1117.079034 665.733807 \nL 1104.904489 665.733807 \nz\n\" style=\"fill:#53acce;\"/>\n   </g>\n   <g id=\"patch_73\">\n    <path clip-path=\"url(#p3b53bea94c)\" d=\"M 1120.12267 1094.4 \nL 1132.297216 1094.4 \nL 1132.297216 412.898992 \nL 1120.12267 412.898992 \nz\n\" style=\"fill:#54acd3;\"/>\n   </g>\n   <g id=\"patch_74\">\n    <path clip-path=\"url(#p3b53bea94c)\" d=\"M 1135.340852 1094.4 \nL 1147.515398 1094.4 \nL 1147.515398 758.590893 \nL 1135.340852 758.590893 \nz\n\" style=\"fill:#55acd8;\"/>\n   </g>\n   <g id=\"patch_75\">\n    <path clip-path=\"url(#p3b53bea94c)\" d=\"M 1150.559034 1094.4 \nL 1162.73358 1094.4 \nL 1162.73358 729.766077 \nL 1150.559034 729.766077 \nz\n\" style=\"fill:#57adde;\"/>\n   </g>\n   <g id=\"patch_76\">\n    <path clip-path=\"url(#p3b53bea94c)\" d=\"M 1165.777216 1094.4 \nL 1177.951761 1094.4 \nL 1177.951761 926.804284 \nL 1165.777216 926.804284 \nz\n\" style=\"fill:#68aee2;\"/>\n   </g>\n   <g id=\"patch_77\">\n    <path clip-path=\"url(#p3b53bea94c)\" d=\"M 1180.995398 1094.4 \nL 1193.169943 1094.4 \nL 1193.169943 947.393438 \nL 1180.995398 947.393438 \nz\n\" style=\"fill:#76aee4;\"/>\n   </g>\n   <g id=\"patch_78\">\n    <path clip-path=\"url(#p3b53bea94c)\" d=\"M 1196.21358 1094.4 \nL 1208.388125 1094.4 \nL 1208.388125 927.010175 \nL 1196.21358 927.010175 \nz\n\" style=\"fill:#82aee5;\"/>\n   </g>\n   <g id=\"patch_79\">\n    <path clip-path=\"url(#p3b53bea94c)\" d=\"M 1211.431761 1094.4 \nL 1223.606307 1094.4 \nL 1223.606307 914.450791 \nL 1211.431761 914.450791 \nz\n\" style=\"fill:#8baee7;\"/>\n   </g>\n   <g id=\"patch_80\">\n    <path clip-path=\"url(#p3b53bea94c)\" d=\"M 1226.649943 1094.4 \nL 1238.824489 1094.4 \nL 1238.824489 893.861637 \nL 1226.649943 893.861637 \nz\n\" style=\"fill:#94aee8;\"/>\n   </g>\n   <g id=\"patch_81\">\n    <path clip-path=\"url(#p3b53bea94c)\" d=\"M 1241.868125 1094.4 \nL 1254.04267 1094.4 \nL 1254.04267 912.391876 \nL 1241.868125 912.391876 \nz\n\" style=\"fill:#9cade9;\"/>\n   </g>\n   <g id=\"patch_82\">\n    <path clip-path=\"url(#p3b53bea94c)\" d=\"M 1257.086307 1094.4 \nL 1269.260852 1094.4 \nL 1269.260852 927.833741 \nL 1257.086307 927.833741 \nz\n\" style=\"fill:#a3adea;\"/>\n   </g>\n   <g id=\"patch_83\">\n    <path clip-path=\"url(#p3b53bea94c)\" d=\"M 1272.304489 1094.4 \nL 1284.479034 1094.4 \nL 1284.479034 866.27217 \nL 1272.304489 866.27217 \nz\n\" style=\"fill:#a9aceb;\"/>\n   </g>\n   <g id=\"patch_84\">\n    <path clip-path=\"url(#p3b53bea94c)\" d=\"M 1287.52267 1094.4 \nL 1299.697216 1094.4 \nL 1299.697216 906.626912 \nL 1287.52267 906.626912 \nz\n\" style=\"fill:#afabeb;\"/>\n   </g>\n   <g id=\"patch_85\">\n    <path clip-path=\"url(#p3b53bea94c)\" d=\"M 1302.740852 1094.4 \nL 1314.915398 1094.4 \nL 1314.915398 909.715286 \nL 1302.740852 909.715286 \nz\n\" style=\"fill:#b4a9eb;\"/>\n   </g>\n   <g id=\"patch_86\">\n    <path clip-path=\"url(#p3b53bea94c)\" d=\"M 1317.959034 1094.4 \nL 1330.13358 1094.4 \nL 1330.13358 1021.926177 \nL 1317.959034 1021.926177 \nz\n\" style=\"fill:#b8a7eb;\"/>\n   </g>\n   <g id=\"patch_87\">\n    <path clip-path=\"url(#p3b53bea94c)\" d=\"M 1333.177216 1094.4 \nL 1345.351761 1094.4 \nL 1345.351761 1024.396875 \nL 1333.177216 1024.396875 \nz\n\" style=\"fill:#bda5ea;\"/>\n   </g>\n   <g id=\"patch_88\">\n    <path clip-path=\"url(#p3b53bea94c)\" d=\"M 1348.395398 1094.4 \nL 1360.569943 1094.4 \nL 1360.569943 998.042758 \nL 1348.395398 998.042758 \nz\n\" style=\"fill:#c1a2ea;\"/>\n   </g>\n   <g id=\"patch_89\">\n    <path clip-path=\"url(#p3b53bea94c)\" d=\"M 1363.61358 1094.4 \nL 1375.788125 1094.4 \nL 1375.788125 1020.279044 \nL 1363.61358 1020.279044 \nz\n\" style=\"fill:#c5a0ea;\"/>\n   </g>\n   <g id=\"patch_90\">\n    <path clip-path=\"url(#p3b53bea94c)\" d=\"M 1378.831761 1094.4 \nL 1391.006307 1094.4 \nL 1391.006307 1053.633474 \nL 1378.831761 1053.633474 \nz\n\" style=\"fill:#ca9ee9;\"/>\n   </g>\n   <g id=\"patch_91\">\n    <path clip-path=\"url(#p3b53bea94c)\" d=\"M 1394.049943 1094.4 \nL 1406.224489 1094.4 \nL 1406.224489 973.747556 \nL 1394.049943 973.747556 \nz\n\" style=\"fill:#ce9be9;\"/>\n   </g>\n   <g id=\"patch_92\">\n    <path clip-path=\"url(#p3b53bea94c)\" d=\"M 1409.268125 1094.4 \nL 1421.44267 1094.4 \nL 1421.44267 1013.07284 \nL 1409.268125 1013.07284 \nz\n\" style=\"fill:#d298e8;\"/>\n   </g>\n   <g id=\"patch_93\">\n    <path clip-path=\"url(#p3b53bea94c)\" d=\"M 1424.486307 1094.4 \nL 1436.660852 1094.4 \nL 1436.660852 759.208567 \nL 1424.486307 759.208567 \nz\n\" style=\"fill:#d795e8;\"/>\n   </g>\n   <g id=\"patch_94\">\n    <path clip-path=\"url(#p3b53bea94c)\" d=\"M 1439.704489 1094.4 \nL 1451.879034 1094.4 \nL 1451.879034 885.0083 \nL 1439.704489 885.0083 \nz\n\" style=\"fill:#dc92e8;\"/>\n   </g>\n   <g id=\"patch_95\">\n    <path clip-path=\"url(#p3b53bea94c)\" d=\"M 1454.92267 1094.4 \nL 1467.097216 1094.4 \nL 1467.097216 723.58933 \nL 1454.92267 723.58933 \nz\n\" style=\"fill:#e08ee7;\"/>\n   </g>\n   <g id=\"patch_96\">\n    <path clip-path=\"url(#p3b53bea94c)\" d=\"M 1470.140852 1094.4 \nL 1482.315398 1094.4 \nL 1482.315398 486.814056 \nL 1470.140852 486.814056 \nz\n\" style=\"fill:#e589e6;\"/>\n   </g>\n   <g id=\"patch_97\">\n    <path clip-path=\"url(#p3b53bea94c)\" d=\"M 1485.359034 1094.4 \nL 1497.53358 1094.4 \nL 1497.53358 273.9222 \nL 1485.359034 273.9222 \nz\n\" style=\"fill:#e689e2;\"/>\n   </g>\n   <g id=\"patch_98\">\n    <path clip-path=\"url(#p3b53bea94c)\" d=\"M 1500.577216 1094.4 \nL 1512.751761 1094.4 \nL 1512.751761 77.913451 \nL 1500.577216 77.913451 \nz\n\" style=\"fill:#e78bdd;\"/>\n   </g>\n   <g id=\"patch_99\">\n    <path clip-path=\"url(#p3b53bea94c)\" d=\"M 1515.795398 1094.4 \nL 1527.969943 1094.4 \nL 1527.969943 58.971429 \nL 1515.795398 58.971429 \nz\n\" style=\"fill:#e78cd8;\"/>\n   </g>\n   <g id=\"patch_100\">\n    <path clip-path=\"url(#p3b53bea94c)\" d=\"M 1531.01358 1094.4 \nL 1543.188125 1094.4 \nL 1543.188125 317.98299 \nL 1531.01358 317.98299 \nz\n\" style=\"fill:#e78dd4;\"/>\n   </g>\n   <g id=\"patch_101\">\n    <path clip-path=\"url(#p3b53bea94c)\" d=\"M 1546.231761 1094.4 \nL 1558.406307 1094.4 \nL 1558.406307 524.903991 \nL 1546.231761 524.903991 \nz\n\" style=\"fill:#e88ed0;\"/>\n   </g>\n   <g id=\"patch_102\">\n    <path clip-path=\"url(#p3b53bea94c)\" d=\"M 1561.449943 1094.4 \nL 1573.624489 1094.4 \nL 1573.624489 574.729745 \nL 1561.449943 574.729745 \nz\n\" style=\"fill:#e88fcc;\"/>\n   </g>\n   <g id=\"patch_103\">\n    <path clip-path=\"url(#p3b53bea94c)\" d=\"M 1576.668125 1094.4 \nL 1588.84267 1094.4 \nL 1588.84267 542.610664 \nL 1576.668125 542.610664 \nz\n\" style=\"fill:#e88fc9;\"/>\n   </g>\n   <g id=\"patch_104\">\n    <path clip-path=\"url(#p3b53bea94c)\" d=\"M 1591.886307 1094.4 \nL 1604.060852 1094.4 \nL 1604.060852 506.373752 \nL 1591.886307 506.373752 \nz\n\" style=\"fill:#e890c5;\"/>\n   </g>\n   <g id=\"patch_105\">\n    <path clip-path=\"url(#p3b53bea94c)\" d=\"M 1607.104489 1094.4 \nL 1619.279034 1094.4 \nL 1619.279034 549.199193 \nL 1607.104489 549.199193 \nz\n\" style=\"fill:#e891c2;\"/>\n   </g>\n   <g id=\"patch_106\">\n    <path clip-path=\"url(#p3b53bea94c)\" d=\"M 1622.32267 1094.4 \nL 1634.497216 1094.4 \nL 1634.497216 567.111758 \nL 1622.32267 567.111758 \nz\n\" style=\"fill:#e992be;\"/>\n   </g>\n   <g id=\"patch_107\">\n    <path clip-path=\"url(#p3b53bea94c)\" d=\"M 1637.540852 1094.4 \nL 1649.715398 1094.4 \nL 1649.715398 549.816868 \nL 1637.540852 549.816868 \nz\n\" style=\"fill:#e992bb;\"/>\n   </g>\n   <g id=\"patch_108\">\n    <path clip-path=\"url(#p3b53bea94c)\" d=\"M 1652.759034 1094.4 \nL 1664.93358 1094.4 \nL 1664.93358 560.111445 \nL 1652.759034 560.111445 \nz\n\" style=\"fill:#e993b7;\"/>\n   </g>\n   <g id=\"patch_109\">\n    <path clip-path=\"url(#p3b53bea94c)\" d=\"M 1667.977216 1094.4 \nL 1680.151761 1094.4 \nL 1680.151761 643.49752 \nL 1667.977216 643.49752 \nz\n\" style=\"fill:#e993b4;\"/>\n   </g>\n   <g id=\"patch_110\">\n    <path clip-path=\"url(#p3b53bea94c)\" d=\"M 1683.195398 1094.4 \nL 1695.369943 1094.4 \nL 1695.369943 684.469937 \nL 1683.195398 684.469937 \nz\n\" style=\"fill:#e994b0;\"/>\n   </g>\n   <g id=\"patch_111\">\n    <path clip-path=\"url(#p3b53bea94c)\" d=\"M 1698.41358 1094.4 \nL 1710.588125 1094.4 \nL 1710.588125 1008.543226 \nL 1698.41358 1008.543226 \nz\n\" style=\"fill:#e995ac;\"/>\n   </g>\n   <g id=\"patch_112\">\n    <path clip-path=\"url(#p3b53bea94c)\" d=\"M 1713.631761 1094.4 \nL 1725.806307 1094.4 \nL 1725.806307 1094.194108 \nL 1713.631761 1094.194108 \nz\n\" style=\"fill:#e995a7;\"/>\n   </g>\n   <g id=\"matplotlib.axis_1\">\n    <g id=\"xtick_1\">\n     <g id=\"line2d_1\">\n      <defs>\n       <path d=\"M 0 0 \nL 0 3.5 \n\" id=\"m5dea25c551\" style=\"stroke:#000000;stroke-width:0.8;\"/>\n      </defs>\n      <g>\n       <use style=\"stroke:#000000;stroke-width:0.8;\" x=\"60.937216\" xlink:href=\"#m5dea25c551\" y=\"1094.4\"/>\n      </g>\n     </g>\n     <g id=\"text_1\">\n      <!-- 20.0 -->\n      <g transform=\"translate(63.696591 1123.665625)rotate(-90)scale(0.1 -0.1)\">\n       <defs>\n        <path d=\"M 1228 531 \nL 3431 531 \nL 3431 0 \nL 469 0 \nL 469 531 \nQ 828 903 1448 1529 \nQ 2069 2156 2228 2338 \nQ 2531 2678 2651 2914 \nQ 2772 3150 2772 3378 \nQ 2772 3750 2511 3984 \nQ 2250 4219 1831 4219 \nQ 1534 4219 1204 4116 \nQ 875 4013 500 3803 \nL 500 4441 \nQ 881 4594 1212 4672 \nQ 1544 4750 1819 4750 \nQ 2544 4750 2975 4387 \nQ 3406 4025 3406 3419 \nQ 3406 3131 3298 2873 \nQ 3191 2616 2906 2266 \nQ 2828 2175 2409 1742 \nQ 1991 1309 1228 531 \nz\n\" id=\"DejaVuSans-32\" transform=\"scale(0.015625)\"/>\n        <path d=\"M 2034 4250 \nQ 1547 4250 1301 3770 \nQ 1056 3291 1056 2328 \nQ 1056 1369 1301 889 \nQ 1547 409 2034 409 \nQ 2525 409 2770 889 \nQ 3016 1369 3016 2328 \nQ 3016 3291 2770 3770 \nQ 2525 4250 2034 4250 \nz\nM 2034 4750 \nQ 2819 4750 3233 4129 \nQ 3647 3509 3647 2328 \nQ 3647 1150 3233 529 \nQ 2819 -91 2034 -91 \nQ 1250 -91 836 529 \nQ 422 1150 422 2328 \nQ 422 3509 836 4129 \nQ 1250 4750 2034 4750 \nz\n\" id=\"DejaVuSans-30\" transform=\"scale(0.015625)\"/>\n        <path d=\"M 684 794 \nL 1344 794 \nL 1344 0 \nL 684 0 \nL 684 794 \nz\n\" id=\"DejaVuSans-2e\" transform=\"scale(0.015625)\"/>\n       </defs>\n       <use xlink:href=\"#DejaVuSans-32\"/>\n       <use x=\"63.623047\" xlink:href=\"#DejaVuSans-30\"/>\n       <use x=\"127.246094\" xlink:href=\"#DejaVuSans-2e\"/>\n       <use x=\"159.033203\" xlink:href=\"#DejaVuSans-30\"/>\n      </g>\n     </g>\n    </g>\n    <g id=\"xtick_2\">\n     <g id=\"line2d_2\">\n      <g>\n       <use style=\"stroke:#000000;stroke-width:0.8;\" x=\"76.155398\" xlink:href=\"#m5dea25c551\" y=\"1094.4\"/>\n      </g>\n     </g>\n     <g id=\"text_2\">\n      <!-- 1880.0 -->\n      <g transform=\"translate(78.914773 1136.390625)rotate(-90)scale(0.1 -0.1)\">\n       <defs>\n        <path d=\"M 794 531 \nL 1825 531 \nL 1825 4091 \nL 703 3866 \nL 703 4441 \nL 1819 4666 \nL 2450 4666 \nL 2450 531 \nL 3481 531 \nL 3481 0 \nL 794 0 \nL 794 531 \nz\n\" id=\"DejaVuSans-31\" transform=\"scale(0.015625)\"/>\n        <path d=\"M 2034 2216 \nQ 1584 2216 1326 1975 \nQ 1069 1734 1069 1313 \nQ 1069 891 1326 650 \nQ 1584 409 2034 409 \nQ 2484 409 2743 651 \nQ 3003 894 3003 1313 \nQ 3003 1734 2745 1975 \nQ 2488 2216 2034 2216 \nz\nM 1403 2484 \nQ 997 2584 770 2862 \nQ 544 3141 544 3541 \nQ 544 4100 942 4425 \nQ 1341 4750 2034 4750 \nQ 2731 4750 3128 4425 \nQ 3525 4100 3525 3541 \nQ 3525 3141 3298 2862 \nQ 3072 2584 2669 2484 \nQ 3125 2378 3379 2068 \nQ 3634 1759 3634 1313 \nQ 3634 634 3220 271 \nQ 2806 -91 2034 -91 \nQ 1263 -91 848 271 \nQ 434 634 434 1313 \nQ 434 1759 690 2068 \nQ 947 2378 1403 2484 \nz\nM 1172 3481 \nQ 1172 3119 1398 2916 \nQ 1625 2713 2034 2713 \nQ 2441 2713 2670 2916 \nQ 2900 3119 2900 3481 \nQ 2900 3844 2670 4047 \nQ 2441 4250 2034 4250 \nQ 1625 4250 1398 4047 \nQ 1172 3844 1172 3481 \nz\n\" id=\"DejaVuSans-38\" transform=\"scale(0.015625)\"/>\n       </defs>\n       <use xlink:href=\"#DejaVuSans-31\"/>\n       <use x=\"63.623047\" xlink:href=\"#DejaVuSans-38\"/>\n       <use x=\"127.246094\" xlink:href=\"#DejaVuSans-38\"/>\n       <use x=\"190.869141\" xlink:href=\"#DejaVuSans-30\"/>\n       <use x=\"254.492188\" xlink:href=\"#DejaVuSans-2e\"/>\n       <use x=\"286.279297\" xlink:href=\"#DejaVuSans-30\"/>\n      </g>\n     </g>\n    </g>\n    <g id=\"xtick_3\">\n     <g id=\"line2d_3\">\n      <g>\n       <use style=\"stroke:#000000;stroke-width:0.8;\" x=\"91.37358\" xlink:href=\"#m5dea25c551\" y=\"1094.4\"/>\n      </g>\n     </g>\n     <g id=\"text_3\">\n      <!-- 1900.0 -->\n      <g transform=\"translate(94.132955 1136.390625)rotate(-90)scale(0.1 -0.1)\">\n       <defs>\n        <path d=\"M 703 97 \nL 703 672 \nQ 941 559 1184 500 \nQ 1428 441 1663 441 \nQ 2288 441 2617 861 \nQ 2947 1281 2994 2138 \nQ 2813 1869 2534 1725 \nQ 2256 1581 1919 1581 \nQ 1219 1581 811 2004 \nQ 403 2428 403 3163 \nQ 403 3881 828 4315 \nQ 1253 4750 1959 4750 \nQ 2769 4750 3195 4129 \nQ 3622 3509 3622 2328 \nQ 3622 1225 3098 567 \nQ 2575 -91 1691 -91 \nQ 1453 -91 1209 -44 \nQ 966 3 703 97 \nz\nM 1959 2075 \nQ 2384 2075 2632 2365 \nQ 2881 2656 2881 3163 \nQ 2881 3666 2632 3958 \nQ 2384 4250 1959 4250 \nQ 1534 4250 1286 3958 \nQ 1038 3666 1038 3163 \nQ 1038 2656 1286 2365 \nQ 1534 2075 1959 2075 \nz\n\" id=\"DejaVuSans-39\" transform=\"scale(0.015625)\"/>\n       </defs>\n       <use xlink:href=\"#DejaVuSans-31\"/>\n       <use x=\"63.623047\" xlink:href=\"#DejaVuSans-39\"/>\n       <use x=\"127.246094\" xlink:href=\"#DejaVuSans-30\"/>\n       <use x=\"190.869141\" xlink:href=\"#DejaVuSans-30\"/>\n       <use x=\"254.492188\" xlink:href=\"#DejaVuSans-2e\"/>\n       <use x=\"286.279297\" xlink:href=\"#DejaVuSans-30\"/>\n      </g>\n     </g>\n    </g>\n    <g id=\"xtick_4\">\n     <g id=\"line2d_4\">\n      <g>\n       <use style=\"stroke:#000000;stroke-width:0.8;\" x=\"106.591761\" xlink:href=\"#m5dea25c551\" y=\"1094.4\"/>\n      </g>\n     </g>\n     <g id=\"text_4\">\n      <!-- 1910.0 -->\n      <g transform=\"translate(109.351136 1136.390625)rotate(-90)scale(0.1 -0.1)\">\n       <use xlink:href=\"#DejaVuSans-31\"/>\n       <use x=\"63.623047\" xlink:href=\"#DejaVuSans-39\"/>\n       <use x=\"127.246094\" xlink:href=\"#DejaVuSans-31\"/>\n       <use x=\"190.869141\" xlink:href=\"#DejaVuSans-30\"/>\n       <use x=\"254.492188\" xlink:href=\"#DejaVuSans-2e\"/>\n       <use x=\"286.279297\" xlink:href=\"#DejaVuSans-30\"/>\n      </g>\n     </g>\n    </g>\n    <g id=\"xtick_5\">\n     <g id=\"line2d_5\">\n      <g>\n       <use style=\"stroke:#000000;stroke-width:0.8;\" x=\"121.809943\" xlink:href=\"#m5dea25c551\" y=\"1094.4\"/>\n      </g>\n     </g>\n     <g id=\"text_5\">\n      <!-- 1911.0 -->\n      <g transform=\"translate(124.569318 1136.390625)rotate(-90)scale(0.1 -0.1)\">\n       <use xlink:href=\"#DejaVuSans-31\"/>\n       <use x=\"63.623047\" xlink:href=\"#DejaVuSans-39\"/>\n       <use x=\"127.246094\" xlink:href=\"#DejaVuSans-31\"/>\n       <use x=\"190.869141\" xlink:href=\"#DejaVuSans-31\"/>\n       <use x=\"254.492188\" xlink:href=\"#DejaVuSans-2e\"/>\n       <use x=\"286.279297\" xlink:href=\"#DejaVuSans-30\"/>\n      </g>\n     </g>\n    </g>\n    <g id=\"xtick_6\">\n     <g id=\"line2d_6\">\n      <g>\n       <use style=\"stroke:#000000;stroke-width:0.8;\" x=\"137.028125\" xlink:href=\"#m5dea25c551\" y=\"1094.4\"/>\n      </g>\n     </g>\n     <g id=\"text_6\">\n      <!-- 1912.0 -->\n      <g transform=\"translate(139.7875 1136.390625)rotate(-90)scale(0.1 -0.1)\">\n       <use xlink:href=\"#DejaVuSans-31\"/>\n       <use x=\"63.623047\" xlink:href=\"#DejaVuSans-39\"/>\n       <use x=\"127.246094\" xlink:href=\"#DejaVuSans-31\"/>\n       <use x=\"190.869141\" xlink:href=\"#DejaVuSans-32\"/>\n       <use x=\"254.492188\" xlink:href=\"#DejaVuSans-2e\"/>\n       <use x=\"286.279297\" xlink:href=\"#DejaVuSans-30\"/>\n      </g>\n     </g>\n    </g>\n    <g id=\"xtick_7\">\n     <g id=\"line2d_7\">\n      <g>\n       <use style=\"stroke:#000000;stroke-width:0.8;\" x=\"152.246307\" xlink:href=\"#m5dea25c551\" y=\"1094.4\"/>\n      </g>\n     </g>\n     <g id=\"text_7\">\n      <!-- 1913.0 -->\n      <g transform=\"translate(155.005682 1136.390625)rotate(-90)scale(0.1 -0.1)\">\n       <defs>\n        <path d=\"M 2597 2516 \nQ 3050 2419 3304 2112 \nQ 3559 1806 3559 1356 \nQ 3559 666 3084 287 \nQ 2609 -91 1734 -91 \nQ 1441 -91 1130 -33 \nQ 819 25 488 141 \nL 488 750 \nQ 750 597 1062 519 \nQ 1375 441 1716 441 \nQ 2309 441 2620 675 \nQ 2931 909 2931 1356 \nQ 2931 1769 2642 2001 \nQ 2353 2234 1838 2234 \nL 1294 2234 \nL 1294 2753 \nL 1863 2753 \nQ 2328 2753 2575 2939 \nQ 2822 3125 2822 3475 \nQ 2822 3834 2567 4026 \nQ 2313 4219 1838 4219 \nQ 1578 4219 1281 4162 \nQ 984 4106 628 3988 \nL 628 4550 \nQ 988 4650 1302 4700 \nQ 1616 4750 1894 4750 \nQ 2613 4750 3031 4423 \nQ 3450 4097 3450 3541 \nQ 3450 3153 3228 2886 \nQ 3006 2619 2597 2516 \nz\n\" id=\"DejaVuSans-33\" transform=\"scale(0.015625)\"/>\n       </defs>\n       <use xlink:href=\"#DejaVuSans-31\"/>\n       <use x=\"63.623047\" xlink:href=\"#DejaVuSans-39\"/>\n       <use x=\"127.246094\" xlink:href=\"#DejaVuSans-31\"/>\n       <use x=\"190.869141\" xlink:href=\"#DejaVuSans-33\"/>\n       <use x=\"254.492188\" xlink:href=\"#DejaVuSans-2e\"/>\n       <use x=\"286.279297\" xlink:href=\"#DejaVuSans-30\"/>\n      </g>\n     </g>\n    </g>\n    <g id=\"xtick_8\">\n     <g id=\"line2d_8\">\n      <g>\n       <use style=\"stroke:#000000;stroke-width:0.8;\" x=\"167.464489\" xlink:href=\"#m5dea25c551\" y=\"1094.4\"/>\n      </g>\n     </g>\n     <g id=\"text_8\">\n      <!-- 1915.0 -->\n      <g transform=\"translate(170.223864 1136.390625)rotate(-90)scale(0.1 -0.1)\">\n       <defs>\n        <path d=\"M 691 4666 \nL 3169 4666 \nL 3169 4134 \nL 1269 4134 \nL 1269 2991 \nQ 1406 3038 1543 3061 \nQ 1681 3084 1819 3084 \nQ 2600 3084 3056 2656 \nQ 3513 2228 3513 1497 \nQ 3513 744 3044 326 \nQ 2575 -91 1722 -91 \nQ 1428 -91 1123 -41 \nQ 819 9 494 109 \nL 494 744 \nQ 775 591 1075 516 \nQ 1375 441 1709 441 \nQ 2250 441 2565 725 \nQ 2881 1009 2881 1497 \nQ 2881 1984 2565 2268 \nQ 2250 2553 1709 2553 \nQ 1456 2553 1204 2497 \nQ 953 2441 691 2322 \nL 691 4666 \nz\n\" id=\"DejaVuSans-35\" transform=\"scale(0.015625)\"/>\n       </defs>\n       <use xlink:href=\"#DejaVuSans-31\"/>\n       <use x=\"63.623047\" xlink:href=\"#DejaVuSans-39\"/>\n       <use x=\"127.246094\" xlink:href=\"#DejaVuSans-31\"/>\n       <use x=\"190.869141\" xlink:href=\"#DejaVuSans-35\"/>\n       <use x=\"254.492188\" xlink:href=\"#DejaVuSans-2e\"/>\n       <use x=\"286.279297\" xlink:href=\"#DejaVuSans-30\"/>\n      </g>\n     </g>\n    </g>\n    <g id=\"xtick_9\">\n     <g id=\"line2d_9\">\n      <g>\n       <use style=\"stroke:#000000;stroke-width:0.8;\" x=\"182.68267\" xlink:href=\"#m5dea25c551\" y=\"1094.4\"/>\n      </g>\n     </g>\n     <g id=\"text_9\">\n      <!-- 1916.0 -->\n      <g transform=\"translate(185.442045 1136.390625)rotate(-90)scale(0.1 -0.1)\">\n       <defs>\n        <path d=\"M 2113 2584 \nQ 1688 2584 1439 2293 \nQ 1191 2003 1191 1497 \nQ 1191 994 1439 701 \nQ 1688 409 2113 409 \nQ 2538 409 2786 701 \nQ 3034 994 3034 1497 \nQ 3034 2003 2786 2293 \nQ 2538 2584 2113 2584 \nz\nM 3366 4563 \nL 3366 3988 \nQ 3128 4100 2886 4159 \nQ 2644 4219 2406 4219 \nQ 1781 4219 1451 3797 \nQ 1122 3375 1075 2522 \nQ 1259 2794 1537 2939 \nQ 1816 3084 2150 3084 \nQ 2853 3084 3261 2657 \nQ 3669 2231 3669 1497 \nQ 3669 778 3244 343 \nQ 2819 -91 2113 -91 \nQ 1303 -91 875 529 \nQ 447 1150 447 2328 \nQ 447 3434 972 4092 \nQ 1497 4750 2381 4750 \nQ 2619 4750 2861 4703 \nQ 3103 4656 3366 4563 \nz\n\" id=\"DejaVuSans-36\" transform=\"scale(0.015625)\"/>\n       </defs>\n       <use xlink:href=\"#DejaVuSans-31\"/>\n       <use x=\"63.623047\" xlink:href=\"#DejaVuSans-39\"/>\n       <use x=\"127.246094\" xlink:href=\"#DejaVuSans-31\"/>\n       <use x=\"190.869141\" xlink:href=\"#DejaVuSans-36\"/>\n       <use x=\"254.492188\" xlink:href=\"#DejaVuSans-2e\"/>\n       <use x=\"286.279297\" xlink:href=\"#DejaVuSans-30\"/>\n      </g>\n     </g>\n    </g>\n    <g id=\"xtick_10\">\n     <g id=\"line2d_10\">\n      <g>\n       <use style=\"stroke:#000000;stroke-width:0.8;\" x=\"197.900852\" xlink:href=\"#m5dea25c551\" y=\"1094.4\"/>\n      </g>\n     </g>\n     <g id=\"text_10\">\n      <!-- 1917.0 -->\n      <g transform=\"translate(200.660227 1136.390625)rotate(-90)scale(0.1 -0.1)\">\n       <defs>\n        <path d=\"M 525 4666 \nL 3525 4666 \nL 3525 4397 \nL 1831 0 \nL 1172 0 \nL 2766 4134 \nL 525 4134 \nL 525 4666 \nz\n\" id=\"DejaVuSans-37\" transform=\"scale(0.015625)\"/>\n       </defs>\n       <use xlink:href=\"#DejaVuSans-31\"/>\n       <use x=\"63.623047\" xlink:href=\"#DejaVuSans-39\"/>\n       <use x=\"127.246094\" xlink:href=\"#DejaVuSans-31\"/>\n       <use x=\"190.869141\" xlink:href=\"#DejaVuSans-37\"/>\n       <use x=\"254.492188\" xlink:href=\"#DejaVuSans-2e\"/>\n       <use x=\"286.279297\" xlink:href=\"#DejaVuSans-30\"/>\n      </g>\n     </g>\n    </g>\n    <g id=\"xtick_11\">\n     <g id=\"line2d_11\">\n      <g>\n       <use style=\"stroke:#000000;stroke-width:0.8;\" x=\"213.119034\" xlink:href=\"#m5dea25c551\" y=\"1094.4\"/>\n      </g>\n     </g>\n     <g id=\"text_11\">\n      <!-- 1920.0 -->\n      <g transform=\"translate(215.878409 1136.390625)rotate(-90)scale(0.1 -0.1)\">\n       <use xlink:href=\"#DejaVuSans-31\"/>\n       <use x=\"63.623047\" xlink:href=\"#DejaVuSans-39\"/>\n       <use x=\"127.246094\" xlink:href=\"#DejaVuSans-32\"/>\n       <use x=\"190.869141\" xlink:href=\"#DejaVuSans-30\"/>\n       <use x=\"254.492188\" xlink:href=\"#DejaVuSans-2e\"/>\n       <use x=\"286.279297\" xlink:href=\"#DejaVuSans-30\"/>\n      </g>\n     </g>\n    </g>\n    <g id=\"xtick_12\">\n     <g id=\"line2d_12\">\n      <g>\n       <use style=\"stroke:#000000;stroke-width:0.8;\" x=\"228.337216\" xlink:href=\"#m5dea25c551\" y=\"1094.4\"/>\n      </g>\n     </g>\n     <g id=\"text_12\">\n      <!-- 1921.0 -->\n      <g transform=\"translate(231.096591 1136.390625)rotate(-90)scale(0.1 -0.1)\">\n       <use xlink:href=\"#DejaVuSans-31\"/>\n       <use x=\"63.623047\" xlink:href=\"#DejaVuSans-39\"/>\n       <use x=\"127.246094\" xlink:href=\"#DejaVuSans-32\"/>\n       <use x=\"190.869141\" xlink:href=\"#DejaVuSans-31\"/>\n       <use x=\"254.492188\" xlink:href=\"#DejaVuSans-2e\"/>\n       <use x=\"286.279297\" xlink:href=\"#DejaVuSans-30\"/>\n      </g>\n     </g>\n    </g>\n    <g id=\"xtick_13\">\n     <g id=\"line2d_13\">\n      <g>\n       <use style=\"stroke:#000000;stroke-width:0.8;\" x=\"243.555398\" xlink:href=\"#m5dea25c551\" y=\"1094.4\"/>\n      </g>\n     </g>\n     <g id=\"text_13\">\n      <!-- 1922.0 -->\n      <g transform=\"translate(246.314773 1136.390625)rotate(-90)scale(0.1 -0.1)\">\n       <use xlink:href=\"#DejaVuSans-31\"/>\n       <use x=\"63.623047\" xlink:href=\"#DejaVuSans-39\"/>\n       <use x=\"127.246094\" xlink:href=\"#DejaVuSans-32\"/>\n       <use x=\"190.869141\" xlink:href=\"#DejaVuSans-32\"/>\n       <use x=\"254.492188\" xlink:href=\"#DejaVuSans-2e\"/>\n       <use x=\"286.279297\" xlink:href=\"#DejaVuSans-30\"/>\n      </g>\n     </g>\n    </g>\n    <g id=\"xtick_14\">\n     <g id=\"line2d_14\">\n      <g>\n       <use style=\"stroke:#000000;stroke-width:0.8;\" x=\"258.77358\" xlink:href=\"#m5dea25c551\" y=\"1094.4\"/>\n      </g>\n     </g>\n     <g id=\"text_14\">\n      <!-- 1923.0 -->\n      <g transform=\"translate(261.532955 1136.390625)rotate(-90)scale(0.1 -0.1)\">\n       <use xlink:href=\"#DejaVuSans-31\"/>\n       <use x=\"63.623047\" xlink:href=\"#DejaVuSans-39\"/>\n       <use x=\"127.246094\" xlink:href=\"#DejaVuSans-32\"/>\n       <use x=\"190.869141\" xlink:href=\"#DejaVuSans-33\"/>\n       <use x=\"254.492188\" xlink:href=\"#DejaVuSans-2e\"/>\n       <use x=\"286.279297\" xlink:href=\"#DejaVuSans-30\"/>\n      </g>\n     </g>\n    </g>\n    <g id=\"xtick_15\">\n     <g id=\"line2d_15\">\n      <g>\n       <use style=\"stroke:#000000;stroke-width:0.8;\" x=\"273.991761\" xlink:href=\"#m5dea25c551\" y=\"1094.4\"/>\n      </g>\n     </g>\n     <g id=\"text_15\">\n      <!-- 1924.0 -->\n      <g transform=\"translate(276.751136 1136.390625)rotate(-90)scale(0.1 -0.1)\">\n       <defs>\n        <path d=\"M 2419 4116 \nL 825 1625 \nL 2419 1625 \nL 2419 4116 \nz\nM 2253 4666 \nL 3047 4666 \nL 3047 1625 \nL 3713 1625 \nL 3713 1100 \nL 3047 1100 \nL 3047 0 \nL 2419 0 \nL 2419 1100 \nL 313 1100 \nL 313 1709 \nL 2253 4666 \nz\n\" id=\"DejaVuSans-34\" transform=\"scale(0.015625)\"/>\n       </defs>\n       <use xlink:href=\"#DejaVuSans-31\"/>\n       <use x=\"63.623047\" xlink:href=\"#DejaVuSans-39\"/>\n       <use x=\"127.246094\" xlink:href=\"#DejaVuSans-32\"/>\n       <use x=\"190.869141\" xlink:href=\"#DejaVuSans-34\"/>\n       <use x=\"254.492188\" xlink:href=\"#DejaVuSans-2e\"/>\n       <use x=\"286.279297\" xlink:href=\"#DejaVuSans-30\"/>\n      </g>\n     </g>\n    </g>\n    <g id=\"xtick_16\">\n     <g id=\"line2d_16\">\n      <g>\n       <use style=\"stroke:#000000;stroke-width:0.8;\" x=\"289.209943\" xlink:href=\"#m5dea25c551\" y=\"1094.4\"/>\n      </g>\n     </g>\n     <g id=\"text_16\">\n      <!-- 1925.0 -->\n      <g transform=\"translate(291.969318 1136.390625)rotate(-90)scale(0.1 -0.1)\">\n       <use xlink:href=\"#DejaVuSans-31\"/>\n       <use x=\"63.623047\" xlink:href=\"#DejaVuSans-39\"/>\n       <use x=\"127.246094\" xlink:href=\"#DejaVuSans-32\"/>\n       <use x=\"190.869141\" xlink:href=\"#DejaVuSans-35\"/>\n       <use x=\"254.492188\" xlink:href=\"#DejaVuSans-2e\"/>\n       <use x=\"286.279297\" xlink:href=\"#DejaVuSans-30\"/>\n      </g>\n     </g>\n    </g>\n    <g id=\"xtick_17\">\n     <g id=\"line2d_17\">\n      <g>\n       <use style=\"stroke:#000000;stroke-width:0.8;\" x=\"304.428125\" xlink:href=\"#m5dea25c551\" y=\"1094.4\"/>\n      </g>\n     </g>\n     <g id=\"text_17\">\n      <!-- 1926.0 -->\n      <g transform=\"translate(307.1875 1136.390625)rotate(-90)scale(0.1 -0.1)\">\n       <use xlink:href=\"#DejaVuSans-31\"/>\n       <use x=\"63.623047\" xlink:href=\"#DejaVuSans-39\"/>\n       <use x=\"127.246094\" xlink:href=\"#DejaVuSans-32\"/>\n       <use x=\"190.869141\" xlink:href=\"#DejaVuSans-36\"/>\n       <use x=\"254.492188\" xlink:href=\"#DejaVuSans-2e\"/>\n       <use x=\"286.279297\" xlink:href=\"#DejaVuSans-30\"/>\n      </g>\n     </g>\n    </g>\n    <g id=\"xtick_18\">\n     <g id=\"line2d_18\">\n      <g>\n       <use style=\"stroke:#000000;stroke-width:0.8;\" x=\"319.646307\" xlink:href=\"#m5dea25c551\" y=\"1094.4\"/>\n      </g>\n     </g>\n     <g id=\"text_18\">\n      <!-- 1927.0 -->\n      <g transform=\"translate(322.405682 1136.390625)rotate(-90)scale(0.1 -0.1)\">\n       <use xlink:href=\"#DejaVuSans-31\"/>\n       <use x=\"63.623047\" xlink:href=\"#DejaVuSans-39\"/>\n       <use x=\"127.246094\" xlink:href=\"#DejaVuSans-32\"/>\n       <use x=\"190.869141\" xlink:href=\"#DejaVuSans-37\"/>\n       <use x=\"254.492188\" xlink:href=\"#DejaVuSans-2e\"/>\n       <use x=\"286.279297\" xlink:href=\"#DejaVuSans-30\"/>\n      </g>\n     </g>\n    </g>\n    <g id=\"xtick_19\">\n     <g id=\"line2d_19\">\n      <g>\n       <use style=\"stroke:#000000;stroke-width:0.8;\" x=\"334.864489\" xlink:href=\"#m5dea25c551\" y=\"1094.4\"/>\n      </g>\n     </g>\n     <g id=\"text_19\">\n      <!-- 1928.0 -->\n      <g transform=\"translate(337.623864 1136.390625)rotate(-90)scale(0.1 -0.1)\">\n       <use xlink:href=\"#DejaVuSans-31\"/>\n       <use x=\"63.623047\" xlink:href=\"#DejaVuSans-39\"/>\n       <use x=\"127.246094\" xlink:href=\"#DejaVuSans-32\"/>\n       <use x=\"190.869141\" xlink:href=\"#DejaVuSans-38\"/>\n       <use x=\"254.492188\" xlink:href=\"#DejaVuSans-2e\"/>\n       <use x=\"286.279297\" xlink:href=\"#DejaVuSans-30\"/>\n      </g>\n     </g>\n    </g>\n    <g id=\"xtick_20\">\n     <g id=\"line2d_20\">\n      <g>\n       <use style=\"stroke:#000000;stroke-width:0.8;\" x=\"350.08267\" xlink:href=\"#m5dea25c551\" y=\"1094.4\"/>\n      </g>\n     </g>\n     <g id=\"text_20\">\n      <!-- 1929.0 -->\n      <g transform=\"translate(352.842045 1136.390625)rotate(-90)scale(0.1 -0.1)\">\n       <use xlink:href=\"#DejaVuSans-31\"/>\n       <use x=\"63.623047\" xlink:href=\"#DejaVuSans-39\"/>\n       <use x=\"127.246094\" xlink:href=\"#DejaVuSans-32\"/>\n       <use x=\"190.869141\" xlink:href=\"#DejaVuSans-39\"/>\n       <use x=\"254.492188\" xlink:href=\"#DejaVuSans-2e\"/>\n       <use x=\"286.279297\" xlink:href=\"#DejaVuSans-30\"/>\n      </g>\n     </g>\n    </g>\n    <g id=\"xtick_21\">\n     <g id=\"line2d_21\">\n      <g>\n       <use style=\"stroke:#000000;stroke-width:0.8;\" x=\"365.300852\" xlink:href=\"#m5dea25c551\" y=\"1094.4\"/>\n      </g>\n     </g>\n     <g id=\"text_21\">\n      <!-- 1930.0 -->\n      <g transform=\"translate(368.060227 1136.390625)rotate(-90)scale(0.1 -0.1)\">\n       <use xlink:href=\"#DejaVuSans-31\"/>\n       <use x=\"63.623047\" xlink:href=\"#DejaVuSans-39\"/>\n       <use x=\"127.246094\" xlink:href=\"#DejaVuSans-33\"/>\n       <use x=\"190.869141\" xlink:href=\"#DejaVuSans-30\"/>\n       <use x=\"254.492188\" xlink:href=\"#DejaVuSans-2e\"/>\n       <use x=\"286.279297\" xlink:href=\"#DejaVuSans-30\"/>\n      </g>\n     </g>\n    </g>\n    <g id=\"xtick_22\">\n     <g id=\"line2d_22\">\n      <g>\n       <use style=\"stroke:#000000;stroke-width:0.8;\" x=\"380.519034\" xlink:href=\"#m5dea25c551\" y=\"1094.4\"/>\n      </g>\n     </g>\n     <g id=\"text_22\">\n      <!-- 1931.0 -->\n      <g transform=\"translate(383.278409 1136.390625)rotate(-90)scale(0.1 -0.1)\">\n       <use xlink:href=\"#DejaVuSans-31\"/>\n       <use x=\"63.623047\" xlink:href=\"#DejaVuSans-39\"/>\n       <use x=\"127.246094\" xlink:href=\"#DejaVuSans-33\"/>\n       <use x=\"190.869141\" xlink:href=\"#DejaVuSans-31\"/>\n       <use x=\"254.492188\" xlink:href=\"#DejaVuSans-2e\"/>\n       <use x=\"286.279297\" xlink:href=\"#DejaVuSans-30\"/>\n      </g>\n     </g>\n    </g>\n    <g id=\"xtick_23\">\n     <g id=\"line2d_23\">\n      <g>\n       <use style=\"stroke:#000000;stroke-width:0.8;\" x=\"395.737216\" xlink:href=\"#m5dea25c551\" y=\"1094.4\"/>\n      </g>\n     </g>\n     <g id=\"text_23\">\n      <!-- 1932.0 -->\n      <g transform=\"translate(398.496591 1136.390625)rotate(-90)scale(0.1 -0.1)\">\n       <use xlink:href=\"#DejaVuSans-31\"/>\n       <use x=\"63.623047\" xlink:href=\"#DejaVuSans-39\"/>\n       <use x=\"127.246094\" xlink:href=\"#DejaVuSans-33\"/>\n       <use x=\"190.869141\" xlink:href=\"#DejaVuSans-32\"/>\n       <use x=\"254.492188\" xlink:href=\"#DejaVuSans-2e\"/>\n       <use x=\"286.279297\" xlink:href=\"#DejaVuSans-30\"/>\n      </g>\n     </g>\n    </g>\n    <g id=\"xtick_24\">\n     <g id=\"line2d_24\">\n      <g>\n       <use style=\"stroke:#000000;stroke-width:0.8;\" x=\"410.955398\" xlink:href=\"#m5dea25c551\" y=\"1094.4\"/>\n      </g>\n     </g>\n     <g id=\"text_24\">\n      <!-- 1933.0 -->\n      <g transform=\"translate(413.714773 1136.390625)rotate(-90)scale(0.1 -0.1)\">\n       <use xlink:href=\"#DejaVuSans-31\"/>\n       <use x=\"63.623047\" xlink:href=\"#DejaVuSans-39\"/>\n       <use x=\"127.246094\" xlink:href=\"#DejaVuSans-33\"/>\n       <use x=\"190.869141\" xlink:href=\"#DejaVuSans-33\"/>\n       <use x=\"254.492188\" xlink:href=\"#DejaVuSans-2e\"/>\n       <use x=\"286.279297\" xlink:href=\"#DejaVuSans-30\"/>\n      </g>\n     </g>\n    </g>\n    <g id=\"xtick_25\">\n     <g id=\"line2d_25\">\n      <g>\n       <use style=\"stroke:#000000;stroke-width:0.8;\" x=\"426.17358\" xlink:href=\"#m5dea25c551\" y=\"1094.4\"/>\n      </g>\n     </g>\n     <g id=\"text_25\">\n      <!-- 1934.0 -->\n      <g transform=\"translate(428.932955 1136.390625)rotate(-90)scale(0.1 -0.1)\">\n       <use xlink:href=\"#DejaVuSans-31\"/>\n       <use x=\"63.623047\" xlink:href=\"#DejaVuSans-39\"/>\n       <use x=\"127.246094\" xlink:href=\"#DejaVuSans-33\"/>\n       <use x=\"190.869141\" xlink:href=\"#DejaVuSans-34\"/>\n       <use x=\"254.492188\" xlink:href=\"#DejaVuSans-2e\"/>\n       <use x=\"286.279297\" xlink:href=\"#DejaVuSans-30\"/>\n      </g>\n     </g>\n    </g>\n    <g id=\"xtick_26\">\n     <g id=\"line2d_26\">\n      <g>\n       <use style=\"stroke:#000000;stroke-width:0.8;\" x=\"441.391761\" xlink:href=\"#m5dea25c551\" y=\"1094.4\"/>\n      </g>\n     </g>\n     <g id=\"text_26\">\n      <!-- 1935.0 -->\n      <g transform=\"translate(444.151136 1136.390625)rotate(-90)scale(0.1 -0.1)\">\n       <use xlink:href=\"#DejaVuSans-31\"/>\n       <use x=\"63.623047\" xlink:href=\"#DejaVuSans-39\"/>\n       <use x=\"127.246094\" xlink:href=\"#DejaVuSans-33\"/>\n       <use x=\"190.869141\" xlink:href=\"#DejaVuSans-35\"/>\n       <use x=\"254.492188\" xlink:href=\"#DejaVuSans-2e\"/>\n       <use x=\"286.279297\" xlink:href=\"#DejaVuSans-30\"/>\n      </g>\n     </g>\n    </g>\n    <g id=\"xtick_27\">\n     <g id=\"line2d_27\">\n      <g>\n       <use style=\"stroke:#000000;stroke-width:0.8;\" x=\"456.609943\" xlink:href=\"#m5dea25c551\" y=\"1094.4\"/>\n      </g>\n     </g>\n     <g id=\"text_27\">\n      <!-- 1936.0 -->\n      <g transform=\"translate(459.369318 1136.390625)rotate(-90)scale(0.1 -0.1)\">\n       <use xlink:href=\"#DejaVuSans-31\"/>\n       <use x=\"63.623047\" xlink:href=\"#DejaVuSans-39\"/>\n       <use x=\"127.246094\" xlink:href=\"#DejaVuSans-33\"/>\n       <use x=\"190.869141\" xlink:href=\"#DejaVuSans-36\"/>\n       <use x=\"254.492188\" xlink:href=\"#DejaVuSans-2e\"/>\n       <use x=\"286.279297\" xlink:href=\"#DejaVuSans-30\"/>\n      </g>\n     </g>\n    </g>\n    <g id=\"xtick_28\">\n     <g id=\"line2d_28\">\n      <g>\n       <use style=\"stroke:#000000;stroke-width:0.8;\" x=\"471.828125\" xlink:href=\"#m5dea25c551\" y=\"1094.4\"/>\n      </g>\n     </g>\n     <g id=\"text_28\">\n      <!-- 1937.0 -->\n      <g transform=\"translate(474.5875 1136.390625)rotate(-90)scale(0.1 -0.1)\">\n       <use xlink:href=\"#DejaVuSans-31\"/>\n       <use x=\"63.623047\" xlink:href=\"#DejaVuSans-39\"/>\n       <use x=\"127.246094\" xlink:href=\"#DejaVuSans-33\"/>\n       <use x=\"190.869141\" xlink:href=\"#DejaVuSans-37\"/>\n       <use x=\"254.492188\" xlink:href=\"#DejaVuSans-2e\"/>\n       <use x=\"286.279297\" xlink:href=\"#DejaVuSans-30\"/>\n      </g>\n     </g>\n    </g>\n    <g id=\"xtick_29\">\n     <g id=\"line2d_29\">\n      <g>\n       <use style=\"stroke:#000000;stroke-width:0.8;\" x=\"487.046307\" xlink:href=\"#m5dea25c551\" y=\"1094.4\"/>\n      </g>\n     </g>\n     <g id=\"text_29\">\n      <!-- 1938.0 -->\n      <g transform=\"translate(489.805682 1136.390625)rotate(-90)scale(0.1 -0.1)\">\n       <use xlink:href=\"#DejaVuSans-31\"/>\n       <use x=\"63.623047\" xlink:href=\"#DejaVuSans-39\"/>\n       <use x=\"127.246094\" xlink:href=\"#DejaVuSans-33\"/>\n       <use x=\"190.869141\" xlink:href=\"#DejaVuSans-38\"/>\n       <use x=\"254.492188\" xlink:href=\"#DejaVuSans-2e\"/>\n       <use x=\"286.279297\" xlink:href=\"#DejaVuSans-30\"/>\n      </g>\n     </g>\n    </g>\n    <g id=\"xtick_30\">\n     <g id=\"line2d_30\">\n      <g>\n       <use style=\"stroke:#000000;stroke-width:0.8;\" x=\"502.264489\" xlink:href=\"#m5dea25c551\" y=\"1094.4\"/>\n      </g>\n     </g>\n     <g id=\"text_30\">\n      <!-- 1939.0 -->\n      <g transform=\"translate(505.023864 1136.390625)rotate(-90)scale(0.1 -0.1)\">\n       <use xlink:href=\"#DejaVuSans-31\"/>\n       <use x=\"63.623047\" xlink:href=\"#DejaVuSans-39\"/>\n       <use x=\"127.246094\" xlink:href=\"#DejaVuSans-33\"/>\n       <use x=\"190.869141\" xlink:href=\"#DejaVuSans-39\"/>\n       <use x=\"254.492188\" xlink:href=\"#DejaVuSans-2e\"/>\n       <use x=\"286.279297\" xlink:href=\"#DejaVuSans-30\"/>\n      </g>\n     </g>\n    </g>\n    <g id=\"xtick_31\">\n     <g id=\"line2d_31\">\n      <g>\n       <use style=\"stroke:#000000;stroke-width:0.8;\" x=\"517.48267\" xlink:href=\"#m5dea25c551\" y=\"1094.4\"/>\n      </g>\n     </g>\n     <g id=\"text_31\">\n      <!-- 1940.0 -->\n      <g transform=\"translate(520.242045 1136.390625)rotate(-90)scale(0.1 -0.1)\">\n       <use xlink:href=\"#DejaVuSans-31\"/>\n       <use x=\"63.623047\" xlink:href=\"#DejaVuSans-39\"/>\n       <use x=\"127.246094\" xlink:href=\"#DejaVuSans-34\"/>\n       <use x=\"190.869141\" xlink:href=\"#DejaVuSans-30\"/>\n       <use x=\"254.492188\" xlink:href=\"#DejaVuSans-2e\"/>\n       <use x=\"286.279297\" xlink:href=\"#DejaVuSans-30\"/>\n      </g>\n     </g>\n    </g>\n    <g id=\"xtick_32\">\n     <g id=\"line2d_32\">\n      <g>\n       <use style=\"stroke:#000000;stroke-width:0.8;\" x=\"532.700852\" xlink:href=\"#m5dea25c551\" y=\"1094.4\"/>\n      </g>\n     </g>\n     <g id=\"text_32\">\n      <!-- 1941.0 -->\n      <g transform=\"translate(535.460227 1136.390625)rotate(-90)scale(0.1 -0.1)\">\n       <use xlink:href=\"#DejaVuSans-31\"/>\n       <use x=\"63.623047\" xlink:href=\"#DejaVuSans-39\"/>\n       <use x=\"127.246094\" xlink:href=\"#DejaVuSans-34\"/>\n       <use x=\"190.869141\" xlink:href=\"#DejaVuSans-31\"/>\n       <use x=\"254.492188\" xlink:href=\"#DejaVuSans-2e\"/>\n       <use x=\"286.279297\" xlink:href=\"#DejaVuSans-30\"/>\n      </g>\n     </g>\n    </g>\n    <g id=\"xtick_33\">\n     <g id=\"line2d_33\">\n      <g>\n       <use style=\"stroke:#000000;stroke-width:0.8;\" x=\"547.919034\" xlink:href=\"#m5dea25c551\" y=\"1094.4\"/>\n      </g>\n     </g>\n     <g id=\"text_33\">\n      <!-- 1942.0 -->\n      <g transform=\"translate(550.678409 1136.390625)rotate(-90)scale(0.1 -0.1)\">\n       <use xlink:href=\"#DejaVuSans-31\"/>\n       <use x=\"63.623047\" xlink:href=\"#DejaVuSans-39\"/>\n       <use x=\"127.246094\" xlink:href=\"#DejaVuSans-34\"/>\n       <use x=\"190.869141\" xlink:href=\"#DejaVuSans-32\"/>\n       <use x=\"254.492188\" xlink:href=\"#DejaVuSans-2e\"/>\n       <use x=\"286.279297\" xlink:href=\"#DejaVuSans-30\"/>\n      </g>\n     </g>\n    </g>\n    <g id=\"xtick_34\">\n     <g id=\"line2d_34\">\n      <g>\n       <use style=\"stroke:#000000;stroke-width:0.8;\" x=\"563.137216\" xlink:href=\"#m5dea25c551\" y=\"1094.4\"/>\n      </g>\n     </g>\n     <g id=\"text_34\">\n      <!-- 1943.0 -->\n      <g transform=\"translate(565.896591 1136.390625)rotate(-90)scale(0.1 -0.1)\">\n       <use xlink:href=\"#DejaVuSans-31\"/>\n       <use x=\"63.623047\" xlink:href=\"#DejaVuSans-39\"/>\n       <use x=\"127.246094\" xlink:href=\"#DejaVuSans-34\"/>\n       <use x=\"190.869141\" xlink:href=\"#DejaVuSans-33\"/>\n       <use x=\"254.492188\" xlink:href=\"#DejaVuSans-2e\"/>\n       <use x=\"286.279297\" xlink:href=\"#DejaVuSans-30\"/>\n      </g>\n     </g>\n    </g>\n    <g id=\"xtick_35\">\n     <g id=\"line2d_35\">\n      <g>\n       <use style=\"stroke:#000000;stroke-width:0.8;\" x=\"578.355398\" xlink:href=\"#m5dea25c551\" y=\"1094.4\"/>\n      </g>\n     </g>\n     <g id=\"text_35\">\n      <!-- 1944.0 -->\n      <g transform=\"translate(581.114773 1136.390625)rotate(-90)scale(0.1 -0.1)\">\n       <use xlink:href=\"#DejaVuSans-31\"/>\n       <use x=\"63.623047\" xlink:href=\"#DejaVuSans-39\"/>\n       <use x=\"127.246094\" xlink:href=\"#DejaVuSans-34\"/>\n       <use x=\"190.869141\" xlink:href=\"#DejaVuSans-34\"/>\n       <use x=\"254.492188\" xlink:href=\"#DejaVuSans-2e\"/>\n       <use x=\"286.279297\" xlink:href=\"#DejaVuSans-30\"/>\n      </g>\n     </g>\n    </g>\n    <g id=\"xtick_36\">\n     <g id=\"line2d_36\">\n      <g>\n       <use style=\"stroke:#000000;stroke-width:0.8;\" x=\"593.57358\" xlink:href=\"#m5dea25c551\" y=\"1094.4\"/>\n      </g>\n     </g>\n     <g id=\"text_36\">\n      <!-- 1945.0 -->\n      <g transform=\"translate(596.332955 1136.390625)rotate(-90)scale(0.1 -0.1)\">\n       <use xlink:href=\"#DejaVuSans-31\"/>\n       <use x=\"63.623047\" xlink:href=\"#DejaVuSans-39\"/>\n       <use x=\"127.246094\" xlink:href=\"#DejaVuSans-34\"/>\n       <use x=\"190.869141\" xlink:href=\"#DejaVuSans-35\"/>\n       <use x=\"254.492188\" xlink:href=\"#DejaVuSans-2e\"/>\n       <use x=\"286.279297\" xlink:href=\"#DejaVuSans-30\"/>\n      </g>\n     </g>\n    </g>\n    <g id=\"xtick_37\">\n     <g id=\"line2d_37\">\n      <g>\n       <use style=\"stroke:#000000;stroke-width:0.8;\" x=\"608.791761\" xlink:href=\"#m5dea25c551\" y=\"1094.4\"/>\n      </g>\n     </g>\n     <g id=\"text_37\">\n      <!-- 1946.0 -->\n      <g transform=\"translate(611.551136 1136.390625)rotate(-90)scale(0.1 -0.1)\">\n       <use xlink:href=\"#DejaVuSans-31\"/>\n       <use x=\"63.623047\" xlink:href=\"#DejaVuSans-39\"/>\n       <use x=\"127.246094\" xlink:href=\"#DejaVuSans-34\"/>\n       <use x=\"190.869141\" xlink:href=\"#DejaVuSans-36\"/>\n       <use x=\"254.492188\" xlink:href=\"#DejaVuSans-2e\"/>\n       <use x=\"286.279297\" xlink:href=\"#DejaVuSans-30\"/>\n      </g>\n     </g>\n    </g>\n    <g id=\"xtick_38\">\n     <g id=\"line2d_38\">\n      <g>\n       <use style=\"stroke:#000000;stroke-width:0.8;\" x=\"624.009943\" xlink:href=\"#m5dea25c551\" y=\"1094.4\"/>\n      </g>\n     </g>\n     <g id=\"text_38\">\n      <!-- 1947.0 -->\n      <g transform=\"translate(626.769318 1136.390625)rotate(-90)scale(0.1 -0.1)\">\n       <use xlink:href=\"#DejaVuSans-31\"/>\n       <use x=\"63.623047\" xlink:href=\"#DejaVuSans-39\"/>\n       <use x=\"127.246094\" xlink:href=\"#DejaVuSans-34\"/>\n       <use x=\"190.869141\" xlink:href=\"#DejaVuSans-37\"/>\n       <use x=\"254.492188\" xlink:href=\"#DejaVuSans-2e\"/>\n       <use x=\"286.279297\" xlink:href=\"#DejaVuSans-30\"/>\n      </g>\n     </g>\n    </g>\n    <g id=\"xtick_39\">\n     <g id=\"line2d_39\">\n      <g>\n       <use style=\"stroke:#000000;stroke-width:0.8;\" x=\"639.228125\" xlink:href=\"#m5dea25c551\" y=\"1094.4\"/>\n      </g>\n     </g>\n     <g id=\"text_39\">\n      <!-- 1948.0 -->\n      <g transform=\"translate(641.9875 1136.390625)rotate(-90)scale(0.1 -0.1)\">\n       <use xlink:href=\"#DejaVuSans-31\"/>\n       <use x=\"63.623047\" xlink:href=\"#DejaVuSans-39\"/>\n       <use x=\"127.246094\" xlink:href=\"#DejaVuSans-34\"/>\n       <use x=\"190.869141\" xlink:href=\"#DejaVuSans-38\"/>\n       <use x=\"254.492188\" xlink:href=\"#DejaVuSans-2e\"/>\n       <use x=\"286.279297\" xlink:href=\"#DejaVuSans-30\"/>\n      </g>\n     </g>\n    </g>\n    <g id=\"xtick_40\">\n     <g id=\"line2d_40\">\n      <g>\n       <use style=\"stroke:#000000;stroke-width:0.8;\" x=\"654.446307\" xlink:href=\"#m5dea25c551\" y=\"1094.4\"/>\n      </g>\n     </g>\n     <g id=\"text_40\">\n      <!-- 1949.0 -->\n      <g transform=\"translate(657.205682 1136.390625)rotate(-90)scale(0.1 -0.1)\">\n       <use xlink:href=\"#DejaVuSans-31\"/>\n       <use x=\"63.623047\" xlink:href=\"#DejaVuSans-39\"/>\n       <use x=\"127.246094\" xlink:href=\"#DejaVuSans-34\"/>\n       <use x=\"190.869141\" xlink:href=\"#DejaVuSans-39\"/>\n       <use x=\"254.492188\" xlink:href=\"#DejaVuSans-2e\"/>\n       <use x=\"286.279297\" xlink:href=\"#DejaVuSans-30\"/>\n      </g>\n     </g>\n    </g>\n    <g id=\"xtick_41\">\n     <g id=\"line2d_41\">\n      <g>\n       <use style=\"stroke:#000000;stroke-width:0.8;\" x=\"669.664489\" xlink:href=\"#m5dea25c551\" y=\"1094.4\"/>\n      </g>\n     </g>\n     <g id=\"text_41\">\n      <!-- 1950.0 -->\n      <g transform=\"translate(672.423864 1136.390625)rotate(-90)scale(0.1 -0.1)\">\n       <use xlink:href=\"#DejaVuSans-31\"/>\n       <use x=\"63.623047\" xlink:href=\"#DejaVuSans-39\"/>\n       <use x=\"127.246094\" xlink:href=\"#DejaVuSans-35\"/>\n       <use x=\"190.869141\" xlink:href=\"#DejaVuSans-30\"/>\n       <use x=\"254.492188\" xlink:href=\"#DejaVuSans-2e\"/>\n       <use x=\"286.279297\" xlink:href=\"#DejaVuSans-30\"/>\n      </g>\n     </g>\n    </g>\n    <g id=\"xtick_42\">\n     <g id=\"line2d_42\">\n      <g>\n       <use style=\"stroke:#000000;stroke-width:0.8;\" x=\"684.88267\" xlink:href=\"#m5dea25c551\" y=\"1094.4\"/>\n      </g>\n     </g>\n     <g id=\"text_42\">\n      <!-- 1951.0 -->\n      <g transform=\"translate(687.642045 1136.390625)rotate(-90)scale(0.1 -0.1)\">\n       <use xlink:href=\"#DejaVuSans-31\"/>\n       <use x=\"63.623047\" xlink:href=\"#DejaVuSans-39\"/>\n       <use x=\"127.246094\" xlink:href=\"#DejaVuSans-35\"/>\n       <use x=\"190.869141\" xlink:href=\"#DejaVuSans-31\"/>\n       <use x=\"254.492188\" xlink:href=\"#DejaVuSans-2e\"/>\n       <use x=\"286.279297\" xlink:href=\"#DejaVuSans-30\"/>\n      </g>\n     </g>\n    </g>\n    <g id=\"xtick_43\">\n     <g id=\"line2d_43\">\n      <g>\n       <use style=\"stroke:#000000;stroke-width:0.8;\" x=\"700.100852\" xlink:href=\"#m5dea25c551\" y=\"1094.4\"/>\n      </g>\n     </g>\n     <g id=\"text_43\">\n      <!-- 1952.0 -->\n      <g transform=\"translate(702.860227 1136.390625)rotate(-90)scale(0.1 -0.1)\">\n       <use xlink:href=\"#DejaVuSans-31\"/>\n       <use x=\"63.623047\" xlink:href=\"#DejaVuSans-39\"/>\n       <use x=\"127.246094\" xlink:href=\"#DejaVuSans-35\"/>\n       <use x=\"190.869141\" xlink:href=\"#DejaVuSans-32\"/>\n       <use x=\"254.492188\" xlink:href=\"#DejaVuSans-2e\"/>\n       <use x=\"286.279297\" xlink:href=\"#DejaVuSans-30\"/>\n      </g>\n     </g>\n    </g>\n    <g id=\"xtick_44\">\n     <g id=\"line2d_44\">\n      <g>\n       <use style=\"stroke:#000000;stroke-width:0.8;\" x=\"715.319034\" xlink:href=\"#m5dea25c551\" y=\"1094.4\"/>\n      </g>\n     </g>\n     <g id=\"text_44\">\n      <!-- 1953.0 -->\n      <g transform=\"translate(718.078409 1136.390625)rotate(-90)scale(0.1 -0.1)\">\n       <use xlink:href=\"#DejaVuSans-31\"/>\n       <use x=\"63.623047\" xlink:href=\"#DejaVuSans-39\"/>\n       <use x=\"127.246094\" xlink:href=\"#DejaVuSans-35\"/>\n       <use x=\"190.869141\" xlink:href=\"#DejaVuSans-33\"/>\n       <use x=\"254.492188\" xlink:href=\"#DejaVuSans-2e\"/>\n       <use x=\"286.279297\" xlink:href=\"#DejaVuSans-30\"/>\n      </g>\n     </g>\n    </g>\n    <g id=\"xtick_45\">\n     <g id=\"line2d_45\">\n      <g>\n       <use style=\"stroke:#000000;stroke-width:0.8;\" x=\"730.537216\" xlink:href=\"#m5dea25c551\" y=\"1094.4\"/>\n      </g>\n     </g>\n     <g id=\"text_45\">\n      <!-- 1954.0 -->\n      <g transform=\"translate(733.296591 1136.390625)rotate(-90)scale(0.1 -0.1)\">\n       <use xlink:href=\"#DejaVuSans-31\"/>\n       <use x=\"63.623047\" xlink:href=\"#DejaVuSans-39\"/>\n       <use x=\"127.246094\" xlink:href=\"#DejaVuSans-35\"/>\n       <use x=\"190.869141\" xlink:href=\"#DejaVuSans-34\"/>\n       <use x=\"254.492188\" xlink:href=\"#DejaVuSans-2e\"/>\n       <use x=\"286.279297\" xlink:href=\"#DejaVuSans-30\"/>\n      </g>\n     </g>\n    </g>\n    <g id=\"xtick_46\">\n     <g id=\"line2d_46\">\n      <g>\n       <use style=\"stroke:#000000;stroke-width:0.8;\" x=\"745.755398\" xlink:href=\"#m5dea25c551\" y=\"1094.4\"/>\n      </g>\n     </g>\n     <g id=\"text_46\">\n      <!-- 1955.0 -->\n      <g transform=\"translate(748.514773 1136.390625)rotate(-90)scale(0.1 -0.1)\">\n       <use xlink:href=\"#DejaVuSans-31\"/>\n       <use x=\"63.623047\" xlink:href=\"#DejaVuSans-39\"/>\n       <use x=\"127.246094\" xlink:href=\"#DejaVuSans-35\"/>\n       <use x=\"190.869141\" xlink:href=\"#DejaVuSans-35\"/>\n       <use x=\"254.492188\" xlink:href=\"#DejaVuSans-2e\"/>\n       <use x=\"286.279297\" xlink:href=\"#DejaVuSans-30\"/>\n      </g>\n     </g>\n    </g>\n    <g id=\"xtick_47\">\n     <g id=\"line2d_47\">\n      <g>\n       <use style=\"stroke:#000000;stroke-width:0.8;\" x=\"760.97358\" xlink:href=\"#m5dea25c551\" y=\"1094.4\"/>\n      </g>\n     </g>\n     <g id=\"text_47\">\n      <!-- 1956.0 -->\n      <g transform=\"translate(763.732955 1136.390625)rotate(-90)scale(0.1 -0.1)\">\n       <use xlink:href=\"#DejaVuSans-31\"/>\n       <use x=\"63.623047\" xlink:href=\"#DejaVuSans-39\"/>\n       <use x=\"127.246094\" xlink:href=\"#DejaVuSans-35\"/>\n       <use x=\"190.869141\" xlink:href=\"#DejaVuSans-36\"/>\n       <use x=\"254.492188\" xlink:href=\"#DejaVuSans-2e\"/>\n       <use x=\"286.279297\" xlink:href=\"#DejaVuSans-30\"/>\n      </g>\n     </g>\n    </g>\n    <g id=\"xtick_48\">\n     <g id=\"line2d_48\">\n      <g>\n       <use style=\"stroke:#000000;stroke-width:0.8;\" x=\"776.191761\" xlink:href=\"#m5dea25c551\" y=\"1094.4\"/>\n      </g>\n     </g>\n     <g id=\"text_48\">\n      <!-- 1957.0 -->\n      <g transform=\"translate(778.951136 1136.390625)rotate(-90)scale(0.1 -0.1)\">\n       <use xlink:href=\"#DejaVuSans-31\"/>\n       <use x=\"63.623047\" xlink:href=\"#DejaVuSans-39\"/>\n       <use x=\"127.246094\" xlink:href=\"#DejaVuSans-35\"/>\n       <use x=\"190.869141\" xlink:href=\"#DejaVuSans-37\"/>\n       <use x=\"254.492188\" xlink:href=\"#DejaVuSans-2e\"/>\n       <use x=\"286.279297\" xlink:href=\"#DejaVuSans-30\"/>\n      </g>\n     </g>\n    </g>\n    <g id=\"xtick_49\">\n     <g id=\"line2d_49\">\n      <g>\n       <use style=\"stroke:#000000;stroke-width:0.8;\" x=\"791.409943\" xlink:href=\"#m5dea25c551\" y=\"1094.4\"/>\n      </g>\n     </g>\n     <g id=\"text_49\">\n      <!-- 1958.0 -->\n      <g transform=\"translate(794.169318 1136.390625)rotate(-90)scale(0.1 -0.1)\">\n       <use xlink:href=\"#DejaVuSans-31\"/>\n       <use x=\"63.623047\" xlink:href=\"#DejaVuSans-39\"/>\n       <use x=\"127.246094\" xlink:href=\"#DejaVuSans-35\"/>\n       <use x=\"190.869141\" xlink:href=\"#DejaVuSans-38\"/>\n       <use x=\"254.492188\" xlink:href=\"#DejaVuSans-2e\"/>\n       <use x=\"286.279297\" xlink:href=\"#DejaVuSans-30\"/>\n      </g>\n     </g>\n    </g>\n    <g id=\"xtick_50\">\n     <g id=\"line2d_50\">\n      <g>\n       <use style=\"stroke:#000000;stroke-width:0.8;\" x=\"806.628125\" xlink:href=\"#m5dea25c551\" y=\"1094.4\"/>\n      </g>\n     </g>\n     <g id=\"text_50\">\n      <!-- 1959.0 -->\n      <g transform=\"translate(809.3875 1136.390625)rotate(-90)scale(0.1 -0.1)\">\n       <use xlink:href=\"#DejaVuSans-31\"/>\n       <use x=\"63.623047\" xlink:href=\"#DejaVuSans-39\"/>\n       <use x=\"127.246094\" xlink:href=\"#DejaVuSans-35\"/>\n       <use x=\"190.869141\" xlink:href=\"#DejaVuSans-39\"/>\n       <use x=\"254.492188\" xlink:href=\"#DejaVuSans-2e\"/>\n       <use x=\"286.279297\" xlink:href=\"#DejaVuSans-30\"/>\n      </g>\n     </g>\n    </g>\n    <g id=\"xtick_51\">\n     <g id=\"line2d_51\">\n      <g>\n       <use style=\"stroke:#000000;stroke-width:0.8;\" x=\"821.846307\" xlink:href=\"#m5dea25c551\" y=\"1094.4\"/>\n      </g>\n     </g>\n     <g id=\"text_51\">\n      <!-- 1960.0 -->\n      <g transform=\"translate(824.605682 1136.390625)rotate(-90)scale(0.1 -0.1)\">\n       <use xlink:href=\"#DejaVuSans-31\"/>\n       <use x=\"63.623047\" xlink:href=\"#DejaVuSans-39\"/>\n       <use x=\"127.246094\" xlink:href=\"#DejaVuSans-36\"/>\n       <use x=\"190.869141\" xlink:href=\"#DejaVuSans-30\"/>\n       <use x=\"254.492188\" xlink:href=\"#DejaVuSans-2e\"/>\n       <use x=\"286.279297\" xlink:href=\"#DejaVuSans-30\"/>\n      </g>\n     </g>\n    </g>\n    <g id=\"xtick_52\">\n     <g id=\"line2d_52\">\n      <g>\n       <use style=\"stroke:#000000;stroke-width:0.8;\" x=\"837.064489\" xlink:href=\"#m5dea25c551\" y=\"1094.4\"/>\n      </g>\n     </g>\n     <g id=\"text_52\">\n      <!-- 1961.0 -->\n      <g transform=\"translate(839.823864 1136.390625)rotate(-90)scale(0.1 -0.1)\">\n       <use xlink:href=\"#DejaVuSans-31\"/>\n       <use x=\"63.623047\" xlink:href=\"#DejaVuSans-39\"/>\n       <use x=\"127.246094\" xlink:href=\"#DejaVuSans-36\"/>\n       <use x=\"190.869141\" xlink:href=\"#DejaVuSans-31\"/>\n       <use x=\"254.492188\" xlink:href=\"#DejaVuSans-2e\"/>\n       <use x=\"286.279297\" xlink:href=\"#DejaVuSans-30\"/>\n      </g>\n     </g>\n    </g>\n    <g id=\"xtick_53\">\n     <g id=\"line2d_53\">\n      <g>\n       <use style=\"stroke:#000000;stroke-width:0.8;\" x=\"852.28267\" xlink:href=\"#m5dea25c551\" y=\"1094.4\"/>\n      </g>\n     </g>\n     <g id=\"text_53\">\n      <!-- 1962.0 -->\n      <g transform=\"translate(855.042045 1136.390625)rotate(-90)scale(0.1 -0.1)\">\n       <use xlink:href=\"#DejaVuSans-31\"/>\n       <use x=\"63.623047\" xlink:href=\"#DejaVuSans-39\"/>\n       <use x=\"127.246094\" xlink:href=\"#DejaVuSans-36\"/>\n       <use x=\"190.869141\" xlink:href=\"#DejaVuSans-32\"/>\n       <use x=\"254.492188\" xlink:href=\"#DejaVuSans-2e\"/>\n       <use x=\"286.279297\" xlink:href=\"#DejaVuSans-30\"/>\n      </g>\n     </g>\n    </g>\n    <g id=\"xtick_54\">\n     <g id=\"line2d_54\">\n      <g>\n       <use style=\"stroke:#000000;stroke-width:0.8;\" x=\"867.500852\" xlink:href=\"#m5dea25c551\" y=\"1094.4\"/>\n      </g>\n     </g>\n     <g id=\"text_54\">\n      <!-- 1963.0 -->\n      <g transform=\"translate(870.260227 1136.390625)rotate(-90)scale(0.1 -0.1)\">\n       <use xlink:href=\"#DejaVuSans-31\"/>\n       <use x=\"63.623047\" xlink:href=\"#DejaVuSans-39\"/>\n       <use x=\"127.246094\" xlink:href=\"#DejaVuSans-36\"/>\n       <use x=\"190.869141\" xlink:href=\"#DejaVuSans-33\"/>\n       <use x=\"254.492188\" xlink:href=\"#DejaVuSans-2e\"/>\n       <use x=\"286.279297\" xlink:href=\"#DejaVuSans-30\"/>\n      </g>\n     </g>\n    </g>\n    <g id=\"xtick_55\">\n     <g id=\"line2d_55\">\n      <g>\n       <use style=\"stroke:#000000;stroke-width:0.8;\" x=\"882.719034\" xlink:href=\"#m5dea25c551\" y=\"1094.4\"/>\n      </g>\n     </g>\n     <g id=\"text_55\">\n      <!-- 1964.0 -->\n      <g transform=\"translate(885.478409 1136.390625)rotate(-90)scale(0.1 -0.1)\">\n       <use xlink:href=\"#DejaVuSans-31\"/>\n       <use x=\"63.623047\" xlink:href=\"#DejaVuSans-39\"/>\n       <use x=\"127.246094\" xlink:href=\"#DejaVuSans-36\"/>\n       <use x=\"190.869141\" xlink:href=\"#DejaVuSans-34\"/>\n       <use x=\"254.492188\" xlink:href=\"#DejaVuSans-2e\"/>\n       <use x=\"286.279297\" xlink:href=\"#DejaVuSans-30\"/>\n      </g>\n     </g>\n    </g>\n    <g id=\"xtick_56\">\n     <g id=\"line2d_56\">\n      <g>\n       <use style=\"stroke:#000000;stroke-width:0.8;\" x=\"897.937216\" xlink:href=\"#m5dea25c551\" y=\"1094.4\"/>\n      </g>\n     </g>\n     <g id=\"text_56\">\n      <!-- 1965.0 -->\n      <g transform=\"translate(900.696591 1136.390625)rotate(-90)scale(0.1 -0.1)\">\n       <use xlink:href=\"#DejaVuSans-31\"/>\n       <use x=\"63.623047\" xlink:href=\"#DejaVuSans-39\"/>\n       <use x=\"127.246094\" xlink:href=\"#DejaVuSans-36\"/>\n       <use x=\"190.869141\" xlink:href=\"#DejaVuSans-35\"/>\n       <use x=\"254.492188\" xlink:href=\"#DejaVuSans-2e\"/>\n       <use x=\"286.279297\" xlink:href=\"#DejaVuSans-30\"/>\n      </g>\n     </g>\n    </g>\n    <g id=\"xtick_57\">\n     <g id=\"line2d_57\">\n      <g>\n       <use style=\"stroke:#000000;stroke-width:0.8;\" x=\"913.155398\" xlink:href=\"#m5dea25c551\" y=\"1094.4\"/>\n      </g>\n     </g>\n     <g id=\"text_57\">\n      <!-- 1966.0 -->\n      <g transform=\"translate(915.914773 1136.390625)rotate(-90)scale(0.1 -0.1)\">\n       <use xlink:href=\"#DejaVuSans-31\"/>\n       <use x=\"63.623047\" xlink:href=\"#DejaVuSans-39\"/>\n       <use x=\"127.246094\" xlink:href=\"#DejaVuSans-36\"/>\n       <use x=\"190.869141\" xlink:href=\"#DejaVuSans-36\"/>\n       <use x=\"254.492188\" xlink:href=\"#DejaVuSans-2e\"/>\n       <use x=\"286.279297\" xlink:href=\"#DejaVuSans-30\"/>\n      </g>\n     </g>\n    </g>\n    <g id=\"xtick_58\">\n     <g id=\"line2d_58\">\n      <g>\n       <use style=\"stroke:#000000;stroke-width:0.8;\" x=\"928.37358\" xlink:href=\"#m5dea25c551\" y=\"1094.4\"/>\n      </g>\n     </g>\n     <g id=\"text_58\">\n      <!-- 1967.0 -->\n      <g transform=\"translate(931.132955 1136.390625)rotate(-90)scale(0.1 -0.1)\">\n       <use xlink:href=\"#DejaVuSans-31\"/>\n       <use x=\"63.623047\" xlink:href=\"#DejaVuSans-39\"/>\n       <use x=\"127.246094\" xlink:href=\"#DejaVuSans-36\"/>\n       <use x=\"190.869141\" xlink:href=\"#DejaVuSans-37\"/>\n       <use x=\"254.492188\" xlink:href=\"#DejaVuSans-2e\"/>\n       <use x=\"286.279297\" xlink:href=\"#DejaVuSans-30\"/>\n      </g>\n     </g>\n    </g>\n    <g id=\"xtick_59\">\n     <g id=\"line2d_59\">\n      <g>\n       <use style=\"stroke:#000000;stroke-width:0.8;\" x=\"943.591761\" xlink:href=\"#m5dea25c551\" y=\"1094.4\"/>\n      </g>\n     </g>\n     <g id=\"text_59\">\n      <!-- 1968.0 -->\n      <g transform=\"translate(946.351136 1136.390625)rotate(-90)scale(0.1 -0.1)\">\n       <use xlink:href=\"#DejaVuSans-31\"/>\n       <use x=\"63.623047\" xlink:href=\"#DejaVuSans-39\"/>\n       <use x=\"127.246094\" xlink:href=\"#DejaVuSans-36\"/>\n       <use x=\"190.869141\" xlink:href=\"#DejaVuSans-38\"/>\n       <use x=\"254.492188\" xlink:href=\"#DejaVuSans-2e\"/>\n       <use x=\"286.279297\" xlink:href=\"#DejaVuSans-30\"/>\n      </g>\n     </g>\n    </g>\n    <g id=\"xtick_60\">\n     <g id=\"line2d_60\">\n      <g>\n       <use style=\"stroke:#000000;stroke-width:0.8;\" x=\"958.809943\" xlink:href=\"#m5dea25c551\" y=\"1094.4\"/>\n      </g>\n     </g>\n     <g id=\"text_60\">\n      <!-- 1969.0 -->\n      <g transform=\"translate(961.569318 1136.390625)rotate(-90)scale(0.1 -0.1)\">\n       <use xlink:href=\"#DejaVuSans-31\"/>\n       <use x=\"63.623047\" xlink:href=\"#DejaVuSans-39\"/>\n       <use x=\"127.246094\" xlink:href=\"#DejaVuSans-36\"/>\n       <use x=\"190.869141\" xlink:href=\"#DejaVuSans-39\"/>\n       <use x=\"254.492188\" xlink:href=\"#DejaVuSans-2e\"/>\n       <use x=\"286.279297\" xlink:href=\"#DejaVuSans-30\"/>\n      </g>\n     </g>\n    </g>\n    <g id=\"xtick_61\">\n     <g id=\"line2d_61\">\n      <g>\n       <use style=\"stroke:#000000;stroke-width:0.8;\" x=\"974.028125\" xlink:href=\"#m5dea25c551\" y=\"1094.4\"/>\n      </g>\n     </g>\n     <g id=\"text_61\">\n      <!-- 1970.0 -->\n      <g transform=\"translate(976.7875 1136.390625)rotate(-90)scale(0.1 -0.1)\">\n       <use xlink:href=\"#DejaVuSans-31\"/>\n       <use x=\"63.623047\" xlink:href=\"#DejaVuSans-39\"/>\n       <use x=\"127.246094\" xlink:href=\"#DejaVuSans-37\"/>\n       <use x=\"190.869141\" xlink:href=\"#DejaVuSans-30\"/>\n       <use x=\"254.492188\" xlink:href=\"#DejaVuSans-2e\"/>\n       <use x=\"286.279297\" xlink:href=\"#DejaVuSans-30\"/>\n      </g>\n     </g>\n    </g>\n    <g id=\"xtick_62\">\n     <g id=\"line2d_62\">\n      <g>\n       <use style=\"stroke:#000000;stroke-width:0.8;\" x=\"989.246307\" xlink:href=\"#m5dea25c551\" y=\"1094.4\"/>\n      </g>\n     </g>\n     <g id=\"text_62\">\n      <!-- 1971.0 -->\n      <g transform=\"translate(992.005682 1136.390625)rotate(-90)scale(0.1 -0.1)\">\n       <use xlink:href=\"#DejaVuSans-31\"/>\n       <use x=\"63.623047\" xlink:href=\"#DejaVuSans-39\"/>\n       <use x=\"127.246094\" xlink:href=\"#DejaVuSans-37\"/>\n       <use x=\"190.869141\" xlink:href=\"#DejaVuSans-31\"/>\n       <use x=\"254.492188\" xlink:href=\"#DejaVuSans-2e\"/>\n       <use x=\"286.279297\" xlink:href=\"#DejaVuSans-30\"/>\n      </g>\n     </g>\n    </g>\n    <g id=\"xtick_63\">\n     <g id=\"line2d_63\">\n      <g>\n       <use style=\"stroke:#000000;stroke-width:0.8;\" x=\"1004.464489\" xlink:href=\"#m5dea25c551\" y=\"1094.4\"/>\n      </g>\n     </g>\n     <g id=\"text_63\">\n      <!-- 1972.0 -->\n      <g transform=\"translate(1007.223864 1136.390625)rotate(-90)scale(0.1 -0.1)\">\n       <use xlink:href=\"#DejaVuSans-31\"/>\n       <use x=\"63.623047\" xlink:href=\"#DejaVuSans-39\"/>\n       <use x=\"127.246094\" xlink:href=\"#DejaVuSans-37\"/>\n       <use x=\"190.869141\" xlink:href=\"#DejaVuSans-32\"/>\n       <use x=\"254.492188\" xlink:href=\"#DejaVuSans-2e\"/>\n       <use x=\"286.279297\" xlink:href=\"#DejaVuSans-30\"/>\n      </g>\n     </g>\n    </g>\n    <g id=\"xtick_64\">\n     <g id=\"line2d_64\">\n      <g>\n       <use style=\"stroke:#000000;stroke-width:0.8;\" x=\"1019.68267\" xlink:href=\"#m5dea25c551\" y=\"1094.4\"/>\n      </g>\n     </g>\n     <g id=\"text_64\">\n      <!-- 1973.0 -->\n      <g transform=\"translate(1022.442045 1136.390625)rotate(-90)scale(0.1 -0.1)\">\n       <use xlink:href=\"#DejaVuSans-31\"/>\n       <use x=\"63.623047\" xlink:href=\"#DejaVuSans-39\"/>\n       <use x=\"127.246094\" xlink:href=\"#DejaVuSans-37\"/>\n       <use x=\"190.869141\" xlink:href=\"#DejaVuSans-33\"/>\n       <use x=\"254.492188\" xlink:href=\"#DejaVuSans-2e\"/>\n       <use x=\"286.279297\" xlink:href=\"#DejaVuSans-30\"/>\n      </g>\n     </g>\n    </g>\n    <g id=\"xtick_65\">\n     <g id=\"line2d_65\">\n      <g>\n       <use style=\"stroke:#000000;stroke-width:0.8;\" x=\"1034.900852\" xlink:href=\"#m5dea25c551\" y=\"1094.4\"/>\n      </g>\n     </g>\n     <g id=\"text_65\">\n      <!-- 1974.0 -->\n      <g transform=\"translate(1037.660227 1136.390625)rotate(-90)scale(0.1 -0.1)\">\n       <use xlink:href=\"#DejaVuSans-31\"/>\n       <use x=\"63.623047\" xlink:href=\"#DejaVuSans-39\"/>\n       <use x=\"127.246094\" xlink:href=\"#DejaVuSans-37\"/>\n       <use x=\"190.869141\" xlink:href=\"#DejaVuSans-34\"/>\n       <use x=\"254.492188\" xlink:href=\"#DejaVuSans-2e\"/>\n       <use x=\"286.279297\" xlink:href=\"#DejaVuSans-30\"/>\n      </g>\n     </g>\n    </g>\n    <g id=\"xtick_66\">\n     <g id=\"line2d_66\">\n      <g>\n       <use style=\"stroke:#000000;stroke-width:0.8;\" x=\"1050.119034\" xlink:href=\"#m5dea25c551\" y=\"1094.4\"/>\n      </g>\n     </g>\n     <g id=\"text_66\">\n      <!-- 1975.0 -->\n      <g transform=\"translate(1052.878409 1136.390625)rotate(-90)scale(0.1 -0.1)\">\n       <use xlink:href=\"#DejaVuSans-31\"/>\n       <use x=\"63.623047\" xlink:href=\"#DejaVuSans-39\"/>\n       <use x=\"127.246094\" xlink:href=\"#DejaVuSans-37\"/>\n       <use x=\"190.869141\" xlink:href=\"#DejaVuSans-35\"/>\n       <use x=\"254.492188\" xlink:href=\"#DejaVuSans-2e\"/>\n       <use x=\"286.279297\" xlink:href=\"#DejaVuSans-30\"/>\n      </g>\n     </g>\n    </g>\n    <g id=\"xtick_67\">\n     <g id=\"line2d_67\">\n      <g>\n       <use style=\"stroke:#000000;stroke-width:0.8;\" x=\"1065.337216\" xlink:href=\"#m5dea25c551\" y=\"1094.4\"/>\n      </g>\n     </g>\n     <g id=\"text_67\">\n      <!-- 1976.0 -->\n      <g transform=\"translate(1068.096591 1136.390625)rotate(-90)scale(0.1 -0.1)\">\n       <use xlink:href=\"#DejaVuSans-31\"/>\n       <use x=\"63.623047\" xlink:href=\"#DejaVuSans-39\"/>\n       <use x=\"127.246094\" xlink:href=\"#DejaVuSans-37\"/>\n       <use x=\"190.869141\" xlink:href=\"#DejaVuSans-36\"/>\n       <use x=\"254.492188\" xlink:href=\"#DejaVuSans-2e\"/>\n       <use x=\"286.279297\" xlink:href=\"#DejaVuSans-30\"/>\n      </g>\n     </g>\n    </g>\n    <g id=\"xtick_68\">\n     <g id=\"line2d_68\">\n      <g>\n       <use style=\"stroke:#000000;stroke-width:0.8;\" x=\"1080.555398\" xlink:href=\"#m5dea25c551\" y=\"1094.4\"/>\n      </g>\n     </g>\n     <g id=\"text_68\">\n      <!-- 1977.0 -->\n      <g transform=\"translate(1083.314773 1136.390625)rotate(-90)scale(0.1 -0.1)\">\n       <use xlink:href=\"#DejaVuSans-31\"/>\n       <use x=\"63.623047\" xlink:href=\"#DejaVuSans-39\"/>\n       <use x=\"127.246094\" xlink:href=\"#DejaVuSans-37\"/>\n       <use x=\"190.869141\" xlink:href=\"#DejaVuSans-37\"/>\n       <use x=\"254.492188\" xlink:href=\"#DejaVuSans-2e\"/>\n       <use x=\"286.279297\" xlink:href=\"#DejaVuSans-30\"/>\n      </g>\n     </g>\n    </g>\n    <g id=\"xtick_69\">\n     <g id=\"line2d_69\">\n      <g>\n       <use style=\"stroke:#000000;stroke-width:0.8;\" x=\"1095.77358\" xlink:href=\"#m5dea25c551\" y=\"1094.4\"/>\n      </g>\n     </g>\n     <g id=\"text_69\">\n      <!-- 1978.0 -->\n      <g transform=\"translate(1098.532955 1136.390625)rotate(-90)scale(0.1 -0.1)\">\n       <use xlink:href=\"#DejaVuSans-31\"/>\n       <use x=\"63.623047\" xlink:href=\"#DejaVuSans-39\"/>\n       <use x=\"127.246094\" xlink:href=\"#DejaVuSans-37\"/>\n       <use x=\"190.869141\" xlink:href=\"#DejaVuSans-38\"/>\n       <use x=\"254.492188\" xlink:href=\"#DejaVuSans-2e\"/>\n       <use x=\"286.279297\" xlink:href=\"#DejaVuSans-30\"/>\n      </g>\n     </g>\n    </g>\n    <g id=\"xtick_70\">\n     <g id=\"line2d_70\">\n      <g>\n       <use style=\"stroke:#000000;stroke-width:0.8;\" x=\"1110.991761\" xlink:href=\"#m5dea25c551\" y=\"1094.4\"/>\n      </g>\n     </g>\n     <g id=\"text_70\">\n      <!-- 1979.0 -->\n      <g transform=\"translate(1113.751136 1136.390625)rotate(-90)scale(0.1 -0.1)\">\n       <use xlink:href=\"#DejaVuSans-31\"/>\n       <use x=\"63.623047\" xlink:href=\"#DejaVuSans-39\"/>\n       <use x=\"127.246094\" xlink:href=\"#DejaVuSans-37\"/>\n       <use x=\"190.869141\" xlink:href=\"#DejaVuSans-39\"/>\n       <use x=\"254.492188\" xlink:href=\"#DejaVuSans-2e\"/>\n       <use x=\"286.279297\" xlink:href=\"#DejaVuSans-30\"/>\n      </g>\n     </g>\n    </g>\n    <g id=\"xtick_71\">\n     <g id=\"line2d_71\">\n      <g>\n       <use style=\"stroke:#000000;stroke-width:0.8;\" x=\"1126.209943\" xlink:href=\"#m5dea25c551\" y=\"1094.4\"/>\n      </g>\n     </g>\n     <g id=\"text_71\">\n      <!-- 1980.0 -->\n      <g transform=\"translate(1128.969318 1136.390625)rotate(-90)scale(0.1 -0.1)\">\n       <use xlink:href=\"#DejaVuSans-31\"/>\n       <use x=\"63.623047\" xlink:href=\"#DejaVuSans-39\"/>\n       <use x=\"127.246094\" xlink:href=\"#DejaVuSans-38\"/>\n       <use x=\"190.869141\" xlink:href=\"#DejaVuSans-30\"/>\n       <use x=\"254.492188\" xlink:href=\"#DejaVuSans-2e\"/>\n       <use x=\"286.279297\" xlink:href=\"#DejaVuSans-30\"/>\n      </g>\n     </g>\n    </g>\n    <g id=\"xtick_72\">\n     <g id=\"line2d_72\">\n      <g>\n       <use style=\"stroke:#000000;stroke-width:0.8;\" x=\"1141.428125\" xlink:href=\"#m5dea25c551\" y=\"1094.4\"/>\n      </g>\n     </g>\n     <g id=\"text_72\">\n      <!-- 1981.0 -->\n      <g transform=\"translate(1144.1875 1136.390625)rotate(-90)scale(0.1 -0.1)\">\n       <use xlink:href=\"#DejaVuSans-31\"/>\n       <use x=\"63.623047\" xlink:href=\"#DejaVuSans-39\"/>\n       <use x=\"127.246094\" xlink:href=\"#DejaVuSans-38\"/>\n       <use x=\"190.869141\" xlink:href=\"#DejaVuSans-31\"/>\n       <use x=\"254.492188\" xlink:href=\"#DejaVuSans-2e\"/>\n       <use x=\"286.279297\" xlink:href=\"#DejaVuSans-30\"/>\n      </g>\n     </g>\n    </g>\n    <g id=\"xtick_73\">\n     <g id=\"line2d_73\">\n      <g>\n       <use style=\"stroke:#000000;stroke-width:0.8;\" x=\"1156.646307\" xlink:href=\"#m5dea25c551\" y=\"1094.4\"/>\n      </g>\n     </g>\n     <g id=\"text_73\">\n      <!-- 1982.0 -->\n      <g transform=\"translate(1159.405682 1136.390625)rotate(-90)scale(0.1 -0.1)\">\n       <use xlink:href=\"#DejaVuSans-31\"/>\n       <use x=\"63.623047\" xlink:href=\"#DejaVuSans-39\"/>\n       <use x=\"127.246094\" xlink:href=\"#DejaVuSans-38\"/>\n       <use x=\"190.869141\" xlink:href=\"#DejaVuSans-32\"/>\n       <use x=\"254.492188\" xlink:href=\"#DejaVuSans-2e\"/>\n       <use x=\"286.279297\" xlink:href=\"#DejaVuSans-30\"/>\n      </g>\n     </g>\n    </g>\n    <g id=\"xtick_74\">\n     <g id=\"line2d_74\">\n      <g>\n       <use style=\"stroke:#000000;stroke-width:0.8;\" x=\"1171.864489\" xlink:href=\"#m5dea25c551\" y=\"1094.4\"/>\n      </g>\n     </g>\n     <g id=\"text_74\">\n      <!-- 1983.0 -->\n      <g transform=\"translate(1174.623864 1136.390625)rotate(-90)scale(0.1 -0.1)\">\n       <use xlink:href=\"#DejaVuSans-31\"/>\n       <use x=\"63.623047\" xlink:href=\"#DejaVuSans-39\"/>\n       <use x=\"127.246094\" xlink:href=\"#DejaVuSans-38\"/>\n       <use x=\"190.869141\" xlink:href=\"#DejaVuSans-33\"/>\n       <use x=\"254.492188\" xlink:href=\"#DejaVuSans-2e\"/>\n       <use x=\"286.279297\" xlink:href=\"#DejaVuSans-30\"/>\n      </g>\n     </g>\n    </g>\n    <g id=\"xtick_75\">\n     <g id=\"line2d_75\">\n      <g>\n       <use style=\"stroke:#000000;stroke-width:0.8;\" x=\"1187.08267\" xlink:href=\"#m5dea25c551\" y=\"1094.4\"/>\n      </g>\n     </g>\n     <g id=\"text_75\">\n      <!-- 1984.0 -->\n      <g transform=\"translate(1189.842045 1136.390625)rotate(-90)scale(0.1 -0.1)\">\n       <use xlink:href=\"#DejaVuSans-31\"/>\n       <use x=\"63.623047\" xlink:href=\"#DejaVuSans-39\"/>\n       <use x=\"127.246094\" xlink:href=\"#DejaVuSans-38\"/>\n       <use x=\"190.869141\" xlink:href=\"#DejaVuSans-34\"/>\n       <use x=\"254.492188\" xlink:href=\"#DejaVuSans-2e\"/>\n       <use x=\"286.279297\" xlink:href=\"#DejaVuSans-30\"/>\n      </g>\n     </g>\n    </g>\n    <g id=\"xtick_76\">\n     <g id=\"line2d_76\">\n      <g>\n       <use style=\"stroke:#000000;stroke-width:0.8;\" x=\"1202.300852\" xlink:href=\"#m5dea25c551\" y=\"1094.4\"/>\n      </g>\n     </g>\n     <g id=\"text_76\">\n      <!-- 1985.0 -->\n      <g transform=\"translate(1205.060227 1136.390625)rotate(-90)scale(0.1 -0.1)\">\n       <use xlink:href=\"#DejaVuSans-31\"/>\n       <use x=\"63.623047\" xlink:href=\"#DejaVuSans-39\"/>\n       <use x=\"127.246094\" xlink:href=\"#DejaVuSans-38\"/>\n       <use x=\"190.869141\" xlink:href=\"#DejaVuSans-35\"/>\n       <use x=\"254.492188\" xlink:href=\"#DejaVuSans-2e\"/>\n       <use x=\"286.279297\" xlink:href=\"#DejaVuSans-30\"/>\n      </g>\n     </g>\n    </g>\n    <g id=\"xtick_77\">\n     <g id=\"line2d_77\">\n      <g>\n       <use style=\"stroke:#000000;stroke-width:0.8;\" x=\"1217.519034\" xlink:href=\"#m5dea25c551\" y=\"1094.4\"/>\n      </g>\n     </g>\n     <g id=\"text_77\">\n      <!-- 1986.0 -->\n      <g transform=\"translate(1220.278409 1136.390625)rotate(-90)scale(0.1 -0.1)\">\n       <use xlink:href=\"#DejaVuSans-31\"/>\n       <use x=\"63.623047\" xlink:href=\"#DejaVuSans-39\"/>\n       <use x=\"127.246094\" xlink:href=\"#DejaVuSans-38\"/>\n       <use x=\"190.869141\" xlink:href=\"#DejaVuSans-36\"/>\n       <use x=\"254.492188\" xlink:href=\"#DejaVuSans-2e\"/>\n       <use x=\"286.279297\" xlink:href=\"#DejaVuSans-30\"/>\n      </g>\n     </g>\n    </g>\n    <g id=\"xtick_78\">\n     <g id=\"line2d_78\">\n      <g>\n       <use style=\"stroke:#000000;stroke-width:0.8;\" x=\"1232.737216\" xlink:href=\"#m5dea25c551\" y=\"1094.4\"/>\n      </g>\n     </g>\n     <g id=\"text_78\">\n      <!-- 1987.0 -->\n      <g transform=\"translate(1235.496591 1136.390625)rotate(-90)scale(0.1 -0.1)\">\n       <use xlink:href=\"#DejaVuSans-31\"/>\n       <use x=\"63.623047\" xlink:href=\"#DejaVuSans-39\"/>\n       <use x=\"127.246094\" xlink:href=\"#DejaVuSans-38\"/>\n       <use x=\"190.869141\" xlink:href=\"#DejaVuSans-37\"/>\n       <use x=\"254.492188\" xlink:href=\"#DejaVuSans-2e\"/>\n       <use x=\"286.279297\" xlink:href=\"#DejaVuSans-30\"/>\n      </g>\n     </g>\n    </g>\n    <g id=\"xtick_79\">\n     <g id=\"line2d_79\">\n      <g>\n       <use style=\"stroke:#000000;stroke-width:0.8;\" x=\"1247.955398\" xlink:href=\"#m5dea25c551\" y=\"1094.4\"/>\n      </g>\n     </g>\n     <g id=\"text_79\">\n      <!-- 1988.0 -->\n      <g transform=\"translate(1250.714773 1136.390625)rotate(-90)scale(0.1 -0.1)\">\n       <use xlink:href=\"#DejaVuSans-31\"/>\n       <use x=\"63.623047\" xlink:href=\"#DejaVuSans-39\"/>\n       <use x=\"127.246094\" xlink:href=\"#DejaVuSans-38\"/>\n       <use x=\"190.869141\" xlink:href=\"#DejaVuSans-38\"/>\n       <use x=\"254.492188\" xlink:href=\"#DejaVuSans-2e\"/>\n       <use x=\"286.279297\" xlink:href=\"#DejaVuSans-30\"/>\n      </g>\n     </g>\n    </g>\n    <g id=\"xtick_80\">\n     <g id=\"line2d_80\">\n      <g>\n       <use style=\"stroke:#000000;stroke-width:0.8;\" x=\"1263.17358\" xlink:href=\"#m5dea25c551\" y=\"1094.4\"/>\n      </g>\n     </g>\n     <g id=\"text_80\">\n      <!-- 1989.0 -->\n      <g transform=\"translate(1265.932955 1136.390625)rotate(-90)scale(0.1 -0.1)\">\n       <use xlink:href=\"#DejaVuSans-31\"/>\n       <use x=\"63.623047\" xlink:href=\"#DejaVuSans-39\"/>\n       <use x=\"127.246094\" xlink:href=\"#DejaVuSans-38\"/>\n       <use x=\"190.869141\" xlink:href=\"#DejaVuSans-39\"/>\n       <use x=\"254.492188\" xlink:href=\"#DejaVuSans-2e\"/>\n       <use x=\"286.279297\" xlink:href=\"#DejaVuSans-30\"/>\n      </g>\n     </g>\n    </g>\n    <g id=\"xtick_81\">\n     <g id=\"line2d_81\">\n      <g>\n       <use style=\"stroke:#000000;stroke-width:0.8;\" x=\"1278.391761\" xlink:href=\"#m5dea25c551\" y=\"1094.4\"/>\n      </g>\n     </g>\n     <g id=\"text_81\">\n      <!-- 1990.0 -->\n      <g transform=\"translate(1281.151136 1136.390625)rotate(-90)scale(0.1 -0.1)\">\n       <use xlink:href=\"#DejaVuSans-31\"/>\n       <use x=\"63.623047\" xlink:href=\"#DejaVuSans-39\"/>\n       <use x=\"127.246094\" xlink:href=\"#DejaVuSans-39\"/>\n       <use x=\"190.869141\" xlink:href=\"#DejaVuSans-30\"/>\n       <use x=\"254.492188\" xlink:href=\"#DejaVuSans-2e\"/>\n       <use x=\"286.279297\" xlink:href=\"#DejaVuSans-30\"/>\n      </g>\n     </g>\n    </g>\n    <g id=\"xtick_82\">\n     <g id=\"line2d_82\">\n      <g>\n       <use style=\"stroke:#000000;stroke-width:0.8;\" x=\"1293.609943\" xlink:href=\"#m5dea25c551\" y=\"1094.4\"/>\n      </g>\n     </g>\n     <g id=\"text_82\">\n      <!-- 1991.0 -->\n      <g transform=\"translate(1296.369318 1136.390625)rotate(-90)scale(0.1 -0.1)\">\n       <use xlink:href=\"#DejaVuSans-31\"/>\n       <use x=\"63.623047\" xlink:href=\"#DejaVuSans-39\"/>\n       <use x=\"127.246094\" xlink:href=\"#DejaVuSans-39\"/>\n       <use x=\"190.869141\" xlink:href=\"#DejaVuSans-31\"/>\n       <use x=\"254.492188\" xlink:href=\"#DejaVuSans-2e\"/>\n       <use x=\"286.279297\" xlink:href=\"#DejaVuSans-30\"/>\n      </g>\n     </g>\n    </g>\n    <g id=\"xtick_83\">\n     <g id=\"line2d_83\">\n      <g>\n       <use style=\"stroke:#000000;stroke-width:0.8;\" x=\"1308.828125\" xlink:href=\"#m5dea25c551\" y=\"1094.4\"/>\n      </g>\n     </g>\n     <g id=\"text_83\">\n      <!-- 1992.0 -->\n      <g transform=\"translate(1311.5875 1136.390625)rotate(-90)scale(0.1 -0.1)\">\n       <use xlink:href=\"#DejaVuSans-31\"/>\n       <use x=\"63.623047\" xlink:href=\"#DejaVuSans-39\"/>\n       <use x=\"127.246094\" xlink:href=\"#DejaVuSans-39\"/>\n       <use x=\"190.869141\" xlink:href=\"#DejaVuSans-32\"/>\n       <use x=\"254.492188\" xlink:href=\"#DejaVuSans-2e\"/>\n       <use x=\"286.279297\" xlink:href=\"#DejaVuSans-30\"/>\n      </g>\n     </g>\n    </g>\n    <g id=\"xtick_84\">\n     <g id=\"line2d_84\">\n      <g>\n       <use style=\"stroke:#000000;stroke-width:0.8;\" x=\"1324.046307\" xlink:href=\"#m5dea25c551\" y=\"1094.4\"/>\n      </g>\n     </g>\n     <g id=\"text_84\">\n      <!-- 1993.0 -->\n      <g transform=\"translate(1326.805682 1136.390625)rotate(-90)scale(0.1 -0.1)\">\n       <use xlink:href=\"#DejaVuSans-31\"/>\n       <use x=\"63.623047\" xlink:href=\"#DejaVuSans-39\"/>\n       <use x=\"127.246094\" xlink:href=\"#DejaVuSans-39\"/>\n       <use x=\"190.869141\" xlink:href=\"#DejaVuSans-33\"/>\n       <use x=\"254.492188\" xlink:href=\"#DejaVuSans-2e\"/>\n       <use x=\"286.279297\" xlink:href=\"#DejaVuSans-30\"/>\n      </g>\n     </g>\n    </g>\n    <g id=\"xtick_85\">\n     <g id=\"line2d_85\">\n      <g>\n       <use style=\"stroke:#000000;stroke-width:0.8;\" x=\"1339.264489\" xlink:href=\"#m5dea25c551\" y=\"1094.4\"/>\n      </g>\n     </g>\n     <g id=\"text_85\">\n      <!-- 1994.0 -->\n      <g transform=\"translate(1342.023864 1136.390625)rotate(-90)scale(0.1 -0.1)\">\n       <use xlink:href=\"#DejaVuSans-31\"/>\n       <use x=\"63.623047\" xlink:href=\"#DejaVuSans-39\"/>\n       <use x=\"127.246094\" xlink:href=\"#DejaVuSans-39\"/>\n       <use x=\"190.869141\" xlink:href=\"#DejaVuSans-34\"/>\n       <use x=\"254.492188\" xlink:href=\"#DejaVuSans-2e\"/>\n       <use x=\"286.279297\" xlink:href=\"#DejaVuSans-30\"/>\n      </g>\n     </g>\n    </g>\n    <g id=\"xtick_86\">\n     <g id=\"line2d_86\">\n      <g>\n       <use style=\"stroke:#000000;stroke-width:0.8;\" x=\"1354.48267\" xlink:href=\"#m5dea25c551\" y=\"1094.4\"/>\n      </g>\n     </g>\n     <g id=\"text_86\">\n      <!-- 1995.0 -->\n      <g transform=\"translate(1357.242045 1136.390625)rotate(-90)scale(0.1 -0.1)\">\n       <use xlink:href=\"#DejaVuSans-31\"/>\n       <use x=\"63.623047\" xlink:href=\"#DejaVuSans-39\"/>\n       <use x=\"127.246094\" xlink:href=\"#DejaVuSans-39\"/>\n       <use x=\"190.869141\" xlink:href=\"#DejaVuSans-35\"/>\n       <use x=\"254.492188\" xlink:href=\"#DejaVuSans-2e\"/>\n       <use x=\"286.279297\" xlink:href=\"#DejaVuSans-30\"/>\n      </g>\n     </g>\n    </g>\n    <g id=\"xtick_87\">\n     <g id=\"line2d_87\">\n      <g>\n       <use style=\"stroke:#000000;stroke-width:0.8;\" x=\"1369.700852\" xlink:href=\"#m5dea25c551\" y=\"1094.4\"/>\n      </g>\n     </g>\n     <g id=\"text_87\">\n      <!-- 1996.0 -->\n      <g transform=\"translate(1372.460227 1136.390625)rotate(-90)scale(0.1 -0.1)\">\n       <use xlink:href=\"#DejaVuSans-31\"/>\n       <use x=\"63.623047\" xlink:href=\"#DejaVuSans-39\"/>\n       <use x=\"127.246094\" xlink:href=\"#DejaVuSans-39\"/>\n       <use x=\"190.869141\" xlink:href=\"#DejaVuSans-36\"/>\n       <use x=\"254.492188\" xlink:href=\"#DejaVuSans-2e\"/>\n       <use x=\"286.279297\" xlink:href=\"#DejaVuSans-30\"/>\n      </g>\n     </g>\n    </g>\n    <g id=\"xtick_88\">\n     <g id=\"line2d_88\">\n      <g>\n       <use style=\"stroke:#000000;stroke-width:0.8;\" x=\"1384.919034\" xlink:href=\"#m5dea25c551\" y=\"1094.4\"/>\n      </g>\n     </g>\n     <g id=\"text_88\">\n      <!-- 1997.0 -->\n      <g transform=\"translate(1387.678409 1136.390625)rotate(-90)scale(0.1 -0.1)\">\n       <use xlink:href=\"#DejaVuSans-31\"/>\n       <use x=\"63.623047\" xlink:href=\"#DejaVuSans-39\"/>\n       <use x=\"127.246094\" xlink:href=\"#DejaVuSans-39\"/>\n       <use x=\"190.869141\" xlink:href=\"#DejaVuSans-37\"/>\n       <use x=\"254.492188\" xlink:href=\"#DejaVuSans-2e\"/>\n       <use x=\"286.279297\" xlink:href=\"#DejaVuSans-30\"/>\n      </g>\n     </g>\n    </g>\n    <g id=\"xtick_89\">\n     <g id=\"line2d_89\">\n      <g>\n       <use style=\"stroke:#000000;stroke-width:0.8;\" x=\"1400.137216\" xlink:href=\"#m5dea25c551\" y=\"1094.4\"/>\n      </g>\n     </g>\n     <g id=\"text_89\">\n      <!-- 1998.0 -->\n      <g transform=\"translate(1402.896591 1136.390625)rotate(-90)scale(0.1 -0.1)\">\n       <use xlink:href=\"#DejaVuSans-31\"/>\n       <use x=\"63.623047\" xlink:href=\"#DejaVuSans-39\"/>\n       <use x=\"127.246094\" xlink:href=\"#DejaVuSans-39\"/>\n       <use x=\"190.869141\" xlink:href=\"#DejaVuSans-38\"/>\n       <use x=\"254.492188\" xlink:href=\"#DejaVuSans-2e\"/>\n       <use x=\"286.279297\" xlink:href=\"#DejaVuSans-30\"/>\n      </g>\n     </g>\n    </g>\n    <g id=\"xtick_90\">\n     <g id=\"line2d_90\">\n      <g>\n       <use style=\"stroke:#000000;stroke-width:0.8;\" x=\"1415.355398\" xlink:href=\"#m5dea25c551\" y=\"1094.4\"/>\n      </g>\n     </g>\n     <g id=\"text_90\">\n      <!-- 1999.0 -->\n      <g transform=\"translate(1418.114773 1136.390625)rotate(-90)scale(0.1 -0.1)\">\n       <use xlink:href=\"#DejaVuSans-31\"/>\n       <use x=\"63.623047\" xlink:href=\"#DejaVuSans-39\"/>\n       <use x=\"127.246094\" xlink:href=\"#DejaVuSans-39\"/>\n       <use x=\"190.869141\" xlink:href=\"#DejaVuSans-39\"/>\n       <use x=\"254.492188\" xlink:href=\"#DejaVuSans-2e\"/>\n       <use x=\"286.279297\" xlink:href=\"#DejaVuSans-30\"/>\n      </g>\n     </g>\n    </g>\n    <g id=\"xtick_91\">\n     <g id=\"line2d_91\">\n      <g>\n       <use style=\"stroke:#000000;stroke-width:0.8;\" x=\"1430.57358\" xlink:href=\"#m5dea25c551\" y=\"1094.4\"/>\n      </g>\n     </g>\n     <g id=\"text_91\">\n      <!-- 2000.0 -->\n      <g transform=\"translate(1433.332955 1136.390625)rotate(-90)scale(0.1 -0.1)\">\n       <use xlink:href=\"#DejaVuSans-32\"/>\n       <use x=\"63.623047\" xlink:href=\"#DejaVuSans-30\"/>\n       <use x=\"127.246094\" xlink:href=\"#DejaVuSans-30\"/>\n       <use x=\"190.869141\" xlink:href=\"#DejaVuSans-30\"/>\n       <use x=\"254.492188\" xlink:href=\"#DejaVuSans-2e\"/>\n       <use x=\"286.279297\" xlink:href=\"#DejaVuSans-30\"/>\n      </g>\n     </g>\n    </g>\n    <g id=\"xtick_92\">\n     <g id=\"line2d_92\">\n      <g>\n       <use style=\"stroke:#000000;stroke-width:0.8;\" x=\"1445.791761\" xlink:href=\"#m5dea25c551\" y=\"1094.4\"/>\n      </g>\n     </g>\n     <g id=\"text_92\">\n      <!-- 2001.0 -->\n      <g transform=\"translate(1448.551136 1136.390625)rotate(-90)scale(0.1 -0.1)\">\n       <use xlink:href=\"#DejaVuSans-32\"/>\n       <use x=\"63.623047\" xlink:href=\"#DejaVuSans-30\"/>\n       <use x=\"127.246094\" xlink:href=\"#DejaVuSans-30\"/>\n       <use x=\"190.869141\" xlink:href=\"#DejaVuSans-31\"/>\n       <use x=\"254.492188\" xlink:href=\"#DejaVuSans-2e\"/>\n       <use x=\"286.279297\" xlink:href=\"#DejaVuSans-30\"/>\n      </g>\n     </g>\n    </g>\n    <g id=\"xtick_93\">\n     <g id=\"line2d_93\">\n      <g>\n       <use style=\"stroke:#000000;stroke-width:0.8;\" x=\"1461.009943\" xlink:href=\"#m5dea25c551\" y=\"1094.4\"/>\n      </g>\n     </g>\n     <g id=\"text_93\">\n      <!-- 2002.0 -->\n      <g transform=\"translate(1463.769318 1136.390625)rotate(-90)scale(0.1 -0.1)\">\n       <use xlink:href=\"#DejaVuSans-32\"/>\n       <use x=\"63.623047\" xlink:href=\"#DejaVuSans-30\"/>\n       <use x=\"127.246094\" xlink:href=\"#DejaVuSans-30\"/>\n       <use x=\"190.869141\" xlink:href=\"#DejaVuSans-32\"/>\n       <use x=\"254.492188\" xlink:href=\"#DejaVuSans-2e\"/>\n       <use x=\"286.279297\" xlink:href=\"#DejaVuSans-30\"/>\n      </g>\n     </g>\n    </g>\n    <g id=\"xtick_94\">\n     <g id=\"line2d_94\">\n      <g>\n       <use style=\"stroke:#000000;stroke-width:0.8;\" x=\"1476.228125\" xlink:href=\"#m5dea25c551\" y=\"1094.4\"/>\n      </g>\n     </g>\n     <g id=\"text_94\">\n      <!-- 2003.0 -->\n      <g transform=\"translate(1478.9875 1136.390625)rotate(-90)scale(0.1 -0.1)\">\n       <use xlink:href=\"#DejaVuSans-32\"/>\n       <use x=\"63.623047\" xlink:href=\"#DejaVuSans-30\"/>\n       <use x=\"127.246094\" xlink:href=\"#DejaVuSans-30\"/>\n       <use x=\"190.869141\" xlink:href=\"#DejaVuSans-33\"/>\n       <use x=\"254.492188\" xlink:href=\"#DejaVuSans-2e\"/>\n       <use x=\"286.279297\" xlink:href=\"#DejaVuSans-30\"/>\n      </g>\n     </g>\n    </g>\n    <g id=\"xtick_95\">\n     <g id=\"line2d_95\">\n      <g>\n       <use style=\"stroke:#000000;stroke-width:0.8;\" x=\"1491.446307\" xlink:href=\"#m5dea25c551\" y=\"1094.4\"/>\n      </g>\n     </g>\n     <g id=\"text_95\">\n      <!-- 2004.0 -->\n      <g transform=\"translate(1494.205682 1136.390625)rotate(-90)scale(0.1 -0.1)\">\n       <use xlink:href=\"#DejaVuSans-32\"/>\n       <use x=\"63.623047\" xlink:href=\"#DejaVuSans-30\"/>\n       <use x=\"127.246094\" xlink:href=\"#DejaVuSans-30\"/>\n       <use x=\"190.869141\" xlink:href=\"#DejaVuSans-34\"/>\n       <use x=\"254.492188\" xlink:href=\"#DejaVuSans-2e\"/>\n       <use x=\"286.279297\" xlink:href=\"#DejaVuSans-30\"/>\n      </g>\n     </g>\n    </g>\n    <g id=\"xtick_96\">\n     <g id=\"line2d_96\">\n      <g>\n       <use style=\"stroke:#000000;stroke-width:0.8;\" x=\"1506.664489\" xlink:href=\"#m5dea25c551\" y=\"1094.4\"/>\n      </g>\n     </g>\n     <g id=\"text_96\">\n      <!-- 2005.0 -->\n      <g transform=\"translate(1509.423864 1136.390625)rotate(-90)scale(0.1 -0.1)\">\n       <use xlink:href=\"#DejaVuSans-32\"/>\n       <use x=\"63.623047\" xlink:href=\"#DejaVuSans-30\"/>\n       <use x=\"127.246094\" xlink:href=\"#DejaVuSans-30\"/>\n       <use x=\"190.869141\" xlink:href=\"#DejaVuSans-35\"/>\n       <use x=\"254.492188\" xlink:href=\"#DejaVuSans-2e\"/>\n       <use x=\"286.279297\" xlink:href=\"#DejaVuSans-30\"/>\n      </g>\n     </g>\n    </g>\n    <g id=\"xtick_97\">\n     <g id=\"line2d_97\">\n      <g>\n       <use style=\"stroke:#000000;stroke-width:0.8;\" x=\"1521.88267\" xlink:href=\"#m5dea25c551\" y=\"1094.4\"/>\n      </g>\n     </g>\n     <g id=\"text_97\">\n      <!-- 2006.0 -->\n      <g transform=\"translate(1524.642045 1136.390625)rotate(-90)scale(0.1 -0.1)\">\n       <use xlink:href=\"#DejaVuSans-32\"/>\n       <use x=\"63.623047\" xlink:href=\"#DejaVuSans-30\"/>\n       <use x=\"127.246094\" xlink:href=\"#DejaVuSans-30\"/>\n       <use x=\"190.869141\" xlink:href=\"#DejaVuSans-36\"/>\n       <use x=\"254.492188\" xlink:href=\"#DejaVuSans-2e\"/>\n       <use x=\"286.279297\" xlink:href=\"#DejaVuSans-30\"/>\n      </g>\n     </g>\n    </g>\n    <g id=\"xtick_98\">\n     <g id=\"line2d_98\">\n      <g>\n       <use style=\"stroke:#000000;stroke-width:0.8;\" x=\"1537.100852\" xlink:href=\"#m5dea25c551\" y=\"1094.4\"/>\n      </g>\n     </g>\n     <g id=\"text_98\">\n      <!-- 2007.0 -->\n      <g transform=\"translate(1539.860227 1136.390625)rotate(-90)scale(0.1 -0.1)\">\n       <use xlink:href=\"#DejaVuSans-32\"/>\n       <use x=\"63.623047\" xlink:href=\"#DejaVuSans-30\"/>\n       <use x=\"127.246094\" xlink:href=\"#DejaVuSans-30\"/>\n       <use x=\"190.869141\" xlink:href=\"#DejaVuSans-37\"/>\n       <use x=\"254.492188\" xlink:href=\"#DejaVuSans-2e\"/>\n       <use x=\"286.279297\" xlink:href=\"#DejaVuSans-30\"/>\n      </g>\n     </g>\n    </g>\n    <g id=\"xtick_99\">\n     <g id=\"line2d_99\">\n      <g>\n       <use style=\"stroke:#000000;stroke-width:0.8;\" x=\"1552.319034\" xlink:href=\"#m5dea25c551\" y=\"1094.4\"/>\n      </g>\n     </g>\n     <g id=\"text_99\">\n      <!-- 2008.0 -->\n      <g transform=\"translate(1555.078409 1136.390625)rotate(-90)scale(0.1 -0.1)\">\n       <use xlink:href=\"#DejaVuSans-32\"/>\n       <use x=\"63.623047\" xlink:href=\"#DejaVuSans-30\"/>\n       <use x=\"127.246094\" xlink:href=\"#DejaVuSans-30\"/>\n       <use x=\"190.869141\" xlink:href=\"#DejaVuSans-38\"/>\n       <use x=\"254.492188\" xlink:href=\"#DejaVuSans-2e\"/>\n       <use x=\"286.279297\" xlink:href=\"#DejaVuSans-30\"/>\n      </g>\n     </g>\n    </g>\n    <g id=\"xtick_100\">\n     <g id=\"line2d_100\">\n      <g>\n       <use style=\"stroke:#000000;stroke-width:0.8;\" x=\"1567.537216\" xlink:href=\"#m5dea25c551\" y=\"1094.4\"/>\n      </g>\n     </g>\n     <g id=\"text_100\">\n      <!-- 2009.0 -->\n      <g transform=\"translate(1570.296591 1136.390625)rotate(-90)scale(0.1 -0.1)\">\n       <use xlink:href=\"#DejaVuSans-32\"/>\n       <use x=\"63.623047\" xlink:href=\"#DejaVuSans-30\"/>\n       <use x=\"127.246094\" xlink:href=\"#DejaVuSans-30\"/>\n       <use x=\"190.869141\" xlink:href=\"#DejaVuSans-39\"/>\n       <use x=\"254.492188\" xlink:href=\"#DejaVuSans-2e\"/>\n       <use x=\"286.279297\" xlink:href=\"#DejaVuSans-30\"/>\n      </g>\n     </g>\n    </g>\n    <g id=\"xtick_101\">\n     <g id=\"line2d_101\">\n      <g>\n       <use style=\"stroke:#000000;stroke-width:0.8;\" x=\"1582.755398\" xlink:href=\"#m5dea25c551\" y=\"1094.4\"/>\n      </g>\n     </g>\n     <g id=\"text_101\">\n      <!-- 2010.0 -->\n      <g transform=\"translate(1585.514773 1136.390625)rotate(-90)scale(0.1 -0.1)\">\n       <use xlink:href=\"#DejaVuSans-32\"/>\n       <use x=\"63.623047\" xlink:href=\"#DejaVuSans-30\"/>\n       <use x=\"127.246094\" xlink:href=\"#DejaVuSans-31\"/>\n       <use x=\"190.869141\" xlink:href=\"#DejaVuSans-30\"/>\n       <use x=\"254.492188\" xlink:href=\"#DejaVuSans-2e\"/>\n       <use x=\"286.279297\" xlink:href=\"#DejaVuSans-30\"/>\n      </g>\n     </g>\n    </g>\n    <g id=\"xtick_102\">\n     <g id=\"line2d_102\">\n      <g>\n       <use style=\"stroke:#000000;stroke-width:0.8;\" x=\"1597.97358\" xlink:href=\"#m5dea25c551\" y=\"1094.4\"/>\n      </g>\n     </g>\n     <g id=\"text_102\">\n      <!-- 2011.0 -->\n      <g transform=\"translate(1600.732955 1136.390625)rotate(-90)scale(0.1 -0.1)\">\n       <use xlink:href=\"#DejaVuSans-32\"/>\n       <use x=\"63.623047\" xlink:href=\"#DejaVuSans-30\"/>\n       <use x=\"127.246094\" xlink:href=\"#DejaVuSans-31\"/>\n       <use x=\"190.869141\" xlink:href=\"#DejaVuSans-31\"/>\n       <use x=\"254.492188\" xlink:href=\"#DejaVuSans-2e\"/>\n       <use x=\"286.279297\" xlink:href=\"#DejaVuSans-30\"/>\n      </g>\n     </g>\n    </g>\n    <g id=\"xtick_103\">\n     <g id=\"line2d_103\">\n      <g>\n       <use style=\"stroke:#000000;stroke-width:0.8;\" x=\"1613.191761\" xlink:href=\"#m5dea25c551\" y=\"1094.4\"/>\n      </g>\n     </g>\n     <g id=\"text_103\">\n      <!-- 2012.0 -->\n      <g transform=\"translate(1615.951136 1136.390625)rotate(-90)scale(0.1 -0.1)\">\n       <use xlink:href=\"#DejaVuSans-32\"/>\n       <use x=\"63.623047\" xlink:href=\"#DejaVuSans-30\"/>\n       <use x=\"127.246094\" xlink:href=\"#DejaVuSans-31\"/>\n       <use x=\"190.869141\" xlink:href=\"#DejaVuSans-32\"/>\n       <use x=\"254.492188\" xlink:href=\"#DejaVuSans-2e\"/>\n       <use x=\"286.279297\" xlink:href=\"#DejaVuSans-30\"/>\n      </g>\n     </g>\n    </g>\n    <g id=\"xtick_104\">\n     <g id=\"line2d_104\">\n      <g>\n       <use style=\"stroke:#000000;stroke-width:0.8;\" x=\"1628.409943\" xlink:href=\"#m5dea25c551\" y=\"1094.4\"/>\n      </g>\n     </g>\n     <g id=\"text_104\">\n      <!-- 2013.0 -->\n      <g transform=\"translate(1631.169318 1136.390625)rotate(-90)scale(0.1 -0.1)\">\n       <use xlink:href=\"#DejaVuSans-32\"/>\n       <use x=\"63.623047\" xlink:href=\"#DejaVuSans-30\"/>\n       <use x=\"127.246094\" xlink:href=\"#DejaVuSans-31\"/>\n       <use x=\"190.869141\" xlink:href=\"#DejaVuSans-33\"/>\n       <use x=\"254.492188\" xlink:href=\"#DejaVuSans-2e\"/>\n       <use x=\"286.279297\" xlink:href=\"#DejaVuSans-30\"/>\n      </g>\n     </g>\n    </g>\n    <g id=\"xtick_105\">\n     <g id=\"line2d_105\">\n      <g>\n       <use style=\"stroke:#000000;stroke-width:0.8;\" x=\"1643.628125\" xlink:href=\"#m5dea25c551\" y=\"1094.4\"/>\n      </g>\n     </g>\n     <g id=\"text_105\">\n      <!-- 2014.0 -->\n      <g transform=\"translate(1646.3875 1136.390625)rotate(-90)scale(0.1 -0.1)\">\n       <use xlink:href=\"#DejaVuSans-32\"/>\n       <use x=\"63.623047\" xlink:href=\"#DejaVuSans-30\"/>\n       <use x=\"127.246094\" xlink:href=\"#DejaVuSans-31\"/>\n       <use x=\"190.869141\" xlink:href=\"#DejaVuSans-34\"/>\n       <use x=\"254.492188\" xlink:href=\"#DejaVuSans-2e\"/>\n       <use x=\"286.279297\" xlink:href=\"#DejaVuSans-30\"/>\n      </g>\n     </g>\n    </g>\n    <g id=\"xtick_106\">\n     <g id=\"line2d_106\">\n      <g>\n       <use style=\"stroke:#000000;stroke-width:0.8;\" x=\"1658.846307\" xlink:href=\"#m5dea25c551\" y=\"1094.4\"/>\n      </g>\n     </g>\n     <g id=\"text_106\">\n      <!-- 2015.0 -->\n      <g transform=\"translate(1661.605682 1136.390625)rotate(-90)scale(0.1 -0.1)\">\n       <use xlink:href=\"#DejaVuSans-32\"/>\n       <use x=\"63.623047\" xlink:href=\"#DejaVuSans-30\"/>\n       <use x=\"127.246094\" xlink:href=\"#DejaVuSans-31\"/>\n       <use x=\"190.869141\" xlink:href=\"#DejaVuSans-35\"/>\n       <use x=\"254.492188\" xlink:href=\"#DejaVuSans-2e\"/>\n       <use x=\"286.279297\" xlink:href=\"#DejaVuSans-30\"/>\n      </g>\n     </g>\n    </g>\n    <g id=\"xtick_107\">\n     <g id=\"line2d_107\">\n      <g>\n       <use style=\"stroke:#000000;stroke-width:0.8;\" x=\"1674.064489\" xlink:href=\"#m5dea25c551\" y=\"1094.4\"/>\n      </g>\n     </g>\n     <g id=\"text_107\">\n      <!-- 2016.0 -->\n      <g transform=\"translate(1676.823864 1136.390625)rotate(-90)scale(0.1 -0.1)\">\n       <use xlink:href=\"#DejaVuSans-32\"/>\n       <use x=\"63.623047\" xlink:href=\"#DejaVuSans-30\"/>\n       <use x=\"127.246094\" xlink:href=\"#DejaVuSans-31\"/>\n       <use x=\"190.869141\" xlink:href=\"#DejaVuSans-36\"/>\n       <use x=\"254.492188\" xlink:href=\"#DejaVuSans-2e\"/>\n       <use x=\"286.279297\" xlink:href=\"#DejaVuSans-30\"/>\n      </g>\n     </g>\n    </g>\n    <g id=\"xtick_108\">\n     <g id=\"line2d_108\">\n      <g>\n       <use style=\"stroke:#000000;stroke-width:0.8;\" x=\"1689.28267\" xlink:href=\"#m5dea25c551\" y=\"1094.4\"/>\n      </g>\n     </g>\n     <g id=\"text_108\">\n      <!-- 2017.0 -->\n      <g transform=\"translate(1692.042045 1136.390625)rotate(-90)scale(0.1 -0.1)\">\n       <use xlink:href=\"#DejaVuSans-32\"/>\n       <use x=\"63.623047\" xlink:href=\"#DejaVuSans-30\"/>\n       <use x=\"127.246094\" xlink:href=\"#DejaVuSans-31\"/>\n       <use x=\"190.869141\" xlink:href=\"#DejaVuSans-37\"/>\n       <use x=\"254.492188\" xlink:href=\"#DejaVuSans-2e\"/>\n       <use x=\"286.279297\" xlink:href=\"#DejaVuSans-30\"/>\n      </g>\n     </g>\n    </g>\n    <g id=\"xtick_109\">\n     <g id=\"line2d_109\">\n      <g>\n       <use style=\"stroke:#000000;stroke-width:0.8;\" x=\"1704.500852\" xlink:href=\"#m5dea25c551\" y=\"1094.4\"/>\n      </g>\n     </g>\n     <g id=\"text_109\">\n      <!-- 2018.0 -->\n      <g transform=\"translate(1707.260227 1136.390625)rotate(-90)scale(0.1 -0.1)\">\n       <use xlink:href=\"#DejaVuSans-32\"/>\n       <use x=\"63.623047\" xlink:href=\"#DejaVuSans-30\"/>\n       <use x=\"127.246094\" xlink:href=\"#DejaVuSans-31\"/>\n       <use x=\"190.869141\" xlink:href=\"#DejaVuSans-38\"/>\n       <use x=\"254.492188\" xlink:href=\"#DejaVuSans-2e\"/>\n       <use x=\"286.279297\" xlink:href=\"#DejaVuSans-30\"/>\n      </g>\n     </g>\n    </g>\n    <g id=\"xtick_110\">\n     <g id=\"line2d_110\">\n      <g>\n       <use style=\"stroke:#000000;stroke-width:0.8;\" x=\"1719.719034\" xlink:href=\"#m5dea25c551\" y=\"1094.4\"/>\n      </g>\n     </g>\n     <g id=\"text_110\">\n      <!-- 2019.0 -->\n      <g transform=\"translate(1722.478409 1136.390625)rotate(-90)scale(0.1 -0.1)\">\n       <use xlink:href=\"#DejaVuSans-32\"/>\n       <use x=\"63.623047\" xlink:href=\"#DejaVuSans-30\"/>\n       <use x=\"127.246094\" xlink:href=\"#DejaVuSans-31\"/>\n       <use x=\"190.869141\" xlink:href=\"#DejaVuSans-39\"/>\n       <use x=\"254.492188\" xlink:href=\"#DejaVuSans-2e\"/>\n       <use x=\"286.279297\" xlink:href=\"#DejaVuSans-30\"/>\n      </g>\n     </g>\n    </g>\n    <g id=\"text_111\">\n     <!-- YR_RMDL -->\n     <g transform=\"translate(866.875781 1147.710938)scale(0.1 -0.1)\">\n      <defs>\n       <path d=\"M -13 4666 \nL 666 4666 \nL 1959 2747 \nL 3244 4666 \nL 3922 4666 \nL 2272 2222 \nL 2272 0 \nL 1638 0 \nL 1638 2222 \nL -13 4666 \nz\n\" id=\"DejaVuSans-59\" transform=\"scale(0.015625)\"/>\n       <path d=\"M 2841 2188 \nQ 3044 2119 3236 1894 \nQ 3428 1669 3622 1275 \nL 4263 0 \nL 3584 0 \nL 2988 1197 \nQ 2756 1666 2539 1819 \nQ 2322 1972 1947 1972 \nL 1259 1972 \nL 1259 0 \nL 628 0 \nL 628 4666 \nL 2053 4666 \nQ 2853 4666 3247 4331 \nQ 3641 3997 3641 3322 \nQ 3641 2881 3436 2590 \nQ 3231 2300 2841 2188 \nz\nM 1259 4147 \nL 1259 2491 \nL 2053 2491 \nQ 2509 2491 2742 2702 \nQ 2975 2913 2975 3322 \nQ 2975 3731 2742 3939 \nQ 2509 4147 2053 4147 \nL 1259 4147 \nz\n\" id=\"DejaVuSans-52\" transform=\"scale(0.015625)\"/>\n       <path d=\"M 3263 -1063 \nL 3263 -1509 \nL -63 -1509 \nL -63 -1063 \nL 3263 -1063 \nz\n\" id=\"DejaVuSans-5f\" transform=\"scale(0.015625)\"/>\n       <path d=\"M 628 4666 \nL 1569 4666 \nL 2759 1491 \nL 3956 4666 \nL 4897 4666 \nL 4897 0 \nL 4281 0 \nL 4281 4097 \nL 3078 897 \nL 2444 897 \nL 1241 4097 \nL 1241 0 \nL 628 0 \nL 628 4666 \nz\n\" id=\"DejaVuSans-4d\" transform=\"scale(0.015625)\"/>\n       <path d=\"M 1259 4147 \nL 1259 519 \nL 2022 519 \nQ 2988 519 3436 956 \nQ 3884 1394 3884 2338 \nQ 3884 3275 3436 3711 \nQ 2988 4147 2022 4147 \nL 1259 4147 \nz\nM 628 4666 \nL 1925 4666 \nQ 3281 4666 3915 4102 \nQ 4550 3538 4550 2338 \nQ 4550 1131 3912 565 \nQ 3275 0 1925 0 \nL 628 0 \nL 628 4666 \nz\n\" id=\"DejaVuSans-44\" transform=\"scale(0.015625)\"/>\n       <path d=\"M 628 4666 \nL 1259 4666 \nL 1259 531 \nL 3531 531 \nL 3531 0 \nL 628 0 \nL 628 4666 \nz\n\" id=\"DejaVuSans-4c\" transform=\"scale(0.015625)\"/>\n      </defs>\n      <use xlink:href=\"#DejaVuSans-59\"/>\n      <use x=\"61.083984\" xlink:href=\"#DejaVuSans-52\"/>\n      <use x=\"130.566406\" xlink:href=\"#DejaVuSans-5f\"/>\n      <use x=\"180.566406\" xlink:href=\"#DejaVuSans-52\"/>\n      <use x=\"250.048828\" xlink:href=\"#DejaVuSans-4d\"/>\n      <use x=\"336.328125\" xlink:href=\"#DejaVuSans-44\"/>\n      <use x=\"413.330078\" xlink:href=\"#DejaVuSans-4c\"/>\n     </g>\n    </g>\n   </g>\n   <g id=\"matplotlib.axis_2\">\n    <g id=\"ytick_1\">\n     <g id=\"line2d_111\">\n      <defs>\n       <path d=\"M 0 0 \nL -3.5 0 \n\" id=\"me4e71a0d34\" style=\"stroke:#000000;stroke-width:0.8;\"/>\n      </defs>\n      <g>\n       <use style=\"stroke:#000000;stroke-width:0.8;\" x=\"53.328125\" xlink:href=\"#me4e71a0d34\" y=\"1094.4\"/>\n      </g>\n     </g>\n     <g id=\"text_112\">\n      <!-- 0 -->\n      <g transform=\"translate(39.965625 1098.199219)scale(0.1 -0.1)\">\n       <use xlink:href=\"#DejaVuSans-30\"/>\n      </g>\n     </g>\n    </g>\n    <g id=\"ytick_2\">\n     <g id=\"line2d_112\">\n      <g>\n       <use style=\"stroke:#000000;stroke-width:0.8;\" x=\"53.328125\" xlink:href=\"#me4e71a0d34\" y=\"888.508457\"/>\n      </g>\n     </g>\n     <g id=\"text_113\">\n      <!-- 1000 -->\n      <g transform=\"translate(20.878125 892.307675)scale(0.1 -0.1)\">\n       <use xlink:href=\"#DejaVuSans-31\"/>\n       <use x=\"63.623047\" xlink:href=\"#DejaVuSans-30\"/>\n       <use x=\"127.246094\" xlink:href=\"#DejaVuSans-30\"/>\n       <use x=\"190.869141\" xlink:href=\"#DejaVuSans-30\"/>\n      </g>\n     </g>\n    </g>\n    <g id=\"ytick_3\">\n     <g id=\"line2d_113\">\n      <g>\n       <use style=\"stroke:#000000;stroke-width:0.8;\" x=\"53.328125\" xlink:href=\"#me4e71a0d34\" y=\"682.616913\"/>\n      </g>\n     </g>\n     <g id=\"text_114\">\n      <!-- 2000 -->\n      <g transform=\"translate(20.878125 686.416132)scale(0.1 -0.1)\">\n       <use xlink:href=\"#DejaVuSans-32\"/>\n       <use x=\"63.623047\" xlink:href=\"#DejaVuSans-30\"/>\n       <use x=\"127.246094\" xlink:href=\"#DejaVuSans-30\"/>\n       <use x=\"190.869141\" xlink:href=\"#DejaVuSans-30\"/>\n      </g>\n     </g>\n    </g>\n    <g id=\"ytick_4\">\n     <g id=\"line2d_114\">\n      <g>\n       <use style=\"stroke:#000000;stroke-width:0.8;\" x=\"53.328125\" xlink:href=\"#me4e71a0d34\" y=\"476.72537\"/>\n      </g>\n     </g>\n     <g id=\"text_115\">\n      <!-- 3000 -->\n      <g transform=\"translate(20.878125 480.524589)scale(0.1 -0.1)\">\n       <use xlink:href=\"#DejaVuSans-33\"/>\n       <use x=\"63.623047\" xlink:href=\"#DejaVuSans-30\"/>\n       <use x=\"127.246094\" xlink:href=\"#DejaVuSans-30\"/>\n       <use x=\"190.869141\" xlink:href=\"#DejaVuSans-30\"/>\n      </g>\n     </g>\n    </g>\n    <g id=\"ytick_5\">\n     <g id=\"line2d_115\">\n      <g>\n       <use style=\"stroke:#000000;stroke-width:0.8;\" x=\"53.328125\" xlink:href=\"#me4e71a0d34\" y=\"270.833827\"/>\n      </g>\n     </g>\n     <g id=\"text_116\">\n      <!-- 4000 -->\n      <g transform=\"translate(20.878125 274.633045)scale(0.1 -0.1)\">\n       <use xlink:href=\"#DejaVuSans-34\"/>\n       <use x=\"63.623047\" xlink:href=\"#DejaVuSans-30\"/>\n       <use x=\"127.246094\" xlink:href=\"#DejaVuSans-30\"/>\n       <use x=\"190.869141\" xlink:href=\"#DejaVuSans-30\"/>\n      </g>\n     </g>\n    </g>\n    <g id=\"ytick_6\">\n     <g id=\"line2d_116\">\n      <g>\n       <use style=\"stroke:#000000;stroke-width:0.8;\" x=\"53.328125\" xlink:href=\"#me4e71a0d34\" y=\"64.942283\"/>\n      </g>\n     </g>\n     <g id=\"text_117\">\n      <!-- 5000 -->\n      <g transform=\"translate(20.878125 68.741502)scale(0.1 -0.1)\">\n       <use xlink:href=\"#DejaVuSans-35\"/>\n       <use x=\"63.623047\" xlink:href=\"#DejaVuSans-30\"/>\n       <use x=\"127.246094\" xlink:href=\"#DejaVuSans-30\"/>\n       <use x=\"190.869141\" xlink:href=\"#DejaVuSans-30\"/>\n      </g>\n     </g>\n    </g>\n    <g id=\"text_118\">\n     <!-- count -->\n     <g transform=\"translate(14.798437 564.90625)rotate(-90)scale(0.1 -0.1)\">\n      <defs>\n       <path d=\"M 3122 3366 \nL 3122 2828 \nQ 2878 2963 2633 3030 \nQ 2388 3097 2138 3097 \nQ 1578 3097 1268 2742 \nQ 959 2388 959 1747 \nQ 959 1106 1268 751 \nQ 1578 397 2138 397 \nQ 2388 397 2633 464 \nQ 2878 531 3122 666 \nL 3122 134 \nQ 2881 22 2623 -34 \nQ 2366 -91 2075 -91 \nQ 1284 -91 818 406 \nQ 353 903 353 1747 \nQ 353 2603 823 3093 \nQ 1294 3584 2113 3584 \nQ 2378 3584 2631 3529 \nQ 2884 3475 3122 3366 \nz\n\" id=\"DejaVuSans-63\" transform=\"scale(0.015625)\"/>\n       <path d=\"M 1959 3097 \nQ 1497 3097 1228 2736 \nQ 959 2375 959 1747 \nQ 959 1119 1226 758 \nQ 1494 397 1959 397 \nQ 2419 397 2687 759 \nQ 2956 1122 2956 1747 \nQ 2956 2369 2687 2733 \nQ 2419 3097 1959 3097 \nz\nM 1959 3584 \nQ 2709 3584 3137 3096 \nQ 3566 2609 3566 1747 \nQ 3566 888 3137 398 \nQ 2709 -91 1959 -91 \nQ 1206 -91 779 398 \nQ 353 888 353 1747 \nQ 353 2609 779 3096 \nQ 1206 3584 1959 3584 \nz\n\" id=\"DejaVuSans-6f\" transform=\"scale(0.015625)\"/>\n       <path d=\"M 544 1381 \nL 544 3500 \nL 1119 3500 \nL 1119 1403 \nQ 1119 906 1312 657 \nQ 1506 409 1894 409 \nQ 2359 409 2629 706 \nQ 2900 1003 2900 1516 \nL 2900 3500 \nL 3475 3500 \nL 3475 0 \nL 2900 0 \nL 2900 538 \nQ 2691 219 2414 64 \nQ 2138 -91 1772 -91 \nQ 1169 -91 856 284 \nQ 544 659 544 1381 \nz\nM 1991 3584 \nL 1991 3584 \nz\n\" id=\"DejaVuSans-75\" transform=\"scale(0.015625)\"/>\n       <path d=\"M 3513 2113 \nL 3513 0 \nL 2938 0 \nL 2938 2094 \nQ 2938 2591 2744 2837 \nQ 2550 3084 2163 3084 \nQ 1697 3084 1428 2787 \nQ 1159 2491 1159 1978 \nL 1159 0 \nL 581 0 \nL 581 3500 \nL 1159 3500 \nL 1159 2956 \nQ 1366 3272 1645 3428 \nQ 1925 3584 2291 3584 \nQ 2894 3584 3203 3211 \nQ 3513 2838 3513 2113 \nz\n\" id=\"DejaVuSans-6e\" transform=\"scale(0.015625)\"/>\n       <path d=\"M 1172 4494 \nL 1172 3500 \nL 2356 3500 \nL 2356 3053 \nL 1172 3053 \nL 1172 1153 \nQ 1172 725 1289 603 \nQ 1406 481 1766 481 \nL 2356 481 \nL 2356 0 \nL 1766 0 \nQ 1100 0 847 248 \nQ 594 497 594 1153 \nL 594 3053 \nL 172 3053 \nL 172 3500 \nL 594 3500 \nL 594 4494 \nL 1172 4494 \nz\n\" id=\"DejaVuSans-74\" transform=\"scale(0.015625)\"/>\n      </defs>\n      <use xlink:href=\"#DejaVuSans-63\"/>\n      <use x=\"54.980469\" xlink:href=\"#DejaVuSans-6f\"/>\n      <use x=\"116.162109\" xlink:href=\"#DejaVuSans-75\"/>\n      <use x=\"179.541016\" xlink:href=\"#DejaVuSans-6e\"/>\n      <use x=\"242.919922\" xlink:href=\"#DejaVuSans-74\"/>\n     </g>\n    </g>\n   </g>\n   <g id=\"patch_113\">\n    <path d=\"M 53.328125 1094.4 \nL 53.328125 7.2 \n\" style=\"fill:none;stroke:#000000;stroke-linecap:square;stroke-linejoin:miter;stroke-width:0.8;\"/>\n   </g>\n   <g id=\"patch_114\">\n    <path d=\"M 1727.328125 1094.4 \nL 1727.328125 7.2 \n\" style=\"fill:none;stroke:#000000;stroke-linecap:square;stroke-linejoin:miter;stroke-width:0.8;\"/>\n   </g>\n   <g id=\"patch_115\">\n    <path d=\"M 53.328125 1094.4 \nL 1727.328125 1094.4 \n\" style=\"fill:none;stroke:#000000;stroke-linecap:square;stroke-linejoin:miter;stroke-width:0.8;\"/>\n   </g>\n   <g id=\"patch_116\">\n    <path d=\"M 53.328125 7.2 \nL 1727.328125 7.2 \n\" style=\"fill:none;stroke:#000000;stroke-linecap:square;stroke-linejoin:miter;stroke-width:0.8;\"/>\n   </g>\n  </g>\n </g>\n <defs>\n  <clipPath id=\"p3b53bea94c\">\n   <rect height=\"1087.2\" width=\"1674\" x=\"53.328125\" y=\"7.2\"/>\n  </clipPath>\n </defs>\n</svg>\n",
            "text/plain": [
              "<Figure size 2160x1440 with 1 Axes>"
            ]
          },
          "metadata": {
            "needs_background": "light"
          },
          "output_type": "display_data"
        }
      ],
      "source": [
        "plt.figure(figsize=(30,20))\n",
        "sns.countplot(x='YR_RMDL', data=df)\n",
        "plt.xticks(rotation=90)\n",
        "plt.show()\n"
      ]
    },
    {
      "cell_type": "code",
      "execution_count": 22,
      "metadata": {
        "colab": {
          "base_uri": "https://localhost:8080/"
        },
        "id": "gK0i614RcktN",
        "outputId": "e0d83050-9225-4fc6-af71-a3aa6444f089"
      },
      "outputs": [
        {
          "data": {
            "text/plain": [
              "1957    12541\n",
              "1954    12346\n",
              "1967    10408\n",
              "1964     9362\n",
              "1960     7636\n",
              "        ...  \n",
              "1876        6\n",
              "1914        5\n",
              "1865        4\n",
              "1886        4\n",
              "1800        4\n",
              "Name: EYB, Length: 135, dtype: int64"
            ]
          },
          "execution_count": 22,
          "metadata": {
            "tags": []
          },
          "output_type": "execute_result"
        }
      ],
      "source": [
        "df['EYB'].value_counts()"
      ]
    },
    {
      "cell_type": "code",
      "execution_count": 24,
      "metadata": {
        "colab": {
          "base_uri": "https://localhost:8080/"
        },
        "id": "m4m6GNbRc-Mq",
        "outputId": "c50a82c8-5144-4304-95e3-19a81d9bc924"
      },
      "outputs": [
        {
          "data": {
            "text/plain": [
              "2007-04-10 00:00:00    413\n",
              "1999-04-01 00:00:00    266\n",
              "2001-01-01 00:00:00    258\n",
              "2015-11-17 00:00:00    160\n",
              "2010-05-04 00:00:00    134\n",
              "                      ... \n",
              "1995-11-28 00:00:00      1\n",
              "2000-02-18 00:00:00      1\n",
              "1976-01-14 00:00:00      1\n",
              "1992-03-06 00:00:00      1\n",
              "1980-09-24 00:00:00      1\n",
              "Name: SALEDATE, Length: 6937, dtype: int64"
            ]
          },
          "execution_count": 24,
          "metadata": {
            "tags": []
          },
          "output_type": "execute_result"
        }
      ],
      "source": [
        "df['SALEDATE'].value_counts()"
      ]
    },
    {
      "cell_type": "code",
      "execution_count": 25,
      "metadata": {
        "colab": {
          "base_uri": "https://localhost:8080/"
        },
        "id": "yZTkMni6dSPT",
        "outputId": "33a3b609-16f1-4c24-812b-363dbc1ef521"
      },
      "outputs": [
        {
          "data": {
            "text/plain": [
              "count    9.821600e+04\n",
              "mean     9.313516e+05\n",
              "std      7.061325e+06\n",
              "min      1.000000e+00\n",
              "25%      2.400000e+05\n",
              "50%      3.999990e+05\n",
              "75%      6.520000e+05\n",
              "max      1.374275e+08\n",
              "Name: PRICE, dtype: float64"
            ]
          },
          "execution_count": 25,
          "metadata": {
            "tags": []
          },
          "output_type": "execute_result"
        }
      ],
      "source": [
        "df['PRICE'].describe()"
      ]
    },
    {
      "cell_type": "code",
      "execution_count": 27,
      "metadata": {
        "colab": {
          "base_uri": "https://localhost:8080/"
        },
        "id": "aTjnAgnOde6D",
        "outputId": "3dcdc972-e99a-4f37-be7e-0ec1d6709e8b"
      },
      "outputs": [
        {
          "data": {
            "text/plain": [
              "U    82608\n",
              "Q    76349\n",
              "Name: QUALIFIED, dtype: int64"
            ]
          },
          "execution_count": 27,
          "metadata": {
            "tags": []
          },
          "output_type": "execute_result"
        }
      ],
      "source": [
        "df['QUALIFIED'].value_counts()"
      ]
    },
    {
      "cell_type": "code",
      "execution_count": 28,
      "metadata": {
        "colab": {
          "base_uri": "https://localhost:8080/"
        },
        "id": "a7jiPPK46Q5J",
        "outputId": "eee7be14-e909-4997-d397-f8f99f03a749"
      },
      "outputs": [
        {
          "data": {
            "text/plain": [
              "1     113671\n",
              "3      14738\n",
              "2      12901\n",
              "4       9851\n",
              "5       4687\n",
              "6       1970\n",
              "7        703\n",
              "8        261\n",
              "9        108\n",
              "10        37\n",
              "11        17\n",
              "12         6\n",
              "13         3\n",
              "15         2\n",
              "14         2\n",
              "Name: SALE_NUM, dtype: int64"
            ]
          },
          "execution_count": 28,
          "metadata": {
            "tags": []
          },
          "output_type": "execute_result"
        }
      ],
      "source": [
        "df['SALE_NUM'].value_counts()"
      ]
    },
    {
      "cell_type": "code",
      "execution_count": 30,
      "metadata": {
        "colab": {
          "base_uri": "https://localhost:8080/"
        },
        "id": "Ug3hKKuU6ZRp",
        "outputId": "ae9c95e0-a15e-4569-be1a-e87fa8287b3f"
      },
      "outputs": [
        {
          "data": {
            "text/plain": [
              "count    106696.000000\n",
              "mean       1714.539889\n",
              "std         880.677860\n",
              "min           0.000000\n",
              "25%        1190.000000\n",
              "50%        1480.000000\n",
              "75%        1966.000000\n",
              "max       45384.000000\n",
              "Name: GBA, dtype: float64"
            ]
          },
          "execution_count": 30,
          "metadata": {
            "tags": []
          },
          "output_type": "execute_result"
        }
      ],
      "source": [
        "df['GBA'].describe()"
      ]
    },
    {
      "cell_type": "code",
      "execution_count": 31,
      "metadata": {
        "colab": {
          "base_uri": "https://localhost:8080/"
        },
        "id": "ox9tEPv-6elJ",
        "outputId": "b71ecc51-1e22-4aeb-9b55-ff4b6c8f6b49"
      },
      "outputs": [
        {
          "data": {
            "text/plain": [
              "1    158884\n",
              "2        59\n",
              "3         8\n",
              "4         4\n",
              "5         2\n",
              "Name: BLDG_NUM, dtype: int64"
            ]
          },
          "execution_count": 31,
          "metadata": {
            "tags": []
          },
          "output_type": "execute_result"
        }
      ],
      "source": [
        "df['BLDG_NUM'].value_counts()"
      ]
    },
    {
      "cell_type": "code",
      "execution_count": 158,
      "metadata": {},
      "outputs": [
        {
          "data": {
            "text/plain": [
              "2.00      79357\n",
              "3.00       9230\n",
              "2.50       6105\n",
              "1.00       4683\n",
              "1.50       2291\n",
              "2.25       2225\n",
              "1.75       1175\n",
              "1.25        452\n",
              "2.75        444\n",
              "4.00        375\n",
              "3.50        109\n",
              "0.00         43\n",
              "9.00         36\n",
              "2.70         28\n",
              "3.25         20\n",
              "3.75         15\n",
              "2.20         13\n",
              "5.00         11\n",
              "6.00          7\n",
              "1.70          4\n",
              "25.00         4\n",
              "2.30          3\n",
              "275.00        2\n",
              "4.50          2\n",
              "3.70          2\n",
              "7.00          2\n",
              "0.25          1\n",
              "2.33          1\n",
              "250.00        1\n",
              "3.20          1\n",
              "0.50          1\n",
              "12.00         1\n",
              "65.00         1\n",
              "8.25          1\n",
              "826.00        1\n",
              "43.00         1\n",
              "4.75          1\n",
              "1.34          1\n",
              "20.00         1\n",
              "0.75          1\n",
              "Name: STORIES, dtype: int64"
            ]
          },
          "execution_count": 158,
          "metadata": {},
          "output_type": "execute_result"
        }
      ],
      "source": [
        "df['STORIES'].value_counts()"
      ]
    },
    {
      "cell_type": "code",
      "execution_count": 33,
      "metadata": {
        "colab": {
          "base_uri": "https://localhost:8080/"
        },
        "id": "cTkdDFvH6smb",
        "outputId": "05ff4517-f3e2-4007-ba30-7ee4fce45360"
      },
      "outputs": [
        {
          "data": {
            "text/plain": [
              "2 Story            81137\n",
              "3 Story             9449\n",
              "2.5 Story Fin       7000\n",
              "1 Story             4420\n",
              "1.5 Story Fin       2655\n",
              "2.5 Story Unfin      729\n",
              "4 Story              369\n",
              "Split Level          303\n",
              "Split Foyer          279\n",
              "3.5 Story Fin        133\n",
              "1.5 Story Unfin      112\n",
              "Default               65\n",
              "Bi-Level              19\n",
              "4.5 Story Fin         13\n",
              "3.5 Story Unfin        8\n",
              "4.5 Story Unfin        2\n",
              "Vacant                 2\n",
              "Outbuildings           1\n",
              "Name: STYLE, dtype: int64"
            ]
          },
          "execution_count": 33,
          "metadata": {
            "tags": []
          },
          "output_type": "execute_result"
        }
      ],
      "source": [
        "df['STYLE'].value_counts()"
      ]
    },
    {
      "cell_type": "code",
      "execution_count": 162,
      "metadata": {},
      "outputs": [
        {
          "data": {
            "text/html": [
              "<div>\n",
              "<style scoped>\n",
              "    .dataframe tbody tr th:only-of-type {\n",
              "        vertical-align: middle;\n",
              "    }\n",
              "\n",
              "    .dataframe tbody tr th {\n",
              "        vertical-align: top;\n",
              "    }\n",
              "\n",
              "    .dataframe thead th {\n",
              "        text-align: right;\n",
              "    }\n",
              "</style>\n",
              "<table border=\"1\" class=\"dataframe\">\n",
              "  <thead>\n",
              "    <tr style=\"text-align: right;\">\n",
              "      <th></th>\n",
              "      <th>STYLE</th>\n",
              "      <th>STORIES</th>\n",
              "    </tr>\n",
              "  </thead>\n",
              "  <tbody>\n",
              "    <tr>\n",
              "      <th>85656</th>\n",
              "      <td>2 Story</td>\n",
              "      <td>20.0</td>\n",
              "    </tr>\n",
              "  </tbody>\n",
              "</table>\n",
              "</div>"
            ],
            "text/plain": [
              "         STYLE  STORIES\n",
              "85656  2 Story     20.0"
            ]
          },
          "execution_count": 162,
          "metadata": {},
          "output_type": "execute_result"
        }
      ],
      "source": [
        "df[df['STORIES']==20][['STYLE','STORIES']]"
      ]
    },
    {
      "cell_type": "code",
      "execution_count": 35,
      "metadata": {
        "colab": {
          "base_uri": "https://localhost:8080/"
        },
        "id": "PlH_q0gO60mr",
        "outputId": "cd0caf07-823d-4dba-9220-eaa3c02b8bc1"
      },
      "outputs": [
        {
          "data": {
            "text/plain": [
              "Row Inside       40593\n",
              "Single           32063\n",
              "Semi-Detached    16756\n",
              "Row End          12225\n",
              "Multi             4726\n",
              "Town Inside        218\n",
              "Town End            85\n",
              "Default             26\n",
              "Vacant Land          4\n",
              "Name: STRUCT, dtype: int64"
            ]
          },
          "execution_count": 35,
          "metadata": {
            "tags": []
          },
          "output_type": "execute_result"
        }
      ],
      "source": [
        "df['STRUCT'].value_counts()"
      ]
    },
    {
      "cell_type": "code",
      "execution_count": 164,
      "metadata": {},
      "outputs": [
        {
          "data": {
            "text/html": [
              "<div>\n",
              "<style scoped>\n",
              "    .dataframe tbody tr th:only-of-type {\n",
              "        vertical-align: middle;\n",
              "    }\n",
              "\n",
              "    .dataframe tbody tr th {\n",
              "        vertical-align: top;\n",
              "    }\n",
              "\n",
              "    .dataframe thead th {\n",
              "        text-align: right;\n",
              "    }\n",
              "</style>\n",
              "<table border=\"1\" class=\"dataframe\">\n",
              "  <thead>\n",
              "    <tr style=\"text-align: right;\">\n",
              "      <th></th>\n",
              "      <th>BATHRM</th>\n",
              "      <th>HF_BATHRM</th>\n",
              "      <th>HEAT</th>\n",
              "      <th>AC</th>\n",
              "      <th>NUM_UNITS</th>\n",
              "      <th>ROOMS</th>\n",
              "      <th>BEDRM</th>\n",
              "      <th>AYB</th>\n",
              "      <th>YR_RMDL</th>\n",
              "      <th>EYB</th>\n",
              "      <th>...</th>\n",
              "      <th>LONGITUDE</th>\n",
              "      <th>ASSESSMENT_NBHD</th>\n",
              "      <th>ASSESSMENT_SUBNBHD</th>\n",
              "      <th>CENSUS_TRACT</th>\n",
              "      <th>CENSUS_BLOCK</th>\n",
              "      <th>WARD</th>\n",
              "      <th>SQUARE</th>\n",
              "      <th>X</th>\n",
              "      <th>Y</th>\n",
              "      <th>QUADRANT</th>\n",
              "    </tr>\n",
              "  </thead>\n",
              "  <tbody>\n",
              "    <tr>\n",
              "      <th>5126</th>\n",
              "      <td>4</td>\n",
              "      <td>0</td>\n",
              "      <td>Forced Air</td>\n",
              "      <td>Y</td>\n",
              "      <td>4.0</td>\n",
              "      <td>8</td>\n",
              "      <td>4</td>\n",
              "      <td>NaN</td>\n",
              "      <td>2006.0</td>\n",
              "      <td>1972</td>\n",
              "      <td>...</td>\n",
              "      <td>-77.014938</td>\n",
              "      <td>Old City 2</td>\n",
              "      <td>040 A Old City 2</td>\n",
              "      <td>4600.0</td>\n",
              "      <td>004600 2001</td>\n",
              "      <td>Ward 5</td>\n",
              "      <td>550</td>\n",
              "      <td>-77.014584</td>\n",
              "      <td>38.912813</td>\n",
              "      <td>NW</td>\n",
              "    </tr>\n",
              "    <tr>\n",
              "      <th>19274</th>\n",
              "      <td>0</td>\n",
              "      <td>0</td>\n",
              "      <td>No Data</td>\n",
              "      <td>0</td>\n",
              "      <td>0.0</td>\n",
              "      <td>0</td>\n",
              "      <td>0</td>\n",
              "      <td>1956.0</td>\n",
              "      <td>NaN</td>\n",
              "      <td>1956</td>\n",
              "      <td>...</td>\n",
              "      <td>-77.054331</td>\n",
              "      <td>Georgetown</td>\n",
              "      <td>025 H Georgetown</td>\n",
              "      <td>100.0</td>\n",
              "      <td>000100 2000</td>\n",
              "      <td>Ward 2</td>\n",
              "      <td>1264</td>\n",
              "      <td>-77.054174</td>\n",
              "      <td>38.909767</td>\n",
              "      <td>NW</td>\n",
              "    </tr>\n",
              "    <tr>\n",
              "      <th>20036</th>\n",
              "      <td>0</td>\n",
              "      <td>0</td>\n",
              "      <td>No Data</td>\n",
              "      <td>0</td>\n",
              "      <td>0.0</td>\n",
              "      <td>0</td>\n",
              "      <td>0</td>\n",
              "      <td>1953.0</td>\n",
              "      <td>2009.0</td>\n",
              "      <td>1953</td>\n",
              "      <td>...</td>\n",
              "      <td>-77.062106</td>\n",
              "      <td>Georgetown</td>\n",
              "      <td>025 G Georgetown</td>\n",
              "      <td>100.0</td>\n",
              "      <td>000100 3005</td>\n",
              "      <td>Ward 2</td>\n",
              "      <td>1256</td>\n",
              "      <td>-77.062742</td>\n",
              "      <td>38.909021</td>\n",
              "      <td>NW</td>\n",
              "    </tr>\n",
              "    <tr>\n",
              "      <th>20680</th>\n",
              "      <td>0</td>\n",
              "      <td>0</td>\n",
              "      <td>No Data</td>\n",
              "      <td>0</td>\n",
              "      <td>0.0</td>\n",
              "      <td>0</td>\n",
              "      <td>0</td>\n",
              "      <td>1998.0</td>\n",
              "      <td>NaN</td>\n",
              "      <td>1998</td>\n",
              "      <td>...</td>\n",
              "      <td>-77.057709</td>\n",
              "      <td>Georgetown</td>\n",
              "      <td>025 H Georgetown</td>\n",
              "      <td>100.0</td>\n",
              "      <td>NaN</td>\n",
              "      <td>Ward 2</td>\n",
              "      <td>1284</td>\n",
              "      <td>-77.057711</td>\n",
              "      <td>38.910936</td>\n",
              "      <td>NW</td>\n",
              "    </tr>\n",
              "    <tr>\n",
              "      <th>22771</th>\n",
              "      <td>0</td>\n",
              "      <td>0</td>\n",
              "      <td>No Data</td>\n",
              "      <td>0</td>\n",
              "      <td>0.0</td>\n",
              "      <td>0</td>\n",
              "      <td>0</td>\n",
              "      <td>1948.0</td>\n",
              "      <td>NaN</td>\n",
              "      <td>1948</td>\n",
              "      <td>...</td>\n",
              "      <td>-77.084539</td>\n",
              "      <td>Palisades</td>\n",
              "      <td>041 B Palisades</td>\n",
              "      <td>802.0</td>\n",
              "      <td>000802 1011</td>\n",
              "      <td>Ward 3</td>\n",
              "      <td>1366</td>\n",
              "      <td>-77.085806</td>\n",
              "      <td>38.911124</td>\n",
              "      <td>NW</td>\n",
              "    </tr>\n",
              "    <tr>\n",
              "      <th>23165</th>\n",
              "      <td>0</td>\n",
              "      <td>0</td>\n",
              "      <td>No Data</td>\n",
              "      <td>0</td>\n",
              "      <td>0.0</td>\n",
              "      <td>0</td>\n",
              "      <td>0</td>\n",
              "      <td>1955.0</td>\n",
              "      <td>NaN</td>\n",
              "      <td>1955</td>\n",
              "      <td>...</td>\n",
              "      <td>-77.099252</td>\n",
              "      <td>Kent</td>\n",
              "      <td>030 C Kent</td>\n",
              "      <td>902.0</td>\n",
              "      <td>NaN</td>\n",
              "      <td>Ward 3</td>\n",
              "      <td>1411</td>\n",
              "      <td>-77.099254</td>\n",
              "      <td>38.925030</td>\n",
              "      <td>NW</td>\n",
              "    </tr>\n",
              "    <tr>\n",
              "      <th>24906</th>\n",
              "      <td>1</td>\n",
              "      <td>0</td>\n",
              "      <td>Gravity Furnac</td>\n",
              "      <td>N</td>\n",
              "      <td>1.0</td>\n",
              "      <td>1</td>\n",
              "      <td>0</td>\n",
              "      <td>1979.0</td>\n",
              "      <td>NaN</td>\n",
              "      <td>1981</td>\n",
              "      <td>...</td>\n",
              "      <td>-77.090285</td>\n",
              "      <td>Berkley</td>\n",
              "      <td>004 B Berkley</td>\n",
              "      <td>802.0</td>\n",
              "      <td>NaN</td>\n",
              "      <td>Ward 3</td>\n",
              "      <td>1370</td>\n",
              "      <td>-77.090287</td>\n",
              "      <td>38.914680</td>\n",
              "      <td>NW</td>\n",
              "    </tr>\n",
              "    <tr>\n",
              "      <th>25208</th>\n",
              "      <td>0</td>\n",
              "      <td>0</td>\n",
              "      <td>No Data</td>\n",
              "      <td>0</td>\n",
              "      <td>0.0</td>\n",
              "      <td>0</td>\n",
              "      <td>0</td>\n",
              "      <td>NaN</td>\n",
              "      <td>NaN</td>\n",
              "      <td>1943</td>\n",
              "      <td>...</td>\n",
              "      <td>-77.092325</td>\n",
              "      <td>Wesley Heights</td>\n",
              "      <td>054 A Wesley Heights</td>\n",
              "      <td>801.0</td>\n",
              "      <td>NaN</td>\n",
              "      <td>Ward 3</td>\n",
              "      <td>1406</td>\n",
              "      <td>-77.092328</td>\n",
              "      <td>38.928072</td>\n",
              "      <td>NW</td>\n",
              "    </tr>\n",
              "    <tr>\n",
              "      <th>25411</th>\n",
              "      <td>2</td>\n",
              "      <td>0</td>\n",
              "      <td>Warm Cool</td>\n",
              "      <td>Y</td>\n",
              "      <td>1.0</td>\n",
              "      <td>5</td>\n",
              "      <td>2</td>\n",
              "      <td>1950.0</td>\n",
              "      <td>NaN</td>\n",
              "      <td>1994</td>\n",
              "      <td>...</td>\n",
              "      <td>-77.090038</td>\n",
              "      <td>Spring Valley</td>\n",
              "      <td>050 D Spring Valley</td>\n",
              "      <td>901.0</td>\n",
              "      <td>000901 3030</td>\n",
              "      <td>Ward 3</td>\n",
              "      <td>1513</td>\n",
              "      <td>-77.095868</td>\n",
              "      <td>38.933305</td>\n",
              "      <td>NW</td>\n",
              "    </tr>\n",
              "    <tr>\n",
              "      <th>30657</th>\n",
              "      <td>0</td>\n",
              "      <td>0</td>\n",
              "      <td>No Data</td>\n",
              "      <td>0</td>\n",
              "      <td>0.0</td>\n",
              "      <td>0</td>\n",
              "      <td>0</td>\n",
              "      <td>1971.0</td>\n",
              "      <td>NaN</td>\n",
              "      <td>1971</td>\n",
              "      <td>...</td>\n",
              "      <td>-77.081920</td>\n",
              "      <td>American University</td>\n",
              "      <td>001 C American University</td>\n",
              "      <td>1001.0</td>\n",
              "      <td>NaN</td>\n",
              "      <td>Ward 3</td>\n",
              "      <td>1727</td>\n",
              "      <td>-77.081923</td>\n",
              "      <td>38.944411</td>\n",
              "      <td>NW</td>\n",
              "    </tr>\n",
              "    <tr>\n",
              "      <th>32008</th>\n",
              "      <td>0</td>\n",
              "      <td>0</td>\n",
              "      <td>No Data</td>\n",
              "      <td>0</td>\n",
              "      <td>0.0</td>\n",
              "      <td>0</td>\n",
              "      <td>0</td>\n",
              "      <td>1989.0</td>\n",
              "      <td>NaN</td>\n",
              "      <td>1989</td>\n",
              "      <td>...</td>\n",
              "      <td>-77.062058</td>\n",
              "      <td>Forest Hills</td>\n",
              "      <td>NaN</td>\n",
              "      <td>1302.0</td>\n",
              "      <td>NaN</td>\n",
              "      <td>Ward 3</td>\n",
              "      <td>2042</td>\n",
              "      <td>-77.062060</td>\n",
              "      <td>38.947532</td>\n",
              "      <td>NW</td>\n",
              "    </tr>\n",
              "    <tr>\n",
              "      <th>34560</th>\n",
              "      <td>3</td>\n",
              "      <td>1</td>\n",
              "      <td>Forced Air</td>\n",
              "      <td>Y</td>\n",
              "      <td>1.0</td>\n",
              "      <td>8</td>\n",
              "      <td>4</td>\n",
              "      <td>2015.0</td>\n",
              "      <td>NaN</td>\n",
              "      <td>2017</td>\n",
              "      <td>...</td>\n",
              "      <td>-77.068642</td>\n",
              "      <td>Chevy Chase</td>\n",
              "      <td>011 B Chevy Chase</td>\n",
              "      <td>1401.0</td>\n",
              "      <td>001401 2016</td>\n",
              "      <td>Ward 3</td>\n",
              "      <td>1997</td>\n",
              "      <td>-77.069485</td>\n",
              "      <td>38.966002</td>\n",
              "      <td>NW</td>\n",
              "    </tr>\n",
              "    <tr>\n",
              "      <th>37084</th>\n",
              "      <td>2</td>\n",
              "      <td>2</td>\n",
              "      <td>Warm Cool</td>\n",
              "      <td>N</td>\n",
              "      <td>1.0</td>\n",
              "      <td>7</td>\n",
              "      <td>4</td>\n",
              "      <td>1952.0</td>\n",
              "      <td>1968.0</td>\n",
              "      <td>1978</td>\n",
              "      <td>...</td>\n",
              "      <td>-77.066165</td>\n",
              "      <td>Massachusetts Avenue Heights</td>\n",
              "      <td>NaN</td>\n",
              "      <td>400.0</td>\n",
              "      <td>000400 2009</td>\n",
              "      <td>Ward 3</td>\n",
              "      <td>2122</td>\n",
              "      <td>-77.065907</td>\n",
              "      <td>38.925031</td>\n",
              "      <td>NW</td>\n",
              "    </tr>\n",
              "    <tr>\n",
              "      <th>37108</th>\n",
              "      <td>0</td>\n",
              "      <td>0</td>\n",
              "      <td>No Data</td>\n",
              "      <td>0</td>\n",
              "      <td>0.0</td>\n",
              "      <td>0</td>\n",
              "      <td>0</td>\n",
              "      <td>1957.0</td>\n",
              "      <td>NaN</td>\n",
              "      <td>1957</td>\n",
              "      <td>...</td>\n",
              "      <td>-77.061524</td>\n",
              "      <td>Massachusetts Avenue Heights</td>\n",
              "      <td>NaN</td>\n",
              "      <td>400.0</td>\n",
              "      <td>000400 2004</td>\n",
              "      <td>Ward 3</td>\n",
              "      <td>2124</td>\n",
              "      <td>-77.061634</td>\n",
              "      <td>38.923825</td>\n",
              "      <td>NW</td>\n",
              "    </tr>\n",
              "    <tr>\n",
              "      <th>44006</th>\n",
              "      <td>3</td>\n",
              "      <td>0</td>\n",
              "      <td>Hot Water Rad</td>\n",
              "      <td>N</td>\n",
              "      <td>2.0</td>\n",
              "      <td>8</td>\n",
              "      <td>6</td>\n",
              "      <td>1910.0</td>\n",
              "      <td>NaN</td>\n",
              "      <td>1963</td>\n",
              "      <td>...</td>\n",
              "      <td>-77.041584</td>\n",
              "      <td>Mt. Pleasant</td>\n",
              "      <td>036 A Mt. Pleasant</td>\n",
              "      <td>2702.0</td>\n",
              "      <td>002702 3009</td>\n",
              "      <td>Ward 1</td>\n",
              "      <td>2599</td>\n",
              "      <td>-77.042118</td>\n",
              "      <td>38.930148</td>\n",
              "      <td>NW</td>\n",
              "    </tr>\n",
              "    <tr>\n",
              "      <th>57881</th>\n",
              "      <td>1</td>\n",
              "      <td>0</td>\n",
              "      <td>Hot Water Rad</td>\n",
              "      <td>N</td>\n",
              "      <td>1.0</td>\n",
              "      <td>6</td>\n",
              "      <td>4</td>\n",
              "      <td>1927.0</td>\n",
              "      <td>NaN</td>\n",
              "      <td>1957</td>\n",
              "      <td>...</td>\n",
              "      <td>-77.023144</td>\n",
              "      <td>Brightwood</td>\n",
              "      <td>006 D Brightwood</td>\n",
              "      <td>1901.0</td>\n",
              "      <td>001901 4002</td>\n",
              "      <td>Ward 4</td>\n",
              "      <td>3164</td>\n",
              "      <td>-77.023146</td>\n",
              "      <td>38.969280</td>\n",
              "      <td>NW</td>\n",
              "    </tr>\n",
              "    <tr>\n",
              "      <th>86418</th>\n",
              "      <td>1</td>\n",
              "      <td>1</td>\n",
              "      <td>Forced Air</td>\n",
              "      <td>Y</td>\n",
              "      <td>1.0</td>\n",
              "      <td>6</td>\n",
              "      <td>3</td>\n",
              "      <td>1979.0</td>\n",
              "      <td>NaN</td>\n",
              "      <td>1990</td>\n",
              "      <td>...</td>\n",
              "      <td>-76.933524</td>\n",
              "      <td>Deanwood</td>\n",
              "      <td>018 B Deanwood</td>\n",
              "      <td>7804.0</td>\n",
              "      <td>007804 1005</td>\n",
              "      <td>Ward 7</td>\n",
              "      <td>5148</td>\n",
              "      <td>-76.934028</td>\n",
              "      <td>38.899467</td>\n",
              "      <td>NE</td>\n",
              "    </tr>\n",
              "    <tr>\n",
              "      <th>86463</th>\n",
              "      <td>1</td>\n",
              "      <td>2</td>\n",
              "      <td>Forced Air</td>\n",
              "      <td>Y</td>\n",
              "      <td>1.0</td>\n",
              "      <td>8</td>\n",
              "      <td>3</td>\n",
              "      <td>1966.0</td>\n",
              "      <td>NaN</td>\n",
              "      <td>1974</td>\n",
              "      <td>...</td>\n",
              "      <td>-76.937559</td>\n",
              "      <td>Deanwood</td>\n",
              "      <td>018 A Deanwood</td>\n",
              "      <td>7803.0</td>\n",
              "      <td>007803 3003</td>\n",
              "      <td>Ward 7</td>\n",
              "      <td>5137</td>\n",
              "      <td>-76.936552</td>\n",
              "      <td>38.892582</td>\n",
              "      <td>NE</td>\n",
              "    </tr>\n",
              "    <tr>\n",
              "      <th>87375</th>\n",
              "      <td>1</td>\n",
              "      <td>0</td>\n",
              "      <td>Hot Water Rad</td>\n",
              "      <td>N</td>\n",
              "      <td>1.0</td>\n",
              "      <td>6</td>\n",
              "      <td>3</td>\n",
              "      <td>1937.0</td>\n",
              "      <td>NaN</td>\n",
              "      <td>1954</td>\n",
              "      <td>...</td>\n",
              "      <td>-76.923027</td>\n",
              "      <td>Deanwood</td>\n",
              "      <td>018 C Deanwood</td>\n",
              "      <td>7807.0</td>\n",
              "      <td>007807 2006</td>\n",
              "      <td>Ward 7</td>\n",
              "      <td>5210</td>\n",
              "      <td>-76.923942</td>\n",
              "      <td>38.898740</td>\n",
              "      <td>NE</td>\n",
              "    </tr>\n",
              "    <tr>\n",
              "      <th>88290</th>\n",
              "      <td>2</td>\n",
              "      <td>1</td>\n",
              "      <td>Forced Air</td>\n",
              "      <td>Y</td>\n",
              "      <td>1.0</td>\n",
              "      <td>6</td>\n",
              "      <td>3</td>\n",
              "      <td>1910.0</td>\n",
              "      <td>2005.0</td>\n",
              "      <td>1964</td>\n",
              "      <td>...</td>\n",
              "      <td>-76.937685</td>\n",
              "      <td>Deanwood</td>\n",
              "      <td>018 B Deanwood</td>\n",
              "      <td>7806.0</td>\n",
              "      <td>007806 2010</td>\n",
              "      <td>Ward 7</td>\n",
              "      <td>5157</td>\n",
              "      <td>-76.937645</td>\n",
              "      <td>38.904715</td>\n",
              "      <td>NE</td>\n",
              "    </tr>\n",
              "    <tr>\n",
              "      <th>88501</th>\n",
              "      <td>1</td>\n",
              "      <td>0</td>\n",
              "      <td>Hot Water Rad</td>\n",
              "      <td>N</td>\n",
              "      <td>1.0</td>\n",
              "      <td>6</td>\n",
              "      <td>3</td>\n",
              "      <td>1910.0</td>\n",
              "      <td>NaN</td>\n",
              "      <td>1954</td>\n",
              "      <td>...</td>\n",
              "      <td>-76.929766</td>\n",
              "      <td>Deanwood</td>\n",
              "      <td>018 B Deanwood</td>\n",
              "      <td>7804.0</td>\n",
              "      <td>007804 1004</td>\n",
              "      <td>Ward 7</td>\n",
              "      <td>5179</td>\n",
              "      <td>-76.929899</td>\n",
              "      <td>38.898915</td>\n",
              "      <td>NE</td>\n",
              "    </tr>\n",
              "    <tr>\n",
              "      <th>89286</th>\n",
              "      <td>3</td>\n",
              "      <td>1</td>\n",
              "      <td>Forced Air</td>\n",
              "      <td>Y</td>\n",
              "      <td>1.0</td>\n",
              "      <td>11</td>\n",
              "      <td>6</td>\n",
              "      <td>2009.0</td>\n",
              "      <td>NaN</td>\n",
              "      <td>2012</td>\n",
              "      <td>...</td>\n",
              "      <td>-76.921642</td>\n",
              "      <td>Marshall Heights</td>\n",
              "      <td>033 A Marshall Heights</td>\n",
              "      <td>9905.0</td>\n",
              "      <td>009905 2005</td>\n",
              "      <td>Ward 7</td>\n",
              "      <td>5293</td>\n",
              "      <td>-76.922721</td>\n",
              "      <td>38.883928</td>\n",
              "      <td>SE</td>\n",
              "    </tr>\n",
              "    <tr>\n",
              "      <th>95276</th>\n",
              "      <td>0</td>\n",
              "      <td>0</td>\n",
              "      <td>No Data</td>\n",
              "      <td>0</td>\n",
              "      <td>0.0</td>\n",
              "      <td>0</td>\n",
              "      <td>0</td>\n",
              "      <td>1953.0</td>\n",
              "      <td>NaN</td>\n",
              "      <td>1953</td>\n",
              "      <td>...</td>\n",
              "      <td>-76.959676</td>\n",
              "      <td>Hillcrest</td>\n",
              "      <td>028 B Hillcrest</td>\n",
              "      <td>9901.0</td>\n",
              "      <td>NaN</td>\n",
              "      <td>Ward 7</td>\n",
              "      <td>5539</td>\n",
              "      <td>-76.959679</td>\n",
              "      <td>38.869875</td>\n",
              "      <td>SE</td>\n",
              "    </tr>\n",
              "    <tr>\n",
              "      <th>101407</th>\n",
              "      <td>0</td>\n",
              "      <td>0</td>\n",
              "      <td>No Data</td>\n",
              "      <td>0</td>\n",
              "      <td>0.0</td>\n",
              "      <td>0</td>\n",
              "      <td>0</td>\n",
              "      <td>NaN</td>\n",
              "      <td>NaN</td>\n",
              "      <td>1900</td>\n",
              "      <td>...</td>\n",
              "      <td>-76.975073</td>\n",
              "      <td>Randle Heights</td>\n",
              "      <td>043 D Randle Heights</td>\n",
              "      <td>7409.0</td>\n",
              "      <td>007409 2002</td>\n",
              "      <td>Ward 8</td>\n",
              "      <td>5900</td>\n",
              "      <td>-76.975307</td>\n",
              "      <td>38.845773</td>\n",
              "      <td>SE</td>\n",
              "    </tr>\n",
              "    <tr>\n",
              "      <th>102691</th>\n",
              "      <td>0</td>\n",
              "      <td>0</td>\n",
              "      <td>No Data</td>\n",
              "      <td>0</td>\n",
              "      <td>0.0</td>\n",
              "      <td>0</td>\n",
              "      <td>0</td>\n",
              "      <td>NaN</td>\n",
              "      <td>NaN</td>\n",
              "      <td>1943</td>\n",
              "      <td>...</td>\n",
              "      <td>-76.972566</td>\n",
              "      <td>Randle Heights</td>\n",
              "      <td>043 C Randle Heights</td>\n",
              "      <td>7403.0</td>\n",
              "      <td>007403 1002</td>\n",
              "      <td>Ward 8</td>\n",
              "      <td>5894</td>\n",
              "      <td>-76.973811</td>\n",
              "      <td>38.848368</td>\n",
              "      <td>SE</td>\n",
              "    </tr>\n",
              "    <tr>\n",
              "      <th>104206</th>\n",
              "      <td>0</td>\n",
              "      <td>0</td>\n",
              "      <td>No Data</td>\n",
              "      <td>0</td>\n",
              "      <td>0.0</td>\n",
              "      <td>0</td>\n",
              "      <td>0</td>\n",
              "      <td>2004.0</td>\n",
              "      <td>NaN</td>\n",
              "      <td>2004</td>\n",
              "      <td>...</td>\n",
              "      <td>-76.996221</td>\n",
              "      <td>Congress Heights</td>\n",
              "      <td>016 C Congress Heights</td>\n",
              "      <td>9811.0</td>\n",
              "      <td>009811 2001</td>\n",
              "      <td>Ward 8</td>\n",
              "      <td>6208</td>\n",
              "      <td>-76.997729</td>\n",
              "      <td>38.827709</td>\n",
              "      <td>SE</td>\n",
              "    </tr>\n",
              "  </tbody>\n",
              "</table>\n",
              "<p>26 rows × 48 columns</p>\n",
              "</div>"
            ],
            "text/plain": [
              "        BATHRM  HF_BATHRM            HEAT AC  NUM_UNITS  ROOMS  BEDRM     AYB  \\\n",
              "5126         4          0      Forced Air  Y        4.0      8      4     NaN   \n",
              "19274        0          0         No Data  0        0.0      0      0  1956.0   \n",
              "20036        0          0         No Data  0        0.0      0      0  1953.0   \n",
              "20680        0          0         No Data  0        0.0      0      0  1998.0   \n",
              "22771        0          0         No Data  0        0.0      0      0  1948.0   \n",
              "23165        0          0         No Data  0        0.0      0      0  1955.0   \n",
              "24906        1          0  Gravity Furnac  N        1.0      1      0  1979.0   \n",
              "25208        0          0         No Data  0        0.0      0      0     NaN   \n",
              "25411        2          0       Warm Cool  Y        1.0      5      2  1950.0   \n",
              "30657        0          0         No Data  0        0.0      0      0  1971.0   \n",
              "32008        0          0         No Data  0        0.0      0      0  1989.0   \n",
              "34560        3          1      Forced Air  Y        1.0      8      4  2015.0   \n",
              "37084        2          2       Warm Cool  N        1.0      7      4  1952.0   \n",
              "37108        0          0         No Data  0        0.0      0      0  1957.0   \n",
              "44006        3          0   Hot Water Rad  N        2.0      8      6  1910.0   \n",
              "57881        1          0   Hot Water Rad  N        1.0      6      4  1927.0   \n",
              "86418        1          1      Forced Air  Y        1.0      6      3  1979.0   \n",
              "86463        1          2      Forced Air  Y        1.0      8      3  1966.0   \n",
              "87375        1          0   Hot Water Rad  N        1.0      6      3  1937.0   \n",
              "88290        2          1      Forced Air  Y        1.0      6      3  1910.0   \n",
              "88501        1          0   Hot Water Rad  N        1.0      6      3  1910.0   \n",
              "89286        3          1      Forced Air  Y        1.0     11      6  2009.0   \n",
              "95276        0          0         No Data  0        0.0      0      0  1953.0   \n",
              "101407       0          0         No Data  0        0.0      0      0     NaN   \n",
              "102691       0          0         No Data  0        0.0      0      0     NaN   \n",
              "104206       0          0         No Data  0        0.0      0      0  2004.0   \n",
              "\n",
              "        YR_RMDL   EYB  ...  LONGITUDE               ASSESSMENT_NBHD  \\\n",
              "5126     2006.0  1972  ... -77.014938                    Old City 2   \n",
              "19274       NaN  1956  ... -77.054331                    Georgetown   \n",
              "20036    2009.0  1953  ... -77.062106                    Georgetown   \n",
              "20680       NaN  1998  ... -77.057709                    Georgetown   \n",
              "22771       NaN  1948  ... -77.084539                     Palisades   \n",
              "23165       NaN  1955  ... -77.099252                          Kent   \n",
              "24906       NaN  1981  ... -77.090285                       Berkley   \n",
              "25208       NaN  1943  ... -77.092325                Wesley Heights   \n",
              "25411       NaN  1994  ... -77.090038                 Spring Valley   \n",
              "30657       NaN  1971  ... -77.081920           American University   \n",
              "32008       NaN  1989  ... -77.062058                  Forest Hills   \n",
              "34560       NaN  2017  ... -77.068642                   Chevy Chase   \n",
              "37084    1968.0  1978  ... -77.066165  Massachusetts Avenue Heights   \n",
              "37108       NaN  1957  ... -77.061524  Massachusetts Avenue Heights   \n",
              "44006       NaN  1963  ... -77.041584                  Mt. Pleasant   \n",
              "57881       NaN  1957  ... -77.023144                    Brightwood   \n",
              "86418       NaN  1990  ... -76.933524                      Deanwood   \n",
              "86463       NaN  1974  ... -76.937559                      Deanwood   \n",
              "87375       NaN  1954  ... -76.923027                      Deanwood   \n",
              "88290    2005.0  1964  ... -76.937685                      Deanwood   \n",
              "88501       NaN  1954  ... -76.929766                      Deanwood   \n",
              "89286       NaN  2012  ... -76.921642              Marshall Heights   \n",
              "95276       NaN  1953  ... -76.959676                     Hillcrest   \n",
              "101407      NaN  1900  ... -76.975073                Randle Heights   \n",
              "102691      NaN  1943  ... -76.972566                Randle Heights   \n",
              "104206      NaN  2004  ... -76.996221              Congress Heights   \n",
              "\n",
              "               ASSESSMENT_SUBNBHD CENSUS_TRACT  CENSUS_BLOCK    WARD  SQUARE  \\\n",
              "5126             040 A Old City 2       4600.0   004600 2001  Ward 5     550   \n",
              "19274            025 H Georgetown        100.0   000100 2000  Ward 2    1264   \n",
              "20036            025 G Georgetown        100.0   000100 3005  Ward 2    1256   \n",
              "20680            025 H Georgetown        100.0           NaN  Ward 2    1284   \n",
              "22771             041 B Palisades        802.0   000802 1011  Ward 3    1366   \n",
              "23165                  030 C Kent        902.0           NaN  Ward 3    1411   \n",
              "24906               004 B Berkley        802.0           NaN  Ward 3    1370   \n",
              "25208        054 A Wesley Heights        801.0           NaN  Ward 3    1406   \n",
              "25411         050 D Spring Valley        901.0   000901 3030  Ward 3    1513   \n",
              "30657   001 C American University       1001.0           NaN  Ward 3    1727   \n",
              "32008                         NaN       1302.0           NaN  Ward 3    2042   \n",
              "34560           011 B Chevy Chase       1401.0   001401 2016  Ward 3    1997   \n",
              "37084                         NaN        400.0   000400 2009  Ward 3    2122   \n",
              "37108                         NaN        400.0   000400 2004  Ward 3    2124   \n",
              "44006          036 A Mt. Pleasant       2702.0   002702 3009  Ward 1    2599   \n",
              "57881            006 D Brightwood       1901.0   001901 4002  Ward 4    3164   \n",
              "86418              018 B Deanwood       7804.0   007804 1005  Ward 7    5148   \n",
              "86463              018 A Deanwood       7803.0   007803 3003  Ward 7    5137   \n",
              "87375              018 C Deanwood       7807.0   007807 2006  Ward 7    5210   \n",
              "88290              018 B Deanwood       7806.0   007806 2010  Ward 7    5157   \n",
              "88501              018 B Deanwood       7804.0   007804 1004  Ward 7    5179   \n",
              "89286      033 A Marshall Heights       9905.0   009905 2005  Ward 7    5293   \n",
              "95276             028 B Hillcrest       9901.0           NaN  Ward 7    5539   \n",
              "101407       043 D Randle Heights       7409.0   007409 2002  Ward 8    5900   \n",
              "102691       043 C Randle Heights       7403.0   007403 1002  Ward 8    5894   \n",
              "104206     016 C Congress Heights       9811.0   009811 2001  Ward 8    6208   \n",
              "\n",
              "                X          Y QUADRANT  \n",
              "5126   -77.014584  38.912813       NW  \n",
              "19274  -77.054174  38.909767       NW  \n",
              "20036  -77.062742  38.909021       NW  \n",
              "20680  -77.057711  38.910936       NW  \n",
              "22771  -77.085806  38.911124       NW  \n",
              "23165  -77.099254  38.925030       NW  \n",
              "24906  -77.090287  38.914680       NW  \n",
              "25208  -77.092328  38.928072       NW  \n",
              "25411  -77.095868  38.933305       NW  \n",
              "30657  -77.081923  38.944411       NW  \n",
              "32008  -77.062060  38.947532       NW  \n",
              "34560  -77.069485  38.966002       NW  \n",
              "37084  -77.065907  38.925031       NW  \n",
              "37108  -77.061634  38.923825       NW  \n",
              "44006  -77.042118  38.930148       NW  \n",
              "57881  -77.023146  38.969280       NW  \n",
              "86418  -76.934028  38.899467       NE  \n",
              "86463  -76.936552  38.892582       NE  \n",
              "87375  -76.923942  38.898740       NE  \n",
              "88290  -76.937645  38.904715       NE  \n",
              "88501  -76.929899  38.898915       NE  \n",
              "89286  -76.922721  38.883928       SE  \n",
              "95276  -76.959679  38.869875       SE  \n",
              "101407 -76.975307  38.845773       SE  \n",
              "102691 -76.973811  38.848368       SE  \n",
              "104206 -76.997729  38.827709       SE  \n",
              "\n",
              "[26 rows x 48 columns]"
            ]
          },
          "execution_count": 164,
          "metadata": {},
          "output_type": "execute_result"
        }
      ],
      "source": [
        "df[df['STRUCT']=='Default']"
      ]
    },
    {
      "cell_type": "code",
      "execution_count": 36,
      "metadata": {
        "colab": {
          "base_uri": "https://localhost:8080/"
        },
        "id": "roOZXNKf78eI",
        "outputId": "e45930ac-a69c-4de5-858d-7feef0ec66fa"
      },
      "outputs": [
        {
          "data": {
            "text/plain": [
              "Average          37357\n",
              "Above Average    32101\n",
              "Good Quality     20800\n",
              "Very Good         8976\n",
              "Excellent         3390\n",
              "Superior          2634\n",
              "Exceptional-A      818\n",
              "Exceptional-B      278\n",
              "Fair Quality       150\n",
              "Exceptional-C       92\n",
              "Exceptional-D       75\n",
              "No Data             19\n",
              "Low Quality          6\n",
              "Name: GRADE, dtype: int64"
            ]
          },
          "execution_count": 36,
          "metadata": {
            "tags": []
          },
          "output_type": "execute_result"
        }
      ],
      "source": [
        "df['GRADE'].value_counts()"
      ]
    },
    {
      "cell_type": "code",
      "execution_count": 37,
      "metadata": {
        "colab": {
          "base_uri": "https://localhost:8080/"
        },
        "id": "3j_ni4vO8EBu",
        "outputId": "f99e5e0f-0698-45dd-be79-26950af079d3"
      },
      "outputs": [
        {
          "data": {
            "text/plain": [
              "Average      58217\n",
              "Good         37497\n",
              "Very Good     8130\n",
              "Excellent     1338\n",
              "Fair          1320\n",
              "Poor           175\n",
              "Default         19\n",
              "Name: CNDTN, dtype: int64"
            ]
          },
          "execution_count": 37,
          "metadata": {
            "tags": []
          },
          "output_type": "execute_result"
        }
      ],
      "source": [
        "df['CNDTN'].value_counts()"
      ]
    },
    {
      "cell_type": "code",
      "execution_count": 38,
      "metadata": {
        "colab": {
          "base_uri": "https://localhost:8080/"
        },
        "id": "Q5XYZHM18IJX",
        "outputId": "849ba2f9-0985-4491-885c-21b957a3687a"
      },
      "outputs": [
        {
          "data": {
            "text/plain": [
              "Common Brick      81068\n",
              "Brick/Siding       5569\n",
              "Vinyl Siding       5290\n",
              "Wood Siding        4540\n",
              "Stucco             3216\n",
              "Shingle            1181\n",
              "Brick Veneer       1069\n",
              "Aluminum            954\n",
              "Stone               744\n",
              "Brick/Stucco        673\n",
              "Brick/Stone         626\n",
              "Face Brick          512\n",
              "Stone/Siding        339\n",
              "Stone Veneer        254\n",
              "Stone/Stucco        238\n",
              "Hardboard           119\n",
              "Concrete             82\n",
              "Metal Siding         66\n",
              "Concrete Block       54\n",
              "Stucco Block         51\n",
              "Default              32\n",
              "Plywood              15\n",
              "Adobe                 2\n",
              "Rustic Log            1\n",
              "SPlaster              1\n",
              "Name: EXTWALL, dtype: int64"
            ]
          },
          "execution_count": 38,
          "metadata": {
            "tags": []
          },
          "output_type": "execute_result"
        }
      ],
      "source": [
        "df['EXTWALL'].value_counts()"
      ]
    },
    {
      "cell_type": "code",
      "execution_count": 39,
      "metadata": {
        "colab": {
          "base_uri": "https://localhost:8080/"
        },
        "id": "iUJCxESI8NzJ",
        "outputId": "5589559f-450b-4957-d9c1-0d9a6fbc77f7"
      },
      "outputs": [
        {
          "data": {
            "text/plain": [
              "Built Up          31402\n",
              "Comp Shingle      30301\n",
              "Metal- Sms        29957\n",
              "Slate             11135\n",
              "Neopren            1254\n",
              "Shake               907\n",
              "Clay Tile           654\n",
              "Shingle             433\n",
              "Metal- Pre          244\n",
              "Typical             229\n",
              "Composition Ro      102\n",
              "Metal- Cpr           41\n",
              "Concrete Tile        17\n",
              "Water Proof           9\n",
              "Wood- FS              7\n",
              "Concrete              4\n",
              "Name: ROOF, dtype: int64"
            ]
          },
          "execution_count": 39,
          "metadata": {
            "tags": []
          },
          "output_type": "execute_result"
        }
      ],
      "source": [
        "df['ROOF'].value_counts()"
      ]
    },
    {
      "cell_type": "code",
      "execution_count": 167,
      "metadata": {},
      "outputs": [
        {
          "data": {
            "text/plain": [
              "21909    Typical\n",
              "24465    Typical\n",
              "25806    Typical\n",
              "25807    Typical\n",
              "Name: ROOF, dtype: object"
            ]
          },
          "execution_count": 167,
          "metadata": {},
          "output_type": "execute_result"
        }
      ],
      "source": [
        "df[df['STRUCT']=='Vacant Land']['ROOF']"
      ]
    },
    {
      "cell_type": "code",
      "execution_count": 40,
      "metadata": {
        "colab": {
          "base_uri": "https://localhost:8080/"
        },
        "id": "jGzf0jUU8Vqs",
        "outputId": "58d62553-c2a4-4c5b-8c1e-8553fa82b465"
      },
      "outputs": [
        {
          "data": {
            "text/plain": [
              "Hardwood         83643\n",
              "Hardwood/Carp    10938\n",
              "Wood Floor        8170\n",
              "Carpet            3563\n",
              "Lt Concrete        141\n",
              "Default            110\n",
              "Ceramic Tile        50\n",
              "Vinyl Comp          28\n",
              "Parquet             19\n",
              "Resiliant           15\n",
              "Vinyl Sheet         13\n",
              "Terrazo              6\n",
              "Name: INTWALL, dtype: int64"
            ]
          },
          "execution_count": 40,
          "metadata": {
            "tags": []
          },
          "output_type": "execute_result"
        }
      ],
      "source": [
        "df['INTWALL'].value_counts()"
      ]
    },
    {
      "cell_type": "code",
      "execution_count": 41,
      "metadata": {
        "colab": {
          "base_uri": "https://localhost:8080/"
        },
        "id": "mB6pQ73J8ZRh",
        "outputId": "e8d4f5e6-f53e-4cb7-b12f-ec5780c9a279"
      },
      "outputs": [
        {
          "data": {
            "text/plain": [
              "1.0     90434\n",
              "2.0     11904\n",
              "4.0      3051\n",
              "3.0      1173\n",
              "0.0       117\n",
              "5.0        11\n",
              "6.0         4\n",
              "44.0        1\n",
              "Name: KITCHENS, dtype: int64"
            ]
          },
          "execution_count": 41,
          "metadata": {
            "tags": []
          },
          "output_type": "execute_result"
        }
      ],
      "source": [
        "df['KITCHENS'].value_counts()"
      ]
    },
    {
      "cell_type": "code",
      "execution_count": 172,
      "metadata": {},
      "outputs": [
        {
          "data": {
            "text/html": [
              "<div>\n",
              "<style scoped>\n",
              "    .dataframe tbody tr th:only-of-type {\n",
              "        vertical-align: middle;\n",
              "    }\n",
              "\n",
              "    .dataframe tbody tr th {\n",
              "        vertical-align: top;\n",
              "    }\n",
              "\n",
              "    .dataframe thead th {\n",
              "        text-align: right;\n",
              "    }\n",
              "</style>\n",
              "<table border=\"1\" class=\"dataframe\">\n",
              "  <thead>\n",
              "    <tr style=\"text-align: right;\">\n",
              "      <th></th>\n",
              "      <th>BATHRM</th>\n",
              "      <th>HF_BATHRM</th>\n",
              "      <th>HEAT</th>\n",
              "      <th>AC</th>\n",
              "      <th>NUM_UNITS</th>\n",
              "      <th>ROOMS</th>\n",
              "      <th>BEDRM</th>\n",
              "      <th>AYB</th>\n",
              "      <th>YR_RMDL</th>\n",
              "      <th>EYB</th>\n",
              "      <th>...</th>\n",
              "      <th>LONGITUDE</th>\n",
              "      <th>ASSESSMENT_NBHD</th>\n",
              "      <th>ASSESSMENT_SUBNBHD</th>\n",
              "      <th>CENSUS_TRACT</th>\n",
              "      <th>CENSUS_BLOCK</th>\n",
              "      <th>WARD</th>\n",
              "      <th>SQUARE</th>\n",
              "      <th>X</th>\n",
              "      <th>Y</th>\n",
              "      <th>QUADRANT</th>\n",
              "    </tr>\n",
              "  </thead>\n",
              "  <tbody>\n",
              "    <tr>\n",
              "      <th>73408</th>\n",
              "      <td>4</td>\n",
              "      <td>0</td>\n",
              "      <td>Hot Water Rad</td>\n",
              "      <td>N</td>\n",
              "      <td>4.0</td>\n",
              "      <td>16</td>\n",
              "      <td>4</td>\n",
              "      <td>1939.0</td>\n",
              "      <td>2014.0</td>\n",
              "      <td>1964</td>\n",
              "      <td>...</td>\n",
              "      <td>-76.983331</td>\n",
              "      <td>Trinidad</td>\n",
              "      <td>052 A Trinidad</td>\n",
              "      <td>8804.0</td>\n",
              "      <td>008804 2004</td>\n",
              "      <td>Ward 5</td>\n",
              "      <td>4052</td>\n",
              "      <td>-76.984048</td>\n",
              "      <td>38.909103</td>\n",
              "      <td>NE</td>\n",
              "    </tr>\n",
              "  </tbody>\n",
              "</table>\n",
              "<p>1 rows × 48 columns</p>\n",
              "</div>"
            ],
            "text/plain": [
              "       BATHRM  HF_BATHRM           HEAT AC  NUM_UNITS  ROOMS  BEDRM     AYB  \\\n",
              "73408       4          0  Hot Water Rad  N        4.0     16      4  1939.0   \n",
              "\n",
              "       YR_RMDL   EYB  ...  LONGITUDE ASSESSMENT_NBHD  ASSESSMENT_SUBNBHD  \\\n",
              "73408   2014.0  1964  ... -76.983331        Trinidad      052 A Trinidad   \n",
              "\n",
              "      CENSUS_TRACT  CENSUS_BLOCK    WARD  SQUARE          X          Y  \\\n",
              "73408       8804.0   008804 2004  Ward 5    4052 -76.984048  38.909103   \n",
              "\n",
              "      QUADRANT  \n",
              "73408       NE  \n",
              "\n",
              "[1 rows x 48 columns]"
            ]
          },
          "execution_count": 172,
          "metadata": {},
          "output_type": "execute_result"
        }
      ],
      "source": [
        "df[df['KITCHENS']==44]"
      ]
    },
    {
      "cell_type": "code",
      "execution_count": null,
      "metadata": {},
      "outputs": [],
      "source": []
    },
    {
      "cell_type": "code",
      "execution_count": 42,
      "metadata": {
        "colab": {
          "base_uri": "https://localhost:8080/"
        },
        "id": "hTr9cZrF8x7N",
        "outputId": "c1411323-5d2a-491b-c68e-d8724c2b5f00"
      },
      "outputs": [
        {
          "data": {
            "text/plain": [
              "0         103837\n",
              "1          40567\n",
              "2          10779\n",
              "3           2410\n",
              "4            841\n",
              "5            277\n",
              "6            148\n",
              "7             47\n",
              "8             18\n",
              "9             10\n",
              "10             8\n",
              "11             3\n",
              "12             3\n",
              "13             3\n",
              "4068           1\n",
              "922            1\n",
              "293920         1\n",
              "1601           1\n",
              "200            1\n",
              "1017           1\n",
              "Name: FIREPLACES, dtype: int64"
            ]
          },
          "execution_count": 42,
          "metadata": {
            "tags": []
          },
          "output_type": "execute_result"
        }
      ],
      "source": [
        "df['FIREPLACES'].value_counts()"
      ]
    },
    {
      "cell_type": "code",
      "execution_count": 182,
      "metadata": {},
      "outputs": [
        {
          "data": {
            "text/plain": [
              "123974    17\n",
              "Name: USECODE, dtype: int64"
            ]
          },
          "execution_count": 182,
          "metadata": {},
          "output_type": "execute_result"
        }
      ],
      "source": [
        "df[df['FIREPLACES']==4068]['USECODE']"
      ]
    },
    {
      "cell_type": "code",
      "execution_count": 43,
      "metadata": {
        "colab": {
          "base_uri": "https://localhost:8080/"
        },
        "id": "FuYvtLXC80x_",
        "outputId": "ee73eef1-632a-4854-c325-ca4a8d87d624"
      },
      "outputs": [
        {
          "data": {
            "text/plain": [
              "11     45597\n",
              "12     31623\n",
              "17     27511\n",
              "16     24741\n",
              "13     16588\n",
              "24      8272\n",
              "23      4497\n",
              "15        79\n",
              "19        31\n",
              "117        8\n",
              "81         4\n",
              "83         2\n",
              "116        1\n",
              "41         1\n",
              "39         1\n",
              "29         1\n",
              "Name: USECODE, dtype: int64"
            ]
          },
          "execution_count": 43,
          "metadata": {
            "tags": []
          },
          "output_type": "execute_result"
        }
      ],
      "source": [
        "df['USECODE'].value_counts()"
      ]
    },
    {
      "cell_type": "code",
      "execution_count": 45,
      "metadata": {
        "colab": {
          "base_uri": "https://localhost:8080/"
        },
        "id": "ztD2BWEy85xe",
        "outputId": "34046298-3ea4-4404-eb18-edf13fbd7775"
      },
      "outputs": [
        {
          "data": {
            "text/plain": [
              "count    158957.000000\n",
              "mean       2473.282158\n",
              "std        5059.046023\n",
              "min           0.000000\n",
              "25%         697.000000\n",
              "50%        1649.000000\n",
              "75%        3000.000000\n",
              "max      942632.000000\n",
              "Name: LANDAREA, dtype: float64"
            ]
          },
          "execution_count": 45,
          "metadata": {
            "tags": []
          },
          "output_type": "execute_result"
        }
      ],
      "source": [
        "df['LANDAREA'].describe()"
      ]
    },
    {
      "cell_type": "code",
      "execution_count": 46,
      "metadata": {
        "colab": {
          "base_uri": "https://localhost:8080/"
        },
        "id": "O1uSr25m88xw",
        "outputId": "5225051e-b738-413a-d7d1-eaa912b3a81f"
      },
      "outputs": [
        {
          "data": {
            "text/plain": [
              "2018-07-22 18:01:43    106696\n",
              "2018-07-22 18:01:38     52261\n",
              "Name: GIS_LAST_MOD_DTTM, dtype: int64"
            ]
          },
          "execution_count": 46,
          "metadata": {
            "tags": []
          },
          "output_type": "execute_result"
        }
      ],
      "source": [
        "df['GIS_LAST_MOD_DTTM'].value_counts()"
      ]
    },
    {
      "cell_type": "code",
      "execution_count": 47,
      "metadata": {
        "colab": {
          "base_uri": "https://localhost:8080/"
        },
        "id": "9STJR0MI9Glh",
        "outputId": "9d68fa32-0182-4555-e17d-61b27e562019"
      },
      "outputs": [
        {
          "data": {
            "text/plain": [
              "Residential    106696\n",
              "Condominium     52261\n",
              "Name: SOURCE, dtype: int64"
            ]
          },
          "execution_count": 47,
          "metadata": {
            "tags": []
          },
          "output_type": "execute_result"
        }
      ],
      "source": [
        "df['SOURCE'].value_counts()"
      ]
    },
    {
      "cell_type": "code",
      "execution_count": 49,
      "metadata": {
        "colab": {
          "base_uri": "https://localhost:8080/"
        },
        "id": "aEjT9NKJ9U-H",
        "outputId": "c26da5aa-b82a-41d2-ff1f-2c4d4367c12f"
      },
      "outputs": [
        {
          "data": {
            "text/plain": [
              "count    52261.000000\n",
              "mean      2371.544249\n",
              "std       1114.272364\n",
              "min       1001.000000\n",
              "25%       1501.000000\n",
              "50%       2265.000000\n",
              "75%       2910.000000\n",
              "max       5621.000000\n",
              "Name: CMPLX_NUM, dtype: float64"
            ]
          },
          "execution_count": 49,
          "metadata": {
            "tags": []
          },
          "output_type": "execute_result"
        }
      ],
      "source": [
        "df['CMPLX_NUM'].describe()"
      ]
    },
    {
      "cell_type": "code",
      "execution_count": 51,
      "metadata": {
        "colab": {
          "base_uri": "https://localhost:8080/"
        },
        "id": "6Qg3SK899jEr",
        "outputId": "141d8e9a-81f3-4e4d-db79-5861707621ca"
      },
      "outputs": [
        {
          "data": {
            "text/plain": [
              "count    52261.000000\n",
              "mean       888.834542\n",
              "std        420.185822\n",
              "min          0.000000\n",
              "25%        616.000000\n",
              "50%        783.000000\n",
              "75%       1060.000000\n",
              "max       8553.000000\n",
              "Name: LIVING_GBA, dtype: float64"
            ]
          },
          "execution_count": 51,
          "metadata": {
            "tags": []
          },
          "output_type": "execute_result"
        }
      ],
      "source": [
        "df['LIVING_GBA'].describe()"
      ]
    },
    {
      "cell_type": "code",
      "execution_count": 52,
      "metadata": {
        "colab": {
          "base_uri": "https://localhost:8080/"
        },
        "id": "2ANLH-Fs-LQN",
        "outputId": "6e20a6c1-f32c-4c43-cf84-14b7177ed9ec"
      },
      "outputs": [
        {
          "data": {
            "text/plain": [
              "1755 STANTON TERRACE SE     5\n",
              "1754 STANTON TERRACE SE     5\n",
              "1517 SHIPPEN LANE SE        4\n",
              "1508 SHIPPEN LANE SE        4\n",
              "2600 TILDEN STREET NW       3\n",
              "                           ..\n",
              "406 DIVISION AVENUE NE      1\n",
              "3417 MINNESOTA AVENUE SE    1\n",
              "843 ADRIAN STREET SE        1\n",
              "313 M STREET NW             1\n",
              "1831 S STREET SE            1\n",
              "Name: FULLADDRESS, Length: 105978, dtype: int64"
            ]
          },
          "execution_count": 52,
          "metadata": {
            "tags": []
          },
          "output_type": "execute_result"
        }
      ],
      "source": [
        "df['FULLADDRESS'].value_counts()"
      ]
    },
    {
      "cell_type": "code",
      "execution_count": 53,
      "metadata": {
        "colab": {
          "base_uri": "https://localhost:8080/"
        },
        "id": "76tdMmHE-q_C",
        "outputId": "d6070f27-e3be-46e9-c542-82f0e7717785"
      },
      "outputs": [
        {
          "data": {
            "text/plain": [
              "WASHINGTON    106051\n",
              "Name: CITY, dtype: int64"
            ]
          },
          "execution_count": 53,
          "metadata": {
            "tags": []
          },
          "output_type": "execute_result"
        }
      ],
      "source": [
        "df['CITY'].value_counts()"
      ]
    },
    {
      "cell_type": "code",
      "execution_count": 54,
      "metadata": {
        "colab": {
          "base_uri": "https://localhost:8080/"
        },
        "id": "cVBJ1YFv_L4l",
        "outputId": "8b287516-0718-4ca6-dbc7-367bdb9fb559"
      },
      "outputs": [
        {
          "data": {
            "text/plain": [
              "DC    106051\n",
              "Name: STATE, dtype: int64"
            ]
          },
          "execution_count": 54,
          "metadata": {
            "tags": []
          },
          "output_type": "execute_result"
        }
      ],
      "source": [
        "df['STATE'].value_counts()"
      ]
    },
    {
      "cell_type": "code",
      "execution_count": 55,
      "metadata": {
        "colab": {
          "base_uri": "https://localhost:8080/"
        },
        "id": "M2LR6NBy_QN7",
        "outputId": "3b481fdb-058a-467c-ab3a-aafaa77165ad"
      },
      "outputs": [
        {
          "data": {
            "text/plain": [
              "20011.0    16352\n",
              "20002.0    16310\n",
              "20009.0    13171\n",
              "20019.0    12458\n",
              "20016.0    10644\n",
              "20001.0    10549\n",
              "20020.0     9805\n",
              "20007.0     9029\n",
              "20003.0     8015\n",
              "20008.0     6801\n",
              "20010.0     6428\n",
              "20018.0     5670\n",
              "20017.0     5622\n",
              "20015.0     5337\n",
              "20032.0     5111\n",
              "20012.0     4118\n",
              "20037.0     3730\n",
              "20005.0     3404\n",
              "20024.0     3105\n",
              "20036.0     1892\n",
              "20004.0     1082\n",
              "20392.0      186\n",
              "20006.0      118\n",
              "20052.0       19\n",
              "Name: ZIPCODE, dtype: int64"
            ]
          },
          "execution_count": 55,
          "metadata": {
            "tags": []
          },
          "output_type": "execute_result"
        }
      ],
      "source": [
        "df['ZIPCODE'].value_counts()"
      ]
    },
    {
      "cell_type": "code",
      "execution_count": 57,
      "metadata": {
        "colab": {
          "base_uri": "https://localhost:8080/"
        },
        "id": "afpvX4j1_SAH",
        "outputId": "307068a0-4479-4eae-d91e-05d5798da389"
      },
      "outputs": [
        {
          "data": {
            "text/plain": [
              "18S UJ 28168 01936    5\n",
              "18S UJ 28233 01950    5\n",
              "18S UJ 28025 01949    4\n",
              "18S UJ 25398 04622    4\n",
              "18S UJ 28045 01888    4\n",
              "                     ..\n",
              "18S UJ 21518 10614    1\n",
              "18S UJ 25789 14141    1\n",
              "18S UJ 24225 10411    1\n",
              "18S UJ 27838 12513    1\n",
              "18S UJ 27056 06702    1\n",
              "Name: NATIONALGRID, Length: 105949, dtype: int64"
            ]
          },
          "execution_count": 57,
          "metadata": {
            "tags": []
          },
          "output_type": "execute_result"
        }
      ],
      "source": [
        "df['NATIONALGRID'].value_counts()"
      ]
    },
    {
      "cell_type": "code",
      "execution_count": 58,
      "metadata": {
        "colab": {
          "base_uri": "https://localhost:8080/"
        },
        "id": "THyktiK0_aAp",
        "outputId": "792fbccc-2c69-45e5-93e3-a45249d0dc1b"
      },
      "outputs": [
        {
          "data": {
            "text/plain": [
              "count    158956.000000\n",
              "mean         38.914854\n",
              "std           0.031723\n",
              "min          38.819731\n",
              "25%          38.895425\n",
              "50%          38.915337\n",
              "75%          38.936075\n",
              "max          38.995540\n",
              "Name: LATITUDE, dtype: float64"
            ]
          },
          "execution_count": 58,
          "metadata": {
            "tags": []
          },
          "output_type": "execute_result"
        }
      ],
      "source": [
        "df['LATITUDE'].describe()"
      ]
    },
    {
      "cell_type": "code",
      "execution_count": 60,
      "metadata": {
        "colab": {
          "base_uri": "https://localhost:8080/"
        },
        "id": "ArltvGhC_hpo",
        "outputId": "ebc936e9-1a97-4230-d46a-391e0834d1e5"
      },
      "outputs": [
        {
          "data": {
            "text/plain": [
              "count    158956.000000\n",
              "mean        -77.016676\n",
              "std           0.040938\n",
              "min         -77.113909\n",
              "25%         -77.042892\n",
              "50%         -77.019596\n",
              "75%         -76.988626\n",
              "max         -76.909758\n",
              "Name: LONGITUDE, dtype: float64"
            ]
          },
          "execution_count": 60,
          "metadata": {
            "tags": []
          },
          "output_type": "execute_result"
        }
      ],
      "source": [
        "df['LONGITUDE'].describe()"
      ]
    },
    {
      "cell_type": "code",
      "execution_count": 61,
      "metadata": {
        "colab": {
          "base_uri": "https://localhost:8080/"
        },
        "id": "8YZbim7h_l0r",
        "outputId": "69ebea8f-0eb6-466f-c010-70e442e8a44b"
      },
      "outputs": [
        {
          "data": {
            "text/plain": [
              "Old City 2                      15978\n",
              "Old City 1                      15000\n",
              "Columbia Heights                 9474\n",
              "Brookland                        6568\n",
              "Petworth                         6323\n",
              "Deanwood                         5983\n",
              "Chevy Chase                      5354\n",
              "Congress Heights                 4729\n",
              "Brightwood                       4112\n",
              "Mt. Pleasant                     4052\n",
              "Capitol Hill                     3830\n",
              "Georgetown                       3774\n",
              "Hillcrest                        3734\n",
              "Randle Heights                   3517\n",
              "Fort Dupont Park                 3425\n",
              "Kalorama                         3207\n",
              "Central-tri 1                    3132\n",
              "Cleveland Park                   3032\n",
              "Trinidad                         2964\n",
              "Southwest Waterfront             2828\n",
              "Riggs Park                       2795\n",
              "Woodridge                        2748\n",
              "American University              2594\n",
              "Central-tri 3                    2500\n",
              "Eckington                        2328\n",
              "Forest Hills                     2225\n",
              "16th Street Heights              2208\n",
              "Glover Park                      2036\n",
              "Wesley Heights                   1981\n",
              "Anacostia                        1924\n",
              "Ledroit Park                     1820\n",
              "Marshall Heights                 1753\n",
              "Lily Ponds                       1547\n",
              "Foggy Bottom                     1463\n",
              "Observatory Circle               1453\n",
              "Garfield                         1257\n",
              "Fort Lincoln                     1164\n",
              "Palisades                        1155\n",
              "Shepherd Heights                  979\n",
              "Chillum                           963\n",
              "Spring Valley                     937\n",
              "Brentwood                         930\n",
              "Michigan Park                     906\n",
              "Kent                              867\n",
              "Takoma Park                       865\n",
              "Wakefield                         861\n",
              "North Cleveland Park              850\n",
              "Burleith                          801\n",
              "Berkley                           775\n",
              "Crestwood                         772\n",
              "Barry Farms                       762\n",
              "Colonial Village                  630\n",
              "Foxhall                           367\n",
              "Hawthorne                         309\n",
              "Woodley                           208\n",
              "Massachusetts Avenue Heights      206\n",
              "Rock Creek Park                     1\n",
              "Name: ASSESSMENT_NBHD, dtype: int64"
            ]
          },
          "execution_count": 61,
          "metadata": {
            "tags": []
          },
          "output_type": "execute_result"
        }
      ],
      "source": [
        "df['ASSESSMENT_NBHD'].value_counts()"
      ]
    },
    {
      "cell_type": "code",
      "execution_count": 63,
      "metadata": {
        "colab": {
          "base_uri": "https://localhost:8080/"
        },
        "id": "zPYoFUM7_zHb",
        "outputId": "99c6907d-4c6b-4df4-9fe4-db3cb3253a33"
      },
      "outputs": [
        {
          "data": {
            "text/plain": [
              "040 D Old City 2       4403\n",
              "040 E Old City 2       2968\n",
              "040 C Old City 2       2886\n",
              "042 B Petworth         2763\n",
              "039 K Old City 1       2640\n",
              "                       ... \n",
              "050 A Spring Valley     176\n",
              "004 C Berkley           154\n",
              "025 A Georgetown        140\n",
              "050 D Spring Valley     131\n",
              "025 C Georgetown         91\n",
              "Name: ASSESSMENT_SUBNBHD, Length: 121, dtype: int64"
            ]
          },
          "execution_count": 63,
          "metadata": {
            "tags": []
          },
          "output_type": "execute_result"
        }
      ],
      "source": [
        "df['ASSESSMENT_SUBNBHD'].value_counts()"
      ]
    },
    {
      "cell_type": "code",
      "execution_count": 121,
      "metadata": {
        "colab": {
          "base_uri": "https://localhost:8080/"
        },
        "id": "uJm0TFnW_5mG",
        "outputId": "64cf4175-ac13-4e46-8d9e-ba8c7bde028c"
      },
      "outputs": [
        {
          "data": {
            "text/plain": [
              "5500.0     2933\n",
              "801.0      2620\n",
              "1001.0     2552\n",
              "300.0      2182\n",
              "5301.0     2179\n",
              "           ... \n",
              "10900.0     160\n",
              "7403.0      135\n",
              "7406.0      108\n",
              "9810.0       88\n",
              "6804.0       13\n",
              "Name: CENSUS_TRACT, Length: 176, dtype: int64"
            ]
          },
          "execution_count": 121,
          "metadata": {
            "tags": []
          },
          "output_type": "execute_result"
        }
      ],
      "source": [
        "df['CENSUS_TRACT'].value_counts()"
      ]
    },
    {
      "cell_type": "code",
      "execution_count": 67,
      "metadata": {
        "colab": {
          "base_uri": "https://localhost:8080/"
        },
        "id": "kI8LBcV-AHkw",
        "outputId": "cd23bf12-5463-463b-a1bb-d230be05514a"
      },
      "outputs": [
        {
          "data": {
            "text/plain": [
              "009000 1001    340\n",
              "009201 1004    312\n",
              "009509 3004    206\n",
              "009904 2009    204\n",
              "009508 2005    195\n",
              "              ... \n",
              "008402 1000      1\n",
              "007709 2007      1\n",
              "010400 2013      1\n",
              "000702 1005      1\n",
              "005002 4003      1\n",
              "Name: CENSUS_BLOCK, Length: 3848, dtype: int64"
            ]
          },
          "execution_count": 67,
          "metadata": {
            "tags": []
          },
          "output_type": "execute_result"
        }
      ],
      "source": [
        "df['CENSUS_BLOCK'].value_counts()"
      ]
    },
    {
      "cell_type": "code",
      "execution_count": 68,
      "metadata": {
        "colab": {
          "base_uri": "https://localhost:8080/"
        },
        "id": "HhukPcb1AQTa",
        "outputId": "e6ef9ddc-3b4c-4b66-b6dd-22d49add03a9"
      },
      "outputs": [
        {
          "data": {
            "text/plain": [
              "Ward 6    23973\n",
              "Ward 3    23688\n",
              "Ward 4    22202\n",
              "Ward 2    22167\n",
              "Ward 5    21359\n",
              "Ward 1    17455\n",
              "Ward 7    17206\n",
              "Ward 8    10906\n",
              "Name: WARD, dtype: int64"
            ]
          },
          "execution_count": 68,
          "metadata": {
            "tags": []
          },
          "output_type": "execute_result"
        }
      ],
      "source": [
        "df['WARD'].value_counts()"
      ]
    },
    {
      "cell_type": "code",
      "execution_count": 71,
      "metadata": {
        "colab": {
          "base_uri": "https://localhost:8080/"
        },
        "id": "djJP2LpLAUgl",
        "outputId": "9522df96-0d73-46d9-e875-51f79f276cbd"
      },
      "outputs": [
        {
          "data": {
            "text/plain": [
              "540     994\n",
              "1601    893\n",
              "1301    712\n",
              "157     600\n",
              "4325    559\n",
              "       ... \n",
              "5646      1\n",
              "2812      1\n",
              "2712      1\n",
              "5861      1\n",
              "5735      1\n",
              "Name: SQUARE, Length: 3512, dtype: int64"
            ]
          },
          "execution_count": 71,
          "metadata": {
            "tags": []
          },
          "output_type": "execute_result"
        }
      ],
      "source": [
        "df['SQUARE'].value_counts()"
      ]
    },
    {
      "cell_type": "code",
      "execution_count": 72,
      "metadata": {
        "colab": {
          "base_uri": "https://localhost:8080/"
        },
        "id": "HYCMBVqeAajM",
        "outputId": "c2d3877e-625c-41fc-e774-5b563cd4b13d"
      },
      "outputs": [
        {
          "data": {
            "text/plain": [
              "count    158720.000000\n",
              "mean        -77.016712\n",
              "std           0.040933\n",
              "min         -77.113135\n",
              "25%         -77.042894\n",
              "50%         -77.019581\n",
              "75%         -76.988842\n",
              "max         -76.910511\n",
              "Name: X, dtype: float64"
            ]
          },
          "execution_count": 72,
          "metadata": {
            "tags": []
          },
          "output_type": "execute_result"
        }
      ],
      "source": [
        "df['X'].describe()"
      ]
    },
    {
      "cell_type": "code",
      "execution_count": 73,
      "metadata": {
        "colab": {
          "base_uri": "https://localhost:8080/"
        },
        "id": "EiMGnr4EAnyO",
        "outputId": "603b4741-8424-4dc0-f6f0-86f5dde2f510"
      },
      "outputs": [
        {
          "data": {
            "text/plain": [
              "count    158720.000000\n",
              "mean         38.914846\n",
              "std           0.031682\n",
              "min          38.820576\n",
              "25%          38.895432\n",
              "50%          38.915229\n",
              "75%          38.936077\n",
              "max          38.993646\n",
              "Name: Y, dtype: float64"
            ]
          },
          "execution_count": 73,
          "metadata": {
            "tags": []
          },
          "output_type": "execute_result"
        }
      ],
      "source": [
        "df['Y'].describe()"
      ]
    },
    {
      "cell_type": "code",
      "execution_count": 75,
      "metadata": {
        "colab": {
          "base_uri": "https://localhost:8080/"
        },
        "id": "xtkfKxuoAprz",
        "outputId": "a3bc05b3-d9ac-423f-b209-893b35d9cffb"
      },
      "outputs": [
        {
          "data": {
            "text/plain": [
              "NW    89736\n",
              "NE    37675\n",
              "SE    27224\n",
              "SW     4085\n",
              "Name: QUADRANT, dtype: int64"
            ]
          },
          "execution_count": 75,
          "metadata": {
            "tags": []
          },
          "output_type": "execute_result"
        }
      ],
      "source": [
        "df['QUADRANT'].value_counts()"
      ]
    },
    {
      "cell_type": "code",
      "execution_count": 188,
      "metadata": {
        "id": "C21Am4WpwE64"
      },
      "outputs": [
        {
          "data": {
            "text/plain": [
              "1754 STANTON TERRACE SE    5\n",
              "1755 STANTON TERRACE SE    5\n",
              "1517 SHIPPEN LANE SE       4\n",
              "1508 SHIPPEN LANE SE       4\n",
              "1530 34TH STREET NW        3\n",
              "                          ..\n",
              "5225 SHERIER PLACE NW      1\n",
              "1338 Q STREET NW           1\n",
              "3716 BANGOR STREET SE      1\n",
              "1329 QUEEN STREET NE       1\n",
              "3530 ORDWAY STREET NW      1\n",
              "Name: FULLADDRESS, Length: 105978, dtype: int64"
            ]
          },
          "execution_count": 188,
          "metadata": {},
          "output_type": "execute_result"
        }
      ],
      "source": [
        "df['FULLADDRESS'].value_counts()"
      ]
    },
    {
      "cell_type": "code",
      "execution_count": null,
      "metadata": {},
      "outputs": [],
      "source": []
    }
  ],
  "metadata": {
    "colab": {
      "collapsed_sections": [],
      "name": "DC Residential Properties.ipynb",
      "provenance": []
    },
    "interpreter": {
      "hash": "aee8b7b246df8f9039afb4144a1f6fd8d2ca17a180786b69acc140d282b71a49"
    },
    "kernelspec": {
      "display_name": "Python 3.9.1 64-bit",
      "name": "python3"
    },
    "language_info": {
      "name": "python",
      "version": ""
    }
  },
  "nbformat": 4,
  "nbformat_minor": 0
}