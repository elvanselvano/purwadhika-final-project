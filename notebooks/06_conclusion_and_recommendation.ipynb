{
  "nbformat": 4,
  "nbformat_minor": 0,
  "metadata": {
    "colab": {
      "name": "06_conclusion_and_recommendation.ipynb",
      "provenance": []
    },
    "kernelspec": {
      "name": "python3",
      "display_name": "Python 3"
    },
    "language_info": {
      "name": "python"
    }
  },
  "cells": [
    {
      "cell_type": "markdown",
      "metadata": {
        "id": "P3-dzKeAWYW6"
      },
      "source": [
        "In order to meet the business requirements, we used a different variety of regression models for housing price prediction. We tested 20 models including several gradient boosting models such as LightGBM, XGBoost, and CatBoost. From the results, we conclude that CatBoost performed the best during the 10 fold cross-validation with an average of 68428.6477 for Mean Absolute Error (MAE), 96729.5888 for Root Mean Squared Error (RMSE), and 0.88 for the R2 Score. We also tested the model using a holdout set and it got 66252.69 for the Mean Absolute Error which means the model is stable and performed really well.\n",
        "\n",
        "Since the model has the desired result, we deployed the model on Heroku and we tested the model with unseen data that are not in the original dataset. By using this deployed model, buyers or sellers can easily fill in the house's information and they will receive the predicted price by the model in less than 2 seconds. This will help both the buyers and sellers in making informed decisions to avoid underpricing or overpricing. Policymakers can also analyze the data to observe the condition of housing prices in Washington D.C.\n",
        "\n",
        "Despite having produced a working application that met our initial requirements, there are various improvements that can be made in the future. These include improvements we did not make due to limited time on the project and suggestions provided by users after using our web application. \n",
        "- Consider more factors affecting housing prices by analyzing more than one dataset.\n",
        "- Add more functionalities into the application to increase the user experience.\n"
      ]
    }
  ]
}