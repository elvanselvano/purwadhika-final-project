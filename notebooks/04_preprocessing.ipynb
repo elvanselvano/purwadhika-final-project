{
  "nbformat": 4,
  "nbformat_minor": 0,
  "metadata": {
    "colab": {
      "name": "04_preprocessing.ipynb",
      "provenance": [],
      "collapsed_sections": []
    },
    "kernelspec": {
      "name": "python3",
      "display_name": "Python 3"
    },
    "language_info": {
      "name": "python"
    }
  },
  "cells": [
    {
      "cell_type": "code",
      "metadata": {
        "colab": {
          "base_uri": "https://localhost:8080/",
          "height": 17
        },
        "id": "4tn4tiiLyeJL",
        "outputId": "152f5882-bc8c-42f2-e596-ce35e45555b8"
      },
      "source": [
        "import pandas as pd\n",
        "from pandas_profiling import ProfileReport\n",
        "import numpy as np\n",
        "import matplotlib.pyplot as plt\n",
        "import seaborn as sns\n",
        "import cufflinks as cf\n",
        "from scipy import stats\n",
        "\n",
        "import plotly.express as px\n",
        "from plotly.subplots import make_subplots\n",
        "import plotly.graph_objects as go\n",
        "\n",
        "from plotly.offline import download_plotlyjs, init_notebook_mode, plot, iplot\n",
        "init_notebook_mode(connected=True)  \n",
        "\n",
        "# Some styling\n",
        "sns.set_style(\"whitegrid\")\n",
        "plt.style.use(\"fivethirtyeight\")\n",
        "\n",
        "import plotly.io as pio\n",
        "pio.renderers.default = 'colab'\n",
        "pio.templates.default = 'ggplot2'\n",
        "%matplotlib inline\n",
        "\n",
        "# Disable warnings \n",
        "import warnings\n",
        "warnings.filterwarnings('ignore')"
      ],
      "execution_count": null,
      "outputs": [
        {
          "output_type": "display_data",
          "data": {
            "text/html": [
              "        <script type=\"text/javascript\">\n",
              "        window.PlotlyConfig = {MathJaxConfig: 'local'};\n",
              "        if (window.MathJax) {MathJax.Hub.Config({SVG: {font: \"STIX-Web\"}});}\n",
              "        if (typeof require !== 'undefined') {\n",
              "        require.undef(\"plotly\");\n",
              "        requirejs.config({\n",
              "            paths: {\n",
              "                'plotly': ['https://cdn.plot.ly/plotly-latest.min']\n",
              "            }\n",
              "        });\n",
              "        require(['plotly'], function(Plotly) {\n",
              "            window._Plotly = Plotly;\n",
              "        });\n",
              "        }\n",
              "        </script>\n",
              "        "
            ]
          },
          "metadata": {}
        }
      ]
    },
    {
      "cell_type": "markdown",
      "metadata": {
        "id": "u8DHK9mD7OEr"
      },
      "source": [
        "### Import Dev Data"
      ]
    },
    {
      "cell_type": "code",
      "metadata": {
        "id": "h1KrcpVbggqR"
      },
      "source": [
        "raw_data_link = 'https://raw.githubusercontent.com/elvanselvano/purwadhika-final-project/main/dataset/dev_data.csv'\n",
        "df = pd.read_csv(raw_data_link) # using dev set"
      ],
      "execution_count": null,
      "outputs": []
    },
    {
      "cell_type": "code",
      "metadata": {
        "colab": {
          "base_uri": "https://localhost:8080/",
          "height": 399
        },
        "id": "7_4imm864sG-",
        "outputId": "1f66f993-f149-4f36-cc33-96d207d142b0"
      },
      "source": [
        "df.head()"
      ],
      "execution_count": null,
      "outputs": [
        {
          "output_type": "execute_result",
          "data": {
            "text/html": [
              "<div>\n",
              "<style scoped>\n",
              "    .dataframe tbody tr th:only-of-type {\n",
              "        vertical-align: middle;\n",
              "    }\n",
              "\n",
              "    .dataframe tbody tr th {\n",
              "        vertical-align: top;\n",
              "    }\n",
              "\n",
              "    .dataframe thead th {\n",
              "        text-align: right;\n",
              "    }\n",
              "</style>\n",
              "<table border=\"1\" class=\"dataframe\">\n",
              "  <thead>\n",
              "    <tr style=\"text-align: right;\">\n",
              "      <th></th>\n",
              "      <th>index</th>\n",
              "      <th>BATHRM</th>\n",
              "      <th>HF_BATHRM</th>\n",
              "      <th>HEAT</th>\n",
              "      <th>AC</th>\n",
              "      <th>NUM_UNITS</th>\n",
              "      <th>ROOMS</th>\n",
              "      <th>BEDRM</th>\n",
              "      <th>AYB</th>\n",
              "      <th>YR_RMDL</th>\n",
              "      <th>EYB</th>\n",
              "      <th>STORIES</th>\n",
              "      <th>SALEDATE</th>\n",
              "      <th>PRICE</th>\n",
              "      <th>QUALIFIED</th>\n",
              "      <th>SALE_NUM</th>\n",
              "      <th>GBA</th>\n",
              "      <th>BLDG_NUM</th>\n",
              "      <th>STYLE</th>\n",
              "      <th>STRUCT</th>\n",
              "      <th>GRADE</th>\n",
              "      <th>CNDTN</th>\n",
              "      <th>EXTWALL</th>\n",
              "      <th>ROOF</th>\n",
              "      <th>INTWALL</th>\n",
              "      <th>KITCHENS</th>\n",
              "      <th>FIREPLACES</th>\n",
              "      <th>USECODE</th>\n",
              "      <th>LANDAREA</th>\n",
              "      <th>GIS_LAST_MOD_DTTM</th>\n",
              "      <th>SOURCE</th>\n",
              "      <th>CMPLX_NUM</th>\n",
              "      <th>LIVING_GBA</th>\n",
              "      <th>FULLADDRESS</th>\n",
              "      <th>CITY</th>\n",
              "      <th>STATE</th>\n",
              "      <th>ZIPCODE</th>\n",
              "      <th>NATIONALGRID</th>\n",
              "      <th>LATITUDE</th>\n",
              "      <th>LONGITUDE</th>\n",
              "      <th>ASSESSMENT_NBHD</th>\n",
              "      <th>ASSESSMENT_SUBNBHD</th>\n",
              "      <th>CENSUS_TRACT</th>\n",
              "      <th>CENSUS_BLOCK</th>\n",
              "      <th>WARD</th>\n",
              "      <th>SQUARE</th>\n",
              "      <th>X</th>\n",
              "      <th>Y</th>\n",
              "      <th>QUADRANT</th>\n",
              "      <th>SALEYEAR</th>\n",
              "    </tr>\n",
              "  </thead>\n",
              "  <tbody>\n",
              "    <tr>\n",
              "      <th>0</th>\n",
              "      <td>2</td>\n",
              "      <td>3</td>\n",
              "      <td>1</td>\n",
              "      <td>Hot Water Rad</td>\n",
              "      <td>Y</td>\n",
              "      <td>2.0</td>\n",
              "      <td>9</td>\n",
              "      <td>5</td>\n",
              "      <td>1910.0</td>\n",
              "      <td>2009.0</td>\n",
              "      <td>1984</td>\n",
              "      <td>3.0</td>\n",
              "      <td>2016-06-21</td>\n",
              "      <td>2100000.0</td>\n",
              "      <td>Q</td>\n",
              "      <td>3</td>\n",
              "      <td>2522.0</td>\n",
              "      <td>1</td>\n",
              "      <td>3 Story</td>\n",
              "      <td>Row Inside</td>\n",
              "      <td>Very Good</td>\n",
              "      <td>Very Good</td>\n",
              "      <td>Common Brick</td>\n",
              "      <td>Built Up</td>\n",
              "      <td>Hardwood</td>\n",
              "      <td>2.0</td>\n",
              "      <td>4</td>\n",
              "      <td>24</td>\n",
              "      <td>1680</td>\n",
              "      <td>2018-07-22 18:01:43</td>\n",
              "      <td>Residential</td>\n",
              "      <td>NaN</td>\n",
              "      <td>NaN</td>\n",
              "      <td>1744 SWANN STREET NW</td>\n",
              "      <td>WASHINGTON</td>\n",
              "      <td>DC</td>\n",
              "      <td>20009.0</td>\n",
              "      <td>18S UJ 23074 09289</td>\n",
              "      <td>38.914684</td>\n",
              "      <td>-77.040678</td>\n",
              "      <td>Old City 2</td>\n",
              "      <td>040 D Old City 2</td>\n",
              "      <td>4201.0</td>\n",
              "      <td>004201 2006</td>\n",
              "      <td>Ward 2</td>\n",
              "      <td>152</td>\n",
              "      <td>-77.040429</td>\n",
              "      <td>38.914881</td>\n",
              "      <td>NW</td>\n",
              "      <td>2016.0</td>\n",
              "    </tr>\n",
              "    <tr>\n",
              "      <th>1</th>\n",
              "      <td>18</td>\n",
              "      <td>3</td>\n",
              "      <td>1</td>\n",
              "      <td>Hot Water Rad</td>\n",
              "      <td>Y</td>\n",
              "      <td>2.0</td>\n",
              "      <td>10</td>\n",
              "      <td>4</td>\n",
              "      <td>1908.0</td>\n",
              "      <td>2006.0</td>\n",
              "      <td>1967</td>\n",
              "      <td>2.0</td>\n",
              "      <td>2016-08-18</td>\n",
              "      <td>NaN</td>\n",
              "      <td>U</td>\n",
              "      <td>6</td>\n",
              "      <td>1542.0</td>\n",
              "      <td>1</td>\n",
              "      <td>2 Story</td>\n",
              "      <td>Row Inside</td>\n",
              "      <td>Above Average</td>\n",
              "      <td>Good</td>\n",
              "      <td>Common Brick</td>\n",
              "      <td>Metal- Sms</td>\n",
              "      <td>Hardwood</td>\n",
              "      <td>2.0</td>\n",
              "      <td>1</td>\n",
              "      <td>24</td>\n",
              "      <td>1424</td>\n",
              "      <td>2018-07-22 18:01:43</td>\n",
              "      <td>Residential</td>\n",
              "      <td>NaN</td>\n",
              "      <td>NaN</td>\n",
              "      <td>1731 SWANN STREET NW</td>\n",
              "      <td>WASHINGTON</td>\n",
              "      <td>DC</td>\n",
              "      <td>20009.0</td>\n",
              "      <td>18S UJ 23132 09324</td>\n",
              "      <td>38.915016</td>\n",
              "      <td>-77.040020</td>\n",
              "      <td>Old City 2</td>\n",
              "      <td>040 D Old City 2</td>\n",
              "      <td>4201.0</td>\n",
              "      <td>004201 2005</td>\n",
              "      <td>Ward 2</td>\n",
              "      <td>152</td>\n",
              "      <td>-77.040429</td>\n",
              "      <td>38.914881</td>\n",
              "      <td>NW</td>\n",
              "      <td>2016.0</td>\n",
              "    </tr>\n",
              "    <tr>\n",
              "      <th>2</th>\n",
              "      <td>20</td>\n",
              "      <td>3</td>\n",
              "      <td>1</td>\n",
              "      <td>Hot Water Rad</td>\n",
              "      <td>Y</td>\n",
              "      <td>1.0</td>\n",
              "      <td>14</td>\n",
              "      <td>5</td>\n",
              "      <td>1880.0</td>\n",
              "      <td>2009.0</td>\n",
              "      <td>1987</td>\n",
              "      <td>3.0</td>\n",
              "      <td>2016-01-12</td>\n",
              "      <td>33232.0</td>\n",
              "      <td>U</td>\n",
              "      <td>3</td>\n",
              "      <td>3465.0</td>\n",
              "      <td>1</td>\n",
              "      <td>3 Story</td>\n",
              "      <td>Semi-Detached</td>\n",
              "      <td>Very Good</td>\n",
              "      <td>Very Good</td>\n",
              "      <td>Common Brick</td>\n",
              "      <td>Built Up</td>\n",
              "      <td>Hardwood</td>\n",
              "      <td>1.0</td>\n",
              "      <td>3</td>\n",
              "      <td>13</td>\n",
              "      <td>2090</td>\n",
              "      <td>2018-07-22 18:01:43</td>\n",
              "      <td>Residential</td>\n",
              "      <td>NaN</td>\n",
              "      <td>NaN</td>\n",
              "      <td>1441 Q STREET NW</td>\n",
              "      <td>WASHINGTON</td>\n",
              "      <td>DC</td>\n",
              "      <td>20009.0</td>\n",
              "      <td>18S UJ 23665 08908</td>\n",
              "      <td>38.911370</td>\n",
              "      <td>-77.033774</td>\n",
              "      <td>Old City 2</td>\n",
              "      <td>040 E Old City 2</td>\n",
              "      <td>5201.0</td>\n",
              "      <td>005201 4003</td>\n",
              "      <td>Ward 2</td>\n",
              "      <td>208</td>\n",
              "      <td>-77.033366</td>\n",
              "      <td>38.911716</td>\n",
              "      <td>NW</td>\n",
              "      <td>2016.0</td>\n",
              "    </tr>\n",
              "    <tr>\n",
              "      <th>3</th>\n",
              "      <td>31</td>\n",
              "      <td>3</td>\n",
              "      <td>0</td>\n",
              "      <td>Forced Air</td>\n",
              "      <td>Y</td>\n",
              "      <td>2.0</td>\n",
              "      <td>9</td>\n",
              "      <td>3</td>\n",
              "      <td>1900.0</td>\n",
              "      <td>2004.0</td>\n",
              "      <td>1963</td>\n",
              "      <td>3.0</td>\n",
              "      <td>2016-06-10</td>\n",
              "      <td>NaN</td>\n",
              "      <td>U</td>\n",
              "      <td>4</td>\n",
              "      <td>2592.0</td>\n",
              "      <td>1</td>\n",
              "      <td>3 Story</td>\n",
              "      <td>Row Inside</td>\n",
              "      <td>Good Quality</td>\n",
              "      <td>Good</td>\n",
              "      <td>Common Brick</td>\n",
              "      <td>Built Up</td>\n",
              "      <td>Hardwood/Carp</td>\n",
              "      <td>2.0</td>\n",
              "      <td>1</td>\n",
              "      <td>24</td>\n",
              "      <td>1853</td>\n",
              "      <td>2018-07-22 18:01:43</td>\n",
              "      <td>Residential</td>\n",
              "      <td>NaN</td>\n",
              "      <td>NaN</td>\n",
              "      <td>1448 CORCORAN STREET NW</td>\n",
              "      <td>WASHINGTON</td>\n",
              "      <td>DC</td>\n",
              "      <td>20009.0</td>\n",
              "      <td>18S UJ 23652 08947</td>\n",
              "      <td>38.911719</td>\n",
              "      <td>-77.033933</td>\n",
              "      <td>Old City 2</td>\n",
              "      <td>040 E Old City 2</td>\n",
              "      <td>5201.0</td>\n",
              "      <td>005201 4003</td>\n",
              "      <td>Ward 2</td>\n",
              "      <td>208</td>\n",
              "      <td>-77.033366</td>\n",
              "      <td>38.911716</td>\n",
              "      <td>NW</td>\n",
              "      <td>2016.0</td>\n",
              "    </tr>\n",
              "    <tr>\n",
              "      <th>4</th>\n",
              "      <td>34</td>\n",
              "      <td>3</td>\n",
              "      <td>1</td>\n",
              "      <td>Forced Air</td>\n",
              "      <td>Y</td>\n",
              "      <td>2.0</td>\n",
              "      <td>10</td>\n",
              "      <td>3</td>\n",
              "      <td>1900.0</td>\n",
              "      <td>2008.0</td>\n",
              "      <td>1969</td>\n",
              "      <td>3.0</td>\n",
              "      <td>2018-04-12</td>\n",
              "      <td>NaN</td>\n",
              "      <td>U</td>\n",
              "      <td>3</td>\n",
              "      <td>4208.0</td>\n",
              "      <td>1</td>\n",
              "      <td>3 Story</td>\n",
              "      <td>Row Inside</td>\n",
              "      <td>Good Quality</td>\n",
              "      <td>Good</td>\n",
              "      <td>Common Brick</td>\n",
              "      <td>Built Up</td>\n",
              "      <td>Hardwood</td>\n",
              "      <td>2.0</td>\n",
              "      <td>3</td>\n",
              "      <td>24</td>\n",
              "      <td>1853</td>\n",
              "      <td>2018-07-22 18:01:43</td>\n",
              "      <td>Residential</td>\n",
              "      <td>NaN</td>\n",
              "      <td>NaN</td>\n",
              "      <td>1438 CORCORAN STREET NW</td>\n",
              "      <td>WASHINGTON</td>\n",
              "      <td>DC</td>\n",
              "      <td>20009.0</td>\n",
              "      <td>18S UJ 23683 08945</td>\n",
              "      <td>38.911707</td>\n",
              "      <td>-77.033570</td>\n",
              "      <td>Old City 2</td>\n",
              "      <td>040 E Old City 2</td>\n",
              "      <td>5201.0</td>\n",
              "      <td>005201 4003</td>\n",
              "      <td>Ward 2</td>\n",
              "      <td>208</td>\n",
              "      <td>-77.033366</td>\n",
              "      <td>38.911716</td>\n",
              "      <td>NW</td>\n",
              "      <td>2018.0</td>\n",
              "    </tr>\n",
              "  </tbody>\n",
              "</table>\n",
              "</div>"
            ],
            "text/plain": [
              "   index  BATHRM  HF_BATHRM  ...          Y QUADRANT  SALEYEAR\n",
              "0      2       3          1  ...  38.914881       NW    2016.0\n",
              "1     18       3          1  ...  38.914881       NW    2016.0\n",
              "2     20       3          1  ...  38.911716       NW    2016.0\n",
              "3     31       3          0  ...  38.911716       NW    2016.0\n",
              "4     34       3          1  ...  38.911716       NW    2018.0\n",
              "\n",
              "[5 rows x 50 columns]"
            ]
          },
          "metadata": {},
          "execution_count": 3
        }
      ]
    },
    {
      "cell_type": "markdown",
      "metadata": {
        "id": "tVtjuwrz-BHu"
      },
      "source": [
        "### 1. CASTING"
      ]
    },
    {
      "cell_type": "code",
      "metadata": {
        "id": "buclh04pghDx"
      },
      "source": [
        "#casting data types\n",
        "def casting(df):\n",
        "  df['NUM_UNITS'] = df['NUM_UNITS'].astype(pd.Int64Dtype())\n",
        "  df['AYB'] = df['AYB'].astype(pd.Int64Dtype())\n",
        "  df['LANDAREA'] = df['LANDAREA'].astype(float)\n",
        "  df['KITCHENS'] = df['KITCHENS'].astype(pd.Int64Dtype())\n",
        "  df['USECODE'] = df['USECODE'].astype(pd.Int64Dtype()).astype('category')\n",
        "  df['ZIPCODE'] = df['ZIPCODE'].astype(pd.Int64Dtype()).astype('category')\n",
        "  df['CMPLX_NUM'] = df['CMPLX_NUM'].astype(pd.Int64Dtype())\n",
        "  df['CENSUS_TRACT'] = df['CMPLX_NUM'].astype(pd.Int64Dtype())\n",
        "  df['SALEDATE'] = pd.to_datetime(df['SALEDATE'])\n",
        "  return df"
      ],
      "execution_count": null,
      "outputs": []
    },
    {
      "cell_type": "code",
      "metadata": {
        "id": "LIwKOsfN_leU"
      },
      "source": [
        "df1 = casting(df)"
      ],
      "execution_count": null,
      "outputs": []
    },
    {
      "cell_type": "code",
      "metadata": {
        "id": "dmKRNHwA0B_p"
      },
      "source": [
        "def saleyear(df):\n",
        "  df['SALEYEAR'] = df['SALEDATE'].dt.year\n",
        "  return df"
      ],
      "execution_count": null,
      "outputs": []
    },
    {
      "cell_type": "code",
      "metadata": {
        "id": "rA3TNtsl0LwM"
      },
      "source": [
        "df2 = saleyear(df1)"
      ],
      "execution_count": null,
      "outputs": []
    },
    {
      "cell_type": "markdown",
      "metadata": {
        "id": "AXWKjNhMgtN1"
      },
      "source": [
        "### 2. QUALIFIED FEATURES \n",
        "\n",
        "The `QUALIFIED` feature is internally-used indicator to reflect if a sale is representative of market value according to the office's internal criteria. Since the `U` means it does not reflect the market value, we will drop the `U` value and `QUALIFIED` feature since it only contains 1 value of `Q`."
      ]
    },
    {
      "cell_type": "code",
      "metadata": {
        "id": "M2axcCLK_stk"
      },
      "source": [
        "def drop_qualified(df):\n",
        "  df = df[df['QUALIFIED']=='Q']\n",
        "  df = df.drop('QUALIFIED', axis=1)\n",
        "  \n",
        "  return df"
      ],
      "execution_count": null,
      "outputs": []
    },
    {
      "cell_type": "code",
      "metadata": {
        "colab": {
          "base_uri": "https://localhost:8080/",
          "height": 285
        },
        "id": "uMQwasgraf94",
        "outputId": "cd059723-5713-46b8-bdf6-5cd502142489"
      },
      "source": [
        "df[(df['QUALIFIED']=='U') & (df['PRICE']>0) & (df['SALEYEAR']>2010) & (df['ROOMS']<=6) & (df['GBA']>1204) & (df['LANDAREA']>1425) & (df['AYB']>1914) & (df['EYB']>1964) & (df['PRICE']>500000) & (df['WARD']=='Ward 5')]"
      ],
      "execution_count": null,
      "outputs": [
        {
          "output_type": "execute_result",
          "data": {
            "text/html": [
              "<div>\n",
              "<style scoped>\n",
              "    .dataframe tbody tr th:only-of-type {\n",
              "        vertical-align: middle;\n",
              "    }\n",
              "\n",
              "    .dataframe tbody tr th {\n",
              "        vertical-align: top;\n",
              "    }\n",
              "\n",
              "    .dataframe thead th {\n",
              "        text-align: right;\n",
              "    }\n",
              "</style>\n",
              "<table border=\"1\" class=\"dataframe\">\n",
              "  <thead>\n",
              "    <tr style=\"text-align: right;\">\n",
              "      <th></th>\n",
              "      <th>index</th>\n",
              "      <th>BATHRM</th>\n",
              "      <th>HF_BATHRM</th>\n",
              "      <th>HEAT</th>\n",
              "      <th>AC</th>\n",
              "      <th>NUM_UNITS</th>\n",
              "      <th>ROOMS</th>\n",
              "      <th>BEDRM</th>\n",
              "      <th>AYB</th>\n",
              "      <th>YR_RMDL</th>\n",
              "      <th>EYB</th>\n",
              "      <th>STORIES</th>\n",
              "      <th>SALEDATE</th>\n",
              "      <th>PRICE</th>\n",
              "      <th>QUALIFIED</th>\n",
              "      <th>SALE_NUM</th>\n",
              "      <th>GBA</th>\n",
              "      <th>BLDG_NUM</th>\n",
              "      <th>STYLE</th>\n",
              "      <th>STRUCT</th>\n",
              "      <th>GRADE</th>\n",
              "      <th>CNDTN</th>\n",
              "      <th>EXTWALL</th>\n",
              "      <th>ROOF</th>\n",
              "      <th>INTWALL</th>\n",
              "      <th>KITCHENS</th>\n",
              "      <th>FIREPLACES</th>\n",
              "      <th>USECODE</th>\n",
              "      <th>LANDAREA</th>\n",
              "      <th>GIS_LAST_MOD_DTTM</th>\n",
              "      <th>SOURCE</th>\n",
              "      <th>CMPLX_NUM</th>\n",
              "      <th>LIVING_GBA</th>\n",
              "      <th>FULLADDRESS</th>\n",
              "      <th>CITY</th>\n",
              "      <th>STATE</th>\n",
              "      <th>ZIPCODE</th>\n",
              "      <th>NATIONALGRID</th>\n",
              "      <th>LATITUDE</th>\n",
              "      <th>LONGITUDE</th>\n",
              "      <th>ASSESSMENT_NBHD</th>\n",
              "      <th>ASSESSMENT_SUBNBHD</th>\n",
              "      <th>CENSUS_TRACT</th>\n",
              "      <th>CENSUS_BLOCK</th>\n",
              "      <th>WARD</th>\n",
              "      <th>SQUARE</th>\n",
              "      <th>X</th>\n",
              "      <th>Y</th>\n",
              "      <th>QUADRANT</th>\n",
              "      <th>SALEYEAR</th>\n",
              "    </tr>\n",
              "  </thead>\n",
              "  <tbody>\n",
              "    <tr>\n",
              "      <th>11117</th>\n",
              "      <td>76793</td>\n",
              "      <td>3</td>\n",
              "      <td>0</td>\n",
              "      <td>Forced Air</td>\n",
              "      <td>Y</td>\n",
              "      <td>1</td>\n",
              "      <td>6</td>\n",
              "      <td>4</td>\n",
              "      <td>1940</td>\n",
              "      <td>2010.0</td>\n",
              "      <td>1967</td>\n",
              "      <td>2.0</td>\n",
              "      <td>2016-12-15</td>\n",
              "      <td>699999.0</td>\n",
              "      <td>U</td>\n",
              "      <td>5</td>\n",
              "      <td>1769.0</td>\n",
              "      <td>1</td>\n",
              "      <td>2 Story</td>\n",
              "      <td>Single</td>\n",
              "      <td>Above Average</td>\n",
              "      <td>Good</td>\n",
              "      <td>Brick/Siding</td>\n",
              "      <td>Comp Shingle</td>\n",
              "      <td>Hardwood</td>\n",
              "      <td>2</td>\n",
              "      <td>2</td>\n",
              "      <td>12</td>\n",
              "      <td>2813.0</td>\n",
              "      <td>2018-07-22 18:01:43</td>\n",
              "      <td>Residential</td>\n",
              "      <td>&lt;NA&gt;</td>\n",
              "      <td>NaN</td>\n",
              "      <td>2621 QUEENS CHAPEL ROAD NE</td>\n",
              "      <td>WASHINGTON</td>\n",
              "      <td>DC</td>\n",
              "      <td>20018</td>\n",
              "      <td>18S UJ 28743 10204</td>\n",
              "      <td>38.924053</td>\n",
              "      <td>-76.975563</td>\n",
              "      <td>Woodridge</td>\n",
              "      <td>056 C Woodridge</td>\n",
              "      <td>&lt;NA&gt;</td>\n",
              "      <td>011100 3006</td>\n",
              "      <td>Ward 5</td>\n",
              "      <td>4213</td>\n",
              "      <td>-76.974893</td>\n",
              "      <td>38.924060</td>\n",
              "      <td>NE</td>\n",
              "      <td>2016</td>\n",
              "    </tr>\n",
              "    <tr>\n",
              "      <th>11300</th>\n",
              "      <td>78056</td>\n",
              "      <td>3</td>\n",
              "      <td>1</td>\n",
              "      <td>Warm Cool</td>\n",
              "      <td>Y</td>\n",
              "      <td>1</td>\n",
              "      <td>6</td>\n",
              "      <td>4</td>\n",
              "      <td>1925</td>\n",
              "      <td>2017.0</td>\n",
              "      <td>1969</td>\n",
              "      <td>1.0</td>\n",
              "      <td>2017-03-01</td>\n",
              "      <td>839900.0</td>\n",
              "      <td>U</td>\n",
              "      <td>4</td>\n",
              "      <td>2072.0</td>\n",
              "      <td>1</td>\n",
              "      <td>1 Story</td>\n",
              "      <td>Single</td>\n",
              "      <td>Good Quality</td>\n",
              "      <td>Good</td>\n",
              "      <td>Vinyl Siding</td>\n",
              "      <td>Comp Shingle</td>\n",
              "      <td>Hardwood</td>\n",
              "      <td>1</td>\n",
              "      <td>0</td>\n",
              "      <td>12</td>\n",
              "      <td>3750.0</td>\n",
              "      <td>2018-07-22 18:01:43</td>\n",
              "      <td>Residential</td>\n",
              "      <td>&lt;NA&gt;</td>\n",
              "      <td>NaN</td>\n",
              "      <td>3619 SOUTH DAKOTA AVENUE NE</td>\n",
              "      <td>WASHINGTON</td>\n",
              "      <td>DC</td>\n",
              "      <td>20018</td>\n",
              "      <td>18S UJ 28833 11393</td>\n",
              "      <td>38.934777</td>\n",
              "      <td>-76.974822</td>\n",
              "      <td>Woodridge</td>\n",
              "      <td>056 A Woodridge</td>\n",
              "      <td>&lt;NA&gt;</td>\n",
              "      <td>009400 4018</td>\n",
              "      <td>Ward 5</td>\n",
              "      <td>4225</td>\n",
              "      <td>-76.974573</td>\n",
              "      <td>38.934784</td>\n",
              "      <td>NE</td>\n",
              "      <td>2017</td>\n",
              "    </tr>\n",
              "    <tr>\n",
              "      <th>11410</th>\n",
              "      <td>78757</td>\n",
              "      <td>1</td>\n",
              "      <td>1</td>\n",
              "      <td>Hot Water Rad</td>\n",
              "      <td>N</td>\n",
              "      <td>1</td>\n",
              "      <td>6</td>\n",
              "      <td>3</td>\n",
              "      <td>1935</td>\n",
              "      <td>2004.0</td>\n",
              "      <td>1967</td>\n",
              "      <td>2.5</td>\n",
              "      <td>2016-10-14</td>\n",
              "      <td>725000.0</td>\n",
              "      <td>U</td>\n",
              "      <td>6</td>\n",
              "      <td>1664.0</td>\n",
              "      <td>1</td>\n",
              "      <td>2.5 Story Unfin</td>\n",
              "      <td>Single</td>\n",
              "      <td>Above Average</td>\n",
              "      <td>Good</td>\n",
              "      <td>Common Brick</td>\n",
              "      <td>Comp Shingle</td>\n",
              "      <td>Hardwood/Carp</td>\n",
              "      <td>1</td>\n",
              "      <td>2</td>\n",
              "      <td>12</td>\n",
              "      <td>4310.0</td>\n",
              "      <td>2018-07-22 18:01:43</td>\n",
              "      <td>Residential</td>\n",
              "      <td>&lt;NA&gt;</td>\n",
              "      <td>NaN</td>\n",
              "      <td>1715 HAMLIN STREET NE</td>\n",
              "      <td>WASHINGTON</td>\n",
              "      <td>DC</td>\n",
              "      <td>20018</td>\n",
              "      <td>18S UJ 28355 10645</td>\n",
              "      <td>38.927946</td>\n",
              "      <td>-76.980136</td>\n",
              "      <td>Brookland</td>\n",
              "      <td>007 D Brookland</td>\n",
              "      <td>&lt;NA&gt;</td>\n",
              "      <td>009301 3012</td>\n",
              "      <td>Ward 5</td>\n",
              "      <td>4134</td>\n",
              "      <td>-76.980474</td>\n",
              "      <td>38.927802</td>\n",
              "      <td>NE</td>\n",
              "      <td>2016</td>\n",
              "    </tr>\n",
              "  </tbody>\n",
              "</table>\n",
              "</div>"
            ],
            "text/plain": [
              "       index  BATHRM  HF_BATHRM  ...          Y QUADRANT  SALEYEAR\n",
              "11117  76793       3          0  ...  38.924060       NE      2016\n",
              "11300  78056       3          1  ...  38.934784       NE      2017\n",
              "11410  78757       1          1  ...  38.927802       NE      2016\n",
              "\n",
              "[3 rows x 50 columns]"
            ]
          },
          "metadata": {},
          "execution_count": 9
        }
      ]
    },
    {
      "cell_type": "code",
      "metadata": {
        "id": "_HU3gmYugskd"
      },
      "source": [
        "df3 = drop_qualified(df2)"
      ],
      "execution_count": null,
      "outputs": []
    },
    {
      "cell_type": "code",
      "metadata": {
        "colab": {
          "base_uri": "https://localhost:8080/"
        },
        "id": "r8tfJuLQgpHo",
        "outputId": "4b599188-28fb-444c-828f-dcaf8576ac05"
      },
      "source": [
        "print('Before removing unqualified:', df2.shape)\n",
        "print('After removing unqualified:', df3.shape)"
      ],
      "execution_count": null,
      "outputs": [
        {
          "output_type": "stream",
          "name": "stdout",
          "text": [
            "Before removing unqualified: (26573, 50)\n",
            "After removing unqualified: (16072, 49)\n"
          ]
        }
      ]
    },
    {
      "cell_type": "markdown",
      "metadata": {
        "id": "nHBg91f7irWD"
      },
      "source": [
        "### 3. MISSING DATA"
      ]
    },
    {
      "cell_type": "code",
      "metadata": {
        "colab": {
          "base_uri": "https://localhost:8080/",
          "height": 432
        },
        "id": "5KGI22kDh6UF",
        "outputId": "af9a86d9-971c-4fec-9ea2-84ec523a3bea"
      },
      "source": [
        "fig, ax = plt.subplots(figsize=(18,5))\n",
        "sns.heatmap(df3.isnull(), yticklabels=False, cmap='viridis')\n",
        "plt.show()"
      ],
      "execution_count": null,
      "outputs": [
        {
          "output_type": "display_data",
          "data": {
            "image/png": "[encoded data removed]",
            "text/plain": [
              "<Figure size 1296x360 with 2 Axes>"
            ]
          },
          "metadata": {
            "needs_background": "light"
          }
        }
      ]
    },
    {
      "cell_type": "markdown",
      "metadata": {
        "id": "GJgGNWgFEzpB"
      },
      "source": [
        "Since the missing values seems to have a pattern, we might want to dig deeper into the source (`residential` & `condominium`)"
      ]
    },
    {
      "cell_type": "code",
      "metadata": {
        "id": "Z9WHlyNbFN8p"
      },
      "source": [
        "res = df3[df3['SOURCE']=='Residential']\n",
        "con = df3[df3['SOURCE']=='Condominium']"
      ],
      "execution_count": null,
      "outputs": []
    },
    {
      "cell_type": "code",
      "metadata": {
        "colab": {
          "base_uri": "https://localhost:8080/",
          "height": 445
        },
        "id": "_Ow4jF5lFOpG",
        "outputId": "377d45ae-12f3-4cfc-d20a-ee344dc9a8f8"
      },
      "source": [
        "fig, ax = plt.subplots(figsize=(18,5))\n",
        "sns.heatmap(res.isnull(), yticklabels=False,cmap='viridis').set_title('Missing Values of Residential')\n",
        "plt.show()"
      ],
      "execution_count": null,
      "outputs": [
        {
          "output_type": "display_data",
          "data": {
            "image/png": "[encoded data removed]",
            "text/plain": [
              "<Figure size 1296x360 with 2 Axes>"
            ]
          },
          "metadata": {
            "needs_background": "light"
          }
        }
      ]
    },
    {
      "cell_type": "code",
      "metadata": {
        "colab": {
          "base_uri": "https://localhost:8080/",
          "height": 445
        },
        "id": "TTMOfNFRFOmF",
        "outputId": "01bf5cca-3402-452c-e962-b4b4a294eb86"
      },
      "source": [
        "fig, ax = plt.subplots(figsize=(18,5))\n",
        "sns.heatmap(con.isnull(), yticklabels=False,cmap='viridis').set_title('Missing Value of Condominium')\n",
        "plt.show()"
      ],
      "execution_count": null,
      "outputs": [
        {
          "output_type": "display_data",
          "data": {
            "image/png": "[encoded data removed]",
            "text/plain": [
              "<Figure size 1296x360 with 2 Axes>"
            ]
          },
          "metadata": {
            "needs_background": "light"
          }
        }
      ]
    },
    {
      "cell_type": "markdown",
      "metadata": {
        "id": "pya4WfojGc7M"
      },
      "source": [
        "Clearly, they both have several different features. We assume that the price predictor model of residential and condominium will be different. The condominium data seems to have more missing value than the residential. In this case, we decide to build the price predictor for **`residential`** property only."
      ]
    },
    {
      "cell_type": "code",
      "metadata": {
        "id": "eEZ8PeVCHJND"
      },
      "source": [
        "def residential(df):\n",
        "  df = df[df['SOURCE']=='Residential']\n",
        "  return df"
      ],
      "execution_count": null,
      "outputs": []
    },
    {
      "cell_type": "code",
      "metadata": {
        "id": "NOk7PwMBZDw_"
      },
      "source": [
        "df4 = residential(df3)"
      ],
      "execution_count": null,
      "outputs": []
    },
    {
      "cell_type": "code",
      "metadata": {
        "colab": {
          "base_uri": "https://localhost:8080/"
        },
        "id": "YRQHTBr_Fxia",
        "outputId": "66f588f0-d2c1-4e99-d9da-c8a7968ca06a"
      },
      "source": [
        "df4.shape"
      ],
      "execution_count": null,
      "outputs": [
        {
          "output_type": "execute_result",
          "data": {
            "text/plain": [
              "(9112, 49)"
            ]
          },
          "metadata": {},
          "execution_count": 18
        }
      ]
    },
    {
      "cell_type": "markdown",
      "metadata": {
        "id": "stKiKUma_KBN"
      },
      "source": [
        "Dropping unused features :\n",
        "- `CMPLX_NUM`, `LIVING_GBA`, `CENSUS_TRACT` : only available in condominium data\n",
        "- `ASSESSMENT_SUBNBHD`, `FULLADDRESS`, `NATIONAL GRID`, and `CENSUS_BLOCK` : high cardinality\n",
        "- `CITY`, `STATE` : single value (Washington, DC)\n",
        "- `X`, `Y` : same value with `LONGITUDE` and `LATITUDE`\n",
        "- `SALEDATE` : replaced with `SALEYEAR`"
      ]
    },
    {
      "cell_type": "code",
      "metadata": {
        "id": "-HwXhWqubGZl"
      },
      "source": [
        "def drop_unused_features(df):\n",
        "    df = df.drop(['CMPLX_NUM','LIVING_GBA','CENSUS_TRACT','ASSESSMENT_SUBNBHD',\n",
        "                   'FULLADDRESS','NATIONALGRID','CENSUS_BLOCK','CITY','STATE',\n",
        "                   'X','Y','SALEDATE'],axis=1)\n",
        "    return df"
      ],
      "execution_count": null,
      "outputs": []
    },
    {
      "cell_type": "code",
      "metadata": {
        "id": "kAulK3Kv_GyS"
      },
      "source": [
        "df5 = drop_unused_features(df4)"
      ],
      "execution_count": null,
      "outputs": []
    },
    {
      "cell_type": "code",
      "metadata": {
        "colab": {
          "base_uri": "https://localhost:8080/",
          "height": 432
        },
        "id": "WhkMH3ssKMt_",
        "outputId": "5425caba-0f07-48df-f354-ffc04e7ed1b6"
      },
      "source": [
        "fig, ax = plt.subplots(figsize=(18,5))\n",
        "sns.heatmap(df5.isnull(), yticklabels=False,cmap='viridis').set_title('Missing Values of Residential')\n",
        "plt.show()"
      ],
      "execution_count": null,
      "outputs": [
        {
          "output_type": "display_data",
          "data": {
            "image/png": "[encoded data removed]",
            "text/plain": [
              "<Figure size 1296x360 with 2 Axes>"
            ]
          },
          "metadata": {
            "needs_background": "light"
          }
        }
      ]
    },
    {
      "cell_type": "markdown",
      "metadata": {
        "id": "0rbXclOfK-EN"
      },
      "source": [
        "The `YR_RMDL` features seems too important to drop. Intuitively, whether the properties have been remodeled or not will affect the price. We decide to do feature engineering by converting the `YR_RMDL` into `RMDL`, which is (`1`/`0`). `1` means the property has been remodeled and vice versa."
      ]
    },
    {
      "cell_type": "code",
      "metadata": {
        "id": "js2mn2BJ7Q1w"
      },
      "source": [
        "#feature engineering YR_RMDL\n",
        "def yr_rmdl(df):\n",
        "    df['RMDL'] = np.where(df['YR_RMDL'].isna(),0,1)\n",
        "    df = df.drop('YR_RMDL',axis=1)\n",
        "    return df"
      ],
      "execution_count": null,
      "outputs": []
    },
    {
      "cell_type": "code",
      "metadata": {
        "id": "j7OgRXdnFMsO"
      },
      "source": [
        "df6 = yr_rmdl(df5)"
      ],
      "execution_count": null,
      "outputs": []
    },
    {
      "cell_type": "code",
      "metadata": {
        "colab": {
          "base_uri": "https://localhost:8080/"
        },
        "id": "aEyxMjpYLuCr",
        "outputId": "efda692a-d15e-48bb-ab1e-b2e1cec38c12"
      },
      "source": [
        "df6.shape"
      ],
      "execution_count": null,
      "outputs": [
        {
          "output_type": "execute_result",
          "data": {
            "text/plain": [
              "(9112, 37)"
            ]
          },
          "metadata": {},
          "execution_count": 24
        }
      ]
    },
    {
      "cell_type": "code",
      "metadata": {
        "id": "AyfzvCmqLo6j"
      },
      "source": [
        "# drop remaining missing values (price)\n",
        "def drop_all(df):\n",
        "  df = df.dropna()\n",
        "  return df"
      ],
      "execution_count": null,
      "outputs": []
    },
    {
      "cell_type": "code",
      "metadata": {
        "id": "sBMPM-N8gWw3"
      },
      "source": [
        "df7 = drop_all(df6)"
      ],
      "execution_count": null,
      "outputs": []
    },
    {
      "cell_type": "code",
      "metadata": {
        "colab": {
          "base_uri": "https://localhost:8080/"
        },
        "id": "SHVB_FQ0MA3v",
        "outputId": "0add0a9a-b228-4e34-9b5d-b6166e3ba355"
      },
      "source": [
        "df7.shape"
      ],
      "execution_count": null,
      "outputs": [
        {
          "output_type": "execute_result",
          "data": {
            "text/plain": [
              "(9067, 37)"
            ]
          },
          "metadata": {},
          "execution_count": 27
        }
      ]
    },
    {
      "cell_type": "code",
      "metadata": {
        "colab": {
          "base_uri": "https://localhost:8080/",
          "height": 432
        },
        "id": "Vu53P8b0MMH9",
        "outputId": "61411172-c066-4618-cdf4-d224c63c36c1"
      },
      "source": [
        "fig, ax = plt.subplots(figsize=(18,5))\n",
        "sns.heatmap(df7.isnull(), yticklabels=False,cmap='viridis').set_title('Missing Values of Residential')\n",
        "plt.show()"
      ],
      "execution_count": null,
      "outputs": [
        {
          "output_type": "display_data",
          "data": {
            "image/png": "[encoded data removed]",
            "text/plain": [
              "<Figure size 1296x360 with 2 Axes>"
            ]
          },
          "metadata": {
            "needs_background": "light"
          }
        }
      ]
    },
    {
      "cell_type": "markdown",
      "metadata": {
        "id": "a5Yi25EUGG8r"
      },
      "source": [
        "### 4. UNRELATED COLUMNS\n",
        "\n",
        "some features do not related to the properties (update version date and source data)"
      ]
    },
    {
      "cell_type": "code",
      "metadata": {
        "id": "ztrcXiAJgjdY"
      },
      "source": [
        "def drop_unrelated_features(df):\n",
        "    df = df.drop(['GIS_LAST_MOD_DTTM','SOURCE'],axis=1)\n",
        "    return df"
      ],
      "execution_count": null,
      "outputs": []
    },
    {
      "cell_type": "code",
      "metadata": {
        "id": "tusG_ppdgqc4"
      },
      "source": [
        "df8 = drop_unrelated_features(df7)"
      ],
      "execution_count": null,
      "outputs": []
    },
    {
      "cell_type": "code",
      "metadata": {
        "colab": {
          "base_uri": "https://localhost:8080/"
        },
        "id": "U3oMqxXL_okx",
        "outputId": "e5e61daf-3a5a-4ef0-cac0-6dd1e46c35db"
      },
      "source": [
        "df8.shape"
      ],
      "execution_count": null,
      "outputs": [
        {
          "output_type": "execute_result",
          "data": {
            "text/plain": [
              "(9067, 35)"
            ]
          },
          "metadata": {},
          "execution_count": 31
        }
      ]
    },
    {
      "cell_type": "markdown",
      "metadata": {
        "id": "gyzSDo0OIs5x"
      },
      "source": [
        "### 5. UNUSUAL VALUES"
      ]
    },
    {
      "cell_type": "code",
      "metadata": {
        "colab": {
          "base_uri": "https://localhost:8080/"
        },
        "id": "7wGf09CIIlUJ",
        "outputId": "36839fc6-60ec-4c94-8fe0-f0be390b0112"
      },
      "source": [
        "df8['AC'].value_counts() #checking unusual values of AC (0)"
      ],
      "execution_count": null,
      "outputs": [
        {
          "output_type": "execute_result",
          "data": {
            "text/plain": [
              "Y    7424\n",
              "N    1640\n",
              "0       3\n",
              "Name: AC, dtype: int64"
            ]
          },
          "metadata": {},
          "execution_count": 32
        }
      ]
    },
    {
      "cell_type": "markdown",
      "metadata": {
        "id": "JBZ1iImNkhWq"
      },
      "source": [
        "Convert `AC` to `1` and `0` (values of `0` is considered as `N`)"
      ]
    },
    {
      "cell_type": "code",
      "metadata": {
        "colab": {
          "base_uri": "https://localhost:8080/",
          "height": 296
        },
        "id": "sBxLG8Q85xzF",
        "outputId": "0b9f5722-62f9-4133-fa59-f8730ee30abb"
      },
      "source": [
        "ax = sns.countplot(df7[\"AC\"], \n",
        "                   order = df7[\"AC\"].value_counts().index)\n",
        "plt.title('AC')\n",
        "\n",
        "for p, label in zip(ax.patches, df7[\"AC\"].value_counts().values):\n",
        "    ax.annotate(label, (p.get_x()+0.33, p.get_height()+0.5))"
      ],
      "execution_count": null,
      "outputs": [
        {
          "output_type": "display_data",
          "data": {
            "image/png": "[encoded data removed]",
            "text/plain": [
              "<Figure size 432x288 with 1 Axes>"
            ]
          },
          "metadata": {
            "needs_background": "light"
          }
        }
      ]
    },
    {
      "cell_type": "code",
      "metadata": {
        "colab": {
          "base_uri": "https://localhost:8080/",
          "height": 350
        },
        "id": "RJut5VIz7NED",
        "outputId": "14434317-dd34-411e-9f11-c63dc6c912ce"
      },
      "source": [
        "plt.figure(figsize=(18,5))\n",
        "ax = sns.countplot(df7[\"HEAT\"], \n",
        "                   order = df7[\"HEAT\"].value_counts().index)\n",
        "plt.title('HEAT')\n",
        "\n",
        "for p, label in zip(ax.patches, df7[\"HEAT\"].value_counts().values):\n",
        "    ax.annotate(label, (p.get_x()+0.3, p.get_height()+0.5))"
      ],
      "execution_count": null,
      "outputs": [
        {
          "output_type": "display_data",
          "data": {
            "image/png": "[encoded data removed]",
            "text/plain": [
              "<Figure size 1296x360 with 1 Axes>"
            ]
          },
          "metadata": {
            "needs_background": "light"
          }
        }
      ]
    },
    {
      "cell_type": "code",
      "metadata": {
        "colab": {
          "base_uri": "https://localhost:8080/"
        },
        "id": "AQ9KU8D_Isd8",
        "outputId": "5507ce20-c801-434e-d11e-8cd222da9549"
      },
      "source": [
        "df8['HEAT'].value_counts() # checking unusual values of HEAT (No Data)"
      ],
      "execution_count": null,
      "outputs": [
        {
          "output_type": "execute_result",
          "data": {
            "text/plain": [
              "Forced Air        4353\n",
              "Hot Water Rad     2518\n",
              "Warm Cool         2003\n",
              "Ht Pump            149\n",
              "Water Base Brd      13\n",
              "Wall Furnace        12\n",
              "Elec Base Brd        6\n",
              "Air-Oil              5\n",
              "Electric Rad         3\n",
              "No Data              2\n",
              "Gravity Furnac       2\n",
              "Ind Unit             1\n",
              "Name: HEAT, dtype: int64"
            ]
          },
          "metadata": {},
          "execution_count": 35
        }
      ]
    },
    {
      "cell_type": "markdown",
      "metadata": {
        "id": "2NllTr4BkrfF"
      },
      "source": [
        "Since `No Data` of `HEAT` is considered small, we will drop the records containing it."
      ]
    },
    {
      "cell_type": "code",
      "metadata": {
        "colab": {
          "base_uri": "https://localhost:8080/",
          "height": 350
        },
        "id": "fqralLIR73gi",
        "outputId": "3231aff6-ad49-43ff-b343-6427ed810b4d"
      },
      "source": [
        "plt.figure(figsize=(18,5))\n",
        "ax = sns.countplot(df7[\"ROOMS\"], \n",
        "                   order = df7[\"ROOMS\"].value_counts().sort_index().index)\n",
        "plt.title('ROOMS')\n",
        "\n",
        "for p, label in zip(ax.patches, df7[\"ROOMS\"].value_counts().sort_index().values):\n",
        "    ax.annotate(label, (p.get_x()+0.15, p.get_height()+0.5))"
      ],
      "execution_count": null,
      "outputs": [
        {
          "output_type": "display_data",
          "data": {
            "image/png": "[encoded data removed]",
            "text/plain": [
              "<Figure size 1296x360 with 1 Axes>"
            ]
          },
          "metadata": {
            "needs_background": "light"
          }
        }
      ]
    },
    {
      "cell_type": "code",
      "metadata": {
        "colab": {
          "base_uri": "https://localhost:8080/"
        },
        "id": "30wpw_zp73Kp",
        "outputId": "a50f64e1-f455-4c78-b298-83d69f615ca1"
      },
      "source": [
        "df8['ROOMS'].value_counts().sort_index() # checking unusual values of ROOMS (0)"
      ],
      "execution_count": null,
      "outputs": [
        {
          "output_type": "execute_result",
          "data": {
            "text/plain": [
              "0        4\n",
              "2        4\n",
              "3       13\n",
              "4      201\n",
              "5      702\n",
              "6     2718\n",
              "7     1806\n",
              "8     1567\n",
              "9      649\n",
              "10     635\n",
              "11     208\n",
              "12     276\n",
              "13      85\n",
              "14      51\n",
              "15      24\n",
              "16      90\n",
              "17       6\n",
              "18       9\n",
              "20      14\n",
              "21       2\n",
              "24       1\n",
              "25       1\n",
              "28       1\n",
              "Name: ROOMS, dtype: int64"
            ]
          },
          "metadata": {},
          "execution_count": 37
        }
      ]
    },
    {
      "cell_type": "markdown",
      "metadata": {
        "id": "yvI6ZYZqlLjY"
      },
      "source": [
        "We will drop properties with `0` room which is highly unlikely "
      ]
    },
    {
      "cell_type": "code",
      "metadata": {
        "colab": {
          "base_uri": "https://localhost:8080/"
        },
        "id": "uWgM678tEsbh",
        "outputId": "2112c1a0-12fe-4dac-cd58-c960a1a9e2f6"
      },
      "source": [
        "df8[df8['AYB'] > df8['SALEYEAR']].shape #checking unusual values of interaction between AYB & SALEYEAR"
      ],
      "execution_count": null,
      "outputs": [
        {
          "output_type": "execute_result",
          "data": {
            "text/plain": [
              "(6, 35)"
            ]
          },
          "metadata": {},
          "execution_count": 38
        }
      ]
    },
    {
      "cell_type": "code",
      "metadata": {
        "colab": {
          "base_uri": "https://localhost:8080/",
          "height": 296
        },
        "id": "Nf0mgwIbCq96",
        "outputId": "78383b1d-ac04-4cf8-b648-809abf8dbd9b"
      },
      "source": [
        "diff_ayb_saleyear = df8[df8['AYB'] > df8['SALEYEAR']]\n",
        "ax = sns.countplot(diff_ayb_saleyear['AYB'] - diff_ayb_saleyear['SALEYEAR'])\n",
        "plt.title('AYB > SALEYEAR')\n",
        "plt.xlabel('Years of Difference (AYB-SALEYEAR)')\n",
        "for p, label in zip(ax.patches, (diff_ayb_saleyear['AYB'] - diff_ayb_saleyear['SALEYEAR']).value_counts().sort_index().values):\n",
        "    ax.annotate(label, (p.get_x()+0.3, p.get_height()+0.05))\n",
        "plt.show() "
      ],
      "execution_count": null,
      "outputs": [
        {
          "output_type": "display_data",
          "data": {
            "image/png": "[encoded data removed]",
            "text/plain": [
              "<Figure size 432x288 with 1 Axes>"
            ]
          },
          "metadata": {
            "needs_background": "light"
          }
        }
      ]
    },
    {
      "cell_type": "markdown",
      "metadata": {
        "id": "LaL8wiOPlYkS"
      },
      "source": [
        "We assume there is no sold properties before the properties has been built. Since these values is scarce, we will exclude the records"
      ]
    },
    {
      "cell_type": "code",
      "metadata": {
        "colab": {
          "base_uri": "https://localhost:8080/"
        },
        "id": "a2dJQSsc8Pnr",
        "outputId": "4dd0e099-a5b8-4c83-9212-40574d84e529"
      },
      "source": [
        "df8[df8['AYB'] > df8['EYB']].shape #checking unusual values of interaction between AYB & EYB"
      ],
      "execution_count": null,
      "outputs": [
        {
          "output_type": "execute_result",
          "data": {
            "text/plain": [
              "(1, 35)"
            ]
          },
          "metadata": {},
          "execution_count": 40
        }
      ]
    },
    {
      "cell_type": "code",
      "metadata": {
        "colab": {
          "base_uri": "https://localhost:8080/",
          "height": 296
        },
        "id": "oOmKVrqsD5Do",
        "outputId": "d24a4909-7683-424e-cfde-1358166cd9c5"
      },
      "source": [
        "diff_ayb_eyb = df8[df8['AYB'] > df8['EYB']]\n",
        "ax = sns.countplot(diff_ayb_eyb['AYB'] - diff_ayb_eyb['EYB'])\n",
        "plt.title('AYB > EYB')\n",
        "plt.xlabel('Years of Difference (AYB-EYB)')\n",
        "for p, label in zip(ax.patches, (diff_ayb_eyb['AYB'] - diff_ayb_eyb['EYB']).value_counts().sort_index().values):\n",
        "    ax.annotate(label, (p.get_x()+0.3, p.get_height()+0.05))\n",
        "plt.show() "
      ],
      "execution_count": null,
      "outputs": [
        {
          "output_type": "display_data",
          "data": {
            "image/png": "[encoded data removed]",
            "text/plain": [
              "<Figure size 432x288 with 1 Axes>"
            ]
          },
          "metadata": {
            "needs_background": "light"
          }
        }
      ]
    },
    {
      "cell_type": "markdown",
      "metadata": {
        "id": "27JvueUrm8lx"
      },
      "source": [
        "Based on the Author explanation of the dataset, the `EYB` should be more recent than the `AYB`. We found 3 unusual values, which we will drop"
      ]
    },
    {
      "cell_type": "code",
      "metadata": {
        "colab": {
          "base_uri": "https://localhost:8080/",
          "height": 405
        },
        "id": "-G7gDlyDG8zM",
        "outputId": "3b1785f9-8fb4-4233-e6a9-6954187660f2"
      },
      "source": [
        "plt.figure(figsize=(20,6))\n",
        "df_no_na = df8[['GRADE','PRICE']].copy().dropna()\n",
        "table = df_no_na.groupby(['GRADE'],as_index=False)['PRICE'].median().sort_values(by='PRICE',ascending=True)\n",
        "sns.boxplot(x='GRADE',y='PRICE',data=df_no_na,order=table['GRADE'].to_list())\n",
        "plt.ylabel('Price (in millions USD)')\n",
        "plt.title('Price by GRADE')\n",
        "plt.show()"
      ],
      "execution_count": null,
      "outputs": [
        {
          "output_type": "display_data",
          "data": {
            "image/png": "[encoded data removed]",
            "text/plain": [
              "<Figure size 1440x432 with 1 Axes>"
            ]
          },
          "metadata": {
            "needs_background": "light"
          }
        }
      ]
    },
    {
      "cell_type": "code",
      "metadata": {
        "colab": {
          "base_uri": "https://localhost:8080/"
        },
        "id": "sKIlB6MrOHkw",
        "outputId": "ee33aa05-837d-4b2b-e313-7ffaaf9ce43d"
      },
      "source": [
        "df_no_na['GRADE'].value_counts()"
      ],
      "execution_count": null,
      "outputs": [
        {
          "output_type": "execute_result",
          "data": {
            "text/plain": [
              "Average          3086\n",
              "Above Average    2688\n",
              "Good Quality     1814\n",
              "Very Good         769\n",
              "Excellent         303\n",
              "Superior          286\n",
              "Exceptional-A      80\n",
              "Exceptional-B      24\n",
              "Fair Quality        9\n",
              "Exceptional-C       6\n",
              "Exceptional-D       2\n",
              "Name: GRADE, dtype: int64"
            ]
          },
          "metadata": {},
          "execution_count": 43
        }
      ]
    },
    {
      "cell_type": "code",
      "metadata": {
        "id": "lrkq8rbAJYHW"
      },
      "source": [
        "# plt.figure(figsize=(20,6))\n",
        "# order = ['Low Quality', 'Fair Quality', 'Average', 'Above Average','Good Quality','Very Good']\n",
        "# ax = sns.countplot(df_no_na['GRADE'],order=table['GRADE'].to_list())\n",
        "# plt.title('Number of Properties by GRADE')\n",
        "# for p, label in zip(ax.patches, [1,33,11145,10815,7966,3552,1275,1015,319,117,26,22]):\n",
        "#     ax.annotate(label, (p.get_x()+0.3, p.get_height()+0.7))\n",
        "# plt.show() "
      ],
      "execution_count": null,
      "outputs": []
    },
    {
      "cell_type": "code",
      "metadata": {
        "colab": {
          "base_uri": "https://localhost:8080/"
        },
        "id": "LzXfnP4Dj0-u",
        "outputId": "9b5c3911-f358-46fe-b0a8-e6a45c6d1e1d"
      },
      "source": [
        "df8.groupby('GRADE')['PRICE'].median().sort_values() #check price gradient of GRADE"
      ],
      "execution_count": null,
      "outputs": [
        {
          "output_type": "execute_result",
          "data": {
            "text/plain": [
              "GRADE\n",
              "Fair Quality      283000.0\n",
              "Average           493250.0\n",
              "Above Average     650000.0\n",
              "Good Quality      928000.0\n",
              "Very Good        1220000.0\n",
              "Excellent        1573225.0\n",
              "Superior         1750000.0\n",
              "Exceptional-A    2880000.0\n",
              "Exceptional-B    4201250.0\n",
              "Exceptional-C    6450000.0\n",
              "Exceptional-D    8000000.0\n",
              "Name: PRICE, dtype: float64"
            ]
          },
          "metadata": {},
          "execution_count": 44
        }
      ]
    },
    {
      "cell_type": "code",
      "metadata": {
        "colab": {
          "base_uri": "https://localhost:8080/"
        },
        "id": "Y1sj0d5ngyRC",
        "outputId": "60d17830-e901-4a3c-954e-222347caa599"
      },
      "source": [
        "df8['GRADE'].value_counts() #check number of records for each GRADE category"
      ],
      "execution_count": null,
      "outputs": [
        {
          "output_type": "execute_result",
          "data": {
            "text/plain": [
              "Average          3086\n",
              "Above Average    2688\n",
              "Good Quality     1814\n",
              "Very Good         769\n",
              "Excellent         303\n",
              "Superior          286\n",
              "Exceptional-A      80\n",
              "Exceptional-B      24\n",
              "Fair Quality        9\n",
              "Exceptional-C       6\n",
              "Exceptional-D       2\n",
              "Name: GRADE, dtype: int64"
            ]
          },
          "metadata": {},
          "execution_count": 45
        }
      ]
    },
    {
      "cell_type": "markdown",
      "metadata": {
        "id": "MOtgryAZkYwE"
      },
      "source": [
        "Based on the price gradient for each `GRADE`, we can consider the `exceptional` grade as luxurious property. Since the price gap are quite high and the records are rare, we decide to limit our prediction model by excluding those in `exceptional` grade and fair quality."
      ]
    },
    {
      "cell_type": "code",
      "metadata": {
        "id": "DCU6shRudEQa"
      },
      "source": [
        "#drop unusual values\n",
        "def drop_unusual(df):\n",
        "  df['AC'] = np.where(df['AC']=='Y',1,0) #convert to 1 0 \n",
        "  df = df[df['HEAT']!='No Data'] #delete no data\n",
        "  df = df[df['ROOMS']!=0] #exclude property with 0 rooms\n",
        "  df = df[df['AYB']<= df['SALEYEAR']] #exclude values where AYB > SALEYEAR\n",
        "  df = df[df['AYB']<= df['EYB']] #exclude values where AYB > EYB\n",
        "  df = df[~df['GRADE'].isin(['Exceptional-D','Exceptional-C','Exceptional-B',\n",
        "                             'Exceptional-A', 'Fair Quality'])] #exclude exceptional GRADE\n",
        "  df = df[(df['PRICE'] < 1200000) & (df['PRICE'] > 250000)] # 10% quantile and 90% quantile\n",
        "\n",
        "  return df"
      ],
      "execution_count": null,
      "outputs": []
    },
    {
      "cell_type": "code",
      "metadata": {
        "id": "oYOg193ANFNn"
      },
      "source": [
        "df9 = drop_unusual(df8)"
      ],
      "execution_count": null,
      "outputs": []
    },
    {
      "cell_type": "code",
      "metadata": {
        "colab": {
          "base_uri": "https://localhost:8080/"
        },
        "id": "mT1HL1gW_mAD",
        "outputId": "f9405b25-eb8c-49b8-e167-bbbe0ec13891"
      },
      "source": [
        "df9.shape"
      ],
      "execution_count": null,
      "outputs": [
        {
          "output_type": "execute_result",
          "data": {
            "text/plain": [
              "(7231, 35)"
            ]
          },
          "metadata": {},
          "execution_count": 80
        }
      ]
    },
    {
      "cell_type": "markdown",
      "metadata": {
        "id": "ltRcjLxmHXzA"
      },
      "source": [
        "### 6. SIMILAR VALUES\n",
        "\n",
        "- `STORIES` has similar values with `STYLE`. We keep `STYLE` since `STORIES` has many outliers due to mistyping."
      ]
    },
    {
      "cell_type": "code",
      "metadata": {
        "colab": {
          "base_uri": "https://localhost:8080/"
        },
        "id": "6UG-ApVc7AzR",
        "outputId": "a787e5ed-5c9b-4ec8-f1a9-6818741def8e"
      },
      "source": [
        "df9[['STORIES','STYLE']].value_counts()"
      ],
      "execution_count": null,
      "outputs": [
        {
          "output_type": "execute_result",
          "data": {
            "text/plain": [
              "STORIES  STYLE          \n",
              "2.00     2 Story            5875\n",
              "3.00     3 Story             397\n",
              "2.50     2.5 Story Fin       243\n",
              "1.00     1 Story             214\n",
              "1.50     1.5 Story Fin       111\n",
              "1.75     2 Story              61\n",
              "2.25     2.5 Story Fin        60\n",
              "         2 Story              49\n",
              "4.00     4 Story              31\n",
              "3.00     2 Story              28\n",
              "2.50     2.5 Story Unfin      17\n",
              "2.25     2.5 Story Unfin      17\n",
              "2.50     2 Story              16\n",
              "1.25     1.5 Story Fin        12\n",
              "1.00     Split Foyer           9\n",
              "1.25     1 Story               8\n",
              "1.00     2 Story               7\n",
              "2.00     3 Story               7\n",
              "         Split Level           6\n",
              "1.75     1.5 Story Fin         6\n",
              "2.00     1 Story               5\n",
              "2.75     3 Story               4\n",
              "1.50     1.5 Story Unfin       4\n",
              "1.00     Split Level           4\n",
              "1.25     1.5 Story Unfin       3\n",
              "2.00     2.5 Story Fin         3\n",
              "         1.5 Story Fin         3\n",
              "         2.5 Story Unfin       3\n",
              "         1.5 Story Unfin       2\n",
              "5.00     2 Story               2\n",
              "1.50     2 Story               2\n",
              "2.00     Split Foyer           2\n",
              "4.00     2 Story               2\n",
              "3.50     3.5 Story Fin         2\n",
              "9.00     Default               2\n",
              "1.00     3 Story               1\n",
              "20.00    2 Story               1\n",
              "2.00     Bi-Level              1\n",
              "         Default               1\n",
              "2.25     4 Story               1\n",
              "         Split Level           1\n",
              "2.75     2.5 Story Fin         1\n",
              "3.00     1 Story               1\n",
              "         1.5 Story Fin         1\n",
              "         2.5 Story Fin         1\n",
              "         3.5 Story Fin         1\n",
              "3.75     3.5 Story Fin         1\n",
              "4.00     3 Story               1\n",
              "0.00     2 Story               1\n",
              "dtype: int64"
            ]
          },
          "metadata": {},
          "execution_count": 81
        }
      ]
    },
    {
      "cell_type": "code",
      "metadata": {
        "id": "sjnCBIQfpXbK"
      },
      "source": [
        "def drop_similar_features(df):\n",
        "    df = df.drop(['STORIES'], axis=1)\n",
        "    \n",
        "    return df"
      ],
      "execution_count": null,
      "outputs": []
    },
    {
      "cell_type": "code",
      "metadata": {
        "id": "5X0uxqGAO-Vc"
      },
      "source": [
        "df10 = drop_similar_features(df9)"
      ],
      "execution_count": null,
      "outputs": []
    },
    {
      "cell_type": "code",
      "metadata": {
        "colab": {
          "base_uri": "https://localhost:8080/"
        },
        "id": "n5ZWBnEkKwC2",
        "outputId": "36578d15-cc9a-4fde-e246-4dbe9756fd31"
      },
      "source": [
        "df10.shape"
      ],
      "execution_count": null,
      "outputs": [
        {
          "output_type": "execute_result",
          "data": {
            "text/plain": [
              "(7231, 34)"
            ]
          },
          "metadata": {},
          "execution_count": 84
        }
      ]
    },
    {
      "cell_type": "markdown",
      "metadata": {
        "id": "bgkM639wOc0m"
      },
      "source": [
        "### 7. CORRELATION"
      ]
    },
    {
      "cell_type": "markdown",
      "metadata": {
        "id": "QVMvn3LrQGIm"
      },
      "source": [
        "CATEGORICAL (CRAMERS V)"
      ]
    },
    {
      "cell_type": "code",
      "metadata": {
        "id": "PIlTn5AKOcbn"
      },
      "source": [
        "from itertools import combinations\n",
        "def cramers_corrected_stat(confusion_matrix):\n",
        "    \"\"\" calculate Cramers V statistic for categorical-categorical association.\n",
        "        uses correction from Bergsma and Wicher, \n",
        "        Journal of the Korean Statistical Society 42 (2013): 323-328\n",
        "    \"\"\"\n",
        "    chi2 = stats.chi2_contingency(confusion_matrix)[0]\n",
        "    n = confusion_matrix.sum().sum()\n",
        "    phi2 = chi2/n\n",
        "    r,k = confusion_matrix.shape\n",
        "    phi2corr = max(0, phi2 - ((k-1)*(r-1))/(n-1))    \n",
        "    rcorr = r - ((r-1)**2)/(n-1)\n",
        "    kcorr = k - ((k-1)**2)/(n-1)\n",
        "    return np.sqrt(phi2corr / min( (kcorr-1), (rcorr-1)))"
      ],
      "execution_count": null,
      "outputs": []
    },
    {
      "cell_type": "code",
      "metadata": {
        "colab": {
          "base_uri": "https://localhost:8080/",
          "height": 696
        },
        "id": "3Yp39Y_EGJ06",
        "outputId": "2adcad92-b8b7-4044-93ec-e991dd585669"
      },
      "source": [
        "cols = ['HEAT','STYLE','STRUCT', 'GRADE', 'CNDTN', 'EXTWALL','ROOF', 'INTWALL','USECODE','ZIPCODE','ASSESSMENT_NBHD','WARD','SQUARE','QUADRANT','PRICE']\n",
        "# fitur kategorikal yang diambil yang sekiranya dapat di korelasikan dengan 'Price', kategori geographical yang diambil hanya yang mempunyai distinct data yg kecil\n",
        "corrM = np.zeros((len(cols),len(cols)))\n",
        "# there's probably a nice pandas way to do this\n",
        "for col1, col2 in combinations(cols, 2):\n",
        "    idx1, idx2 = cols.index(col1), cols.index(col2)\n",
        "    corrM[idx1, idx2] = cramers_corrected_stat(pd.crosstab(df10[col1], df10[col2]))\n",
        "    corrM[idx2, idx1] = corrM[idx1, idx2]\n",
        "\n",
        "corr = pd.DataFrame(corrM, index=cols, columns=cols)\n",
        "fig, ax = plt.subplots(figsize=(15, 10))\n",
        "ax = sns.heatmap(corr, annot=True, ax=ax); ax.set_title(\"Cramer V Correlation between Variables\");"
      ],
      "execution_count": null,
      "outputs": [
        {
          "output_type": "display_data",
          "data": {
            "image/png": "[encoded data removed]",
            "text/plain": [
              "<Figure size 1080x720 with 2 Axes>"
            ]
          },
          "metadata": {
            "needs_background": "light"
          }
        }
      ]
    },
    {
      "cell_type": "markdown",
      "metadata": {
        "id": "9VUdYcu4QcUB"
      },
      "source": [
        "The location features seems to have interaction with each other. Based on multiple trial on the model, we decide to take only `WARD`, since it is one of the top feature importance according to our model.\n",
        "\n",
        "We also want to drop `LONGLAT` since it is already represented by the `WARD`."
      ]
    },
    {
      "cell_type": "code",
      "metadata": {
        "colab": {
          "base_uri": "https://localhost:8080/"
        },
        "id": "vVhuBd07Q0vQ",
        "outputId": "e2427d83-6fe6-488b-c690-6bde6c18d997"
      },
      "source": [
        "df10.columns"
      ],
      "execution_count": null,
      "outputs": [
        {
          "output_type": "execute_result",
          "data": {
            "text/plain": [
              "Index(['index', 'BATHRM', 'HF_BATHRM', 'HEAT', 'AC', 'NUM_UNITS', 'ROOMS',\n",
              "       'BEDRM', 'AYB', 'EYB', 'PRICE', 'SALE_NUM', 'GBA', 'BLDG_NUM', 'STYLE',\n",
              "       'STRUCT', 'GRADE', 'CNDTN', 'EXTWALL', 'ROOF', 'INTWALL', 'KITCHENS',\n",
              "       'FIREPLACES', 'USECODE', 'LANDAREA', 'ZIPCODE', 'LATITUDE', 'LONGITUDE',\n",
              "       'ASSESSMENT_NBHD', 'WARD', 'SQUARE', 'QUADRANT', 'SALEYEAR', 'RMDL'],\n",
              "      dtype='object')"
            ]
          },
          "metadata": {},
          "execution_count": 87
        }
      ]
    },
    {
      "cell_type": "code",
      "metadata": {
        "id": "o_5eI6C9pvej"
      },
      "source": [
        "def drop_location_features(df):\n",
        "    df = df.drop(['ZIPCODE','ASSESSMENT_NBHD','SQUARE','QUADRANT',\n",
        "                  'LATITUDE','LONGITUDE'], axis=1)\n",
        "    \n",
        "    return df"
      ],
      "execution_count": null,
      "outputs": []
    },
    {
      "cell_type": "code",
      "metadata": {
        "id": "bzJjYOrzQv68"
      },
      "source": [
        "df11 = drop_location_features(df10)"
      ],
      "execution_count": null,
      "outputs": []
    },
    {
      "cell_type": "code",
      "metadata": {
        "colab": {
          "base_uri": "https://localhost:8080/"
        },
        "id": "nqtpap-uvZEL",
        "outputId": "cdd4a9c5-3f3d-4fce-b613-be1cce08a73b"
      },
      "source": [
        "df11.shape"
      ],
      "execution_count": null,
      "outputs": [
        {
          "output_type": "execute_result",
          "data": {
            "text/plain": [
              "(7231, 28)"
            ]
          },
          "metadata": {},
          "execution_count": 90
        }
      ]
    },
    {
      "cell_type": "markdown",
      "metadata": {
        "id": "NDPgpEjRK62T"
      },
      "source": [
        "NUMERICAL"
      ]
    },
    {
      "cell_type": "code",
      "metadata": {
        "colab": {
          "base_uri": "https://localhost:8080/",
          "height": 642
        },
        "id": "ZhGdyNfAKs8_",
        "outputId": "edb5ae86-25a1-417c-dfc8-912630b5c158"
      },
      "source": [
        "plt.figure(figsize=(15,10))\n",
        "sns.heatmap(df10.corr(), annot=True)\n",
        "plt.show()"
      ],
      "execution_count": null,
      "outputs": [
        {
          "output_type": "display_data",
          "data": {
            "image/png": "[encoded data removed]",
            "text/plain": [
              "<Figure size 1080x720 with 2 Axes>"
            ]
          },
          "metadata": {
            "needs_background": "light"
          }
        }
      ]
    },
    {
      "cell_type": "markdown",
      "metadata": {
        "id": "NLJ0CC_QLXEU"
      },
      "source": [
        "Some multicollinearity occurs between :\n",
        "  - `NUM_UNITS` vs `KITCHENS`\n",
        "\n",
        "Weak correlation :\n",
        " - `BLDG_NUM`"
      ]
    },
    {
      "cell_type": "code",
      "metadata": {
        "colab": {
          "base_uri": "https://localhost:8080/",
          "height": 350
        },
        "id": "0qME3Zt_SC6N",
        "outputId": "845a076e-3c86-41ac-e34b-c49339a47b30"
      },
      "source": [
        "fig,ax = plt.subplots(1,2,figsize=(15,5))\n",
        "sns.countplot(df11['NUM_UNITS'], ax=ax[0]).set_title('NUM_UNITS')\n",
        "sns.countplot(df11['BLDG_NUM'], ax=ax[1]).set_title('BLDG_NUM')\n",
        "plt.show()"
      ],
      "execution_count": null,
      "outputs": [
        {
          "output_type": "display_data",
          "data": {
            "image/png": "[encoded data removed]",
            "text/plain": [
              "<Figure size 1080x360 with 2 Axes>"
            ]
          },
          "metadata": {
            "needs_background": "light"
          }
        }
      ]
    },
    {
      "cell_type": "markdown",
      "metadata": {
        "id": "l-tsBAZCSYnP"
      },
      "source": [
        "Since both of the feature has imbalanced values and is not considered important based on our model trial, we decide to drop both features"
      ]
    },
    {
      "cell_type": "code",
      "metadata": {
        "id": "dxmCd_qbqDNz"
      },
      "source": [
        "def drop_correlation(df):\n",
        "    df = df.drop(['NUM_UNITS','BLDG_NUM'], axis=1)\n",
        "    \n",
        "    return df"
      ],
      "execution_count": null,
      "outputs": []
    },
    {
      "cell_type": "code",
      "metadata": {
        "id": "1XYGkDLaLRDQ"
      },
      "source": [
        "df12 = drop_correlation(df11)"
      ],
      "execution_count": null,
      "outputs": []
    },
    {
      "cell_type": "code",
      "metadata": {
        "colab": {
          "base_uri": "https://localhost:8080/"
        },
        "id": "AY0e80AuHj-F",
        "outputId": "407a0486-1fa3-4b15-d6b0-0319567273e0"
      },
      "source": [
        "df12.columns"
      ],
      "execution_count": null,
      "outputs": [
        {
          "output_type": "execute_result",
          "data": {
            "text/plain": [
              "Index(['index', 'BATHRM', 'HF_BATHRM', 'HEAT', 'AC', 'ROOMS', 'BEDRM', 'AYB',\n",
              "       'EYB', 'PRICE', 'SALE_NUM', 'GBA', 'STYLE', 'STRUCT', 'GRADE', 'CNDTN',\n",
              "       'EXTWALL', 'ROOF', 'INTWALL', 'KITCHENS', 'FIREPLACES', 'USECODE',\n",
              "       'LANDAREA', 'WARD', 'SALEYEAR', 'RMDL'],\n",
              "      dtype='object')"
            ]
          },
          "metadata": {},
          "execution_count": 95
        }
      ]
    },
    {
      "cell_type": "code",
      "metadata": {
        "colab": {
          "base_uri": "https://localhost:8080/"
        },
        "id": "Dd4-cpoBvLvn",
        "outputId": "ae641d9b-f7ce-43ad-8a98-040b30156ba2"
      },
      "source": [
        "df12.shape"
      ],
      "execution_count": null,
      "outputs": [
        {
          "output_type": "execute_result",
          "data": {
            "text/plain": [
              "(7231, 26)"
            ]
          },
          "metadata": {},
          "execution_count": 96
        }
      ]
    },
    {
      "cell_type": "markdown",
      "metadata": {
        "id": "eIPx-95UzLqi"
      },
      "source": [
        "### 8. FEATURE ENGINEERING"
      ]
    },
    {
      "cell_type": "code",
      "metadata": {
        "id": "h6mRG0k1djNF"
      },
      "source": [
        "#AYB, EYB change to age, SQFT_ROOMS\n",
        "def feature_eng(df):\n",
        "    df['AYB_SALEYEAR_DIFF'] = df['SALEYEAR']-df['AYB']\n",
        "    df['AYB_SALEYEAR_DIFF'] = df['AYB_SALEYEAR_DIFF'].astype(pd.Int64Dtype())\n",
        "    \n",
        "    df['EYB_SALEYEAR_DIFF'] = np.where(df['SALEYEAR']<df['EYB'],0,df['SALEYEAR']-df['EYB'])\n",
        "    df['EYB_SALEYEAR_DIFF'] = df['EYB_SALEYEAR_DIFF'].astype(pd.Int64Dtype())\n",
        "\n",
        "    df['SQFT_ROOMS'] = df['GBA']/df['ROOMS']\n",
        "\n",
        "    df = df.drop(['AYB','EYB'],axis=1)\n",
        "    return df"
      ],
      "execution_count": null,
      "outputs": []
    },
    {
      "cell_type": "code",
      "metadata": {
        "id": "8T24T3698GN7"
      },
      "source": [
        "#AYB, EYB change to age, SQFT_ROOMS\n",
        "df13 = feature_eng(df12)"
      ],
      "execution_count": null,
      "outputs": []
    },
    {
      "cell_type": "markdown",
      "metadata": {
        "id": "3DRv5gePNQ2L"
      },
      "source": [
        "### 9. MODEL EVALUATION\n",
        "\n",
        "Based on our model evaluation, we drop several features that is insignificant to our model"
      ]
    },
    {
      "cell_type": "code",
      "metadata": {
        "id": "5IVsZdudqWwR"
      },
      "source": [
        "def drop_model_evaluation(df):\n",
        "    df = df.drop(['ROOMS','USECODE'],axis=1)\n",
        "\n",
        "    return df"
      ],
      "execution_count": null,
      "outputs": []
    },
    {
      "cell_type": "code",
      "metadata": {
        "id": "IeSkFGTwNXeh"
      },
      "source": [
        "#drop ROOMS, USECODE\n",
        "df14 = drop_model_evaluation(df13)"
      ],
      "execution_count": null,
      "outputs": []
    },
    {
      "cell_type": "code",
      "metadata": {
        "colab": {
          "base_uri": "https://localhost:8080/"
        },
        "id": "VpcmB-Ju8IEt",
        "outputId": "283571d4-d70c-4894-af69-0c0a5b3179b2"
      },
      "source": [
        "df14.shape"
      ],
      "execution_count": null,
      "outputs": [
        {
          "output_type": "execute_result",
          "data": {
            "text/plain": [
              "(7231, 25)"
            ]
          },
          "metadata": {},
          "execution_count": 101
        }
      ]
    },
    {
      "cell_type": "markdown",
      "metadata": {
        "id": "QOUwN7h1PLW7"
      },
      "source": [
        "### 10. ENCODING"
      ]
    },
    {
      "cell_type": "code",
      "metadata": {
        "id": "4qWCCmvkOmVs"
      },
      "source": [
        "%%capture\n",
        "!pip install category_encoders"
      ],
      "execution_count": null,
      "outputs": []
    },
    {
      "cell_type": "code",
      "metadata": {
        "id": "xl1_5JKgOsYJ"
      },
      "source": [
        "import category_encoders as ce"
      ],
      "execution_count": null,
      "outputs": []
    },
    {
      "cell_type": "code",
      "metadata": {
        "id": "Anjpg6HHdwZ3"
      },
      "source": [
        "#encoding\n",
        "def encoding_categorical(df):\n",
        "  ordinal_mapping = [{'col':'CNDTN','mapping':{'Poor':1,'Fair':2,'Average':3,'Good':4,'Very Good':5,'Excellent':6}}]\n",
        "  ordinal_encoder = ce.OrdinalEncoder(cols ='CNDTN',mapping = ordinal_mapping) \n",
        "  df = ordinal_encoder.fit_transform(df)\n",
        "\n",
        "  ordinal_mapping = [{'col':'GRADE','mapping':{'Average':1,'Above Average':2,'Good Quality':3,'Very Good':4,'Excellent':5,'Superior':6}}]\n",
        "  ordinal_encoder = ce.OrdinalEncoder(cols ='GRADE',mapping = ordinal_mapping) \n",
        "  df = ordinal_encoder.fit_transform(df)                                                   \n",
        "  return df"
      ],
      "execution_count": null,
      "outputs": []
    },
    {
      "cell_type": "code",
      "metadata": {
        "id": "nCBfkT1ibOsj"
      },
      "source": [
        "df15 = encoding_categorical(df14)                                             "
      ],
      "execution_count": null,
      "outputs": []
    },
    {
      "cell_type": "code",
      "metadata": {
        "colab": {
          "base_uri": "https://localhost:8080/",
          "height": 634
        },
        "id": "s6rFEJrwJDAa",
        "outputId": "8ee6db77-88b5-4114-f5bd-8960bd7ea7d3"
      },
      "source": [
        "df15"
      ],
      "execution_count": null,
      "outputs": [
        {
          "output_type": "execute_result",
          "data": {
            "text/html": [
              "<div>\n",
              "<style scoped>\n",
              "    .dataframe tbody tr th:only-of-type {\n",
              "        vertical-align: middle;\n",
              "    }\n",
              "\n",
              "    .dataframe tbody tr th {\n",
              "        vertical-align: top;\n",
              "    }\n",
              "\n",
              "    .dataframe thead th {\n",
              "        text-align: right;\n",
              "    }\n",
              "</style>\n",
              "<table border=\"1\" class=\"dataframe\">\n",
              "  <thead>\n",
              "    <tr style=\"text-align: right;\">\n",
              "      <th></th>\n",
              "      <th>index</th>\n",
              "      <th>BATHRM</th>\n",
              "      <th>HF_BATHRM</th>\n",
              "      <th>HEAT</th>\n",
              "      <th>AC</th>\n",
              "      <th>BEDRM</th>\n",
              "      <th>PRICE</th>\n",
              "      <th>SALE_NUM</th>\n",
              "      <th>GBA</th>\n",
              "      <th>STYLE</th>\n",
              "      <th>STRUCT</th>\n",
              "      <th>GRADE</th>\n",
              "      <th>CNDTN</th>\n",
              "      <th>EXTWALL</th>\n",
              "      <th>ROOF</th>\n",
              "      <th>INTWALL</th>\n",
              "      <th>KITCHENS</th>\n",
              "      <th>FIREPLACES</th>\n",
              "      <th>LANDAREA</th>\n",
              "      <th>WARD</th>\n",
              "      <th>SALEYEAR</th>\n",
              "      <th>RMDL</th>\n",
              "      <th>AYB_SALEYEAR_DIFF</th>\n",
              "      <th>EYB_SALEYEAR_DIFF</th>\n",
              "      <th>SQFT_ROOMS</th>\n",
              "    </tr>\n",
              "  </thead>\n",
              "  <tbody>\n",
              "    <tr>\n",
              "      <th>21</th>\n",
              "      <td>149</td>\n",
              "      <td>2</td>\n",
              "      <td>0</td>\n",
              "      <td>Warm Cool</td>\n",
              "      <td>0</td>\n",
              "      <td>3</td>\n",
              "      <td>950000.0</td>\n",
              "      <td>4</td>\n",
              "      <td>918.0</td>\n",
              "      <td>2 Story</td>\n",
              "      <td>Row Inside</td>\n",
              "      <td>2</td>\n",
              "      <td>4</td>\n",
              "      <td>Common Brick</td>\n",
              "      <td>Slate</td>\n",
              "      <td>Hardwood</td>\n",
              "      <td>1</td>\n",
              "      <td>1</td>\n",
              "      <td>652.0</td>\n",
              "      <td>Ward 2</td>\n",
              "      <td>2017</td>\n",
              "      <td>1</td>\n",
              "      <td>78</td>\n",
              "      <td>50</td>\n",
              "      <td>153.000000</td>\n",
              "    </tr>\n",
              "    <tr>\n",
              "      <th>24</th>\n",
              "      <td>160</td>\n",
              "      <td>2</td>\n",
              "      <td>0</td>\n",
              "      <td>Warm Cool</td>\n",
              "      <td>0</td>\n",
              "      <td>3</td>\n",
              "      <td>830000.0</td>\n",
              "      <td>4</td>\n",
              "      <td>1335.0</td>\n",
              "      <td>3 Story</td>\n",
              "      <td>Row Inside</td>\n",
              "      <td>3</td>\n",
              "      <td>4</td>\n",
              "      <td>Brick/Stone</td>\n",
              "      <td>Built Up</td>\n",
              "      <td>Hardwood</td>\n",
              "      <td>1</td>\n",
              "      <td>0</td>\n",
              "      <td>560.0</td>\n",
              "      <td>Ward 1</td>\n",
              "      <td>2016</td>\n",
              "      <td>1</td>\n",
              "      <td>116</td>\n",
              "      <td>47</td>\n",
              "      <td>222.500000</td>\n",
              "    </tr>\n",
              "    <tr>\n",
              "      <th>39</th>\n",
              "      <td>225</td>\n",
              "      <td>2</td>\n",
              "      <td>1</td>\n",
              "      <td>Warm Cool</td>\n",
              "      <td>0</td>\n",
              "      <td>3</td>\n",
              "      <td>1120000.0</td>\n",
              "      <td>3</td>\n",
              "      <td>1464.0</td>\n",
              "      <td>2 Story</td>\n",
              "      <td>Row Inside</td>\n",
              "      <td>3</td>\n",
              "      <td>4</td>\n",
              "      <td>Stucco</td>\n",
              "      <td>Built Up</td>\n",
              "      <td>Hardwood</td>\n",
              "      <td>2</td>\n",
              "      <td>1</td>\n",
              "      <td>1015.0</td>\n",
              "      <td>Ward 2</td>\n",
              "      <td>2017</td>\n",
              "      <td>1</td>\n",
              "      <td>132</td>\n",
              "      <td>48</td>\n",
              "      <td>244.000000</td>\n",
              "    </tr>\n",
              "    <tr>\n",
              "      <th>41</th>\n",
              "      <td>236</td>\n",
              "      <td>1</td>\n",
              "      <td>1</td>\n",
              "      <td>Warm Cool</td>\n",
              "      <td>0</td>\n",
              "      <td>2</td>\n",
              "      <td>915000.0</td>\n",
              "      <td>5</td>\n",
              "      <td>1152.0</td>\n",
              "      <td>2 Story</td>\n",
              "      <td>Row Inside</td>\n",
              "      <td>1</td>\n",
              "      <td>4</td>\n",
              "      <td>Common Brick</td>\n",
              "      <td>Metal- Sms</td>\n",
              "      <td>Hardwood</td>\n",
              "      <td>1</td>\n",
              "      <td>1</td>\n",
              "      <td>900.0</td>\n",
              "      <td>Ward 2</td>\n",
              "      <td>2017</td>\n",
              "      <td>1</td>\n",
              "      <td>141</td>\n",
              "      <td>53</td>\n",
              "      <td>192.000000</td>\n",
              "    </tr>\n",
              "    <tr>\n",
              "      <th>45</th>\n",
              "      <td>268</td>\n",
              "      <td>2</td>\n",
              "      <td>0</td>\n",
              "      <td>Warm Cool</td>\n",
              "      <td>0</td>\n",
              "      <td>2</td>\n",
              "      <td>1080000.0</td>\n",
              "      <td>3</td>\n",
              "      <td>1494.0</td>\n",
              "      <td>3 Story</td>\n",
              "      <td>Row End</td>\n",
              "      <td>3</td>\n",
              "      <td>4</td>\n",
              "      <td>Common Brick</td>\n",
              "      <td>Comp Shingle</td>\n",
              "      <td>Hardwood</td>\n",
              "      <td>1</td>\n",
              "      <td>1</td>\n",
              "      <td>609.0</td>\n",
              "      <td>Ward 2</td>\n",
              "      <td>2018</td>\n",
              "      <td>1</td>\n",
              "      <td>118</td>\n",
              "      <td>49</td>\n",
              "      <td>249.000000</td>\n",
              "    </tr>\n",
              "    <tr>\n",
              "      <th>...</th>\n",
              "      <td>...</td>\n",
              "      <td>...</td>\n",
              "      <td>...</td>\n",
              "      <td>...</td>\n",
              "      <td>...</td>\n",
              "      <td>...</td>\n",
              "      <td>...</td>\n",
              "      <td>...</td>\n",
              "      <td>...</td>\n",
              "      <td>...</td>\n",
              "      <td>...</td>\n",
              "      <td>...</td>\n",
              "      <td>...</td>\n",
              "      <td>...</td>\n",
              "      <td>...</td>\n",
              "      <td>...</td>\n",
              "      <td>...</td>\n",
              "      <td>...</td>\n",
              "      <td>...</td>\n",
              "      <td>...</td>\n",
              "      <td>...</td>\n",
              "      <td>...</td>\n",
              "      <td>...</td>\n",
              "      <td>...</td>\n",
              "      <td>...</td>\n",
              "    </tr>\n",
              "    <tr>\n",
              "      <th>15568</th>\n",
              "      <td>106531</td>\n",
              "      <td>3</td>\n",
              "      <td>1</td>\n",
              "      <td>Forced Air</td>\n",
              "      <td>0</td>\n",
              "      <td>3</td>\n",
              "      <td>438000.0</td>\n",
              "      <td>2</td>\n",
              "      <td>1632.0</td>\n",
              "      <td>3 Story</td>\n",
              "      <td>Single</td>\n",
              "      <td>2</td>\n",
              "      <td>5</td>\n",
              "      <td>Brick/Siding</td>\n",
              "      <td>Comp Shingle</td>\n",
              "      <td>Hardwood/Carp</td>\n",
              "      <td>1</td>\n",
              "      <td>0</td>\n",
              "      <td>4491.0</td>\n",
              "      <td>Ward 8</td>\n",
              "      <td>2017</td>\n",
              "      <td>0</td>\n",
              "      <td>0</td>\n",
              "      <td>0</td>\n",
              "      <td>204.000000</td>\n",
              "    </tr>\n",
              "    <tr>\n",
              "      <th>15575</th>\n",
              "      <td>106575</td>\n",
              "      <td>2</td>\n",
              "      <td>1</td>\n",
              "      <td>Forced Air</td>\n",
              "      <td>0</td>\n",
              "      <td>3</td>\n",
              "      <td>355000.0</td>\n",
              "      <td>2</td>\n",
              "      <td>928.0</td>\n",
              "      <td>2 Story</td>\n",
              "      <td>Row End</td>\n",
              "      <td>1</td>\n",
              "      <td>5</td>\n",
              "      <td>Common Brick</td>\n",
              "      <td>Built Up</td>\n",
              "      <td>Hardwood</td>\n",
              "      <td>2</td>\n",
              "      <td>1</td>\n",
              "      <td>2110.0</td>\n",
              "      <td>Ward 8</td>\n",
              "      <td>2018</td>\n",
              "      <td>1</td>\n",
              "      <td>77</td>\n",
              "      <td>54</td>\n",
              "      <td>116.000000</td>\n",
              "    </tr>\n",
              "    <tr>\n",
              "      <th>15578</th>\n",
              "      <td>106599</td>\n",
              "      <td>1</td>\n",
              "      <td>0</td>\n",
              "      <td>Warm Cool</td>\n",
              "      <td>0</td>\n",
              "      <td>2</td>\n",
              "      <td>300000.0</td>\n",
              "      <td>7</td>\n",
              "      <td>992.0</td>\n",
              "      <td>2 Story</td>\n",
              "      <td>Semi-Detached</td>\n",
              "      <td>1</td>\n",
              "      <td>5</td>\n",
              "      <td>Common Brick</td>\n",
              "      <td>Comp Shingle</td>\n",
              "      <td>Hardwood</td>\n",
              "      <td>1</td>\n",
              "      <td>0</td>\n",
              "      <td>1528.0</td>\n",
              "      <td>Ward 8</td>\n",
              "      <td>2017</td>\n",
              "      <td>1</td>\n",
              "      <td>67</td>\n",
              "      <td>48</td>\n",
              "      <td>248.000000</td>\n",
              "    </tr>\n",
              "    <tr>\n",
              "      <th>15581</th>\n",
              "      <td>106628</td>\n",
              "      <td>2</td>\n",
              "      <td>1</td>\n",
              "      <td>Forced Air</td>\n",
              "      <td>0</td>\n",
              "      <td>3</td>\n",
              "      <td>350000.0</td>\n",
              "      <td>3</td>\n",
              "      <td>912.0</td>\n",
              "      <td>2 Story</td>\n",
              "      <td>Row End</td>\n",
              "      <td>1</td>\n",
              "      <td>5</td>\n",
              "      <td>Common Brick</td>\n",
              "      <td>Built Up</td>\n",
              "      <td>Hardwood</td>\n",
              "      <td>1</td>\n",
              "      <td>0</td>\n",
              "      <td>1834.0</td>\n",
              "      <td>Ward 8</td>\n",
              "      <td>2017</td>\n",
              "      <td>1</td>\n",
              "      <td>76</td>\n",
              "      <td>53</td>\n",
              "      <td>152.000000</td>\n",
              "    </tr>\n",
              "    <tr>\n",
              "      <th>15582</th>\n",
              "      <td>106650</td>\n",
              "      <td>2</td>\n",
              "      <td>0</td>\n",
              "      <td>Forced Air</td>\n",
              "      <td>0</td>\n",
              "      <td>5</td>\n",
              "      <td>336000.0</td>\n",
              "      <td>4</td>\n",
              "      <td>1458.0</td>\n",
              "      <td>1.5 Story Fin</td>\n",
              "      <td>Single</td>\n",
              "      <td>1</td>\n",
              "      <td>4</td>\n",
              "      <td>Common Brick</td>\n",
              "      <td>Comp Shingle</td>\n",
              "      <td>Hardwood</td>\n",
              "      <td>1</td>\n",
              "      <td>2</td>\n",
              "      <td>4480.0</td>\n",
              "      <td>Ward 8</td>\n",
              "      <td>2016</td>\n",
              "      <td>1</td>\n",
              "      <td>77</td>\n",
              "      <td>52</td>\n",
              "      <td>208.285714</td>\n",
              "    </tr>\n",
              "  </tbody>\n",
              "</table>\n",
              "<p>7231 rows × 25 columns</p>\n",
              "</div>"
            ],
            "text/plain": [
              "        index  BATHRM  ...  EYB_SALEYEAR_DIFF  SQFT_ROOMS\n",
              "21        149       2  ...                 50  153.000000\n",
              "24        160       2  ...                 47  222.500000\n",
              "39        225       2  ...                 48  244.000000\n",
              "41        236       1  ...                 53  192.000000\n",
              "45        268       2  ...                 49  249.000000\n",
              "...       ...     ...  ...                ...         ...\n",
              "15568  106531       3  ...                  0  204.000000\n",
              "15575  106575       2  ...                 54  116.000000\n",
              "15578  106599       1  ...                 48  248.000000\n",
              "15581  106628       2  ...                 53  152.000000\n",
              "15582  106650       2  ...                 52  208.285714\n",
              "\n",
              "[7231 rows x 25 columns]"
            ]
          },
          "metadata": {},
          "execution_count": 111
        }
      ]
    },
    {
      "cell_type": "markdown",
      "metadata": {
        "id": "YB97JHPcL4gz"
      },
      "source": [
        "### SUMMARY PREPROCESSING"
      ]
    },
    {
      "cell_type": "markdown",
      "metadata": {
        "id": "Zm5abT2pMc-E"
      },
      "source": [
        "DEV SET"
      ]
    },
    {
      "cell_type": "code",
      "metadata": {
        "id": "XSJWVTIHJXCb"
      },
      "source": [
        "#DEV SET\n",
        "df1 = casting(df)\n",
        "df2 = saleyear(df1)\n",
        "df3 = drop_qualified(df2)\n",
        "df4 = residential(df3)\n",
        "df5 = drop_unused_features(df4)\n",
        "df6 = yr_rmdl(df5)\n",
        "df7 = drop_all(df6)\n",
        "df8 = drop_unrelated_features(df7)\n",
        "df9 = drop_unusual(df8)\n",
        "df10 = drop_similar_features(df9)\n",
        "df11 = drop_location_features(df10)\n",
        "df12 = drop_correlation(df11)\n",
        "df13 = feature_eng(df12)\n",
        "df14 = drop_model_evaluation(df13)\n",
        "df15 = encoding_categorical(df14)"
      ],
      "execution_count": null,
      "outputs": []
    },
    {
      "cell_type": "code",
      "metadata": {
        "colab": {
          "base_uri": "https://localhost:8080/"
        },
        "id": "_C_VKgAoMZ0o",
        "outputId": "290d55dd-c589-4b4d-d813-33b191de1ded"
      },
      "source": [
        "df15.shape"
      ],
      "execution_count": null,
      "outputs": [
        {
          "output_type": "execute_result",
          "data": {
            "text/plain": [
              "(7231, 25)"
            ]
          },
          "metadata": {},
          "execution_count": 113
        }
      ]
    },
    {
      "cell_type": "code",
      "metadata": {
        "colab": {
          "base_uri": "https://localhost:8080/"
        },
        "id": "DPiUeVT2cqce",
        "outputId": "8a86a069-19e9-4dd6-a6e3-b1ab0c2e39b1"
      },
      "source": [
        "df15.columns"
      ],
      "execution_count": null,
      "outputs": [
        {
          "output_type": "execute_result",
          "data": {
            "text/plain": [
              "Index(['index', 'BATHRM', 'HF_BATHRM', 'HEAT', 'AC', 'BEDRM', 'PRICE',\n",
              "       'SALE_NUM', 'GBA', 'STYLE', 'STRUCT', 'GRADE', 'CNDTN', 'EXTWALL',\n",
              "       'ROOF', 'INTWALL', 'KITCHENS', 'FIREPLACES', 'LANDAREA', 'WARD',\n",
              "       'SALEYEAR', 'RMDL', 'AYB_SALEYEAR_DIFF', 'EYB_SALEYEAR_DIFF',\n",
              "       'SQFT_ROOMS'],\n",
              "      dtype='object')"
            ]
          },
          "metadata": {},
          "execution_count": 115
        }
      ]
    },
    {
      "cell_type": "code",
      "metadata": {
        "colab": {
          "base_uri": "https://localhost:8080/",
          "height": 17
        },
        "id": "CCuhc6owMKq8",
        "outputId": "20a042ed-d334-468f-ae91-0d8dd0575def"
      },
      "source": [
        "from google.colab import files\n",
        "df15.to_csv('dev_preprocessed.csv',index=False)\n",
        "files.download('dev_preprocessed.csv')"
      ],
      "execution_count": null,
      "outputs": [
        {
          "output_type": "display_data",
          "data": {
            "application/javascript": [
              "\n",
              "    async function download(id, filename, size) {\n",
              "      if (!google.colab.kernel.accessAllowed) {\n",
              "        return;\n",
              "      }\n",
              "      const div = document.createElement('div');\n",
              "      const label = document.createElement('label');\n",
              "      label.textContent = `Downloading \"${filename}\": `;\n",
              "      div.appendChild(label);\n",
              "      const progress = document.createElement('progress');\n",
              "      progress.max = size;\n",
              "      div.appendChild(progress);\n",
              "      document.body.appendChild(div);\n",
              "\n",
              "      const buffers = [];\n",
              "      let downloaded = 0;\n",
              "\n",
              "      const channel = await google.colab.kernel.comms.open(id);\n",
              "      // Send a message to notify the kernel that we're ready.\n",
              "      channel.send({})\n",
              "\n",
              "      for await (const message of channel.messages) {\n",
              "        // Send a message to notify the kernel that we're ready.\n",
              "        channel.send({})\n",
              "        if (message.buffers) {\n",
              "          for (const buffer of message.buffers) {\n",
              "            buffers.push(buffer);\n",
              "            downloaded += buffer.byteLength;\n",
              "            progress.value = downloaded;\n",
              "          }\n",
              "        }\n",
              "      }\n",
              "      const blob = new Blob(buffers, {type: 'application/binary'});\n",
              "      const a = document.createElement('a');\n",
              "      a.href = window.URL.createObjectURL(blob);\n",
              "      a.download = filename;\n",
              "      div.appendChild(a);\n",
              "      a.click();\n",
              "      div.remove();\n",
              "    }\n",
              "  "
            ],
            "text/plain": [
              "<IPython.core.display.Javascript object>"
            ]
          },
          "metadata": {}
        },
        {
          "output_type": "display_data",
          "data": {
            "application/javascript": [
              "download(\"download_af391cd2-8dd0-4f98-baa9-81a3d1b107c8\", \"dev_preprocessed.csv\", 1026457)"
            ],
            "text/plain": [
              "<IPython.core.display.Javascript object>"
            ]
          },
          "metadata": {}
        }
      ]
    },
    {
      "cell_type": "markdown",
      "metadata": {
        "id": "024a0-nQMeJP"
      },
      "source": [
        "TEST SET"
      ]
    },
    {
      "cell_type": "code",
      "metadata": {
        "id": "I6rHHkfRMmcP"
      },
      "source": [
        "df_test = pd.read_csv('https://raw.githubusercontent.com/elvanselvano/purwadhika-final-project/main/dataset/test_data.csv') #using test set"
      ],
      "execution_count": null,
      "outputs": []
    },
    {
      "cell_type": "code",
      "metadata": {
        "colab": {
          "base_uri": "https://localhost:8080/",
          "height": 669
        },
        "id": "W8RRmMP59LEb",
        "outputId": "690afc43-1f6e-4274-a738-d697165bc1bb"
      },
      "source": [
        "df_test"
      ],
      "execution_count": null,
      "outputs": [
        {
          "output_type": "execute_result",
          "data": {
            "text/html": [
              "<div>\n",
              "<style scoped>\n",
              "    .dataframe tbody tr th:only-of-type {\n",
              "        vertical-align: middle;\n",
              "    }\n",
              "\n",
              "    .dataframe tbody tr th {\n",
              "        vertical-align: top;\n",
              "    }\n",
              "\n",
              "    .dataframe thead th {\n",
              "        text-align: right;\n",
              "    }\n",
              "</style>\n",
              "<table border=\"1\" class=\"dataframe\">\n",
              "  <thead>\n",
              "    <tr style=\"text-align: right;\">\n",
              "      <th></th>\n",
              "      <th>index</th>\n",
              "      <th>BATHRM</th>\n",
              "      <th>HF_BATHRM</th>\n",
              "      <th>HEAT</th>\n",
              "      <th>AC</th>\n",
              "      <th>NUM_UNITS</th>\n",
              "      <th>ROOMS</th>\n",
              "      <th>BEDRM</th>\n",
              "      <th>AYB</th>\n",
              "      <th>YR_RMDL</th>\n",
              "      <th>EYB</th>\n",
              "      <th>STORIES</th>\n",
              "      <th>SALEDATE</th>\n",
              "      <th>PRICE</th>\n",
              "      <th>QUALIFIED</th>\n",
              "      <th>SALE_NUM</th>\n",
              "      <th>GBA</th>\n",
              "      <th>BLDG_NUM</th>\n",
              "      <th>STYLE</th>\n",
              "      <th>STRUCT</th>\n",
              "      <th>GRADE</th>\n",
              "      <th>CNDTN</th>\n",
              "      <th>EXTWALL</th>\n",
              "      <th>ROOF</th>\n",
              "      <th>INTWALL</th>\n",
              "      <th>KITCHENS</th>\n",
              "      <th>FIREPLACES</th>\n",
              "      <th>USECODE</th>\n",
              "      <th>LANDAREA</th>\n",
              "      <th>GIS_LAST_MOD_DTTM</th>\n",
              "      <th>SOURCE</th>\n",
              "      <th>CMPLX_NUM</th>\n",
              "      <th>LIVING_GBA</th>\n",
              "      <th>FULLADDRESS</th>\n",
              "      <th>CITY</th>\n",
              "      <th>STATE</th>\n",
              "      <th>ZIPCODE</th>\n",
              "      <th>NATIONALGRID</th>\n",
              "      <th>LATITUDE</th>\n",
              "      <th>LONGITUDE</th>\n",
              "      <th>ASSESSMENT_NBHD</th>\n",
              "      <th>ASSESSMENT_SUBNBHD</th>\n",
              "      <th>CENSUS_TRACT</th>\n",
              "      <th>CENSUS_BLOCK</th>\n",
              "      <th>WARD</th>\n",
              "      <th>SQUARE</th>\n",
              "      <th>X</th>\n",
              "      <th>Y</th>\n",
              "      <th>QUADRANT</th>\n",
              "      <th>SALEYEAR</th>\n",
              "    </tr>\n",
              "  </thead>\n",
              "  <tbody>\n",
              "    <tr>\n",
              "      <th>0</th>\n",
              "      <td>8</td>\n",
              "      <td>3</td>\n",
              "      <td>1</td>\n",
              "      <td>Warm Cool</td>\n",
              "      <td>Y</td>\n",
              "      <td>2.0</td>\n",
              "      <td>7</td>\n",
              "      <td>3</td>\n",
              "      <td>1908.0</td>\n",
              "      <td>2008.0</td>\n",
              "      <td>1967</td>\n",
              "      <td>2.0</td>\n",
              "      <td>2018-05-03</td>\n",
              "      <td>1430000.0</td>\n",
              "      <td>Q</td>\n",
              "      <td>4</td>\n",
              "      <td>1488.0</td>\n",
              "      <td>1</td>\n",
              "      <td>2 Story</td>\n",
              "      <td>Row Inside</td>\n",
              "      <td>Above Average</td>\n",
              "      <td>Very Good</td>\n",
              "      <td>Common Brick</td>\n",
              "      <td>Built Up</td>\n",
              "      <td>Hardwood</td>\n",
              "      <td>2.0</td>\n",
              "      <td>1</td>\n",
              "      <td>24</td>\n",
              "      <td>1424</td>\n",
              "      <td>2018-07-22 18:01:43</td>\n",
              "      <td>Residential</td>\n",
              "      <td>NaN</td>\n",
              "      <td>NaN</td>\n",
              "      <td>1727 SWANN STREET NW</td>\n",
              "      <td>WASHINGTON</td>\n",
              "      <td>DC</td>\n",
              "      <td>20009.0</td>\n",
              "      <td>18S UJ 23142 09324</td>\n",
              "      <td>38.915017</td>\n",
              "      <td>-77.039903</td>\n",
              "      <td>Old City 2</td>\n",
              "      <td>040 D Old City 2</td>\n",
              "      <td>4201.0</td>\n",
              "      <td>004201 2005</td>\n",
              "      <td>Ward 2</td>\n",
              "      <td>152</td>\n",
              "      <td>-77.040429</td>\n",
              "      <td>38.914881</td>\n",
              "      <td>NW</td>\n",
              "      <td>2018.0</td>\n",
              "    </tr>\n",
              "    <tr>\n",
              "      <th>1</th>\n",
              "      <td>121</td>\n",
              "      <td>5</td>\n",
              "      <td>1</td>\n",
              "      <td>Hot Water Rad</td>\n",
              "      <td>Y</td>\n",
              "      <td>2.0</td>\n",
              "      <td>13</td>\n",
              "      <td>7</td>\n",
              "      <td>1883.0</td>\n",
              "      <td>1980.0</td>\n",
              "      <td>1963</td>\n",
              "      <td>3.0</td>\n",
              "      <td>2018-07-03</td>\n",
              "      <td>NaN</td>\n",
              "      <td>U</td>\n",
              "      <td>2</td>\n",
              "      <td>4028.0</td>\n",
              "      <td>1</td>\n",
              "      <td>3 Story</td>\n",
              "      <td>Row End</td>\n",
              "      <td>Very Good</td>\n",
              "      <td>Good</td>\n",
              "      <td>Common Brick</td>\n",
              "      <td>Built Up</td>\n",
              "      <td>Hardwood</td>\n",
              "      <td>2.0</td>\n",
              "      <td>1</td>\n",
              "      <td>24</td>\n",
              "      <td>1852</td>\n",
              "      <td>2018-07-22 18:01:43</td>\n",
              "      <td>Residential</td>\n",
              "      <td>NaN</td>\n",
              "      <td>NaN</td>\n",
              "      <td>2010 HILLYER PLACE NW</td>\n",
              "      <td>WASHINGTON</td>\n",
              "      <td>DC</td>\n",
              "      <td>20009.0</td>\n",
              "      <td>18S UJ 22650 08963</td>\n",
              "      <td>38.911666</td>\n",
              "      <td>-77.045481</td>\n",
              "      <td>Old City 2</td>\n",
              "      <td>040 D Old City 2</td>\n",
              "      <td>5500.0</td>\n",
              "      <td>005500 1005</td>\n",
              "      <td>Ward 2</td>\n",
              "      <td>93</td>\n",
              "      <td>-77.045889</td>\n",
              "      <td>38.912003</td>\n",
              "      <td>NW</td>\n",
              "      <td>2018.0</td>\n",
              "    </tr>\n",
              "    <tr>\n",
              "      <th>2</th>\n",
              "      <td>131</td>\n",
              "      <td>3</td>\n",
              "      <td>1</td>\n",
              "      <td>Hot Water Rad</td>\n",
              "      <td>Y</td>\n",
              "      <td>1.0</td>\n",
              "      <td>6</td>\n",
              "      <td>3</td>\n",
              "      <td>1908.0</td>\n",
              "      <td>2005.0</td>\n",
              "      <td>1969</td>\n",
              "      <td>2.0</td>\n",
              "      <td>2018-05-01</td>\n",
              "      <td>1345000.0</td>\n",
              "      <td>Q</td>\n",
              "      <td>5</td>\n",
              "      <td>1590.0</td>\n",
              "      <td>1</td>\n",
              "      <td>2 Story</td>\n",
              "      <td>Row Inside</td>\n",
              "      <td>Good Quality</td>\n",
              "      <td>Good</td>\n",
              "      <td>Common Brick</td>\n",
              "      <td>Metal- Sms</td>\n",
              "      <td>Hardwood</td>\n",
              "      <td>2.0</td>\n",
              "      <td>0</td>\n",
              "      <td>11</td>\n",
              "      <td>1424</td>\n",
              "      <td>2018-07-22 18:01:43</td>\n",
              "      <td>Residential</td>\n",
              "      <td>NaN</td>\n",
              "      <td>NaN</td>\n",
              "      <td>1741 SWANN STREET NW</td>\n",
              "      <td>WASHINGTON</td>\n",
              "      <td>DC</td>\n",
              "      <td>20009.0</td>\n",
              "      <td>18S UJ 23107 09325</td>\n",
              "      <td>38.915021</td>\n",
              "      <td>-77.040313</td>\n",
              "      <td>Old City 2</td>\n",
              "      <td>040 D Old City 2</td>\n",
              "      <td>4201.0</td>\n",
              "      <td>004201 2005</td>\n",
              "      <td>Ward 2</td>\n",
              "      <td>152</td>\n",
              "      <td>-77.040429</td>\n",
              "      <td>38.914881</td>\n",
              "      <td>NW</td>\n",
              "      <td>2018.0</td>\n",
              "    </tr>\n",
              "    <tr>\n",
              "      <th>3</th>\n",
              "      <td>177</td>\n",
              "      <td>2</td>\n",
              "      <td>0</td>\n",
              "      <td>Hot Water Rad</td>\n",
              "      <td>N</td>\n",
              "      <td>2.0</td>\n",
              "      <td>8</td>\n",
              "      <td>4</td>\n",
              "      <td>1900.0</td>\n",
              "      <td>NaN</td>\n",
              "      <td>1963</td>\n",
              "      <td>3.0</td>\n",
              "      <td>2018-07-05</td>\n",
              "      <td>990000.0</td>\n",
              "      <td>Q</td>\n",
              "      <td>2</td>\n",
              "      <td>1707.0</td>\n",
              "      <td>1</td>\n",
              "      <td>3 Story</td>\n",
              "      <td>Semi-Detached</td>\n",
              "      <td>Very Good</td>\n",
              "      <td>Average</td>\n",
              "      <td>Common Brick</td>\n",
              "      <td>Metal- Sms</td>\n",
              "      <td>Hardwood</td>\n",
              "      <td>2.0</td>\n",
              "      <td>0</td>\n",
              "      <td>24</td>\n",
              "      <td>517</td>\n",
              "      <td>2018-07-22 18:01:43</td>\n",
              "      <td>Residential</td>\n",
              "      <td>NaN</td>\n",
              "      <td>NaN</td>\n",
              "      <td>1409 CORCORAN STREET NW</td>\n",
              "      <td>WASHINGTON</td>\n",
              "      <td>DC</td>\n",
              "      <td>20009.0</td>\n",
              "      <td>18S UJ 23774 08971</td>\n",
              "      <td>38.911965</td>\n",
              "      <td>-77.032529</td>\n",
              "      <td>Old City 2</td>\n",
              "      <td>040 E Old City 2</td>\n",
              "      <td>5201.0</td>\n",
              "      <td>005201 4002</td>\n",
              "      <td>Ward 2</td>\n",
              "      <td>208</td>\n",
              "      <td>-77.033366</td>\n",
              "      <td>38.911716</td>\n",
              "      <td>NW</td>\n",
              "      <td>2018.0</td>\n",
              "    </tr>\n",
              "    <tr>\n",
              "      <th>4</th>\n",
              "      <td>247</td>\n",
              "      <td>3</td>\n",
              "      <td>0</td>\n",
              "      <td>Warm Cool</td>\n",
              "      <td>Y</td>\n",
              "      <td>2.0</td>\n",
              "      <td>9</td>\n",
              "      <td>4</td>\n",
              "      <td>1918.0</td>\n",
              "      <td>2009.0</td>\n",
              "      <td>1987</td>\n",
              "      <td>3.0</td>\n",
              "      <td>2018-06-28</td>\n",
              "      <td>NaN</td>\n",
              "      <td>U</td>\n",
              "      <td>6</td>\n",
              "      <td>2692.0</td>\n",
              "      <td>1</td>\n",
              "      <td>3 Story</td>\n",
              "      <td>Row End</td>\n",
              "      <td>Very Good</td>\n",
              "      <td>Very Good</td>\n",
              "      <td>Common Brick</td>\n",
              "      <td>Built Up</td>\n",
              "      <td>Hardwood</td>\n",
              "      <td>2.0</td>\n",
              "      <td>5</td>\n",
              "      <td>24</td>\n",
              "      <td>1080</td>\n",
              "      <td>2018-07-22 18:01:43</td>\n",
              "      <td>Residential</td>\n",
              "      <td>NaN</td>\n",
              "      <td>NaN</td>\n",
              "      <td>1621 21ST STREET NW</td>\n",
              "      <td>WASHINGTON</td>\n",
              "      <td>DC</td>\n",
              "      <td>20009.0</td>\n",
              "      <td>18S UJ 22573 09020</td>\n",
              "      <td>38.912160</td>\n",
              "      <td>-77.046391</td>\n",
              "      <td>Old City 2</td>\n",
              "      <td>040 D Old City 2</td>\n",
              "      <td>5500.0</td>\n",
              "      <td>005500 1004</td>\n",
              "      <td>Ward 2</td>\n",
              "      <td>93</td>\n",
              "      <td>-77.045889</td>\n",
              "      <td>38.912003</td>\n",
              "      <td>NW</td>\n",
              "      <td>2018.0</td>\n",
              "    </tr>\n",
              "    <tr>\n",
              "      <th>...</th>\n",
              "      <td>...</td>\n",
              "      <td>...</td>\n",
              "      <td>...</td>\n",
              "      <td>...</td>\n",
              "      <td>...</td>\n",
              "      <td>...</td>\n",
              "      <td>...</td>\n",
              "      <td>...</td>\n",
              "      <td>...</td>\n",
              "      <td>...</td>\n",
              "      <td>...</td>\n",
              "      <td>...</td>\n",
              "      <td>...</td>\n",
              "      <td>...</td>\n",
              "      <td>...</td>\n",
              "      <td>...</td>\n",
              "      <td>...</td>\n",
              "      <td>...</td>\n",
              "      <td>...</td>\n",
              "      <td>...</td>\n",
              "      <td>...</td>\n",
              "      <td>...</td>\n",
              "      <td>...</td>\n",
              "      <td>...</td>\n",
              "      <td>...</td>\n",
              "      <td>...</td>\n",
              "      <td>...</td>\n",
              "      <td>...</td>\n",
              "      <td>...</td>\n",
              "      <td>...</td>\n",
              "      <td>...</td>\n",
              "      <td>...</td>\n",
              "      <td>...</td>\n",
              "      <td>...</td>\n",
              "      <td>...</td>\n",
              "      <td>...</td>\n",
              "      <td>...</td>\n",
              "      <td>...</td>\n",
              "      <td>...</td>\n",
              "      <td>...</td>\n",
              "      <td>...</td>\n",
              "      <td>...</td>\n",
              "      <td>...</td>\n",
              "      <td>...</td>\n",
              "      <td>...</td>\n",
              "      <td>...</td>\n",
              "      <td>...</td>\n",
              "      <td>...</td>\n",
              "      <td>...</td>\n",
              "      <td>...</td>\n",
              "    </tr>\n",
              "    <tr>\n",
              "      <th>2948</th>\n",
              "      <td>158824</td>\n",
              "      <td>2</td>\n",
              "      <td>1</td>\n",
              "      <td>Ht Pump</td>\n",
              "      <td>Y</td>\n",
              "      <td>NaN</td>\n",
              "      <td>4</td>\n",
              "      <td>2</td>\n",
              "      <td>2013.0</td>\n",
              "      <td>NaN</td>\n",
              "      <td>2013</td>\n",
              "      <td>NaN</td>\n",
              "      <td>2018-05-08</td>\n",
              "      <td>1700000.0</td>\n",
              "      <td>Q</td>\n",
              "      <td>3</td>\n",
              "      <td>NaN</td>\n",
              "      <td>1</td>\n",
              "      <td>NaN</td>\n",
              "      <td>NaN</td>\n",
              "      <td>NaN</td>\n",
              "      <td>NaN</td>\n",
              "      <td>NaN</td>\n",
              "      <td>NaN</td>\n",
              "      <td>NaN</td>\n",
              "      <td>NaN</td>\n",
              "      <td>0</td>\n",
              "      <td>17</td>\n",
              "      <td>177</td>\n",
              "      <td>2018-07-22 18:01:38</td>\n",
              "      <td>Condominium</td>\n",
              "      <td>5028.0</td>\n",
              "      <td>1443.0</td>\n",
              "      <td>NaN</td>\n",
              "      <td>NaN</td>\n",
              "      <td>NaN</td>\n",
              "      <td>20001.0</td>\n",
              "      <td>NaN</td>\n",
              "      <td>38.900436</td>\n",
              "      <td>-77.025373</td>\n",
              "      <td>Central-tri 3</td>\n",
              "      <td>NaN</td>\n",
              "      <td>5800.0</td>\n",
              "      <td>NaN</td>\n",
              "      <td>Ward 2</td>\n",
              "      <td>374</td>\n",
              "      <td>-77.025376</td>\n",
              "      <td>38.900443</td>\n",
              "      <td>NW</td>\n",
              "      <td>2018.0</td>\n",
              "    </tr>\n",
              "    <tr>\n",
              "      <th>2949</th>\n",
              "      <td>158836</td>\n",
              "      <td>1</td>\n",
              "      <td>0</td>\n",
              "      <td>Warm Cool</td>\n",
              "      <td>Y</td>\n",
              "      <td>NaN</td>\n",
              "      <td>4</td>\n",
              "      <td>2</td>\n",
              "      <td>1967.0</td>\n",
              "      <td>NaN</td>\n",
              "      <td>1967</td>\n",
              "      <td>NaN</td>\n",
              "      <td>2018-05-15</td>\n",
              "      <td>NaN</td>\n",
              "      <td>U</td>\n",
              "      <td>3</td>\n",
              "      <td>NaN</td>\n",
              "      <td>1</td>\n",
              "      <td>NaN</td>\n",
              "      <td>NaN</td>\n",
              "      <td>NaN</td>\n",
              "      <td>NaN</td>\n",
              "      <td>NaN</td>\n",
              "      <td>NaN</td>\n",
              "      <td>NaN</td>\n",
              "      <td>NaN</td>\n",
              "      <td>0</td>\n",
              "      <td>17</td>\n",
              "      <td>445</td>\n",
              "      <td>2018-07-22 18:01:38</td>\n",
              "      <td>Condominium</td>\n",
              "      <td>2265.0</td>\n",
              "      <td>844.0</td>\n",
              "      <td>NaN</td>\n",
              "      <td>NaN</td>\n",
              "      <td>NaN</td>\n",
              "      <td>20024.0</td>\n",
              "      <td>NaN</td>\n",
              "      <td>38.880122</td>\n",
              "      <td>-77.020322</td>\n",
              "      <td>Southwest Waterfront</td>\n",
              "      <td>NaN</td>\n",
              "      <td>10200.0</td>\n",
              "      <td>NaN</td>\n",
              "      <td>Ward 6</td>\n",
              "      <td>468</td>\n",
              "      <td>-77.020324</td>\n",
              "      <td>38.880130</td>\n",
              "      <td>SW</td>\n",
              "      <td>2018.0</td>\n",
              "    </tr>\n",
              "    <tr>\n",
              "      <th>2950</th>\n",
              "      <td>158839</td>\n",
              "      <td>1</td>\n",
              "      <td>0</td>\n",
              "      <td>Warm Cool</td>\n",
              "      <td>Y</td>\n",
              "      <td>NaN</td>\n",
              "      <td>4</td>\n",
              "      <td>2</td>\n",
              "      <td>1967.0</td>\n",
              "      <td>NaN</td>\n",
              "      <td>1967</td>\n",
              "      <td>NaN</td>\n",
              "      <td>2018-04-30</td>\n",
              "      <td>450000.0</td>\n",
              "      <td>U</td>\n",
              "      <td>3</td>\n",
              "      <td>NaN</td>\n",
              "      <td>1</td>\n",
              "      <td>NaN</td>\n",
              "      <td>NaN</td>\n",
              "      <td>NaN</td>\n",
              "      <td>NaN</td>\n",
              "      <td>NaN</td>\n",
              "      <td>NaN</td>\n",
              "      <td>NaN</td>\n",
              "      <td>NaN</td>\n",
              "      <td>0</td>\n",
              "      <td>17</td>\n",
              "      <td>520</td>\n",
              "      <td>2018-07-22 18:01:38</td>\n",
              "      <td>Condominium</td>\n",
              "      <td>2265.0</td>\n",
              "      <td>990.0</td>\n",
              "      <td>NaN</td>\n",
              "      <td>NaN</td>\n",
              "      <td>NaN</td>\n",
              "      <td>20024.0</td>\n",
              "      <td>NaN</td>\n",
              "      <td>38.880122</td>\n",
              "      <td>-77.020322</td>\n",
              "      <td>Southwest Waterfront</td>\n",
              "      <td>NaN</td>\n",
              "      <td>10200.0</td>\n",
              "      <td>NaN</td>\n",
              "      <td>Ward 6</td>\n",
              "      <td>468</td>\n",
              "      <td>-77.020324</td>\n",
              "      <td>38.880130</td>\n",
              "      <td>SW</td>\n",
              "      <td>2018.0</td>\n",
              "    </tr>\n",
              "    <tr>\n",
              "      <th>2951</th>\n",
              "      <td>158855</td>\n",
              "      <td>1</td>\n",
              "      <td>0</td>\n",
              "      <td>Warm Cool</td>\n",
              "      <td>Y</td>\n",
              "      <td>NaN</td>\n",
              "      <td>3</td>\n",
              "      <td>1</td>\n",
              "      <td>1967.0</td>\n",
              "      <td>NaN</td>\n",
              "      <td>1967</td>\n",
              "      <td>NaN</td>\n",
              "      <td>2018-06-13</td>\n",
              "      <td>NaN</td>\n",
              "      <td>U</td>\n",
              "      <td>6</td>\n",
              "      <td>NaN</td>\n",
              "      <td>1</td>\n",
              "      <td>NaN</td>\n",
              "      <td>NaN</td>\n",
              "      <td>NaN</td>\n",
              "      <td>NaN</td>\n",
              "      <td>NaN</td>\n",
              "      <td>NaN</td>\n",
              "      <td>NaN</td>\n",
              "      <td>NaN</td>\n",
              "      <td>0</td>\n",
              "      <td>17</td>\n",
              "      <td>375</td>\n",
              "      <td>2018-07-22 18:01:38</td>\n",
              "      <td>Condominium</td>\n",
              "      <td>2265.0</td>\n",
              "      <td>744.0</td>\n",
              "      <td>NaN</td>\n",
              "      <td>NaN</td>\n",
              "      <td>NaN</td>\n",
              "      <td>20024.0</td>\n",
              "      <td>NaN</td>\n",
              "      <td>38.880122</td>\n",
              "      <td>-77.020322</td>\n",
              "      <td>Southwest Waterfront</td>\n",
              "      <td>NaN</td>\n",
              "      <td>10200.0</td>\n",
              "      <td>NaN</td>\n",
              "      <td>Ward 6</td>\n",
              "      <td>468</td>\n",
              "      <td>-77.020324</td>\n",
              "      <td>38.880130</td>\n",
              "      <td>SW</td>\n",
              "      <td>2018.0</td>\n",
              "    </tr>\n",
              "    <tr>\n",
              "      <th>2952</th>\n",
              "      <td>158902</td>\n",
              "      <td>2</td>\n",
              "      <td>0</td>\n",
              "      <td>Forced Air</td>\n",
              "      <td>Y</td>\n",
              "      <td>NaN</td>\n",
              "      <td>5</td>\n",
              "      <td>2</td>\n",
              "      <td>2005.0</td>\n",
              "      <td>2005.0</td>\n",
              "      <td>2005</td>\n",
              "      <td>NaN</td>\n",
              "      <td>2018-06-15</td>\n",
              "      <td>865000.0</td>\n",
              "      <td>U</td>\n",
              "      <td>5</td>\n",
              "      <td>NaN</td>\n",
              "      <td>1</td>\n",
              "      <td>NaN</td>\n",
              "      <td>NaN</td>\n",
              "      <td>NaN</td>\n",
              "      <td>NaN</td>\n",
              "      <td>NaN</td>\n",
              "      <td>NaN</td>\n",
              "      <td>NaN</td>\n",
              "      <td>NaN</td>\n",
              "      <td>1</td>\n",
              "      <td>16</td>\n",
              "      <td>1113</td>\n",
              "      <td>2018-07-22 18:01:38</td>\n",
              "      <td>Condominium</td>\n",
              "      <td>2694.0</td>\n",
              "      <td>1276.0</td>\n",
              "      <td>NaN</td>\n",
              "      <td>NaN</td>\n",
              "      <td>NaN</td>\n",
              "      <td>20001.0</td>\n",
              "      <td>NaN</td>\n",
              "      <td>38.914279</td>\n",
              "      <td>-77.019274</td>\n",
              "      <td>Old City 2</td>\n",
              "      <td>040 G Old City 2</td>\n",
              "      <td>4801.0</td>\n",
              "      <td>NaN</td>\n",
              "      <td>Ward 6</td>\n",
              "      <td>475</td>\n",
              "      <td>-77.019277</td>\n",
              "      <td>38.914287</td>\n",
              "      <td>NW</td>\n",
              "      <td>2018.0</td>\n",
              "    </tr>\n",
              "  </tbody>\n",
              "</table>\n",
              "<p>2953 rows × 50 columns</p>\n",
              "</div>"
            ],
            "text/plain": [
              "       index  BATHRM  HF_BATHRM  ...          Y QUADRANT  SALEYEAR\n",
              "0          8       3          1  ...  38.914881       NW    2018.0\n",
              "1        121       5          1  ...  38.912003       NW    2018.0\n",
              "2        131       3          1  ...  38.914881       NW    2018.0\n",
              "3        177       2          0  ...  38.911716       NW    2018.0\n",
              "4        247       3          0  ...  38.912003       NW    2018.0\n",
              "...      ...     ...        ...  ...        ...      ...       ...\n",
              "2948  158824       2          1  ...  38.900443       NW    2018.0\n",
              "2949  158836       1          0  ...  38.880130       SW    2018.0\n",
              "2950  158839       1          0  ...  38.880130       SW    2018.0\n",
              "2951  158855       1          0  ...  38.880130       SW    2018.0\n",
              "2952  158902       2          0  ...  38.914287       NW    2018.0\n",
              "\n",
              "[2953 rows x 50 columns]"
            ]
          },
          "metadata": {},
          "execution_count": 118
        }
      ]
    },
    {
      "cell_type": "code",
      "metadata": {
        "id": "hcU3OxvBMfJ1"
      },
      "source": [
        "#TEST SET\n",
        "df1_test = casting(df_test)\n",
        "df2_test = saleyear(df1_test)\n",
        "df3_test = drop_qualified(df2_test)\n",
        "df4_test = residential(df3_test)\n",
        "df5_test = drop_unused_features(df4_test)\n",
        "df6_test = yr_rmdl(df5_test)\n",
        "df7_test = drop_all(df6_test)\n",
        "df8_test = drop_unrelated_features(df7_test)\n",
        "df9_test = drop_unusual(df8_test)\n",
        "df10_test = drop_similar_features(df9_test)\n",
        "df11_test = drop_location_features(df10_test)\n",
        "df12_test = drop_correlation(df11_test)\n",
        "df13_test = feature_eng(df12_test)\n",
        "df14_test = drop_model_evaluation(df13_test)\n",
        "df15_test = encoding_categorical(df14_test)"
      ],
      "execution_count": null,
      "outputs": []
    },
    {
      "cell_type": "code",
      "metadata": {
        "colab": {
          "base_uri": "https://localhost:8080/"
        },
        "id": "6F4e1Bt29Bwk",
        "outputId": "3c022c4f-f6c5-4d2d-c038-10025dd51d0e"
      },
      "source": [
        "df15_test.shape"
      ],
      "execution_count": null,
      "outputs": [
        {
          "output_type": "execute_result",
          "data": {
            "text/plain": [
              "(1015, 25)"
            ]
          },
          "metadata": {},
          "execution_count": 120
        }
      ]
    },
    {
      "cell_type": "code",
      "metadata": {
        "colab": {
          "base_uri": "https://localhost:8080/",
          "height": 17
        },
        "id": "baQi6Aa7NQFA",
        "outputId": "fed40ab7-f9b7-43ed-fe83-90ed33e47e17"
      },
      "source": [
        "from google.colab import files\n",
        "df15_test.to_csv('test_preprocessed.csv',index=False)\n",
        "files.download('test_preprocessed.csv')"
      ],
      "execution_count": null,
      "outputs": [
        {
          "output_type": "display_data",
          "data": {
            "application/javascript": [
              "\n",
              "    async function download(id, filename, size) {\n",
              "      if (!google.colab.kernel.accessAllowed) {\n",
              "        return;\n",
              "      }\n",
              "      const div = document.createElement('div');\n",
              "      const label = document.createElement('label');\n",
              "      label.textContent = `Downloading \"${filename}\": `;\n",
              "      div.appendChild(label);\n",
              "      const progress = document.createElement('progress');\n",
              "      progress.max = size;\n",
              "      div.appendChild(progress);\n",
              "      document.body.appendChild(div);\n",
              "\n",
              "      const buffers = [];\n",
              "      let downloaded = 0;\n",
              "\n",
              "      const channel = await google.colab.kernel.comms.open(id);\n",
              "      // Send a message to notify the kernel that we're ready.\n",
              "      channel.send({})\n",
              "\n",
              "      for await (const message of channel.messages) {\n",
              "        // Send a message to notify the kernel that we're ready.\n",
              "        channel.send({})\n",
              "        if (message.buffers) {\n",
              "          for (const buffer of message.buffers) {\n",
              "            buffers.push(buffer);\n",
              "            downloaded += buffer.byteLength;\n",
              "            progress.value = downloaded;\n",
              "          }\n",
              "        }\n",
              "      }\n",
              "      const blob = new Blob(buffers, {type: 'application/binary'});\n",
              "      const a = document.createElement('a');\n",
              "      a.href = window.URL.createObjectURL(blob);\n",
              "      a.download = filename;\n",
              "      div.appendChild(a);\n",
              "      a.click();\n",
              "      div.remove();\n",
              "    }\n",
              "  "
            ],
            "text/plain": [
              "<IPython.core.display.Javascript object>"
            ]
          },
          "metadata": {}
        },
        {
          "output_type": "display_data",
          "data": {
            "application/javascript": [
              "download(\"download_ed381cd2-3b6a-4504-9636-124f1bed62e1\", \"test_preprocessed.csv\", 144298)"
            ],
            "text/plain": [
              "<IPython.core.display.Javascript object>"
            ]
          },
          "metadata": {}
        }
      ]
    }
  ]
}