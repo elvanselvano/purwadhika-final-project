{
  "nbformat": 4,
  "nbformat_minor": 0,
  "metadata": {
    "colab": {
      "name": "quantile_regression_buggy.ipynb",
      "provenance": []
    },
    "kernelspec": {
      "name": "python3",
      "display_name": "Python 3"
    },
    "language_info": {
      "name": "python"
    },
    "widgets": {
      "application/vnd.jupyter.widget-state+json": {
        "54491e441a3147468b97175637a7c86e": {
          "model_module": "@jupyter-widgets/controls",
          "model_name": "IntProgressModel",
          "state": {
            "_view_name": "ProgressView",
            "style": "IPY_MODEL_09084c6b852a48799659ba0415a4881b",
            "_dom_classes": [],
            "description": "Processing: ",
            "_model_name": "IntProgressModel",
            "bar_style": "",
            "max": 3,
            "_view_module": "@jupyter-widgets/controls",
            "_model_module_version": "1.5.0",
            "value": 3,
            "_view_count": null,
            "_view_module_version": "1.5.0",
            "orientation": "horizontal",
            "min": 0,
            "description_tooltip": null,
            "_model_module": "@jupyter-widgets/controls",
            "layout": "IPY_MODEL_1e8f6a5a708842b8a4a52d5309ba39f6"
          }
        },
        "09084c6b852a48799659ba0415a4881b": {
          "model_module": "@jupyter-widgets/controls",
          "model_name": "ProgressStyleModel",
          "state": {
            "_view_name": "StyleView",
            "_model_name": "ProgressStyleModel",
            "description_width": "",
            "_view_module": "@jupyter-widgets/base",
            "_model_module_version": "1.5.0",
            "_view_count": null,
            "_view_module_version": "1.2.0",
            "bar_color": null,
            "_model_module": "@jupyter-widgets/controls"
          }
        },
        "1e8f6a5a708842b8a4a52d5309ba39f6": {
          "model_module": "@jupyter-widgets/base",
          "model_name": "LayoutModel",
          "state": {
            "_view_name": "LayoutView",
            "grid_template_rows": null,
            "right": null,
            "justify_content": null,
            "_view_module": "@jupyter-widgets/base",
            "overflow": null,
            "_model_module_version": "1.2.0",
            "_view_count": null,
            "flex_flow": null,
            "width": null,
            "min_width": null,
            "border": null,
            "align_items": null,
            "bottom": null,
            "_model_module": "@jupyter-widgets/base",
            "top": null,
            "grid_column": null,
            "overflow_y": null,
            "overflow_x": null,
            "grid_auto_flow": null,
            "grid_area": null,
            "grid_template_columns": null,
            "flex": null,
            "_model_name": "LayoutModel",
            "justify_items": null,
            "grid_row": null,
            "max_height": null,
            "align_content": null,
            "visibility": null,
            "align_self": null,
            "height": null,
            "min_height": null,
            "padding": null,
            "grid_auto_rows": null,
            "grid_gap": null,
            "max_width": null,
            "order": null,
            "_view_module_version": "1.2.0",
            "grid_template_areas": null,
            "object_position": null,
            "object_fit": null,
            "grid_auto_columns": null,
            "margin": null,
            "display": null,
            "left": null
          }
        },
        "3ece807aa76e40aca99b3658855ecca9": {
          "model_module": "@jupyter-widgets/controls",
          "model_name": "TextModel",
          "state": {
            "_view_name": "TextView",
            "style": "IPY_MODEL_9731841ae72b478faf8d1483ae98d81a",
            "_dom_classes": [],
            "description": "",
            "_model_name": "TextModel",
            "placeholder": "​",
            "_view_module": "@jupyter-widgets/controls",
            "_model_module_version": "1.5.0",
            "value": "Following data types have been inferred automatically, if they are correct press enter to continue or type 'quit' otherwise.",
            "_view_count": null,
            "disabled": false,
            "_view_module_version": "1.5.0",
            "continuous_update": true,
            "description_tooltip": null,
            "_model_module": "@jupyter-widgets/controls",
            "layout": "IPY_MODEL_07367dbd98d84212aa601d8edb07302f"
          }
        },
        "9731841ae72b478faf8d1483ae98d81a": {
          "model_module": "@jupyter-widgets/controls",
          "model_name": "DescriptionStyleModel",
          "state": {
            "_view_name": "StyleView",
            "_model_name": "DescriptionStyleModel",
            "description_width": "",
            "_view_module": "@jupyter-widgets/base",
            "_model_module_version": "1.5.0",
            "_view_count": null,
            "_view_module_version": "1.2.0",
            "_model_module": "@jupyter-widgets/controls"
          }
        },
        "07367dbd98d84212aa601d8edb07302f": {
          "model_module": "@jupyter-widgets/base",
          "model_name": "LayoutModel",
          "state": {
            "_view_name": "LayoutView",
            "grid_template_rows": null,
            "right": null,
            "justify_content": null,
            "_view_module": "@jupyter-widgets/base",
            "overflow": null,
            "_model_module_version": "1.2.0",
            "_view_count": null,
            "flex_flow": null,
            "width": "100%",
            "min_width": null,
            "border": null,
            "align_items": null,
            "bottom": null,
            "_model_module": "@jupyter-widgets/base",
            "top": null,
            "grid_column": null,
            "overflow_y": null,
            "overflow_x": null,
            "grid_auto_flow": null,
            "grid_area": null,
            "grid_template_columns": null,
            "flex": null,
            "_model_name": "LayoutModel",
            "justify_items": null,
            "grid_row": null,
            "max_height": null,
            "align_content": null,
            "visibility": null,
            "align_self": null,
            "height": null,
            "min_height": null,
            "padding": null,
            "grid_auto_rows": null,
            "grid_gap": null,
            "max_width": null,
            "order": null,
            "_view_module_version": "1.2.0",
            "grid_template_areas": null,
            "object_position": null,
            "object_fit": null,
            "grid_auto_columns": null,
            "margin": null,
            "display": null,
            "left": null
          }
        },
        "0358bf0a86df4e3a8c9be096a896eb42": {
          "model_module": "@jupyter-widgets/controls",
          "model_name": "IntProgressModel",
          "state": {
            "_view_name": "ProgressView",
            "style": "IPY_MODEL_44ada30ed6324b649b13e554a9635521",
            "_dom_classes": [],
            "description": "Processing: ",
            "_model_name": "IntProgressModel",
            "bar_style": "",
            "max": 4,
            "_view_module": "@jupyter-widgets/controls",
            "_model_module_version": "1.5.0",
            "value": 4,
            "_view_count": null,
            "_view_module_version": "1.5.0",
            "orientation": "horizontal",
            "min": 0,
            "description_tooltip": null,
            "_model_module": "@jupyter-widgets/controls",
            "layout": "IPY_MODEL_75828170b5694e05b5f6ac4cad78042d"
          }
        },
        "44ada30ed6324b649b13e554a9635521": {
          "model_module": "@jupyter-widgets/controls",
          "model_name": "ProgressStyleModel",
          "state": {
            "_view_name": "StyleView",
            "_model_name": "ProgressStyleModel",
            "description_width": "",
            "_view_module": "@jupyter-widgets/base",
            "_model_module_version": "1.5.0",
            "_view_count": null,
            "_view_module_version": "1.2.0",
            "bar_color": null,
            "_model_module": "@jupyter-widgets/controls"
          }
        },
        "75828170b5694e05b5f6ac4cad78042d": {
          "model_module": "@jupyter-widgets/base",
          "model_name": "LayoutModel",
          "state": {
            "_view_name": "LayoutView",
            "grid_template_rows": null,
            "right": null,
            "justify_content": null,
            "_view_module": "@jupyter-widgets/base",
            "overflow": null,
            "_model_module_version": "1.2.0",
            "_view_count": null,
            "flex_flow": null,
            "width": null,
            "min_width": null,
            "border": null,
            "align_items": null,
            "bottom": null,
            "_model_module": "@jupyter-widgets/base",
            "top": null,
            "grid_column": null,
            "overflow_y": null,
            "overflow_x": null,
            "grid_auto_flow": null,
            "grid_area": null,
            "grid_template_columns": null,
            "flex": null,
            "_model_name": "LayoutModel",
            "justify_items": null,
            "grid_row": null,
            "max_height": null,
            "align_content": null,
            "visibility": null,
            "align_self": null,
            "height": null,
            "min_height": null,
            "padding": null,
            "grid_auto_rows": null,
            "grid_gap": null,
            "max_width": null,
            "order": null,
            "_view_module_version": "1.2.0",
            "grid_template_areas": null,
            "object_position": null,
            "object_fit": null,
            "grid_auto_columns": null,
            "margin": null,
            "display": null,
            "left": null
          }
        },
        "5daea3170c7a4aee9957e614c1acf261": {
          "model_module": "@jupyter-widgets/controls",
          "model_name": "IntProgressModel",
          "state": {
            "_view_name": "ProgressView",
            "style": "IPY_MODEL_aa72e3fc7df54fa6b646f954b7765701",
            "_dom_classes": [],
            "description": "Processing: ",
            "_model_name": "IntProgressModel",
            "bar_style": "",
            "max": 4,
            "_view_module": "@jupyter-widgets/controls",
            "_model_module_version": "1.5.0",
            "value": 4,
            "_view_count": null,
            "_view_module_version": "1.5.0",
            "orientation": "horizontal",
            "min": 0,
            "description_tooltip": null,
            "_model_module": "@jupyter-widgets/controls",
            "layout": "IPY_MODEL_ccb893bbcd39470b9b02e60cef0f3136"
          }
        },
        "aa72e3fc7df54fa6b646f954b7765701": {
          "model_module": "@jupyter-widgets/controls",
          "model_name": "ProgressStyleModel",
          "state": {
            "_view_name": "StyleView",
            "_model_name": "ProgressStyleModel",
            "description_width": "",
            "_view_module": "@jupyter-widgets/base",
            "_model_module_version": "1.5.0",
            "_view_count": null,
            "_view_module_version": "1.2.0",
            "bar_color": null,
            "_model_module": "@jupyter-widgets/controls"
          }
        },
        "ccb893bbcd39470b9b02e60cef0f3136": {
          "model_module": "@jupyter-widgets/base",
          "model_name": "LayoutModel",
          "state": {
            "_view_name": "LayoutView",
            "grid_template_rows": null,
            "right": null,
            "justify_content": null,
            "_view_module": "@jupyter-widgets/base",
            "overflow": null,
            "_model_module_version": "1.2.0",
            "_view_count": null,
            "flex_flow": null,
            "width": null,
            "min_width": null,
            "border": null,
            "align_items": null,
            "bottom": null,
            "_model_module": "@jupyter-widgets/base",
            "top": null,
            "grid_column": null,
            "overflow_y": null,
            "overflow_x": null,
            "grid_auto_flow": null,
            "grid_area": null,
            "grid_template_columns": null,
            "flex": null,
            "_model_name": "LayoutModel",
            "justify_items": null,
            "grid_row": null,
            "max_height": null,
            "align_content": null,
            "visibility": null,
            "align_self": null,
            "height": null,
            "min_height": null,
            "padding": null,
            "grid_auto_rows": null,
            "grid_gap": null,
            "max_width": null,
            "order": null,
            "_view_module_version": "1.2.0",
            "grid_template_areas": null,
            "object_position": null,
            "object_fit": null,
            "grid_auto_columns": null,
            "margin": null,
            "display": null,
            "left": null
          }
        },
        "36505c8f47334585b39919ffbfc43440": {
          "model_module": "@jupyter-widgets/controls",
          "model_name": "IntProgressModel",
          "state": {
            "_view_name": "ProgressView",
            "style": "IPY_MODEL_e20642a13db44028b2f21e8bbdeeafef",
            "_dom_classes": [],
            "description": "Processing: ",
            "_model_name": "IntProgressModel",
            "bar_style": "",
            "max": 4,
            "_view_module": "@jupyter-widgets/controls",
            "_model_module_version": "1.5.0",
            "value": 4,
            "_view_count": null,
            "_view_module_version": "1.5.0",
            "orientation": "horizontal",
            "min": 0,
            "description_tooltip": null,
            "_model_module": "@jupyter-widgets/controls",
            "layout": "IPY_MODEL_1a9568b51c1e4d15a815a15e2c83d4b4"
          }
        },
        "e20642a13db44028b2f21e8bbdeeafef": {
          "model_module": "@jupyter-widgets/controls",
          "model_name": "ProgressStyleModel",
          "state": {
            "_view_name": "StyleView",
            "_model_name": "ProgressStyleModel",
            "description_width": "",
            "_view_module": "@jupyter-widgets/base",
            "_model_module_version": "1.5.0",
            "_view_count": null,
            "_view_module_version": "1.2.0",
            "bar_color": null,
            "_model_module": "@jupyter-widgets/controls"
          }
        },
        "1a9568b51c1e4d15a815a15e2c83d4b4": {
          "model_module": "@jupyter-widgets/base",
          "model_name": "LayoutModel",
          "state": {
            "_view_name": "LayoutView",
            "grid_template_rows": null,
            "right": null,
            "justify_content": null,
            "_view_module": "@jupyter-widgets/base",
            "overflow": null,
            "_model_module_version": "1.2.0",
            "_view_count": null,
            "flex_flow": null,
            "width": null,
            "min_width": null,
            "border": null,
            "align_items": null,
            "bottom": null,
            "_model_module": "@jupyter-widgets/base",
            "top": null,
            "grid_column": null,
            "overflow_y": null,
            "overflow_x": null,
            "grid_auto_flow": null,
            "grid_area": null,
            "grid_template_columns": null,
            "flex": null,
            "_model_name": "LayoutModel",
            "justify_items": null,
            "grid_row": null,
            "max_height": null,
            "align_content": null,
            "visibility": null,
            "align_self": null,
            "height": null,
            "min_height": null,
            "padding": null,
            "grid_auto_rows": null,
            "grid_gap": null,
            "max_width": null,
            "order": null,
            "_view_module_version": "1.2.0",
            "grid_template_areas": null,
            "object_position": null,
            "object_fit": null,
            "grid_auto_columns": null,
            "margin": null,
            "display": null,
            "left": null
          }
        }
      }
    }
  },
  "cells": [
    {
      "cell_type": "code",
      "metadata": {
        "id": "nE86SZnK1f8L"
      },
      "source": [
        "!pip install pycaret[full]"
      ],
      "execution_count": null,
      "outputs": []
    },
    {
      "cell_type": "code",
      "metadata": {
        "id": "Y0vNYrGg33KW"
      },
      "source": [
        "!pip install category_encoders"
      ],
      "execution_count": null,
      "outputs": []
    },
    {
      "cell_type": "code",
      "metadata": {
        "colab": {
          "base_uri": "https://localhost:8080/"
        },
        "id": "UmF6b4_r4QDc",
        "outputId": "b70fee98-47ed-4cd1-c4f2-8530a5c78b4e"
      },
      "source": [
        "import category_encoders as ce\n",
        "import numpy as np"
      ],
      "execution_count": 21,
      "outputs": [
        {
          "output_type": "stream",
          "text": [
            "/usr/local/lib/python3.7/dist-packages/statsmodels/tools/_testing.py:19: FutureWarning: pandas.util.testing is deprecated. Use the functions in the public API at pandas.testing instead.\n",
            "  import pandas.util.testing as tm\n"
          ],
          "name": "stderr"
        }
      ]
    },
    {
      "cell_type": "markdown",
      "metadata": {
        "id": "bkGMNYkN2Y36"
      },
      "source": [
        "## Import Dev and Test"
      ]
    },
    {
      "cell_type": "code",
      "metadata": {
        "id": "iBLBditB2gmi"
      },
      "source": [
        "dev_path = 'https://raw.githubusercontent.com/elvanselvano/purwadhika-final-project/main/dataset/dev.csv'\n",
        "test_path = 'https://raw.githubusercontent.com/elvanselvano/purwadhika-final-project/main/dataset/test.csv'"
      ],
      "execution_count": 18,
      "outputs": []
    },
    {
      "cell_type": "code",
      "metadata": {
        "colab": {
          "base_uri": "https://localhost:8080/"
        },
        "id": "Xnmp2tqO221D",
        "outputId": "b8ae6d8f-494c-4198-a258-81388c23a6be"
      },
      "source": [
        "import pandas as pd\n",
        "\n",
        "dev = pd.read_csv(dev_path)\n",
        "test = pd.read_csv(test_path)"
      ],
      "execution_count": 22,
      "outputs": [
        {
          "output_type": "stream",
          "text": [
            "/usr/local/lib/python3.7/dist-packages/IPython/core/interactiveshell.py:2718: DtypeWarning: Columns (17,18,19,20,21,22,23,32,33,34,36,42,44) have mixed types.Specify dtype option on import or set low_memory=False.\n",
            "  interactivity=interactivity, compiler=compiler, result=result)\n",
            "/usr/local/lib/python3.7/dist-packages/IPython/core/interactiveshell.py:2718: DtypeWarning: Columns (44) have mixed types.Specify dtype option on import or set low_memory=False.\n",
            "  interactivity=interactivity, compiler=compiler, result=result)\n"
          ],
          "name": "stderr"
        }
      ]
    },
    {
      "cell_type": "code",
      "metadata": {
        "id": "HCSDI8H83DGz"
      },
      "source": [
        "def casting(df):\n",
        "  df['NUM_UNITS'] = df['NUM_UNITS'].astype(pd.Int64Dtype())\n",
        "  df['KITCHENS'] = df['KITCHENS'].astype(pd.Int64Dtype())\n",
        "  df['USECODE'] = df['USECODE'].astype(pd.Int64Dtype()).astype('category')\n",
        "  df['ZIPCODE'] = df['ZIPCODE'].astype(pd.Int64Dtype()).astype('category')\n",
        "  df['CMPLX_NUM'] = df['CMPLX_NUM'].astype(pd.Int64Dtype())\n",
        "  df['CENSUS_TRACT'] = df['CMPLX_NUM'].astype(pd.Int64Dtype())\n",
        "  df['SALEDATE'] = pd.to_datetime(df['SALEDATE'])\n",
        "  df['SALEYEAR'] = df['SALEDATE'].dt.year\n",
        "  return df\n",
        "\n",
        "def drop_qualified(df):\n",
        "  df = df[df['QUALIFIED']=='Q']\n",
        "  df = df.drop('QUALIFIED', axis=1)\n",
        "  return df\n",
        "\n",
        "def drop_miss_val1(df):\n",
        "  df_clean = df.drop(['CMPLX_NUM','LIVING_GBA','CENSUS_TRACT',\n",
        "                        'ASSESSMENT_SUBNBHD','FULLADDRESS','NATIONALGRID',\n",
        "                        'CENSUS_BLOCK','CITY','STATE','X','Y','QUADRANT',\n",
        "                        'GIS_LAST_MOD_DTTM','SOURCE','STORIES','ZIPCODE',\n",
        "                        'ASSESSMENT_NBHD','SQUARE','LONGITUDE','LATITUDE',\n",
        "                        'ROOMS','SALE_NUM','NUM_UNITS','BLDG_NUM','USECODE'],axis=1)\n",
        "  return df_clean\n",
        "\n",
        "def yr_rmdl(df):\n",
        "  df['RMDL'] = np.where(df['YR_RMDL'].isna(),0,1)\n",
        "  df = df.drop('YR_RMDL',axis=1)\n",
        "  return df\n",
        "\n",
        "def drop_all(df):\n",
        "  df = df.dropna()\n",
        "  return df\n",
        "\n",
        "def encoding_categorical(df):\n",
        "  df['AC'] = np.where(df['AC']=='Y',1,0)\n",
        "  df = df[df['HEAT']!='No Data']\n",
        "  ordinal_mapping = [{'col':'CNDTN','mapping':{'Poor':1,'Fair':2,'Average':3,'Good':4,'Very Good':5,'Excellent':6}}]\n",
        "  ordinal_encoder = ce.OrdinalEncoder(cols ='CNDTN',mapping = ordinal_mapping) \n",
        "  df = ordinal_encoder.fit_transform(df)                                                \n",
        "  return df"
      ],
      "execution_count": 15,
      "outputs": []
    },
    {
      "cell_type": "markdown",
      "metadata": {
        "id": "oXJhcuTF3l-L"
      },
      "source": [
        "## Preprocess Dev and Test (Exactly Same Pipeline)"
      ]
    },
    {
      "cell_type": "code",
      "metadata": {
        "colab": {
          "base_uri": "https://localhost:8080/"
        },
        "id": "61AEFayz3Rva",
        "outputId": "7d3e9e68-e172-48f5-dc46-c70d8297affa"
      },
      "source": [
        "print(dev.shape)\n",
        "dev = casting(dev)\n",
        "dev = drop_qualified(dev)\n",
        "dev = drop_miss_val1(dev)\n",
        "dev = yr_rmdl(dev)\n",
        "dev = drop_all(dev)\n",
        "dev = encoding_categorical(dev)\n",
        "print(dev.shape)"
      ],
      "execution_count": 23,
      "outputs": [
        {
          "output_type": "stream",
          "text": [
            "(102661, 49)\n",
            "(35369, 23)\n"
          ],
          "name": "stdout"
        }
      ]
    },
    {
      "cell_type": "code",
      "metadata": {
        "colab": {
          "base_uri": "https://localhost:8080/"
        },
        "id": "8DVJgecN4UOo",
        "outputId": "16f902f8-35da-408b-c89d-48473f79aa54"
      },
      "source": [
        "print(test.shape)\n",
        "test = casting(test)\n",
        "test = drop_qualified(test)\n",
        "test = drop_miss_val1(test)\n",
        "test = yr_rmdl(test)\n",
        "test = drop_all(test)\n",
        "test = encoding_categorical(test)\n",
        "print(test.shape)"
      ],
      "execution_count": 24,
      "outputs": [
        {
          "output_type": "stream",
          "text": [
            "(29526, 49)\n",
            "(10435, 23)\n"
          ],
          "name": "stdout"
        }
      ]
    },
    {
      "cell_type": "markdown",
      "metadata": {
        "id": "YqQRBLPB4pO8"
      },
      "source": [
        "## Setup PyCaret"
      ]
    },
    {
      "cell_type": "code",
      "metadata": {
        "id": "bjXbZwLD4ZM_"
      },
      "source": [
        "import pycaret.regression as reg"
      ],
      "execution_count": 25,
      "outputs": []
    },
    {
      "cell_type": "code",
      "metadata": {
        "colab": {
          "base_uri": "https://localhost:8080/",
          "height": 1000,
          "referenced_widgets": [
            "54491e441a3147468b97175637a7c86e",
            "09084c6b852a48799659ba0415a4881b",
            "1e8f6a5a708842b8a4a52d5309ba39f6",
            "3ece807aa76e40aca99b3658855ecca9",
            "9731841ae72b478faf8d1483ae98d81a",
            "07367dbd98d84212aa601d8edb07302f"
          ]
        },
        "id": "FWqvHFc74xS2",
        "outputId": "c256ce22-c7c0-42eb-b03d-beec1a7e19c6"
      },
      "source": [
        "regression_setup = reg.setup(data=dev, target='PRICE', session_id=42, use_gpu=True, \n",
        "                         categorical_features=['HEAT', 'STYLE', 'STRUCT', 'GRADE', 'EXTWALL', 'ROOF', 'INTWALL', 'WARD', 'AC'],\n",
        "                         numeric_features=['BATHRM', 'HF_BATHRM', 'BEDRM', 'AYB', 'EYB', 'GBA', 'CNDTN', 'KITCHENS', 'FIREPLACES', 'LANDAREA', 'RMDL', 'SALEYEAR'])  "
      ],
      "execution_count": 26,
      "outputs": [
        {
          "output_type": "display_data",
          "data": {
            "text/html": [
              "<div>\n",
              "<style scoped>\n",
              "    .dataframe tbody tr th:only-of-type {\n",
              "        vertical-align: middle;\n",
              "    }\n",
              "\n",
              "    .dataframe tbody tr th {\n",
              "        vertical-align: top;\n",
              "    }\n",
              "\n",
              "    .dataframe thead th {\n",
              "        text-align: right;\n",
              "    }\n",
              "</style>\n",
              "<table border=\"1\" class=\"dataframe\">\n",
              "  <thead>\n",
              "    <tr style=\"text-align: right;\">\n",
              "      <th></th>\n",
              "      <th>Description</th>\n",
              "      <th>Value</th>\n",
              "    </tr>\n",
              "  </thead>\n",
              "  <tbody>\n",
              "    <tr>\n",
              "      <th>0</th>\n",
              "      <td>session_id</td>\n",
              "      <td>42</td>\n",
              "    </tr>\n",
              "    <tr>\n",
              "      <th>1</th>\n",
              "      <td>Target</td>\n",
              "      <td>PRICE</td>\n",
              "    </tr>\n",
              "    <tr>\n",
              "      <th>2</th>\n",
              "      <td>Original Data</td>\n",
              "      <td>(35369, 23)</td>\n",
              "    </tr>\n",
              "    <tr>\n",
              "      <th>3</th>\n",
              "      <td>Missing Values</td>\n",
              "      <td>False</td>\n",
              "    </tr>\n",
              "    <tr>\n",
              "      <th>4</th>\n",
              "      <td>Numeric Features</td>\n",
              "      <td>12</td>\n",
              "    </tr>\n",
              "    <tr>\n",
              "      <th>5</th>\n",
              "      <td>Categorical Features</td>\n",
              "      <td>9</td>\n",
              "    </tr>\n",
              "    <tr>\n",
              "      <th>6</th>\n",
              "      <td>Ordinal Features</td>\n",
              "      <td>False</td>\n",
              "    </tr>\n",
              "    <tr>\n",
              "      <th>7</th>\n",
              "      <td>High Cardinality Features</td>\n",
              "      <td>False</td>\n",
              "    </tr>\n",
              "    <tr>\n",
              "      <th>8</th>\n",
              "      <td>High Cardinality Method</td>\n",
              "      <td>None</td>\n",
              "    </tr>\n",
              "    <tr>\n",
              "      <th>9</th>\n",
              "      <td>Transformed Train Set</td>\n",
              "      <td>(24758, 141)</td>\n",
              "    </tr>\n",
              "    <tr>\n",
              "      <th>10</th>\n",
              "      <td>Transformed Test Set</td>\n",
              "      <td>(10611, 141)</td>\n",
              "    </tr>\n",
              "    <tr>\n",
              "      <th>11</th>\n",
              "      <td>Shuffle Train-Test</td>\n",
              "      <td>True</td>\n",
              "    </tr>\n",
              "    <tr>\n",
              "      <th>12</th>\n",
              "      <td>Stratify Train-Test</td>\n",
              "      <td>False</td>\n",
              "    </tr>\n",
              "    <tr>\n",
              "      <th>13</th>\n",
              "      <td>Fold Generator</td>\n",
              "      <td>KFold</td>\n",
              "    </tr>\n",
              "    <tr>\n",
              "      <th>14</th>\n",
              "      <td>Fold Number</td>\n",
              "      <td>10</td>\n",
              "    </tr>\n",
              "    <tr>\n",
              "      <th>15</th>\n",
              "      <td>CPU Jobs</td>\n",
              "      <td>-1</td>\n",
              "    </tr>\n",
              "    <tr>\n",
              "      <th>16</th>\n",
              "      <td>Use GPU</td>\n",
              "      <td>True</td>\n",
              "    </tr>\n",
              "    <tr>\n",
              "      <th>17</th>\n",
              "      <td>Log Experiment</td>\n",
              "      <td>False</td>\n",
              "    </tr>\n",
              "    <tr>\n",
              "      <th>18</th>\n",
              "      <td>Experiment Name</td>\n",
              "      <td>reg-default-name</td>\n",
              "    </tr>\n",
              "    <tr>\n",
              "      <th>19</th>\n",
              "      <td>USI</td>\n",
              "      <td>73da</td>\n",
              "    </tr>\n",
              "    <tr>\n",
              "      <th>20</th>\n",
              "      <td>Imputation Type</td>\n",
              "      <td>simple</td>\n",
              "    </tr>\n",
              "    <tr>\n",
              "      <th>21</th>\n",
              "      <td>Iterative Imputation Iteration</td>\n",
              "      <td>None</td>\n",
              "    </tr>\n",
              "    <tr>\n",
              "      <th>22</th>\n",
              "      <td>Numeric Imputer</td>\n",
              "      <td>mean</td>\n",
              "    </tr>\n",
              "    <tr>\n",
              "      <th>23</th>\n",
              "      <td>Iterative Imputation Numeric Model</td>\n",
              "      <td>None</td>\n",
              "    </tr>\n",
              "    <tr>\n",
              "      <th>24</th>\n",
              "      <td>Categorical Imputer</td>\n",
              "      <td>constant</td>\n",
              "    </tr>\n",
              "    <tr>\n",
              "      <th>25</th>\n",
              "      <td>Iterative Imputation Categorical Model</td>\n",
              "      <td>None</td>\n",
              "    </tr>\n",
              "    <tr>\n",
              "      <th>26</th>\n",
              "      <td>Unknown Categoricals Handling</td>\n",
              "      <td>least_frequent</td>\n",
              "    </tr>\n",
              "    <tr>\n",
              "      <th>27</th>\n",
              "      <td>Normalize</td>\n",
              "      <td>False</td>\n",
              "    </tr>\n",
              "    <tr>\n",
              "      <th>28</th>\n",
              "      <td>Normalize Method</td>\n",
              "      <td>None</td>\n",
              "    </tr>\n",
              "    <tr>\n",
              "      <th>29</th>\n",
              "      <td>Transformation</td>\n",
              "      <td>False</td>\n",
              "    </tr>\n",
              "    <tr>\n",
              "      <th>30</th>\n",
              "      <td>Transformation Method</td>\n",
              "      <td>None</td>\n",
              "    </tr>\n",
              "    <tr>\n",
              "      <th>31</th>\n",
              "      <td>PCA</td>\n",
              "      <td>False</td>\n",
              "    </tr>\n",
              "    <tr>\n",
              "      <th>32</th>\n",
              "      <td>PCA Method</td>\n",
              "      <td>None</td>\n",
              "    </tr>\n",
              "    <tr>\n",
              "      <th>33</th>\n",
              "      <td>PCA Components</td>\n",
              "      <td>None</td>\n",
              "    </tr>\n",
              "    <tr>\n",
              "      <th>34</th>\n",
              "      <td>Ignore Low Variance</td>\n",
              "      <td>False</td>\n",
              "    </tr>\n",
              "    <tr>\n",
              "      <th>35</th>\n",
              "      <td>Combine Rare Levels</td>\n",
              "      <td>False</td>\n",
              "    </tr>\n",
              "    <tr>\n",
              "      <th>36</th>\n",
              "      <td>Rare Level Threshold</td>\n",
              "      <td>None</td>\n",
              "    </tr>\n",
              "    <tr>\n",
              "      <th>37</th>\n",
              "      <td>Numeric Binning</td>\n",
              "      <td>False</td>\n",
              "    </tr>\n",
              "    <tr>\n",
              "      <th>38</th>\n",
              "      <td>Remove Outliers</td>\n",
              "      <td>False</td>\n",
              "    </tr>\n",
              "    <tr>\n",
              "      <th>39</th>\n",
              "      <td>Outliers Threshold</td>\n",
              "      <td>None</td>\n",
              "    </tr>\n",
              "    <tr>\n",
              "      <th>40</th>\n",
              "      <td>Remove Multicollinearity</td>\n",
              "      <td>False</td>\n",
              "    </tr>\n",
              "    <tr>\n",
              "      <th>41</th>\n",
              "      <td>Multicollinearity Threshold</td>\n",
              "      <td>None</td>\n",
              "    </tr>\n",
              "    <tr>\n",
              "      <th>42</th>\n",
              "      <td>Remove Perfect Collinearity</td>\n",
              "      <td>True</td>\n",
              "    </tr>\n",
              "    <tr>\n",
              "      <th>43</th>\n",
              "      <td>Clustering</td>\n",
              "      <td>False</td>\n",
              "    </tr>\n",
              "    <tr>\n",
              "      <th>44</th>\n",
              "      <td>Clustering Iteration</td>\n",
              "      <td>None</td>\n",
              "    </tr>\n",
              "    <tr>\n",
              "      <th>45</th>\n",
              "      <td>Polynomial Features</td>\n",
              "      <td>False</td>\n",
              "    </tr>\n",
              "    <tr>\n",
              "      <th>46</th>\n",
              "      <td>Polynomial Degree</td>\n",
              "      <td>None</td>\n",
              "    </tr>\n",
              "    <tr>\n",
              "      <th>47</th>\n",
              "      <td>Trignometry Features</td>\n",
              "      <td>False</td>\n",
              "    </tr>\n",
              "    <tr>\n",
              "      <th>48</th>\n",
              "      <td>Polynomial Threshold</td>\n",
              "      <td>None</td>\n",
              "    </tr>\n",
              "    <tr>\n",
              "      <th>49</th>\n",
              "      <td>Group Features</td>\n",
              "      <td>False</td>\n",
              "    </tr>\n",
              "    <tr>\n",
              "      <th>50</th>\n",
              "      <td>Feature Selection</td>\n",
              "      <td>False</td>\n",
              "    </tr>\n",
              "    <tr>\n",
              "      <th>51</th>\n",
              "      <td>Feature Selection Method</td>\n",
              "      <td>classic</td>\n",
              "    </tr>\n",
              "    <tr>\n",
              "      <th>52</th>\n",
              "      <td>Features Selection Threshold</td>\n",
              "      <td>None</td>\n",
              "    </tr>\n",
              "    <tr>\n",
              "      <th>53</th>\n",
              "      <td>Feature Interaction</td>\n",
              "      <td>False</td>\n",
              "    </tr>\n",
              "    <tr>\n",
              "      <th>54</th>\n",
              "      <td>Feature Ratio</td>\n",
              "      <td>False</td>\n",
              "    </tr>\n",
              "    <tr>\n",
              "      <th>55</th>\n",
              "      <td>Interaction Threshold</td>\n",
              "      <td>None</td>\n",
              "    </tr>\n",
              "    <tr>\n",
              "      <th>56</th>\n",
              "      <td>Transform Target</td>\n",
              "      <td>False</td>\n",
              "    </tr>\n",
              "    <tr>\n",
              "      <th>57</th>\n",
              "      <td>Transform Target Method</td>\n",
              "      <td>box-cox</td>\n",
              "    </tr>\n",
              "  </tbody>\n",
              "</table>\n",
              "</div>"
            ],
            "text/plain": [
              "                               Description             Value\n",
              "0                               session_id                42\n",
              "1                                   Target             PRICE\n",
              "2                            Original Data       (35369, 23)\n",
              "3                           Missing Values             False\n",
              "4                         Numeric Features                12\n",
              "5                     Categorical Features                 9\n",
              "6                         Ordinal Features             False\n",
              "7                High Cardinality Features             False\n",
              "8                  High Cardinality Method              None\n",
              "9                    Transformed Train Set      (24758, 141)\n",
              "10                    Transformed Test Set      (10611, 141)\n",
              "11                      Shuffle Train-Test              True\n",
              "12                     Stratify Train-Test             False\n",
              "13                          Fold Generator             KFold\n",
              "14                             Fold Number                10\n",
              "15                                CPU Jobs                -1\n",
              "16                                 Use GPU              True\n",
              "17                          Log Experiment             False\n",
              "18                         Experiment Name  reg-default-name\n",
              "19                                     USI              73da\n",
              "20                         Imputation Type            simple\n",
              "21          Iterative Imputation Iteration              None\n",
              "22                         Numeric Imputer              mean\n",
              "23      Iterative Imputation Numeric Model              None\n",
              "24                     Categorical Imputer          constant\n",
              "25  Iterative Imputation Categorical Model              None\n",
              "26           Unknown Categoricals Handling    least_frequent\n",
              "27                               Normalize             False\n",
              "28                        Normalize Method              None\n",
              "29                          Transformation             False\n",
              "30                   Transformation Method              None\n",
              "31                                     PCA             False\n",
              "32                              PCA Method              None\n",
              "33                          PCA Components              None\n",
              "34                     Ignore Low Variance             False\n",
              "35                     Combine Rare Levels             False\n",
              "36                    Rare Level Threshold              None\n",
              "37                         Numeric Binning             False\n",
              "38                         Remove Outliers             False\n",
              "39                      Outliers Threshold              None\n",
              "40                Remove Multicollinearity             False\n",
              "41             Multicollinearity Threshold              None\n",
              "42             Remove Perfect Collinearity              True\n",
              "43                              Clustering             False\n",
              "44                    Clustering Iteration              None\n",
              "45                     Polynomial Features             False\n",
              "46                       Polynomial Degree              None\n",
              "47                    Trignometry Features             False\n",
              "48                    Polynomial Threshold              None\n",
              "49                          Group Features             False\n",
              "50                       Feature Selection             False\n",
              "51                Feature Selection Method           classic\n",
              "52            Features Selection Threshold              None\n",
              "53                     Feature Interaction             False\n",
              "54                           Feature Ratio             False\n",
              "55                   Interaction Threshold              None\n",
              "56                        Transform Target             False\n",
              "57                 Transform Target Method           box-cox"
            ]
          },
          "metadata": {
            "tags": []
          }
        }
      ]
    },
    {
      "cell_type": "markdown",
      "metadata": {
        "id": "PeojOSLO5Ltf"
      },
      "source": [
        "## Train Models Using Exactly Same Setup and Same Random State"
      ]
    },
    {
      "cell_type": "code",
      "metadata": {
        "colab": {
          "base_uri": "https://localhost:8080/",
          "height": 416,
          "referenced_widgets": [
            "0358bf0a86df4e3a8c9be096a896eb42",
            "44ada30ed6324b649b13e554a9635521",
            "75828170b5694e05b5f6ac4cad78042d"
          ]
        },
        "id": "WGOSP93O47H2",
        "outputId": "51020521-5e9c-4913-bcc3-51c25590e5f0"
      },
      "source": [
        "catboost_low = reg.create_model('catboost', loss_function='Quantile:alpha=0.025', random_state=42)"
      ],
      "execution_count": 30,
      "outputs": [
        {
          "output_type": "display_data",
          "data": {
            "text/html": [
              "<div>\n",
              "<style scoped>\n",
              "    .dataframe tbody tr th:only-of-type {\n",
              "        vertical-align: middle;\n",
              "    }\n",
              "\n",
              "    .dataframe tbody tr th {\n",
              "        vertical-align: top;\n",
              "    }\n",
              "\n",
              "    .dataframe thead th {\n",
              "        text-align: right;\n",
              "    }\n",
              "</style>\n",
              "<table border=\"1\" class=\"dataframe\">\n",
              "  <thead>\n",
              "    <tr style=\"text-align: right;\">\n",
              "      <th></th>\n",
              "      <th>MAE</th>\n",
              "      <th>MSE</th>\n",
              "      <th>RMSE</th>\n",
              "      <th>R2</th>\n",
              "      <th>RMSLE</th>\n",
              "      <th>MAPE</th>\n",
              "    </tr>\n",
              "  </thead>\n",
              "  <tbody>\n",
              "    <tr>\n",
              "      <th>0</th>\n",
              "      <td>224847.6139</td>\n",
              "      <td>1.540414e+11</td>\n",
              "      <td>392481.1421</td>\n",
              "      <td>0.3768</td>\n",
              "      <td>0.5543</td>\n",
              "      <td>0.6250</td>\n",
              "    </tr>\n",
              "    <tr>\n",
              "      <th>1</th>\n",
              "      <td>215721.7982</td>\n",
              "      <td>1.921068e+11</td>\n",
              "      <td>438299.8901</td>\n",
              "      <td>0.3407</td>\n",
              "      <td>0.5261</td>\n",
              "      <td>0.3520</td>\n",
              "    </tr>\n",
              "    <tr>\n",
              "      <th>2</th>\n",
              "      <td>229863.4419</td>\n",
              "      <td>2.355572e+11</td>\n",
              "      <td>485342.3642</td>\n",
              "      <td>0.4462</td>\n",
              "      <td>0.5372</td>\n",
              "      <td>0.3565</td>\n",
              "    </tr>\n",
              "    <tr>\n",
              "      <th>3</th>\n",
              "      <td>219736.3765</td>\n",
              "      <td>1.515098e+11</td>\n",
              "      <td>389242.6140</td>\n",
              "      <td>0.3780</td>\n",
              "      <td>0.5223</td>\n",
              "      <td>0.3477</td>\n",
              "    </tr>\n",
              "    <tr>\n",
              "      <th>4</th>\n",
              "      <td>232075.2958</td>\n",
              "      <td>3.493963e+11</td>\n",
              "      <td>591097.5102</td>\n",
              "      <td>0.2526</td>\n",
              "      <td>0.5322</td>\n",
              "      <td>0.3531</td>\n",
              "    </tr>\n",
              "    <tr>\n",
              "      <th>5</th>\n",
              "      <td>228773.2655</td>\n",
              "      <td>1.642845e+11</td>\n",
              "      <td>405320.2069</td>\n",
              "      <td>0.4015</td>\n",
              "      <td>0.5382</td>\n",
              "      <td>0.3617</td>\n",
              "    </tr>\n",
              "    <tr>\n",
              "      <th>6</th>\n",
              "      <td>227617.2579</td>\n",
              "      <td>1.733518e+11</td>\n",
              "      <td>416355.3198</td>\n",
              "      <td>0.4076</td>\n",
              "      <td>0.5335</td>\n",
              "      <td>0.3630</td>\n",
              "    </tr>\n",
              "    <tr>\n",
              "      <th>7</th>\n",
              "      <td>226493.9288</td>\n",
              "      <td>1.508038e+11</td>\n",
              "      <td>388334.7024</td>\n",
              "      <td>0.3739</td>\n",
              "      <td>0.5282</td>\n",
              "      <td>0.3539</td>\n",
              "    </tr>\n",
              "    <tr>\n",
              "      <th>8</th>\n",
              "      <td>221889.7177</td>\n",
              "      <td>1.494502e+11</td>\n",
              "      <td>386587.8367</td>\n",
              "      <td>0.4030</td>\n",
              "      <td>0.5312</td>\n",
              "      <td>0.3611</td>\n",
              "    </tr>\n",
              "    <tr>\n",
              "      <th>9</th>\n",
              "      <td>239718.9926</td>\n",
              "      <td>2.174977e+11</td>\n",
              "      <td>466366.4772</td>\n",
              "      <td>0.3611</td>\n",
              "      <td>0.5417</td>\n",
              "      <td>0.3756</td>\n",
              "    </tr>\n",
              "    <tr>\n",
              "      <th>Mean</th>\n",
              "      <td>226673.7689</td>\n",
              "      <td>1.937999e+11</td>\n",
              "      <td>435942.8064</td>\n",
              "      <td>0.3741</td>\n",
              "      <td>0.5345</td>\n",
              "      <td>0.3850</td>\n",
              "    </tr>\n",
              "    <tr>\n",
              "      <th>SD</th>\n",
              "      <td>6396.5134</td>\n",
              "      <td>5.915436e+10</td>\n",
              "      <td>61268.3736</td>\n",
              "      <td>0.0489</td>\n",
              "      <td>0.0086</td>\n",
              "      <td>0.0804</td>\n",
              "    </tr>\n",
              "  </tbody>\n",
              "</table>\n",
              "</div>"
            ],
            "text/plain": [
              "              MAE           MSE         RMSE      R2   RMSLE    MAPE\n",
              "0     224847.6139  1.540414e+11  392481.1421  0.3768  0.5543  0.6250\n",
              "1     215721.7982  1.921068e+11  438299.8901  0.3407  0.5261  0.3520\n",
              "2     229863.4419  2.355572e+11  485342.3642  0.4462  0.5372  0.3565\n",
              "3     219736.3765  1.515098e+11  389242.6140  0.3780  0.5223  0.3477\n",
              "4     232075.2958  3.493963e+11  591097.5102  0.2526  0.5322  0.3531\n",
              "5     228773.2655  1.642845e+11  405320.2069  0.4015  0.5382  0.3617\n",
              "6     227617.2579  1.733518e+11  416355.3198  0.4076  0.5335  0.3630\n",
              "7     226493.9288  1.508038e+11  388334.7024  0.3739  0.5282  0.3539\n",
              "8     221889.7177  1.494502e+11  386587.8367  0.4030  0.5312  0.3611\n",
              "9     239718.9926  2.174977e+11  466366.4772  0.3611  0.5417  0.3756\n",
              "Mean  226673.7689  1.937999e+11  435942.8064  0.3741  0.5345  0.3850\n",
              "SD      6396.5134  5.915436e+10   61268.3736  0.0489  0.0086  0.0804"
            ]
          },
          "metadata": {
            "tags": []
          }
        }
      ]
    },
    {
      "cell_type": "code",
      "metadata": {
        "colab": {
          "base_uri": "https://localhost:8080/",
          "height": 416,
          "referenced_widgets": [
            "5daea3170c7a4aee9957e614c1acf261",
            "aa72e3fc7df54fa6b646f954b7765701",
            "ccb893bbcd39470b9b02e60cef0f3136"
          ]
        },
        "id": "yNXxTX6I5Qau",
        "outputId": "b7bcb1a9-6ecf-44bf-bc33-474dee5d5ea5"
      },
      "source": [
        "catboost_mid = reg.create_model('catboost', loss_function='Quantile:alpha=0.5', random_state=42)"
      ],
      "execution_count": 31,
      "outputs": [
        {
          "output_type": "display_data",
          "data": {
            "text/html": [
              "<div>\n",
              "<style scoped>\n",
              "    .dataframe tbody tr th:only-of-type {\n",
              "        vertical-align: middle;\n",
              "    }\n",
              "\n",
              "    .dataframe tbody tr th {\n",
              "        vertical-align: top;\n",
              "    }\n",
              "\n",
              "    .dataframe thead th {\n",
              "        text-align: right;\n",
              "    }\n",
              "</style>\n",
              "<table border=\"1\" class=\"dataframe\">\n",
              "  <thead>\n",
              "    <tr style=\"text-align: right;\">\n",
              "      <th></th>\n",
              "      <th>MAE</th>\n",
              "      <th>MSE</th>\n",
              "      <th>RMSE</th>\n",
              "      <th>R2</th>\n",
              "      <th>RMSLE</th>\n",
              "      <th>MAPE</th>\n",
              "    </tr>\n",
              "  </thead>\n",
              "  <tbody>\n",
              "    <tr>\n",
              "      <th>0</th>\n",
              "      <td>72752.9791</td>\n",
              "      <td>1.851636e+10</td>\n",
              "      <td>136074.8465</td>\n",
              "      <td>0.9251</td>\n",
              "      <td>0.2716</td>\n",
              "      <td>0.6727</td>\n",
              "    </tr>\n",
              "    <tr>\n",
              "      <th>1</th>\n",
              "      <td>75910.7106</td>\n",
              "      <td>5.380139e+10</td>\n",
              "      <td>231951.2742</td>\n",
              "      <td>0.8154</td>\n",
              "      <td>0.2142</td>\n",
              "      <td>0.1584</td>\n",
              "    </tr>\n",
              "    <tr>\n",
              "      <th>2</th>\n",
              "      <td>84728.2727</td>\n",
              "      <td>1.090893e+11</td>\n",
              "      <td>330286.7184</td>\n",
              "      <td>0.7435</td>\n",
              "      <td>0.2150</td>\n",
              "      <td>0.1595</td>\n",
              "    </tr>\n",
              "    <tr>\n",
              "      <th>3</th>\n",
              "      <td>77453.8653</td>\n",
              "      <td>2.178036e+10</td>\n",
              "      <td>147581.6954</td>\n",
              "      <td>0.9106</td>\n",
              "      <td>0.2110</td>\n",
              "      <td>0.1589</td>\n",
              "    </tr>\n",
              "    <tr>\n",
              "      <th>4</th>\n",
              "      <td>81339.8690</td>\n",
              "      <td>1.404777e+11</td>\n",
              "      <td>374803.5504</td>\n",
              "      <td>0.6995</td>\n",
              "      <td>0.2004</td>\n",
              "      <td>0.1509</td>\n",
              "    </tr>\n",
              "    <tr>\n",
              "      <th>5</th>\n",
              "      <td>74279.6075</td>\n",
              "      <td>1.874290e+10</td>\n",
              "      <td>136904.7183</td>\n",
              "      <td>0.9317</td>\n",
              "      <td>0.2090</td>\n",
              "      <td>0.1560</td>\n",
              "    </tr>\n",
              "    <tr>\n",
              "      <th>6</th>\n",
              "      <td>79276.3331</td>\n",
              "      <td>3.427764e+10</td>\n",
              "      <td>185142.2030</td>\n",
              "      <td>0.8829</td>\n",
              "      <td>0.2218</td>\n",
              "      <td>0.1633</td>\n",
              "    </tr>\n",
              "    <tr>\n",
              "      <th>7</th>\n",
              "      <td>75503.9555</td>\n",
              "      <td>2.316043e+10</td>\n",
              "      <td>152185.4997</td>\n",
              "      <td>0.9038</td>\n",
              "      <td>0.2164</td>\n",
              "      <td>0.1581</td>\n",
              "    </tr>\n",
              "    <tr>\n",
              "      <th>8</th>\n",
              "      <td>74836.7785</td>\n",
              "      <td>2.344902e+10</td>\n",
              "      <td>153130.7143</td>\n",
              "      <td>0.9063</td>\n",
              "      <td>0.2180</td>\n",
              "      <td>0.1631</td>\n",
              "    </tr>\n",
              "    <tr>\n",
              "      <th>9</th>\n",
              "      <td>82660.4457</td>\n",
              "      <td>4.590418e+10</td>\n",
              "      <td>214252.6082</td>\n",
              "      <td>0.8651</td>\n",
              "      <td>0.2194</td>\n",
              "      <td>0.1648</td>\n",
              "    </tr>\n",
              "    <tr>\n",
              "      <th>Mean</th>\n",
              "      <td>77874.2817</td>\n",
              "      <td>4.891993e+10</td>\n",
              "      <td>206231.3828</td>\n",
              "      <td>0.8584</td>\n",
              "      <td>0.2197</td>\n",
              "      <td>0.2106</td>\n",
              "    </tr>\n",
              "    <tr>\n",
              "      <th>SD</th>\n",
              "      <td>3766.7925</td>\n",
              "      <td>4.016766e+10</td>\n",
              "      <td>79928.3796</td>\n",
              "      <td>0.0761</td>\n",
              "      <td>0.0182</td>\n",
              "      <td>0.1541</td>\n",
              "    </tr>\n",
              "  </tbody>\n",
              "</table>\n",
              "</div>"
            ],
            "text/plain": [
              "             MAE           MSE         RMSE      R2   RMSLE    MAPE\n",
              "0     72752.9791  1.851636e+10  136074.8465  0.9251  0.2716  0.6727\n",
              "1     75910.7106  5.380139e+10  231951.2742  0.8154  0.2142  0.1584\n",
              "2     84728.2727  1.090893e+11  330286.7184  0.7435  0.2150  0.1595\n",
              "3     77453.8653  2.178036e+10  147581.6954  0.9106  0.2110  0.1589\n",
              "4     81339.8690  1.404777e+11  374803.5504  0.6995  0.2004  0.1509\n",
              "5     74279.6075  1.874290e+10  136904.7183  0.9317  0.2090  0.1560\n",
              "6     79276.3331  3.427764e+10  185142.2030  0.8829  0.2218  0.1633\n",
              "7     75503.9555  2.316043e+10  152185.4997  0.9038  0.2164  0.1581\n",
              "8     74836.7785  2.344902e+10  153130.7143  0.9063  0.2180  0.1631\n",
              "9     82660.4457  4.590418e+10  214252.6082  0.8651  0.2194  0.1648\n",
              "Mean  77874.2817  4.891993e+10  206231.3828  0.8584  0.2197  0.2106\n",
              "SD     3766.7925  4.016766e+10   79928.3796  0.0761  0.0182  0.1541"
            ]
          },
          "metadata": {
            "tags": []
          }
        }
      ]
    },
    {
      "cell_type": "code",
      "metadata": {
        "colab": {
          "base_uri": "https://localhost:8080/",
          "height": 416,
          "referenced_widgets": [
            "36505c8f47334585b39919ffbfc43440",
            "e20642a13db44028b2f21e8bbdeeafef",
            "1a9568b51c1e4d15a815a15e2c83d4b4"
          ]
        },
        "id": "IP6dx1A06qE4",
        "outputId": "bb28bd46-728a-4a0c-eab5-45636fce5e84"
      },
      "source": [
        "catboost_high = reg.create_model('catboost', loss_function='Quantile:alpha=0.975', random_state=42)"
      ],
      "execution_count": 32,
      "outputs": [
        {
          "output_type": "display_data",
          "data": {
            "text/html": [
              "<div>\n",
              "<style scoped>\n",
              "    .dataframe tbody tr th:only-of-type {\n",
              "        vertical-align: middle;\n",
              "    }\n",
              "\n",
              "    .dataframe tbody tr th {\n",
              "        vertical-align: top;\n",
              "    }\n",
              "\n",
              "    .dataframe thead th {\n",
              "        text-align: right;\n",
              "    }\n",
              "</style>\n",
              "<table border=\"1\" class=\"dataframe\">\n",
              "  <thead>\n",
              "    <tr style=\"text-align: right;\">\n",
              "      <th></th>\n",
              "      <th>MAE</th>\n",
              "      <th>MSE</th>\n",
              "      <th>RMSE</th>\n",
              "      <th>R2</th>\n",
              "      <th>RMSLE</th>\n",
              "      <th>MAPE</th>\n",
              "    </tr>\n",
              "  </thead>\n",
              "  <tbody>\n",
              "    <tr>\n",
              "      <th>0</th>\n",
              "      <td>235529.5193</td>\n",
              "      <td>1.178819e+11</td>\n",
              "      <td>343339.3204</td>\n",
              "      <td>0.5231</td>\n",
              "      <td>0.5383</td>\n",
              "      <td>1.5170</td>\n",
              "    </tr>\n",
              "    <tr>\n",
              "      <th>1</th>\n",
              "      <td>230078.5825</td>\n",
              "      <td>1.269160e+11</td>\n",
              "      <td>356252.7181</td>\n",
              "      <td>0.5645</td>\n",
              "      <td>0.4935</td>\n",
              "      <td>0.5718</td>\n",
              "    </tr>\n",
              "    <tr>\n",
              "      <th>2</th>\n",
              "      <td>244747.9922</td>\n",
              "      <td>1.717645e+11</td>\n",
              "      <td>414444.8407</td>\n",
              "      <td>0.5962</td>\n",
              "      <td>0.5163</td>\n",
              "      <td>0.6074</td>\n",
              "    </tr>\n",
              "    <tr>\n",
              "      <th>3</th>\n",
              "      <td>243183.3477</td>\n",
              "      <td>1.217600e+11</td>\n",
              "      <td>348941.2422</td>\n",
              "      <td>0.5002</td>\n",
              "      <td>0.5144</td>\n",
              "      <td>0.6062</td>\n",
              "    </tr>\n",
              "    <tr>\n",
              "      <th>4</th>\n",
              "      <td>245894.0007</td>\n",
              "      <td>2.323012e+11</td>\n",
              "      <td>481976.3454</td>\n",
              "      <td>0.5031</td>\n",
              "      <td>0.5103</td>\n",
              "      <td>0.6005</td>\n",
              "    </tr>\n",
              "    <tr>\n",
              "      <th>5</th>\n",
              "      <td>244622.0062</td>\n",
              "      <td>1.420581e+11</td>\n",
              "      <td>376905.9223</td>\n",
              "      <td>0.4825</td>\n",
              "      <td>0.5108</td>\n",
              "      <td>0.6016</td>\n",
              "    </tr>\n",
              "    <tr>\n",
              "      <th>6</th>\n",
              "      <td>238031.7253</td>\n",
              "      <td>1.231032e+11</td>\n",
              "      <td>350860.5968</td>\n",
              "      <td>0.5793</td>\n",
              "      <td>0.5036</td>\n",
              "      <td>0.5893</td>\n",
              "    </tr>\n",
              "    <tr>\n",
              "      <th>7</th>\n",
              "      <td>254897.2189</td>\n",
              "      <td>1.433785e+11</td>\n",
              "      <td>378653.5239</td>\n",
              "      <td>0.4047</td>\n",
              "      <td>0.5334</td>\n",
              "      <td>0.6367</td>\n",
              "    </tr>\n",
              "    <tr>\n",
              "      <th>8</th>\n",
              "      <td>239640.3796</td>\n",
              "      <td>1.395277e+11</td>\n",
              "      <td>373534.0672</td>\n",
              "      <td>0.4426</td>\n",
              "      <td>0.5114</td>\n",
              "      <td>0.6123</td>\n",
              "    </tr>\n",
              "    <tr>\n",
              "      <th>9</th>\n",
              "      <td>249575.9975</td>\n",
              "      <td>1.378746e+11</td>\n",
              "      <td>371314.6808</td>\n",
              "      <td>0.5950</td>\n",
              "      <td>0.5164</td>\n",
              "      <td>0.6159</td>\n",
              "    </tr>\n",
              "    <tr>\n",
              "      <th>Mean</th>\n",
              "      <td>242620.0770</td>\n",
              "      <td>1.456566e+11</td>\n",
              "      <td>379622.3258</td>\n",
              "      <td>0.5191</td>\n",
              "      <td>0.5148</td>\n",
              "      <td>0.6959</td>\n",
              "    </tr>\n",
              "    <tr>\n",
              "      <th>SD</th>\n",
              "      <td>6754.1195</td>\n",
              "      <td>3.241531e+10</td>\n",
              "      <td>39286.7855</td>\n",
              "      <td>0.0619</td>\n",
              "      <td>0.0124</td>\n",
              "      <td>0.2742</td>\n",
              "    </tr>\n",
              "  </tbody>\n",
              "</table>\n",
              "</div>"
            ],
            "text/plain": [
              "              MAE           MSE         RMSE      R2   RMSLE    MAPE\n",
              "0     235529.5193  1.178819e+11  343339.3204  0.5231  0.5383  1.5170\n",
              "1     230078.5825  1.269160e+11  356252.7181  0.5645  0.4935  0.5718\n",
              "2     244747.9922  1.717645e+11  414444.8407  0.5962  0.5163  0.6074\n",
              "3     243183.3477  1.217600e+11  348941.2422  0.5002  0.5144  0.6062\n",
              "4     245894.0007  2.323012e+11  481976.3454  0.5031  0.5103  0.6005\n",
              "5     244622.0062  1.420581e+11  376905.9223  0.4825  0.5108  0.6016\n",
              "6     238031.7253  1.231032e+11  350860.5968  0.5793  0.5036  0.5893\n",
              "7     254897.2189  1.433785e+11  378653.5239  0.4047  0.5334  0.6367\n",
              "8     239640.3796  1.395277e+11  373534.0672  0.4426  0.5114  0.6123\n",
              "9     249575.9975  1.378746e+11  371314.6808  0.5950  0.5164  0.6159\n",
              "Mean  242620.0770  1.456566e+11  379622.3258  0.5191  0.5148  0.6959\n",
              "SD      6754.1195  3.241531e+10   39286.7855  0.0619  0.0124  0.2742"
            ]
          },
          "metadata": {
            "tags": []
          }
        }
      ]
    },
    {
      "cell_type": "markdown",
      "metadata": {
        "id": "viwy2vrv7auj"
      },
      "source": [
        "## Predictions on Unseen Data (Skip Finalize Model)"
      ]
    },
    {
      "cell_type": "code",
      "metadata": {
        "id": "jLu2spEn7diZ"
      },
      "source": [
        "data_unseen_features = test.drop('PRICE', axis=1)\n",
        "data_unseen_target = test['PRICE']"
      ],
      "execution_count": 33,
      "outputs": []
    },
    {
      "cell_type": "code",
      "metadata": {
        "id": "MqycQzZ97wmS"
      },
      "source": [
        "predictions_low = reg.predict_model(catboost_low, data=data_unseen_features)\n",
        "predictions_mid = reg.predict_model(catboost_mid, data=data_unseen_features)\n",
        "predictions_high = reg.predict_model(catboost_high, data=data_unseen_features)"
      ],
      "execution_count": 35,
      "outputs": []
    },
    {
      "cell_type": "code",
      "metadata": {
        "colab": {
          "base_uri": "https://localhost:8080/"
        },
        "id": "Qlyo4OQN75pr",
        "outputId": "4c69e044-b7cb-4869-c09c-d81bfff4628c"
      },
      "source": [
        "predictions_low['Label'].describe()"
      ],
      "execution_count": 39,
      "outputs": [
        {
          "output_type": "execute_result",
          "data": {
            "text/plain": [
              "count    1.043500e+04\n",
              "mean     4.764291e+05\n",
              "std      2.529189e+05\n",
              "min      6.771662e+04\n",
              "25%      2.852796e+05\n",
              "50%      4.253855e+05\n",
              "75%      6.135230e+05\n",
              "max      3.009498e+06\n",
              "Name: Label, dtype: float64"
            ]
          },
          "metadata": {
            "tags": []
          },
          "execution_count": 39
        }
      ]
    },
    {
      "cell_type": "code",
      "metadata": {
        "colab": {
          "base_uri": "https://localhost:8080/"
        },
        "id": "b0C1Tqib7__v",
        "outputId": "c8ac0931-caa4-4ad1-a361-f75907d828d0"
      },
      "source": [
        "predictions_mid['Label'].describe()"
      ],
      "execution_count": 40,
      "outputs": [
        {
          "output_type": "execute_result",
          "data": {
            "text/plain": [
              "count    1.043500e+04\n",
              "mean     7.479521e+05\n",
              "std      5.256905e+05\n",
              "min      1.386231e+05\n",
              "25%      4.134811e+05\n",
              "50%      6.389574e+05\n",
              "75%      9.048996e+05\n",
              "max      6.657032e+06\n",
              "Name: Label, dtype: float64"
            ]
          },
          "metadata": {
            "tags": []
          },
          "execution_count": 40
        }
      ]
    },
    {
      "cell_type": "code",
      "metadata": {
        "colab": {
          "base_uri": "https://localhost:8080/"
        },
        "id": "j_8OzQKv8GAW",
        "outputId": "fe13d253-c2a5-409b-ff60-0354a8963a68"
      },
      "source": [
        "predictions_high['Label'].describe()"
      ],
      "execution_count": 41,
      "outputs": [
        {
          "output_type": "execute_result",
          "data": {
            "text/plain": [
              "count    1.043500e+04\n",
              "mean     1.026438e+06\n",
              "std      7.193845e+05\n",
              "min      2.901156e+05\n",
              "25%      6.140511e+05\n",
              "50%      8.671584e+05\n",
              "75%      1.176592e+06\n",
              "max      1.084488e+07\n",
              "Name: Label, dtype: float64"
            ]
          },
          "metadata": {
            "tags": []
          },
          "execution_count": 41
        }
      ]
    },
    {
      "cell_type": "markdown",
      "metadata": {
        "id": "fl7VC64D8OS7"
      },
      "source": [
        "## Check Invalid Predictions"
      ]
    },
    {
      "cell_type": "code",
      "metadata": {
        "colab": {
          "base_uri": "https://localhost:8080/"
        },
        "id": "NcZq0gw_8JcF",
        "outputId": "98996207-0481-421b-cb32-a0b45d516e3a"
      },
      "source": [
        "mid_low = predictions_mid['Label'] - predictions_low['Label']\n",
        "mid_low[mid_low < 0]"
      ],
      "execution_count": 42,
      "outputs": [
        {
          "output_type": "execute_result",
          "data": {
            "text/plain": [
              "3955     -34757.116501\n",
              "4490     -94774.445127\n",
              "4857     -37678.705031\n",
              "5214    -341757.319510\n",
              "5325    -135464.713922\n",
              "             ...      \n",
              "17305    -70765.645440\n",
              "17306   -120973.734946\n",
              "17307    -93930.421431\n",
              "17430   -140449.667476\n",
              "17431   -133993.514317\n",
              "Name: Label, Length: 223, dtype: float64"
            ]
          },
          "metadata": {
            "tags": []
          },
          "execution_count": 42
        }
      ]
    },
    {
      "cell_type": "code",
      "metadata": {
        "colab": {
          "base_uri": "https://localhost:8080/"
        },
        "id": "gjHqK3De8YaI",
        "outputId": "20bfbbee-9b43-41a2-f3b6-39d03dd5a2a6"
      },
      "source": [
        "high_low = predictions_high['Label'] - predictions_low['Label']\n",
        "high_low[high_low < 0]"
      ],
      "execution_count": 43,
      "outputs": [
        {
          "output_type": "execute_result",
          "data": {
            "text/plain": [
              "10279   -144308.024237\n",
              "10340    -12033.022448\n",
              "11653    -16608.034537\n",
              "11654    -30604.922050\n",
              "11659    -28880.483536\n",
              "15113    -35290.730512\n",
              "15629   -735097.841814\n",
              "16153    -38863.569093\n",
              "16205    -20719.100908\n",
              "16318    -27727.134445\n",
              "16319    -12963.819634\n",
              "17028     -9441.859949\n",
              "17050    -21436.957463\n",
              "Name: Label, dtype: float64"
            ]
          },
          "metadata": {
            "tags": []
          },
          "execution_count": 43
        }
      ]
    }
  ]
}