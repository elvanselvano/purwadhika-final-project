{
  "nbformat": 4,
  "nbformat_minor": 0,
  "metadata": {
    "colab": {
      "name": "01_problem_statement.ipynb",
      "provenance": []
    },
    "kernelspec": {
      "name": "python3",
      "display_name": "Python 3"
    },
    "language_info": {
      "name": "python"
    }
  },
  "cells": [
    {
      "cell_type": "markdown",
      "metadata": {
        "id": "E164p8a_7x_G"
      },
      "source": [
        "# Problem Statement\n",
        "\n",
        "**Context**\n",
        "\n",
        "The housing market is one of the most crucial components of any national economy.\n",
        "Hence, observations of the housing market and accurate predictions of real estate prices are\n",
        "helpful for real estate buyers and sellers as well as economic specialists. It is crucial for the establishment of real estate policies and can\n",
        "help real estate owners and agents make informative decision. However, real estate forecasting\n",
        "is a complicated and difficult task owing to many direct and indirect factors that inevitably influence\n",
        "the accuracy of predictions.\n",
        "\n",
        "The aim of this project is to employ\n",
        "actual transaction data and machine learning models to predict prices of housing in Washington, D.C., which is the capital of the United States. The actual\n",
        "transaction data contain attributes and transaction prices of real estate that respectively serve as\n",
        "independent variables and dependent variables for machine learning models.\n",
        "\n",
        "**Business Objective**\n",
        "\n",
        "The objective of this project is to predict the house of a price in order to help both buyers and sellers to find or determine the best housing price without underpricing or overpricing.\n",
        "\n",
        "**Output**\n",
        "\n",
        "The output of this project is the predicted price of a house given its features such as: number of rooms, land area, etc.\n",
        "\n",
        "**Machine Learning Task**\n",
        "\n",
        "This project will use supervised machine learning because in the dataset, the price of the house is already given. By using the price data, we can try to predict the unseen data by using the data that we already have.\n",
        "\n",
        "**Performance Measure**\n",
        "\n",
        "In order to measure the performance of the regression model, we use the following metrics: Mean Absolute Error (MAE), Mean Squared Error (MSE), Root Mean Squared Error (RMSE), and R2 Score.\n",
        "\n",
        "**Acknowledgements**\n",
        "\n",
        "This project uses an open source dataset, which include 48 explanatory features and 158,957 entries of housing sales in Washington, D.C from 1947 to  2018. The data is available at [Open Data D.C.](https://opendata.dc.gov/) and the residential and address point data is managed by the [Office of the Chief Technology Officer](https://octo.dc.gov/)."
      ]
    }
  ]
}