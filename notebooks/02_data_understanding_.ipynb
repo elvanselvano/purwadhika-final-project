{
    "cells": [
        {
            "cell_type": "markdown",
            "source": [
                "# Data Understanding"
            ],
            "metadata": {}
        },
        {
            "cell_type": "markdown",
            "source": [
                "## Data Source"
            ],
            "metadata": {}
        },
        {
            "cell_type": "markdown",
            "source": [
                "All data is available at **[Open Data D.C..](https://opendata.dc.gov/)**. The residential and address point data is managed by the **[Office of the Chief Technology Officer](https://octo.dc.gov)**"
            ],
            "metadata": {}
        },
        {
            "cell_type": "markdown",
            "source": [
                "## Data Overview"
            ],
            "metadata": {}
        },
        {
            "cell_type": "markdown",
            "source": [
                "|     Dataset   Statistics               |     Count         |     Variable   Types    |     Count    |\r\n",
                "|----------------------------------------|-------------------|-------------------------|--------------|\r\n",
                "|     Number   of variables              |     49            |     Numeric             |     25       |\r\n",
                "|     Number   of observations           |     158957        |     Categorical         |     23       |\r\n",
                "|     Missing   cells                    |     1251928       |     Unsupported         |     1        |\r\n",
                "|     Missing   cells (%)                |     16.1   %      |                         |              |\r\n",
                "|     Duplicate   rows                   |     0             |                         |              |\r\n",
                "|     Duplicate   rows (%)               |     0.0   %       |                         |              |\r\n",
                "|     Total   size in memory             |     59.5   MiB    |                         |              |\r\n",
                "|     Average   record size in memory    |     392.0   B     |                         |              |"
            ],
            "metadata": {}
        },
        {
            "cell_type": "markdown",
            "source": [
                "## Columns Explanation"
            ],
            "metadata": {}
        },
        {
            "cell_type": "markdown",
            "source": [
                "|     No    |     Feature               |     Data Type    |     Zeros     (%)    |     Null (%)    |     Distinct (%)    |     Description                                                                                                                         |\r\n",
                "|-----------|---------------------------|------------------|----------------------|-----------------|---------------------|-----------------------------------------------------------------------------------------------------------------------------------------|\r\n",
                "|     1     |     #Unnamed: 0           |     Int64        |     < 0.1 %          |     0 %         |     100 %           |     Number of Index                                                                                                                     |\r\n",
                "|     2     |     BATHRM                |     int64        |     < 0.1 %          |     0 %         |     < 0.1 %         |     Number of bathrooms                                                                                                                 |\r\n",
                "|     3     |     HF_BATHRM             |     int64        |     58.6 %           |     0 %         |     < 0.1 %         |     Number of half   bathroom     (No bathtub or shower)                                                                                |\r\n",
                "|     4     |     HEAT                  |     object       |     -                |     0 %         |     < 0.1 %         |     Heating type                                                                                                                        |\r\n",
                "|     5     |     AC                    |     Object       |     -                |     0 %         |     < 0.1 %         |     Air Conditioner   availability (Y/N)                                                                                                |\r\n",
                "|     6     |     NUM_UNITS             |     float64      |     0.1 %            |     32.9 %      |     < 0.1 %         |     Number of units                                                                                                                     |\r\n",
                "|     7     |     ROOMS                 |     int64        |     0.1 %            |     0 %         |     < 0.1 %         |     Number of rooms                                                                                                                     |\r\n",
                "|     8     |     BEDRM                 |     int64        |     3.3 %            |     0 %         |     < 0.1 %         |     Number of bedrooms                                                                                                                  |\r\n",
                "|     9     |     AYB                   |     float64      |     0 %              |     0.2 %       |     0.1 %           |     The earliest time the   main portion of the building was built                                                                      |\r\n",
                "|     10    |     YR_RMDL               |     float64      |     0 %              |     49.1 %      |     0.1 %           |     The year structure was   remodeled                                                                                                  |\r\n",
                "|     11    |     EYB                   |     int64        |     0 %              |     0 %         |     0.1 %           |     The year an   improvement was built more recent than actual year built                                                              |\r\n",
                "|     12    |     STORIES               |     float64      |     < 0.1 %          |     32.9 %      |     < 0.1 %         |     Number of stories in   primary dwelling                                                                                             |\r\n",
                "|     13    |     SALEDATE              |     object       |     -                |     16.8 %      |     5.2 %           |     Date of most recent   sale                                                                                                          |\r\n",
                "|     14    |     PRICE                 |     float64      |     0 %              |     38.2 %      |     13.7 %          |     Price of most recent   sale                                                                                                         |\r\n",
                "|     15    |     QUALIFIED             |     object       |     -                |     0 %         |     < 0.1 %         |     Internally used   indicator to reflect if a sale is representative of market value according to   the office's internal criteria    |\r\n",
                "|     16    |     SALE_NUM              |     int64        |     0 %              |     0 %         |     < 0.1 %         |     Number of times it's   been sold since May 2014                                                                                     |\r\n",
                "|     17    |     GBA                   |     float64      |     < 0.1 %          |     32.9 %      |     4.5 %           |     Gross building area in   square feet                                                                                                |\r\n",
                "|     18    |     BLDG_NUM              |     int64        |     -                |     0 %         |     <0.1 %          |     Building number on the   property                                                                                                   |\r\n",
                "|     19    |     STYLE                 |     object       |     -                |     32.9 %      |     < 0.1 %         |     Type of story                                                                                                                       |\r\n",
                "|     20    |     STRUCT                |     object       |     -                |     32.9 %      |     < 0.1 %         |     Building structure                                                                                                                  |\r\n",
                "|     21    |     GRADE                 |     object       |     -                |     32.9 %      |     < 0.1 %         |     Property Grade                                                                                                                      |\r\n",
                "|     22    |     CNDTN                 |     object       |     -                |     32.9 %      |     < 0.1 %         |     Property Condition                                                                                                                  |\r\n",
                "|     23    |     EXTWALL               |     object       |     -                |     32.9 %      |     < 0.1 %         |     Exterior wall type                                                                                                                  |\r\n",
                "|     24    |     ROOF                  |     object       |     -                |     32.9 %      |     < 0.1 %         |     Roof type                                                                                                                           |\r\n",
                "|     25    |     INTWALL               |     object       |     -                |     32.9 %      |     < 0.1 %         |     Interior wall type                                                                                                                  |\r\n",
                "|     26    |     KITCHENS              |     float64      |     0.1 %            |     32.9 %      |     < 0.1 %         |     Number of kitchens                                                                                                                  |\r\n",
                "|     27    |     FIREPLACES            |     int64        |     65.3 %           |     0 %         |     < 0.1 %         |     Number of fireplaces                                                                                                                |\r\n",
                "|     28    |     USECODE               |     int64        |     0 %              |     0 %         |     < 0.1 %         |     Property use code type                                                                                                              |\r\n",
                "|     29    |     LANDAREA              |     int64        |     < 0.1 %          |     0 %         |     7.1 %           |     Land area of property   in square feet                                                                                              |\r\n",
                "|     30    |     GIS_LAST_MOD_DTTM     |     object       |     -                |     0 %         |     < 0.1 %         |     Last modified data                                                                                                                  |\r\n",
                "|     31    |     SOURCE                |     object       |     -                |     0 %         |     < 0.1 %         |     Raw data source                                                                                                                     |\r\n",
                "|     32    |     CMPLX_NUM             |     float64      |     0 %              |     67.1 %      |     5.6 %           |     Complex number                                                                                                                      |\r\n",
                "|     33    |     LIVING_GBA            |     float64      |     < 0.1 %          |     67.1 %      |     4.2 %           |     Gross building area in   square feet                                                                                                |\r\n",
                "|     34    |     FULLADDRESS           |     object       |     -                |     33.3 %      |     99.9 %          |     Full street address                                                                                                                 |\r\n",
                "|     35    |     CITY                  |     object       |     -                |     33.3 %      |     < 0.1 %         |     City                                                                                                                                |\r\n",
                "|     36    |     STATE                 |     object       |     -                |     33.3 %      |     < 0.1 %         |     State                                                                                                                               |\r\n",
                "|     37    |     ZIPCODE               |     float64      |     0 %              |     < 0.1 %     |     < 0.1 %         |     Zipcode                                                                                                                             |\r\n",
                "|     38    |     NATIONALGRID          |     object       |     -                |     33.3 %      |     99.9 %          |     Address location   national grid coordinate spatial address                                                                         |\r\n",
                "|     39    |     LATITUDE              |     float64      |     0 %              |     < 0.1 %     |     66.4%           |     Latitude                                                                                                                            |\r\n",
                "|     40    |     LONGITUDE             |     float64      |     0 %              |     < 0.1 %     |     66.6 %          |     Longitude                                                                                                                           |\r\n",
                "|     41    |     ASSESSMENT_NBHD       |     object       |     -                |     < 0.1 %     |     < 0.1 %         |     Neighborhood ID                                                                                                                     |\r\n",
                "|     42    |     ASSESSMENT_SUBNBHD    |     object       |     -                |     20.5 %      |     0.1 %           |     Subneighborhood ID                                                                                                                  |\r\n",
                "|     43    |     CENSUS_TRACT          |     float64      |     0 %              |     < 0.1 %     |     0.1 %           |     Census tract                                                                                                                        |\r\n",
                "|     44    |     CENSUS_BLOCK          |     object       |     -                |     33.3 %      |     3.6 %           |     Census block                                                                                                                        |\r\n",
                "|     45    |     WARD                  |     object       |     -                |     < 0.1 %     |     < 0.1 %         |     Ward (district is   divided into eight wards, each with approximately 75,000 residents)                                             |\r\n",
                "|     46    |     SQUARE                |     object       |     -                |     0 %         |     -               |     Square (Part of Square   Suffix Lot (SSL) an address identifier in DC)                                                              |\r\n",
                "|     47    |     X                     |     float64      |     0 %              |     0.1 %       |     2.1 %           |     Longitude                                                                                                                           |\r\n",
                "|     48    |     Y                     |     float64      |     0 %              |     0.1 %       |     2.1 %           |     Latitude                                                                                                                            |\r\n",
                "|     49    |     QUADRANT              |     object       |     -                |     0.1 %       |     < 0.1 %         |     City quadrant (NE, SE,   SW, NW)                                                                              \r\n",
                "\r\n",
                "The description of each columns was provided by the author of **[DC Properties](https://www.kaggle.com/christophercorrea/dc-residential-properties?select=DC_Properties.csv)** dataset.\r\n"
            ],
            "metadata": {}
        },
        {
            "cell_type": "markdown",
            "source": [
                "## Feature Identification"
            ],
            "metadata": {}
        },
        {
            "cell_type": "markdown",
            "source": [
                "|     No    |     Numerical Features    |                                                                               |     Categorical Features    |                                                                                                                                          |\r\n",
                "|-----------|---------------------------|-------------------------------------------------------------------------------|-----------------------------|------------------------------------------------------------------------------------------------------------------------------------------|\r\n",
                "|           |     Feature               |     Description                                                               |     Feature                 |     Description                                                                                                                          |\r\n",
                "|     1     |     #Unnamed:   0         |     Number   of Index                                                         |     HEAT                    |     Heating   type                                                                                                                       |\r\n",
                "|     2     |     BATHRM                |     Number   of bathrooms                                                     |     AC                      |     Air   Conditioner availability (Y/N)                                                                                                 |\r\n",
                "|     3     |     HF_BATHRM             |     Number   of half bathroom     (No   bathtub or shower)                    |     SALEDATE                |     Date   of most recent sale                                                                                                           |\r\n",
                "|     4     |     NUM_UNITS             |     Number   of units                                                         |     QUALIFIED               |     Internally   used indicator to reflect if a sale is representative 5of market value   according to the office's internal criteria    |\r\n",
                "|     5     |     ROOMS                 |     Number   of rooms                                                         |     STYLE                   |     Type   of story                                                                                                                      |\r\n",
                "|     6     |     BEDRM                 |     Number   of bedrooms                                                      |     STRUCT                  |     Building   structure                                                                                                                 |\r\n",
                "|     7     |     AYB                   |     The   earliest time the main portion of the building was built            |     GRADE                   |     Property   Grade                                                                                                                     |\r\n",
                "|     8     |     YR_RMDL               |     The   year structure was remodeled                                        |     CNDTN                   |     Property   Condition                                                                                                                 |\r\n",
                "|     9     |     EYB                   |     The   year an improvement was built more recent than actual year built    |     EXTWALL                 |     Exterior   wall type                                                                                                                 |\r\n",
                "|     10    |     STORIES               |     Number   of stories in primary dwelling                                   |     ROOF                    |     Roof   type                                                                                                                          |\r\n",
                "|     11    |     PRICE                 |     Price   of most recent sale                                               |     INTWALL                 |     Interior   wall type                                                                                                                 |\r\n",
                "|     12    |     SALE_NUM              |     Number   of times it's been sold since May 2014                           |     GIS_LAST_MOD_DTTM       |     Last   modified data                                                                                                                 |\r\n",
                "|     13    |     GBA                   |     Gross   building area in square feet                                      |     SOURCE                  |     Raw   data source                                                                                                                    |\r\n",
                "|     14    |     BLDG_NUM              |     Building   number on the property                                         |     FULLADDRESS             |     Full   street address                                                                                                                |\r\n",
                "|     15    |     KITCHENS              |     Number   of kitchens                                                      |     CITY                    |     City                                                                                                                                 |\r\n",
                "|     16    |     FIREPLACES            |     Number   of fireplaces                                                    |     STATE                   |     State                                                                                                                                |\r\n",
                "|     17    |     USECODE               |     Property   use code type                                                  |     NATIONALGRID            |     Address   location national grid coordinate spatial address                                                                          |\r\n",
                "|     18    |     LANDAREA              |     Land   area of property in square feet                                    |     ASSESSMENT_NBHD         |     Neighborhood   ID                                                                                                                    |\r\n",
                "|     19    |     CMPLX_NUM             |     Complex   number                                                          |     ASSESSMENT_SUBNBHD      |     Subneighborhood   ID                                                                                                                 |\r\n",
                "|     20    |     LIVING_GBA            |     Gross   building area in square feet                                      |     CENSUS_BLOCK            |     Census   block                                                                                                                       |\r\n",
                "|     21    |     ZIPCODE               |     Zipcode                                                                   |     WARD                    |     Ward   (district is divided into eight wards, each with approximately 75,000   residents)                                            |\r\n",
                "|     22    |     LATITUDE              |     Latitude                                                                  |     SQUARE                  |     Square   (Part of Square Suffix Lot (SSL) an address identifier in DC)                                                               |\r\n",
                "|     23    |     LONGITUDE             |     Longitude                                                                 |     QUADRANT                |     City   quadrant (NE, SE, SW, NW)                                                                                                     |\r\n",
                "|     24    |     CENSUS_TRACT          |     Census   tract                                                            |                             |                                                                                                                                          |\r\n",
                "|     25    |     X                     |     Longitude                                                                 |                             |                                                                                                                                          |\r\n",
                "|     26    |     Y                     |     Latitude                                                                  |                             |                                                                                                                                          |"
            ],
            "metadata": {}
        },
        {
            "cell_type": "markdown",
            "source": [
                "## Property Overview"
            ],
            "metadata": {}
        },
        {
            "cell_type": "markdown",
            "source": [
                "| No | House Features    |                                     | Construction Details |                             |\r\n",
                "|----|-------------------|-------------------------------------|----------------------|-----------------------------|\r\n",
                "|    | Based on:         | Consist of:                         | Based on:            | Consist of:                 |\r\n",
                "| 1  | Interior Details  | -        Bedrooms                   | Property             | -        Story              |\r\n",
                "|    |                   | -        Bathrooms                  |                      | -        Style              |\r\n",
                "|    |                   | -        Half Bathrooms             |                      |                             |\r\n",
                "| 2  | Heating           | -        Forced Air                 | Wall Type            | -        Exterior           |\r\n",
                "|    |                   | -        Electric Based             |                      | -        Interior           |\r\n",
                "|    |                   | -        etc                        |                      |                             |\r\n",
                "| 3  | Cooling           | -          Air Conditioner          | Roof Type            | -        Slate              |\r\n",
                "|    |                   |                                     |                      | -          Concrete         |\r\n",
                "| 4  | Interior Features | -        Kitchens                   | Condition            | -        Property Condition |\r\n",
                "|    |                   | -        Fireplaces                 |                      | -        Property Grade     |\r\n",
                "| 5  | Other Features    | -        Gross Building Area        | Notable Dates        | -        Year Built         |\r\n",
                "|    |                   | -        Living Gross Building Area |                      | -        Year Remodel       |"
            ],
            "metadata": {}
        },
        {
            "cell_type": "markdown",
            "source": [
                "## Property Condition"
            ],
            "metadata": {}
        },
        {
            "cell_type": "markdown",
            "source": [
                "The assessment of the condition is varied from different individuals. Hence, there is no uniform rule to classify properties into differernt levels of condition. Here is a detailed explanation of condition from Marshall & Swift Condition Assessment (page E-6).\r\n",
                "\r\n",
                "- Excellent Condition - All items that can normally be repaired or refinished have recently been corrected, such as new roofing, paint, furance overhaul, state of the art components, etc. With no functional inadequacies of any consequence and all major short-lived components in like-new condition, the overall effective age has been substantially reduced upon complete revitilization of the structure regardless of the actual chronological age.\r\n",
                "- Very Good Condition - All items well maintained, many having been overhauled and repaired as they’ve showed signs of wear, increasing the life expectancy and lowering the effective age with little deterioration or obsolesence evident with a high degree of utility.\r\n",
                "- Good Condition - No obvious maintenance required but neither is everything new. Appearance and utility are above the standard and the overall effective age will be lower than the typical property.\r\n",
                "- Average Condition - Some evidence of deferred maintenance and normal obsolescence with age in that a few minor repairs are needed along with some refinishing. But with all major components still functional and contributing toward an extended life expectancy, effective age and utility is standard for like properties of its class and usage.\r\n",
                "- Fair Condition (Badly worn) - Much repair needed. Many items need refinishing or overhauling, deferred maintenance obvious, inadequate building utility and services all shortening the life expectancy and increasing the effective age.\r\n",
                "- Poor Condition (Worn Out) - Repair and overall needed on painted surfaces, roofing, plumbing, heating, numerous functional inadequacies, substandard utilities etc. (found only in extraordinary circumstances). Excessive deferred maintenance and abuse, limited value-in-use, approaching abandonment or major reconstruction, reuse or change in occupancy is imminent. Effective age is near the end of the scale regardless of the actual chronological age.\r\n"
            ],
            "metadata": {}
        },
        {
            "cell_type": "markdown",
            "source": [
                "## Property Type Use Codes"
            ],
            "metadata": {}
        },
        {
            "cell_type": "markdown",
            "source": [
                "Property use codes are utilized to categorize and group similar types of properties for easy identification. Data for properties are collected and the properties are grouped by use for various types of analysis and comparison (Property use code manual page 1)."
            ],
            "metadata": {}
        },
        {
            "cell_type": "markdown",
            "source": [
                "|     Code    |     Type                                         |     Description                                                                                                                                                                                                                            |\r\n",
                "|-------------|--------------------------------------------------|--------------------------------------------------------------------------------------------------------------------------------------------------------------------------------------------------------------------------------------------|\r\n",
                "|     11      |     Residential   Row Single Family              |     Single-family dwelling with 2 walls built as common   walls with another structure, 2 exposed walls; primarily used as place of   abode.                                                                                               |\r\n",
                "|     12      |     Residential   Detached Single Family         |     Free-standing dwelling with open space around   it and in all exterior walls; primarily used as abode.                                                                                                                                 |\r\n",
                "|     13      |     Residential   Semi-Detached Single Family    |     Structure with 1 dwelling place, 1 wall built   as common wall with another structure, 3 exposed walls; primarily used as   abode.                                                                                                     |\r\n",
                "|     15      |     Residential Mixed Use                        |     Single-family property with commercial   (usually office) space in part of house. If use is mostly single-family, lot   may be eligible for a Homestead Deduction. Mixed-use eligible.                                                 |\r\n",
                "|     16      |     Residential Condo Horizontal                 |     Enclosed space of 1 or more rooms, occupying   all or part of 1 or more floors; entrance no higher than 3 floors;   single-family use; may/may not have parking, laundry, patio, etc.                                                  |\r\n",
                "|     17      |     Residential Condo Vertical                   |     Enclosed space of 1 or more rooms, occupying   all/part of 1 or more floors; in structure with elevator; more than 3 floors.   Original primaries use single-family. May have parking, laundry, patio, etc.                            |\r\n",
                "|     19      |     Residential Single Family Miscellaneous      |     All other residential-single family uses not   otherwise coded.                                                                                                                                                                        |\r\n",
                "|     23      |     Residential Flats Less than 5                |     Structure with more than 1 single family   unit, less than 5; usually self-contained, under 1 roof; few accessory uses;   in some cases, owner occupies 1 unit; built for this                                                         |\r\n",
                "|     24      |     Residential Conversions less than 5          |     Structure with more than 1 single-family   unit, but less than 5; usually self-contained, under 1 roof; few accessory   uses; 1 unit may be owner-occupied; original primary use not multi-family.                                     |\r\n",
                "|     29      |     Residential Multifamily Miscellaneous        |     All other residential multi-family uses not   otherwise noted. Mixed-use eligible.                                                                                                                                                     |\r\n",
                "|     39      |     Residential Transient Miscellaneous          |     All other residential transient not otherwise   coded.                                                                                                                                                                                 |\r\n",
                "|     41      |     Store Small 1 Story                          |     Structure used primarily for retail sales;   row, attached, or detached; with/without accessory uses; with/without living   quarters.                                                                                                  |\r\n",
                "|     81      |     Religious                                    |     Structure devoted to public worship; housing   for and/or education of clergy/officials connected to religious activity;   religious communities.                                                                                      |\r\n",
                "|     83      |     Educational                                  |     Structure devoted to any level of   public/private instruction. May include administrative, accessory functions;   parking, retail sales, secondary use.                                                                               |\r\n",
                "|     116     |     Condo Horizontal Combined                    |     Unit in a structure with entrance no higher   than 3 floors; designed primarily for single family residential use;   accessory uses. Abuts primary unit; owner entitled to lower (Class 1) tax   rate, but not Homestead Deduction.    |\r\n",
                "|     117     |     Condo Vertical Combined                      |     Unit in structure with entrance no higher   than 3 floors, designed primarily for single family residential use:   accessory uses. Abuts primary unit; owner entitled to lower (Class 1) tax   rate, but not Homestead Deduction.      |"
            ],
            "metadata": {}
        },
        {
            "cell_type": "markdown",
            "source": [
                "## More about Quadrant and Ward"
            ],
            "metadata": {}
        },
        {
            "cell_type": "markdown",
            "source": [
                "The area in Washington DC is divided into several Quadrant. Each Quadrant is furhter divided into Ward and each Ward is divided into Assessment Neighborhood.\r\n",
                "\r\n",
                "The Quadrant in Washington DC is Northwest, Northeast, Southeast, Southwest, and each Quadrant is further divided into Ward.\r\n",
                "\r\n",
                "\r\n",
                "-\tWard 1 consist of: Adams Morgan, Columbia Heights, Howard University, etc\r\n",
                "-\tWard 2 consist of: Burleith, Chinatown, Downtown, etc\r\n",
                "-\tWard 3 consist of: Chevy Chase, Cleveland Park, Colony Hill, etc\r\n",
                "-\tWard 4 consist of: Bright Wood Park, Crestwood, Petworth, etc\r\n",
                "-\tWard 5 consist of: Arboretum, Brentwood, Brookland, etc\r\n",
                "-\tWard 6 consist of: Capiton Hill, Kingman Park, Navy Yard, etc\r\n",
                "-\tWard 7 consist of: Benning Heights, Benning Ridge, Burrville, etc\r\n",
                "-\tWard 8 consist of: Anacosita, Barry Farm, Bellevue, etc\r\n"
            ],
            "metadata": {}
        },
        {
            "cell_type": "markdown",
            "source": [
                "## Distribution Style"
            ],
            "metadata": {}
        },
        {
            "cell_type": "markdown",
            "source": [
                "Residential style sale in Washington DC is divided into 17 Categories, which is:\r\n",
                "\r\n",
                "-\t1 story: house consisting of a ground storey only.\r\n",
                "-\t1.5 story: house that has the master bedroom suite on the main floor and all other bedrooms on the second floor.\r\n",
                "-\t2 story: houses have the master bedroom suite and additional bedrooms located on the second level of the home.\r\n",
                "-\t2.5 story: house would mean its a house that is 2 storeys with a loft.\r\n",
                "-\t3 story: houses would mean its a house that is 3 storeys, usually have a ground floor used for the living space and kitchen.\r\n",
                "-\t3.5 story: house would mean its a house that is 3 storeys with a loft.\r\n",
                "-\t4 story: houses would mean its a house that is 4 storeys.\r\n",
                "-\t4.5 story: house would mean its a house that is 4 storeys with a loft.\r\n",
                "-\tSplit Level: (also called a tri-level home) is a style of house in which the floor levels are staggered. There are typically two short sets of stairs, one running upward to a bedroom level, and one going downward toward a basement area.\r\n",
                "-\tSplit Foyer and Bi-Level: same as split level but in another ward different called.\r\n",
                "-\tVacant Property: means residential, commercial, industrial, or mixed-use real property that has not been lawfully occupied and maintained, actively marketed for rental, or under active construction for a continuous period of forty-five (45) days or more.\r\n",
                "-\tUnfin & Fin: meaning about the loft not yet completed.\r\n",
                "\r\n"
            ],
            "metadata": {}
        }
    ],
    "metadata": {
        "orig_nbformat": 4,
        "language_info": {
            "name": "python"
        }
    },
    "nbformat": 4,
    "nbformat_minor": 2
}