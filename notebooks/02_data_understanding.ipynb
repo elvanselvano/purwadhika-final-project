{
  "nbformat": 4,
  "nbformat_minor": 0,
  "metadata": {
    "orig_nbformat": 4,
    "language_info": {
      "name": "python"
    },
    "colab": {
      "name": "02_data_understanding_.ipynb",
      "provenance": []
    }
  },
  "cells": [
    {
      "cell_type": "markdown",
      "metadata": {
        "id": "JDTVx3flNdWm"
      },
      "source": [
        "# Data Understanding"
      ]
    },
    {
      "cell_type": "markdown",
      "metadata": {
        "id": "VDegYciHNwu0"
      },
      "source": [
        "Washington, D.C. is the capital of the United States. Washington's population is approaching 700,000 people, and has been growing since 2000 following a half-century of population decline. The city is highly segregated and features a high cost of living. In 2017, the average price of a single family home in the district was $649,000. This dataset provides insight on the housing stock of the district.\n",
        "\n",
        "The residential property descriptions and address point information is current as of July 2018 and is provided by D.C. Geographic Information System.\n",
        "\n",
        "The dataset can be downloaded from this [Kaggle](https://www.kaggle.com/christophercorrea/dc-residential-properties) page.\n"
      ]
    },
    {
      "cell_type": "markdown",
      "metadata": {
        "id": "21Hh74MyNdWn"
      },
      "source": [
        "## Data Source"
      ]
    },
    {
      "cell_type": "markdown",
      "metadata": {
        "id": "RKGi2iDINdWn"
      },
      "source": [
        "All data is available at **[Open Data D.C.](https://opendata.dc.gov/)**. The residential and address point data is managed by the **[Office of the Chief Technology Officer](https://octo.dc.gov)**"
      ]
    },
    {
      "cell_type": "markdown",
      "metadata": {
        "id": "lFyXPRdrNdWn"
      },
      "source": [
        "## Data Overview"
      ]
    },
    {
      "cell_type": "markdown",
      "metadata": {
        "id": "YolUBx5GNdWo"
      },
      "source": [
        "|     Dataset   Statistics               |     Count         |     Variable   Types    |     Count    |\n",
        "|----------------------------------------|-------------------|-------------------------|--------------|\n",
        "|     Number   of variables              |     49            |     Numeric             |     25       |\n",
        "|     Number   of observations           |     158957        |     Categorical         |     23       |\n",
        "|     Missing   cells                    |     1251928       |     Unsupported         |     1        |\n",
        "|     Missing   cells (%)                |     16.1   %      |                         |              |\n",
        "|     Duplicate   rows                   |     0             |                         |              |\n",
        "|     Duplicate   rows (%)               |     0.0   %       |                         |              |\n",
        "|     Total   size in memory             |     59.5   MiB    |                         |              |\n",
        "|     Average   record size in memory    |     392.0   B     |                         |              |"
      ]
    },
    {
      "cell_type": "markdown",
      "metadata": {
        "id": "xHs6uf2FNdWo"
      },
      "source": [
        "## Columns Explanation"
      ]
    },
    {
      "cell_type": "markdown",
      "metadata": {
        "id": "XP16JVPSNdWo"
      },
      "source": [
        "|     No    |     Feature               |     Data Type    |     Zeros     (%)    |     Null (%)    |     Distinct (%)    |     Description                                                                                                                         |\n",
        "|-----------|---------------------------|------------------|----------------------|-----------------|---------------------|-----------------------------------------------------------------------------------------------------------------------------------------|\n",
        "|     1     |     #Unnamed: 0           |     Int64        |     < 0.1 %          |     0 %         |     100 %           |     Number of Index                                                                                                                     |\n",
        "|     2     |     BATHRM                |     int64        |     < 0.1 %          |     0 %         |     < 0.1 %         |     Number of bathrooms                                                                                                                 |\n",
        "|     3     |     HF_BATHRM             |     int64        |     58.6 %           |     0 %         |     < 0.1 %         |     Number of half   bathroom     (No bathtub or shower)                                                                                |\n",
        "|     4     |     HEAT                  |     object       |     -                |     0 %         |     < 0.1 %         |     Heating type                                                                                                                        |\n",
        "|     5     |     AC                    |     Object       |     -                |     0 %         |     < 0.1 %         |     Air Conditioner   availability (Y/N)                                                                                                |\n",
        "|     6     |     NUM_UNITS             |     float64      |     0.1 %            |     32.9 %      |     < 0.1 %         |     Number of units                                                                                                                     |\n",
        "|     7     |     ROOMS                 |     int64        |     0.1 %            |     0 %         |     < 0.1 %         |     Number of rooms                                                                                                                     |\n",
        "|     8     |     BEDRM                 |     int64        |     3.3 %            |     0 %         |     < 0.1 %         |     Number of bedrooms                                                                                                                  |\n",
        "|     9     |     AYB                   |     float64      |     0 %              |     0.2 %       |     0.1 %           |     The earliest time the   main portion of the building was built                                                                      |\n",
        "|     10    |     YR_RMDL               |     float64      |     0 %              |     49.1 %      |     0.1 %           |     The year structure was   remodeled                                                                                                  |\n",
        "|     11    |     EYB                   |     int64        |     0 %              |     0 %         |     0.1 %           |     The year an   improvement was built more recent than actual year built                                                              |\n",
        "|     12    |     STORIES               |     float64      |     < 0.1 %          |     32.9 %      |     < 0.1 %         |     Number of stories in   primary dwelling                                                                                             |\n",
        "|     13    |     SALEDATE              |     object       |     -                |     16.8 %      |     5.2 %           |     Date of most recent   sale                                                                                                          |\n",
        "|     14    |     PRICE                 |     float64      |     0 %              |     38.2 %      |     13.7 %          |     Price of most recent   sale                                                                                                         |\n",
        "|     15    |     QUALIFIED             |     object       |     -                |     0 %         |     < 0.1 %         |     Internally used   indicator to reflect if a sale is representative of market value according to   the office's internal criteria    |\n",
        "|     16    |     SALE_NUM              |     int64        |     0 %              |     0 %         |     < 0.1 %         |     Number of times it's   been sold since May 2014                                                                                     |\n",
        "|     17    |     GBA                   |     float64      |     < 0.1 %          |     32.9 %      |     4.5 %           |     Gross building area in   square feet                                                                                                |\n",
        "|     18    |     BLDG_NUM              |     int64        |     -                |     0 %         |     <0.1 %          |     Building number on the   property                                                                                                   |\n",
        "|     19    |     STYLE                 |     object       |     -                |     32.9 %      |     < 0.1 %         |     Type of story                                                                                                                       |\n",
        "|     20    |     STRUCT                |     object       |     -                |     32.9 %      |     < 0.1 %         |     Building structure                                                                                                                  |\n",
        "|     21    |     GRADE                 |     object       |     -                |     32.9 %      |     < 0.1 %         |     Property Grade                                                                                                                      |\n",
        "|     22    |     CNDTN                 |     object       |     -                |     32.9 %      |     < 0.1 %         |     Property Condition                                                                                                                  |\n",
        "|     23    |     EXTWALL               |     object       |     -                |     32.9 %      |     < 0.1 %         |     Exterior wall type                                                                                                                  |\n",
        "|     24    |     ROOF                  |     object       |     -                |     32.9 %      |     < 0.1 %         |     Roof type                                                                                                                           |\n",
        "|     25    |     INTWALL               |     object       |     -                |     32.9 %      |     < 0.1 %         |     Interior wall type                                                                                                                  |\n",
        "|     26    |     KITCHENS              |     float64      |     0.1 %            |     32.9 %      |     < 0.1 %         |     Number of kitchens                                                                                                                  |\n",
        "|     27    |     FIREPLACES            |     int64        |     65.3 %           |     0 %         |     < 0.1 %         |     Number of fireplaces                                                                                                                |\n",
        "|     28    |     USECODE               |     int64        |     0 %              |     0 %         |     < 0.1 %         |     Property use code type                                                                                                              |\n",
        "|     29    |     LANDAREA              |     int64        |     < 0.1 %          |     0 %         |     7.1 %           |     Land area of property   in square feet                                                                                              |\n",
        "|     30    |     GIS_LAST_MOD_DTTM     |     object       |     -                |     0 %         |     < 0.1 %         |     Last modified data                                                                                                                  |\n",
        "|     31    |     SOURCE                |     object       |     -                |     0 %         |     < 0.1 %         |     Raw data source                                                                                                                     |\n",
        "|     32    |     CMPLX_NUM             |     float64      |     0 %              |     67.1 %      |     5.6 %           |     Complex number                                                                                                                      |\n",
        "|     33    |     LIVING_GBA            |     float64      |     < 0.1 %          |     67.1 %      |     4.2 %           |     Gross building area in   square feet                                                                                                |\n",
        "|     34    |     FULLADDRESS           |     object       |     -                |     33.3 %      |     99.9 %          |     Full street address                                                                                                                 |\n",
        "|     35    |     CITY                  |     object       |     -                |     33.3 %      |     < 0.1 %         |     City                                                                                                                                |\n",
        "|     36    |     STATE                 |     object       |     -                |     33.3 %      |     < 0.1 %         |     State                                                                                                                               |\n",
        "|     37    |     ZIPCODE               |     float64      |     0 %              |     < 0.1 %     |     < 0.1 %         |     Zipcode                                                                                                                             |\n",
        "|     38    |     NATIONALGRID          |     object       |     -                |     33.3 %      |     99.9 %          |     Address location   national grid coordinate spatial address                                                                         |\n",
        "|     39    |     LATITUDE              |     float64      |     0 %              |     < 0.1 %     |     66.4%           |     Latitude                                                                                                                            |\n",
        "|     40    |     LONGITUDE             |     float64      |     0 %              |     < 0.1 %     |     66.6 %          |     Longitude                                                                                                                           |\n",
        "|     41    |     ASSESSMENT_NBHD       |     object       |     -                |     < 0.1 %     |     < 0.1 %         |     Neighborhood ID                                                                                                                     |\n",
        "|     42    |     ASSESSMENT_SUBNBHD    |     object       |     -                |     20.5 %      |     0.1 %           |     Subneighborhood ID                                                                                                                  |\n",
        "|     43    |     CENSUS_TRACT          |     float64      |     0 %              |     < 0.1 %     |     0.1 %           |     Census tract                                                                                                                        |\n",
        "|     44    |     CENSUS_BLOCK          |     object       |     -                |     33.3 %      |     3.6 %           |     Census block                                                                                                                        |\n",
        "|     45    |     WARD                  |     object       |     -                |     < 0.1 %     |     < 0.1 %         |     Ward (district is   divided into eight wards, each with approximately 75,000 residents)                                             |\n",
        "|     46    |     SQUARE                |     object       |     -                |     0 %         |     -               |     Square (Part of Square   Suffix Lot (SSL) an address identifier in DC)                                                              |\n",
        "|     47    |     X                     |     float64      |     0 %              |     0.1 %       |     2.1 %           |     Longitude                                                                                                                           |\n",
        "|     48    |     Y                     |     float64      |     0 %              |     0.1 %       |     2.1 %           |     Latitude                                                                                                                            |\n",
        "|     49    |     QUADRANT              |     object       |     -                |     0.1 %       |     < 0.1 %         |     City quadrant (NE, SE,   SW, NW)                                                                              \n",
        "\n",
        "The description of each columns was provided by the author of **[DC Properties](https://www.kaggle.com/christophercorrea/dc-residential-properties?select=DC_Properties.csv)** dataset.\n"
      ]
    },
    {
      "cell_type": "markdown",
      "metadata": {
        "id": "bWYb4_GMNdWw"
      },
      "source": [
        "## Feature Identification"
      ]
    },
    {
      "cell_type": "markdown",
      "metadata": {
        "id": "GKQShRRjNdWy"
      },
      "source": [
        "|     No    |     Numerical Features    |                                                                               |     Categorical Features    |                                                                                                                                          |\n",
        "|-----------|---------------------------|-------------------------------------------------------------------------------|-----------------------------|------------------------------------------------------------------------------------------------------------------------------------------|\n",
        "|           |     Feature               |     Description                                                               |     Feature                 |     Description                                                                                                                          |\n",
        "|     1     |     #Unnamed:   0         |     Number   of Index                                                         |     HEAT                    |     Heating   type                                                                                                                       |\n",
        "|     2     |     BATHRM                |     Number   of bathrooms                                                     |     AC                      |     Air   Conditioner availability (Y/N)                                                                                                 |\n",
        "|     3     |     HF_BATHRM             |     Number   of half bathroom     (No   bathtub or shower)                    |     SALEDATE                |     Date   of most recent sale                                                                                                           |\n",
        "|     4     |     NUM_UNITS             |     Number   of units                                                         |     QUALIFIED               |     Internally   used indicator to reflect if a sale is representative 5of market value   according to the office's internal criteria    |\n",
        "|     5     |     ROOMS                 |     Number   of rooms                                                         |     STYLE                   |     Type   of story                                                                                                                      |\n",
        "|     6     |     BEDRM                 |     Number   of bedrooms                                                      |     STRUCT                  |     Building   structure                                                                                                                 |\n",
        "|     7     |     AYB                   |     The   earliest time the main portion of the building was built            |     GRADE                   |     Property   Grade                                                                                                                     |\n",
        "|     8     |     YR_RMDL               |     The   year structure was remodeled                                        |     CNDTN                   |     Property   Condition                                                                                                                 |\n",
        "|     9     |     EYB                   |     The   year an improvement was built more recent than actual year built    |     EXTWALL                 |     Exterior   wall type                                                                                                                 |\n",
        "|     10    |     STORIES               |     Number   of stories in primary dwelling                                   |     ROOF                    |     Roof   type                                                                                                                          |\n",
        "|     11    |     PRICE                 |     Price   of most recent sale                                               |     INTWALL                 |     Interior   wall type                                                                                                                 |\n",
        "|     12    |     SALE_NUM              |     Number   of times it's been sold since May 2014                           |     GIS_LAST_MOD_DTTM       |     Last   modified data                                                                                                                 |\n",
        "|     13    |     GBA                   |     Gross   building area in square feet                                      |     SOURCE                  |     Raw   data source                                                                                                                    |\n",
        "|     14    |     BLDG_NUM              |     Building   number on the property                                         |     FULLADDRESS             |     Full   street address                                                                                                                |\n",
        "|     15    |     KITCHENS              |     Number   of kitchens                                                      |     CITY                    |     City                                                                                                                                 |\n",
        "|     16    |     FIREPLACES            |     Number   of fireplaces                                                    |     STATE                   |     State                                                                                                                                |\n",
        "|     17    |     USECODE               |     Property   use code type                                                  |     NATIONALGRID            |     Address   location national grid coordinate spatial address                                                                          |\n",
        "|     18    |     LANDAREA              |     Land   area of property in square feet                                    |     ASSESSMENT_NBHD         |     Neighborhood   ID                                                                                                                    |\n",
        "|     19    |     CMPLX_NUM             |     Complex   number                                                          |     ASSESSMENT_SUBNBHD      |     Subneighborhood   ID                                                                                                                 |\n",
        "|     20    |     LIVING_GBA            |     Gross   building area in square feet                                      |     CENSUS_BLOCK            |     Census   block                                                                                                                       |\n",
        "|     21    |     ZIPCODE               |     Zipcode                                                                   |     WARD                    |     Ward   (district is divided into eight wards, each with approximately 75,000   residents)                                            |\n",
        "|     22    |     LATITUDE              |     Latitude                                                                  |     SQUARE                  |     Square   (Part of Square Suffix Lot (SSL) an address identifier in DC)                                                               |\n",
        "|     23    |     LONGITUDE             |     Longitude                                                                 |     QUADRANT                |     City   quadrant (NE, SE, SW, NW)                                                                                                     |\n",
        "|     24    |     CENSUS_TRACT          |     Census   tract                                                            |                             |                                                                                                                                          |\n",
        "|     25    |     X                     |     Longitude                                                                 |                             |                                                                                                                                          |\n",
        "|     26    |     Y                     |     Latitude                                                                  |                             |                                                                                                                                          |"
      ]
    },
    {
      "cell_type": "markdown",
      "metadata": {
        "id": "Txba0UqRNdWy"
      },
      "source": [
        "## Property Overview"
      ]
    },
    {
      "cell_type": "markdown",
      "metadata": {
        "id": "gkQnEw07NdWy"
      },
      "source": [
        "| No | House Features    |                                     | Construction Details |                             |\n",
        "|----|-------------------|-------------------------------------|----------------------|-----------------------------|\n",
        "|    | Based on:         | Consist of:                         | Based on:            | Consist of:                 |\n",
        "| 1  | Interior Details  | -        Bedrooms                   | Property             | -        Story              |\n",
        "|    |                   | -        Bathrooms                  |                      | -        Style              |\n",
        "|    |                   | -        Half Bathrooms             |                      |                             |\n",
        "| 2  | Heating           | -        Forced Air                 | Wall Type            | -        Exterior           |\n",
        "|    |                   | -        Electric Based             |                      | -        Interior           |\n",
        "|    |                   | -        etc                        |                      |                             |\n",
        "| 3  | Cooling           | -          Air Conditioner          | Roof Type            | -        Slate              |\n",
        "|    |                   |                                     |                      | -          Concrete         |\n",
        "| 4  | Interior Features | -        Kitchens                   | Condition            | -        Property Condition |\n",
        "|    |                   | -        Fireplaces                 |                      | -        Property Grade     |\n",
        "| 5  | Other Features    | -        Gross Building Area        | Notable Dates        | -        Year Built         |\n",
        "|    |                   | -        Living Gross Building Area |                      | -        Year Remodel       |"
      ]
    },
    {
      "cell_type": "markdown",
      "metadata": {
        "id": "Qr1kv_JWNdWy"
      },
      "source": [
        "## Property Condition"
      ]
    },
    {
      "cell_type": "markdown",
      "metadata": {
        "id": "nOLc_hvbNdWz"
      },
      "source": [
        "The assessment of the condition is varied from different individuals. Hence, there is no uniform rule to classify properties into differernt levels of condition. Here is a detailed explanation of condition from Marshall & Swift Condition Assessment (page E-6).\n",
        "\n",
        "- Excellent Condition - All items that can normally be repaired or refinished have recently been corrected, such as new roofing, paint, furance overhaul, state of the art components, etc. With no functional inadequacies of any consequence and all major short-lived components in like-new condition, the overall effective age has been substantially reduced upon complete revitilization of the structure regardless of the actual chronological age.\n",
        "- Very Good Condition - All items well maintained, many having been overhauled and repaired as they’ve showed signs of wear, increasing the life expectancy and lowering the effective age with little deterioration or obsolesence evident with a high degree of utility.\n",
        "- Good Condition - No obvious maintenance required but neither is everything new. Appearance and utility are above the standard and the overall effective age will be lower than the typical property.\n",
        "- Average Condition - Some evidence of deferred maintenance and normal obsolescence with age in that a few minor repairs are needed along with some refinishing. But with all major components still functional and contributing toward an extended life expectancy, effective age and utility is standard for like properties of its class and usage.\n",
        "- Fair Condition (Badly worn) - Much repair needed. Many items need refinishing or overhauling, deferred maintenance obvious, inadequate building utility and services all shortening the life expectancy and increasing the effective age.\n",
        "- Poor Condition (Worn Out) - Repair and overall needed on painted surfaces, roofing, plumbing, heating, numerous functional inadequacies, substandard utilities etc. (found only in extraordinary circumstances). Excessive deferred maintenance and abuse, limited value-in-use, approaching abandonment or major reconstruction, reuse or change in occupancy is imminent. Effective age is near the end of the scale regardless of the actual chronological age.\n"
      ]
    },
    {
      "cell_type": "markdown",
      "metadata": {
        "id": "wnc3qEtuNdWz"
      },
      "source": [
        "## Property Type Use Codes"
      ]
    },
    {
      "cell_type": "markdown",
      "metadata": {
        "id": "v3Y1Zqn_NdWz"
      },
      "source": [
        "Property use codes are utilized to categorize and group similar types of properties for easy identification. Data for properties are collected and the properties are grouped by use for various types of analysis and comparison (Arizona Department of Revenue: Property use code manual page 1)."
      ]
    },
    {
      "cell_type": "markdown",
      "metadata": {
        "id": "NhihUejgNdW0"
      },
      "source": [
        "|     Code    |     Type                                         |     Description                                                                                                                                                                                                                            |\n",
        "|-------------|--------------------------------------------------|--------------------------------------------------------------------------------------------------------------------------------------------------------------------------------------------------------------------------------------------|\n",
        "|     11      |     Residential   Row Single Family              |     Single-family dwelling with 2 walls built as common   walls with another structure, 2 exposed walls; primarily used as place of   abode.                                                                                               |\n",
        "|     12      |     Residential   Detached Single Family         |     Free-standing dwelling with open space around   it and in all exterior walls; primarily used as abode.                                                                                                                                 |\n",
        "|     13      |     Residential   Semi-Detached Single Family    |     Structure with 1 dwelling place, 1 wall built   as common wall with another structure, 3 exposed walls; primarily used as   abode.                                                                                                     |\n",
        "|     15      |     Residential Mixed Use                        |     Single-family property with commercial   (usually office) space in part of house. If use is mostly single-family, lot   may be eligible for a Homestead Deduction. Mixed-use eligible.                                                 |\n",
        "|     16      |     Residential Condo Horizontal                 |     Enclosed space of 1 or more rooms, occupying   all or part of 1 or more floors; entrance no higher than 3 floors;   single-family use; may/may not have parking, laundry, patio, etc.                                                  |\n",
        "|     17      |     Residential Condo Vertical                   |     Enclosed space of 1 or more rooms, occupying   all/part of 1 or more floors; in structure with elevator; more than 3 floors.   Original primaries use single-family. May have parking, laundry, patio, etc.                            |\n",
        "|     19      |     Residential Single Family Miscellaneous      |     All other residential-single family uses not   otherwise coded.                                                                                                                                                                        |\n",
        "|     23      |     Residential Flats Less than 5                |     Structure with more than 1 single family   unit, less than 5; usually self-contained, under 1 roof; few accessory uses;   in some cases, owner occupies 1 unit; built for this                                                         |\n",
        "|     24      |     Residential Conversions less than 5          |     Structure with more than 1 single-family   unit, but less than 5; usually self-contained, under 1 roof; few accessory   uses; 1 unit may be owner-occupied; original primary use not multi-family.                                     |\n",
        "|     29      |     Residential Multifamily Miscellaneous        |     All other residential multi-family uses not   otherwise noted. Mixed-use eligible.                                                                                                                                                     |\n",
        "|     39      |     Residential Transient Miscellaneous          |     All other residential transient not otherwise   coded.                                                                                                                                                                                 |\n",
        "|     41      |     Store Small 1 Story                          |     Structure used primarily for retail sales;   row, attached, or detached; with/without accessory uses; with/without living   quarters.                                                                                                  |\n",
        "|     81      |     Religious                                    |     Structure devoted to public worship; housing   for and/or education of clergy/officials connected to religious activity;   religious communities.                                                                                      |\n",
        "|     83      |     Educational                                  |     Structure devoted to any level of   public/private instruction. May include administrative, accessory functions;   parking, retail sales, secondary use.                                                                               |\n",
        "|     116     |     Condo Horizontal Combined                    |     Unit in a structure with entrance no higher   than 3 floors; designed primarily for single family residential use;   accessory uses. Abuts primary unit; owner entitled to lower (Class 1) tax   rate, but not Homestead Deduction.    |\n",
        "|     117     |     Condo Vertical Combined                      |     Unit in structure with entrance no higher   than 3 floors, designed primarily for single family residential use:   accessory uses. Abuts primary unit; owner entitled to lower (Class 1) tax   rate, but not Homestead Deduction.      |"
      ]
    },
    {
      "cell_type": "markdown",
      "metadata": {
        "id": "Hu13HR9bNdW0"
      },
      "source": [
        "## More about Quadrant and Ward"
      ]
    },
    {
      "cell_type": "markdown",
      "metadata": {
        "id": "q5qAFL2ZNdW0"
      },
      "source": [
        "The area in Washington DC is divided into several Quadrant. Each Quadrant is furhter divided into Ward and each Ward is divided into Assessment Neighborhood.\n",
        "\n",
        "The Quadrant in Washington DC is Northwest, Northeast, Southeast, Southwest, and each Quadrant is further divided into Ward.\n",
        "\n",
        "\n",
        "-\tWard 1 consist of: Adams Morgan, Columbia Heights, Howard University, etc\n",
        "-\tWard 2 consist of: Burleith, Chinatown, Downtown, etc\n",
        "-\tWard 3 consist of: Chevy Chase, Cleveland Park, Colony Hill, etc\n",
        "-\tWard 4 consist of: Bright Wood Park, Crestwood, Petworth, etc\n",
        "-\tWard 5 consist of: Arboretum, Brentwood, Brookland, etc\n",
        "-\tWard 6 consist of: Capiton Hill, Kingman Park, Navy Yard, etc\n",
        "-\tWard 7 consist of: Benning Heights, Benning Ridge, Burrville, etc\n",
        "-\tWard 8 consist of: Anacosita, Barry Farm, Bellevue, etc\n"
      ]
    },
    {
      "cell_type": "markdown",
      "metadata": {
        "id": "abV2WmCENdW0"
      },
      "source": [
        "## Distribution Style"
      ]
    },
    {
      "cell_type": "markdown",
      "metadata": {
        "id": "WUeraEWDNdW0"
      },
      "source": [
        "Residential style sale in Washington DC is divided into 17 Categories, which is:\n",
        "\n",
        "-\t1 story: house consisting of a ground storey only.\n",
        "-\t1.5 story: house that has the master bedroom suite on the main floor and all other bedrooms on the second floor.\n",
        "-\t2 story: houses have the master bedroom suite and additional bedrooms located on the second level of the home.\n",
        "-\t2.5 story: house would mean its a house that is 2 storeys with a loft.\n",
        "-\t3 story: houses would mean its a house that is 3 storeys, usually have a ground floor used for the living space and kitchen.\n",
        "-\t3.5 story: house would mean its a house that is 3 storeys with a loft.\n",
        "-\t4 story: houses would mean its a house that is 4 storeys.\n",
        "-\t4.5 story: house would mean its a house that is 4 storeys with a loft.\n",
        "-\tSplit Level: (also called a tri-level home) is a style of house in which the floor levels are staggered. There are typically two short sets of stairs, one running upward to a bedroom level, and one going downward toward a basement area.\n",
        "-\tSplit Foyer and Bi-Level: same as split level but in another ward different called.\n",
        "-\tVacant Property: means residential, commercial, industrial, or mixed-use real property that has not been lawfully occupied and maintained, actively marketed for rental, or under active construction for a continuous period of forty-five (45) days or more.\n",
        "-\tUnfin & Fin: meaning about the loft not yet completed.\n",
        "\n"
      ]
    }
  ]
}