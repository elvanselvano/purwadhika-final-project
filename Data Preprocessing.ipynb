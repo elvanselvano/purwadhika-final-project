{
 "metadata": {
  "language_info": {
   "codemirror_mode": {
    "name": "ipython",
    "version": 3
   },
   "file_extension": ".py",
   "mimetype": "text/x-python",
   "name": "python",
   "nbconvert_exporter": "python",
   "pygments_lexer": "ipython3",
   "version": "3.9.1"
  },
  "orig_nbformat": 4,
  "kernelspec": {
   "name": "python3",
   "display_name": "Python 3.9.1 64-bit"
  },
  "interpreter": {
   "hash": "aee8b7b246df8f9039afb4144a1f6fd8d2ca17a180786b69acc140d282b71a49"
  }
 },
 "nbformat": 4,
 "nbformat_minor": 2,
 "cells": [
  {
   "cell_type": "code",
   "execution_count": 2,
   "metadata": {},
   "outputs": [],
   "source": [
    "import pandas as pd\n",
    "from pandas_profiling import ProfileReport\n",
    "import numpy as np\n",
    "import matplotlib.pyplot as plt\n",
    "import seaborn as sns\n",
    "from sklearn.model_selection import train_test_split, GridSearchCV, RandomizedSearchCV, cross_val_score\n",
    "from sklearn.preprocessing import StandardScaler, OneHotEncoder, MinMaxScaler, RobustScaler, OrdinalEncoder\n",
    "from sklearn.compose import ColumnTransformer, make_column_transformer\n",
    "from sklearn.pipeline import make_pipeline\n",
    "from sklearn.metrics import silhouette_score, mean_squared_error, r2_score\n",
    "from sklearn.cluster import KMeans, DBSCAN\n",
    "from sklearn.feature_selection import SelectPercentile, SelectKBest\n",
    "from sklearn.linear_model import LinearRegression, Ridge, Lasso, LogisticRegression\n",
    "from sklearn.tree import DecisionTreeRegressor\n",
    "from sklearn.svm import SVR\n",
    "from sklearn.ensemble import RandomForestRegressor"
   ]
  },
  {
   "cell_type": "code",
   "execution_count": 8,
   "metadata": {},
   "outputs": [],
   "source": [
    "df_cleaned = pd.read_csv('df_partially_cleaned_multicollinearity.csv',index_col=0)"
   ]
  },
  {
   "source": [
    "Modify features"
   ],
   "cell_type": "markdown",
   "metadata": {}
  },
  {
   "cell_type": "code",
   "execution_count": 56,
   "metadata": {},
   "outputs": [],
   "source": [
    "def modify_heat(heat):\n",
    "    if heat != 'Forced Air' and heat != 'Hot Water Rad' and heat != 'Warm Cool':\n",
    "        return 'Others'\n",
    "    else:\n",
    "        return heat\n",
    "\n",
    "df_cleaned['HEAT'] = df_cleaned['HEAT'].apply(modify_heat)"
   ]
  },
  {
   "cell_type": "code",
   "execution_count": 58,
   "metadata": {},
   "outputs": [
    {
     "output_type": "execute_result",
     "data": {
      "text/plain": [
       "2 Story            34840\n",
       "3 Story             4577\n",
       "2.5 Story Fin       3310\n",
       "1 Story             1388\n",
       "1.5 Story Fin        842\n",
       "2.5 Story Unfin      303\n",
       "4 Story              187\n",
       "Split Level          132\n",
       "Split Foyer           88\n",
       "3.5 Story Fin         71\n",
       "1.5 Story Unfin       43\n",
       "Default               12\n",
       "Bi-Level               8\n",
       "3.5 Story Unfin        5\n",
       "Vacant                 2\n",
       "4.5 Story Unfin        2\n",
       "4.5 Story Fin          1\n",
       "Name: STYLE, dtype: int64"
      ]
     },
     "metadata": {},
     "execution_count": 58
    }
   ],
   "source": [
    "df_cleaned['STYLE'].value_counts()"
   ]
  },
  {
   "cell_type": "code",
   "execution_count": 69,
   "metadata": {},
   "outputs": [],
   "source": [
    "def modify_style(style):\n",
    "    if style != '2 Story' and style != '3 Story' and style != '2.5 Story Fin' and style != '1 Story' and style != '1.5 Story Fin' and style != '2.5 Story Unfin' and style != '4 Story' and style != 'Split Level' and style != 'Split Foyer' and style != '3.5 Story Fin' and style != '1.5 Story Unfin':\n",
    "        return 'Others'\n",
    "    else:\n",
    "        return style\n",
    "\n",
    "df_cleaned['STYLE'] = df_cleaned['STYLE'].apply(modify_style)"
   ]
  },
  {
   "cell_type": "code",
   "execution_count": 9,
   "metadata": {},
   "outputs": [
    {
     "output_type": "execute_result",
     "data": {
      "text/plain": [
       "Index(['BATHRM', 'HF_BATHRM', 'HEAT', 'AC', 'YR_RMDL', 'EYB', 'PRICE',\n",
       "       'SALE_NUM', 'STYLE', 'STRUCT', 'GRADE', 'CNDTN', 'EXTWALL', 'ROOF',\n",
       "       'INTWALL', 'KITCHENS', 'FIREPLACES', 'LANDAREA', 'ZIPCODE', 'LATITUDE',\n",
       "       'LONGITUDE', 'ASSESSMENT_NBHD', 'WARD', 'QUADRANT'],\n",
       "      dtype='object')"
      ]
     },
     "metadata": {},
     "execution_count": 9
    }
   ],
   "source": [
    "df_cleaned.columns"
   ]
  },
  {
   "cell_type": "code",
   "execution_count": 13,
   "metadata": {},
   "outputs": [],
   "source": [
    "X = df_cleaned['PRICE']\n",
    "y = df_cleaned.copy().drop(['PRICE'],axis=1)"
   ]
  },
  {
   "cell_type": "code",
   "execution_count": 15,
   "metadata": {},
   "outputs": [],
   "source": [
    "X_train, X_test, y_train, y_test = train_test_split(X, y, test_size=0.3,random_state=2021)"
   ]
  },
  {
   "cell_type": "code",
   "execution_count": 10,
   "metadata": {},
   "outputs": [],
   "source": [
    "scaled = ['BATHRM','HF_BATHRM','YR_RMDL','EYB','SALE_NUM','KITCHENS','FIREPLACES','LANDAREA','LATITUDE','LONGITUDE']\n",
    "onehot = ['HEAT','AC','STYLE','STRUCT','GRADE','CNDTN','EXTWALL','ROOF','INTWALL','ZIPCODE','ASSESSMENT_NBHD','WARD','QUADRANT']"
   ]
  },
  {
   "cell_type": "code",
   "execution_count": null,
   "metadata": {},
   "outputs": [],
   "source": []
  }
 ]
}